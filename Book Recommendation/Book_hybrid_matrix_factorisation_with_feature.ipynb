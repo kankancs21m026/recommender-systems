{
  "cells": [
    {
      "cell_type": "markdown",
      "source": [
        "### Deep cross network\n",
        "- https://arxiv.org/abs/1708.05123\n",
        "\n"
      ],
      "metadata": {
        "id": "osgRv2cAIJ--"
      },
      "id": "osgRv2cAIJ--"
    },
    {
      "cell_type": "code",
      "source": [
        "!pip install lightfm\n",
        "!pip install  recommenders\n",
        "\n"
      ],
      "metadata": {
        "id": "tR1g2JFfpUR2"
      },
      "id": "tR1g2JFfpUR2",
      "execution_count": null,
      "outputs": []
    },
    {
      "cell_type": "code",
      "execution_count": 368,
      "metadata": {
        "id": "5b97d650"
      },
      "outputs": [],
      "source": [
        "import warnings\n",
        "warnings.filterwarnings(\"ignore\")"
      ],
      "id": "5b97d650"
    },
    {
      "cell_type": "code",
      "execution_count": 369,
      "metadata": {
        "id": "519937e0"
      },
      "outputs": [],
      "source": [
        "from datetime import datetime\n",
        "import os\n",
        "import matplotlib\n",
        "import pandas as pd\n",
        "import numpy as np\n",
        "import matplotlib.pyplot as plt\n",
        "import seaborn as sns\n",
        "sns.set_style('whitegrid')\n",
        "\n",
        "from scipy import sparse\n",
        "from scipy.sparse import csc_matrix\n",
        "from sklearn.decomposition import TruncatedSVD\n",
        "import random\n",
        "random.seed(0)\n",
        "np.random.seed(0)"
      ],
      "id": "519937e0"
    },
    {
      "cell_type": "code",
      "source": [
        "\n",
        "import lightfm\n",
        "from lightfm import LightFM\n",
        "from lightfm.data import Dataset\n",
        "from lightfm import cross_validation\n",
        "\n",
        "# Import LightFM's evaluation metrics\n",
        "from lightfm.evaluation import precision_at_k as lightfm_prec_at_k\n",
        "from lightfm.evaluation import recall_at_k as lightfm_recall_at_k\n",
        "\n",
        "# Import repo's evaluation metrics\n",
        "from recommenders.evaluation.python_evaluation import precision_at_k, recall_at_k\n",
        "\n",
        "from recommenders.utils.timer import Timer\n",
        "from recommenders.datasets import movielens\n",
        "from recommenders.models.lightfm.lightfm_utils import (\n",
        "    track_model_metrics, prepare_test_df, prepare_all_predictions,\n",
        "    compare_metric, similar_users, similar_items)\n"
      ],
      "metadata": {
        "id": "rUtyd9zQpQXh"
      },
      "id": "rUtyd9zQpQXh",
      "execution_count": 370,
      "outputs": []
    },
    {
      "cell_type": "code",
      "source": [
        "SEED = 42\n",
        "np.random.seed(SEED)"
      ],
      "metadata": {
        "id": "4uHlr1BVBzzB"
      },
      "id": "4uHlr1BVBzzB",
      "execution_count": 371,
      "outputs": []
    },
    {
      "cell_type": "markdown",
      "metadata": {
        "id": "1ac47295"
      },
      "source": [
        "## Analyse Dataset"
      ],
      "id": "1ac47295"
    },
    {
      "cell_type": "markdown",
      "metadata": {
        "id": "474dfab9"
      },
      "source": [
        "### Book  Dataset\n",
        "https://www.kaggle.com/datasets/arashnic/book-recommendation-dataset\n"
      ],
      "id": "474dfab9"
    },
    {
      "cell_type": "code",
      "source": [
        "rating_df = pd.read_csv('Ratings.csv')\n",
        "users_df = pd.read_csv('Users.csv')\n",
        "book_df = pd.read_csv('Books.csv')"
      ],
      "metadata": {
        "id": "Myh7Cy6OTCk6"
      },
      "id": "Myh7Cy6OTCk6",
      "execution_count": 372,
      "outputs": []
    },
    {
      "cell_type": "code",
      "source": [
        "rating_df=pd.merge(rating_df,book_df,on=\"ISBN\",how=\"left\")\n",
        "rating_df=pd.merge(rating_df,users_df,on=\"User-ID\",how=\"left\")\n",
        "rating_df['Book-Rating'].hist()"
      ],
      "metadata": {
        "colab": {
          "base_uri": "https://localhost:8080/",
          "height": 282
        },
        "id": "ALZFKWWVTVu-",
        "outputId": "870815fb-2629-45c0-9315-fd25b7adb3b7"
      },
      "id": "ALZFKWWVTVu-",
      "execution_count": 373,
      "outputs": [
        {
          "output_type": "execute_result",
          "data": {
            "text/plain": [
              "<matplotlib.axes._subplots.AxesSubplot at 0x7fa814251450>"
            ]
          },
          "metadata": {},
          "execution_count": 373
        },
        {
          "output_type": "display_data",
          "data": {
            "text/plain": [
              "<Figure size 432x288 with 1 Axes>"
            ],
            "image/png": "[encoded data removed]"
          },
          "metadata": {}
        }
      ]
    },
    {
      "cell_type": "code",
      "source": [
        "rating_df.head(1)"
      ],
      "metadata": {
        "colab": {
          "base_uri": "https://localhost:8080/",
          "height": 214
        },
        "id": "GkoqV6BbqYM3",
        "outputId": "f0737958-94c9-4d93-8e51-be3b5606a418"
      },
      "id": "GkoqV6BbqYM3",
      "execution_count": 374,
      "outputs": [
        {
          "output_type": "execute_result",
          "data": {
            "text/plain": [
              "   User-ID        ISBN  Book-Rating            Book-Title Book-Author  \\\n",
              "0   276725  034545104X            0  Flesh Tones: A Novel  M. J. Rose   \n",
              "\n",
              "  Year-Of-Publication         Publisher  \\\n",
              "0                2002  Ballantine Books   \n",
              "\n",
              "                                         Image-URL-S  \\\n",
              "0  http://images.amazon.com/images/P/034545104X.0...   \n",
              "\n",
              "                                         Image-URL-M  \\\n",
              "0  http://images.amazon.com/images/P/034545104X.0...   \n",
              "\n",
              "                                         Image-URL-L           Location  Age  \n",
              "0  http://images.amazon.com/images/P/034545104X.0...  tyler, texas, usa  NaN  "
            ],
            "text/html": [
              "\n",
              "  <div id=\"df-3aa0d4bc-62af-4a20-9ab8-4385b0a26227\">\n",
              "    <div class=\"colab-df-container\">\n",
              "      <div>\n",
              "<style scoped>\n",
              "    .dataframe tbody tr th:only-of-type {\n",
              "        vertical-align: middle;\n",
              "    }\n",
              "\n",
              "    .dataframe tbody tr th {\n",
              "        vertical-align: top;\n",
              "    }\n",
              "\n",
              "    .dataframe thead th {\n",
              "        text-align: right;\n",
              "    }\n",
              "</style>\n",
              "<table border=\"1\" class=\"dataframe\">\n",
              "  <thead>\n",
              "    <tr style=\"text-align: right;\">\n",
              "      <th></th>\n",
              "      <th>User-ID</th>\n",
              "      <th>ISBN</th>\n",
              "      <th>Book-Rating</th>\n",
              "      <th>Book-Title</th>\n",
              "      <th>Book-Author</th>\n",
              "      <th>Year-Of-Publication</th>\n",
              "      <th>Publisher</th>\n",
              "      <th>Image-URL-S</th>\n",
              "      <th>Image-URL-M</th>\n",
              "      <th>Image-URL-L</th>\n",
              "      <th>Location</th>\n",
              "      <th>Age</th>\n",
              "    </tr>\n",
              "  </thead>\n",
              "  <tbody>\n",
              "    <tr>\n",
              "      <th>0</th>\n",
              "      <td>276725</td>\n",
              "      <td>034545104X</td>\n",
              "      <td>0</td>\n",
              "      <td>Flesh Tones: A Novel</td>\n",
              "      <td>M. J. Rose</td>\n",
              "      <td>2002</td>\n",
              "      <td>Ballantine Books</td>\n",
              "      <td>http://images.amazon.com/images/P/034545104X.0...</td>\n",
              "      <td>http://images.amazon.com/images/P/034545104X.0...</td>\n",
              "      <td>http://images.amazon.com/images/P/034545104X.0...</td>\n",
              "      <td>tyler, texas, usa</td>\n",
              "      <td>NaN</td>\n",
              "    </tr>\n",
              "  </tbody>\n",
              "</table>\n",
              "</div>\n",
              "      <button class=\"colab-df-convert\" onclick=\"convertToInteractive('df-3aa0d4bc-62af-4a20-9ab8-4385b0a26227')\"\n",
              "              title=\"Convert this dataframe to an interactive table.\"\n",
              "              style=\"display:none;\">\n",
              "        \n",
              "  <svg xmlns=\"http://www.w3.org/2000/svg\" height=\"24px\"viewBox=\"0 0 24 24\"\n",
              "       width=\"24px\">\n",
              "    <path d=\"M0 0h24v24H0V0z\" fill=\"none\"/>\n",
              "    <path d=\"M18.56 5.44l.94 2.06.94-2.06 2.06-.94-2.06-.94-.94-2.06-.94 2.06-2.06.94zm-11 1L8.5 8.5l.94-2.06 2.06-.94-2.06-.94L8.5 2.5l-.94 2.06-2.06.94zm10 10l.94 2.06.94-2.06 2.06-.94-2.06-.94-.94-2.06-.94 2.06-2.06.94z\"/><path d=\"M17.41 7.96l-1.37-1.37c-.4-.4-.92-.59-1.43-.59-.52 0-1.04.2-1.43.59L10.3 9.45l-7.72 7.72c-.78.78-.78 2.05 0 2.83L4 21.41c.39.39.9.59 1.41.59.51 0 1.02-.2 1.41-.59l7.78-7.78 2.81-2.81c.8-.78.8-2.07 0-2.86zM5.41 20L4 18.59l7.72-7.72 1.47 1.35L5.41 20z\"/>\n",
              "  </svg>\n",
              "      </button>\n",
              "      \n",
              "  <style>\n",
              "    .colab-df-container {\n",
              "      display:flex;\n",
              "      flex-wrap:wrap;\n",
              "      gap: 12px;\n",
              "    }\n",
              "\n",
              "    .colab-df-convert {\n",
              "      background-color: #E8F0FE;\n",
              "      border: none;\n",
              "      border-radius: 50%;\n",
              "      cursor: pointer;\n",
              "      display: none;\n",
              "      fill: #1967D2;\n",
              "      height: 32px;\n",
              "      padding: 0 0 0 0;\n",
              "      width: 32px;\n",
              "    }\n",
              "\n",
              "    .colab-df-convert:hover {\n",
              "      background-color: #E2EBFA;\n",
              "      box-shadow: 0px 1px 2px rgba(60, 64, 67, 0.3), 0px 1px 3px 1px rgba(60, 64, 67, 0.15);\n",
              "      fill: #174EA6;\n",
              "    }\n",
              "\n",
              "    [theme=dark] .colab-df-convert {\n",
              "      background-color: #3B4455;\n",
              "      fill: #D2E3FC;\n",
              "    }\n",
              "\n",
              "    [theme=dark] .colab-df-convert:hover {\n",
              "      background-color: #434B5C;\n",
              "      box-shadow: 0px 1px 3px 1px rgba(0, 0, 0, 0.15);\n",
              "      filter: drop-shadow(0px 1px 2px rgba(0, 0, 0, 0.3));\n",
              "      fill: #FFFFFF;\n",
              "    }\n",
              "  </style>\n",
              "\n",
              "      <script>\n",
              "        const buttonEl =\n",
              "          document.querySelector('#df-3aa0d4bc-62af-4a20-9ab8-4385b0a26227 button.colab-df-convert');\n",
              "        buttonEl.style.display =\n",
              "          google.colab.kernel.accessAllowed ? 'block' : 'none';\n",
              "\n",
              "        async function convertToInteractive(key) {\n",
              "          const element = document.querySelector('#df-3aa0d4bc-62af-4a20-9ab8-4385b0a26227');\n",
              "          const dataTable =\n",
              "            await google.colab.kernel.invokeFunction('convertToInteractive',\n",
              "                                                     [key], {});\n",
              "          if (!dataTable) return;\n",
              "\n",
              "          const docLinkHtml = 'Like what you see? Visit the ' +\n",
              "            '<a target=\"_blank\" href=https://colab.research.google.com/notebooks/data_table.ipynb>data table notebook</a>'\n",
              "            + ' to learn more about interactive tables.';\n",
              "          element.innerHTML = '';\n",
              "          dataTable['output_type'] = 'display_data';\n",
              "          await google.colab.output.renderOutput(dataTable, element);\n",
              "          const docLink = document.createElement('div');\n",
              "          docLink.innerHTML = docLinkHtml;\n",
              "          element.appendChild(docLink);\n",
              "        }\n",
              "      </script>\n",
              "    </div>\n",
              "  </div>\n",
              "  "
            ]
          },
          "metadata": {},
          "execution_count": 374
        }
      ]
    },
    {
      "cell_type": "code",
      "source": [
        "rating_df=rating_df[rating_df['Book-Rating']>2]"
      ],
      "metadata": {
        "id": "ursU6gQQThqI"
      },
      "id": "ursU6gQQThqI",
      "execution_count": 375,
      "outputs": []
    },
    {
      "cell_type": "code",
      "source": [
        "y = rating_df.groupby('Book-Title').count()['Book-Rating']>=30\n",
        "books = y[y].index"
      ],
      "metadata": {
        "id": "z_h2EvTEhcQ-"
      },
      "id": "z_h2EvTEhcQ-",
      "execution_count": 376,
      "outputs": []
    },
    {
      "cell_type": "code",
      "source": [
        "rating_df = rating_df[rating_df['Book-Title'].isin(books)]\n",
        "rating_df.shape"
      ],
      "metadata": {
        "colab": {
          "base_uri": "https://localhost:8080/"
        },
        "id": "dzWgbV5ahipm",
        "outputId": "10e360dd-37de-456b-98e1-746e8637aad8"
      },
      "id": "dzWgbV5ahipm",
      "execution_count": 377,
      "outputs": [
        {
          "output_type": "execute_result",
          "data": {
            "text/plain": [
              "(89113, 12)"
            ]
          },
          "metadata": {},
          "execution_count": 377
        }
      ]
    },
    {
      "cell_type": "code",
      "source": [
        "x = rating_df.groupby('User-ID').count()['Book-Rating'] >= 30\n",
        "userIndex = x[x].index\n",
        "rating_df=rating_df[rating_df['User-ID'].isin(userIndex)]"
      ],
      "metadata": {
        "id": "CuYYAiayUzx5"
      },
      "id": "CuYYAiayUzx5",
      "execution_count": 378,
      "outputs": []
    },
    {
      "cell_type": "code",
      "source": [
        "rating_df.rename(columns = {'User-ID':'userID', 'Book-Title':'itemID','Book-Rating':'rating'}, inplace = True)"
      ],
      "metadata": {
        "id": "4yTY5hHjTlki"
      },
      "id": "4yTY5hHjTlki",
      "execution_count": 379,
      "outputs": []
    },
    {
      "cell_type": "code",
      "source": [
        "rating_df.rename(columns = {'Book-Author':'author', 'Year-Of-Publication':'year','Publisher':'publisher','Age':'age'}, inplace = True)"
      ],
      "metadata": {
        "id": "SiQTDqNbqrjV"
      },
      "id": "SiQTDqNbqrjV",
      "execution_count": 380,
      "outputs": []
    },
    {
      "cell_type": "code",
      "source": [
        "final_ratings=rating_df"
      ],
      "metadata": {
        "id": "AKQMSRY8TlnL"
      },
      "id": "AKQMSRY8TlnL",
      "execution_count": 381,
      "outputs": []
    },
    {
      "cell_type": "code",
      "source": [
        "rating_df=rating_df[['userID','itemID','rating','author','age','publisher']]"
      ],
      "metadata": {
        "id": "9CEMHzoJqjxW"
      },
      "id": "9CEMHzoJqjxW",
      "execution_count": 382,
      "outputs": []
    },
    {
      "cell_type": "code",
      "source": [
        "rating_df.head(1)"
      ],
      "metadata": {
        "colab": {
          "base_uri": "https://localhost:8080/",
          "height": 81
        },
        "id": "QdGNT8dmrEil",
        "outputId": "3dcbe246-0c49-48dd-da7a-6915ec2b2417"
      },
      "id": "QdGNT8dmrEil",
      "execution_count": 383,
      "outputs": [
        {
          "output_type": "execute_result",
          "data": {
            "text/plain": [
              "       userID                        itemID  rating      author   age  \\\n",
              "20752    4017  The Death of Vishnu: A Novel      10  Manil Suri  48.0   \n",
              "\n",
              "       publisher  \n",
              "20752  Perennial  "
            ],
            "text/html": [
              "\n",
              "  <div id=\"df-874a4176-7182-4b32-8efe-57c1c6243c2d\">\n",
              "    <div class=\"colab-df-container\">\n",
              "      <div>\n",
              "<style scoped>\n",
              "    .dataframe tbody tr th:only-of-type {\n",
              "        vertical-align: middle;\n",
              "    }\n",
              "\n",
              "    .dataframe tbody tr th {\n",
              "        vertical-align: top;\n",
              "    }\n",
              "\n",
              "    .dataframe thead th {\n",
              "        text-align: right;\n",
              "    }\n",
              "</style>\n",
              "<table border=\"1\" class=\"dataframe\">\n",
              "  <thead>\n",
              "    <tr style=\"text-align: right;\">\n",
              "      <th></th>\n",
              "      <th>userID</th>\n",
              "      <th>itemID</th>\n",
              "      <th>rating</th>\n",
              "      <th>author</th>\n",
              "      <th>age</th>\n",
              "      <th>publisher</th>\n",
              "    </tr>\n",
              "  </thead>\n",
              "  <tbody>\n",
              "    <tr>\n",
              "      <th>20752</th>\n",
              "      <td>4017</td>\n",
              "      <td>The Death of Vishnu: A Novel</td>\n",
              "      <td>10</td>\n",
              "      <td>Manil Suri</td>\n",
              "      <td>48.0</td>\n",
              "      <td>Perennial</td>\n",
              "    </tr>\n",
              "  </tbody>\n",
              "</table>\n",
              "</div>\n",
              "      <button class=\"colab-df-convert\" onclick=\"convertToInteractive('df-874a4176-7182-4b32-8efe-57c1c6243c2d')\"\n",
              "              title=\"Convert this dataframe to an interactive table.\"\n",
              "              style=\"display:none;\">\n",
              "        \n",
              "  <svg xmlns=\"http://www.w3.org/2000/svg\" height=\"24px\"viewBox=\"0 0 24 24\"\n",
              "       width=\"24px\">\n",
              "    <path d=\"M0 0h24v24H0V0z\" fill=\"none\"/>\n",
              "    <path d=\"M18.56 5.44l.94 2.06.94-2.06 2.06-.94-2.06-.94-.94-2.06-.94 2.06-2.06.94zm-11 1L8.5 8.5l.94-2.06 2.06-.94-2.06-.94L8.5 2.5l-.94 2.06-2.06.94zm10 10l.94 2.06.94-2.06 2.06-.94-2.06-.94-.94-2.06-.94 2.06-2.06.94z\"/><path d=\"M17.41 7.96l-1.37-1.37c-.4-.4-.92-.59-1.43-.59-.52 0-1.04.2-1.43.59L10.3 9.45l-7.72 7.72c-.78.78-.78 2.05 0 2.83L4 21.41c.39.39.9.59 1.41.59.51 0 1.02-.2 1.41-.59l7.78-7.78 2.81-2.81c.8-.78.8-2.07 0-2.86zM5.41 20L4 18.59l7.72-7.72 1.47 1.35L5.41 20z\"/>\n",
              "  </svg>\n",
              "      </button>\n",
              "      \n",
              "  <style>\n",
              "    .colab-df-container {\n",
              "      display:flex;\n",
              "      flex-wrap:wrap;\n",
              "      gap: 12px;\n",
              "    }\n",
              "\n",
              "    .colab-df-convert {\n",
              "      background-color: #E8F0FE;\n",
              "      border: none;\n",
              "      border-radius: 50%;\n",
              "      cursor: pointer;\n",
              "      display: none;\n",
              "      fill: #1967D2;\n",
              "      height: 32px;\n",
              "      padding: 0 0 0 0;\n",
              "      width: 32px;\n",
              "    }\n",
              "\n",
              "    .colab-df-convert:hover {\n",
              "      background-color: #E2EBFA;\n",
              "      box-shadow: 0px 1px 2px rgba(60, 64, 67, 0.3), 0px 1px 3px 1px rgba(60, 64, 67, 0.15);\n",
              "      fill: #174EA6;\n",
              "    }\n",
              "\n",
              "    [theme=dark] .colab-df-convert {\n",
              "      background-color: #3B4455;\n",
              "      fill: #D2E3FC;\n",
              "    }\n",
              "\n",
              "    [theme=dark] .colab-df-convert:hover {\n",
              "      background-color: #434B5C;\n",
              "      box-shadow: 0px 1px 3px 1px rgba(0, 0, 0, 0.15);\n",
              "      filter: drop-shadow(0px 1px 2px rgba(0, 0, 0, 0.3));\n",
              "      fill: #FFFFFF;\n",
              "    }\n",
              "  </style>\n",
              "\n",
              "      <script>\n",
              "        const buttonEl =\n",
              "          document.querySelector('#df-874a4176-7182-4b32-8efe-57c1c6243c2d button.colab-df-convert');\n",
              "        buttonEl.style.display =\n",
              "          google.colab.kernel.accessAllowed ? 'block' : 'none';\n",
              "\n",
              "        async function convertToInteractive(key) {\n",
              "          const element = document.querySelector('#df-874a4176-7182-4b32-8efe-57c1c6243c2d');\n",
              "          const dataTable =\n",
              "            await google.colab.kernel.invokeFunction('convertToInteractive',\n",
              "                                                     [key], {});\n",
              "          if (!dataTable) return;\n",
              "\n",
              "          const docLinkHtml = 'Like what you see? Visit the ' +\n",
              "            '<a target=\"_blank\" href=https://colab.research.google.com/notebooks/data_table.ipynb>data table notebook</a>'\n",
              "            + ' to learn more about interactive tables.';\n",
              "          element.innerHTML = '';\n",
              "          dataTable['output_type'] = 'display_data';\n",
              "          await google.colab.output.renderOutput(dataTable, element);\n",
              "          const docLink = document.createElement('div');\n",
              "          docLink.innerHTML = docLinkHtml;\n",
              "          element.appendChild(docLink);\n",
              "        }\n",
              "      </script>\n",
              "    </div>\n",
              "  </div>\n",
              "  "
            ]
          },
          "metadata": {},
          "execution_count": 383
        }
      ]
    },
    {
      "cell_type": "markdown",
      "source": [
        "### Prepare train test set"
      ],
      "metadata": {
        "id": "MQKR4CpoViU3"
      },
      "id": "MQKR4CpoViU3"
    },
    {
      "cell_type": "code",
      "source": [
        "authors =list( rating_df['author'])"
      ],
      "metadata": {
        "id": "jauMAb8TE2tS"
      },
      "id": "jauMAb8TE2tS",
      "execution_count": 384,
      "outputs": []
    },
    {
      "cell_type": "code",
      "source": [
        "authors=iter(authors)"
      ],
      "metadata": {
        "id": "Ak7WtBkBJPsV"
      },
      "id": "Ak7WtBkBJPsV",
      "execution_count": 385,
      "outputs": []
    },
    {
      "cell_type": "code",
      "source": [
        "dataset = Dataset()"
      ],
      "metadata": {
        "id": "veyagHftDxv4"
      },
      "id": "veyagHftDxv4",
      "execution_count": 386,
      "outputs": []
    },
    {
      "cell_type": "code",
      "source": [
        "dataset.fit(users=rating_df['userID'], \n",
        "            items=rating_df['itemID'],\n",
        "             item_features=authors)\n",
        "\n",
        "# quick check to determine the number of unique users and items in the data\n",
        "num_users, num_items = dataset.interactions_shape()\n",
        "print(f'Num users: {num_users}, num_items: {num_items}.')"
      ],
      "metadata": {
        "colab": {
          "base_uri": "https://localhost:8080/"
        },
        "id": "wBH9NHUuD2w6",
        "outputId": "cb81285f-e2c7-49f5-f763-6214d5f97a15"
      },
      "id": "wBH9NHUuD2w6",
      "execution_count": 387,
      "outputs": [
        {
          "output_type": "stream",
          "name": "stdout",
          "text": [
            "Num users: 308, num_items: 1302.\n"
          ]
        }
      ]
    },
    {
      "cell_type": "code",
      "source": [
        "item_features = dataset.build_item_features((x, y) for x,y in zip(rating_df.itemID,authors))\n"
      ],
      "metadata": {
        "id": "JxLgPFZyF8V_"
      },
      "id": "JxLgPFZyF8V_",
      "execution_count": 388,
      "outputs": []
    },
    {
      "cell_type": "markdown",
      "source": [
        "### Light FM"
      ],
      "metadata": {
        "id": "ZS7bvTofUNU1"
      },
      "id": "ZS7bvTofUNU1"
    },
    {
      "cell_type": "code",
      "source": [
        "#  TOP K \n",
        "K = 10\n",
        "# model learning rate\n",
        "LR = 0.25\n",
        "# no of latent factors\n",
        "NO_COMPONENTS = 20\n",
        "\n",
        "#epochs\n",
        "EPOCHS=30\n",
        "# no of threads to fit model\n",
        "THREADS = 32\n",
        "# regularisation for both user and item features\n",
        "ITEM_ALPHA = 1e-6\n",
        "USER_ALPHA = 1e-6\n"
      ],
      "metadata": {
        "id": "JLXQuVfQDARg"
      },
      "id": "JLXQuVfQDARg",
      "execution_count": 389,
      "outputs": []
    },
    {
      "cell_type": "code",
      "source": [
        "interactions, weights = dataset.build_interactions(rating_df.iloc[:, 0:3].values)\n",
        "\n",
        "train_interactions, test_interactions = cross_validation.random_train_test_split(\n",
        "    interactions, test_percentage=.2,\n",
        "    random_state=np.random.RandomState(SEED))"
      ],
      "metadata": {
        "id": "UIFmNa9KJYY8"
      },
      "id": "UIFmNa9KJYY8",
      "execution_count": 390,
      "outputs": []
    },
    {
      "cell_type": "code",
      "source": [
        "model = LightFM(loss='warp', no_components=NO_COMPONENTS, \n",
        "                 learning_rate=LR, \n",
        "                 item_alpha=ITEM_ALPHA,\n",
        "                 user_alpha=USER_ALPHA,\n",
        "                 random_state=np.random.RandomState(SEED)\n",
        "                )"
      ],
      "metadata": {
        "id": "sCKavgxIJsNr"
      },
      "id": "sCKavgxIJsNr",
      "execution_count": 391,
      "outputs": []
    },
    {
      "cell_type": "code",
      "source": [
        "model.fit(interactions=train_interactions,\n",
        "           item_features=item_features,\n",
        "           epochs=EPOCHS\n",
        "           )"
      ],
      "metadata": {
        "colab": {
          "base_uri": "https://localhost:8080/"
        },
        "id": "GefSjDe8JzUD",
        "outputId": "0b6ecb15-1d77-4df1-99d1-11c2dadc77dd"
      },
      "id": "GefSjDe8JzUD",
      "execution_count": 392,
      "outputs": [
        {
          "output_type": "execute_result",
          "data": {
            "text/plain": [
              "<lightfm.lightfm.LightFM at 0x7fa8276e3350>"
            ]
          },
          "metadata": {},
          "execution_count": 392
        }
      ]
    },
    {
      "cell_type": "markdown",
      "source": [
        "### Model evaluation"
      ],
      "metadata": {
        "id": "fTTLYdRnKNLl"
      },
      "id": "fTTLYdRnKNLl"
    },
    {
      "cell_type": "code",
      "source": [
        "\n",
        "uid_map, ufeature_map, iid_map, ifeature_map = dataset.mapping()"
      ],
      "metadata": {
        "id": "m_Q0dSJqKMzD"
      },
      "id": "m_Q0dSJqKMzD",
      "execution_count": 393,
      "outputs": []
    },
    {
      "cell_type": "code",
      "source": [
        "with Timer() as test_time:\n",
        "    all_predictions = prepare_all_predictions(rating_df, uid_map, iid_map, \n",
        "                                              interactions=train_interactions,\n",
        "                                              model=model, \n",
        "                                              num_threads=THREADS)\n",
        "print(f\"Took {test_time.interval:.1f} seconds for prepare and predict all data.\")\n",
        "time_reco2 = test_time.interval"
      ],
      "metadata": {
        "colab": {
          "base_uri": "https://localhost:8080/"
        },
        "id": "xGI32nhbKV3i",
        "outputId": "34be6c81-b247-4aca-8053-e871c27e63a2"
      },
      "id": "xGI32nhbKV3i",
      "execution_count": 394,
      "outputs": [
        {
          "output_type": "stream",
          "name": "stdout",
          "text": [
            "Took 305.1 seconds for prepare and predict all data.\n"
          ]
        }
      ]
    },
    {
      "cell_type": "code",
      "source": [
        "all_predictions.sample(5, random_state=SEED)\n"
      ],
      "metadata": {
        "colab": {
          "base_uri": "https://localhost:8080/",
          "height": 206
        },
        "id": "i60O20vuOG6Q",
        "outputId": "655cf0be-b50b-4d9b-e7d0-106b5b003e47"
      },
      "id": "i60O20vuOG6Q",
      "execution_count": 395,
      "outputs": [
        {
          "output_type": "execute_result",
          "data": {
            "text/plain": [
              "        userID                       itemID  prediction\n",
              "257043  180651  Island of the Blue Dolphins   -8.547554\n",
              "68413    46909          Nora, Nora: A Novel   97.904938\n",
              "30157    23902         The Cradle Will Fall  -32.385571\n",
              "364076  258534                    Void Moon  -22.675274\n",
              "188480  130571                  Rose Madder  -14.254563"
            ],
            "text/html": [
              "\n",
              "  <div id=\"df-d704cdc9-fc83-489b-9562-fe21c5c8a411\">\n",
              "    <div class=\"colab-df-container\">\n",
              "      <div>\n",
              "<style scoped>\n",
              "    .dataframe tbody tr th:only-of-type {\n",
              "        vertical-align: middle;\n",
              "    }\n",
              "\n",
              "    .dataframe tbody tr th {\n",
              "        vertical-align: top;\n",
              "    }\n",
              "\n",
              "    .dataframe thead th {\n",
              "        text-align: right;\n",
              "    }\n",
              "</style>\n",
              "<table border=\"1\" class=\"dataframe\">\n",
              "  <thead>\n",
              "    <tr style=\"text-align: right;\">\n",
              "      <th></th>\n",
              "      <th>userID</th>\n",
              "      <th>itemID</th>\n",
              "      <th>prediction</th>\n",
              "    </tr>\n",
              "  </thead>\n",
              "  <tbody>\n",
              "    <tr>\n",
              "      <th>257043</th>\n",
              "      <td>180651</td>\n",
              "      <td>Island of the Blue Dolphins</td>\n",
              "      <td>-8.547554</td>\n",
              "    </tr>\n",
              "    <tr>\n",
              "      <th>68413</th>\n",
              "      <td>46909</td>\n",
              "      <td>Nora, Nora: A Novel</td>\n",
              "      <td>97.904938</td>\n",
              "    </tr>\n",
              "    <tr>\n",
              "      <th>30157</th>\n",
              "      <td>23902</td>\n",
              "      <td>The Cradle Will Fall</td>\n",
              "      <td>-32.385571</td>\n",
              "    </tr>\n",
              "    <tr>\n",
              "      <th>364076</th>\n",
              "      <td>258534</td>\n",
              "      <td>Void Moon</td>\n",
              "      <td>-22.675274</td>\n",
              "    </tr>\n",
              "    <tr>\n",
              "      <th>188480</th>\n",
              "      <td>130571</td>\n",
              "      <td>Rose Madder</td>\n",
              "      <td>-14.254563</td>\n",
              "    </tr>\n",
              "  </tbody>\n",
              "</table>\n",
              "</div>\n",
              "      <button class=\"colab-df-convert\" onclick=\"convertToInteractive('df-d704cdc9-fc83-489b-9562-fe21c5c8a411')\"\n",
              "              title=\"Convert this dataframe to an interactive table.\"\n",
              "              style=\"display:none;\">\n",
              "        \n",
              "  <svg xmlns=\"http://www.w3.org/2000/svg\" height=\"24px\"viewBox=\"0 0 24 24\"\n",
              "       width=\"24px\">\n",
              "    <path d=\"M0 0h24v24H0V0z\" fill=\"none\"/>\n",
              "    <path d=\"M18.56 5.44l.94 2.06.94-2.06 2.06-.94-2.06-.94-.94-2.06-.94 2.06-2.06.94zm-11 1L8.5 8.5l.94-2.06 2.06-.94-2.06-.94L8.5 2.5l-.94 2.06-2.06.94zm10 10l.94 2.06.94-2.06 2.06-.94-2.06-.94-.94-2.06-.94 2.06-2.06.94z\"/><path d=\"M17.41 7.96l-1.37-1.37c-.4-.4-.92-.59-1.43-.59-.52 0-1.04.2-1.43.59L10.3 9.45l-7.72 7.72c-.78.78-.78 2.05 0 2.83L4 21.41c.39.39.9.59 1.41.59.51 0 1.02-.2 1.41-.59l7.78-7.78 2.81-2.81c.8-.78.8-2.07 0-2.86zM5.41 20L4 18.59l7.72-7.72 1.47 1.35L5.41 20z\"/>\n",
              "  </svg>\n",
              "      </button>\n",
              "      \n",
              "  <style>\n",
              "    .colab-df-container {\n",
              "      display:flex;\n",
              "      flex-wrap:wrap;\n",
              "      gap: 12px;\n",
              "    }\n",
              "\n",
              "    .colab-df-convert {\n",
              "      background-color: #E8F0FE;\n",
              "      border: none;\n",
              "      border-radius: 50%;\n",
              "      cursor: pointer;\n",
              "      display: none;\n",
              "      fill: #1967D2;\n",
              "      height: 32px;\n",
              "      padding: 0 0 0 0;\n",
              "      width: 32px;\n",
              "    }\n",
              "\n",
              "    .colab-df-convert:hover {\n",
              "      background-color: #E2EBFA;\n",
              "      box-shadow: 0px 1px 2px rgba(60, 64, 67, 0.3), 0px 1px 3px 1px rgba(60, 64, 67, 0.15);\n",
              "      fill: #174EA6;\n",
              "    }\n",
              "\n",
              "    [theme=dark] .colab-df-convert {\n",
              "      background-color: #3B4455;\n",
              "      fill: #D2E3FC;\n",
              "    }\n",
              "\n",
              "    [theme=dark] .colab-df-convert:hover {\n",
              "      background-color: #434B5C;\n",
              "      box-shadow: 0px 1px 3px 1px rgba(0, 0, 0, 0.15);\n",
              "      filter: drop-shadow(0px 1px 2px rgba(0, 0, 0, 0.3));\n",
              "      fill: #FFFFFF;\n",
              "    }\n",
              "  </style>\n",
              "\n",
              "      <script>\n",
              "        const buttonEl =\n",
              "          document.querySelector('#df-d704cdc9-fc83-489b-9562-fe21c5c8a411 button.colab-df-convert');\n",
              "        buttonEl.style.display =\n",
              "          google.colab.kernel.accessAllowed ? 'block' : 'none';\n",
              "\n",
              "        async function convertToInteractive(key) {\n",
              "          const element = document.querySelector('#df-d704cdc9-fc83-489b-9562-fe21c5c8a411');\n",
              "          const dataTable =\n",
              "            await google.colab.kernel.invokeFunction('convertToInteractive',\n",
              "                                                     [key], {});\n",
              "          if (!dataTable) return;\n",
              "\n",
              "          const docLinkHtml = 'Like what you see? Visit the ' +\n",
              "            '<a target=\"_blank\" href=https://colab.research.google.com/notebooks/data_table.ipynb>data table notebook</a>'\n",
              "            + ' to learn more about interactive tables.';\n",
              "          element.innerHTML = '';\n",
              "          dataTable['output_type'] = 'display_data';\n",
              "          await google.colab.output.renderOutput(dataTable, element);\n",
              "          const docLink = document.createElement('div');\n",
              "          docLink.innerHTML = docLinkHtml;\n",
              "          element.appendChild(docLink);\n",
              "        }\n",
              "      </script>\n",
              "    </div>\n",
              "  </div>\n",
              "  "
            ]
          },
          "metadata": {},
          "execution_count": 395
        }
      ]
    },
    {
      "cell_type": "markdown",
      "source": [
        "### Model Evaluation"
      ],
      "metadata": {
        "id": "voXrUtXoOOqO"
      },
      "id": "voXrUtXoOOqO"
    },
    {
      "cell_type": "code",
      "source": [
        "\n",
        "from lightfm import cross_validation\n",
        "# Import LightFM's evaluation metrics\n",
        "from lightfm.evaluation import precision_at_k \n",
        "from lightfm.evaluation import recall_at_k "
      ],
      "metadata": {
        "id": "JuVn1pFTP7x4"
      },
      "id": "JuVn1pFTP7x4",
      "execution_count": 396,
      "outputs": []
    },
    {
      "cell_type": "code",
      "source": [
        "print(\"Train precision: %.2f\" % precision_at_k(model, train_interactions, k=15,item_features=item_features).mean())\n",
        "print(\"Test precision: %.2f\" % precision_at_k(model, test_interactions, k=15,item_features=item_features).mean())"
      ],
      "metadata": {
        "colab": {
          "base_uri": "https://localhost:8080/"
        },
        "id": "G6eMreoMOOFA",
        "outputId": "b53d776a-ec5e-4043-918f-92406007bba9"
      },
      "id": "G6eMreoMOOFA",
      "execution_count": 399,
      "outputs": [
        {
          "output_type": "stream",
          "name": "stdout",
          "text": [
            "Train precision: 0.20\n",
            "Test precision: 0.02\n"
          ]
        }
      ]
    },
    {
      "cell_type": "code",
      "source": [
        "print(\"Train recall: %.2f\" % recall_at_k(model, train_interactions, k=15,item_features=item_features).mean())\n",
        "print(\"Test recall: %.2f\" % recall_at_k(model, test_interactions, k=15,item_features=item_features).mean())"
      ],
      "metadata": {
        "colab": {
          "base_uri": "https://localhost:8080/"
        },
        "id": "CXte7JVaZ4tf",
        "outputId": "abb75548-9d9b-4234-db30-82e3c8a6b5cd"
      },
      "id": "CXte7JVaZ4tf",
      "execution_count": 400,
      "outputs": [
        {
          "output_type": "stream",
          "name": "stdout",
          "text": [
            "Train recall: 0.08\n",
            "Test recall: 0.03\n"
          ]
        }
      ]
    },
    {
      "cell_type": "code",
      "source": [
        "output1, _ = track_model_metrics(model=model, \n",
        "                                 train_interactions=train_interactions, \n",
        "                                 test_interactions=test_interactions, \n",
        "                                 k=15,\n",
        "                                 item_features=item_features,\n",
        "                                 no_epochs=EPOCHS, \n",
        "                                 no_threads=THREADS)"
      ],
      "metadata": {
        "colab": {
          "base_uri": "https://localhost:8080/",
          "height": 225
        },
        "id": "CR6BhyUMaTzG",
        "outputId": "bc2e06ce-5536-4a4d-bae6-5d45052070de"
      },
      "id": "CR6BhyUMaTzG",
      "execution_count": 403,
      "outputs": [
        {
          "output_type": "display_data",
          "data": {
            "text/plain": [
              "<Figure size 491.375x216 with 2 Axes>"
            ],
            "image/png": "[encoded data removed]"
          },
          "metadata": {}
        }
      ]
    },
    {
      "cell_type": "markdown",
      "source": [
        "###  Retrieve the top N similar items"
      ],
      "metadata": {
        "id": "xGI2ett4axt-"
      },
      "id": "xGI2ett4axt-"
    },
    {
      "cell_type": "code",
      "source": [
        "_, item_embeddings = model.get_item_representations(features=item_features)\n",
        "similar_items(item_id=10, \n",
        "              item_features=item_features, \n",
        "              model=model)"
      ],
      "metadata": {
        "colab": {
          "base_uri": "https://localhost:8080/",
          "height": 363
        },
        "id": "ktCeLZ83amnm",
        "outputId": "7eab8a0a-eaff-45e2-eff9-d0621524af2b"
      },
      "id": "ktCeLZ83amnm",
      "execution_count": 407,
      "outputs": [
        {
          "output_type": "execute_result",
          "data": {
            "text/plain": [
              "   itemID     score\n",
              "0     443  0.693115\n",
              "1     239  0.685729\n",
              "2    1227  0.668719\n",
              "3    1213  0.650342\n",
              "4     940  0.622153\n",
              "5      28  0.611824\n",
              "6    1267  0.594420\n",
              "7       8  0.575623\n",
              "8     343  0.564984\n",
              "9     243  0.559205"
            ],
            "text/html": [
              "\n",
              "  <div id=\"df-a2933a29-deda-477d-a93e-02b7f518c8ae\">\n",
              "    <div class=\"colab-df-container\">\n",
              "      <div>\n",
              "<style scoped>\n",
              "    .dataframe tbody tr th:only-of-type {\n",
              "        vertical-align: middle;\n",
              "    }\n",
              "\n",
              "    .dataframe tbody tr th {\n",
              "        vertical-align: top;\n",
              "    }\n",
              "\n",
              "    .dataframe thead th {\n",
              "        text-align: right;\n",
              "    }\n",
              "</style>\n",
              "<table border=\"1\" class=\"dataframe\">\n",
              "  <thead>\n",
              "    <tr style=\"text-align: right;\">\n",
              "      <th></th>\n",
              "      <th>itemID</th>\n",
              "      <th>score</th>\n",
              "    </tr>\n",
              "  </thead>\n",
              "  <tbody>\n",
              "    <tr>\n",
              "      <th>0</th>\n",
              "      <td>443</td>\n",
              "      <td>0.693115</td>\n",
              "    </tr>\n",
              "    <tr>\n",
              "      <th>1</th>\n",
              "      <td>239</td>\n",
              "      <td>0.685729</td>\n",
              "    </tr>\n",
              "    <tr>\n",
              "      <th>2</th>\n",
              "      <td>1227</td>\n",
              "      <td>0.668719</td>\n",
              "    </tr>\n",
              "    <tr>\n",
              "      <th>3</th>\n",
              "      <td>1213</td>\n",
              "      <td>0.650342</td>\n",
              "    </tr>\n",
              "    <tr>\n",
              "      <th>4</th>\n",
              "      <td>940</td>\n",
              "      <td>0.622153</td>\n",
              "    </tr>\n",
              "    <tr>\n",
              "      <th>5</th>\n",
              "      <td>28</td>\n",
              "      <td>0.611824</td>\n",
              "    </tr>\n",
              "    <tr>\n",
              "      <th>6</th>\n",
              "      <td>1267</td>\n",
              "      <td>0.594420</td>\n",
              "    </tr>\n",
              "    <tr>\n",
              "      <th>7</th>\n",
              "      <td>8</td>\n",
              "      <td>0.575623</td>\n",
              "    </tr>\n",
              "    <tr>\n",
              "      <th>8</th>\n",
              "      <td>343</td>\n",
              "      <td>0.564984</td>\n",
              "    </tr>\n",
              "    <tr>\n",
              "      <th>9</th>\n",
              "      <td>243</td>\n",
              "      <td>0.559205</td>\n",
              "    </tr>\n",
              "  </tbody>\n",
              "</table>\n",
              "</div>\n",
              "      <button class=\"colab-df-convert\" onclick=\"convertToInteractive('df-a2933a29-deda-477d-a93e-02b7f518c8ae')\"\n",
              "              title=\"Convert this dataframe to an interactive table.\"\n",
              "              style=\"display:none;\">\n",
              "        \n",
              "  <svg xmlns=\"http://www.w3.org/2000/svg\" height=\"24px\"viewBox=\"0 0 24 24\"\n",
              "       width=\"24px\">\n",
              "    <path d=\"M0 0h24v24H0V0z\" fill=\"none\"/>\n",
              "    <path d=\"M18.56 5.44l.94 2.06.94-2.06 2.06-.94-2.06-.94-.94-2.06-.94 2.06-2.06.94zm-11 1L8.5 8.5l.94-2.06 2.06-.94-2.06-.94L8.5 2.5l-.94 2.06-2.06.94zm10 10l.94 2.06.94-2.06 2.06-.94-2.06-.94-.94-2.06-.94 2.06-2.06.94z\"/><path d=\"M17.41 7.96l-1.37-1.37c-.4-.4-.92-.59-1.43-.59-.52 0-1.04.2-1.43.59L10.3 9.45l-7.72 7.72c-.78.78-.78 2.05 0 2.83L4 21.41c.39.39.9.59 1.41.59.51 0 1.02-.2 1.41-.59l7.78-7.78 2.81-2.81c.8-.78.8-2.07 0-2.86zM5.41 20L4 18.59l7.72-7.72 1.47 1.35L5.41 20z\"/>\n",
              "  </svg>\n",
              "      </button>\n",
              "      \n",
              "  <style>\n",
              "    .colab-df-container {\n",
              "      display:flex;\n",
              "      flex-wrap:wrap;\n",
              "      gap: 12px;\n",
              "    }\n",
              "\n",
              "    .colab-df-convert {\n",
              "      background-color: #E8F0FE;\n",
              "      border: none;\n",
              "      border-radius: 50%;\n",
              "      cursor: pointer;\n",
              "      display: none;\n",
              "      fill: #1967D2;\n",
              "      height: 32px;\n",
              "      padding: 0 0 0 0;\n",
              "      width: 32px;\n",
              "    }\n",
              "\n",
              "    .colab-df-convert:hover {\n",
              "      background-color: #E2EBFA;\n",
              "      box-shadow: 0px 1px 2px rgba(60, 64, 67, 0.3), 0px 1px 3px 1px rgba(60, 64, 67, 0.15);\n",
              "      fill: #174EA6;\n",
              "    }\n",
              "\n",
              "    [theme=dark] .colab-df-convert {\n",
              "      background-color: #3B4455;\n",
              "      fill: #D2E3FC;\n",
              "    }\n",
              "\n",
              "    [theme=dark] .colab-df-convert:hover {\n",
              "      background-color: #434B5C;\n",
              "      box-shadow: 0px 1px 3px 1px rgba(0, 0, 0, 0.15);\n",
              "      filter: drop-shadow(0px 1px 2px rgba(0, 0, 0, 0.3));\n",
              "      fill: #FFFFFF;\n",
              "    }\n",
              "  </style>\n",
              "\n",
              "      <script>\n",
              "        const buttonEl =\n",
              "          document.querySelector('#df-a2933a29-deda-477d-a93e-02b7f518c8ae button.colab-df-convert');\n",
              "        buttonEl.style.display =\n",
              "          google.colab.kernel.accessAllowed ? 'block' : 'none';\n",
              "\n",
              "        async function convertToInteractive(key) {\n",
              "          const element = document.querySelector('#df-a2933a29-deda-477d-a93e-02b7f518c8ae');\n",
              "          const dataTable =\n",
              "            await google.colab.kernel.invokeFunction('convertToInteractive',\n",
              "                                                     [key], {});\n",
              "          if (!dataTable) return;\n",
              "\n",
              "          const docLinkHtml = 'Like what you see? Visit the ' +\n",
              "            '<a target=\"_blank\" href=https://colab.research.google.com/notebooks/data_table.ipynb>data table notebook</a>'\n",
              "            + ' to learn more about interactive tables.';\n",
              "          element.innerHTML = '';\n",
              "          dataTable['output_type'] = 'display_data';\n",
              "          await google.colab.output.renderOutput(dataTable, element);\n",
              "          const docLink = document.createElement('div');\n",
              "          docLink.innerHTML = docLinkHtml;\n",
              "          element.appendChild(docLink);\n",
              "        }\n",
              "      </script>\n",
              "    </div>\n",
              "  </div>\n",
              "  "
            ]
          },
          "metadata": {},
          "execution_count": 407
        }
      ]
    }
  ],
  "metadata": {
    "accelerator": "GPU",
    "colab": {
      "collapsed_sections": [],
      "name": "Book_hybrid matrix factorisation with feature.ipynb",
      "provenance": [],
      "machine_shape": "hm"
    },
    "gpuClass": "standard",
    "kernelspec": {
      "display_name": "Python 3",
      "language": "python",
      "name": "python3"
    },
    "language_info": {
      "codemirror_mode": {
        "name": "ipython",
        "version": 3
      },
      "file_extension": ".py",
      "mimetype": "text/x-python",
      "name": "python",
      "nbconvert_exporter": "python",
      "pygments_lexer": "ipython3",
      "version": "3.6.5"
    }
  },
  "nbformat": 4,
  "nbformat_minor": 5
}
{
  "cells": [
    {
      "cell_type": "code",
      "execution_count": 257,
      "metadata": {
        "id": "5b97d650"
      },
      "outputs": [],
      "source": [
        "import warnings\n",
        "warnings.filterwarnings(\"ignore\")"
      ],
      "id": "5b97d650"
    },
    {
      "cell_type": "code",
      "execution_count": 258,
      "metadata": {
        "id": "519937e0"
      },
      "outputs": [],
      "source": [
        "from datetime import datetime\n",
        "import os\n",
        "import matplotlib\n",
        "import pandas as pd\n",
        "import numpy as np\n",
        "import matplotlib.pyplot as plt\n",
        "import seaborn as sns\n",
        "sns.set_style('whitegrid')\n",
        "\n",
        "from scipy import sparse\n",
        "from scipy.sparse import csc_matrix\n",
        "from sklearn.decomposition import TruncatedSVD\n",
        "import random\n",
        "random.seed(0)\n",
        "np.random.seed(0)"
      ],
      "id": "519937e0"
    },
    {
      "cell_type": "markdown",
      "metadata": {
        "id": "1ac47295"
      },
      "source": [
        "## Analyse Dataset"
      ],
      "id": "1ac47295"
    },
    {
      "cell_type": "markdown",
      "metadata": {
        "id": "474dfab9"
      },
      "source": [
        "### Book  Dataset\n",
        "https://www.kaggle.com/datasets/arashnic/book-recommendation-dataset\n"
      ],
      "id": "474dfab9"
    },
    {
      "cell_type": "markdown",
      "metadata": {
        "id": "S3xZff9jLQs0"
      },
      "source": [
        "#### Consider movies rated by more than 200 users"
      ],
      "id": "S3xZff9jLQs0"
    },
    {
      "cell_type": "code",
      "execution_count": 259,
      "metadata": {
        "id": "b5ed96c4"
      },
      "outputs": [],
      "source": [
        "rating_df = pd.read_csv('Ratings.csv')\n",
        "book_df = pd.read_csv('Books.csv')"
      ],
      "id": "b5ed96c4"
    },
    {
      "cell_type": "code",
      "execution_count": 260,
      "metadata": {
        "colab": {
          "base_uri": "https://localhost:8080/",
          "height": 206
        },
        "id": "aa02951d",
        "outputId": "40a2065e-da43-4c99-964b-48c1e7de9a78"
      },
      "outputs": [
        {
          "output_type": "execute_result",
          "data": {
            "text/plain": [
              "   User-ID                            Location   Age\n",
              "0        1                  nyc, new york, usa   NaN\n",
              "1        2           stockton, california, usa  18.0\n",
              "2        3     moscow, yukon territory, russia   NaN\n",
              "3        4           porto, v.n.gaia, portugal  17.0\n",
              "4        5  farnborough, hants, united kingdom   NaN"
            ],
            "text/html": [
              "\n",
              "  <div id=\"df-e3bbb424-8678-401f-993a-481d07bd9ff6\">\n",
              "    <div class=\"colab-df-container\">\n",
              "      <div>\n",
              "<style scoped>\n",
              "    .dataframe tbody tr th:only-of-type {\n",
              "        vertical-align: middle;\n",
              "    }\n",
              "\n",
              "    .dataframe tbody tr th {\n",
              "        vertical-align: top;\n",
              "    }\n",
              "\n",
              "    .dataframe thead th {\n",
              "        text-align: right;\n",
              "    }\n",
              "</style>\n",
              "<table border=\"1\" class=\"dataframe\">\n",
              "  <thead>\n",
              "    <tr style=\"text-align: right;\">\n",
              "      <th></th>\n",
              "      <th>User-ID</th>\n",
              "      <th>Location</th>\n",
              "      <th>Age</th>\n",
              "    </tr>\n",
              "  </thead>\n",
              "  <tbody>\n",
              "    <tr>\n",
              "      <th>0</th>\n",
              "      <td>1</td>\n",
              "      <td>nyc, new york, usa</td>\n",
              "      <td>NaN</td>\n",
              "    </tr>\n",
              "    <tr>\n",
              "      <th>1</th>\n",
              "      <td>2</td>\n",
              "      <td>stockton, california, usa</td>\n",
              "      <td>18.0</td>\n",
              "    </tr>\n",
              "    <tr>\n",
              "      <th>2</th>\n",
              "      <td>3</td>\n",
              "      <td>moscow, yukon territory, russia</td>\n",
              "      <td>NaN</td>\n",
              "    </tr>\n",
              "    <tr>\n",
              "      <th>3</th>\n",
              "      <td>4</td>\n",
              "      <td>porto, v.n.gaia, portugal</td>\n",
              "      <td>17.0</td>\n",
              "    </tr>\n",
              "    <tr>\n",
              "      <th>4</th>\n",
              "      <td>5</td>\n",
              "      <td>farnborough, hants, united kingdom</td>\n",
              "      <td>NaN</td>\n",
              "    </tr>\n",
              "  </tbody>\n",
              "</table>\n",
              "</div>\n",
              "      <button class=\"colab-df-convert\" onclick=\"convertToInteractive('df-e3bbb424-8678-401f-993a-481d07bd9ff6')\"\n",
              "              title=\"Convert this dataframe to an interactive table.\"\n",
              "              style=\"display:none;\">\n",
              "        \n",
              "  <svg xmlns=\"http://www.w3.org/2000/svg\" height=\"24px\"viewBox=\"0 0 24 24\"\n",
              "       width=\"24px\">\n",
              "    <path d=\"M0 0h24v24H0V0z\" fill=\"none\"/>\n",
              "    <path d=\"M18.56 5.44l.94 2.06.94-2.06 2.06-.94-2.06-.94-.94-2.06-.94 2.06-2.06.94zm-11 1L8.5 8.5l.94-2.06 2.06-.94-2.06-.94L8.5 2.5l-.94 2.06-2.06.94zm10 10l.94 2.06.94-2.06 2.06-.94-2.06-.94-.94-2.06-.94 2.06-2.06.94z\"/><path d=\"M17.41 7.96l-1.37-1.37c-.4-.4-.92-.59-1.43-.59-.52 0-1.04.2-1.43.59L10.3 9.45l-7.72 7.72c-.78.78-.78 2.05 0 2.83L4 21.41c.39.39.9.59 1.41.59.51 0 1.02-.2 1.41-.59l7.78-7.78 2.81-2.81c.8-.78.8-2.07 0-2.86zM5.41 20L4 18.59l7.72-7.72 1.47 1.35L5.41 20z\"/>\n",
              "  </svg>\n",
              "      </button>\n",
              "      \n",
              "  <style>\n",
              "    .colab-df-container {\n",
              "      display:flex;\n",
              "      flex-wrap:wrap;\n",
              "      gap: 12px;\n",
              "    }\n",
              "\n",
              "    .colab-df-convert {\n",
              "      background-color: #E8F0FE;\n",
              "      border: none;\n",
              "      border-radius: 50%;\n",
              "      cursor: pointer;\n",
              "      display: none;\n",
              "      fill: #1967D2;\n",
              "      height: 32px;\n",
              "      padding: 0 0 0 0;\n",
              "      width: 32px;\n",
              "    }\n",
              "\n",
              "    .colab-df-convert:hover {\n",
              "      background-color: #E2EBFA;\n",
              "      box-shadow: 0px 1px 2px rgba(60, 64, 67, 0.3), 0px 1px 3px 1px rgba(60, 64, 67, 0.15);\n",
              "      fill: #174EA6;\n",
              "    }\n",
              "\n",
              "    [theme=dark] .colab-df-convert {\n",
              "      background-color: #3B4455;\n",
              "      fill: #D2E3FC;\n",
              "    }\n",
              "\n",
              "    [theme=dark] .colab-df-convert:hover {\n",
              "      background-color: #434B5C;\n",
              "      box-shadow: 0px 1px 3px 1px rgba(0, 0, 0, 0.15);\n",
              "      filter: drop-shadow(0px 1px 2px rgba(0, 0, 0, 0.3));\n",
              "      fill: #FFFFFF;\n",
              "    }\n",
              "  </style>\n",
              "\n",
              "      <script>\n",
              "        const buttonEl =\n",
              "          document.querySelector('#df-e3bbb424-8678-401f-993a-481d07bd9ff6 button.colab-df-convert');\n",
              "        buttonEl.style.display =\n",
              "          google.colab.kernel.accessAllowed ? 'block' : 'none';\n",
              "\n",
              "        async function convertToInteractive(key) {\n",
              "          const element = document.querySelector('#df-e3bbb424-8678-401f-993a-481d07bd9ff6');\n",
              "          const dataTable =\n",
              "            await google.colab.kernel.invokeFunction('convertToInteractive',\n",
              "                                                     [key], {});\n",
              "          if (!dataTable) return;\n",
              "\n",
              "          const docLinkHtml = 'Like what you see? Visit the ' +\n",
              "            '<a target=\"_blank\" href=https://colab.research.google.com/notebooks/data_table.ipynb>data table notebook</a>'\n",
              "            + ' to learn more about interactive tables.';\n",
              "          element.innerHTML = '';\n",
              "          dataTable['output_type'] = 'display_data';\n",
              "          await google.colab.output.renderOutput(dataTable, element);\n",
              "          const docLink = document.createElement('div');\n",
              "          docLink.innerHTML = docLinkHtml;\n",
              "          element.appendChild(docLink);\n",
              "        }\n",
              "      </script>\n",
              "    </div>\n",
              "  </div>\n",
              "  "
            ]
          },
          "metadata": {},
          "execution_count": 260
        }
      ],
      "source": [
        "users_df = pd.read_csv('Users.csv')\n",
        "users_df.head(5)"
      ],
      "id": "aa02951d"
    },
    {
      "cell_type": "code",
      "source": [
        "rating_df=pd.merge(rating_df,book_df,on=\"ISBN\",how=\"left\")\n",
        "rating_df['Book-Rating'].hist()"
      ],
      "metadata": {
        "colab": {
          "base_uri": "https://localhost:8080/",
          "height": 282
        },
        "id": "CuYYAiayUzx5",
        "outputId": "5b1fd499-f99c-4912-e8f5-eef214ea44be"
      },
      "id": "CuYYAiayUzx5",
      "execution_count": 261,
      "outputs": [
        {
          "output_type": "execute_result",
          "data": {
            "text/plain": [
              "<matplotlib.axes._subplots.AxesSubplot at 0x7f015275bb90>"
            ]
          },
          "metadata": {},
          "execution_count": 261
        },
        {
          "output_type": "display_data",
          "data": {
            "text/plain": [
              "<Figure size 432x288 with 1 Axes>"
            ],
            "image/png": "[encoded data removed]"
          },
          "metadata": {}
        }
      ]
    },
    {
      "cell_type": "code",
      "execution_count": 262,
      "metadata": {
        "id": "118889d1"
      },
      "outputs": [],
      "source": [
        "x = rating_df.groupby('User-ID').count()['Book-Rating'] > 100\n",
        "userIndex = x[x].index\n",
        "nm_rating_df=rating_df[rating_df['User-ID'].isin(userIndex)]"
      ],
      "id": "118889d1"
    },
    {
      "cell_type": "code",
      "source": [
        "y = nm_rating_df.groupby('Book-Title').count()['Book-Rating']>=100\n",
        "books = y[y].index"
      ],
      "metadata": {
        "id": "i94JKDUBVDkx"
      },
      "id": "i94JKDUBVDkx",
      "execution_count": 263,
      "outputs": []
    },
    {
      "cell_type": "code",
      "execution_count": 264,
      "metadata": {
        "id": "34fe55c8"
      },
      "outputs": [],
      "source": [
        "final_ratings = nm_rating_df[nm_rating_df['Book-Title'].isin(books)]\n"
      ],
      "id": "34fe55c8"
    },
    {
      "cell_type": "code",
      "source": [
        "avg_rating_df = final_ratings.groupby('Book-Title').mean()['Book-Rating'].reset_index()\n",
        "avg_rating_df.rename(columns={'Book-Rating':'avg_rating'},inplace=True)\n",
        "avg_rating_df.sort_values('avg_rating', ascending=[False]).head(10)\n",
        "total_rating_df = final_ratings.groupby('Book-Title').count()['Book-Rating'].reset_index()\n",
        "total_rating_df.rename(columns={'Book-Rating':'num_ratings'},inplace=True)\n",
        "total_rating_df.sort_values('num_ratings', ascending=[False]).head(10)\n",
        "popular_books_list = total_rating_df.merge(avg_rating_df,on='Book-Title')\n",
        "popular_books_list.sort_values(['avg_rating','num_ratings'], ascending=[False,False]).head(10)"
      ],
      "metadata": {
        "colab": {
          "base_uri": "https://localhost:8080/",
          "height": 363
        },
        "id": "0YV-QcOPVNqI",
        "outputId": "5311cd0a-2e1f-419b-f631-7b6d90443712"
      },
      "id": "0YV-QcOPVNqI",
      "execution_count": 265,
      "outputs": [
        {
          "output_type": "execute_result",
          "data": {
            "text/plain": [
              "                                            Book-Title  num_ratings  \\\n",
              "96      Harry Potter and the Sorcerer's Stone (Book 1)          124   \n",
              "95   Harry Potter and the Prisoner of Azkaban (Book 3)          197   \n",
              "93        Harry Potter and the Goblet of Fire (Book 4)          176   \n",
              "94   Harry Potter and the Order of the Phoenix (Boo...          158   \n",
              "92    Harry Potter and the Chamber of Secrets (Book 2)          253   \n",
              "66       Ender's Game (Ender Wiggins Saga (Paperback))          101   \n",
              "13                                   A Wrinkle in Time          100   \n",
              "295                              To Kill a Mockingbird          244   \n",
              "234  The Hobbit : The Enchanting Prelude to The Lor...          110   \n",
              "285     The Two Towers (The Lord of the Rings, Part 2)          119   \n",
              "\n",
              "     avg_rating  \n",
              "96     5.451613  \n",
              "95     5.025381  \n",
              "93     5.000000  \n",
              "94     4.772152  \n",
              "92     4.494071  \n",
              "66     4.099010  \n",
              "13     3.920000  \n",
              "295    3.918033  \n",
              "234    3.900000  \n",
              "285    3.890756  "
            ],
            "text/html": [
              "\n",
              "  <div id=\"df-33390c58-d2f0-49c6-9509-1c50635f81c0\">\n",
              "    <div class=\"colab-df-container\">\n",
              "      <div>\n",
              "<style scoped>\n",
              "    .dataframe tbody tr th:only-of-type {\n",
              "        vertical-align: middle;\n",
              "    }\n",
              "\n",
              "    .dataframe tbody tr th {\n",
              "        vertical-align: top;\n",
              "    }\n",
              "\n",
              "    .dataframe thead th {\n",
              "        text-align: right;\n",
              "    }\n",
              "</style>\n",
              "<table border=\"1\" class=\"dataframe\">\n",
              "  <thead>\n",
              "    <tr style=\"text-align: right;\">\n",
              "      <th></th>\n",
              "      <th>Book-Title</th>\n",
              "      <th>num_ratings</th>\n",
              "      <th>avg_rating</th>\n",
              "    </tr>\n",
              "  </thead>\n",
              "  <tbody>\n",
              "    <tr>\n",
              "      <th>96</th>\n",
              "      <td>Harry Potter and the Sorcerer's Stone (Book 1)</td>\n",
              "      <td>124</td>\n",
              "      <td>5.451613</td>\n",
              "    </tr>\n",
              "    <tr>\n",
              "      <th>95</th>\n",
              "      <td>Harry Potter and the Prisoner of Azkaban (Book 3)</td>\n",
              "      <td>197</td>\n",
              "      <td>5.025381</td>\n",
              "    </tr>\n",
              "    <tr>\n",
              "      <th>93</th>\n",
              "      <td>Harry Potter and the Goblet of Fire (Book 4)</td>\n",
              "      <td>176</td>\n",
              "      <td>5.000000</td>\n",
              "    </tr>\n",
              "    <tr>\n",
              "      <th>94</th>\n",
              "      <td>Harry Potter and the Order of the Phoenix (Boo...</td>\n",
              "      <td>158</td>\n",
              "      <td>4.772152</td>\n",
              "    </tr>\n",
              "    <tr>\n",
              "      <th>92</th>\n",
              "      <td>Harry Potter and the Chamber of Secrets (Book 2)</td>\n",
              "      <td>253</td>\n",
              "      <td>4.494071</td>\n",
              "    </tr>\n",
              "    <tr>\n",
              "      <th>66</th>\n",
              "      <td>Ender's Game (Ender Wiggins Saga (Paperback))</td>\n",
              "      <td>101</td>\n",
              "      <td>4.099010</td>\n",
              "    </tr>\n",
              "    <tr>\n",
              "      <th>13</th>\n",
              "      <td>A Wrinkle in Time</td>\n",
              "      <td>100</td>\n",
              "      <td>3.920000</td>\n",
              "    </tr>\n",
              "    <tr>\n",
              "      <th>295</th>\n",
              "      <td>To Kill a Mockingbird</td>\n",
              "      <td>244</td>\n",
              "      <td>3.918033</td>\n",
              "    </tr>\n",
              "    <tr>\n",
              "      <th>234</th>\n",
              "      <td>The Hobbit : The Enchanting Prelude to The Lor...</td>\n",
              "      <td>110</td>\n",
              "      <td>3.900000</td>\n",
              "    </tr>\n",
              "    <tr>\n",
              "      <th>285</th>\n",
              "      <td>The Two Towers (The Lord of the Rings, Part 2)</td>\n",
              "      <td>119</td>\n",
              "      <td>3.890756</td>\n",
              "    </tr>\n",
              "  </tbody>\n",
              "</table>\n",
              "</div>\n",
              "      <button class=\"colab-df-convert\" onclick=\"convertToInteractive('df-33390c58-d2f0-49c6-9509-1c50635f81c0')\"\n",
              "              title=\"Convert this dataframe to an interactive table.\"\n",
              "              style=\"display:none;\">\n",
              "        \n",
              "  <svg xmlns=\"http://www.w3.org/2000/svg\" height=\"24px\"viewBox=\"0 0 24 24\"\n",
              "       width=\"24px\">\n",
              "    <path d=\"M0 0h24v24H0V0z\" fill=\"none\"/>\n",
              "    <path d=\"M18.56 5.44l.94 2.06.94-2.06 2.06-.94-2.06-.94-.94-2.06-.94 2.06-2.06.94zm-11 1L8.5 8.5l.94-2.06 2.06-.94-2.06-.94L8.5 2.5l-.94 2.06-2.06.94zm10 10l.94 2.06.94-2.06 2.06-.94-2.06-.94-.94-2.06-.94 2.06-2.06.94z\"/><path d=\"M17.41 7.96l-1.37-1.37c-.4-.4-.92-.59-1.43-.59-.52 0-1.04.2-1.43.59L10.3 9.45l-7.72 7.72c-.78.78-.78 2.05 0 2.83L4 21.41c.39.39.9.59 1.41.59.51 0 1.02-.2 1.41-.59l7.78-7.78 2.81-2.81c.8-.78.8-2.07 0-2.86zM5.41 20L4 18.59l7.72-7.72 1.47 1.35L5.41 20z\"/>\n",
              "  </svg>\n",
              "      </button>\n",
              "      \n",
              "  <style>\n",
              "    .colab-df-container {\n",
              "      display:flex;\n",
              "      flex-wrap:wrap;\n",
              "      gap: 12px;\n",
              "    }\n",
              "\n",
              "    .colab-df-convert {\n",
              "      background-color: #E8F0FE;\n",
              "      border: none;\n",
              "      border-radius: 50%;\n",
              "      cursor: pointer;\n",
              "      display: none;\n",
              "      fill: #1967D2;\n",
              "      height: 32px;\n",
              "      padding: 0 0 0 0;\n",
              "      width: 32px;\n",
              "    }\n",
              "\n",
              "    .colab-df-convert:hover {\n",
              "      background-color: #E2EBFA;\n",
              "      box-shadow: 0px 1px 2px rgba(60, 64, 67, 0.3), 0px 1px 3px 1px rgba(60, 64, 67, 0.15);\n",
              "      fill: #174EA6;\n",
              "    }\n",
              "\n",
              "    [theme=dark] .colab-df-convert {\n",
              "      background-color: #3B4455;\n",
              "      fill: #D2E3FC;\n",
              "    }\n",
              "\n",
              "    [theme=dark] .colab-df-convert:hover {\n",
              "      background-color: #434B5C;\n",
              "      box-shadow: 0px 1px 3px 1px rgba(0, 0, 0, 0.15);\n",
              "      filter: drop-shadow(0px 1px 2px rgba(0, 0, 0, 0.3));\n",
              "      fill: #FFFFFF;\n",
              "    }\n",
              "  </style>\n",
              "\n",
              "      <script>\n",
              "        const buttonEl =\n",
              "          document.querySelector('#df-33390c58-d2f0-49c6-9509-1c50635f81c0 button.colab-df-convert');\n",
              "        buttonEl.style.display =\n",
              "          google.colab.kernel.accessAllowed ? 'block' : 'none';\n",
              "\n",
              "        async function convertToInteractive(key) {\n",
              "          const element = document.querySelector('#df-33390c58-d2f0-49c6-9509-1c50635f81c0');\n",
              "          const dataTable =\n",
              "            await google.colab.kernel.invokeFunction('convertToInteractive',\n",
              "                                                     [key], {});\n",
              "          if (!dataTable) return;\n",
              "\n",
              "          const docLinkHtml = 'Like what you see? Visit the ' +\n",
              "            '<a target=\"_blank\" href=https://colab.research.google.com/notebooks/data_table.ipynb>data table notebook</a>'\n",
              "            + ' to learn more about interactive tables.';\n",
              "          element.innerHTML = '';\n",
              "          dataTable['output_type'] = 'display_data';\n",
              "          await google.colab.output.renderOutput(dataTable, element);\n",
              "          const docLink = document.createElement('div');\n",
              "          docLink.innerHTML = docLinkHtml;\n",
              "          element.appendChild(docLink);\n",
              "        }\n",
              "      </script>\n",
              "    </div>\n",
              "  </div>\n",
              "  "
            ]
          },
          "metadata": {},
          "execution_count": 265
        }
      ]
    },
    {
      "cell_type": "code",
      "source": [
        "grid   = pd.DataFrame({\n",
        "                    'Avarage Rating': popular_books_list['avg_rating'],\n",
        "                    'Number of Reviewers': popular_books_list['num_ratings']\n",
        "                 })\n",
        "grid.plot(x='Number of Reviewers', y='Avarage Rating', kind='hexbin',\n",
        "                  xscale='log', cmap='YlGnBu', gridsize=10, mincnt=1,\n",
        "                  title=\" Ratings by Simple Mean\")\n",
        "plt.show()\n"
      ],
      "metadata": {
        "colab": {
          "base_uri": "https://localhost:8080/",
          "height": 264
        },
        "id": "TG7eOaYgVKei",
        "outputId": "0c42409f-e8b7-4225-cc35-f60de28b64fc"
      },
      "id": "TG7eOaYgVKei",
      "execution_count": 266,
      "outputs": [
        {
          "output_type": "display_data",
          "data": {
            "text/plain": [
              "<Figure size 432x288 with 2 Axes>"
            ],
            "image/png": "[encoded data removed]"
          },
          "metadata": {}
        }
      ]
    },
    {
      "cell_type": "markdown",
      "source": [
        "### Prepare train test set"
      ],
      "metadata": {
        "id": "MQKR4CpoViU3"
      },
      "id": "MQKR4CpoViU3"
    },
    {
      "cell_type": "code",
      "source": [
        "final_ratings=final_ratings.sort_values(by=['User-ID','Book-Rating'], ascending=[False,False]) \n",
        "final_ratings.shape"
      ],
      "metadata": {
        "colab": {
          "base_uri": "https://localhost:8080/"
        },
        "id": "dF2_HqTcVdrp",
        "outputId": "d553dc24-2666-4707-d42d-5796254fd0fd"
      },
      "id": "dF2_HqTcVdrp",
      "execution_count": 267,
      "outputs": [
        {
          "output_type": "execute_result",
          "data": {
            "text/plain": [
              "(48237, 10)"
            ]
          },
          "metadata": {},
          "execution_count": 267
        }
      ]
    },
    {
      "cell_type": "code",
      "source": [
        "test_df=final_ratings.groupby('User-ID').head(10)\n",
        "test_df.shape"
      ],
      "metadata": {
        "colab": {
          "base_uri": "https://localhost:8080/"
        },
        "id": "1Z-8XJaHVfng",
        "outputId": "58781faa-6693-4701-90b9-ef5785d36429"
      },
      "id": "1Z-8XJaHVfng",
      "execution_count": 268,
      "outputs": [
        {
          "output_type": "execute_result",
          "data": {
            "text/plain": [
              "(15124, 10)"
            ]
          },
          "metadata": {},
          "execution_count": 268
        }
      ]
    },
    {
      "cell_type": "code",
      "source": [
        "final_ratings=final_ratings[~final_ratings.isin(test_df).all(1)]\n",
        "final_ratings.shape"
      ],
      "metadata": {
        "colab": {
          "base_uri": "https://localhost:8080/"
        },
        "id": "CCiSEJelVhMS",
        "outputId": "d986981d-44e5-470d-cb6d-a1f0ac452fea"
      },
      "id": "CCiSEJelVhMS",
      "execution_count": 269,
      "outputs": [
        {
          "output_type": "execute_result",
          "data": {
            "text/plain": [
              "(33113, 10)"
            ]
          },
          "metadata": {},
          "execution_count": 269
        }
      ]
    },
    {
      "cell_type": "markdown",
      "metadata": {
        "id": "Y-t6p04ILxeE"
      },
      "source": [
        "### Consider User rated more than 50 tumes"
      ],
      "id": "Y-t6p04ILxeE"
    },
    {
      "cell_type": "markdown",
      "metadata": {
        "id": "0BUugAh_Pydg"
      },
      "source": [
        "### Install packages"
      ],
      "id": "0BUugAh_Pydg"
    },
    {
      "cell_type": "code",
      "execution_count": 270,
      "metadata": {
        "id": "9YS8nKMqXr4S",
        "colab": {
          "base_uri": "https://localhost:8080/"
        },
        "outputId": "bea6de5b-5f15-4b10-f023-bf190722d90f"
      },
      "outputs": [
        {
          "output_type": "stream",
          "name": "stdout",
          "text": [
            "Looking in indexes: https://pypi.org/simple, https://us-python.pkg.dev/colab-wheels/public/simple/\n",
            "Requirement already satisfied: gensim in /usr/local/lib/python3.7/dist-packages (3.6.0)\n",
            "Requirement already satisfied: six>=1.5.0 in /usr/local/lib/python3.7/dist-packages (from gensim) (1.15.0)\n",
            "Requirement already satisfied: scipy>=0.18.1 in /usr/local/lib/python3.7/dist-packages (from gensim) (1.7.3)\n",
            "Requirement already satisfied: numpy>=1.11.3 in /usr/local/lib/python3.7/dist-packages (from gensim) (1.21.6)\n",
            "Requirement already satisfied: smart-open>=1.2.1 in /usr/local/lib/python3.7/dist-packages (from gensim) (5.2.1)\n"
          ]
        }
      ],
      "source": [
        "!pip install networkx\n",
        "!pip install stellargraph\n",
        "!pip install gensim"
      ],
      "id": "9YS8nKMqXr4S"
    },
    {
      "cell_type": "markdown",
      "metadata": {
        "id": "SiiqfnYvQoNf"
      },
      "source": [
        "### Final data set"
      ],
      "id": "SiiqfnYvQoNf"
    },
    {
      "cell_type": "code",
      "execution_count": 271,
      "metadata": {
        "colab": {
          "base_uri": "https://localhost:8080/",
          "height": 81
        },
        "id": "Eb8yhjYyMUds",
        "outputId": "b5062e10-5ab5-4b6a-e01f-1896a5acbdd9"
      },
      "outputs": [
        {
          "output_type": "execute_result",
          "data": {
            "text/plain": [
              "      source      target  weights\n",
              "5034  278418  Disclosure        0"
            ],
            "text/html": [
              "\n",
              "  <div id=\"df-abaa5647-9295-43c5-a6d2-56871536ea52\">\n",
              "    <div class=\"colab-df-container\">\n",
              "      <div>\n",
              "<style scoped>\n",
              "    .dataframe tbody tr th:only-of-type {\n",
              "        vertical-align: middle;\n",
              "    }\n",
              "\n",
              "    .dataframe tbody tr th {\n",
              "        vertical-align: top;\n",
              "    }\n",
              "\n",
              "    .dataframe thead th {\n",
              "        text-align: right;\n",
              "    }\n",
              "</style>\n",
              "<table border=\"1\" class=\"dataframe\">\n",
              "  <thead>\n",
              "    <tr style=\"text-align: right;\">\n",
              "      <th></th>\n",
              "      <th>source</th>\n",
              "      <th>target</th>\n",
              "      <th>weights</th>\n",
              "    </tr>\n",
              "  </thead>\n",
              "  <tbody>\n",
              "    <tr>\n",
              "      <th>5034</th>\n",
              "      <td>278418</td>\n",
              "      <td>Disclosure</td>\n",
              "      <td>0</td>\n",
              "    </tr>\n",
              "  </tbody>\n",
              "</table>\n",
              "</div>\n",
              "      <button class=\"colab-df-convert\" onclick=\"convertToInteractive('df-abaa5647-9295-43c5-a6d2-56871536ea52')\"\n",
              "              title=\"Convert this dataframe to an interactive table.\"\n",
              "              style=\"display:none;\">\n",
              "        \n",
              "  <svg xmlns=\"http://www.w3.org/2000/svg\" height=\"24px\"viewBox=\"0 0 24 24\"\n",
              "       width=\"24px\">\n",
              "    <path d=\"M0 0h24v24H0V0z\" fill=\"none\"/>\n",
              "    <path d=\"M18.56 5.44l.94 2.06.94-2.06 2.06-.94-2.06-.94-.94-2.06-.94 2.06-2.06.94zm-11 1L8.5 8.5l.94-2.06 2.06-.94-2.06-.94L8.5 2.5l-.94 2.06-2.06.94zm10 10l.94 2.06.94-2.06 2.06-.94-2.06-.94-.94-2.06-.94 2.06-2.06.94z\"/><path d=\"M17.41 7.96l-1.37-1.37c-.4-.4-.92-.59-1.43-.59-.52 0-1.04.2-1.43.59L10.3 9.45l-7.72 7.72c-.78.78-.78 2.05 0 2.83L4 21.41c.39.39.9.59 1.41.59.51 0 1.02-.2 1.41-.59l7.78-7.78 2.81-2.81c.8-.78.8-2.07 0-2.86zM5.41 20L4 18.59l7.72-7.72 1.47 1.35L5.41 20z\"/>\n",
              "  </svg>\n",
              "      </button>\n",
              "      \n",
              "  <style>\n",
              "    .colab-df-container {\n",
              "      display:flex;\n",
              "      flex-wrap:wrap;\n",
              "      gap: 12px;\n",
              "    }\n",
              "\n",
              "    .colab-df-convert {\n",
              "      background-color: #E8F0FE;\n",
              "      border: none;\n",
              "      border-radius: 50%;\n",
              "      cursor: pointer;\n",
              "      display: none;\n",
              "      fill: #1967D2;\n",
              "      height: 32px;\n",
              "      padding: 0 0 0 0;\n",
              "      width: 32px;\n",
              "    }\n",
              "\n",
              "    .colab-df-convert:hover {\n",
              "      background-color: #E2EBFA;\n",
              "      box-shadow: 0px 1px 2px rgba(60, 64, 67, 0.3), 0px 1px 3px 1px rgba(60, 64, 67, 0.15);\n",
              "      fill: #174EA6;\n",
              "    }\n",
              "\n",
              "    [theme=dark] .colab-df-convert {\n",
              "      background-color: #3B4455;\n",
              "      fill: #D2E3FC;\n",
              "    }\n",
              "\n",
              "    [theme=dark] .colab-df-convert:hover {\n",
              "      background-color: #434B5C;\n",
              "      box-shadow: 0px 1px 3px 1px rgba(0, 0, 0, 0.15);\n",
              "      filter: drop-shadow(0px 1px 2px rgba(0, 0, 0, 0.3));\n",
              "      fill: #FFFFFF;\n",
              "    }\n",
              "  </style>\n",
              "\n",
              "      <script>\n",
              "        const buttonEl =\n",
              "          document.querySelector('#df-abaa5647-9295-43c5-a6d2-56871536ea52 button.colab-df-convert');\n",
              "        buttonEl.style.display =\n",
              "          google.colab.kernel.accessAllowed ? 'block' : 'none';\n",
              "\n",
              "        async function convertToInteractive(key) {\n",
              "          const element = document.querySelector('#df-abaa5647-9295-43c5-a6d2-56871536ea52');\n",
              "          const dataTable =\n",
              "            await google.colab.kernel.invokeFunction('convertToInteractive',\n",
              "                                                     [key], {});\n",
              "          if (!dataTable) return;\n",
              "\n",
              "          const docLinkHtml = 'Like what you see? Visit the ' +\n",
              "            '<a target=\"_blank\" href=https://colab.research.google.com/notebooks/data_table.ipynb>data table notebook</a>'\n",
              "            + ' to learn more about interactive tables.';\n",
              "          element.innerHTML = '';\n",
              "          dataTable['output_type'] = 'display_data';\n",
              "          await google.colab.output.renderOutput(dataTable, element);\n",
              "          const docLink = document.createElement('div');\n",
              "          docLink.innerHTML = docLinkHtml;\n",
              "          element.appendChild(docLink);\n",
              "        }\n",
              "      </script>\n",
              "    </div>\n",
              "  </div>\n",
              "  "
            ]
          },
          "metadata": {},
          "execution_count": 271
        }
      ],
      "source": [
        "graph_df=final_ratings\n",
        "graph_df=graph_df[['User-ID','Book-Title','Book-Rating']]\n",
        "graph_df.columns = ['source', 'target', 'weights']\n",
        "graph_df.head(1)"
      ],
      "id": "Eb8yhjYyMUds"
    },
    {
      "cell_type": "code",
      "execution_count": 272,
      "metadata": {
        "colab": {
          "base_uri": "https://localhost:8080/",
          "height": 179
        },
        "id": "rVkfxjQQQ1bt",
        "outputId": "48d984ee-8470-4d5a-ce28-b5a5914cb755"
      },
      "outputs": [
        {
          "output_type": "execute_result",
          "data": {
            "text/plain": [
              "      User-ID        ISBN  Book-Rating     Book-Title   Book-Author  \\\n",
              "6747   278418  0515130389            8  Carolina Moon  Nora Roberts   \n",
              "\n",
              "     Year-Of-Publication   Publisher  \\\n",
              "6747                2001  Jove Books   \n",
              "\n",
              "                                            Image-URL-S  \\\n",
              "6747  http://images.amazon.com/images/P/0515130389.0...   \n",
              "\n",
              "                                            Image-URL-M  \\\n",
              "6747  http://images.amazon.com/images/P/0515130389.0...   \n",
              "\n",
              "                                            Image-URL-L  \n",
              "6747  http://images.amazon.com/images/P/0515130389.0...  "
            ],
            "text/html": [
              "\n",
              "  <div id=\"df-dba34956-4c9e-4007-80c9-0801cbe6984f\">\n",
              "    <div class=\"colab-df-container\">\n",
              "      <div>\n",
              "<style scoped>\n",
              "    .dataframe tbody tr th:only-of-type {\n",
              "        vertical-align: middle;\n",
              "    }\n",
              "\n",
              "    .dataframe tbody tr th {\n",
              "        vertical-align: top;\n",
              "    }\n",
              "\n",
              "    .dataframe thead th {\n",
              "        text-align: right;\n",
              "    }\n",
              "</style>\n",
              "<table border=\"1\" class=\"dataframe\">\n",
              "  <thead>\n",
              "    <tr style=\"text-align: right;\">\n",
              "      <th></th>\n",
              "      <th>User-ID</th>\n",
              "      <th>ISBN</th>\n",
              "      <th>Book-Rating</th>\n",
              "      <th>Book-Title</th>\n",
              "      <th>Book-Author</th>\n",
              "      <th>Year-Of-Publication</th>\n",
              "      <th>Publisher</th>\n",
              "      <th>Image-URL-S</th>\n",
              "      <th>Image-URL-M</th>\n",
              "      <th>Image-URL-L</th>\n",
              "    </tr>\n",
              "  </thead>\n",
              "  <tbody>\n",
              "    <tr>\n",
              "      <th>6747</th>\n",
              "      <td>278418</td>\n",
              "      <td>0515130389</td>\n",
              "      <td>8</td>\n",
              "      <td>Carolina Moon</td>\n",
              "      <td>Nora Roberts</td>\n",
              "      <td>2001</td>\n",
              "      <td>Jove Books</td>\n",
              "      <td>http://images.amazon.com/images/P/0515130389.0...</td>\n",
              "      <td>http://images.amazon.com/images/P/0515130389.0...</td>\n",
              "      <td>http://images.amazon.com/images/P/0515130389.0...</td>\n",
              "    </tr>\n",
              "  </tbody>\n",
              "</table>\n",
              "</div>\n",
              "      <button class=\"colab-df-convert\" onclick=\"convertToInteractive('df-dba34956-4c9e-4007-80c9-0801cbe6984f')\"\n",
              "              title=\"Convert this dataframe to an interactive table.\"\n",
              "              style=\"display:none;\">\n",
              "        \n",
              "  <svg xmlns=\"http://www.w3.org/2000/svg\" height=\"24px\"viewBox=\"0 0 24 24\"\n",
              "       width=\"24px\">\n",
              "    <path d=\"M0 0h24v24H0V0z\" fill=\"none\"/>\n",
              "    <path d=\"M18.56 5.44l.94 2.06.94-2.06 2.06-.94-2.06-.94-.94-2.06-.94 2.06-2.06.94zm-11 1L8.5 8.5l.94-2.06 2.06-.94-2.06-.94L8.5 2.5l-.94 2.06-2.06.94zm10 10l.94 2.06.94-2.06 2.06-.94-2.06-.94-.94-2.06-.94 2.06-2.06.94z\"/><path d=\"M17.41 7.96l-1.37-1.37c-.4-.4-.92-.59-1.43-.59-.52 0-1.04.2-1.43.59L10.3 9.45l-7.72 7.72c-.78.78-.78 2.05 0 2.83L4 21.41c.39.39.9.59 1.41.59.51 0 1.02-.2 1.41-.59l7.78-7.78 2.81-2.81c.8-.78.8-2.07 0-2.86zM5.41 20L4 18.59l7.72-7.72 1.47 1.35L5.41 20z\"/>\n",
              "  </svg>\n",
              "      </button>\n",
              "      \n",
              "  <style>\n",
              "    .colab-df-container {\n",
              "      display:flex;\n",
              "      flex-wrap:wrap;\n",
              "      gap: 12px;\n",
              "    }\n",
              "\n",
              "    .colab-df-convert {\n",
              "      background-color: #E8F0FE;\n",
              "      border: none;\n",
              "      border-radius: 50%;\n",
              "      cursor: pointer;\n",
              "      display: none;\n",
              "      fill: #1967D2;\n",
              "      height: 32px;\n",
              "      padding: 0 0 0 0;\n",
              "      width: 32px;\n",
              "    }\n",
              "\n",
              "    .colab-df-convert:hover {\n",
              "      background-color: #E2EBFA;\n",
              "      box-shadow: 0px 1px 2px rgba(60, 64, 67, 0.3), 0px 1px 3px 1px rgba(60, 64, 67, 0.15);\n",
              "      fill: #174EA6;\n",
              "    }\n",
              "\n",
              "    [theme=dark] .colab-df-convert {\n",
              "      background-color: #3B4455;\n",
              "      fill: #D2E3FC;\n",
              "    }\n",
              "\n",
              "    [theme=dark] .colab-df-convert:hover {\n",
              "      background-color: #434B5C;\n",
              "      box-shadow: 0px 1px 3px 1px rgba(0, 0, 0, 0.15);\n",
              "      filter: drop-shadow(0px 1px 2px rgba(0, 0, 0, 0.3));\n",
              "      fill: #FFFFFF;\n",
              "    }\n",
              "  </style>\n",
              "\n",
              "      <script>\n",
              "        const buttonEl =\n",
              "          document.querySelector('#df-dba34956-4c9e-4007-80c9-0801cbe6984f button.colab-df-convert');\n",
              "        buttonEl.style.display =\n",
              "          google.colab.kernel.accessAllowed ? 'block' : 'none';\n",
              "\n",
              "        async function convertToInteractive(key) {\n",
              "          const element = document.querySelector('#df-dba34956-4c9e-4007-80c9-0801cbe6984f');\n",
              "          const dataTable =\n",
              "            await google.colab.kernel.invokeFunction('convertToInteractive',\n",
              "                                                     [key], {});\n",
              "          if (!dataTable) return;\n",
              "\n",
              "          const docLinkHtml = 'Like what you see? Visit the ' +\n",
              "            '<a target=\"_blank\" href=https://colab.research.google.com/notebooks/data_table.ipynb>data table notebook</a>'\n",
              "            + ' to learn more about interactive tables.';\n",
              "          element.innerHTML = '';\n",
              "          dataTable['output_type'] = 'display_data';\n",
              "          await google.colab.output.renderOutput(dataTable, element);\n",
              "          const docLink = document.createElement('div');\n",
              "          docLink.innerHTML = docLinkHtml;\n",
              "          element.appendChild(docLink);\n",
              "        }\n",
              "      </script>\n",
              "    </div>\n",
              "  </div>\n",
              "  "
            ]
          },
          "metadata": {},
          "execution_count": 272
        }
      ],
      "source": [
        "test_df.head(1)"
      ],
      "id": "rVkfxjQQQ1bt"
    },
    {
      "cell_type": "markdown",
      "metadata": {
        "id": "9f9f320a"
      },
      "source": [
        "## Graph Embeddings\n"
      ],
      "id": "9f9f320a"
    },
    {
      "cell_type": "markdown",
      "metadata": {
        "id": "ef0c2076"
      },
      "source": [
        "###  Step1: Create the rating matrix with rows as movies and columns as users."
      ],
      "id": "ef0c2076"
    },
    {
      "cell_type": "code",
      "execution_count": 273,
      "metadata": {
        "id": "3c06fd0b"
      },
      "outputs": [],
      "source": [
        "import networkx as nx"
      ],
      "id": "3c06fd0b"
    },
    {
      "cell_type": "markdown",
      "metadata": {
        "id": "c3901da0"
      },
      "source": [
        "### Create a weighted graph of user Item using python library networkx, stellargraph\n",
        "- https://snap.stanford.edu/node2vec/\n",
        "- https://github.com/aditya-grover/node2vec\n",
        "\n",
        "- https://towardsdatascience.com/complete-guide-to-understanding-node2vec-algorithm-4e9a35e5d147\n",
        "- https://towardsdatascience.com/node2vec-explained-db86a319e9ab\n",
        "- https://github.com/stellargraph/stellargraph"
      ],
      "id": "c3901da0"
    },
    {
      "cell_type": "code",
      "execution_count": 274,
      "metadata": {
        "id": "3316aeac"
      },
      "outputs": [],
      "source": [
        "from stellargraph.data import BiasedRandomWalk\n",
        "from stellargraph import StellarGraph"
      ],
      "id": "3316aeac"
    },
    {
      "cell_type": "code",
      "execution_count": 275,
      "metadata": {
        "id": "bbf1fc08"
      },
      "outputs": [],
      "source": [
        "G = StellarGraph(edges=graph_df)"
      ],
      "id": "bbf1fc08"
    },
    {
      "cell_type": "code",
      "execution_count": 276,
      "metadata": {
        "colab": {
          "base_uri": "https://localhost:8080/"
        },
        "id": "3a57a686",
        "outputId": "503cbd39-d832-47ca-bc52-ab0fb165238b"
      },
      "outputs": [
        {
          "output_type": "stream",
          "name": "stdout",
          "text": [
            "Number of random walks: 15400\n"
          ]
        }
      ],
      "source": [
        "rw = BiasedRandomWalk(G)\n",
        "\n",
        "walks = rw.run(\n",
        "    nodes=list(G.nodes()),  # root nodes\n",
        "    length=80,  # maximum length of a random walk\n",
        "    n=10,  # number of random walks per root node\n",
        "    p=0.5,  # Defines (unormalised) probability, 1/p, of returning to source node\n",
        "    q=2.0,  # Defines (unormalised) probability, 1/q, for moving away from source node\n",
        ")\n",
        "print(\"Number of random walks: {}\".format(len(walks)))"
      ],
      "id": "3a57a686"
    },
    {
      "cell_type": "markdown",
      "metadata": {
        "id": "bYtJs7YrKdc6"
      },
      "source": [
        "#### compute random walk"
      ],
      "id": "bYtJs7YrKdc6"
    },
    {
      "cell_type": "code",
      "execution_count": 277,
      "metadata": {
        "id": "763a0e87"
      },
      "outputs": [],
      "source": [
        "\n",
        "from gensim.models import Word2Vec\n",
        "\n",
        "str_walks = [[str(n) for n in walk] for walk in walks]\n",
        "model = Word2Vec(str_walks, size=128, window=5, min_count=0, sg=1, workers=2, iter=1)"
      ],
      "id": "763a0e87"
    },
    {
      "cell_type": "markdown",
      "metadata": {
        "id": "tXWemSv2Kj3a"
      },
      "source": [
        "#### Save model and use for recommendation"
      ],
      "id": "tXWemSv2Kj3a"
    },
    {
      "cell_type": "code",
      "execution_count": 278,
      "metadata": {
        "id": "E1Nzw7age_65"
      },
      "outputs": [],
      "source": [
        "model.save(\"word2vec.model\")"
      ],
      "id": "E1Nzw7age_65"
    },
    {
      "cell_type": "code",
      "execution_count": 279,
      "metadata": {
        "id": "65U_zzf7fIpG"
      },
      "outputs": [],
      "source": [
        "model = Word2Vec.load(\"word2vec.model\")"
      ],
      "id": "65U_zzf7fIpG"
    },
    {
      "cell_type": "code",
      "execution_count": 280,
      "metadata": {
        "id": "E8n_KWZxfS9X"
      },
      "outputs": [],
      "source": [
        "node_embeddings= model.wv"
      ],
      "id": "E8n_KWZxfS9X"
    },
    {
      "cell_type": "code",
      "execution_count": 281,
      "metadata": {
        "id": "RPNicdnpgDgw"
      },
      "outputs": [],
      "source": [
        "import networkx as nx"
      ],
      "id": "RPNicdnpgDgw"
    },
    {
      "cell_type": "code",
      "execution_count": 282,
      "metadata": {
        "colab": {
          "base_uri": "https://localhost:8080/",
          "height": 206
        },
        "id": "rsr_7hJVgFh9",
        "outputId": "e5b9b843-39a8-4c01-cafe-429668844211"
      },
      "outputs": [
        {
          "output_type": "execute_result",
          "data": {
            "text/plain": [
              "      source           target  weights\n",
              "5034  278418       Disclosure        0\n",
              "5839  278418     Ellen Foster        0\n",
              "5855  278418   Watership Down        0\n",
              "5862  278418  The Thorn Birds        0\n",
              "5916  278418    American Gods        0"
            ],
            "text/html": [
              "\n",
              "  <div id=\"df-9b54bbb3-35dc-4267-8d91-39f27b0a20ef\">\n",
              "    <div class=\"colab-df-container\">\n",
              "      <div>\n",
              "<style scoped>\n",
              "    .dataframe tbody tr th:only-of-type {\n",
              "        vertical-align: middle;\n",
              "    }\n",
              "\n",
              "    .dataframe tbody tr th {\n",
              "        vertical-align: top;\n",
              "    }\n",
              "\n",
              "    .dataframe thead th {\n",
              "        text-align: right;\n",
              "    }\n",
              "</style>\n",
              "<table border=\"1\" class=\"dataframe\">\n",
              "  <thead>\n",
              "    <tr style=\"text-align: right;\">\n",
              "      <th></th>\n",
              "      <th>source</th>\n",
              "      <th>target</th>\n",
              "      <th>weights</th>\n",
              "    </tr>\n",
              "  </thead>\n",
              "  <tbody>\n",
              "    <tr>\n",
              "      <th>5034</th>\n",
              "      <td>278418</td>\n",
              "      <td>Disclosure</td>\n",
              "      <td>0</td>\n",
              "    </tr>\n",
              "    <tr>\n",
              "      <th>5839</th>\n",
              "      <td>278418</td>\n",
              "      <td>Ellen Foster</td>\n",
              "      <td>0</td>\n",
              "    </tr>\n",
              "    <tr>\n",
              "      <th>5855</th>\n",
              "      <td>278418</td>\n",
              "      <td>Watership Down</td>\n",
              "      <td>0</td>\n",
              "    </tr>\n",
              "    <tr>\n",
              "      <th>5862</th>\n",
              "      <td>278418</td>\n",
              "      <td>The Thorn Birds</td>\n",
              "      <td>0</td>\n",
              "    </tr>\n",
              "    <tr>\n",
              "      <th>5916</th>\n",
              "      <td>278418</td>\n",
              "      <td>American Gods</td>\n",
              "      <td>0</td>\n",
              "    </tr>\n",
              "  </tbody>\n",
              "</table>\n",
              "</div>\n",
              "      <button class=\"colab-df-convert\" onclick=\"convertToInteractive('df-9b54bbb3-35dc-4267-8d91-39f27b0a20ef')\"\n",
              "              title=\"Convert this dataframe to an interactive table.\"\n",
              "              style=\"display:none;\">\n",
              "        \n",
              "  <svg xmlns=\"http://www.w3.org/2000/svg\" height=\"24px\"viewBox=\"0 0 24 24\"\n",
              "       width=\"24px\">\n",
              "    <path d=\"M0 0h24v24H0V0z\" fill=\"none\"/>\n",
              "    <path d=\"M18.56 5.44l.94 2.06.94-2.06 2.06-.94-2.06-.94-.94-2.06-.94 2.06-2.06.94zm-11 1L8.5 8.5l.94-2.06 2.06-.94-2.06-.94L8.5 2.5l-.94 2.06-2.06.94zm10 10l.94 2.06.94-2.06 2.06-.94-2.06-.94-.94-2.06-.94 2.06-2.06.94z\"/><path d=\"M17.41 7.96l-1.37-1.37c-.4-.4-.92-.59-1.43-.59-.52 0-1.04.2-1.43.59L10.3 9.45l-7.72 7.72c-.78.78-.78 2.05 0 2.83L4 21.41c.39.39.9.59 1.41.59.51 0 1.02-.2 1.41-.59l7.78-7.78 2.81-2.81c.8-.78.8-2.07 0-2.86zM5.41 20L4 18.59l7.72-7.72 1.47 1.35L5.41 20z\"/>\n",
              "  </svg>\n",
              "      </button>\n",
              "      \n",
              "  <style>\n",
              "    .colab-df-container {\n",
              "      display:flex;\n",
              "      flex-wrap:wrap;\n",
              "      gap: 12px;\n",
              "    }\n",
              "\n",
              "    .colab-df-convert {\n",
              "      background-color: #E8F0FE;\n",
              "      border: none;\n",
              "      border-radius: 50%;\n",
              "      cursor: pointer;\n",
              "      display: none;\n",
              "      fill: #1967D2;\n",
              "      height: 32px;\n",
              "      padding: 0 0 0 0;\n",
              "      width: 32px;\n",
              "    }\n",
              "\n",
              "    .colab-df-convert:hover {\n",
              "      background-color: #E2EBFA;\n",
              "      box-shadow: 0px 1px 2px rgba(60, 64, 67, 0.3), 0px 1px 3px 1px rgba(60, 64, 67, 0.15);\n",
              "      fill: #174EA6;\n",
              "    }\n",
              "\n",
              "    [theme=dark] .colab-df-convert {\n",
              "      background-color: #3B4455;\n",
              "      fill: #D2E3FC;\n",
              "    }\n",
              "\n",
              "    [theme=dark] .colab-df-convert:hover {\n",
              "      background-color: #434B5C;\n",
              "      box-shadow: 0px 1px 3px 1px rgba(0, 0, 0, 0.15);\n",
              "      filter: drop-shadow(0px 1px 2px rgba(0, 0, 0, 0.3));\n",
              "      fill: #FFFFFF;\n",
              "    }\n",
              "  </style>\n",
              "\n",
              "      <script>\n",
              "        const buttonEl =\n",
              "          document.querySelector('#df-9b54bbb3-35dc-4267-8d91-39f27b0a20ef button.colab-df-convert');\n",
              "        buttonEl.style.display =\n",
              "          google.colab.kernel.accessAllowed ? 'block' : 'none';\n",
              "\n",
              "        async function convertToInteractive(key) {\n",
              "          const element = document.querySelector('#df-9b54bbb3-35dc-4267-8d91-39f27b0a20ef');\n",
              "          const dataTable =\n",
              "            await google.colab.kernel.invokeFunction('convertToInteractive',\n",
              "                                                     [key], {});\n",
              "          if (!dataTable) return;\n",
              "\n",
              "          const docLinkHtml = 'Like what you see? Visit the ' +\n",
              "            '<a target=\"_blank\" href=https://colab.research.google.com/notebooks/data_table.ipynb>data table notebook</a>'\n",
              "            + ' to learn more about interactive tables.';\n",
              "          element.innerHTML = '';\n",
              "          dataTable['output_type'] = 'display_data';\n",
              "          await google.colab.output.renderOutput(dataTable, element);\n",
              "          const docLink = document.createElement('div');\n",
              "          docLink.innerHTML = docLinkHtml;\n",
              "          element.appendChild(docLink);\n",
              "        }\n",
              "      </script>\n",
              "    </div>\n",
              "  </div>\n",
              "  "
            ]
          },
          "metadata": {},
          "execution_count": 282
        }
      ],
      "source": [
        "user_item_edge_list = graph_df[['source', 'target', 'weights']]\n",
        "user_item_edge_list.head()"
      ],
      "id": "rsr_7hJVgFh9"
    },
    {
      "cell_type": "markdown",
      "metadata": {
        "id": "--iCCEZvt74N"
      },
      "source": [
        "### Make predictions"
      ],
      "id": "--iCCEZvt74N"
    },
    {
      "cell_type": "code",
      "execution_count": 283,
      "metadata": {
        "colab": {
          "base_uri": "https://localhost:8080/",
          "height": 266
        },
        "id": "CFM1sQnZggbm",
        "outputId": "82b34b97-e94b-4944-d7fe-ccfcb5a3ada4"
      },
      "outputs": [
        {
          "output_type": "execute_result",
          "data": {
            "text/plain": [
              "            ISBN                                        Book-Title  \\\n",
              "3459  0439064872  Harry Potter and the Chamber of Secrets (Book 2)   \n",
              "\n",
              "        Book-Author Year-Of-Publication   Publisher  \\\n",
              "3459  J. K. Rowling                2000  Scholastic   \n",
              "\n",
              "                                            Image-URL-S  \\\n",
              "3459  http://images.amazon.com/images/P/0439064872.0...   \n",
              "\n",
              "                                            Image-URL-M  \\\n",
              "3459  http://images.amazon.com/images/P/0439064872.0...   \n",
              "\n",
              "                                            Image-URL-L  \n",
              "3459  http://images.amazon.com/images/P/0439064872.0...  "
            ],
            "text/html": [
              "\n",
              "  <div id=\"df-efa34712-282c-42c4-9a6a-71ae9afdbf59\">\n",
              "    <div class=\"colab-df-container\">\n",
              "      <div>\n",
              "<style scoped>\n",
              "    .dataframe tbody tr th:only-of-type {\n",
              "        vertical-align: middle;\n",
              "    }\n",
              "\n",
              "    .dataframe tbody tr th {\n",
              "        vertical-align: top;\n",
              "    }\n",
              "\n",
              "    .dataframe thead th {\n",
              "        text-align: right;\n",
              "    }\n",
              "</style>\n",
              "<table border=\"1\" class=\"dataframe\">\n",
              "  <thead>\n",
              "    <tr style=\"text-align: right;\">\n",
              "      <th></th>\n",
              "      <th>ISBN</th>\n",
              "      <th>Book-Title</th>\n",
              "      <th>Book-Author</th>\n",
              "      <th>Year-Of-Publication</th>\n",
              "      <th>Publisher</th>\n",
              "      <th>Image-URL-S</th>\n",
              "      <th>Image-URL-M</th>\n",
              "      <th>Image-URL-L</th>\n",
              "    </tr>\n",
              "  </thead>\n",
              "  <tbody>\n",
              "    <tr>\n",
              "      <th>3459</th>\n",
              "      <td>0439064872</td>\n",
              "      <td>Harry Potter and the Chamber of Secrets (Book 2)</td>\n",
              "      <td>J. K. Rowling</td>\n",
              "      <td>2000</td>\n",
              "      <td>Scholastic</td>\n",
              "      <td>http://images.amazon.com/images/P/0439064872.0...</td>\n",
              "      <td>http://images.amazon.com/images/P/0439064872.0...</td>\n",
              "      <td>http://images.amazon.com/images/P/0439064872.0...</td>\n",
              "    </tr>\n",
              "  </tbody>\n",
              "</table>\n",
              "</div>\n",
              "      <button class=\"colab-df-convert\" onclick=\"convertToInteractive('df-efa34712-282c-42c4-9a6a-71ae9afdbf59')\"\n",
              "              title=\"Convert this dataframe to an interactive table.\"\n",
              "              style=\"display:none;\">\n",
              "        \n",
              "  <svg xmlns=\"http://www.w3.org/2000/svg\" height=\"24px\"viewBox=\"0 0 24 24\"\n",
              "       width=\"24px\">\n",
              "    <path d=\"M0 0h24v24H0V0z\" fill=\"none\"/>\n",
              "    <path d=\"M18.56 5.44l.94 2.06.94-2.06 2.06-.94-2.06-.94-.94-2.06-.94 2.06-2.06.94zm-11 1L8.5 8.5l.94-2.06 2.06-.94-2.06-.94L8.5 2.5l-.94 2.06-2.06.94zm10 10l.94 2.06.94-2.06 2.06-.94-2.06-.94-.94-2.06-.94 2.06-2.06.94z\"/><path d=\"M17.41 7.96l-1.37-1.37c-.4-.4-.92-.59-1.43-.59-.52 0-1.04.2-1.43.59L10.3 9.45l-7.72 7.72c-.78.78-.78 2.05 0 2.83L4 21.41c.39.39.9.59 1.41.59.51 0 1.02-.2 1.41-.59l7.78-7.78 2.81-2.81c.8-.78.8-2.07 0-2.86zM5.41 20L4 18.59l7.72-7.72 1.47 1.35L5.41 20z\"/>\n",
              "  </svg>\n",
              "      </button>\n",
              "      \n",
              "  <style>\n",
              "    .colab-df-container {\n",
              "      display:flex;\n",
              "      flex-wrap:wrap;\n",
              "      gap: 12px;\n",
              "    }\n",
              "\n",
              "    .colab-df-convert {\n",
              "      background-color: #E8F0FE;\n",
              "      border: none;\n",
              "      border-radius: 50%;\n",
              "      cursor: pointer;\n",
              "      display: none;\n",
              "      fill: #1967D2;\n",
              "      height: 32px;\n",
              "      padding: 0 0 0 0;\n",
              "      width: 32px;\n",
              "    }\n",
              "\n",
              "    .colab-df-convert:hover {\n",
              "      background-color: #E2EBFA;\n",
              "      box-shadow: 0px 1px 2px rgba(60, 64, 67, 0.3), 0px 1px 3px 1px rgba(60, 64, 67, 0.15);\n",
              "      fill: #174EA6;\n",
              "    }\n",
              "\n",
              "    [theme=dark] .colab-df-convert {\n",
              "      background-color: #3B4455;\n",
              "      fill: #D2E3FC;\n",
              "    }\n",
              "\n",
              "    [theme=dark] .colab-df-convert:hover {\n",
              "      background-color: #434B5C;\n",
              "      box-shadow: 0px 1px 3px 1px rgba(0, 0, 0, 0.15);\n",
              "      filter: drop-shadow(0px 1px 2px rgba(0, 0, 0, 0.3));\n",
              "      fill: #FFFFFF;\n",
              "    }\n",
              "  </style>\n",
              "\n",
              "      <script>\n",
              "        const buttonEl =\n",
              "          document.querySelector('#df-efa34712-282c-42c4-9a6a-71ae9afdbf59 button.colab-df-convert');\n",
              "        buttonEl.style.display =\n",
              "          google.colab.kernel.accessAllowed ? 'block' : 'none';\n",
              "\n",
              "        async function convertToInteractive(key) {\n",
              "          const element = document.querySelector('#df-efa34712-282c-42c4-9a6a-71ae9afdbf59');\n",
              "          const dataTable =\n",
              "            await google.colab.kernel.invokeFunction('convertToInteractive',\n",
              "                                                     [key], {});\n",
              "          if (!dataTable) return;\n",
              "\n",
              "          const docLinkHtml = 'Like what you see? Visit the ' +\n",
              "            '<a target=\"_blank\" href=https://colab.research.google.com/notebooks/data_table.ipynb>data table notebook</a>'\n",
              "            + ' to learn more about interactive tables.';\n",
              "          element.innerHTML = '';\n",
              "          dataTable['output_type'] = 'display_data';\n",
              "          await google.colab.output.renderOutput(dataTable, element);\n",
              "          const docLink = document.createElement('div');\n",
              "          docLink.innerHTML = docLinkHtml;\n",
              "          element.appendChild(docLink);\n",
              "        }\n",
              "      </script>\n",
              "    </div>\n",
              "  </div>\n",
              "  "
            ]
          },
          "metadata": {},
          "execution_count": 283
        }
      ],
      "source": [
        "\n",
        "book_df[book_df['Book-Title']==\"Harry Potter and the Chamber of Secrets (Book 2)\"].head(1)\n",
        "#book_df[book_df['Book-Title']=='Animal Farm']"
      ],
      "id": "CFM1sQnZggbm"
    },
    {
      "cell_type": "code",
      "source": [
        "book_df[book_df['Book-Title']==\"Harry Potter and the Sorcerer's Stone (Book 1)\"].head(1)"
      ],
      "metadata": {
        "colab": {
          "base_uri": "https://localhost:8080/",
          "height": 249
        },
        "id": "OqLxC2GOaX7d",
        "outputId": "c737efcb-bc64-4330-8248-62b6e878febb"
      },
      "id": "OqLxC2GOaX7d",
      "execution_count": 284,
      "outputs": [
        {
          "output_type": "execute_result",
          "data": {
            "text/plain": [
              "            ISBN                                      Book-Title  \\\n",
              "2809  0590353403  Harry Potter and the Sorcerer's Stone (Book 1)   \n",
              "\n",
              "        Book-Author Year-Of-Publication   Publisher  \\\n",
              "2809  J. K. Rowling                1998  Scholastic   \n",
              "\n",
              "                                            Image-URL-S  \\\n",
              "2809  http://images.amazon.com/images/P/0590353403.0...   \n",
              "\n",
              "                                            Image-URL-M  \\\n",
              "2809  http://images.amazon.com/images/P/0590353403.0...   \n",
              "\n",
              "                                            Image-URL-L  \n",
              "2809  http://images.amazon.com/images/P/0590353403.0...  "
            ],
            "text/html": [
              "\n",
              "  <div id=\"df-4a918371-c47f-4624-94e5-28d45b955059\">\n",
              "    <div class=\"colab-df-container\">\n",
              "      <div>\n",
              "<style scoped>\n",
              "    .dataframe tbody tr th:only-of-type {\n",
              "        vertical-align: middle;\n",
              "    }\n",
              "\n",
              "    .dataframe tbody tr th {\n",
              "        vertical-align: top;\n",
              "    }\n",
              "\n",
              "    .dataframe thead th {\n",
              "        text-align: right;\n",
              "    }\n",
              "</style>\n",
              "<table border=\"1\" class=\"dataframe\">\n",
              "  <thead>\n",
              "    <tr style=\"text-align: right;\">\n",
              "      <th></th>\n",
              "      <th>ISBN</th>\n",
              "      <th>Book-Title</th>\n",
              "      <th>Book-Author</th>\n",
              "      <th>Year-Of-Publication</th>\n",
              "      <th>Publisher</th>\n",
              "      <th>Image-URL-S</th>\n",
              "      <th>Image-URL-M</th>\n",
              "      <th>Image-URL-L</th>\n",
              "    </tr>\n",
              "  </thead>\n",
              "  <tbody>\n",
              "    <tr>\n",
              "      <th>2809</th>\n",
              "      <td>0590353403</td>\n",
              "      <td>Harry Potter and the Sorcerer's Stone (Book 1)</td>\n",
              "      <td>J. K. Rowling</td>\n",
              "      <td>1998</td>\n",
              "      <td>Scholastic</td>\n",
              "      <td>http://images.amazon.com/images/P/0590353403.0...</td>\n",
              "      <td>http://images.amazon.com/images/P/0590353403.0...</td>\n",
              "      <td>http://images.amazon.com/images/P/0590353403.0...</td>\n",
              "    </tr>\n",
              "  </tbody>\n",
              "</table>\n",
              "</div>\n",
              "      <button class=\"colab-df-convert\" onclick=\"convertToInteractive('df-4a918371-c47f-4624-94e5-28d45b955059')\"\n",
              "              title=\"Convert this dataframe to an interactive table.\"\n",
              "              style=\"display:none;\">\n",
              "        \n",
              "  <svg xmlns=\"http://www.w3.org/2000/svg\" height=\"24px\"viewBox=\"0 0 24 24\"\n",
              "       width=\"24px\">\n",
              "    <path d=\"M0 0h24v24H0V0z\" fill=\"none\"/>\n",
              "    <path d=\"M18.56 5.44l.94 2.06.94-2.06 2.06-.94-2.06-.94-.94-2.06-.94 2.06-2.06.94zm-11 1L8.5 8.5l.94-2.06 2.06-.94-2.06-.94L8.5 2.5l-.94 2.06-2.06.94zm10 10l.94 2.06.94-2.06 2.06-.94-2.06-.94-.94-2.06-.94 2.06-2.06.94z\"/><path d=\"M17.41 7.96l-1.37-1.37c-.4-.4-.92-.59-1.43-.59-.52 0-1.04.2-1.43.59L10.3 9.45l-7.72 7.72c-.78.78-.78 2.05 0 2.83L4 21.41c.39.39.9.59 1.41.59.51 0 1.02-.2 1.41-.59l7.78-7.78 2.81-2.81c.8-.78.8-2.07 0-2.86zM5.41 20L4 18.59l7.72-7.72 1.47 1.35L5.41 20z\"/>\n",
              "  </svg>\n",
              "      </button>\n",
              "      \n",
              "  <style>\n",
              "    .colab-df-container {\n",
              "      display:flex;\n",
              "      flex-wrap:wrap;\n",
              "      gap: 12px;\n",
              "    }\n",
              "\n",
              "    .colab-df-convert {\n",
              "      background-color: #E8F0FE;\n",
              "      border: none;\n",
              "      border-radius: 50%;\n",
              "      cursor: pointer;\n",
              "      display: none;\n",
              "      fill: #1967D2;\n",
              "      height: 32px;\n",
              "      padding: 0 0 0 0;\n",
              "      width: 32px;\n",
              "    }\n",
              "\n",
              "    .colab-df-convert:hover {\n",
              "      background-color: #E2EBFA;\n",
              "      box-shadow: 0px 1px 2px rgba(60, 64, 67, 0.3), 0px 1px 3px 1px rgba(60, 64, 67, 0.15);\n",
              "      fill: #174EA6;\n",
              "    }\n",
              "\n",
              "    [theme=dark] .colab-df-convert {\n",
              "      background-color: #3B4455;\n",
              "      fill: #D2E3FC;\n",
              "    }\n",
              "\n",
              "    [theme=dark] .colab-df-convert:hover {\n",
              "      background-color: #434B5C;\n",
              "      box-shadow: 0px 1px 3px 1px rgba(0, 0, 0, 0.15);\n",
              "      filter: drop-shadow(0px 1px 2px rgba(0, 0, 0, 0.3));\n",
              "      fill: #FFFFFF;\n",
              "    }\n",
              "  </style>\n",
              "\n",
              "      <script>\n",
              "        const buttonEl =\n",
              "          document.querySelector('#df-4a918371-c47f-4624-94e5-28d45b955059 button.colab-df-convert');\n",
              "        buttonEl.style.display =\n",
              "          google.colab.kernel.accessAllowed ? 'block' : 'none';\n",
              "\n",
              "        async function convertToInteractive(key) {\n",
              "          const element = document.querySelector('#df-4a918371-c47f-4624-94e5-28d45b955059');\n",
              "          const dataTable =\n",
              "            await google.colab.kernel.invokeFunction('convertToInteractive',\n",
              "                                                     [key], {});\n",
              "          if (!dataTable) return;\n",
              "\n",
              "          const docLinkHtml = 'Like what you see? Visit the ' +\n",
              "            '<a target=\"_blank\" href=https://colab.research.google.com/notebooks/data_table.ipynb>data table notebook</a>'\n",
              "            + ' to learn more about interactive tables.';\n",
              "          element.innerHTML = '';\n",
              "          dataTable['output_type'] = 'display_data';\n",
              "          await google.colab.output.renderOutput(dataTable, element);\n",
              "          const docLink = document.createElement('div');\n",
              "          docLink.innerHTML = docLinkHtml;\n",
              "          element.appendChild(docLink);\n",
              "        }\n",
              "      </script>\n",
              "    </div>\n",
              "  </div>\n",
              "  "
            ]
          },
          "metadata": {},
          "execution_count": 284
        }
      ]
    },
    {
      "cell_type": "code",
      "execution_count": 285,
      "metadata": {
        "id": "jf4289uCgTvQ"
      },
      "outputs": [],
      "source": [
        "book1 = \"Harry Potter and the Sorcerer's Stone (Book 1)\"\n",
        "book2 = \"Harry Potter and the Chamber of Secrets (Book 2)\""
      ],
      "id": "jf4289uCgTvQ"
    },
    {
      "cell_type": "markdown",
      "metadata": {
        "id": "bP4SbqMdKMAq"
      },
      "source": [
        "##### Check cosine similarity"
      ],
      "id": "bP4SbqMdKMAq"
    },
    {
      "cell_type": "code",
      "source": [
        "\n",
        "from scipy.spatial.distance import cosine\n",
        "1.0 - cosine(node_embeddings[book1], node_embeddings[book2])"
      ],
      "metadata": {
        "colab": {
          "base_uri": "https://localhost:8080/"
        },
        "id": "SKwoJwhidU-h",
        "outputId": "83143616-c902-4bd8-8dc6-071f394e4df5"
      },
      "id": "SKwoJwhidU-h",
      "execution_count": 286,
      "outputs": [
        {
          "output_type": "execute_result",
          "data": {
            "text/plain": [
              "0.5908518433570862"
            ]
          },
          "metadata": {},
          "execution_count": 286
        }
      ]
    },
    {
      "cell_type": "markdown",
      "metadata": {
        "id": "XYK2qLvrhfHm"
      },
      "source": [
        "Since we worked with integer ids for nodes, let's create reverse mapping dictionaries that map integer user/movie to their actual ids. "
      ],
      "id": "XYK2qLvrhfHm"
    },
    {
      "cell_type": "code",
      "execution_count": 287,
      "metadata": {
        "id": "DQlN40JrhqWG"
      },
      "outputs": [],
      "source": [
        "from sklearn.metrics.pairwise import cosine_similarity\n"
      ],
      "id": "DQlN40JrhqWG"
    },
    {
      "cell_type": "code",
      "execution_count": 288,
      "metadata": {
        "id": "V-FUPor1nsZH"
      },
      "outputs": [],
      "source": [
        "df=user_item_edge_list['target'].unique()"
      ],
      "id": "V-FUPor1nsZH"
    },
    {
      "cell_type": "code",
      "execution_count": 289,
      "metadata": {
        "id": "r85UrUuQn32Q"
      },
      "outputs": [],
      "source": [
        "df=list(df)\n",
        "df.sort()\n"
      ],
      "id": "r85UrUuQn32Q"
    },
    {
      "cell_type": "code",
      "execution_count": 290,
      "metadata": {
        "id": "WiG-JCBwoKp-"
      },
      "outputs": [],
      "source": [
        "book1 = \"Harry Potter and the Sorcerer's Stone (Book 1)\"\n"
      ],
      "id": "WiG-JCBwoKp-"
    },
    {
      "cell_type": "code",
      "execution_count": 291,
      "metadata": {
        "id": "w9IchYdBnF2g"
      },
      "outputs": [],
      "source": [
        "result= {}\n",
        "for i in df:\n",
        "  if(i!=\"Harry Potter and the Sorcerer's Stone (Book 1)\"):\n",
        "    book2 = i\n",
        "    cos=0\n",
        "    try:\n",
        "      cos=1.0 - cosine(node_embeddings[book1], node_embeddings[book2])\n",
        "    except:\n",
        "      pass\n",
        "    result[i]=cos"
      ],
      "id": "w9IchYdBnF2g"
    },
    {
      "cell_type": "code",
      "execution_count": 292,
      "metadata": {
        "id": "aJwhOFm3pfJe"
      },
      "outputs": [],
      "source": [
        "from collections import Counter\n",
        "result=dict(Counter(result).most_common(10))"
      ],
      "id": "aJwhOFm3pfJe"
    },
    {
      "cell_type": "code",
      "execution_count": 293,
      "metadata": {
        "id": "dk0WsD8Zo24n"
      },
      "outputs": [],
      "source": [
        "\n",
        "result= list(result.keys())"
      ],
      "id": "dk0WsD8Zo24n"
    },
    {
      "cell_type": "code",
      "execution_count": 294,
      "metadata": {
        "colab": {
          "base_uri": "https://localhost:8080/",
          "height": 1000
        },
        "id": "gGmviLozs2Su",
        "outputId": "af444b54-dc85-45a5-b823-0d12decf2361"
      },
      "outputs": [
        {
          "output_type": "execute_result",
          "data": {
            "text/plain": [
              "            ISBN                                         Book-Title  \\\n",
              "800   0064407667  The Bad Beginning (A Series of Unfortunate Eve...   \n",
              "1057  055321313X  Anne of Green Gables (Anne of Green Gables Nov...   \n",
              "2885  034538475X  The Tale of the Body Thief (Vampire Chronicles...   \n",
              "2910  0380718340  Cruel &amp; Unusual (Kay Scarpetta Mysteries (...   \n",
              "3459  0439064872   Harry Potter and the Chamber of Secrets (Book 2)   \n",
              "3739  002542730X  Politically Correct Bedtime Stories: Modern Ta...   \n",
              "3839  0439136350  Harry Potter and the Prisoner of Azkaban (Book 3)   \n",
              "4114  0060809833                                    Brave New World   \n",
              "5431  0439139597       Harry Potter and the Goblet of Fire (Book 4)   \n",
              "5506  043935806X  Harry Potter and the Order of the Phoenix (Boo...   \n",
              "\n",
              "               Book-Author Year-Of-Publication                  Publisher  \\\n",
              "800         Lemony Snicket                1999              HarperCollins   \n",
              "1057       L.M. MONTGOMERY                1982            Bantam Classics   \n",
              "2885             Anne Rice                1993           Ballantine Books   \n",
              "2910  Patricia D. Cornwell                1994                       Avon   \n",
              "3459         J. K. Rowling                2000                 Scholastic   \n",
              "3739     James Finn Garner                1994  John Wiley &amp; Sons Inc   \n",
              "3839         J. K. Rowling                1999                 Scholastic   \n",
              "4114         Aldous Huxley                1989              Harpercollins   \n",
              "5431         J. K. Rowling                2000                 Scholastic   \n",
              "5506         J. K. Rowling                2003                 Scholastic   \n",
              "\n",
              "                                            Image-URL-S  \\\n",
              "800   http://images.amazon.com/images/P/0064407667.0...   \n",
              "1057  http://images.amazon.com/images/P/055321313X.0...   \n",
              "2885  http://images.amazon.com/images/P/034538475X.0...   \n",
              "2910  http://images.amazon.com/images/P/0380718340.0...   \n",
              "3459  http://images.amazon.com/images/P/0439064872.0...   \n",
              "3739  http://images.amazon.com/images/P/002542730X.0...   \n",
              "3839  http://images.amazon.com/images/P/0439136350.0...   \n",
              "4114  http://images.amazon.com/images/P/0060809833.0...   \n",
              "5431  http://images.amazon.com/images/P/0439139597.0...   \n",
              "5506  http://images.amazon.com/images/P/043935806X.0...   \n",
              "\n",
              "                                            Image-URL-M  \\\n",
              "800   http://images.amazon.com/images/P/0064407667.0...   \n",
              "1057  http://images.amazon.com/images/P/055321313X.0...   \n",
              "2885  http://images.amazon.com/images/P/034538475X.0...   \n",
              "2910  http://images.amazon.com/images/P/0380718340.0...   \n",
              "3459  http://images.amazon.com/images/P/0439064872.0...   \n",
              "3739  http://images.amazon.com/images/P/002542730X.0...   \n",
              "3839  http://images.amazon.com/images/P/0439136350.0...   \n",
              "4114  http://images.amazon.com/images/P/0060809833.0...   \n",
              "5431  http://images.amazon.com/images/P/0439139597.0...   \n",
              "5506  http://images.amazon.com/images/P/043935806X.0...   \n",
              "\n",
              "                                            Image-URL-L  \n",
              "800   http://images.amazon.com/images/P/0064407667.0...  \n",
              "1057  http://images.amazon.com/images/P/055321313X.0...  \n",
              "2885  http://images.amazon.com/images/P/034538475X.0...  \n",
              "2910  http://images.amazon.com/images/P/0380718340.0...  \n",
              "3459  http://images.amazon.com/images/P/0439064872.0...  \n",
              "3739  http://images.amazon.com/images/P/002542730X.0...  \n",
              "3839  http://images.amazon.com/images/P/0439136350.0...  \n",
              "4114  http://images.amazon.com/images/P/0060809833.0...  \n",
              "5431  http://images.amazon.com/images/P/0439139597.0...  \n",
              "5506  http://images.amazon.com/images/P/043935806X.0...  "
            ],
            "text/html": [
              "\n",
              "  <div id=\"df-327de8d5-9fb0-4f5a-afd5-3712298c83dc\">\n",
              "    <div class=\"colab-df-container\">\n",
              "      <div>\n",
              "<style scoped>\n",
              "    .dataframe tbody tr th:only-of-type {\n",
              "        vertical-align: middle;\n",
              "    }\n",
              "\n",
              "    .dataframe tbody tr th {\n",
              "        vertical-align: top;\n",
              "    }\n",
              "\n",
              "    .dataframe thead th {\n",
              "        text-align: right;\n",
              "    }\n",
              "</style>\n",
              "<table border=\"1\" class=\"dataframe\">\n",
              "  <thead>\n",
              "    <tr style=\"text-align: right;\">\n",
              "      <th></th>\n",
              "      <th>ISBN</th>\n",
              "      <th>Book-Title</th>\n",
              "      <th>Book-Author</th>\n",
              "      <th>Year-Of-Publication</th>\n",
              "      <th>Publisher</th>\n",
              "      <th>Image-URL-S</th>\n",
              "      <th>Image-URL-M</th>\n",
              "      <th>Image-URL-L</th>\n",
              "    </tr>\n",
              "  </thead>\n",
              "  <tbody>\n",
              "    <tr>\n",
              "      <th>800</th>\n",
              "      <td>0064407667</td>\n",
              "      <td>The Bad Beginning (A Series of Unfortunate Eve...</td>\n",
              "      <td>Lemony Snicket</td>\n",
              "      <td>1999</td>\n",
              "      <td>HarperCollins</td>\n",
              "      <td>http://images.amazon.com/images/P/0064407667.0...</td>\n",
              "      <td>http://images.amazon.com/images/P/0064407667.0...</td>\n",
              "      <td>http://images.amazon.com/images/P/0064407667.0...</td>\n",
              "    </tr>\n",
              "    <tr>\n",
              "      <th>1057</th>\n",
              "      <td>055321313X</td>\n",
              "      <td>Anne of Green Gables (Anne of Green Gables Nov...</td>\n",
              "      <td>L.M. MONTGOMERY</td>\n",
              "      <td>1982</td>\n",
              "      <td>Bantam Classics</td>\n",
              "      <td>http://images.amazon.com/images/P/055321313X.0...</td>\n",
              "      <td>http://images.amazon.com/images/P/055321313X.0...</td>\n",
              "      <td>http://images.amazon.com/images/P/055321313X.0...</td>\n",
              "    </tr>\n",
              "    <tr>\n",
              "      <th>2885</th>\n",
              "      <td>034538475X</td>\n",
              "      <td>The Tale of the Body Thief (Vampire Chronicles...</td>\n",
              "      <td>Anne Rice</td>\n",
              "      <td>1993</td>\n",
              "      <td>Ballantine Books</td>\n",
              "      <td>http://images.amazon.com/images/P/034538475X.0...</td>\n",
              "      <td>http://images.amazon.com/images/P/034538475X.0...</td>\n",
              "      <td>http://images.amazon.com/images/P/034538475X.0...</td>\n",
              "    </tr>\n",
              "    <tr>\n",
              "      <th>2910</th>\n",
              "      <td>0380718340</td>\n",
              "      <td>Cruel &amp;amp; Unusual (Kay Scarpetta Mysteries (...</td>\n",
              "      <td>Patricia D. Cornwell</td>\n",
              "      <td>1994</td>\n",
              "      <td>Avon</td>\n",
              "      <td>http://images.amazon.com/images/P/0380718340.0...</td>\n",
              "      <td>http://images.amazon.com/images/P/0380718340.0...</td>\n",
              "      <td>http://images.amazon.com/images/P/0380718340.0...</td>\n",
              "    </tr>\n",
              "    <tr>\n",
              "      <th>3459</th>\n",
              "      <td>0439064872</td>\n",
              "      <td>Harry Potter and the Chamber of Secrets (Book 2)</td>\n",
              "      <td>J. K. Rowling</td>\n",
              "      <td>2000</td>\n",
              "      <td>Scholastic</td>\n",
              "      <td>http://images.amazon.com/images/P/0439064872.0...</td>\n",
              "      <td>http://images.amazon.com/images/P/0439064872.0...</td>\n",
              "      <td>http://images.amazon.com/images/P/0439064872.0...</td>\n",
              "    </tr>\n",
              "    <tr>\n",
              "      <th>3739</th>\n",
              "      <td>002542730X</td>\n",
              "      <td>Politically Correct Bedtime Stories: Modern Ta...</td>\n",
              "      <td>James Finn Garner</td>\n",
              "      <td>1994</td>\n",
              "      <td>John Wiley &amp;amp; Sons Inc</td>\n",
              "      <td>http://images.amazon.com/images/P/002542730X.0...</td>\n",
              "      <td>http://images.amazon.com/images/P/002542730X.0...</td>\n",
              "      <td>http://images.amazon.com/images/P/002542730X.0...</td>\n",
              "    </tr>\n",
              "    <tr>\n",
              "      <th>3839</th>\n",
              "      <td>0439136350</td>\n",
              "      <td>Harry Potter and the Prisoner of Azkaban (Book 3)</td>\n",
              "      <td>J. K. Rowling</td>\n",
              "      <td>1999</td>\n",
              "      <td>Scholastic</td>\n",
              "      <td>http://images.amazon.com/images/P/0439136350.0...</td>\n",
              "      <td>http://images.amazon.com/images/P/0439136350.0...</td>\n",
              "      <td>http://images.amazon.com/images/P/0439136350.0...</td>\n",
              "    </tr>\n",
              "    <tr>\n",
              "      <th>4114</th>\n",
              "      <td>0060809833</td>\n",
              "      <td>Brave New World</td>\n",
              "      <td>Aldous Huxley</td>\n",
              "      <td>1989</td>\n",
              "      <td>Harpercollins</td>\n",
              "      <td>http://images.amazon.com/images/P/0060809833.0...</td>\n",
              "      <td>http://images.amazon.com/images/P/0060809833.0...</td>\n",
              "      <td>http://images.amazon.com/images/P/0060809833.0...</td>\n",
              "    </tr>\n",
              "    <tr>\n",
              "      <th>5431</th>\n",
              "      <td>0439139597</td>\n",
              "      <td>Harry Potter and the Goblet of Fire (Book 4)</td>\n",
              "      <td>J. K. Rowling</td>\n",
              "      <td>2000</td>\n",
              "      <td>Scholastic</td>\n",
              "      <td>http://images.amazon.com/images/P/0439139597.0...</td>\n",
              "      <td>http://images.amazon.com/images/P/0439139597.0...</td>\n",
              "      <td>http://images.amazon.com/images/P/0439139597.0...</td>\n",
              "    </tr>\n",
              "    <tr>\n",
              "      <th>5506</th>\n",
              "      <td>043935806X</td>\n",
              "      <td>Harry Potter and the Order of the Phoenix (Boo...</td>\n",
              "      <td>J. K. Rowling</td>\n",
              "      <td>2003</td>\n",
              "      <td>Scholastic</td>\n",
              "      <td>http://images.amazon.com/images/P/043935806X.0...</td>\n",
              "      <td>http://images.amazon.com/images/P/043935806X.0...</td>\n",
              "      <td>http://images.amazon.com/images/P/043935806X.0...</td>\n",
              "    </tr>\n",
              "  </tbody>\n",
              "</table>\n",
              "</div>\n",
              "      <button class=\"colab-df-convert\" onclick=\"convertToInteractive('df-327de8d5-9fb0-4f5a-afd5-3712298c83dc')\"\n",
              "              title=\"Convert this dataframe to an interactive table.\"\n",
              "              style=\"display:none;\">\n",
              "        \n",
              "  <svg xmlns=\"http://www.w3.org/2000/svg\" height=\"24px\"viewBox=\"0 0 24 24\"\n",
              "       width=\"24px\">\n",
              "    <path d=\"M0 0h24v24H0V0z\" fill=\"none\"/>\n",
              "    <path d=\"M18.56 5.44l.94 2.06.94-2.06 2.06-.94-2.06-.94-.94-2.06-.94 2.06-2.06.94zm-11 1L8.5 8.5l.94-2.06 2.06-.94-2.06-.94L8.5 2.5l-.94 2.06-2.06.94zm10 10l.94 2.06.94-2.06 2.06-.94-2.06-.94-.94-2.06-.94 2.06-2.06.94z\"/><path d=\"M17.41 7.96l-1.37-1.37c-.4-.4-.92-.59-1.43-.59-.52 0-1.04.2-1.43.59L10.3 9.45l-7.72 7.72c-.78.78-.78 2.05 0 2.83L4 21.41c.39.39.9.59 1.41.59.51 0 1.02-.2 1.41-.59l7.78-7.78 2.81-2.81c.8-.78.8-2.07 0-2.86zM5.41 20L4 18.59l7.72-7.72 1.47 1.35L5.41 20z\"/>\n",
              "  </svg>\n",
              "      </button>\n",
              "      \n",
              "  <style>\n",
              "    .colab-df-container {\n",
              "      display:flex;\n",
              "      flex-wrap:wrap;\n",
              "      gap: 12px;\n",
              "    }\n",
              "\n",
              "    .colab-df-convert {\n",
              "      background-color: #E8F0FE;\n",
              "      border: none;\n",
              "      border-radius: 50%;\n",
              "      cursor: pointer;\n",
              "      display: none;\n",
              "      fill: #1967D2;\n",
              "      height: 32px;\n",
              "      padding: 0 0 0 0;\n",
              "      width: 32px;\n",
              "    }\n",
              "\n",
              "    .colab-df-convert:hover {\n",
              "      background-color: #E2EBFA;\n",
              "      box-shadow: 0px 1px 2px rgba(60, 64, 67, 0.3), 0px 1px 3px 1px rgba(60, 64, 67, 0.15);\n",
              "      fill: #174EA6;\n",
              "    }\n",
              "\n",
              "    [theme=dark] .colab-df-convert {\n",
              "      background-color: #3B4455;\n",
              "      fill: #D2E3FC;\n",
              "    }\n",
              "\n",
              "    [theme=dark] .colab-df-convert:hover {\n",
              "      background-color: #434B5C;\n",
              "      box-shadow: 0px 1px 3px 1px rgba(0, 0, 0, 0.15);\n",
              "      filter: drop-shadow(0px 1px 2px rgba(0, 0, 0, 0.3));\n",
              "      fill: #FFFFFF;\n",
              "    }\n",
              "  </style>\n",
              "\n",
              "      <script>\n",
              "        const buttonEl =\n",
              "          document.querySelector('#df-327de8d5-9fb0-4f5a-afd5-3712298c83dc button.colab-df-convert');\n",
              "        buttonEl.style.display =\n",
              "          google.colab.kernel.accessAllowed ? 'block' : 'none';\n",
              "\n",
              "        async function convertToInteractive(key) {\n",
              "          const element = document.querySelector('#df-327de8d5-9fb0-4f5a-afd5-3712298c83dc');\n",
              "          const dataTable =\n",
              "            await google.colab.kernel.invokeFunction('convertToInteractive',\n",
              "                                                     [key], {});\n",
              "          if (!dataTable) return;\n",
              "\n",
              "          const docLinkHtml = 'Like what you see? Visit the ' +\n",
              "            '<a target=\"_blank\" href=https://colab.research.google.com/notebooks/data_table.ipynb>data table notebook</a>'\n",
              "            + ' to learn more about interactive tables.';\n",
              "          element.innerHTML = '';\n",
              "          dataTable['output_type'] = 'display_data';\n",
              "          await google.colab.output.renderOutput(dataTable, element);\n",
              "          const docLink = document.createElement('div');\n",
              "          docLink.innerHTML = docLinkHtml;\n",
              "          element.appendChild(docLink);\n",
              "        }\n",
              "      </script>\n",
              "    </div>\n",
              "  </div>\n",
              "  "
            ]
          },
          "metadata": {},
          "execution_count": 294
        }
      ],
      "source": [
        "\n",
        "book_df[book_df['Book-Title'].isin(result)].groupby('Book-Title').head(1)"
      ],
      "id": "gGmviLozs2Su"
    },
    {
      "cell_type": "markdown",
      "source": [
        "## Evaluate our result\n",
        "- We will generate top 10 recommendations for 100 user and calculate the hit rate in test data set."
      ],
      "metadata": {
        "id": "Wl4q0Sb-0moU"
      },
      "id": "Wl4q0Sb-0moU"
    },
    {
      "cell_type": "code",
      "source": [
        "userlist=list(graph_df.source.unique())[:100]"
      ],
      "metadata": {
        "id": "aAAB8D0L0QaB"
      },
      "id": "aAAB8D0L0QaB",
      "execution_count": 295,
      "outputs": []
    },
    {
      "cell_type": "code",
      "source": [
        "data=graph_df[graph_df['source'].isin(userlist)]"
      ],
      "metadata": {
        "id": "JTu7Jy320qwt"
      },
      "id": "JTu7Jy320qwt",
      "execution_count": 296,
      "outputs": []
    },
    {
      "cell_type": "code",
      "source": [
        "test_df=test_df[test_df['User-ID'].isin(userlist)]"
      ],
      "metadata": {
        "id": "pUuWQbhP08Di"
      },
      "id": "pUuWQbhP08Di",
      "execution_count": 297,
      "outputs": []
    },
    {
      "cell_type": "code",
      "source": [
        "result=data.sort_values(by=['source','weights'],ascending=[True,False])\n",
        "result=result.groupby('source').head(10)"
      ],
      "metadata": {
        "id": "Sa0NqkRM0_8A"
      },
      "id": "Sa0NqkRM0_8A",
      "execution_count": 298,
      "outputs": []
    },
    {
      "cell_type": "code",
      "source": [
        "result.head(1)"
      ],
      "metadata": {
        "colab": {
          "base_uri": "https://localhost:8080/",
          "height": 81
        },
        "id": "wxmApUla5fNL",
        "outputId": "d10cefdc-4f3d-45b1-e819-178b21393002"
      },
      "id": "wxmApUla5fNL",
      "execution_count": 299,
      "outputs": [
        {
          "output_type": "execute_result",
          "data": {
            "text/plain": [
              "         source                                target  weights\n",
              "1063700  254241  The Hitchhiker's Guide to the Galaxy        0"
            ],
            "text/html": [
              "\n",
              "  <div id=\"df-f353c8ef-df6e-4ef0-a9e5-812c61ebcd44\">\n",
              "    <div class=\"colab-df-container\">\n",
              "      <div>\n",
              "<style scoped>\n",
              "    .dataframe tbody tr th:only-of-type {\n",
              "        vertical-align: middle;\n",
              "    }\n",
              "\n",
              "    .dataframe tbody tr th {\n",
              "        vertical-align: top;\n",
              "    }\n",
              "\n",
              "    .dataframe thead th {\n",
              "        text-align: right;\n",
              "    }\n",
              "</style>\n",
              "<table border=\"1\" class=\"dataframe\">\n",
              "  <thead>\n",
              "    <tr style=\"text-align: right;\">\n",
              "      <th></th>\n",
              "      <th>source</th>\n",
              "      <th>target</th>\n",
              "      <th>weights</th>\n",
              "    </tr>\n",
              "  </thead>\n",
              "  <tbody>\n",
              "    <tr>\n",
              "      <th>1063700</th>\n",
              "      <td>254241</td>\n",
              "      <td>The Hitchhiker's Guide to the Galaxy</td>\n",
              "      <td>0</td>\n",
              "    </tr>\n",
              "  </tbody>\n",
              "</table>\n",
              "</div>\n",
              "      <button class=\"colab-df-convert\" onclick=\"convertToInteractive('df-f353c8ef-df6e-4ef0-a9e5-812c61ebcd44')\"\n",
              "              title=\"Convert this dataframe to an interactive table.\"\n",
              "              style=\"display:none;\">\n",
              "        \n",
              "  <svg xmlns=\"http://www.w3.org/2000/svg\" height=\"24px\"viewBox=\"0 0 24 24\"\n",
              "       width=\"24px\">\n",
              "    <path d=\"M0 0h24v24H0V0z\" fill=\"none\"/>\n",
              "    <path d=\"M18.56 5.44l.94 2.06.94-2.06 2.06-.94-2.06-.94-.94-2.06-.94 2.06-2.06.94zm-11 1L8.5 8.5l.94-2.06 2.06-.94-2.06-.94L8.5 2.5l-.94 2.06-2.06.94zm10 10l.94 2.06.94-2.06 2.06-.94-2.06-.94-.94-2.06-.94 2.06-2.06.94z\"/><path d=\"M17.41 7.96l-1.37-1.37c-.4-.4-.92-.59-1.43-.59-.52 0-1.04.2-1.43.59L10.3 9.45l-7.72 7.72c-.78.78-.78 2.05 0 2.83L4 21.41c.39.39.9.59 1.41.59.51 0 1.02-.2 1.41-.59l7.78-7.78 2.81-2.81c.8-.78.8-2.07 0-2.86zM5.41 20L4 18.59l7.72-7.72 1.47 1.35L5.41 20z\"/>\n",
              "  </svg>\n",
              "      </button>\n",
              "      \n",
              "  <style>\n",
              "    .colab-df-container {\n",
              "      display:flex;\n",
              "      flex-wrap:wrap;\n",
              "      gap: 12px;\n",
              "    }\n",
              "\n",
              "    .colab-df-convert {\n",
              "      background-color: #E8F0FE;\n",
              "      border: none;\n",
              "      border-radius: 50%;\n",
              "      cursor: pointer;\n",
              "      display: none;\n",
              "      fill: #1967D2;\n",
              "      height: 32px;\n",
              "      padding: 0 0 0 0;\n",
              "      width: 32px;\n",
              "    }\n",
              "\n",
              "    .colab-df-convert:hover {\n",
              "      background-color: #E2EBFA;\n",
              "      box-shadow: 0px 1px 2px rgba(60, 64, 67, 0.3), 0px 1px 3px 1px rgba(60, 64, 67, 0.15);\n",
              "      fill: #174EA6;\n",
              "    }\n",
              "\n",
              "    [theme=dark] .colab-df-convert {\n",
              "      background-color: #3B4455;\n",
              "      fill: #D2E3FC;\n",
              "    }\n",
              "\n",
              "    [theme=dark] .colab-df-convert:hover {\n",
              "      background-color: #434B5C;\n",
              "      box-shadow: 0px 1px 3px 1px rgba(0, 0, 0, 0.15);\n",
              "      filter: drop-shadow(0px 1px 2px rgba(0, 0, 0, 0.3));\n",
              "      fill: #FFFFFF;\n",
              "    }\n",
              "  </style>\n",
              "\n",
              "      <script>\n",
              "        const buttonEl =\n",
              "          document.querySelector('#df-f353c8ef-df6e-4ef0-a9e5-812c61ebcd44 button.colab-df-convert');\n",
              "        buttonEl.style.display =\n",
              "          google.colab.kernel.accessAllowed ? 'block' : 'none';\n",
              "\n",
              "        async function convertToInteractive(key) {\n",
              "          const element = document.querySelector('#df-f353c8ef-df6e-4ef0-a9e5-812c61ebcd44');\n",
              "          const dataTable =\n",
              "            await google.colab.kernel.invokeFunction('convertToInteractive',\n",
              "                                                     [key], {});\n",
              "          if (!dataTable) return;\n",
              "\n",
              "          const docLinkHtml = 'Like what you see? Visit the ' +\n",
              "            '<a target=\"_blank\" href=https://colab.research.google.com/notebooks/data_table.ipynb>data table notebook</a>'\n",
              "            + ' to learn more about interactive tables.';\n",
              "          element.innerHTML = '';\n",
              "          dataTable['output_type'] = 'display_data';\n",
              "          await google.colab.output.renderOutput(dataTable, element);\n",
              "          const docLink = document.createElement('div');\n",
              "          docLink.innerHTML = docLinkHtml;\n",
              "          element.appendChild(docLink);\n",
              "        }\n",
              "      </script>\n",
              "    </div>\n",
              "  </div>\n",
              "  "
            ]
          },
          "metadata": {},
          "execution_count": 299
        }
      ]
    },
    {
      "cell_type": "code",
      "source": [
        "from collections import Counter\n",
        "top_n = 10\n",
        "k = 50\n",
        "top_n = 10\n",
        "\n",
        "recommend_dict = { }\n",
        "for index, row in result.iterrows():\n",
        "    user=row['source']\n",
        "    if user not in recommend_dict.keys():\n",
        "        recommend_dict[user]={}\n",
        "    \n",
        "    movieid=row['target'] \n",
        "    movie1 = movieid\n",
        "    res_dict= {}\n",
        "    for i in df:\n",
        "      if(i!=movieid):\n",
        "        movie2 = i\n",
        "        cos=1.0 - cosine(node_embeddings[movie1], node_embeddings[movie2])\n",
        "        res_dict[i]=cos\n",
        "    \n",
        "    res=dict(Counter(res_dict).most_common(10))\n",
        "    indexes= list(res.keys())    \n",
        "    \n",
        "  \n",
        "    for ids in indexes:\n",
        "        if(ids==movieid):\n",
        "            continue\n",
        "        if(~((result['target'] == ids) & (result['source'] ==user)).any()):\n",
        "            if ids not in recommend_dict[user].keys():\n",
        "                recommend_dict[user][ids] =1\n",
        "            else:\n",
        "                recommend_dict[user][ids]+=1\n",
        "                    \n",
        "        \n",
        "    \n",
        "        \n",
        "        "
      ],
      "metadata": {
        "id": "9fAdx3ZL1GUc"
      },
      "id": "9fAdx3ZL1GUc",
      "execution_count": 300,
      "outputs": []
    },
    {
      "cell_type": "code",
      "source": [
        "# Iterating over values\n",
        "recommendations=[]\n",
        "for userid, books in recommend_dict.items():\n",
        "    total=0\n",
        "    mlist=[]\n",
        "    for i in books:\n",
        "        total+=1\n",
        "        mlist.append(i)\n",
        "        if(total>10):\n",
        "            break\n",
        "    recommendations.append([userid,mlist])"
      ],
      "metadata": {
        "id": "DW97SHlL14lv"
      },
      "id": "DW97SHlL14lv",
      "execution_count": 301,
      "outputs": []
    },
    {
      "cell_type": "code",
      "source": [
        "recommendations=pd.DataFrame(recommendations,columns=['user_id','books'])"
      ],
      "metadata": {
        "id": "3zrPCyCU1-0g"
      },
      "id": "3zrPCyCU1-0g",
      "execution_count": 302,
      "outputs": []
    },
    {
      "cell_type": "markdown",
      "source": [
        "### Calculate Hit Ratio\n",
        "- See how often we recommended a movie the user actually rated"
      ],
      "metadata": {
        "id": "9Q_jMT0f2J8f"
      },
      "id": "9Q_jMT0f2J8f"
    },
    {
      "cell_type": "code",
      "source": [
        "total=0\n",
        "hit=0\n",
        "for i in userlist:\n",
        "    results=recommendations[recommendations.user_id==i]\n",
        "    results=list(results.books)[0]\n",
        "    total+=1\n",
        "    for rs in results:\n",
        "        \n",
        "        if(((test_df['Book-Title'] == rs) & (test_df['User-ID'] ==i)).any()):\n",
        "                hit+=1\n",
        "                break\n",
        "        \n",
        "hit_ratio=hit/total   \n",
        "print(hit_ratio)"
      ],
      "metadata": {
        "colab": {
          "base_uri": "https://localhost:8080/"
        },
        "id": "8flTAetU2LV6",
        "outputId": "3ceaa2fd-47f8-4198-8a5f-9e772d83e4d6"
      },
      "id": "8flTAetU2LV6",
      "execution_count": 303,
      "outputs": [
        {
          "output_type": "stream",
          "name": "stdout",
          "text": [
            "0.53\n"
          ]
        }
      ]
    },
    {
      "cell_type": "markdown",
      "source": [
        "### MAP@K"
      ],
      "metadata": {
        "id": "CBtHAHie0Ser"
      },
      "id": "CBtHAHie0Ser"
    },
    {
      "cell_type": "code",
      "source": [
        "total=0\n",
        "hit=0\n",
        "for i in userlist:\n",
        "    results=recommendations[recommendations.user_id==i]\n",
        "    results=list(results.books)[0]\n",
        "   \n",
        "    for rs in results:\n",
        "        total+=1\n",
        "        if(((test_df['Book-Title'] == rs) & (test_df['User-ID'] ==i)).any()):\n",
        "                hit+=1\n",
        "                \n",
        "        \n",
        "mapk=hit/total   \n",
        "print(mapk)"
      ],
      "metadata": {
        "colab": {
          "base_uri": "https://localhost:8080/"
        },
        "id": "N6Yxe0_60Rqb",
        "outputId": "06e9c4b1-2023-4850-f7f8-90e371d539c9"
      },
      "id": "N6Yxe0_60Rqb",
      "execution_count": 304,
      "outputs": [
        {
          "output_type": "stream",
          "name": "stdout",
          "text": [
            "0.09881061299176579\n"
          ]
        }
      ]
    },
    {
      "cell_type": "markdown",
      "source": [
        "### Add Author informations"
      ],
      "metadata": {
        "id": "gLdNyXSf0mUT"
      },
      "id": "gLdNyXSf0mUT"
    },
    {
      "cell_type": "code",
      "source": [
        "book_author_edgelist = book_df[['Book-Title', 'Book-Author']]\n",
        "book_author_edgelist.head(1)"
      ],
      "metadata": {
        "colab": {
          "base_uri": "https://localhost:8080/",
          "height": 81
        },
        "id": "Zud-KUk91CAE",
        "outputId": "e1b234b8-a1c5-4f30-f248-4b0b753217e4"
      },
      "id": "Zud-KUk91CAE",
      "execution_count": 305,
      "outputs": [
        {
          "output_type": "execute_result",
          "data": {
            "text/plain": [
              "            Book-Title         Book-Author\n",
              "0  Classical Mythology  Mark P. O. Morford"
            ],
            "text/html": [
              "\n",
              "  <div id=\"df-95c44c99-edaa-41da-b2b5-db7ffc474f7b\">\n",
              "    <div class=\"colab-df-container\">\n",
              "      <div>\n",
              "<style scoped>\n",
              "    .dataframe tbody tr th:only-of-type {\n",
              "        vertical-align: middle;\n",
              "    }\n",
              "\n",
              "    .dataframe tbody tr th {\n",
              "        vertical-align: top;\n",
              "    }\n",
              "\n",
              "    .dataframe thead th {\n",
              "        text-align: right;\n",
              "    }\n",
              "</style>\n",
              "<table border=\"1\" class=\"dataframe\">\n",
              "  <thead>\n",
              "    <tr style=\"text-align: right;\">\n",
              "      <th></th>\n",
              "      <th>Book-Title</th>\n",
              "      <th>Book-Author</th>\n",
              "    </tr>\n",
              "  </thead>\n",
              "  <tbody>\n",
              "    <tr>\n",
              "      <th>0</th>\n",
              "      <td>Classical Mythology</td>\n",
              "      <td>Mark P. O. Morford</td>\n",
              "    </tr>\n",
              "  </tbody>\n",
              "</table>\n",
              "</div>\n",
              "      <button class=\"colab-df-convert\" onclick=\"convertToInteractive('df-95c44c99-edaa-41da-b2b5-db7ffc474f7b')\"\n",
              "              title=\"Convert this dataframe to an interactive table.\"\n",
              "              style=\"display:none;\">\n",
              "        \n",
              "  <svg xmlns=\"http://www.w3.org/2000/svg\" height=\"24px\"viewBox=\"0 0 24 24\"\n",
              "       width=\"24px\">\n",
              "    <path d=\"M0 0h24v24H0V0z\" fill=\"none\"/>\n",
              "    <path d=\"M18.56 5.44l.94 2.06.94-2.06 2.06-.94-2.06-.94-.94-2.06-.94 2.06-2.06.94zm-11 1L8.5 8.5l.94-2.06 2.06-.94-2.06-.94L8.5 2.5l-.94 2.06-2.06.94zm10 10l.94 2.06.94-2.06 2.06-.94-2.06-.94-.94-2.06-.94 2.06-2.06.94z\"/><path d=\"M17.41 7.96l-1.37-1.37c-.4-.4-.92-.59-1.43-.59-.52 0-1.04.2-1.43.59L10.3 9.45l-7.72 7.72c-.78.78-.78 2.05 0 2.83L4 21.41c.39.39.9.59 1.41.59.51 0 1.02-.2 1.41-.59l7.78-7.78 2.81-2.81c.8-.78.8-2.07 0-2.86zM5.41 20L4 18.59l7.72-7.72 1.47 1.35L5.41 20z\"/>\n",
              "  </svg>\n",
              "      </button>\n",
              "      \n",
              "  <style>\n",
              "    .colab-df-container {\n",
              "      display:flex;\n",
              "      flex-wrap:wrap;\n",
              "      gap: 12px;\n",
              "    }\n",
              "\n",
              "    .colab-df-convert {\n",
              "      background-color: #E8F0FE;\n",
              "      border: none;\n",
              "      border-radius: 50%;\n",
              "      cursor: pointer;\n",
              "      display: none;\n",
              "      fill: #1967D2;\n",
              "      height: 32px;\n",
              "      padding: 0 0 0 0;\n",
              "      width: 32px;\n",
              "    }\n",
              "\n",
              "    .colab-df-convert:hover {\n",
              "      background-color: #E2EBFA;\n",
              "      box-shadow: 0px 1px 2px rgba(60, 64, 67, 0.3), 0px 1px 3px 1px rgba(60, 64, 67, 0.15);\n",
              "      fill: #174EA6;\n",
              "    }\n",
              "\n",
              "    [theme=dark] .colab-df-convert {\n",
              "      background-color: #3B4455;\n",
              "      fill: #D2E3FC;\n",
              "    }\n",
              "\n",
              "    [theme=dark] .colab-df-convert:hover {\n",
              "      background-color: #434B5C;\n",
              "      box-shadow: 0px 1px 3px 1px rgba(0, 0, 0, 0.15);\n",
              "      filter: drop-shadow(0px 1px 2px rgba(0, 0, 0, 0.3));\n",
              "      fill: #FFFFFF;\n",
              "    }\n",
              "  </style>\n",
              "\n",
              "      <script>\n",
              "        const buttonEl =\n",
              "          document.querySelector('#df-95c44c99-edaa-41da-b2b5-db7ffc474f7b button.colab-df-convert');\n",
              "        buttonEl.style.display =\n",
              "          google.colab.kernel.accessAllowed ? 'block' : 'none';\n",
              "\n",
              "        async function convertToInteractive(key) {\n",
              "          const element = document.querySelector('#df-95c44c99-edaa-41da-b2b5-db7ffc474f7b');\n",
              "          const dataTable =\n",
              "            await google.colab.kernel.invokeFunction('convertToInteractive',\n",
              "                                                     [key], {});\n",
              "          if (!dataTable) return;\n",
              "\n",
              "          const docLinkHtml = 'Like what you see? Visit the ' +\n",
              "            '<a target=\"_blank\" href=https://colab.research.google.com/notebooks/data_table.ipynb>data table notebook</a>'\n",
              "            + ' to learn more about interactive tables.';\n",
              "          element.innerHTML = '';\n",
              "          dataTable['output_type'] = 'display_data';\n",
              "          await google.colab.output.renderOutput(dataTable, element);\n",
              "          const docLink = document.createElement('div');\n",
              "          docLink.innerHTML = docLinkHtml;\n",
              "          element.appendChild(docLink);\n",
              "        }\n",
              "      </script>\n",
              "    </div>\n",
              "  </div>\n",
              "  "
            ]
          },
          "metadata": {},
          "execution_count": 305
        }
      ]
    },
    {
      "cell_type": "code",
      "source": [
        "book_author_edgelist.drop_duplicates()"
      ],
      "metadata": {
        "colab": {
          "base_uri": "https://localhost:8080/",
          "height": 424
        },
        "id": "s1-eIuu_1sj5",
        "outputId": "12f9e900-4879-4cfd-97d1-14783f935f7a"
      },
      "id": "s1-eIuu_1sj5",
      "execution_count": 306,
      "outputs": [
        {
          "output_type": "execute_result",
          "data": {
            "text/plain": [
              "                                               Book-Title  \\\n",
              "0                                     Classical Mythology   \n",
              "1                                            Clara Callan   \n",
              "2                                    Decision in Normandy   \n",
              "3       Flu: The Story of the Great Influenza Pandemic...   \n",
              "4                                  The Mummies of Urumchi   \n",
              "...                                                   ...   \n",
              "271354      Flashpoints: Promise and Peril in a New World   \n",
              "271356                            From One to One Hundred   \n",
              "271357  Lily Dale : The True Story of the Town that Ta...   \n",
              "271358                        Republic (World's Classics)   \n",
              "271359  A Guided Tour of Rene Descartes' Meditations o...   \n",
              "\n",
              "                 Book-Author  \n",
              "0         Mark P. O. Morford  \n",
              "1       Richard Bruce Wright  \n",
              "2               Carlo D'Este  \n",
              "3           Gina Bari Kolata  \n",
              "4            E. J. W. Barber  \n",
              "...                      ...  \n",
              "271354          Robin Wright  \n",
              "271356            Teri Sloat  \n",
              "271357      Christine Wicker  \n",
              "271358                 Plato  \n",
              "271359   Christopher  Biffle  \n",
              "\n",
              "[251185 rows x 2 columns]"
            ],
            "text/html": [
              "\n",
              "  <div id=\"df-fc1be707-f984-426d-9335-07dacb4d02b0\">\n",
              "    <div class=\"colab-df-container\">\n",
              "      <div>\n",
              "<style scoped>\n",
              "    .dataframe tbody tr th:only-of-type {\n",
              "        vertical-align: middle;\n",
              "    }\n",
              "\n",
              "    .dataframe tbody tr th {\n",
              "        vertical-align: top;\n",
              "    }\n",
              "\n",
              "    .dataframe thead th {\n",
              "        text-align: right;\n",
              "    }\n",
              "</style>\n",
              "<table border=\"1\" class=\"dataframe\">\n",
              "  <thead>\n",
              "    <tr style=\"text-align: right;\">\n",
              "      <th></th>\n",
              "      <th>Book-Title</th>\n",
              "      <th>Book-Author</th>\n",
              "    </tr>\n",
              "  </thead>\n",
              "  <tbody>\n",
              "    <tr>\n",
              "      <th>0</th>\n",
              "      <td>Classical Mythology</td>\n",
              "      <td>Mark P. O. Morford</td>\n",
              "    </tr>\n",
              "    <tr>\n",
              "      <th>1</th>\n",
              "      <td>Clara Callan</td>\n",
              "      <td>Richard Bruce Wright</td>\n",
              "    </tr>\n",
              "    <tr>\n",
              "      <th>2</th>\n",
              "      <td>Decision in Normandy</td>\n",
              "      <td>Carlo D'Este</td>\n",
              "    </tr>\n",
              "    <tr>\n",
              "      <th>3</th>\n",
              "      <td>Flu: The Story of the Great Influenza Pandemic...</td>\n",
              "      <td>Gina Bari Kolata</td>\n",
              "    </tr>\n",
              "    <tr>\n",
              "      <th>4</th>\n",
              "      <td>The Mummies of Urumchi</td>\n",
              "      <td>E. J. W. Barber</td>\n",
              "    </tr>\n",
              "    <tr>\n",
              "      <th>...</th>\n",
              "      <td>...</td>\n",
              "      <td>...</td>\n",
              "    </tr>\n",
              "    <tr>\n",
              "      <th>271354</th>\n",
              "      <td>Flashpoints: Promise and Peril in a New World</td>\n",
              "      <td>Robin Wright</td>\n",
              "    </tr>\n",
              "    <tr>\n",
              "      <th>271356</th>\n",
              "      <td>From One to One Hundred</td>\n",
              "      <td>Teri Sloat</td>\n",
              "    </tr>\n",
              "    <tr>\n",
              "      <th>271357</th>\n",
              "      <td>Lily Dale : The True Story of the Town that Ta...</td>\n",
              "      <td>Christine Wicker</td>\n",
              "    </tr>\n",
              "    <tr>\n",
              "      <th>271358</th>\n",
              "      <td>Republic (World's Classics)</td>\n",
              "      <td>Plato</td>\n",
              "    </tr>\n",
              "    <tr>\n",
              "      <th>271359</th>\n",
              "      <td>A Guided Tour of Rene Descartes' Meditations o...</td>\n",
              "      <td>Christopher  Biffle</td>\n",
              "    </tr>\n",
              "  </tbody>\n",
              "</table>\n",
              "<p>251185 rows × 2 columns</p>\n",
              "</div>\n",
              "      <button class=\"colab-df-convert\" onclick=\"convertToInteractive('df-fc1be707-f984-426d-9335-07dacb4d02b0')\"\n",
              "              title=\"Convert this dataframe to an interactive table.\"\n",
              "              style=\"display:none;\">\n",
              "        \n",
              "  <svg xmlns=\"http://www.w3.org/2000/svg\" height=\"24px\"viewBox=\"0 0 24 24\"\n",
              "       width=\"24px\">\n",
              "    <path d=\"M0 0h24v24H0V0z\" fill=\"none\"/>\n",
              "    <path d=\"M18.56 5.44l.94 2.06.94-2.06 2.06-.94-2.06-.94-.94-2.06-.94 2.06-2.06.94zm-11 1L8.5 8.5l.94-2.06 2.06-.94-2.06-.94L8.5 2.5l-.94 2.06-2.06.94zm10 10l.94 2.06.94-2.06 2.06-.94-2.06-.94-.94-2.06-.94 2.06-2.06.94z\"/><path d=\"M17.41 7.96l-1.37-1.37c-.4-.4-.92-.59-1.43-.59-.52 0-1.04.2-1.43.59L10.3 9.45l-7.72 7.72c-.78.78-.78 2.05 0 2.83L4 21.41c.39.39.9.59 1.41.59.51 0 1.02-.2 1.41-.59l7.78-7.78 2.81-2.81c.8-.78.8-2.07 0-2.86zM5.41 20L4 18.59l7.72-7.72 1.47 1.35L5.41 20z\"/>\n",
              "  </svg>\n",
              "      </button>\n",
              "      \n",
              "  <style>\n",
              "    .colab-df-container {\n",
              "      display:flex;\n",
              "      flex-wrap:wrap;\n",
              "      gap: 12px;\n",
              "    }\n",
              "\n",
              "    .colab-df-convert {\n",
              "      background-color: #E8F0FE;\n",
              "      border: none;\n",
              "      border-radius: 50%;\n",
              "      cursor: pointer;\n",
              "      display: none;\n",
              "      fill: #1967D2;\n",
              "      height: 32px;\n",
              "      padding: 0 0 0 0;\n",
              "      width: 32px;\n",
              "    }\n",
              "\n",
              "    .colab-df-convert:hover {\n",
              "      background-color: #E2EBFA;\n",
              "      box-shadow: 0px 1px 2px rgba(60, 64, 67, 0.3), 0px 1px 3px 1px rgba(60, 64, 67, 0.15);\n",
              "      fill: #174EA6;\n",
              "    }\n",
              "\n",
              "    [theme=dark] .colab-df-convert {\n",
              "      background-color: #3B4455;\n",
              "      fill: #D2E3FC;\n",
              "    }\n",
              "\n",
              "    [theme=dark] .colab-df-convert:hover {\n",
              "      background-color: #434B5C;\n",
              "      box-shadow: 0px 1px 3px 1px rgba(0, 0, 0, 0.15);\n",
              "      filter: drop-shadow(0px 1px 2px rgba(0, 0, 0, 0.3));\n",
              "      fill: #FFFFFF;\n",
              "    }\n",
              "  </style>\n",
              "\n",
              "      <script>\n",
              "        const buttonEl =\n",
              "          document.querySelector('#df-fc1be707-f984-426d-9335-07dacb4d02b0 button.colab-df-convert');\n",
              "        buttonEl.style.display =\n",
              "          google.colab.kernel.accessAllowed ? 'block' : 'none';\n",
              "\n",
              "        async function convertToInteractive(key) {\n",
              "          const element = document.querySelector('#df-fc1be707-f984-426d-9335-07dacb4d02b0');\n",
              "          const dataTable =\n",
              "            await google.colab.kernel.invokeFunction('convertToInteractive',\n",
              "                                                     [key], {});\n",
              "          if (!dataTable) return;\n",
              "\n",
              "          const docLinkHtml = 'Like what you see? Visit the ' +\n",
              "            '<a target=\"_blank\" href=https://colab.research.google.com/notebooks/data_table.ipynb>data table notebook</a>'\n",
              "            + ' to learn more about interactive tables.';\n",
              "          element.innerHTML = '';\n",
              "          dataTable['output_type'] = 'display_data';\n",
              "          await google.colab.output.renderOutput(dataTable, element);\n",
              "          const docLink = document.createElement('div');\n",
              "          docLink.innerHTML = docLinkHtml;\n",
              "          element.appendChild(docLink);\n",
              "        }\n",
              "      </script>\n",
              "    </div>\n",
              "  </div>\n",
              "  "
            ]
          },
          "metadata": {},
          "execution_count": 306
        }
      ]
    },
    {
      "cell_type": "code",
      "source": [
        "book_author_edgelist=book_author_edgelist[book_author_edgelist['Book-Title'].isin(list(graph_df['target']))]"
      ],
      "metadata": {
        "id": "CBio52222JGv"
      },
      "id": "CBio52222JGv",
      "execution_count": 307,
      "outputs": []
    },
    {
      "cell_type": "code",
      "source": [
        "book_author_graph = nx.Graph()\n",
        "for x in book_author_edgelist.values:\n",
        "    book = x[0]\n",
        "    author = x[1]\n",
        "   \n",
        "    book_author_graph.add_node(book)\n",
        "    book_author_graph.add_node(author)\n",
        "    book_author_graph.add_edge(book, author, weight=1.0)\n",
        "           "
      ],
      "metadata": {
        "id": "--mOfg6a0xny"
      },
      "id": "--mOfg6a0xny",
      "execution_count": 308,
      "outputs": []
    },
    {
      "cell_type": "code",
      "source": [
        "book_author_graph = nx.Graph()\n",
        "for x in book_author_edgelist.values:\n",
        "    book = x[0]\n",
        "    author = x[1]\n",
        "   \n",
        "    book_author_graph.add_node(book)\n",
        "    book_author_graph.add_node(author)\n",
        "    book_author_graph.add_edge(book, author, weight=1.0)\n",
        "           "
      ],
      "metadata": {
        "id": "HJd_fk2Q2kcA"
      },
      "id": "HJd_fk2Q2kcA",
      "execution_count": 309,
      "outputs": []
    },
    {
      "cell_type": "code",
      "source": [
        "user_book_graph = nx.Graph()\n",
        "for x in user_item_edge_list.values:\n",
        "\n",
        "    usr = x[0]\n",
        "    book = x[1]\n",
        "    user_book_graph.add_node(usr)\n",
        "    user_book_graph.add_node(book)\n",
        "    user_book_graph.add_edge(usr, book, weight=float(x[2]))"
      ],
      "metadata": {
        "id": "09xzBisJ2m5n"
      },
      "id": "09xzBisJ2m5n",
      "execution_count": 310,
      "outputs": []
    },
    {
      "cell_type": "code",
      "source": [
        "user_book_author_graph =  nx.Graph()\n",
        "user_book_author_graph.add_weighted_edges_from([(x,y,book_author_graph[x][y]['weight']) for x,y in book_author_graph.edges()])\n",
        "user_book_author_graph.add_weighted_edges_from([(x,y,user_book_graph[x][y]['weight']) for x,y in user_book_graph.edges()])"
      ],
      "metadata": {
        "id": "41Q-zbtf24e3"
      },
      "id": "41Q-zbtf24e3",
      "execution_count": 311,
      "outputs": []
    },
    {
      "cell_type": "code",
      "source": [
        "G = StellarGraph(user_book_author_graph)"
      ],
      "metadata": {
        "id": "b9VYX3Z33E63"
      },
      "id": "b9VYX3Z33E63",
      "execution_count": 312,
      "outputs": []
    },
    {
      "cell_type": "code",
      "source": [
        "rw = BiasedRandomWalk(G)\n",
        "\n",
        "walks = rw.run(\n",
        "    nodes=list(G.nodes()),  # root nodes\n",
        "    length=80,  # maximum length of a random walk\n",
        "    n=10,  # number of random walks per root node\n",
        "    p=0.5,  # Defines (unormalised) probability, 1/p, of returning to source node\n",
        "    q=2.0,  # Defines (unormalised) probability, 1/q, for moving away from source node\n",
        ")\n",
        "print(\"Number of random walks: {}\".format(len(walks)))"
      ],
      "metadata": {
        "colab": {
          "base_uri": "https://localhost:8080/"
        },
        "id": "aLMUUIRM3ICf",
        "outputId": "8644779f-4f69-4bcb-947f-257a5f2ef69a"
      },
      "id": "aLMUUIRM3ICf",
      "execution_count": 313,
      "outputs": [
        {
          "output_type": "stream",
          "name": "stdout",
          "text": [
            "Number of random walks: 18460\n"
          ]
        }
      ]
    },
    {
      "cell_type": "code",
      "source": [
        "\n",
        "from gensim.models import Word2Vec\n",
        "\n",
        "str_walks = [[str(n) for n in walk] for walk in walks]\n",
        "model = Word2Vec(str_walks, size=128, window=5, min_count=0, sg=1, workers=2, iter=1)"
      ],
      "metadata": {
        "id": "Bcx8wlVA3Lmn"
      },
      "id": "Bcx8wlVA3Lmn",
      "execution_count": 314,
      "outputs": []
    },
    {
      "cell_type": "code",
      "source": [
        "model.save(\"word2vec1.model\")"
      ],
      "metadata": {
        "id": "vTv89OHn3P9S"
      },
      "id": "vTv89OHn3P9S",
      "execution_count": 315,
      "outputs": []
    },
    {
      "cell_type": "code",
      "source": [
        "node_embeddings= model.wv"
      ],
      "metadata": {
        "id": "_MyNoKHN3TyW"
      },
      "id": "_MyNoKHN3TyW",
      "execution_count": 316,
      "outputs": []
    },
    {
      "cell_type": "code",
      "source": [
        "result= {}\n",
        "for i in df:\n",
        "  if(i!=\"Harry Potter and the Sorcerer's Stone (Book 1)\"):\n",
        "    book2 = i\n",
        "    cos=0\n",
        "    try:\n",
        "      cos=1.0 - cosine(node_embeddings[book1], node_embeddings[book2])\n",
        "    except:\n",
        "      pass\n",
        "    result[i]=cos"
      ],
      "metadata": {
        "id": "po_bzTs35x8X"
      },
      "id": "po_bzTs35x8X",
      "execution_count": 317,
      "outputs": []
    },
    {
      "cell_type": "code",
      "source": [
        "from collections import Counter\n",
        "result=dict(Counter(result).most_common(10))\n",
        "result= list(result.keys())\n",
        "book_df[book_df['Book-Title'].isin(result)].groupby('Book-Title').head(1)"
      ],
      "metadata": {
        "colab": {
          "base_uri": "https://localhost:8080/",
          "height": 1000
        },
        "id": "VZ6wderM57P0",
        "outputId": "2c08a453-a369-414b-ed5a-9d40993426ed"
      },
      "id": "VZ6wderM57P0",
      "execution_count": 318,
      "outputs": [
        {
          "output_type": "execute_result",
          "data": {
            "text/plain": [
              "            ISBN                                         Book-Title  \\\n",
              "114   0446612545                                    The Beach House   \n",
              "800   0064407667  The Bad Beginning (A Series of Unfortunate Eve...   \n",
              "2802  0060392452  Stupid White Men ...and Other Sorry Excuses fo...   \n",
              "3354  0345339681  The Hobbit : The Enchanting Prelude to The Lor...   \n",
              "3459  0439064872   Harry Potter and the Chamber of Secrets (Book 2)   \n",
              "3739  002542730X  Politically Correct Bedtime Stories: Modern Ta...   \n",
              "3839  0439136350  Harry Potter and the Prisoner of Azkaban (Book 3)   \n",
              "4206  0345339738  The Return of the King (The Lord of the Rings,...   \n",
              "5431  0439139597       Harry Potter and the Goblet of Fire (Book 4)   \n",
              "5506  043935806X  Harry Potter and the Order of the Phoenix (Boo...   \n",
              "\n",
              "            Book-Author Year-Of-Publication                  Publisher  \\\n",
              "114     James Patterson                2003               Warner Books   \n",
              "800      Lemony Snicket                1999              HarperCollins   \n",
              "2802      Michael Moore                2002                Regan Books   \n",
              "3354     J.R.R. TOLKIEN                1986                    Del Rey   \n",
              "3459      J. K. Rowling                2000                 Scholastic   \n",
              "3739  James Finn Garner                1994  John Wiley &amp; Sons Inc   \n",
              "3839      J. K. Rowling                1999                 Scholastic   \n",
              "4206     J.R.R. TOLKIEN                1986                    Del Rey   \n",
              "5431      J. K. Rowling                2000                 Scholastic   \n",
              "5506      J. K. Rowling                2003                 Scholastic   \n",
              "\n",
              "                                            Image-URL-S  \\\n",
              "114   http://images.amazon.com/images/P/0446612545.0...   \n",
              "800   http://images.amazon.com/images/P/0064407667.0...   \n",
              "2802  http://images.amazon.com/images/P/0060392452.0...   \n",
              "3354  http://images.amazon.com/images/P/0345339681.0...   \n",
              "3459  http://images.amazon.com/images/P/0439064872.0...   \n",
              "3739  http://images.amazon.com/images/P/002542730X.0...   \n",
              "3839  http://images.amazon.com/images/P/0439136350.0...   \n",
              "4206  http://images.amazon.com/images/P/0345339738.0...   \n",
              "5431  http://images.amazon.com/images/P/0439139597.0...   \n",
              "5506  http://images.amazon.com/images/P/043935806X.0...   \n",
              "\n",
              "                                            Image-URL-M  \\\n",
              "114   http://images.amazon.com/images/P/0446612545.0...   \n",
              "800   http://images.amazon.com/images/P/0064407667.0...   \n",
              "2802  http://images.amazon.com/images/P/0060392452.0...   \n",
              "3354  http://images.amazon.com/images/P/0345339681.0...   \n",
              "3459  http://images.amazon.com/images/P/0439064872.0...   \n",
              "3739  http://images.amazon.com/images/P/002542730X.0...   \n",
              "3839  http://images.amazon.com/images/P/0439136350.0...   \n",
              "4206  http://images.amazon.com/images/P/0345339738.0...   \n",
              "5431  http://images.amazon.com/images/P/0439139597.0...   \n",
              "5506  http://images.amazon.com/images/P/043935806X.0...   \n",
              "\n",
              "                                            Image-URL-L  \n",
              "114   http://images.amazon.com/images/P/0446612545.0...  \n",
              "800   http://images.amazon.com/images/P/0064407667.0...  \n",
              "2802  http://images.amazon.com/images/P/0060392452.0...  \n",
              "3354  http://images.amazon.com/images/P/0345339681.0...  \n",
              "3459  http://images.amazon.com/images/P/0439064872.0...  \n",
              "3739  http://images.amazon.com/images/P/002542730X.0...  \n",
              "3839  http://images.amazon.com/images/P/0439136350.0...  \n",
              "4206  http://images.amazon.com/images/P/0345339738.0...  \n",
              "5431  http://images.amazon.com/images/P/0439139597.0...  \n",
              "5506  http://images.amazon.com/images/P/043935806X.0...  "
            ],
            "text/html": [
              "\n",
              "  <div id=\"df-e49148c5-9ef2-486a-8e3a-6439fb38609a\">\n",
              "    <div class=\"colab-df-container\">\n",
              "      <div>\n",
              "<style scoped>\n",
              "    .dataframe tbody tr th:only-of-type {\n",
              "        vertical-align: middle;\n",
              "    }\n",
              "\n",
              "    .dataframe tbody tr th {\n",
              "        vertical-align: top;\n",
              "    }\n",
              "\n",
              "    .dataframe thead th {\n",
              "        text-align: right;\n",
              "    }\n",
              "</style>\n",
              "<table border=\"1\" class=\"dataframe\">\n",
              "  <thead>\n",
              "    <tr style=\"text-align: right;\">\n",
              "      <th></th>\n",
              "      <th>ISBN</th>\n",
              "      <th>Book-Title</th>\n",
              "      <th>Book-Author</th>\n",
              "      <th>Year-Of-Publication</th>\n",
              "      <th>Publisher</th>\n",
              "      <th>Image-URL-S</th>\n",
              "      <th>Image-URL-M</th>\n",
              "      <th>Image-URL-L</th>\n",
              "    </tr>\n",
              "  </thead>\n",
              "  <tbody>\n",
              "    <tr>\n",
              "      <th>114</th>\n",
              "      <td>0446612545</td>\n",
              "      <td>The Beach House</td>\n",
              "      <td>James Patterson</td>\n",
              "      <td>2003</td>\n",
              "      <td>Warner Books</td>\n",
              "      <td>http://images.amazon.com/images/P/0446612545.0...</td>\n",
              "      <td>http://images.amazon.com/images/P/0446612545.0...</td>\n",
              "      <td>http://images.amazon.com/images/P/0446612545.0...</td>\n",
              "    </tr>\n",
              "    <tr>\n",
              "      <th>800</th>\n",
              "      <td>0064407667</td>\n",
              "      <td>The Bad Beginning (A Series of Unfortunate Eve...</td>\n",
              "      <td>Lemony Snicket</td>\n",
              "      <td>1999</td>\n",
              "      <td>HarperCollins</td>\n",
              "      <td>http://images.amazon.com/images/P/0064407667.0...</td>\n",
              "      <td>http://images.amazon.com/images/P/0064407667.0...</td>\n",
              "      <td>http://images.amazon.com/images/P/0064407667.0...</td>\n",
              "    </tr>\n",
              "    <tr>\n",
              "      <th>2802</th>\n",
              "      <td>0060392452</td>\n",
              "      <td>Stupid White Men ...and Other Sorry Excuses fo...</td>\n",
              "      <td>Michael Moore</td>\n",
              "      <td>2002</td>\n",
              "      <td>Regan Books</td>\n",
              "      <td>http://images.amazon.com/images/P/0060392452.0...</td>\n",
              "      <td>http://images.amazon.com/images/P/0060392452.0...</td>\n",
              "      <td>http://images.amazon.com/images/P/0060392452.0...</td>\n",
              "    </tr>\n",
              "    <tr>\n",
              "      <th>3354</th>\n",
              "      <td>0345339681</td>\n",
              "      <td>The Hobbit : The Enchanting Prelude to The Lor...</td>\n",
              "      <td>J.R.R. TOLKIEN</td>\n",
              "      <td>1986</td>\n",
              "      <td>Del Rey</td>\n",
              "      <td>http://images.amazon.com/images/P/0345339681.0...</td>\n",
              "      <td>http://images.amazon.com/images/P/0345339681.0...</td>\n",
              "      <td>http://images.amazon.com/images/P/0345339681.0...</td>\n",
              "    </tr>\n",
              "    <tr>\n",
              "      <th>3459</th>\n",
              "      <td>0439064872</td>\n",
              "      <td>Harry Potter and the Chamber of Secrets (Book 2)</td>\n",
              "      <td>J. K. Rowling</td>\n",
              "      <td>2000</td>\n",
              "      <td>Scholastic</td>\n",
              "      <td>http://images.amazon.com/images/P/0439064872.0...</td>\n",
              "      <td>http://images.amazon.com/images/P/0439064872.0...</td>\n",
              "      <td>http://images.amazon.com/images/P/0439064872.0...</td>\n",
              "    </tr>\n",
              "    <tr>\n",
              "      <th>3739</th>\n",
              "      <td>002542730X</td>\n",
              "      <td>Politically Correct Bedtime Stories: Modern Ta...</td>\n",
              "      <td>James Finn Garner</td>\n",
              "      <td>1994</td>\n",
              "      <td>John Wiley &amp;amp; Sons Inc</td>\n",
              "      <td>http://images.amazon.com/images/P/002542730X.0...</td>\n",
              "      <td>http://images.amazon.com/images/P/002542730X.0...</td>\n",
              "      <td>http://images.amazon.com/images/P/002542730X.0...</td>\n",
              "    </tr>\n",
              "    <tr>\n",
              "      <th>3839</th>\n",
              "      <td>0439136350</td>\n",
              "      <td>Harry Potter and the Prisoner of Azkaban (Book 3)</td>\n",
              "      <td>J. K. Rowling</td>\n",
              "      <td>1999</td>\n",
              "      <td>Scholastic</td>\n",
              "      <td>http://images.amazon.com/images/P/0439136350.0...</td>\n",
              "      <td>http://images.amazon.com/images/P/0439136350.0...</td>\n",
              "      <td>http://images.amazon.com/images/P/0439136350.0...</td>\n",
              "    </tr>\n",
              "    <tr>\n",
              "      <th>4206</th>\n",
              "      <td>0345339738</td>\n",
              "      <td>The Return of the King (The Lord of the Rings,...</td>\n",
              "      <td>J.R.R. TOLKIEN</td>\n",
              "      <td>1986</td>\n",
              "      <td>Del Rey</td>\n",
              "      <td>http://images.amazon.com/images/P/0345339738.0...</td>\n",
              "      <td>http://images.amazon.com/images/P/0345339738.0...</td>\n",
              "      <td>http://images.amazon.com/images/P/0345339738.0...</td>\n",
              "    </tr>\n",
              "    <tr>\n",
              "      <th>5431</th>\n",
              "      <td>0439139597</td>\n",
              "      <td>Harry Potter and the Goblet of Fire (Book 4)</td>\n",
              "      <td>J. K. Rowling</td>\n",
              "      <td>2000</td>\n",
              "      <td>Scholastic</td>\n",
              "      <td>http://images.amazon.com/images/P/0439139597.0...</td>\n",
              "      <td>http://images.amazon.com/images/P/0439139597.0...</td>\n",
              "      <td>http://images.amazon.com/images/P/0439139597.0...</td>\n",
              "    </tr>\n",
              "    <tr>\n",
              "      <th>5506</th>\n",
              "      <td>043935806X</td>\n",
              "      <td>Harry Potter and the Order of the Phoenix (Boo...</td>\n",
              "      <td>J. K. Rowling</td>\n",
              "      <td>2003</td>\n",
              "      <td>Scholastic</td>\n",
              "      <td>http://images.amazon.com/images/P/043935806X.0...</td>\n",
              "      <td>http://images.amazon.com/images/P/043935806X.0...</td>\n",
              "      <td>http://images.amazon.com/images/P/043935806X.0...</td>\n",
              "    </tr>\n",
              "  </tbody>\n",
              "</table>\n",
              "</div>\n",
              "      <button class=\"colab-df-convert\" onclick=\"convertToInteractive('df-e49148c5-9ef2-486a-8e3a-6439fb38609a')\"\n",
              "              title=\"Convert this dataframe to an interactive table.\"\n",
              "              style=\"display:none;\">\n",
              "        \n",
              "  <svg xmlns=\"http://www.w3.org/2000/svg\" height=\"24px\"viewBox=\"0 0 24 24\"\n",
              "       width=\"24px\">\n",
              "    <path d=\"M0 0h24v24H0V0z\" fill=\"none\"/>\n",
              "    <path d=\"M18.56 5.44l.94 2.06.94-2.06 2.06-.94-2.06-.94-.94-2.06-.94 2.06-2.06.94zm-11 1L8.5 8.5l.94-2.06 2.06-.94-2.06-.94L8.5 2.5l-.94 2.06-2.06.94zm10 10l.94 2.06.94-2.06 2.06-.94-2.06-.94-.94-2.06-.94 2.06-2.06.94z\"/><path d=\"M17.41 7.96l-1.37-1.37c-.4-.4-.92-.59-1.43-.59-.52 0-1.04.2-1.43.59L10.3 9.45l-7.72 7.72c-.78.78-.78 2.05 0 2.83L4 21.41c.39.39.9.59 1.41.59.51 0 1.02-.2 1.41-.59l7.78-7.78 2.81-2.81c.8-.78.8-2.07 0-2.86zM5.41 20L4 18.59l7.72-7.72 1.47 1.35L5.41 20z\"/>\n",
              "  </svg>\n",
              "      </button>\n",
              "      \n",
              "  <style>\n",
              "    .colab-df-container {\n",
              "      display:flex;\n",
              "      flex-wrap:wrap;\n",
              "      gap: 12px;\n",
              "    }\n",
              "\n",
              "    .colab-df-convert {\n",
              "      background-color: #E8F0FE;\n",
              "      border: none;\n",
              "      border-radius: 50%;\n",
              "      cursor: pointer;\n",
              "      display: none;\n",
              "      fill: #1967D2;\n",
              "      height: 32px;\n",
              "      padding: 0 0 0 0;\n",
              "      width: 32px;\n",
              "    }\n",
              "\n",
              "    .colab-df-convert:hover {\n",
              "      background-color: #E2EBFA;\n",
              "      box-shadow: 0px 1px 2px rgba(60, 64, 67, 0.3), 0px 1px 3px 1px rgba(60, 64, 67, 0.15);\n",
              "      fill: #174EA6;\n",
              "    }\n",
              "\n",
              "    [theme=dark] .colab-df-convert {\n",
              "      background-color: #3B4455;\n",
              "      fill: #D2E3FC;\n",
              "    }\n",
              "\n",
              "    [theme=dark] .colab-df-convert:hover {\n",
              "      background-color: #434B5C;\n",
              "      box-shadow: 0px 1px 3px 1px rgba(0, 0, 0, 0.15);\n",
              "      filter: drop-shadow(0px 1px 2px rgba(0, 0, 0, 0.3));\n",
              "      fill: #FFFFFF;\n",
              "    }\n",
              "  </style>\n",
              "\n",
              "      <script>\n",
              "        const buttonEl =\n",
              "          document.querySelector('#df-e49148c5-9ef2-486a-8e3a-6439fb38609a button.colab-df-convert');\n",
              "        buttonEl.style.display =\n",
              "          google.colab.kernel.accessAllowed ? 'block' : 'none';\n",
              "\n",
              "        async function convertToInteractive(key) {\n",
              "          const element = document.querySelector('#df-e49148c5-9ef2-486a-8e3a-6439fb38609a');\n",
              "          const dataTable =\n",
              "            await google.colab.kernel.invokeFunction('convertToInteractive',\n",
              "                                                     [key], {});\n",
              "          if (!dataTable) return;\n",
              "\n",
              "          const docLinkHtml = 'Like what you see? Visit the ' +\n",
              "            '<a target=\"_blank\" href=https://colab.research.google.com/notebooks/data_table.ipynb>data table notebook</a>'\n",
              "            + ' to learn more about interactive tables.';\n",
              "          element.innerHTML = '';\n",
              "          dataTable['output_type'] = 'display_data';\n",
              "          await google.colab.output.renderOutput(dataTable, element);\n",
              "          const docLink = document.createElement('div');\n",
              "          docLink.innerHTML = docLinkHtml;\n",
              "          element.appendChild(docLink);\n",
              "        }\n",
              "      </script>\n",
              "    </div>\n",
              "  </div>\n",
              "  "
            ]
          },
          "metadata": {},
          "execution_count": 318
        }
      ]
    },
    {
      "cell_type": "code",
      "source": [
        "userlist=list(graph_df.source.unique())[:100]\n",
        "data=graph_df[graph_df['source'].isin(userlist)]\n",
        "test_df=test_df[test_df['User-ID'].isin(userlist)]\n",
        "result=data.sort_values(by=['source','weights'],ascending=[True,False])\n",
        "result=result.groupby('source').head(10)\n",
        "\n",
        "\n"
      ],
      "metadata": {
        "id": "AO7KyYC16Yh7"
      },
      "id": "AO7KyYC16Yh7",
      "execution_count": 319,
      "outputs": []
    },
    {
      "cell_type": "code",
      "source": [
        "\n",
        "from collections import Counter\n",
        "top_n = 10\n",
        "k = 50\n",
        "top_n = 10\n",
        "\n",
        "recommend_dict = { }\n",
        "for index, row in result.iterrows():\n",
        "    user=row['source']\n",
        "    if user not in recommend_dict.keys():\n",
        "        recommend_dict[user]={}\n",
        "    \n",
        "    movieid=row['target'] \n",
        "    movie1 = movieid\n",
        "    res_dict= {}\n",
        "    for i in df:\n",
        "      if(i!=movieid):\n",
        "        movie2 = i\n",
        "        cos=1.0 - cosine(node_embeddings[movie1], node_embeddings[movie2])\n",
        "        res_dict[i]=cos\n",
        "    \n",
        "    res=dict(Counter(res_dict).most_common(10))\n",
        "    indexes= list(res.keys())    \n",
        "    \n",
        "  \n",
        "    for ids in indexes:\n",
        "        if(ids==movieid):\n",
        "            continue\n",
        "        if(~((result['target'] == ids) & (result['source'] ==user)).any()):\n",
        "            if ids not in recommend_dict[user].keys():\n",
        "                recommend_dict[user][ids] =1\n",
        "            else:\n",
        "                recommend_dict[user][ids]+=1\n",
        "                    \n",
        "        \n",
        "    \n",
        "  "
      ],
      "metadata": {
        "id": "HY5WwTer6a8T"
      },
      "id": "HY5WwTer6a8T",
      "execution_count": 320,
      "outputs": []
    },
    {
      "cell_type": "code",
      "source": [
        "# Iterating over values\n",
        "recommendations=[]\n",
        "for userid, books in recommend_dict.items():\n",
        "    total=0\n",
        "    mlist=[]\n",
        "    for i in books:\n",
        "        total+=1\n",
        "        mlist.append(i)\n",
        "        if(total>10):\n",
        "            break\n",
        "    recommendations.append([userid,mlist])"
      ],
      "metadata": {
        "id": "vwpen5Vr6fwE"
      },
      "id": "vwpen5Vr6fwE",
      "execution_count": 321,
      "outputs": []
    },
    {
      "cell_type": "code",
      "source": [
        "\n",
        "recommendations=pd.DataFrame(recommendations,columns=['user_id','books'])"
      ],
      "metadata": {
        "id": "Zc4R9bim6har"
      },
      "id": "Zc4R9bim6har",
      "execution_count": 322,
      "outputs": []
    },
    {
      "cell_type": "markdown",
      "source": [
        "### Calculate hit rate"
      ],
      "metadata": {
        "id": "YB-pITSN6mcU"
      },
      "id": "YB-pITSN6mcU"
    },
    {
      "cell_type": "code",
      "source": [
        "total=0\n",
        "hit=0\n",
        "for i in userlist:\n",
        "    results=recommendations[recommendations.user_id==i]\n",
        "    results=list(results.books)[0]\n",
        "    total+=1\n",
        "    for rs in results:\n",
        "        \n",
        "        if(test_df[(test_df['Book-Title'] == rs) & (test_df['User-ID'] ==i)].any().any()):\n",
        "                hit+=1\n",
        "                break\n",
        "        \n",
        "hit_ratio_with_author=hit/total   \n",
        "print(hit_ratio_with_author)"
      ],
      "metadata": {
        "colab": {
          "base_uri": "https://localhost:8080/"
        },
        "id": "YxHCTAjS6lLz",
        "outputId": "500d9a91-78a3-4a55-aa8b-e9bea8a13999"
      },
      "id": "YxHCTAjS6lLz",
      "execution_count": 330,
      "outputs": [
        {
          "output_type": "stream",
          "name": "stdout",
          "text": [
            "0.58\n"
          ]
        }
      ]
    },
    {
      "cell_type": "markdown",
      "source": [
        "### Hit rate  on number of time user liked recommended items"
      ],
      "metadata": {
        "id": "XTC6VpooAaP-"
      },
      "id": "XTC6VpooAaP-"
    },
    {
      "cell_type": "code",
      "source": [
        "total=0\n",
        "hit=0\n",
        "for i in userlist:\n",
        "    results=recommendations[recommendations.user_id==i]\n",
        "    results=list(results.books)[0]\n",
        "    total+=1\n",
        "    for rs in results:\n",
        "        \n",
        "        if(test_df[(test_df['Book-Title'] == rs) & (test_df['User-ID'] ==i) &( test_df['Book-Rating'] >8)].any().any()):\n",
        "                hit+=1\n",
        "                break\n",
        "        \n",
        "hit_ratio_with_author_popular=hit/total   \n",
        "print(hit_ratio_with_author_popular)"
      ],
      "metadata": {
        "colab": {
          "base_uri": "https://localhost:8080/"
        },
        "id": "b6T9u9xpAZLf",
        "outputId": "e2ebf4e4-0b02-4ec6-dcf6-352095e5cf35"
      },
      "id": "b6T9u9xpAZLf",
      "execution_count": 331,
      "outputs": [
        {
          "output_type": "stream",
          "name": "stdout",
          "text": [
            "0.26\n"
          ]
        }
      ]
    },
    {
      "cell_type": "markdown",
      "source": [
        "### MAP@K"
      ],
      "metadata": {
        "id": "uYQYdAun68Ks"
      },
      "id": "uYQYdAun68Ks"
    },
    {
      "cell_type": "code",
      "source": [
        "total=0\n",
        "hit=0\n",
        "for i in userlist:\n",
        "    results=recommendations[recommendations.user_id==i]\n",
        "    results=list(results.books)[0]\n",
        "   \n",
        "    for rs in results:\n",
        "        total+=1\n",
        "        if(((test_df['Book-Title'] == rs) & (test_df['User-ID'] ==i)).any()):\n",
        "                hit+=1\n",
        "                \n",
        "        \n",
        "map_k_with_author=hit/total   \n",
        "print(map_k_with_author)"
      ],
      "metadata": {
        "colab": {
          "base_uri": "https://localhost:8080/"
        },
        "id": "757VO9_d6yvb",
        "outputId": "633864b0-8207-4dcd-8283-bd51a536d199"
      },
      "id": "757VO9_d6yvb",
      "execution_count": 324,
      "outputs": [
        {
          "output_type": "stream",
          "name": "stdout",
          "text": [
            "0.09972552607502287\n"
          ]
        }
      ]
    }
  ],
  "metadata": {
    "accelerator": "GPU",
    "colab": {
      "collapsed_sections": [],
      "name": "books_Graph_embeding_experiment.ipynb",
      "provenance": []
    },
    "gpuClass": "standard",
    "kernelspec": {
      "display_name": "Python 3",
      "language": "python",
      "name": "python3"
    },
    "language_info": {
      "codemirror_mode": {
        "name": "ipython",
        "version": 3
      },
      "file_extension": ".py",
      "mimetype": "text/x-python",
      "name": "python",
      "nbconvert_exporter": "python",
      "pygments_lexer": "ipython3",
      "version": "3.6.5"
    }
  },
  "nbformat": 4,
  "nbformat_minor": 5
}
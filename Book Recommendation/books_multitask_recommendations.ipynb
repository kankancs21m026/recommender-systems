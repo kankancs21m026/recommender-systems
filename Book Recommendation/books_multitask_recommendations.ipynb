{
  "cells": [
    {
      "cell_type": "code",
      "execution_count": 249,
      "id": "84eddad3",
      "metadata": {
        "id": "84eddad3"
      },
      "outputs": [],
      "source": [
        "from datetime import datetime\n",
        "import os\n",
        "import matplotlib\n",
        "import pandas as pd\n",
        "import numpy as np\n",
        "import matplotlib.pyplot as plt\n",
        "import seaborn as sns\n",
        "sns.set_style('whitegrid')\n",
        "\n",
        "from scipy import sparse\n",
        "from scipy.sparse import csc_matrix\n",
        "from sklearn.decomposition import TruncatedSVD\n",
        "\n",
        "np.random.seed(0)"
      ]
    },
    {
      "cell_type": "markdown",
      "id": "85495bf1",
      "metadata": {
        "id": "85495bf1"
      },
      "source": [
        "### Book  Dataset\n",
        "https://www.kaggle.com/datasets/arashnic/book-recommendation-dataset\n"
      ]
    },
    {
      "cell_type": "code",
      "source": [
        "!pip install gdown"
      ],
      "metadata": {
        "id": "3mSlGMHVpAt_",
        "colab": {
          "base_uri": "https://localhost:8080/"
        },
        "outputId": "48f2314b-4228-42c2-f952-26325634463c"
      },
      "id": "3mSlGMHVpAt_",
      "execution_count": 250,
      "outputs": [
        {
          "output_type": "stream",
          "name": "stdout",
          "text": [
            "Looking in indexes: https://pypi.org/simple, https://us-python.pkg.dev/colab-wheels/public/simple/\n",
            "Requirement already satisfied: gdown in /usr/local/lib/python3.7/dist-packages (4.4.0)\n",
            "Requirement already satisfied: filelock in /usr/local/lib/python3.7/dist-packages (from gdown) (3.7.1)\n",
            "Requirement already satisfied: six in /usr/local/lib/python3.7/dist-packages (from gdown) (1.15.0)\n",
            "Requirement already satisfied: requests[socks] in /usr/local/lib/python3.7/dist-packages (from gdown) (2.23.0)\n",
            "Requirement already satisfied: tqdm in /usr/local/lib/python3.7/dist-packages (from gdown) (4.64.0)\n",
            "Requirement already satisfied: beautifulsoup4 in /usr/local/lib/python3.7/dist-packages (from gdown) (4.6.3)\n",
            "Requirement already satisfied: certifi>=2017.4.17 in /usr/local/lib/python3.7/dist-packages (from requests[socks]->gdown) (2022.6.15)\n",
            "Requirement already satisfied: idna<3,>=2.5 in /usr/local/lib/python3.7/dist-packages (from requests[socks]->gdown) (2.10)\n",
            "Requirement already satisfied: urllib3!=1.25.0,!=1.25.1,<1.26,>=1.21.1 in /usr/local/lib/python3.7/dist-packages (from requests[socks]->gdown) (1.24.3)\n",
            "Requirement already satisfied: chardet<4,>=3.0.2 in /usr/local/lib/python3.7/dist-packages (from requests[socks]->gdown) (3.0.4)\n",
            "Requirement already satisfied: PySocks!=1.5.7,>=1.5.6 in /usr/local/lib/python3.7/dist-packages (from requests[socks]->gdown) (1.7.1)\n"
          ]
        }
      ]
    },
    {
      "cell_type": "code",
      "source": [
        "!gdown https://drive.google.com/uc?id=1TE3vZZf0yq9J2sTbDFL7BFNCDQIG6Nd-"
      ],
      "metadata": {
        "colab": {
          "base_uri": "https://localhost:8080/"
        },
        "id": "JN6L-XVUpDB3",
        "outputId": "cb041ad0-9b59-4914-96ed-ccc587d412cb"
      },
      "id": "JN6L-XVUpDB3",
      "execution_count": 251,
      "outputs": [
        {
          "output_type": "stream",
          "name": "stdout",
          "text": [
            "Downloading...\n",
            "From: https://drive.google.com/uc?id=1TE3vZZf0yq9J2sTbDFL7BFNCDQIG6Nd-\n",
            "To: /content/Books.zip\n",
            "\r  0% 0.00/25.0M [00:00<?, ?B/s]\r100% 25.0M/25.0M [00:00<00:00, 320MB/s]\n"
          ]
        }
      ]
    },
    {
      "cell_type": "code",
      "source": [
        "#!unzip \"Books.zip\"  -d  \"/content\""
      ],
      "metadata": {
        "id": "ncJF1kivt_uR"
      },
      "id": "ncJF1kivt_uR",
      "execution_count": 252,
      "outputs": []
    },
    {
      "cell_type": "code",
      "execution_count": 253,
      "id": "3fb6d6a6",
      "metadata": {
        "id": "3fb6d6a6",
        "outputId": "c4fd2163-0117-404d-887e-a909c3553e33",
        "colab": {
          "base_uri": "https://localhost:8080/"
        }
      },
      "outputs": [
        {
          "output_type": "stream",
          "name": "stderr",
          "text": [
            "/usr/local/lib/python3.7/dist-packages/IPython/core/interactiveshell.py:2882: DtypeWarning: Columns (3) have mixed types.Specify dtype option on import or set low_memory=False.\n",
            "  exec(code_obj, self.user_global_ns, self.user_ns)\n"
          ]
        }
      ],
      "source": [
        "rating_df = pd.read_csv('Ratings.csv')\n",
        "book_df = pd.read_csv('Books.csv')"
      ]
    },
    {
      "cell_type": "code",
      "source": [
        "rating_df=pd.merge(rating_df,book_df,on=\"ISBN\",how=\"left\")\n",
        "rating_df['Book-Rating'].hist()"
      ],
      "metadata": {
        "colab": {
          "base_uri": "https://localhost:8080/",
          "height": 283
        },
        "id": "ATZBESMYuHbQ",
        "outputId": "f27427c1-3376-4160-fac4-538ae2f591b0"
      },
      "id": "ATZBESMYuHbQ",
      "execution_count": 254,
      "outputs": [
        {
          "output_type": "execute_result",
          "data": {
            "text/plain": [
              "<matplotlib.axes._subplots.AxesSubplot at 0x7f7edfca1cd0>"
            ]
          },
          "metadata": {},
          "execution_count": 254
        },
        {
          "output_type": "display_data",
          "data": {
            "text/plain": [
              "<Figure size 432x288 with 1 Axes>"
            ],
            "image/png": "[encoded data removed]"
          },
          "metadata": {}
        }
      ]
    },
    {
      "cell_type": "code",
      "execution_count": 255,
      "id": "4d90b4b9",
      "metadata": {
        "id": "4d90b4b9"
      },
      "outputs": [],
      "source": [
        "y = rating_df.groupby('Book-Title').count()['Book-Rating']>=100\n",
        "books = y[y].index\n",
        "rating_df = rating_df[rating_df['Book-Title'].isin(books)]"
      ]
    },
    {
      "cell_type": "code",
      "execution_count": 256,
      "id": "eea71c87",
      "metadata": {
        "id": "eea71c87"
      },
      "outputs": [],
      "source": [
        "x = rating_df.groupby('User-ID').count()['Book-Rating'] > 100\n",
        "userIndex = x[x].index\n",
        "rating_df=rating_df[rating_df['User-ID'].isin(userIndex)]\n"
      ]
    },
    {
      "cell_type": "code",
      "source": [
        "rating_df=rating_df.dropna()"
      ],
      "metadata": {
        "id": "jvv3iPQN5zAA"
      },
      "id": "jvv3iPQN5zAA",
      "execution_count": 257,
      "outputs": []
    },
    {
      "cell_type": "code",
      "source": [
        "rating_df=rating_df[['User-ID','Book-Title','Book-Author','Book-Rating']]\n",
        "rating_df.rename(columns = {'User-ID':'userID', 'Book-Title':'itemID','Book-Author':'author','Book-Rating':'rating'}, inplace = True)"
      ],
      "metadata": {
        "id": "vhlzzCjB56R3"
      },
      "id": "vhlzzCjB56R3",
      "execution_count": 258,
      "outputs": []
    },
    {
      "cell_type": "code",
      "source": [
        "\n",
        "rating_df[\"itemID\"] = rating_df[\"itemID\"].astype(str)\n",
        "rating_df[\"userID\"] = rating_df[\"userID\"].astype(str)\n",
        "rating_df[\"author\"] = rating_df[\"author\"].astype(str)"
      ],
      "metadata": {
        "id": "sZPaHa4i-oAr"
      },
      "id": "sZPaHa4i-oAr",
      "execution_count": 259,
      "outputs": []
    },
    {
      "cell_type": "markdown",
      "source": [
        "### Prepare dataset"
      ],
      "metadata": {
        "id": "hz3Ofz-0pTS8"
      },
      "id": "hz3Ofz-0pTS8"
    },
    {
      "cell_type": "code",
      "source": [
        "unique_users = rating_df.userID.unique()\n",
        "user_ids = dict(zip(unique_users, np.arange(unique_users.shape[0], dtype=np.int32)))\n",
        "\n",
        "unique_items = rating_df.itemID.unique()\n",
        "item_ids = dict(zip(unique_items, np.arange(unique_items.shape[0], dtype=np.int32)))"
      ],
      "metadata": {
        "id": "PgNs7RtdpgsF"
      },
      "id": "PgNs7RtdpgsF",
      "execution_count": 260,
      "outputs": []
    },
    {
      "cell_type": "code",
      "source": [
        "product_ids = list(set(list(rating_df.itemID.unique())))\n",
        "user_ids = list(set(list(rating_df.userID.unique())))"
      ],
      "metadata": {
        "id": "L0pWDQrppk3k"
      },
      "id": "L0pWDQrppk3k",
      "execution_count": 261,
      "outputs": []
    },
    {
      "cell_type": "markdown",
      "id": "cdc02830",
      "metadata": {
        "id": "cdc02830"
      },
      "source": [
        "### Look at distribution of ratings"
      ]
    },
    {
      "cell_type": "code",
      "execution_count": 262,
      "id": "428a493a",
      "metadata": {
        "id": "428a493a",
        "outputId": "1cadd02b-5f98-4167-8202-6eef5a86f305",
        "colab": {
          "base_uri": "https://localhost:8080/",
          "height": 303
        }
      },
      "outputs": [
        {
          "output_type": "execute_result",
          "data": {
            "text/plain": [
              "<matplotlib.axes._subplots.AxesSubplot at 0x7f803d49b690>"
            ]
          },
          "metadata": {},
          "execution_count": 262
        },
        {
          "output_type": "display_data",
          "data": {
            "text/plain": [
              "<Figure size 432x288 with 1 Axes>"
            ],
            "image/png": "[encoded data removed]"
          },
          "metadata": {}
        }
      ],
      "source": [
        "rating_df.groupby(['rating']).size().plot(kind = \"bar\")"
      ]
    },
    {
      "cell_type": "code",
      "source": [
        "!pip install tensorflow-recommenders==0.6.0\n",
        "\n",
        "import os\n",
        "import pprint\n",
        "import tempfile\n",
        "\n",
        "from typing import Dict, Text\n",
        "\n",
        "import numpy as np\n",
        "import pandas as pd\n",
        "import tensorflow as tf\n",
        "import tensorflow_datasets as tfds\n",
        "\n",
        "import tensorflow_recommenders as tfrs"
      ],
      "metadata": {
        "id": "bsafOAH6tIuM",
        "colab": {
          "base_uri": "https://localhost:8080/"
        },
        "outputId": "588d7959-4f61-4d52-e288-8922cbe45126"
      },
      "id": "bsafOAH6tIuM",
      "execution_count": 263,
      "outputs": [
        {
          "output_type": "stream",
          "name": "stdout",
          "text": [
            "Looking in indexes: https://pypi.org/simple, https://us-python.pkg.dev/colab-wheels/public/simple/\n",
            "Requirement already satisfied: tensorflow-recommenders==0.6.0 in /usr/local/lib/python3.7/dist-packages (0.6.0)\n",
            "Requirement already satisfied: tensorflow>=2.6.0 in /usr/local/lib/python3.7/dist-packages (from tensorflow-recommenders==0.6.0) (2.8.2+zzzcolab20220719082949)\n",
            "Requirement already satisfied: absl-py>=0.1.6 in /usr/local/lib/python3.7/dist-packages (from tensorflow-recommenders==0.6.0) (1.2.0)\n",
            "Requirement already satisfied: opt-einsum>=2.3.2 in /usr/local/lib/python3.7/dist-packages (from tensorflow>=2.6.0->tensorflow-recommenders==0.6.0) (3.3.0)\n",
            "Requirement already satisfied: gast>=0.2.1 in /usr/local/lib/python3.7/dist-packages (from tensorflow>=2.6.0->tensorflow-recommenders==0.6.0) (0.5.3)\n",
            "Requirement already satisfied: six>=1.12.0 in /usr/local/lib/python3.7/dist-packages (from tensorflow>=2.6.0->tensorflow-recommenders==0.6.0) (1.15.0)\n",
            "Requirement already satisfied: astunparse>=1.6.0 in /usr/local/lib/python3.7/dist-packages (from tensorflow>=2.6.0->tensorflow-recommenders==0.6.0) (1.6.3)\n",
            "Requirement already satisfied: flatbuffers>=1.12 in /usr/local/lib/python3.7/dist-packages (from tensorflow>=2.6.0->tensorflow-recommenders==0.6.0) (2.0)\n",
            "Requirement already satisfied: tensorboard<2.9,>=2.8 in /usr/local/lib/python3.7/dist-packages (from tensorflow>=2.6.0->tensorflow-recommenders==0.6.0) (2.8.0)\n",
            "Requirement already satisfied: setuptools in /usr/local/lib/python3.7/dist-packages (from tensorflow>=2.6.0->tensorflow-recommenders==0.6.0) (57.4.0)\n",
            "Requirement already satisfied: keras<2.9,>=2.8.0rc0 in /usr/local/lib/python3.7/dist-packages (from tensorflow>=2.6.0->tensorflow-recommenders==0.6.0) (2.8.0)\n",
            "Requirement already satisfied: numpy>=1.20 in /usr/local/lib/python3.7/dist-packages (from tensorflow>=2.6.0->tensorflow-recommenders==0.6.0) (1.21.6)\n",
            "Requirement already satisfied: typing-extensions>=3.6.6 in /usr/local/lib/python3.7/dist-packages (from tensorflow>=2.6.0->tensorflow-recommenders==0.6.0) (4.1.1)\n",
            "Requirement already satisfied: tensorflow-estimator<2.9,>=2.8 in /usr/local/lib/python3.7/dist-packages (from tensorflow>=2.6.0->tensorflow-recommenders==0.6.0) (2.8.0)\n",
            "Requirement already satisfied: termcolor>=1.1.0 in /usr/local/lib/python3.7/dist-packages (from tensorflow>=2.6.0->tensorflow-recommenders==0.6.0) (1.1.0)\n",
            "Requirement already satisfied: protobuf<3.20,>=3.9.2 in /usr/local/lib/python3.7/dist-packages (from tensorflow>=2.6.0->tensorflow-recommenders==0.6.0) (3.17.3)\n",
            "Requirement already satisfied: wrapt>=1.11.0 in /usr/local/lib/python3.7/dist-packages (from tensorflow>=2.6.0->tensorflow-recommenders==0.6.0) (1.14.1)\n",
            "Requirement already satisfied: keras-preprocessing>=1.1.1 in /usr/local/lib/python3.7/dist-packages (from tensorflow>=2.6.0->tensorflow-recommenders==0.6.0) (1.1.2)\n",
            "Requirement already satisfied: h5py>=2.9.0 in /usr/local/lib/python3.7/dist-packages (from tensorflow>=2.6.0->tensorflow-recommenders==0.6.0) (3.1.0)\n",
            "Requirement already satisfied: libclang>=9.0.1 in /usr/local/lib/python3.7/dist-packages (from tensorflow>=2.6.0->tensorflow-recommenders==0.6.0) (14.0.6)\n",
            "Requirement already satisfied: grpcio<2.0,>=1.24.3 in /usr/local/lib/python3.7/dist-packages (from tensorflow>=2.6.0->tensorflow-recommenders==0.6.0) (1.47.0)\n",
            "Requirement already satisfied: tensorflow-io-gcs-filesystem>=0.23.1 in /usr/local/lib/python3.7/dist-packages (from tensorflow>=2.6.0->tensorflow-recommenders==0.6.0) (0.26.0)\n",
            "Requirement already satisfied: google-pasta>=0.1.1 in /usr/local/lib/python3.7/dist-packages (from tensorflow>=2.6.0->tensorflow-recommenders==0.6.0) (0.2.0)\n",
            "Requirement already satisfied: wheel<1.0,>=0.23.0 in /usr/local/lib/python3.7/dist-packages (from astunparse>=1.6.0->tensorflow>=2.6.0->tensorflow-recommenders==0.6.0) (0.37.1)\n",
            "Requirement already satisfied: cached-property in /usr/local/lib/python3.7/dist-packages (from h5py>=2.9.0->tensorflow>=2.6.0->tensorflow-recommenders==0.6.0) (1.5.2)\n",
            "Requirement already satisfied: requests<3,>=2.21.0 in /usr/local/lib/python3.7/dist-packages (from tensorboard<2.9,>=2.8->tensorflow>=2.6.0->tensorflow-recommenders==0.6.0) (2.23.0)\n",
            "Requirement already satisfied: markdown>=2.6.8 in /usr/local/lib/python3.7/dist-packages (from tensorboard<2.9,>=2.8->tensorflow>=2.6.0->tensorflow-recommenders==0.6.0) (3.4.1)\n",
            "Requirement already satisfied: google-auth<3,>=1.6.3 in /usr/local/lib/python3.7/dist-packages (from tensorboard<2.9,>=2.8->tensorflow>=2.6.0->tensorflow-recommenders==0.6.0) (1.35.0)\n",
            "Requirement already satisfied: werkzeug>=0.11.15 in /usr/local/lib/python3.7/dist-packages (from tensorboard<2.9,>=2.8->tensorflow>=2.6.0->tensorflow-recommenders==0.6.0) (1.0.1)\n",
            "Requirement already satisfied: tensorboard-plugin-wit>=1.6.0 in /usr/local/lib/python3.7/dist-packages (from tensorboard<2.9,>=2.8->tensorflow>=2.6.0->tensorflow-recommenders==0.6.0) (1.8.1)\n",
            "Requirement already satisfied: google-auth-oauthlib<0.5,>=0.4.1 in /usr/local/lib/python3.7/dist-packages (from tensorboard<2.9,>=2.8->tensorflow>=2.6.0->tensorflow-recommenders==0.6.0) (0.4.6)\n",
            "Requirement already satisfied: tensorboard-data-server<0.7.0,>=0.6.0 in /usr/local/lib/python3.7/dist-packages (from tensorboard<2.9,>=2.8->tensorflow>=2.6.0->tensorflow-recommenders==0.6.0) (0.6.1)\n",
            "Requirement already satisfied: pyasn1-modules>=0.2.1 in /usr/local/lib/python3.7/dist-packages (from google-auth<3,>=1.6.3->tensorboard<2.9,>=2.8->tensorflow>=2.6.0->tensorflow-recommenders==0.6.0) (0.2.8)\n",
            "Requirement already satisfied: cachetools<5.0,>=2.0.0 in /usr/local/lib/python3.7/dist-packages (from google-auth<3,>=1.6.3->tensorboard<2.9,>=2.8->tensorflow>=2.6.0->tensorflow-recommenders==0.6.0) (4.2.4)\n",
            "Requirement already satisfied: rsa<5,>=3.1.4 in /usr/local/lib/python3.7/dist-packages (from google-auth<3,>=1.6.3->tensorboard<2.9,>=2.8->tensorflow>=2.6.0->tensorflow-recommenders==0.6.0) (4.9)\n",
            "Requirement already satisfied: requests-oauthlib>=0.7.0 in /usr/local/lib/python3.7/dist-packages (from google-auth-oauthlib<0.5,>=0.4.1->tensorboard<2.9,>=2.8->tensorflow>=2.6.0->tensorflow-recommenders==0.6.0) (1.3.1)\n",
            "Requirement already satisfied: importlib-metadata>=4.4 in /usr/local/lib/python3.7/dist-packages (from markdown>=2.6.8->tensorboard<2.9,>=2.8->tensorflow>=2.6.0->tensorflow-recommenders==0.6.0) (4.12.0)\n",
            "Requirement already satisfied: zipp>=0.5 in /usr/local/lib/python3.7/dist-packages (from importlib-metadata>=4.4->markdown>=2.6.8->tensorboard<2.9,>=2.8->tensorflow>=2.6.0->tensorflow-recommenders==0.6.0) (3.8.1)\n",
            "Requirement already satisfied: pyasn1<0.5.0,>=0.4.6 in /usr/local/lib/python3.7/dist-packages (from pyasn1-modules>=0.2.1->google-auth<3,>=1.6.3->tensorboard<2.9,>=2.8->tensorflow>=2.6.0->tensorflow-recommenders==0.6.0) (0.4.8)\n",
            "Requirement already satisfied: urllib3!=1.25.0,!=1.25.1,<1.26,>=1.21.1 in /usr/local/lib/python3.7/dist-packages (from requests<3,>=2.21.0->tensorboard<2.9,>=2.8->tensorflow>=2.6.0->tensorflow-recommenders==0.6.0) (1.24.3)\n",
            "Requirement already satisfied: chardet<4,>=3.0.2 in /usr/local/lib/python3.7/dist-packages (from requests<3,>=2.21.0->tensorboard<2.9,>=2.8->tensorflow>=2.6.0->tensorflow-recommenders==0.6.0) (3.0.4)\n",
            "Requirement already satisfied: certifi>=2017.4.17 in /usr/local/lib/python3.7/dist-packages (from requests<3,>=2.21.0->tensorboard<2.9,>=2.8->tensorflow>=2.6.0->tensorflow-recommenders==0.6.0) (2022.6.15)\n",
            "Requirement already satisfied: idna<3,>=2.5 in /usr/local/lib/python3.7/dist-packages (from requests<3,>=2.21.0->tensorboard<2.9,>=2.8->tensorflow>=2.6.0->tensorflow-recommenders==0.6.0) (2.10)\n",
            "Requirement already satisfied: oauthlib>=3.0.0 in /usr/local/lib/python3.7/dist-packages (from requests-oauthlib>=0.7.0->google-auth-oauthlib<0.5,>=0.4.1->tensorboard<2.9,>=2.8->tensorflow>=2.6.0->tensorflow-recommenders==0.6.0) (3.2.0)\n"
          ]
        }
      ]
    },
    {
      "cell_type": "markdown",
      "source": [
        "### Prepare dataset for tensorflow recommenders"
      ],
      "metadata": {
        "id": "0EG3UKG0KQKx"
      },
      "id": "0EG3UKG0KQKx"
    },
    {
      "cell_type": "code",
      "source": [
        "ratings = tf.data.Dataset.from_tensor_slices(dict(rating_df)).map(lambda x: {\n",
        "    \"userID\": x[\"userID\"],\n",
        "    \"itemID\": x[\"itemID\"],\n",
        "    \"author\": x[\"author\"],\n",
        "    \"rating\": x[\"rating\"]\n",
        "})\n"
      ],
      "metadata": {
        "id": "N_hygHG9wC8C"
      },
      "id": "N_hygHG9wC8C",
      "execution_count": 264,
      "outputs": []
    },
    {
      "cell_type": "code",
      "source": [
        "\n",
        "items =ratings.batch(rating_df.shape[0]).map(lambda x: x[\"itemID\"])\n",
        "user_ids = ratings.batch(rating_df.shape[0]).map(lambda x: x[\"userID\"])\n",
        "unique_user_ids = np.unique(np.concatenate(list(user_ids)))\n",
        "unique_item_ids = np.unique(np.concatenate(list(items)))\n",
        "products_dict = rating_df[['itemID']].drop_duplicates()\n",
        "products_dict = {name: np.array(value) for name, value in products_dict.items()}\n",
        "products = tf.data.Dataset.from_tensor_slices(products_dict)\n",
        "products = products.map(lambda x: x['itemID'])\n"
      ],
      "metadata": {
        "id": "rYLVAIf1PDC2"
      },
      "id": "rYLVAIf1PDC2",
      "execution_count": 265,
      "outputs": []
    },
    {
      "cell_type": "code",
      "source": [
        "userIds    = rating_df.userID.unique()\n",
        "productIds = rating_df.itemID.unique()\n",
        "total_ratings= len(rating_df.index)"
      ],
      "metadata": {
        "id": "758XFYViZpB-"
      },
      "id": "758XFYViZpB-",
      "execution_count": 266,
      "outputs": []
    },
    {
      "cell_type": "code",
      "source": [
        "# ratings = tf.data.Dataset.from_tensor_slices( {\"userID\":tf.cast( rating_df.userID.values  ,tf.string),\n",
        "#                                 \"itemID\":tf.cast( rating_df.itemID.values,tf.string),\n",
        "#                                 \"rating\":tf.cast( rating_df.rating.values  ,tf.int8,) } )"
      ],
      "metadata": {
        "id": "fHSWOi4Q_gjG"
      },
      "id": "fHSWOi4Q_gjG",
      "execution_count": 267,
      "outputs": []
    },
    {
      "cell_type": "code",
      "source": [
        "tf.random.set_seed(42)\n",
        "shuffled = ratings.shuffle(100_000, seed=42, reshuffle_each_iteration=False)\n",
        "\n",
        "train = shuffled.take( int(total_ratings*0.8) )\n",
        "test = shuffled.skip(int(total_ratings*0.8)).take(int(total_ratings*0.2))\n",
        "\n",
        "unique_productIds = productIds\n",
        "unique_userIds    = userIds\n",
        "cached_train = train.shuffle(100_000).batch(8192).cache()\n",
        "cached_test = test.batch(4096).cache()"
      ],
      "metadata": {
        "id": "z0Bk7CcB_rUm"
      },
      "id": "z0Bk7CcB_rUm",
      "execution_count": 268,
      "outputs": []
    },
    {
      "cell_type": "markdown",
      "source": [
        "### Tensorflow Ranking "
      ],
      "metadata": {
        "id": "P7wAQoQzKKcr"
      },
      "id": "P7wAQoQzKKcr"
    },
    {
      "cell_type": "code",
      "source": [
        "import numpy as np\n",
        "import tensorflow as tf\n",
        "import tensorflow_recommenders as tfrs\n",
        "# Build a model.\n",
        "class RankingModel(tf.keras.Model):\n",
        "\n",
        "    def __init__(self):\n",
        "        super().__init__()\n",
        "        embedding_dimension = 32\n",
        "\n",
        "        self.user_embeddings = tf.keras.Sequential([\n",
        "                                    tf.keras.layers.experimental.preprocessing.StringLookup(\n",
        "                                        vocabulary=unique_user_ids, mask_token=None),\n",
        "                                        # add addional embedding to account for unknow tokens\n",
        "                                    tf.keras.layers.Embedding(len(unique_user_ids)+1, embedding_dimension)\n",
        "                                    ])\n",
        "\n",
        "        self.product_embeddings = tf.keras.Sequential([\n",
        "                                    tf.keras.layers.experimental.preprocessing.StringLookup(\n",
        "                                        vocabulary=unique_item_ids, mask_token=None),\n",
        "                                    # add addional embedding to account for unknow tokens\n",
        "                                    tf.keras.layers.Embedding(len(unique_item_ids)+1, embedding_dimension)\n",
        "                                    ])\n",
        "        # Set up a retrieval task and evaluation metrics over the\n",
        "        # entire dataset of candidates.\n",
        "        self.ratings = tf.keras.Sequential([\n",
        "                            tf.keras.layers.Dense(256, activation=\"relu\"),\n",
        "                            tf.keras.layers.Dense(64,  activation=\"relu\"),\n",
        "                            tf.keras.layers.Dense(1)\n",
        "                              ])\n",
        "    def call(self, userId, productId):\n",
        "        user_embeddings  = self.user_embeddings (userId)\n",
        "        product_embeddings = self.product_embeddings(productId)\n",
        "        return self.ratings(tf.concat([user_embeddings,product_embeddings], axis=1))\n",
        "\n",
        "# Build a model.\n",
        "class BuildModelRanking(tfrs.models.Model):\n",
        "\n",
        "    def __init__(self):\n",
        "        super().__init__()\n",
        "        self.ranking_model: tf.keras.Model = RankingModel()\n",
        "        self.task: tf.keras.layers.Layer   = tfrs.tasks.Ranking(\n",
        "                                                    loss    =  tf.keras.losses.MeanSquaredError(),\n",
        "                                                    metrics = [tf.keras.metrics.RootMeanSquaredError()])\n",
        "            \n",
        "\n",
        "    def compute_loss(self, features, training=False):\n",
        "        rating_predictions = self.ranking_model(features[\"userID\"], features[\"itemID\"]  )\n",
        "\n",
        "        return self.task( labels=features[\"rating\"], predictions=rating_predictions)"
      ],
      "metadata": {
        "id": "CC0unoun-_at"
      },
      "id": "CC0unoun-_at",
      "execution_count": 269,
      "outputs": []
    },
    {
      "cell_type": "code",
      "source": [
        "modelranking = BuildModelRanking()\n",
        "modelranking.compile(optimizer=tf.keras.optimizers.Adagrad( learning_rate=0.1 ))\n",
        "\n",
        "ranking_history=modelranking.fit(cached_train, epochs=20)"
      ],
      "metadata": {
        "colab": {
          "base_uri": "https://localhost:8080/"
        },
        "id": "x_IU5FU0_xqq",
        "outputId": "67e593a1-6386-4ce0-94ba-8b654e3a4d61"
      },
      "id": "x_IU5FU0_xqq",
      "execution_count": 270,
      "outputs": [
        {
          "output_type": "stream",
          "name": "stdout",
          "text": [
            "Epoch 1/20\n",
            "4/4 [==============================] - 1s 27ms/step - root_mean_squared_error: 3.5054 - loss: 12.1806 - regularization_loss: 0.0000e+00 - total_loss: 12.1806\n",
            "Epoch 2/20\n",
            "4/4 [==============================] - 0s 6ms/step - root_mean_squared_error: 3.3606 - loss: 11.3295 - regularization_loss: 0.0000e+00 - total_loss: 11.3295\n",
            "Epoch 3/20\n",
            "4/4 [==============================] - 0s 6ms/step - root_mean_squared_error: 3.3281 - loss: 11.1343 - regularization_loss: 0.0000e+00 - total_loss: 11.1343\n",
            "Epoch 4/20\n",
            "4/4 [==============================] - 0s 6ms/step - root_mean_squared_error: 3.2954 - loss: 10.9023 - regularization_loss: 0.0000e+00 - total_loss: 10.9023\n",
            "Epoch 5/20\n",
            "4/4 [==============================] - 0s 6ms/step - root_mean_squared_error: 3.2743 - loss: 10.6956 - regularization_loss: 0.0000e+00 - total_loss: 10.6956\n",
            "Epoch 6/20\n",
            "4/4 [==============================] - 0s 6ms/step - root_mean_squared_error: 3.2050 - loss: 10.2520 - regularization_loss: 0.0000e+00 - total_loss: 10.2520\n",
            "Epoch 7/20\n",
            "4/4 [==============================] - 0s 6ms/step - root_mean_squared_error: 3.1543 - loss: 9.9835 - regularization_loss: 0.0000e+00 - total_loss: 9.9835\n",
            "Epoch 8/20\n",
            "4/4 [==============================] - 0s 6ms/step - root_mean_squared_error: 3.1263 - loss: 9.7805 - regularization_loss: 0.0000e+00 - total_loss: 9.7805\n",
            "Epoch 9/20\n",
            "4/4 [==============================] - 0s 6ms/step - root_mean_squared_error: 3.0984 - loss: 9.6347 - regularization_loss: 0.0000e+00 - total_loss: 9.6347\n",
            "Epoch 10/20\n",
            "4/4 [==============================] - 0s 5ms/step - root_mean_squared_error: 3.0922 - loss: 9.5924 - regularization_loss: 0.0000e+00 - total_loss: 9.5924\n",
            "Epoch 11/20\n",
            "4/4 [==============================] - 0s 6ms/step - root_mean_squared_error: 3.0850 - loss: 9.5424 - regularization_loss: 0.0000e+00 - total_loss: 9.5424\n",
            "Epoch 12/20\n",
            "4/4 [==============================] - 0s 6ms/step - root_mean_squared_error: 3.0767 - loss: 9.4874 - regularization_loss: 0.0000e+00 - total_loss: 9.4874\n",
            "Epoch 13/20\n",
            "4/4 [==============================] - 0s 6ms/step - root_mean_squared_error: 3.0691 - loss: 9.4357 - regularization_loss: 0.0000e+00 - total_loss: 9.4357\n",
            "Epoch 14/20\n",
            "4/4 [==============================] - 0s 6ms/step - root_mean_squared_error: 3.0624 - loss: 9.3878 - regularization_loss: 0.0000e+00 - total_loss: 9.3878\n",
            "Epoch 15/20\n",
            "4/4 [==============================] - 0s 6ms/step - root_mean_squared_error: 3.0564 - loss: 9.3421 - regularization_loss: 0.0000e+00 - total_loss: 9.3421\n",
            "Epoch 16/20\n",
            "4/4 [==============================] - 0s 6ms/step - root_mean_squared_error: 3.0498 - loss: 9.2912 - regularization_loss: 0.0000e+00 - total_loss: 9.2912\n",
            "Epoch 17/20\n",
            "4/4 [==============================] - 0s 6ms/step - root_mean_squared_error: 3.0411 - loss: 9.2276 - regularization_loss: 0.0000e+00 - total_loss: 9.2276\n",
            "Epoch 18/20\n",
            "4/4 [==============================] - 0s 6ms/step - root_mean_squared_error: 3.0316 - loss: 9.1618 - regularization_loss: 0.0000e+00 - total_loss: 9.1618\n",
            "Epoch 19/20\n",
            "4/4 [==============================] - 0s 6ms/step - root_mean_squared_error: 3.0231 - loss: 9.1024 - regularization_loss: 0.0000e+00 - total_loss: 9.1024\n",
            "Epoch 20/20\n",
            "4/4 [==============================] - 0s 6ms/step - root_mean_squared_error: 3.0158 - loss: 9.0513 - regularization_loss: 0.0000e+00 - total_loss: 9.0513\n"
          ]
        }
      ]
    },
    {
      "cell_type": "code",
      "source": [
        "metrics = modelranking.evaluate(cached_test, return_dict=True)\n"
      ],
      "metadata": {
        "colab": {
          "base_uri": "https://localhost:8080/"
        },
        "id": "UmkPSP67AIxK",
        "outputId": "689c91cc-0abe-4081-8d1b-eae0a8ec910d"
      },
      "id": "UmkPSP67AIxK",
      "execution_count": 271,
      "outputs": [
        {
          "output_type": "stream",
          "name": "stdout",
          "text": [
            "2/2 [==============================] - 0s 20ms/step - root_mean_squared_error: 3.0579 - loss: 9.4156 - regularization_loss: 0.0000e+00 - total_loss: 9.4156\n"
          ]
        }
      ]
    },
    {
      "cell_type": "code",
      "source": [
        "user_rand = userIds[1]\n",
        "test_rating = {}\n",
        "for m in test.take(5):\n",
        "    test_rating[m[\"itemID\"].numpy()]=RankingModel()(tf.convert_to_tensor([user_rand]),tf.convert_to_tensor([m[\"itemID\"]]))"
      ],
      "metadata": {
        "id": "cKK0Brin_7iq"
      },
      "id": "cKK0Brin_7iq",
      "execution_count": 272,
      "outputs": []
    },
    {
      "cell_type": "code",
      "source": [
        "print(\"Top 5 recommended products for User {}: \".format(user_rand))\n",
        "for m in sorted(test_rating, key=test_rating.get, reverse=True):\n",
        "    print(m.decode())"
      ],
      "metadata": {
        "colab": {
          "base_uri": "https://localhost:8080/"
        },
        "id": "hBz5BjtxACYd",
        "outputId": "781aefd7-5b9b-4a5e-cfb8-f683bcaf974c"
      },
      "id": "hBz5BjtxACYd",
      "execution_count": 273,
      "outputs": [
        {
          "output_type": "stream",
          "name": "stdout",
          "text": [
            "Top 5 recommended products for User 278418: \n",
            "Vinegar Hill (Oprah's Book Club (Paperback))\n",
            "Tell No One\n",
            "Heartbreaker\n",
            "The Witching Hour (Lives of the Mayfair Witches)\n",
            "Silence of the Lambs\n"
          ]
        }
      ]
    },
    {
      "cell_type": "markdown",
      "source": [
        "### Muti task Both  Retrieval and Ranking "
      ],
      "metadata": {
        "id": "c0vsFU6gKCpq"
      },
      "id": "c0vsFU6gKCpq"
    },
    {
      "cell_type": "code",
      "source": [
        "class BuildModelMultitask(tfrs.models.Model):\n",
        "\n",
        "  def __init__(self, rating_weight: float, retrieval_weight: float) -> None:\n",
        "    # We take the loss weights in the constructor: this allows us to instantiate\n",
        "    # several model objects with different loss weights.\n",
        "\n",
        "    super().__init__()\n",
        "\n",
        "    embedding_dimension = 32\n",
        "\n",
        "    # User and movie models.\n",
        "    self.item_model: tf.keras.layers.Layer = tf.keras.Sequential([\n",
        "      tf.keras.layers.StringLookup(\n",
        "        vocabulary=unique_item_ids, mask_token=None),\n",
        "      tf.keras.layers.Embedding(len(unique_item_ids) + 1, embedding_dimension)\n",
        "    ])\n",
        "    self.user_model: tf.keras.layers.Layer = tf.keras.Sequential([\n",
        "      tf.keras.layers.StringLookup(\n",
        "        vocabulary=unique_user_ids, mask_token=None),\n",
        "      tf.keras.layers.Embedding(len(unique_user_ids) + 1, embedding_dimension)\n",
        "    ])\n",
        "\n",
        "    # Model to take in user and item embeddings and predict ratings.\n",
        "    self.rating_model = tf.keras.Sequential([\n",
        "        tf.keras.layers.Dense(256, activation=\"relu\"),\n",
        "        tf.keras.layers.Dense(128, activation=\"relu\"),\n",
        "        tf.keras.layers.Dense(1),\n",
        "    ])\n",
        "\n",
        "    # The tasks.\n",
        "    self.rating_task: tf.keras.layers.Layer = tfrs.tasks.Ranking(\n",
        "        loss=tf.keras.losses.MeanSquaredError(),\n",
        "        metrics=[tf.keras.metrics.RootMeanSquaredError()],\n",
        "    )\n",
        "    self.retrieval_task: tf.keras.layers.Layer = tfrs.tasks.Retrieval(\n",
        "        metrics=tfrs.metrics.FactorizedTopK(\n",
        "            candidates=items.map(self.item_model)\n",
        "        )\n",
        "    )\n",
        "\n",
        "    # The loss weights.\n",
        "    self.rating_weight = rating_weight\n",
        "    self.retrieval_weight = retrieval_weight\n",
        "\n",
        "  def call(self, features: Dict[Text, tf.Tensor]) -> tf.Tensor:\n",
        "    # We pick out the user features and pass them into the user model.\n",
        "    user_embeddings = self.user_model(features[\"userID\"])\n",
        "    # And pick out the movie features and pass them into the movie model.\n",
        "    item_embeddings = self.item_model(features[\"itemID\"])\n",
        "\n",
        "    return (\n",
        "        user_embeddings,\n",
        "        item_embeddings,\n",
        "        # We apply the multi-layered rating model to a concatentation of\n",
        "        # user and movie embeddings.\n",
        "        self.rating_model(\n",
        "            tf.concat([user_embeddings, item_embeddings], axis=1)\n",
        "        ),\n",
        "    )\n",
        "\n",
        "  def compute_loss(self, features: Dict[Text, tf.Tensor], training=False) -> tf.Tensor:\n",
        "\n",
        "    ratings = features.pop(\"rating\")\n",
        "\n",
        "    user_embeddings,item_embeddings, rating_predictions = self(features)\n",
        "\n",
        "    # We compute the loss for each task.\n",
        "    rating_loss = self.rating_task(\n",
        "        labels=ratings,\n",
        "        predictions=rating_predictions,\n",
        "    )\n",
        "    retrieval_loss = self.retrieval_task(user_embeddings, item_embeddings)\n",
        "\n",
        "    # And combine them using the loss weights.\n",
        "    return (self.rating_weight * rating_loss\n",
        "            + self.retrieval_weight * retrieval_loss)"
      ],
      "metadata": {
        "id": "RClHJCih_3SR"
      },
      "id": "RClHJCih_3SR",
      "execution_count": 274,
      "outputs": []
    },
    {
      "cell_type": "code",
      "source": [
        "modelmultitask = BuildModelMultitask(rating_weight=1.0, retrieval_weight=0.0)\n",
        "modelmultitask.compile(optimizer=tf.keras.optimizers.Adagrad(0.1))"
      ],
      "metadata": {
        "id": "qAq5viniAc3j"
      },
      "id": "qAq5viniAc3j",
      "execution_count": 275,
      "outputs": []
    },
    {
      "cell_type": "code",
      "source": [
        "modelhist_multitask=modelmultitask.fit(cached_train, epochs=20)\n",
        "metrics = modelmultitask.evaluate(cached_test, return_dict=True)\n",
        "\n",
        "print(f\"Retrieval top-100 accuracy: {metrics['factorized_top_k/top_100_categorical_accuracy']:.3f}.\")\n",
        "print(f\"Ranking RMSE: {metrics['root_mean_squared_error']:.3f}.\")"
      ],
      "metadata": {
        "colab": {
          "base_uri": "https://localhost:8080/"
        },
        "id": "Isj2sVoZAtgS",
        "outputId": "c858e4cb-c8b9-4e6d-800d-23513e53129a"
      },
      "id": "Isj2sVoZAtgS",
      "execution_count": 276,
      "outputs": [
        {
          "output_type": "stream",
          "name": "stdout",
          "text": [
            "Epoch 1/20\n",
            "4/4 [==============================] - 8s 2s/step - root_mean_squared_error: 3.5051 - factorized_top_k/top_1_categorical_accuracy: 3.4338e-04 - factorized_top_k/top_5_categorical_accuracy: 3.4338e-04 - factorized_top_k/top_10_categorical_accuracy: 3.4338e-04 - factorized_top_k/top_50_categorical_accuracy: 0.0014 - factorized_top_k/top_100_categorical_accuracy: 0.0025 - loss: 12.1322 - regularization_loss: 0.0000e+00 - total_loss: 12.1322\n",
            "Epoch 2/20\n",
            "4/4 [==============================] - 8s 2s/step - root_mean_squared_error: 3.3702 - factorized_top_k/top_1_categorical_accuracy: 4.4640e-04 - factorized_top_k/top_5_categorical_accuracy: 4.4640e-04 - factorized_top_k/top_10_categorical_accuracy: 4.4640e-04 - factorized_top_k/top_50_categorical_accuracy: 0.0013 - factorized_top_k/top_100_categorical_accuracy: 0.0029 - loss: 11.3682 - regularization_loss: 0.0000e+00 - total_loss: 11.3682\n",
            "Epoch 3/20\n",
            "4/4 [==============================] - 8s 2s/step - root_mean_squared_error: 3.3211 - factorized_top_k/top_1_categorical_accuracy: 3.4338e-04 - factorized_top_k/top_5_categorical_accuracy: 3.4338e-04 - factorized_top_k/top_10_categorical_accuracy: 3.4338e-04 - factorized_top_k/top_50_categorical_accuracy: 0.0014 - factorized_top_k/top_100_categorical_accuracy: 0.0030 - loss: 11.0853 - regularization_loss: 0.0000e+00 - total_loss: 11.0853\n",
            "Epoch 4/20\n",
            "4/4 [==============================] - 6s 2s/step - root_mean_squared_error: 3.2910 - factorized_top_k/top_1_categorical_accuracy: 4.4640e-04 - factorized_top_k/top_5_categorical_accuracy: 4.4640e-04 - factorized_top_k/top_10_categorical_accuracy: 4.4640e-04 - factorized_top_k/top_50_categorical_accuracy: 0.0013 - factorized_top_k/top_100_categorical_accuracy: 0.0029 - loss: 10.9091 - regularization_loss: 0.0000e+00 - total_loss: 10.9091\n",
            "Epoch 5/20\n",
            "4/4 [==============================] - 6s 2s/step - root_mean_squared_error: 3.2944 - factorized_top_k/top_1_categorical_accuracy: 4.8074e-04 - factorized_top_k/top_5_categorical_accuracy: 4.8074e-04 - factorized_top_k/top_10_categorical_accuracy: 4.8074e-04 - factorized_top_k/top_50_categorical_accuracy: 0.0014 - factorized_top_k/top_100_categorical_accuracy: 0.0028 - loss: 10.7313 - regularization_loss: 0.0000e+00 - total_loss: 10.7313\n",
            "Epoch 6/20\n",
            "4/4 [==============================] - 6s 2s/step - root_mean_squared_error: 3.1490 - factorized_top_k/top_1_categorical_accuracy: 3.7772e-04 - factorized_top_k/top_5_categorical_accuracy: 3.7772e-04 - factorized_top_k/top_10_categorical_accuracy: 4.1206e-04 - factorized_top_k/top_50_categorical_accuracy: 0.0017 - factorized_top_k/top_100_categorical_accuracy: 0.0029 - loss: 9.9365 - regularization_loss: 0.0000e+00 - total_loss: 9.9365\n",
            "Epoch 7/20\n",
            "4/4 [==============================] - 6s 2s/step - root_mean_squared_error: 3.1017 - factorized_top_k/top_1_categorical_accuracy: 4.4640e-04 - factorized_top_k/top_5_categorical_accuracy: 4.4640e-04 - factorized_top_k/top_10_categorical_accuracy: 4.8074e-04 - factorized_top_k/top_50_categorical_accuracy: 0.0013 - factorized_top_k/top_100_categorical_accuracy: 0.0028 - loss: 9.6521 - regularization_loss: 0.0000e+00 - total_loss: 9.6521\n",
            "Epoch 8/20\n",
            "4/4 [==============================] - 6s 2s/step - root_mean_squared_error: 3.0812 - factorized_top_k/top_1_categorical_accuracy: 4.4640e-04 - factorized_top_k/top_5_categorical_accuracy: 4.4640e-04 - factorized_top_k/top_10_categorical_accuracy: 4.8074e-04 - factorized_top_k/top_50_categorical_accuracy: 0.0014 - factorized_top_k/top_100_categorical_accuracy: 0.0028 - loss: 9.5394 - regularization_loss: 0.0000e+00 - total_loss: 9.5394\n",
            "Epoch 9/20\n",
            "4/4 [==============================] - 6s 2s/step - root_mean_squared_error: 3.2257 - factorized_top_k/top_1_categorical_accuracy: 4.8074e-04 - factorized_top_k/top_5_categorical_accuracy: 4.8074e-04 - factorized_top_k/top_10_categorical_accuracy: 5.1507e-04 - factorized_top_k/top_50_categorical_accuracy: 0.0014 - factorized_top_k/top_100_categorical_accuracy: 0.0026 - loss: 10.1979 - regularization_loss: 0.0000e+00 - total_loss: 10.1979\n",
            "Epoch 10/20\n",
            "4/4 [==============================] - 6s 2s/step - root_mean_squared_error: 3.0944 - factorized_top_k/top_1_categorical_accuracy: 3.0904e-04 - factorized_top_k/top_5_categorical_accuracy: 3.0904e-04 - factorized_top_k/top_10_categorical_accuracy: 3.0904e-04 - factorized_top_k/top_50_categorical_accuracy: 0.0013 - factorized_top_k/top_100_categorical_accuracy: 0.0028 - loss: 9.5906 - regularization_loss: 0.0000e+00 - total_loss: 9.5906\n",
            "Epoch 11/20\n",
            "4/4 [==============================] - 6s 2s/step - root_mean_squared_error: 3.0849 - factorized_top_k/top_1_categorical_accuracy: 3.0904e-04 - factorized_top_k/top_5_categorical_accuracy: 3.0904e-04 - factorized_top_k/top_10_categorical_accuracy: 3.0904e-04 - factorized_top_k/top_50_categorical_accuracy: 0.0012 - factorized_top_k/top_100_categorical_accuracy: 0.0027 - loss: 9.5304 - regularization_loss: 0.0000e+00 - total_loss: 9.5304\n",
            "Epoch 12/20\n",
            "4/4 [==============================] - 6s 2s/step - root_mean_squared_error: 3.0756 - factorized_top_k/top_1_categorical_accuracy: 3.4338e-04 - factorized_top_k/top_5_categorical_accuracy: 3.4338e-04 - factorized_top_k/top_10_categorical_accuracy: 3.4338e-04 - factorized_top_k/top_50_categorical_accuracy: 0.0012 - factorized_top_k/top_100_categorical_accuracy: 0.0026 - loss: 9.4697 - regularization_loss: 0.0000e+00 - total_loss: 9.4697\n",
            "Epoch 13/20\n",
            "4/4 [==============================] - 7s 2s/step - root_mean_squared_error: 3.0666 - factorized_top_k/top_1_categorical_accuracy: 3.0904e-04 - factorized_top_k/top_5_categorical_accuracy: 3.0904e-04 - factorized_top_k/top_10_categorical_accuracy: 3.0904e-04 - factorized_top_k/top_50_categorical_accuracy: 0.0012 - factorized_top_k/top_100_categorical_accuracy: 0.0025 - loss: 9.4090 - regularization_loss: 0.0000e+00 - total_loss: 9.4090\n",
            "Epoch 14/20\n",
            "4/4 [==============================] - 7s 2s/step - root_mean_squared_error: 3.0583 - factorized_top_k/top_1_categorical_accuracy: 3.0904e-04 - factorized_top_k/top_5_categorical_accuracy: 3.0904e-04 - factorized_top_k/top_10_categorical_accuracy: 3.0904e-04 - factorized_top_k/top_50_categorical_accuracy: 0.0011 - factorized_top_k/top_100_categorical_accuracy: 0.0026 - loss: 9.3503 - regularization_loss: 0.0000e+00 - total_loss: 9.3503\n",
            "Epoch 15/20\n",
            "4/4 [==============================] - 6s 2s/step - root_mean_squared_error: 3.0504 - factorized_top_k/top_1_categorical_accuracy: 4.1206e-04 - factorized_top_k/top_5_categorical_accuracy: 4.1206e-04 - factorized_top_k/top_10_categorical_accuracy: 4.1206e-04 - factorized_top_k/top_50_categorical_accuracy: 0.0012 - factorized_top_k/top_100_categorical_accuracy: 0.0027 - loss: 9.2922 - regularization_loss: 0.0000e+00 - total_loss: 9.2922\n",
            "Epoch 16/20\n",
            "4/4 [==============================] - 6s 2s/step - root_mean_squared_error: 3.0420 - factorized_top_k/top_1_categorical_accuracy: 4.8074e-04 - factorized_top_k/top_5_categorical_accuracy: 4.8074e-04 - factorized_top_k/top_10_categorical_accuracy: 4.8074e-04 - factorized_top_k/top_50_categorical_accuracy: 0.0012 - factorized_top_k/top_100_categorical_accuracy: 0.0027 - loss: 9.2309 - regularization_loss: 0.0000e+00 - total_loss: 9.2309\n",
            "Epoch 17/20\n",
            "4/4 [==============================] - 6s 2s/step - root_mean_squared_error: 3.0330 - factorized_top_k/top_1_categorical_accuracy: 5.1507e-04 - factorized_top_k/top_5_categorical_accuracy: 5.1507e-04 - factorized_top_k/top_10_categorical_accuracy: 5.1507e-04 - factorized_top_k/top_50_categorical_accuracy: 0.0012 - factorized_top_k/top_100_categorical_accuracy: 0.0025 - loss: 9.1661 - regularization_loss: 0.0000e+00 - total_loss: 9.1661\n",
            "Epoch 18/20\n",
            "4/4 [==============================] - 6s 2s/step - root_mean_squared_error: 3.0240 - factorized_top_k/top_1_categorical_accuracy: 5.8375e-04 - factorized_top_k/top_5_categorical_accuracy: 5.8375e-04 - factorized_top_k/top_10_categorical_accuracy: 5.8375e-04 - factorized_top_k/top_50_categorical_accuracy: 0.0013 - factorized_top_k/top_100_categorical_accuracy: 0.0026 - loss: 9.1046 - regularization_loss: 0.0000e+00 - total_loss: 9.1046\n",
            "Epoch 19/20\n",
            "4/4 [==============================] - 7s 2s/step - root_mean_squared_error: 3.0165 - factorized_top_k/top_1_categorical_accuracy: 6.1809e-04 - factorized_top_k/top_5_categorical_accuracy: 6.1809e-04 - factorized_top_k/top_10_categorical_accuracy: 6.1809e-04 - factorized_top_k/top_50_categorical_accuracy: 0.0015 - factorized_top_k/top_100_categorical_accuracy: 0.0028 - loss: 9.0529 - regularization_loss: 0.0000e+00 - total_loss: 9.0529\n",
            "Epoch 20/20\n",
            "4/4 [==============================] - 7s 2s/step - root_mean_squared_error: 3.0105 - factorized_top_k/top_1_categorical_accuracy: 6.1809e-04 - factorized_top_k/top_5_categorical_accuracy: 6.1809e-04 - factorized_top_k/top_10_categorical_accuracy: 6.1809e-04 - factorized_top_k/top_50_categorical_accuracy: 0.0016 - factorized_top_k/top_100_categorical_accuracy: 0.0028 - loss: 9.0106 - regularization_loss: 0.0000e+00 - total_loss: 9.0106\n",
            "2/2 [==============================] - 2s 792ms/step - root_mean_squared_error: 3.0603 - factorized_top_k/top_1_categorical_accuracy: 5.4945e-04 - factorized_top_k/top_5_categorical_accuracy: 5.4945e-04 - factorized_top_k/top_10_categorical_accuracy: 5.4945e-04 - factorized_top_k/top_50_categorical_accuracy: 0.0015 - factorized_top_k/top_100_categorical_accuracy: 0.0025 - loss: 9.4215 - regularization_loss: 0.0000e+00 - total_loss: 9.4215\n",
            "Retrieval top-100 accuracy: 0.002.\n",
            "Ranking RMSE: 3.060.\n"
          ]
        }
      ]
    },
    {
      "cell_type": "code",
      "source": [
        "epochs = [i for i in range(20)]\n",
        "\n",
        "plt.plot(epochs, modelhist_multitask.history[\"factorized_top_k/top_100_categorical_accuracy\"], label=\"accuracy\")\n",
        "plt.title(\"Accuracy vs epoch\")\n",
        "plt.xlabel(\"epoch\")\n",
        "plt.ylabel(\"Top-100 accuracy\");\n",
        "plt.legend()"
      ],
      "metadata": {
        "colab": {
          "base_uri": "https://localhost:8080/",
          "height": 313
        },
        "id": "l64rX4C9HURj",
        "outputId": "c931a830-00ed-4539-c7ef-72699f58d4a3"
      },
      "id": "l64rX4C9HURj",
      "execution_count": 277,
      "outputs": [
        {
          "output_type": "execute_result",
          "data": {
            "text/plain": [
              "<matplotlib.legend.Legend at 0x7f803f57df90>"
            ]
          },
          "metadata": {},
          "execution_count": 277
        },
        {
          "output_type": "display_data",
          "data": {
            "text/plain": [
              "<Figure size 432x288 with 1 Axes>"
            ],
            "image/png": "[encoded data removed]"
          },
          "metadata": {}
        }
      ]
    },
    {
      "cell_type": "markdown",
      "source": [
        "### Deep cross network"
      ],
      "metadata": {
        "id": "aW-45PiwLE-J"
      },
      "id": "aW-45PiwLE-J"
    },
    {
      "cell_type": "code",
      "source": [
        "rating_df"
      ],
      "metadata": {
        "colab": {
          "base_uri": "https://localhost:8080/",
          "height": 423
        },
        "id": "_7NuDvpzw5l-",
        "outputId": "64fa55a9-20b4-467a-e1f7-268a09e5d72b"
      },
      "id": "_7NuDvpzw5l-",
      "execution_count": 278,
      "outputs": [
        {
          "output_type": "execute_result",
          "data": {
            "text/plain": [
              "         userID                                             itemID  \\\n",
              "1456     277427  Politically Correct Bedtime Stories: Modern Ta...   \n",
              "1468     277427                           A Tree Grows in Brooklyn   \n",
              "1469     277427                      The Poisonwood Bible: A Novel   \n",
              "1471     277427                                 Bel Canto: A Novel   \n",
              "1474     277427  One for the Money (Stephanie Plum Novels (Pape...   \n",
              "...         ...                                                ...   \n",
              "1147441  275970  Morality for Beautiful Girls (No.1 Ladies Dete...   \n",
              "1147516  275970                      An Instance of the Fingerpost   \n",
              "1147517  275970                                        Fingersmith   \n",
              "1147556  275970                             Me Talk Pretty One Day   \n",
              "1147557  275970                                              Naked   \n",
              "\n",
              "                         author  rating  \n",
              "1456          James Finn Garner      10  \n",
              "1468                Betty Smith       0  \n",
              "1469         Barbara Kingsolver       0  \n",
              "1471               Ann Patchett       0  \n",
              "1474            Janet Evanovich       9  \n",
              "...                         ...     ...  \n",
              "1147441  Alexander McCall Smith       0  \n",
              "1147516              Iain Pears       0  \n",
              "1147517            Sarah Waters       0  \n",
              "1147556           David Sedaris       9  \n",
              "1147557           David Sedaris       0  \n",
              "\n",
              "[36403 rows x 4 columns]"
            ],
            "text/html": [
              "\n",
              "  <div id=\"df-d6fba86a-0796-474c-88e3-1836dfd057c2\">\n",
              "    <div class=\"colab-df-container\">\n",
              "      <div>\n",
              "<style scoped>\n",
              "    .dataframe tbody tr th:only-of-type {\n",
              "        vertical-align: middle;\n",
              "    }\n",
              "\n",
              "    .dataframe tbody tr th {\n",
              "        vertical-align: top;\n",
              "    }\n",
              "\n",
              "    .dataframe thead th {\n",
              "        text-align: right;\n",
              "    }\n",
              "</style>\n",
              "<table border=\"1\" class=\"dataframe\">\n",
              "  <thead>\n",
              "    <tr style=\"text-align: right;\">\n",
              "      <th></th>\n",
              "      <th>userID</th>\n",
              "      <th>itemID</th>\n",
              "      <th>author</th>\n",
              "      <th>rating</th>\n",
              "    </tr>\n",
              "  </thead>\n",
              "  <tbody>\n",
              "    <tr>\n",
              "      <th>1456</th>\n",
              "      <td>277427</td>\n",
              "      <td>Politically Correct Bedtime Stories: Modern Ta...</td>\n",
              "      <td>James Finn Garner</td>\n",
              "      <td>10</td>\n",
              "    </tr>\n",
              "    <tr>\n",
              "      <th>1468</th>\n",
              "      <td>277427</td>\n",
              "      <td>A Tree Grows in Brooklyn</td>\n",
              "      <td>Betty Smith</td>\n",
              "      <td>0</td>\n",
              "    </tr>\n",
              "    <tr>\n",
              "      <th>1469</th>\n",
              "      <td>277427</td>\n",
              "      <td>The Poisonwood Bible: A Novel</td>\n",
              "      <td>Barbara Kingsolver</td>\n",
              "      <td>0</td>\n",
              "    </tr>\n",
              "    <tr>\n",
              "      <th>1471</th>\n",
              "      <td>277427</td>\n",
              "      <td>Bel Canto: A Novel</td>\n",
              "      <td>Ann Patchett</td>\n",
              "      <td>0</td>\n",
              "    </tr>\n",
              "    <tr>\n",
              "      <th>1474</th>\n",
              "      <td>277427</td>\n",
              "      <td>One for the Money (Stephanie Plum Novels (Pape...</td>\n",
              "      <td>Janet Evanovich</td>\n",
              "      <td>9</td>\n",
              "    </tr>\n",
              "    <tr>\n",
              "      <th>...</th>\n",
              "      <td>...</td>\n",
              "      <td>...</td>\n",
              "      <td>...</td>\n",
              "      <td>...</td>\n",
              "    </tr>\n",
              "    <tr>\n",
              "      <th>1147441</th>\n",
              "      <td>275970</td>\n",
              "      <td>Morality for Beautiful Girls (No.1 Ladies Dete...</td>\n",
              "      <td>Alexander McCall Smith</td>\n",
              "      <td>0</td>\n",
              "    </tr>\n",
              "    <tr>\n",
              "      <th>1147516</th>\n",
              "      <td>275970</td>\n",
              "      <td>An Instance of the Fingerpost</td>\n",
              "      <td>Iain Pears</td>\n",
              "      <td>0</td>\n",
              "    </tr>\n",
              "    <tr>\n",
              "      <th>1147517</th>\n",
              "      <td>275970</td>\n",
              "      <td>Fingersmith</td>\n",
              "      <td>Sarah Waters</td>\n",
              "      <td>0</td>\n",
              "    </tr>\n",
              "    <tr>\n",
              "      <th>1147556</th>\n",
              "      <td>275970</td>\n",
              "      <td>Me Talk Pretty One Day</td>\n",
              "      <td>David Sedaris</td>\n",
              "      <td>9</td>\n",
              "    </tr>\n",
              "    <tr>\n",
              "      <th>1147557</th>\n",
              "      <td>275970</td>\n",
              "      <td>Naked</td>\n",
              "      <td>David Sedaris</td>\n",
              "      <td>0</td>\n",
              "    </tr>\n",
              "  </tbody>\n",
              "</table>\n",
              "<p>36403 rows × 4 columns</p>\n",
              "</div>\n",
              "      <button class=\"colab-df-convert\" onclick=\"convertToInteractive('df-d6fba86a-0796-474c-88e3-1836dfd057c2')\"\n",
              "              title=\"Convert this dataframe to an interactive table.\"\n",
              "              style=\"display:none;\">\n",
              "        \n",
              "  <svg xmlns=\"http://www.w3.org/2000/svg\" height=\"24px\"viewBox=\"0 0 24 24\"\n",
              "       width=\"24px\">\n",
              "    <path d=\"M0 0h24v24H0V0z\" fill=\"none\"/>\n",
              "    <path d=\"M18.56 5.44l.94 2.06.94-2.06 2.06-.94-2.06-.94-.94-2.06-.94 2.06-2.06.94zm-11 1L8.5 8.5l.94-2.06 2.06-.94-2.06-.94L8.5 2.5l-.94 2.06-2.06.94zm10 10l.94 2.06.94-2.06 2.06-.94-2.06-.94-.94-2.06-.94 2.06-2.06.94z\"/><path d=\"M17.41 7.96l-1.37-1.37c-.4-.4-.92-.59-1.43-.59-.52 0-1.04.2-1.43.59L10.3 9.45l-7.72 7.72c-.78.78-.78 2.05 0 2.83L4 21.41c.39.39.9.59 1.41.59.51 0 1.02-.2 1.41-.59l7.78-7.78 2.81-2.81c.8-.78.8-2.07 0-2.86zM5.41 20L4 18.59l7.72-7.72 1.47 1.35L5.41 20z\"/>\n",
              "  </svg>\n",
              "      </button>\n",
              "      \n",
              "  <style>\n",
              "    .colab-df-container {\n",
              "      display:flex;\n",
              "      flex-wrap:wrap;\n",
              "      gap: 12px;\n",
              "    }\n",
              "\n",
              "    .colab-df-convert {\n",
              "      background-color: #E8F0FE;\n",
              "      border: none;\n",
              "      border-radius: 50%;\n",
              "      cursor: pointer;\n",
              "      display: none;\n",
              "      fill: #1967D2;\n",
              "      height: 32px;\n",
              "      padding: 0 0 0 0;\n",
              "      width: 32px;\n",
              "    }\n",
              "\n",
              "    .colab-df-convert:hover {\n",
              "      background-color: #E2EBFA;\n",
              "      box-shadow: 0px 1px 2px rgba(60, 64, 67, 0.3), 0px 1px 3px 1px rgba(60, 64, 67, 0.15);\n",
              "      fill: #174EA6;\n",
              "    }\n",
              "\n",
              "    [theme=dark] .colab-df-convert {\n",
              "      background-color: #3B4455;\n",
              "      fill: #D2E3FC;\n",
              "    }\n",
              "\n",
              "    [theme=dark] .colab-df-convert:hover {\n",
              "      background-color: #434B5C;\n",
              "      box-shadow: 0px 1px 3px 1px rgba(0, 0, 0, 0.15);\n",
              "      filter: drop-shadow(0px 1px 2px rgba(0, 0, 0, 0.3));\n",
              "      fill: #FFFFFF;\n",
              "    }\n",
              "  </style>\n",
              "\n",
              "      <script>\n",
              "        const buttonEl =\n",
              "          document.querySelector('#df-d6fba86a-0796-474c-88e3-1836dfd057c2 button.colab-df-convert');\n",
              "        buttonEl.style.display =\n",
              "          google.colab.kernel.accessAllowed ? 'block' : 'none';\n",
              "\n",
              "        async function convertToInteractive(key) {\n",
              "          const element = document.querySelector('#df-d6fba86a-0796-474c-88e3-1836dfd057c2');\n",
              "          const dataTable =\n",
              "            await google.colab.kernel.invokeFunction('convertToInteractive',\n",
              "                                                     [key], {});\n",
              "          if (!dataTable) return;\n",
              "\n",
              "          const docLinkHtml = 'Like what you see? Visit the ' +\n",
              "            '<a target=\"_blank\" href=https://colab.research.google.com/notebooks/data_table.ipynb>data table notebook</a>'\n",
              "            + ' to learn more about interactive tables.';\n",
              "          element.innerHTML = '';\n",
              "          dataTable['output_type'] = 'display_data';\n",
              "          await google.colab.output.renderOutput(dataTable, element);\n",
              "          const docLink = document.createElement('div');\n",
              "          docLink.innerHTML = docLinkHtml;\n",
              "          element.appendChild(docLink);\n",
              "        }\n",
              "      </script>\n",
              "    </div>\n",
              "  </div>\n",
              "  "
            ]
          },
          "metadata": {},
          "execution_count": 278
        }
      ]
    },
    {
      "cell_type": "code",
      "source": [
        "epochs = 20\n",
        "learning_rate = 0.001"
      ],
      "metadata": {
        "id": "bhyE1Uq6YkU6"
      },
      "id": "bhyE1Uq6YkU6",
      "execution_count": 279,
      "outputs": []
    },
    {
      "cell_type": "code",
      "source": [
        "interactions_dict = rating_df.groupby(['userID', \n",
        "                                      'itemID',\n",
        "                                      'author'\n",
        "                                      ])[ 'rating'].sum().reset_index()\n"
      ],
      "metadata": {
        "id": "7ZDWFfoJo7yt"
      },
      "id": "7ZDWFfoJo7yt",
      "execution_count": 280,
      "outputs": []
    },
    {
      "cell_type": "code",
      "source": [
        "interactions_dict = {name: np.array(value) for name, value in interactions_dict.items()}\n",
        "interactions = tf.data.Dataset.from_tensor_slices(interactions_dict)\n",
        "\n",
        "## item features\n",
        "items_dict = rating_df[['itemID']].drop_duplicates()\n",
        "items_dict = {name: np.array(value) for name, value in items_dict.items()}\n",
        "items = tf.data.Dataset.from_tensor_slices(items_dict)\n",
        "\n",
        "## map the features in interactions and items\n",
        "\n",
        "# Select the basic features.\n",
        "interactions = interactions.map(lambda x: {\n",
        "    'userID' : str(x['userID']), \n",
        "    'author' : str(x['author']),\n",
        "    'itemID' : str(x['itemID']), \n",
        "    'rating' : int(x['rating']),\n",
        "    \n",
        "})\n",
        "\n",
        "items = items.map(lambda x: str(x['itemID']))\n",
        "authors = interactions.map(lambda x: str(x['author']))"
      ],
      "metadata": {
        "id": "Qkoru0p1rlyT"
      },
      "id": "Qkoru0p1rlyT",
      "execution_count": 281,
      "outputs": []
    },
    {
      "cell_type": "code",
      "source": [
        "unique_items = np.unique(np.concatenate(list(items.batch(1000))))\n",
        "unique_user_ids = np.unique(np.concatenate(list(interactions.batch(1_000).map(lambda x: x[\"userID\"]))))\n",
        "unique_authors = np.unique(np.concatenate(list(interactions.batch(1_000).map(lambda x: x[\"author\"]))))"
      ],
      "metadata": {
        "id": "hsUd2dMXyFbH"
      },
      "id": "hsUd2dMXyFbH",
      "execution_count": 282,
      "outputs": []
    },
    {
      "cell_type": "code",
      "source": [
        ""
      ],
      "metadata": {
        "id": "GzEEkPVz3Dl6"
      },
      "id": "GzEEkPVz3Dl6",
      "execution_count": 282,
      "outputs": []
    },
    {
      "cell_type": "code",
      "source": [
        "total=interactions.__len__().numpy()\n",
        "train_size=(int) (total * .8 )\n",
        "test_size=(int) (total * .2 )"
      ],
      "metadata": {
        "id": "aCtzjS4k2plT"
      },
      "id": "aCtzjS4k2plT",
      "execution_count": 283,
      "outputs": []
    },
    {
      "cell_type": "code",
      "source": [
        "tf.random.set_seed(42)\n",
        "shuffled = interactions.shuffle(train_size, seed=42, reshuffle_each_iteration=False)\n",
        "\n",
        "train = shuffled.take(train_size)\n",
        "test = shuffled.skip(train_size).take(test_size)"
      ],
      "metadata": {
        "id": "jWPMBACo18n9"
      },
      "id": "jWPMBACo18n9",
      "execution_count": 284,
      "outputs": []
    },
    {
      "cell_type": "code",
      "source": [
        "class UserModel(tf.keras.Model):\n",
        "\n",
        "    def __init__(self):\n",
        "        super().__init__()\n",
        "        \n",
        "        self.embedding_dimension = 32\n",
        "        max_tokens = 10_000\n",
        "\n",
        "        ## user id\n",
        "        self.user_embedding = tf.keras.Sequential([\n",
        "                                                    tf.keras.layers.experimental.preprocessing.StringLookup(\n",
        "                                                    vocabulary=unique_user_ids, mask_token=None),\n",
        "                                                    tf.keras.layers.Embedding(len(unique_user_ids) + 1, 32),\n",
        "                                                    ])\n",
        "       \n",
        "        \n",
        "              \n",
        "        # authors\n",
        "        self.author_embedding = tf.keras.Sequential([\n",
        "                                  tf.keras.layers.experimental.preprocessing.StringLookup(\n",
        "                                    vocabulary=unique_authors, mask_token=None),\n",
        "                                  tf.keras.layers.Embedding(len(unique_authors) + 1, self.embedding_dimension)\n",
        "                                ])\n",
        "        \n",
        "        self.author_vectorizer = tf.keras.layers.experimental.preprocessing.TextVectorization(\n",
        "                                                                                        max_tokens=max_tokens)\n",
        "        self.author_text_embedding = tf.keras.Sequential([\n",
        "                                  self.author_vectorizer,\n",
        "                                  tf.keras.layers.Embedding(max_tokens, self.embedding_dimension, mask_zero=True),\n",
        "                                  tf.keras.layers.GlobalAveragePooling1D(),\n",
        "                                ])\n",
        "\n",
        "        self.author_vectorizer.adapt(authors)\n",
        "        \n",
        "\n",
        "    def call(self, inputs):\n",
        "        # Take the input dictionary, pass it through each input layer,\n",
        "        # and concatenate the result.\n",
        "        return tf.concat([\n",
        "            self.user_embedding(inputs[\"userID\"]),\n",
        "            self.author_embedding(inputs[\"author\"]),\n",
        "            self.author_text_embedding(inputs[\"author\"]),\n",
        "        ], axis=1)"
      ],
      "metadata": {
        "id": "Ybd-ksoDyN9V"
      },
      "id": "Ybd-ksoDyN9V",
      "execution_count": 285,
      "outputs": []
    },
    {
      "cell_type": "code",
      "source": [
        "class QueryModel(tf.keras.Model):\n",
        "    \"\"\"Model for encoding user queries.\"\"\"\n",
        "\n",
        "    def __init__(self, layer_sizes, projection_dim=None):\n",
        "        \"\"\"Model for encoding user queries\n",
        "        \"\"\"\n",
        "        super().__init__()\n",
        "\n",
        "        # We first use the user model for generating embeddings.\n",
        "        self.embedding_model = UserModel()\n",
        "            \n",
        "\n",
        "        # Then construct the layers.\n",
        "        self.dense_layers = tf.keras.Sequential(tfrs.layers.dcn.Cross(projection_dim=projection_dim,\n",
        "                                        kernel_initializer=\"glorot_uniform\"))\n",
        "\n",
        "        # Use the ReLU activation for all but the last layer.\n",
        "        for layer_size in layer_sizes[:-1]:\n",
        "            self.dense_layers.add(tf.keras.layers.Dense(layer_size, activation=\"relu\"))\n",
        "\n",
        "        # No activation for the last layer.\n",
        "        for layer_size in layer_sizes[-1:]:\n",
        "            self.dense_layers.add(tf.keras.layers.Dense(layer_size))\n",
        "\n",
        "    def call(self, inputs):\n",
        "        feature_embedding = self.embedding_model(inputs)\n",
        "        return self.dense_layers(feature_embedding)"
      ],
      "metadata": {
        "id": "JrfXe67TzLNF"
      },
      "id": "JrfXe67TzLNF",
      "execution_count": 286,
      "outputs": []
    },
    {
      "cell_type": "code",
      "source": [
        "class ItemModel(tf.keras.Model):\n",
        "\n",
        "    def __init__(self):\n",
        "        super().__init__()\n",
        "        \n",
        "        self.embedding_dimension = 32\n",
        "\n",
        "        max_tokens = 10_000\n",
        "\n",
        "        self.item_embedding = tf.keras.Sequential([\n",
        "          tf.keras.layers.experimental.preprocessing.StringLookup(\n",
        "              vocabulary=unique_item_ids,mask_token=None),\n",
        "          tf.keras.layers.Embedding(len(unique_item_ids) + 1, self.embedding_dimension)\n",
        "        ])\n",
        "\n",
        "        self.item_vectorizer = tf.keras.layers.experimental.preprocessing.TextVectorization(\n",
        "            max_tokens=max_tokens)\n",
        "\n",
        "        self.item_text_embedding = tf.keras.Sequential([\n",
        "          self.item_vectorizer,\n",
        "          tf.keras.layers.Embedding(max_tokens, self.embedding_dimension, mask_zero=True),\n",
        "          tf.keras.layers.GlobalAveragePooling1D(),\n",
        "        ])\n",
        "\n",
        "        self.item_vectorizer.adapt(items)\n",
        "      \n",
        "    def call(self, items):\n",
        "        return tf.concat([\n",
        "            self.item_embedding(items),\n",
        "            self.item_text_embedding(items),\n",
        "        ], axis=1)"
      ],
      "metadata": {
        "id": "eGkE70YGzY_1"
      },
      "id": "eGkE70YGzY_1",
      "execution_count": 287,
      "outputs": []
    },
    {
      "cell_type": "code",
      "source": [
        "class CandidateModel(tf.keras.Model):\n",
        "    \"\"\"Model for encoding items.\"\"\"\n",
        "\n",
        "    def __init__(self, layer_sizes, projection_dim=None):\n",
        "        \"\"\"Model for encoding items.\n",
        "\n",
        "        \n",
        "        \"\"\"\n",
        "        super().__init__()\n",
        "\n",
        "        self.embedding_model = ItemModel()\n",
        "\n",
        "         # Then construct the layers.\n",
        "        self.dense_layers = tf.keras.Sequential(tfrs.layers.dcn.Cross(projection_dim=projection_dim,\n",
        "                                                kernel_initializer=\"glorot_uniform\"))\n",
        "\n",
        "        # Use the ReLU activation for all but the last layer.\n",
        "        for layer_size in layer_sizes[:-1]:\n",
        "            self.dense_layers.add(tf.keras.layers.Dense(layer_size, activation=\"relu\"))\n",
        "\n",
        "        # No activation for the last layer.\n",
        "        for layer_size in layer_sizes[-1:]:\n",
        "            self.dense_layers.add(tf.keras.layers.Dense(layer_size))\n",
        "\n",
        "    def call(self, inputs):\n",
        "        feature_embedding = self.embedding_model(inputs)\n",
        "        return self.dense_layers(feature_embedding)"
      ],
      "metadata": {
        "id": "BklFLdOpz879"
      },
      "id": "BklFLdOpz879",
      "execution_count": 288,
      "outputs": []
    },
    {
      "cell_type": "code",
      "source": [
        "class CrossDNNModel(tfrs.models.Model):\n",
        "\n",
        "    def __init__(self, layer_sizes, rating_weight: float, retrieval_weight: float, projection_dim=None ):\n",
        "        super().__init__()\n",
        "        \n",
        "        self.query_model : tf.keras.Model = QueryModel(layer_sizes)\n",
        "        self.candidate_model : tf.keras.Model = CandidateModel(layer_sizes)\n",
        "        \n",
        "        ## rating and retrieval task.\n",
        "        \n",
        "        self.rating_task = tfrs.tasks.Ranking(\n",
        "            loss=tf.keras.losses.MeanSquaredError(),\n",
        "            metrics=[tf.keras.metrics.RootMeanSquaredError()],\n",
        "        )\n",
        "                 \n",
        "        self.retrieval_task : tf.keras.layers.Layer = tfrs.tasks.Retrieval(\n",
        "            metrics=tfrs.metrics.FactorizedTopK(\n",
        "                candidates=items.batch(128).map(self.candidate_model)\n",
        "            )\n",
        "        )\n",
        "\n",
        "        # The loss weights.\n",
        "        self.rating_weight = rating_weight\n",
        "        self.retrieval_weight = retrieval_weight\n",
        "\n",
        "    def compute_loss(self, features, training=False):\n",
        "        \n",
        "        # We only pass the user id and timestamp features into the query model. This\n",
        "        # is to ensure that the training inputs would have the same keys as the\n",
        "        # query inputs. Otherwise the discrepancy in input structure would cause an\n",
        "        # error when loading the query model after saving it.\n",
        "        ratings = features.pop(\"rating\")\n",
        "        \n",
        "        query_embeddings = self.query_model({\n",
        "            \"userID\": features[\"userID\"],\n",
        "            \"author\": features[\"author\"],\n",
        "          \n",
        "        })\n",
        "    \n",
        "        item_embeddings = self.candidate_model(features[\"itemID\"])       \n",
        "        retrieval_loss = self.retrieval_task(query_embeddings, item_embeddings)\n",
        "    \n",
        "    \n",
        "        return self.retrieval_task(query_embeddings, item_embeddings)"
      ],
      "metadata": {
        "id": "FYyAuMB40GNm"
      },
      "id": "FYyAuMB40GNm",
      "execution_count": 289,
      "outputs": []
    },
    {
      "cell_type": "code",
      "source": [
        "cached_train = train.shuffle(100_000).batch(32).cache()\n",
        "cached_test = test.batch(32).cache()\n",
        "\n",
        "model = CrossDNNModel([32], rating_weight=0.5, retrieval_weight=0.5, \n",
        "                      projection_dim=None)\n",
        "\n",
        "model.compile(optimizer=tf.keras.optimizers.Adagrad(0.1))\n",
        "\n",
        "modelhist_dcn=model.fit(cached_train, validation_data=cached_test,\n",
        "        validation_freq=5, epochs=3)\n",
        "\n",
        "metrics = model.evaluate(cached_test, return_dict=True)\n",
        "\n",
        "print(f\"Retrieval top-100 accuracy: {metrics['factorized_top_k/top_100_categorical_accuracy']:.3f}.\")\n",
        "print(f\"Retrieval top-50 accuracy: {metrics['factorized_top_k/top_50_categorical_accuracy']:.3f}.\")\n",
        "print(f\"Retrieval top-10 accuracy: {metrics['factorized_top_k/top_10_categorical_accuracy']:.3f}.\")\n",
        "print(f\"Retrieval top-5 accuracy: {metrics['factorized_top_k/top_5_categorical_accuracy']:.3f}.\")\n",
        "print(f\"Retrieval top-1 accuracy: {metrics['factorized_top_k/top_1_categorical_accuracy']:.3f}.\")"
      ],
      "metadata": {
        "colab": {
          "base_uri": "https://localhost:8080/"
        },
        "id": "sPNm--7y0St2",
        "outputId": "fc9265af-2d2c-4aa5-f4b6-3f87f2fedb18"
      },
      "id": "sPNm--7y0St2",
      "execution_count": 290,
      "outputs": [
        {
          "output_type": "stream",
          "name": "stdout",
          "text": [
            "Epoch 1/3\n",
            "878/878 [==============================] - 172s 193ms/step - root_mean_squared_error: 0.0000e+00 - factorized_top_k/top_1_categorical_accuracy: 1.0000 - factorized_top_k/top_5_categorical_accuracy: 1.0000 - factorized_top_k/top_10_categorical_accuracy: 1.0000 - factorized_top_k/top_50_categorical_accuracy: 1.0000 - factorized_top_k/top_100_categorical_accuracy: 1.0000 - loss: 110.7191 - regularization_loss: 0.0000e+00 - total_loss: 110.7191\n",
            "Epoch 2/3\n",
            "878/878 [==============================] - 169s 193ms/step - root_mean_squared_error: 0.0000e+00 - factorized_top_k/top_1_categorical_accuracy: 1.0000 - factorized_top_k/top_5_categorical_accuracy: 1.0000 - factorized_top_k/top_10_categorical_accuracy: 1.0000 - factorized_top_k/top_50_categorical_accuracy: 1.0000 - factorized_top_k/top_100_categorical_accuracy: 1.0000 - loss: 110.7191 - regularization_loss: 0.0000e+00 - total_loss: 110.7191\n",
            "Epoch 3/3\n",
            "878/878 [==============================] - 168s 191ms/step - root_mean_squared_error: 0.0000e+00 - factorized_top_k/top_1_categorical_accuracy: 1.0000 - factorized_top_k/top_5_categorical_accuracy: 1.0000 - factorized_top_k/top_10_categorical_accuracy: 1.0000 - factorized_top_k/top_50_categorical_accuracy: 1.0000 - factorized_top_k/top_100_categorical_accuracy: 1.0000 - loss: 110.7191 - regularization_loss: 0.0000e+00 - total_loss: 110.7191\n",
            "220/220 [==============================] - 43s 187ms/step - root_mean_squared_error: 0.0000e+00 - factorized_top_k/top_1_categorical_accuracy: 1.0000 - factorized_top_k/top_5_categorical_accuracy: 1.0000 - factorized_top_k/top_10_categorical_accuracy: 1.0000 - factorized_top_k/top_50_categorical_accuracy: 1.0000 - factorized_top_k/top_100_categorical_accuracy: 1.0000 - loss: 110.1386 - regularization_loss: 0.0000e+00 - total_loss: 110.1386\n",
            "Retrieval top-100 accuracy: 1.000.\n",
            "Retrieval top-50 accuracy: 1.000.\n",
            "Retrieval top-10 accuracy: 1.000.\n",
            "Retrieval top-5 accuracy: 1.000.\n",
            "Retrieval top-1 accuracy: 1.000.\n"
          ]
        }
      ]
    },
    {
      "cell_type": "code",
      "source": [
        "epochs = [i for i in range(3)]\n",
        "\n",
        "plt.plot(epochs, modelhist_dcn.history[\"factorized_top_k/top_100_categorical_accuracy\"], label=\"accuracy\")\n",
        "plt.title(\"Accuracy vs epoch\")\n",
        "plt.xlabel(\"epoch\")\n",
        "plt.ylabel(\"Top-100 accuracy\");\n",
        "plt.legend()"
      ],
      "metadata": {
        "colab": {
          "base_uri": "https://localhost:8080/",
          "height": 313
        },
        "id": "wXUMlvYJ3cX2",
        "outputId": "9296effa-f63d-400a-9c4e-ed99508379b6"
      },
      "id": "wXUMlvYJ3cX2",
      "execution_count": 291,
      "outputs": [
        {
          "output_type": "execute_result",
          "data": {
            "text/plain": [
              "<matplotlib.legend.Legend at 0x7f803bc9bf90>"
            ]
          },
          "metadata": {},
          "execution_count": 291
        },
        {
          "output_type": "display_data",
          "data": {
            "text/plain": [
              "<Figure size 432x288 with 1 Axes>"
            ],
            "image/png": "[encoded data removed]"
          },
          "metadata": {}
        }
      ]
    },
    {
      "cell_type": "code",
      "source": [
        "items = tf.data.Dataset.from_tensor_slices(items_dict)\n"
      ],
      "metadata": {
        "id": "nfsJI3loIXjW"
      },
      "id": "nfsJI3loIXjW",
      "execution_count": 292,
      "outputs": []
    },
    {
      "cell_type": "code",
      "source": [
        ""
      ],
      "metadata": {
        "id": "kvlKS05kodWe"
      },
      "id": "kvlKS05kodWe",
      "execution_count": null,
      "outputs": []
    },
    {
      "cell_type": "code",
      "source": [
        "from mpl_toolkits.axes_grid1 import make_axes_locatable\n",
        "\n",
        "## access the kernel inside cross-network in the first later of the sequential layer in querymodel\n",
        "mat = model.query_model.dense_layers.get_layer(index=0)._dense.kernel\n",
        "features =  ['userID', \n",
        "            'itemID',\n",
        "            'author']\n",
        "\n",
        "block_norm = np.ones([len(features), len(features)])\n",
        "\n",
        "dim = model.query_model.embedding_model.embedding_dimension\n",
        "\n",
        "# Compute the norms of the blocks.\n",
        "for i in range(len(features)):\n",
        "    for j in range(len(features)):\n",
        "        block = mat[i * dim:(i + 1) * dim,\n",
        "                    j * dim:(j + 1) * dim]\n",
        "        block_norm[i,j] = np.linalg.norm(block, ord=\"fro\")\n",
        "\n",
        "plt.figure(figsize=(9,9))\n",
        "im = plt.matshow(block_norm, cmap=plt.cm.Blues)\n",
        "ax = plt.gca()\n",
        "divider = make_axes_locatable(plt.gca())\n",
        "cax = divider.append_axes(\"right\", size=\"5%\", pad=0.05)\n",
        "plt.colorbar(im, cax=cax)\n",
        "cax.tick_params(labelsize=10) \n",
        "_ = ax.set_xticklabels([\"\"] + features, rotation=45, ha=\"left\", fontsize=10)\n",
        "_ = ax.set_yticklabels([\"\"] + features, fontsize=10)"
      ],
      "metadata": {
        "colab": {
          "base_uri": "https://localhost:8080/",
          "height": 299
        },
        "id": "tUq0CAGh_GwL",
        "outputId": "7cade5ca-003c-44b4-e836-dc09fccf6c20"
      },
      "id": "tUq0CAGh_GwL",
      "execution_count": 293,
      "outputs": [
        {
          "output_type": "display_data",
          "data": {
            "text/plain": [
              "<Figure size 648x648 with 0 Axes>"
            ]
          },
          "metadata": {}
        },
        {
          "output_type": "display_data",
          "data": {
            "text/plain": [
              "<Figure size 288x288 with 2 Axes>"
            ],
            "image/png": "[encoded data removed]"
          },
          "metadata": {}
        }
      ]
    }
  ],
  "metadata": {
    "kernelspec": {
      "display_name": "Python 3",
      "language": "python",
      "name": "python3"
    },
    "language_info": {
      "codemirror_mode": {
        "name": "ipython",
        "version": 3
      },
      "file_extension": ".py",
      "mimetype": "text/x-python",
      "name": "python",
      "nbconvert_exporter": "python",
      "pygments_lexer": "ipython3",
      "version": "3.6.5"
    },
    "colab": {
      "name": "books_multitask_recommendations.ipynb",
      "provenance": [],
      "collapsed_sections": [],
      "machine_shape": "hm"
    },
    "accelerator": "GPU",
    "gpuClass": "standard"
  },
  "nbformat": 4,
  "nbformat_minor": 5
}
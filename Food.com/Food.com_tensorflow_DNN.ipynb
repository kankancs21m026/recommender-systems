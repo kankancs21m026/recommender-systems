{
 "cells": [
  {
   "cell_type": "code",
   "execution_count": 1,
   "id": "1af1b954",
   "metadata": {
    "id": "d5f2633b"
   },
   "outputs": [],
   "source": [
    "import numpy as np\n",
    "import pandas as pd\n",
    "import os\n",
    "import warnings\n",
    "warnings.filterwarnings(\"ignore\")"
   ]
  },
  {
   "cell_type": "code",
   "execution_count": 2,
   "id": "8c814ab4",
   "metadata": {
    "id": "3799f839"
   },
   "outputs": [],
   "source": [
    "from keras.models import load_model\n",
    "from sklearn.model_selection import train_test_split\n",
    "from keras.layers import Input, Embedding, Flatten, Dot, Dense, Concatenate\n",
    "from keras.models import Model\n",
    "warnings.filterwarnings('ignore')\n",
    "%matplotlib inline"
   ]
  },
  {
   "cell_type": "markdown",
   "id": "70ec186f",
   "metadata": {
    "id": "f70023e5"
   },
   "source": [
    "## Analyse Dataset"
   ]
  },
  {
   "cell_type": "markdown",
   "id": "6da747b9",
   "metadata": {
    "id": "df28830e"
   },
   "source": [
    "### Food.com   Dataset\n",
    "- https://www.kaggle.com/datasets/shuyangli94/food-com-recipes-and-user-interactions\n",
    "- https://aclanthology.org/D19-1613/"
   ]
  },
  {
   "cell_type": "code",
   "execution_count": 3,
   "id": "e1df392f",
   "metadata": {
    "id": "Mei2uoyoEOSq"
   },
   "outputs": [],
   "source": [
    "rating_df =pd.read_csv('RAW_interactions.csv')\n"
   ]
  },
  {
   "cell_type": "code",
   "execution_count": 4,
   "id": "16074428",
   "metadata": {},
   "outputs": [
    {
     "data": {
      "text/html": [
       "<div>\n",
       "<style scoped>\n",
       "    .dataframe tbody tr th:only-of-type {\n",
       "        vertical-align: middle;\n",
       "    }\n",
       "\n",
       "    .dataframe tbody tr th {\n",
       "        vertical-align: top;\n",
       "    }\n",
       "\n",
       "    .dataframe thead th {\n",
       "        text-align: right;\n",
       "    }\n",
       "</style>\n",
       "<table border=\"1\" class=\"dataframe\">\n",
       "  <thead>\n",
       "    <tr style=\"text-align: right;\">\n",
       "      <th></th>\n",
       "      <th>user_id</th>\n",
       "      <th>recipe_id</th>\n",
       "      <th>date</th>\n",
       "      <th>rating</th>\n",
       "      <th>review</th>\n",
       "    </tr>\n",
       "  </thead>\n",
       "  <tbody>\n",
       "    <tr>\n",
       "      <th>0</th>\n",
       "      <td>38094</td>\n",
       "      <td>40893</td>\n",
       "      <td>2003-02-17</td>\n",
       "      <td>4</td>\n",
       "      <td>Great with a salad. Cooked on top of stove for...</td>\n",
       "    </tr>\n",
       "    <tr>\n",
       "      <th>1</th>\n",
       "      <td>1293707</td>\n",
       "      <td>40893</td>\n",
       "      <td>2011-12-21</td>\n",
       "      <td>5</td>\n",
       "      <td>So simple, so delicious! Great for chilly fall...</td>\n",
       "    </tr>\n",
       "    <tr>\n",
       "      <th>2</th>\n",
       "      <td>8937</td>\n",
       "      <td>44394</td>\n",
       "      <td>2002-12-01</td>\n",
       "      <td>4</td>\n",
       "      <td>This worked very well and is EASY.  I used not...</td>\n",
       "    </tr>\n",
       "    <tr>\n",
       "      <th>3</th>\n",
       "      <td>126440</td>\n",
       "      <td>85009</td>\n",
       "      <td>2010-02-27</td>\n",
       "      <td>5</td>\n",
       "      <td>I made the Mexican topping and took it to bunk...</td>\n",
       "    </tr>\n",
       "    <tr>\n",
       "      <th>4</th>\n",
       "      <td>57222</td>\n",
       "      <td>85009</td>\n",
       "      <td>2011-10-01</td>\n",
       "      <td>5</td>\n",
       "      <td>Made the cheddar bacon topping, adding a sprin...</td>\n",
       "    </tr>\n",
       "    <tr>\n",
       "      <th>...</th>\n",
       "      <td>...</td>\n",
       "      <td>...</td>\n",
       "      <td>...</td>\n",
       "      <td>...</td>\n",
       "      <td>...</td>\n",
       "    </tr>\n",
       "    <tr>\n",
       "      <th>1132362</th>\n",
       "      <td>116593</td>\n",
       "      <td>72730</td>\n",
       "      <td>2003-12-09</td>\n",
       "      <td>0</td>\n",
       "      <td>Another approach is to start making sauce with...</td>\n",
       "    </tr>\n",
       "    <tr>\n",
       "      <th>1132363</th>\n",
       "      <td>583662</td>\n",
       "      <td>386618</td>\n",
       "      <td>2009-09-29</td>\n",
       "      <td>5</td>\n",
       "      <td>These were so delicious!  My husband and I tru...</td>\n",
       "    </tr>\n",
       "    <tr>\n",
       "      <th>1132364</th>\n",
       "      <td>157126</td>\n",
       "      <td>78003</td>\n",
       "      <td>2008-06-23</td>\n",
       "      <td>5</td>\n",
       "      <td>WOW!  Sometimes I don't take the time to rate ...</td>\n",
       "    </tr>\n",
       "    <tr>\n",
       "      <th>1132365</th>\n",
       "      <td>53932</td>\n",
       "      <td>78003</td>\n",
       "      <td>2009-01-11</td>\n",
       "      <td>4</td>\n",
       "      <td>Very good!  I used regular port as well.  The ...</td>\n",
       "    </tr>\n",
       "    <tr>\n",
       "      <th>1132366</th>\n",
       "      <td>2001868099</td>\n",
       "      <td>78003</td>\n",
       "      <td>2017-12-18</td>\n",
       "      <td>5</td>\n",
       "      <td>I am so glad I googled and found this here. Th...</td>\n",
       "    </tr>\n",
       "  </tbody>\n",
       "</table>\n",
       "<p>1132367 rows × 5 columns</p>\n",
       "</div>"
      ],
      "text/plain": [
       "            user_id  recipe_id        date  rating  \\\n",
       "0             38094      40893  2003-02-17       4   \n",
       "1           1293707      40893  2011-12-21       5   \n",
       "2              8937      44394  2002-12-01       4   \n",
       "3            126440      85009  2010-02-27       5   \n",
       "4             57222      85009  2011-10-01       5   \n",
       "...             ...        ...         ...     ...   \n",
       "1132362      116593      72730  2003-12-09       0   \n",
       "1132363      583662     386618  2009-09-29       5   \n",
       "1132364      157126      78003  2008-06-23       5   \n",
       "1132365       53932      78003  2009-01-11       4   \n",
       "1132366  2001868099      78003  2017-12-18       5   \n",
       "\n",
       "                                                    review  \n",
       "0        Great with a salad. Cooked on top of stove for...  \n",
       "1        So simple, so delicious! Great for chilly fall...  \n",
       "2        This worked very well and is EASY.  I used not...  \n",
       "3        I made the Mexican topping and took it to bunk...  \n",
       "4        Made the cheddar bacon topping, adding a sprin...  \n",
       "...                                                    ...  \n",
       "1132362  Another approach is to start making sauce with...  \n",
       "1132363  These were so delicious!  My husband and I tru...  \n",
       "1132364  WOW!  Sometimes I don't take the time to rate ...  \n",
       "1132365  Very good!  I used regular port as well.  The ...  \n",
       "1132366  I am so glad I googled and found this here. Th...  \n",
       "\n",
       "[1132367 rows x 5 columns]"
      ]
     },
     "execution_count": 4,
     "metadata": {},
     "output_type": "execute_result"
    }
   ],
   "source": [
    "rating_df"
   ]
  },
  {
   "cell_type": "code",
   "execution_count": 5,
   "id": "fb86a8c4",
   "metadata": {},
   "outputs": [],
   "source": [
    "rating_df=rating_df[['user_id','recipe_id','date','rating']]\n"
   ]
  },
  {
   "cell_type": "code",
   "execution_count": 6,
   "id": "7ae76c42",
   "metadata": {},
   "outputs": [],
   "source": [
    "rating_df.rename(columns = {'user_id':'userId', 'recipe_id':'item'}, inplace = True)"
   ]
  },
  {
   "cell_type": "code",
   "execution_count": 7,
   "id": "5b0e35bd",
   "metadata": {},
   "outputs": [
    {
     "data": {
      "text/plain": [
       "(14357, 4)"
      ]
     },
     "execution_count": 7,
     "metadata": {},
     "output_type": "execute_result"
    }
   ],
   "source": [
    "\n",
    "x = rating_df.groupby('item').count()['rating'] >= 60\n",
    "userIndex = x[x].index\n",
    "nm_rating_df=rating_df[rating_df['item'].isin(userIndex)]\n",
    "y = nm_rating_df.groupby('userId').count()['rating']>=100\n",
    "items = y[y].index\n",
    "rating_df = nm_rating_df[nm_rating_df['userId'].isin(items)]\n",
    "rating_df.shape"
   ]
  },
  {
   "cell_type": "markdown",
   "id": "d694ad86",
   "metadata": {
    "id": "a314c02b"
   },
   "source": [
    "### Generate Train and test data"
   ]
  },
  {
   "cell_type": "code",
   "execution_count": 8,
   "id": "63873a44",
   "metadata": {
    "id": "42e8bbf0"
   },
   "outputs": [],
   "source": [
    "# train_df, test_df = train_test_split(rating_df, test_size=0.25, random_state=0)\n"
   ]
  },
  {
   "cell_type": "code",
   "execution_count": 9,
   "id": "3f20946c",
   "metadata": {
    "id": "jLfOAxsmwcAc"
   },
   "outputs": [
    {
     "data": {
      "text/plain": [
       "(14357, 4)"
      ]
     },
     "execution_count": 9,
     "metadata": {},
     "output_type": "execute_result"
    }
   ],
   "source": [
    "final_ratings=rating_df.sort_values(by=['userId','date','rating'], ascending=[False,False,False]) \n",
    "final_ratings.shape"
   ]
  },
  {
   "cell_type": "code",
   "execution_count": 10,
   "id": "fabf4f21",
   "metadata": {
    "id": "8bZMJmyRweVU"
   },
   "outputs": [
    {
     "data": {
      "text/plain": [
       "(2880, 4)"
      ]
     },
     "execution_count": 10,
     "metadata": {},
     "output_type": "execute_result"
    }
   ],
   "source": [
    "test_df=final_ratings.groupby('userId').head(30)\n",
    "test_df.shape"
   ]
  },
  {
   "cell_type": "code",
   "execution_count": 11,
   "id": "27b94842",
   "metadata": {
    "id": "m43boSbgwhjA"
   },
   "outputs": [
    {
     "data": {
      "text/plain": [
       "(11477, 4)"
      ]
     },
     "execution_count": 11,
     "metadata": {},
     "output_type": "execute_result"
    }
   ],
   "source": [
    "train_df=final_ratings[~final_ratings.isin(test_df).all(1)]\n",
    "train_df.shape"
   ]
  },
  {
   "cell_type": "code",
   "execution_count": 12,
   "id": "1a5482a5",
   "metadata": {
    "id": "7713dc6f"
   },
   "outputs": [
    {
     "data": {
      "text/html": [
       "<div>\n",
       "<style scoped>\n",
       "    .dataframe tbody tr th:only-of-type {\n",
       "        vertical-align: middle;\n",
       "    }\n",
       "\n",
       "    .dataframe tbody tr th {\n",
       "        vertical-align: top;\n",
       "    }\n",
       "\n",
       "    .dataframe thead th {\n",
       "        text-align: right;\n",
       "    }\n",
       "</style>\n",
       "<table border=\"1\" class=\"dataframe\">\n",
       "  <thead>\n",
       "    <tr style=\"text-align: right;\">\n",
       "      <th></th>\n",
       "      <th>userId</th>\n",
       "      <th>item</th>\n",
       "      <th>date</th>\n",
       "      <th>rating</th>\n",
       "    </tr>\n",
       "  </thead>\n",
       "  <tbody>\n",
       "    <tr>\n",
       "      <th>721496</th>\n",
       "      <td>1581225</td>\n",
       "      <td>38298</td>\n",
       "      <td>2017-01-16</td>\n",
       "      <td>5</td>\n",
       "    </tr>\n",
       "    <tr>\n",
       "      <th>88267</th>\n",
       "      <td>1581225</td>\n",
       "      <td>97496</td>\n",
       "      <td>2017-01-06</td>\n",
       "      <td>5</td>\n",
       "    </tr>\n",
       "  </tbody>\n",
       "</table>\n",
       "</div>"
      ],
      "text/plain": [
       "         userId   item        date  rating\n",
       "721496  1581225  38298  2017-01-16       5\n",
       "88267   1581225  97496  2017-01-06       5"
      ]
     },
     "execution_count": 12,
     "metadata": {},
     "output_type": "execute_result"
    }
   ],
   "source": [
    "train_df.head(2)"
   ]
  },
  {
   "cell_type": "code",
   "execution_count": 13,
   "id": "345d7f50",
   "metadata": {
    "id": "99d4144f"
   },
   "outputs": [],
   "source": [
    "product_ids = list(set(list(rating_df.item.unique())))\n",
    "user_ids = list(set(list(rating_df.userId.unique())))"
   ]
  },
  {
   "cell_type": "code",
   "execution_count": 14,
   "id": "260d0af4",
   "metadata": {
    "id": "79853b46"
   },
   "outputs": [],
   "source": [
    "dict_products = {}\n",
    "index = 0\n",
    "for ids in sorted(product_ids):\n",
    "    dict_products[ids] = index\n",
    "    index += 1"
   ]
  },
  {
   "cell_type": "code",
   "execution_count": 15,
   "id": "17e19449",
   "metadata": {
    "id": "99c48a0c"
   },
   "outputs": [],
   "source": [
    "dict_users = {}\n",
    "index = 0\n",
    "for ids in sorted(user_ids):\n",
    "    dict_users[ids] = index\n",
    "    index += 1"
   ]
  },
  {
   "cell_type": "code",
   "execution_count": 16,
   "id": "6f6f8f06",
   "metadata": {
    "id": "f16f173b"
   },
   "outputs": [],
   "source": [
    "train_df[\"item\"] = train_df[\"item\"].map(dict_products)\n",
    "train_df[\"userId\"] = train_df[\"userId\"].map(dict_users)"
   ]
  },
  {
   "cell_type": "code",
   "execution_count": 17,
   "id": "4106732c",
   "metadata": {
    "id": "079f38c4"
   },
   "outputs": [],
   "source": [
    "test_df[\"item\"] = test_df[\"item\"].map(dict_products)\n",
    "test_df[\"userId\"] = test_df[\"userId\"].map(dict_users)"
   ]
  },
  {
   "cell_type": "code",
   "execution_count": 18,
   "id": "753466ad",
   "metadata": {
    "id": "1c742331"
   },
   "outputs": [],
   "source": [
    "for col in [\"userId\", \"item\", \"rating\"]:\n",
    "    train_df[col] = train_df[col].astype(np.float32)\n",
    "    test_df[col] = test_df[col].astype(np.float32)"
   ]
  },
  {
   "cell_type": "code",
   "execution_count": 19,
   "id": "2ffff619",
   "metadata": {
    "id": "2ec78d65"
   },
   "outputs": [],
   "source": [
    "num_unique_users=len(set(list(rating_df.userId.unique()) ))\n",
    "num_unique_products=len(set(list(rating_df.item.unique())))"
   ]
  },
  {
   "cell_type": "markdown",
   "id": "58484278",
   "metadata": {
    "id": "815040b2"
   },
   "source": [
    "### DNN"
   ]
  },
  {
   "cell_type": "code",
   "execution_count": 20,
   "id": "5e170001",
   "metadata": {
    "id": "18acf960"
   },
   "outputs": [],
   "source": [
    "import tensorflow as tf\n",
    "from tensorflow.keras import Model\n",
    "from tensorflow.keras import optimizers as opt\n",
    "from tensorflow.keras import regularizers as rgl\n",
    "from tensorflow.keras.layers import Embedding, multiply, concatenate, Flatten, Input, Dense, Dropout"
   ]
  },
  {
   "cell_type": "code",
   "execution_count": 21,
   "id": "f3f427ef",
   "metadata": {
    "id": "7ffb97a5"
   },
   "outputs": [],
   "source": [
    "dropout_rate=0.05\n",
    "dense_1=512\n",
    "dense_2=128\n",
    "dense_3=64\n",
    "\n",
    "activation_func=\"relu\"\n",
    "regularizer=rgl.l2(0.0001)#l2 regularization\n",
    "max_rating=5\n",
    "min_rating=0"
   ]
  },
  {
   "cell_type": "code",
   "execution_count": 22,
   "id": "18eb54d6",
   "metadata": {
    "id": "e7d0515e"
   },
   "outputs": [],
   "source": [
    "EMBEDDING_SIZE=64\n",
    "users_input = Input(shape=(1,), name=\"user_input\")\n",
    "users_embedding = Embedding(num_unique_users + 1, EMBEDDING_SIZE, embeddings_regularizer=regularizer, name=\"user_embeddings\")(users_input)\n",
    "users_bias = Embedding(num_unique_users + 1, 1, embeddings_regularizer=regularizer, name=\"user_bias\")(users_input)\n",
    "\n",
    "product_input = Input(shape=(1,), name=\"product_input\")\n",
    "product_embedding = Embedding(num_unique_products + 1, EMBEDDING_SIZE, embeddings_regularizer=regularizer, name=\"product_embedding\")(product_input)\n",
    "product_bias = Embedding(num_unique_products + 1, 1, embeddings_regularizer=regularizer, name=\"product_bias\")(product_input)\n",
    "\n",
    "dot_product_users_product = multiply([users_embedding, product_embedding])\n",
    "\n",
    "input_terms = concatenate([dot_product_users_product, users_bias, product_bias])\n",
    "\n",
    "input_terms = Flatten(name=\"fl_inputs\")(input_terms)\n",
    "\n",
    "output = Dense(dense_1, activation=activation_func, name=\"dense_0\")(input_terms)\n",
    "\n",
    "output = Dropout(dropout_rate)(output)\n",
    "\n",
    "output = Dense(dense_2, activation=activation_func, name=\"dense_1\")(output)\n",
    "\n",
    "output = Dropout(dropout_rate)(output)\n",
    "\n",
    "output = Dense(dense_3, activation=activation_func, name=\"dense_2\")(output)\n",
    "\n",
    "output = Dropout(dropout_rate)(output)\n",
    "\n",
    "output = Dense(1, activation=\"relu\", name=\"output\")(output) * (max_rating - min_rating) + min_rating"
   ]
  },
  {
   "cell_type": "code",
   "execution_count": 23,
   "id": "c9eb34e1",
   "metadata": {
    "id": "968ea6d6"
   },
   "outputs": [],
   "source": [
    "model = Model(inputs=[users_input, product_input], outputs=output)"
   ]
  },
  {
   "cell_type": "code",
   "execution_count": 24,
   "id": "cc82032e",
   "metadata": {
    "id": "02949c4a"
   },
   "outputs": [],
   "source": [
    "opt_adam = opt.RMSprop(lr = 0.001)\n",
    "model.compile(optimizer=opt_adam, loss= ['mse'], metrics=['mean_absolute_error'])"
   ]
  },
  {
   "cell_type": "code",
   "execution_count": 25,
   "id": "615f1d03",
   "metadata": {
    "id": "87ba897d",
    "scrolled": true
   },
   "outputs": [
    {
     "name": "stdout",
     "output_type": "stream",
     "text": [
      "Epoch 1/10\n",
      "359/359 [==============================] - 2s 3ms/step - loss: 0.9125 - mean_absolute_error: 0.6281A: 0s - loss: 1.0945 - mean_absolute_err\n",
      "Epoch 2/10\n",
      "359/359 [==============================] - 1s 4ms/step - loss: 0.6292 - mean_absolute_error: 0.5277\n",
      "Epoch 3/10\n",
      "359/359 [==============================] - 1s 4ms/step - loss: 0.5616 - mean_absolute_error: 0.4875\n",
      "Epoch 4/10\n",
      "359/359 [==============================] - 1s 4ms/step - loss: 0.4809 - mean_absolute_error: 0.4429\n",
      "Epoch 5/10\n",
      "359/359 [==============================] - 1s 4ms/step - loss: 0.3967 - mean_absolute_error: 0.3980\n",
      "Epoch 6/10\n",
      "359/359 [==============================] - 1s 4ms/step - loss: 0.3545 - mean_absolute_error: 0.3702\n",
      "Epoch 7/10\n",
      "359/359 [==============================] - 1s 4ms/step - loss: 0.3272 - mean_absolute_error: 0.3500\n",
      "Epoch 8/10\n",
      "359/359 [==============================] - 1s 4ms/step - loss: 0.2972 - mean_absolute_error: 0.3341\n",
      "Epoch 9/10\n",
      "359/359 [==============================] - 1s 4ms/step - loss: 0.2959 - mean_absolute_error: 0.3213\n",
      "Epoch 10/10\n",
      "359/359 [==============================] - 2s 4ms/step - loss: 0.2877 - mean_absolute_error: 0.3159\n"
     ]
    },
    {
     "data": {
      "text/plain": [
       "<keras.callbacks.History at 0x261c9dafb00>"
      ]
     },
     "execution_count": 25,
     "metadata": {},
     "output_type": "execute_result"
    }
   ],
   "source": [
    "callback = tf.keras.callbacks.EarlyStopping(monitor='loss', patience=3,restore_best_weights=True)\n",
    "model.fit(x=[train_df.userId, train_df.item], y=train_df.rating, batch_size=32, epochs=10, verbose=1 ,callbacks=[callback])"
   ]
  },
  {
   "cell_type": "code",
   "execution_count": 26,
   "id": "93e82094",
   "metadata": {
    "id": "03791a88"
   },
   "outputs": [
    {
     "data": {
      "text/plain": [
       "array([[3.9290614],\n",
       "       [3.959827 ],\n",
       "       [4.0382442],\n",
       "       ...,\n",
       "       [4.772168 ],\n",
       "       [4.806385 ],\n",
       "       [4.8231144]], dtype=float32)"
      ]
     },
     "execution_count": 26,
     "metadata": {},
     "output_type": "execute_result"
    }
   ],
   "source": [
    "model.predict([test_df.userId, test_df.item])"
   ]
  },
  {
   "cell_type": "code",
   "execution_count": 27,
   "id": "2f5ea8ae",
   "metadata": {
    "id": "02729316"
   },
   "outputs": [
    {
     "name": "stdout",
     "output_type": "stream",
     "text": [
      "90/90 [==============================] - 1s 2ms/step - loss: 1.0682 - mean_absolute_error: 0.7050\n"
     ]
    },
    {
     "data": {
      "text/plain": [
       "[1.0681740045547485, 0.7049938440322876]"
      ]
     },
     "execution_count": 27,
     "metadata": {},
     "output_type": "execute_result"
    }
   ],
   "source": [
    "model.evaluate([test_df.userId, test_df.item], test_df.rating)"
   ]
  },
  {
   "cell_type": "code",
   "execution_count": 28,
   "id": "2c317d65",
   "metadata": {
    "id": "27852c1a"
   },
   "outputs": [],
   "source": [
    "result=model.predict([test_df.userId, test_df.item])"
   ]
  },
  {
   "cell_type": "code",
   "execution_count": 29,
   "id": "8157860b",
   "metadata": {
    "id": "z2HOOeR0JRse"
   },
   "outputs": [],
   "source": [
    "uniqueproducts=train_df.item.unique()"
   ]
  },
  {
   "cell_type": "code",
   "execution_count": 30,
   "id": "7cb6a5f9",
   "metadata": {
    "id": "eKLtFjLTJUru"
   },
   "outputs": [],
   "source": [
    "userlist=list(test_df.userId.unique())[:200]"
   ]
  },
  {
   "cell_type": "code",
   "execution_count": 31,
   "id": "ddf6c981",
   "metadata": {
    "id": "XYx0uMWJKNzV"
   },
   "outputs": [],
   "source": [
    "test_df=test_df[test_df['userId'].isin(userlist)]"
   ]
  },
  {
   "cell_type": "code",
   "execution_count": 32,
   "id": "293b4eff",
   "metadata": {
    "id": "zVhTkUN2KegU"
   },
   "outputs": [],
   "source": [
    "train_df=train_df[train_df['userId'].isin(userlist)]"
   ]
  },
  {
   "cell_type": "code",
   "execution_count": 33,
   "id": "78ef3097",
   "metadata": {
    "id": "m3OH63edDYLO"
   },
   "outputs": [],
   "source": [
    "import itertools\n",
    "result=pd.DataFrame(list(itertools.product(userlist,uniqueproducts)))"
   ]
  },
  {
   "cell_type": "code",
   "execution_count": 34,
   "id": "57e865e4",
   "metadata": {
    "id": "S-klPk9DFuVy"
   },
   "outputs": [],
   "source": [
    "result.columns =['userId', 'item']"
   ]
  },
  {
   "cell_type": "code",
   "execution_count": 35,
   "id": "dc1ce5b2",
   "metadata": {
    "id": "SDw5MxhjHDUv"
   },
   "outputs": [],
   "source": [
    "predictions=model.predict([result.userId, result.item])"
   ]
  },
  {
   "cell_type": "code",
   "execution_count": 36,
   "id": "637ff052",
   "metadata": {
    "id": "EQ3LjFQWHOyN"
   },
   "outputs": [],
   "source": [
    "predictions=list(predictions)"
   ]
  },
  {
   "cell_type": "code",
   "execution_count": 37,
   "id": "4c96e916",
   "metadata": {
    "id": "QRLHj_GzIBAN"
   },
   "outputs": [],
   "source": [
    "ratings=[]\n",
    "\n",
    "for e in predictions:\n",
    " ratings.append(e[0])\n"
   ]
  },
  {
   "cell_type": "code",
   "execution_count": 38,
   "id": "c788a161",
   "metadata": {
    "id": "Yhxt51L9IYf1"
   },
   "outputs": [],
   "source": [
    "result['rating']=ratings"
   ]
  },
  {
   "cell_type": "code",
   "execution_count": 39,
   "id": "58603c71",
   "metadata": {
    "id": "czcHy1wBLm66"
   },
   "outputs": [],
   "source": [
    "result=result.sort_values(['userId','rating'], ascending=[True,False])"
   ]
  },
  {
   "cell_type": "code",
   "execution_count": 40,
   "id": "79fdd192",
   "metadata": {
    "id": "coNyTMPYNGsH"
   },
   "outputs": [],
   "source": [
    "result=result[result['rating']>4]"
   ]
  },
  {
   "cell_type": "code",
   "execution_count": 41,
   "id": "5688ea2b",
   "metadata": {
    "id": "64292b49"
   },
   "outputs": [],
   "source": [
    "from collections import Counter\n",
    "recommend_dict = { }\n",
    "for index, row in result.iterrows():\n",
    "    user=row['userId']\n",
    "    item=row['item']\n",
    "    if user not in recommend_dict.keys():\n",
    "        recommend_dict[user]={}\n",
    "    \n",
    "    if(~((train_df['userId'] == user) & (train_df['item'] ==item)).any()):\n",
    "            if item not in recommend_dict[user].keys():\n",
    "                recommend_dict[user][item] =1\n",
    "            else:\n",
    "                recommend_dict[user][item]+=1\n",
    "                    \n",
    "        \n",
    "    \n",
    "        \n",
    "        "
   ]
  },
  {
   "cell_type": "code",
   "execution_count": 42,
   "id": "f303da41",
   "metadata": {
    "id": "5Nyes16YNvEo"
   },
   "outputs": [],
   "source": [
    "# Iterating over values\n",
    "recommendations=[]\n",
    "for userid, items in recommend_dict.items():\n",
    "    total=0\n",
    "    mlist=[]\n",
    "    for i in items:\n",
    "        total+=1\n",
    "        mlist.append(i)\n",
    "        if(total>10):\n",
    "            break\n",
    "    recommendations.append([userid,mlist])"
   ]
  },
  {
   "cell_type": "code",
   "execution_count": 43,
   "id": "9b72a496",
   "metadata": {
    "id": "9M_IAG5FQqfb"
   },
   "outputs": [
    {
     "data": {
      "text/plain": [
       "list"
      ]
     },
     "execution_count": 43,
     "metadata": {},
     "output_type": "execute_result"
    }
   ],
   "source": [
    "type(recommendations)"
   ]
  },
  {
   "cell_type": "code",
   "execution_count": 44,
   "id": "8792513e",
   "metadata": {
    "id": "95qPQ-HJM5dS"
   },
   "outputs": [],
   "source": [
    "recommendations=pd.DataFrame(recommendations,columns=['user_id','items'])"
   ]
  },
  {
   "cell_type": "code",
   "execution_count": 45,
   "id": "7160c7c9",
   "metadata": {
    "id": "m2NZWZxFODWB"
   },
   "outputs": [
    {
     "data": {
      "text/html": [
       "<div>\n",
       "<style scoped>\n",
       "    .dataframe tbody tr th:only-of-type {\n",
       "        vertical-align: middle;\n",
       "    }\n",
       "\n",
       "    .dataframe tbody tr th {\n",
       "        vertical-align: top;\n",
       "    }\n",
       "\n",
       "    .dataframe thead th {\n",
       "        text-align: right;\n",
       "    }\n",
       "</style>\n",
       "<table border=\"1\" class=\"dataframe\">\n",
       "  <thead>\n",
       "    <tr style=\"text-align: right;\">\n",
       "      <th></th>\n",
       "      <th>user_id</th>\n",
       "      <th>items</th>\n",
       "    </tr>\n",
       "  </thead>\n",
       "  <tbody>\n",
       "    <tr>\n",
       "      <th>0</th>\n",
       "      <td>0.0</td>\n",
       "      <td>[21.0, 392.0, 1282.0, 556.0, 35.0, 806.0, 327....</td>\n",
       "    </tr>\n",
       "    <tr>\n",
       "      <th>1</th>\n",
       "      <td>1.0</td>\n",
       "      <td>[858.0, 391.0, 692.0, 1132.0, 1224.0, 813.0, 1...</td>\n",
       "    </tr>\n",
       "    <tr>\n",
       "      <th>2</th>\n",
       "      <td>2.0</td>\n",
       "      <td>[861.0, 1210.0, 21.0, 391.0, 571.0, 349.0, 918...</td>\n",
       "    </tr>\n",
       "    <tr>\n",
       "      <th>3</th>\n",
       "      <td>3.0</td>\n",
       "      <td>[1282.0, 1227.0, 392.0, 861.0, 977.0, 1071.0, ...</td>\n",
       "    </tr>\n",
       "    <tr>\n",
       "      <th>4</th>\n",
       "      <td>4.0</td>\n",
       "      <td>[813.0, 777.0, 875.0, 477.0, 915.0, 1282.0, 80...</td>\n",
       "    </tr>\n",
       "  </tbody>\n",
       "</table>\n",
       "</div>"
      ],
      "text/plain": [
       "   user_id                                              items\n",
       "0      0.0  [21.0, 392.0, 1282.0, 556.0, 35.0, 806.0, 327....\n",
       "1      1.0  [858.0, 391.0, 692.0, 1132.0, 1224.0, 813.0, 1...\n",
       "2      2.0  [861.0, 1210.0, 21.0, 391.0, 571.0, 349.0, 918...\n",
       "3      3.0  [1282.0, 1227.0, 392.0, 861.0, 977.0, 1071.0, ...\n",
       "4      4.0  [813.0, 777.0, 875.0, 477.0, 915.0, 1282.0, 80..."
      ]
     },
     "execution_count": 45,
     "metadata": {},
     "output_type": "execute_result"
    }
   ],
   "source": [
    "recommendations.head(5)"
   ]
  },
  {
   "cell_type": "markdown",
   "id": "b7dca2d1",
   "metadata": {
    "id": "Ki6I52c1Sc-V"
   },
   "source": [
    "### Hit Rate"
   ]
  },
  {
   "cell_type": "code",
   "execution_count": 46,
   "id": "a8c60c1c",
   "metadata": {
    "id": "ecX0qiAwM5gS"
   },
   "outputs": [
    {
     "name": "stdout",
     "output_type": "stream",
     "text": [
      "0.5416666666666666\n"
     ]
    }
   ],
   "source": [
    "total=0\n",
    "hit=0\n",
    "for index, row in recommendations.iterrows():\n",
    "    uid=row['user_id']\n",
    "    results=list(row['items'])\n",
    "    total+=1\n",
    "    for rs in results:\n",
    "        \n",
    "        if(((test_df['item'].isin(results)) & (test_df['userId'] ==uid)).any()):\n",
    "                hit+=1\n",
    "                break\n",
    "        \n",
    "hit_ratio=hit/total   \n",
    "print(hit_ratio)"
   ]
  },
  {
   "cell_type": "markdown",
   "id": "c93ace39",
   "metadata": {
    "id": "5evcLZzbSgY6"
   },
   "source": [
    "### Hit Rate on liked items"
   ]
  },
  {
   "cell_type": "code",
   "execution_count": 47,
   "id": "c1ef47ec",
   "metadata": {
    "id": "bBLNvlZ0M5jO"
   },
   "outputs": [
    {
     "name": "stdout",
     "output_type": "stream",
     "text": [
      "0.4583333333333333\n"
     ]
    }
   ],
   "source": [
    "total=0\n",
    "hit=0\n",
    "for index, row in recommendations.iterrows():\n",
    "    uid=row['user_id']\n",
    "    results=list(row['items'])\n",
    "    total+=1\n",
    "    for rs in results:\n",
    "        \n",
    "        if(((test_df['item'].isin(results)) & (test_df['userId'] ==uid) & (test_df['rating']>4)).any()):\n",
    "                hit+=1\n",
    "                break\n",
    "        \n",
    "hit_ratio=hit/total   \n",
    "print(hit_ratio)"
   ]
  }
 ],
 "metadata": {
  "accelerator": "GPU",
  "colab": {
   "collapsed_sections": [],
   "machine_shape": "hm",
   "name": "amazon_product_review_tensorflow_DNN.ipynb",
   "provenance": []
  },
  "gpuClass": "standard",
  "kernelspec": {
   "display_name": "Python 3",
   "language": "python",
   "name": "python3"
  },
  "language_info": {
   "codemirror_mode": {
    "name": "ipython",
    "version": 3
   },
   "file_extension": ".py",
   "mimetype": "text/x-python",
   "name": "python",
   "nbconvert_exporter": "python",
   "pygments_lexer": "ipython3",
   "version": "3.6.5"
  }
 },
 "nbformat": 4,
 "nbformat_minor": 5
}

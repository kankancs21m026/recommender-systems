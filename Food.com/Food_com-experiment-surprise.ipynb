{
 "cells": [
  {
   "cell_type": "code",
   "execution_count": 1,
   "id": "fb6c7f00",
   "metadata": {},
   "outputs": [],
   "source": [
    "from datetime import datetime\n",
    "import os\n",
    "import matplotlib\n",
    "import pandas as pd\n",
    "import numpy as np\n",
    "import matplotlib.pyplot as plt\n",
    "import seaborn as sns\n",
    "sns.set_style('whitegrid')\n",
    "\n",
    "from scipy import sparse\n",
    "from scipy.sparse import csc_matrix\n",
    "from sklearn.decomposition import TruncatedSVD\n",
    "\n",
    "np.random.seed(0)"
   ]
  },
  {
   "cell_type": "code",
   "execution_count": 2,
   "id": "9157a58f",
   "metadata": {},
   "outputs": [],
   "source": [
    "from surprise import accuracy\n",
    "from collections import defaultdict\n",
    "import csv\n",
    "from surprise import Dataset,Reader\n",
    "from surprise.model_selection import cross_validate\n",
    "from surprise.model_selection import train_test_split\n",
    "from surprise.model_selection import LeaveOneOut\n",
    "import itertools\n"
   ]
  },
  {
   "cell_type": "markdown",
   "id": "bf5d72a2",
   "metadata": {},
   "source": [
    "## Evaluation using surprise"
   ]
  },
  {
   "cell_type": "markdown",
   "id": "ba5b8802",
   "metadata": {},
   "source": [
    "### Food.com   Dataset\n",
    "- https://www.kaggle.com/datasets/shuyangli94/food-com-recipes-and-user-interactions\n",
    "- https://aclanthology.org/D19-1613/"
   ]
  },
  {
   "cell_type": "code",
   "execution_count": 3,
   "id": "c1916aab",
   "metadata": {},
   "outputs": [
    {
     "data": {
      "text/html": [
       "<div>\n",
       "<style scoped>\n",
       "    .dataframe tbody tr th:only-of-type {\n",
       "        vertical-align: middle;\n",
       "    }\n",
       "\n",
       "    .dataframe tbody tr th {\n",
       "        vertical-align: top;\n",
       "    }\n",
       "\n",
       "    .dataframe thead th {\n",
       "        text-align: right;\n",
       "    }\n",
       "</style>\n",
       "<table border=\"1\" class=\"dataframe\">\n",
       "  <thead>\n",
       "    <tr style=\"text-align: right;\">\n",
       "      <th></th>\n",
       "      <th>user_id</th>\n",
       "      <th>recipe_id</th>\n",
       "      <th>date</th>\n",
       "      <th>rating</th>\n",
       "      <th>review</th>\n",
       "    </tr>\n",
       "  </thead>\n",
       "  <tbody>\n",
       "    <tr>\n",
       "      <th>0</th>\n",
       "      <td>38094</td>\n",
       "      <td>40893</td>\n",
       "      <td>2003-02-17</td>\n",
       "      <td>4</td>\n",
       "      <td>Great with a salad. Cooked on top of stove for...</td>\n",
       "    </tr>\n",
       "    <tr>\n",
       "      <th>1</th>\n",
       "      <td>1293707</td>\n",
       "      <td>40893</td>\n",
       "      <td>2011-12-21</td>\n",
       "      <td>5</td>\n",
       "      <td>So simple, so delicious! Great for chilly fall...</td>\n",
       "    </tr>\n",
       "    <tr>\n",
       "      <th>2</th>\n",
       "      <td>8937</td>\n",
       "      <td>44394</td>\n",
       "      <td>2002-12-01</td>\n",
       "      <td>4</td>\n",
       "      <td>This worked very well and is EASY.  I used not...</td>\n",
       "    </tr>\n",
       "    <tr>\n",
       "      <th>3</th>\n",
       "      <td>126440</td>\n",
       "      <td>85009</td>\n",
       "      <td>2010-02-27</td>\n",
       "      <td>5</td>\n",
       "      <td>I made the Mexican topping and took it to bunk...</td>\n",
       "    </tr>\n",
       "    <tr>\n",
       "      <th>4</th>\n",
       "      <td>57222</td>\n",
       "      <td>85009</td>\n",
       "      <td>2011-10-01</td>\n",
       "      <td>5</td>\n",
       "      <td>Made the cheddar bacon topping, adding a sprin...</td>\n",
       "    </tr>\n",
       "  </tbody>\n",
       "</table>\n",
       "</div>"
      ],
      "text/plain": [
       "   user_id  recipe_id        date  rating  \\\n",
       "0    38094      40893  2003-02-17       4   \n",
       "1  1293707      40893  2011-12-21       5   \n",
       "2     8937      44394  2002-12-01       4   \n",
       "3   126440      85009  2010-02-27       5   \n",
       "4    57222      85009  2011-10-01       5   \n",
       "\n",
       "                                              review  \n",
       "0  Great with a salad. Cooked on top of stove for...  \n",
       "1  So simple, so delicious! Great for chilly fall...  \n",
       "2  This worked very well and is EASY.  I used not...  \n",
       "3  I made the Mexican topping and took it to bunk...  \n",
       "4  Made the cheddar bacon topping, adding a sprin...  "
      ]
     },
     "execution_count": 3,
     "metadata": {},
     "output_type": "execute_result"
    }
   ],
   "source": [
    "rating_df =pd.read_csv('RAW_interactions.csv', encoding=\"utf8\")\n",
    "\n",
    "rating_df.head(5)"
   ]
  },
  {
   "cell_type": "code",
   "execution_count": 4,
   "id": "0457b983",
   "metadata": {},
   "outputs": [],
   "source": [
    "x = rating_df.groupby('user_id').count()['rating'] > 50\n",
    "userIndex = x[x].index\n",
    "nm_rating_df=rating_df[rating_df['user_id'].isin(userIndex)]"
   ]
  },
  {
   "cell_type": "code",
   "execution_count": 5,
   "id": "66f20ff0",
   "metadata": {},
   "outputs": [],
   "source": [
    "y = nm_rating_df.groupby('recipe_id').count()['rating']>=30\n",
    "books = y[y].index"
   ]
  },
  {
   "cell_type": "code",
   "execution_count": 6,
   "id": "c76894a9",
   "metadata": {},
   "outputs": [
    {
     "name": "stderr",
     "output_type": "stream",
     "text": [
      "C:\\Users\\cseka\\AppData\\Roaming\\Python\\Python36\\site-packages\\pandas\\core\\frame.py:4308: SettingWithCopyWarning: \n",
      "A value is trying to be set on a copy of a slice from a DataFrame\n",
      "\n",
      "See the caveats in the documentation: https://pandas.pydata.org/pandas-docs/stable/user_guide/indexing.html#returning-a-view-versus-a-copy\n",
      "  errors=errors,\n"
     ]
    }
   ],
   "source": [
    "rating_df = nm_rating_df[nm_rating_df['recipe_id'].isin(books)]\n",
    "rating_df.rename(columns = {'user_id':'userId', 'recipe_id':'item'}, inplace = True)"
   ]
  },
  {
   "cell_type": "code",
   "execution_count": 7,
   "id": "6c112500",
   "metadata": {},
   "outputs": [
    {
     "data": {
      "text/html": [
       "<div>\n",
       "<style scoped>\n",
       "    .dataframe tbody tr th:only-of-type {\n",
       "        vertical-align: middle;\n",
       "    }\n",
       "\n",
       "    .dataframe tbody tr th {\n",
       "        vertical-align: top;\n",
       "    }\n",
       "\n",
       "    .dataframe thead th {\n",
       "        text-align: right;\n",
       "    }\n",
       "</style>\n",
       "<table border=\"1\" class=\"dataframe\">\n",
       "  <thead>\n",
       "    <tr style=\"text-align: right;\">\n",
       "      <th></th>\n",
       "      <th>userId</th>\n",
       "      <th>item</th>\n",
       "      <th>rating</th>\n",
       "    </tr>\n",
       "  </thead>\n",
       "  <tbody>\n",
       "    <tr>\n",
       "      <th>1408</th>\n",
       "      <td>107135</td>\n",
       "      <td>135585</td>\n",
       "      <td>5</td>\n",
       "    </tr>\n",
       "    <tr>\n",
       "      <th>1409</th>\n",
       "      <td>53932</td>\n",
       "      <td>135585</td>\n",
       "      <td>5</td>\n",
       "    </tr>\n",
       "    <tr>\n",
       "      <th>1410</th>\n",
       "      <td>33159</td>\n",
       "      <td>135585</td>\n",
       "      <td>5</td>\n",
       "    </tr>\n",
       "    <tr>\n",
       "      <th>1411</th>\n",
       "      <td>60260</td>\n",
       "      <td>135585</td>\n",
       "      <td>5</td>\n",
       "    </tr>\n",
       "    <tr>\n",
       "      <th>1412</th>\n",
       "      <td>196296</td>\n",
       "      <td>135585</td>\n",
       "      <td>5</td>\n",
       "    </tr>\n",
       "  </tbody>\n",
       "</table>\n",
       "</div>"
      ],
      "text/plain": [
       "      userId    item  rating\n",
       "1408  107135  135585       5\n",
       "1409   53932  135585       5\n",
       "1410   33159  135585       5\n",
       "1411   60260  135585       5\n",
       "1412  196296  135585       5"
      ]
     },
     "execution_count": 7,
     "metadata": {},
     "output_type": "execute_result"
    }
   ],
   "source": [
    "\n",
    "\n",
    "rating_df=rating_df[['userId','item','rating']]\n",
    "rating_df.head(5)"
   ]
  },
  {
   "cell_type": "code",
   "execution_count": 8,
   "id": "ce851e3f",
   "metadata": {},
   "outputs": [
    {
     "data": {
      "image/png": "[encoded data removed]",
      "text/plain": [
       "<Figure size 432x288 with 1 Axes>"
      ]
     },
     "metadata": {
      "needs_background": "light"
     },
     "output_type": "display_data"
    }
   ],
   "source": [
    "\n",
    "import scipy.stats as st\n",
    "\n",
    "\n",
    "ratingCount = (rating_df.\n",
    "     groupby(by = ['item'])['rating'].\n",
    "     count().\n",
    "     reset_index().\n",
    "     rename(columns = {'rating': 'totalRatingCount'})\n",
    "     [['item', 'totalRatingCount']]\n",
    "    )\n",
    "data = ratingCount.loc[:, 'totalRatingCount'].values\n",
    "\n",
    "\n",
    "fig = plt.figure()\n",
    "ax = fig.add_axes([0,0,1,1])\n",
    "\n",
    "ax.hist(\n",
    "    data,\n",
    "    alpha=0.9,\n",
    "    bins=5,\n",
    "    density=True,\n",
    "    cumulative=False\n",
    ")\n",
    "\n",
    "\n",
    "plt.xlabel('totalRatingCount')\n",
    "plt.title(' totalRatingCount distribution')\n",
    "plt.show()"
   ]
  },
  {
   "cell_type": "markdown",
   "id": "ad948881",
   "metadata": {},
   "source": [
    "### Prepare data set"
   ]
  },
  {
   "cell_type": "code",
   "execution_count": 9,
   "id": "67109c9c",
   "metadata": {},
   "outputs": [],
   "source": [
    "reader = Reader(rating_scale=(0, 5))\n",
    "data = Dataset.load_from_df(rating_df[['userId','item','rating']], reader)\n",
    "trainset, testset = train_test_split(data, random_state=0, test_size=0.25)"
   ]
  },
  {
   "cell_type": "code",
   "execution_count": 10,
   "id": "d1d0a06c",
   "metadata": {},
   "outputs": [],
   "source": [
    "fullTrainSet = data.build_full_trainset()"
   ]
  },
  {
   "cell_type": "markdown",
   "id": "1b33c5c2",
   "metadata": {},
   "source": [
    "# Define recommender metrics"
   ]
  },
  {
   "cell_type": "code",
   "execution_count": 11,
   "id": "8c0d8cb0",
   "metadata": {},
   "outputs": [],
   "source": [
    "\n",
    "from collections import defaultdict\n",
    "def getPopularityBasedOnRatingCount(top_n=None):\n",
    "    ratings = defaultdict(int)\n",
    "    rankings = defaultdict(int)\n",
    "    with open('RAW_interactions.csv', newline='', encoding=\"utf8\") as csvfile:\n",
    "        ratingReader = csv.reader(csvfile)\n",
    "        next(ratingReader)\n",
    "        for row in ratingReader:\n",
    "            ids = int(row[1])\n",
    "            #increse rating count for that movie\n",
    "            ratings[ids] += 1\n",
    "    rank = 1\n",
    "    for ids, ratingCount in sorted(ratings.items(), key=lambda x: x[1], reverse=True):\n",
    "        rankings[ids] = rank\n",
    "        rank += 1\n",
    "    if top_n is None:\n",
    "        return rankings\n",
    "    else:\n",
    "        return sorted(rankings, key=rankings.get, reverse=False)[:top_n]\n",
    "    "
   ]
  },
  {
   "cell_type": "markdown",
   "id": "912937e9",
   "metadata": {},
   "source": [
    "### Rating Prediction"
   ]
  },
  {
   "cell_type": "code",
   "execution_count": 12,
   "id": "f866065a",
   "metadata": {},
   "outputs": [],
   "source": [
    "from surprise import accuracy\n",
    "from collections import defaultdict\n",
    "def MAE(predictions):\n",
    "    return accuracy.mae(predictions, verbose=False)\n",
    "def RMSE(predictions):\n",
    "    return accuracy.rmse(predictions, verbose=False)"
   ]
  },
  {
   "cell_type": "markdown",
   "id": "6d728bc8",
   "metadata": {},
   "source": [
    "### TOP N predictions"
   ]
  },
  {
   "cell_type": "code",
   "execution_count": 13,
   "id": "ad782b47",
   "metadata": {},
   "outputs": [],
   "source": [
    "def Get_Top_Predictions(predictions, n=10, minimumRating=4.0):\n",
    "    topN = defaultdict(list)\n",
    "    for uid, bid, actualRating, estimatedRating, _ in predictions:\n",
    "        if (estimatedRating >= minimumRating):\n",
    "            topN[int(uid)].append((int(bid), estimatedRating))\n",
    "    for uid, ratings in topN.items():\n",
    "        ratings.sort(key=lambda x: x[1], reverse=True)\n",
    "        topN[int(uid)] = ratings[:n]\n",
    "    return topN"
   ]
  },
  {
   "cell_type": "code",
   "execution_count": 14,
   "id": "cc1aec30",
   "metadata": {},
   "outputs": [],
   "source": [
    "def Get_data_from_Testset(predictions):\n",
    "    topN = defaultdict(list)\n",
    "    for uid, bid, actualRating, estimatedRating, _ in predictions:\n",
    "        topN[int(uid)].append((int(bid), estimatedRating))\n",
    "    for uid, ratings in topN.items():\n",
    "        ratings.sort(key=lambda x: x[1], reverse=True)\n",
    "        topN[int(uid)] = ratings\n",
    "    return topN"
   ]
  },
  {
   "cell_type": "code",
   "execution_count": 15,
   "id": "2543c252",
   "metadata": {},
   "outputs": [],
   "source": [
    "def Get_Top_Predictions_In_Actual_DataSet(predictions, n=10, minimumRating=0.0):\n",
    "    topN = defaultdict(list)\n",
    "    for uid, mid, actualRating in predictions:\n",
    "        if (actualRating >= minimumRating):\n",
    "            topN[int(uid)].append((int(mid), actualRating))\n",
    "    for uid, ratings in topN.items():\n",
    "        ratings.sort(key=lambda x: x[1], reverse=True)\n",
    "        topN[int(uid)] = ratings[:n]\n",
    "    return topN"
   ]
  },
  {
   "cell_type": "code",
   "execution_count": 16,
   "id": "646af77c",
   "metadata": {},
   "outputs": [],
   "source": [
    "def Get_All_Predictions_In_Actual_DataSet(predictions ):\n",
    "    topN = defaultdict(list)\n",
    "    for uid, mid, actualRating in predictions:\n",
    "        topN[int(uid)].append((int(mid), actualRating))\n",
    "    for uid, ratings in topN.items():\n",
    "        ratings.sort(key=lambda x: x[1], reverse=True)\n",
    "        topN[int(uid)] = ratings\n",
    "    return topN"
   ]
  },
  {
   "cell_type": "markdown",
   "id": "f977c922",
   "metadata": {},
   "source": [
    "###  See how often we recommended a movie the user actually rated"
   ]
  },
  {
   "cell_type": "code",
   "execution_count": 17,
   "id": "41183947",
   "metadata": {},
   "outputs": [],
   "source": [
    "def MAP_K(topNPredicted, topNPredictedOnActualDataSet):\n",
    "    totalhit_ratio=0;\n",
    "    totalcount=0\n",
    "    for userid in topNPredictedOnActualDataSet:\n",
    "        totalcount+=1\n",
    "        hit=0\n",
    "        total=0\n",
    "        predictions=[]\n",
    "        actual_predictions=[]\n",
    "        for book,_ in topNPredicted[int(userid)]:\n",
    "            predictions.append(book)\n",
    "        for book,_ in topNPredictedOnActualDataSet[int(userid)]:\n",
    "            actual_predictions.append(book)\n",
    "            \n",
    "        for i in predictions:\n",
    "            total+=1\n",
    "            if i in actual_predictions:\n",
    "                hit+=1\n",
    "        \n",
    "        if(total==0):\n",
    "            totalhit_ratio=0\n",
    "        else:\n",
    "            totalhit_ratio+=(hit/total)  \n",
    "       \n",
    "    return (totalhit_ratio/totalcount)"
   ]
  },
  {
   "cell_type": "code",
   "execution_count": 18,
   "id": "00e7db7d",
   "metadata": {},
   "outputs": [],
   "source": [
    "def HitRate(topNPredicted, topNPredictedOnActualDataSet):\n",
    "    totalhit_ratio=0;\n",
    "    totalcount=0\n",
    "    hit=0\n",
    "    for userid in topNPredictedOnActualDataSet:\n",
    "        totalcount+=1\n",
    "        \n",
    "        \n",
    "        predictions=[]\n",
    "        actual_predictions=[]\n",
    "        for book,_ in topNPredicted[int(userid)]:\n",
    "            predictions.append(book)\n",
    "        for book,_ in topNPredictedOnActualDataSet[int(userid)]:\n",
    "            actual_predictions.append(book) \n",
    "        for i in predictions:\n",
    "            if i in actual_predictions:\n",
    "                hit+=1\n",
    "                break\n",
    "        \n",
    "        \n",
    "    \n",
    "    return (hit/totalcount)"
   ]
  },
  {
   "cell_type": "markdown",
   "id": "ca09a328",
   "metadata": {},
   "source": [
    "### Percentage of users have at least one \"good\" recommendation"
   ]
  },
  {
   "cell_type": "code",
   "execution_count": 19,
   "id": "3519337a",
   "metadata": {},
   "outputs": [],
   "source": [
    "\n",
    "def UserCoverage(topNPredicted, numUsers, ratingThreshold=0):\n",
    "    hits = 0\n",
    "    for userID in topNPredicted.keys():\n",
    "        hit = 0\n",
    "        for mid, predictedRating in topNPredicted[userID]:\n",
    "            if (predictedRating >= ratingThreshold):\n",
    "                hit = 1\n",
    "                break\n",
    "        if (hit==1):\n",
    "            hits += 1\n",
    "    return hits / numUsers"
   ]
  },
  {
   "cell_type": "markdown",
   "id": "fdac57b0",
   "metadata": {},
   "source": [
    "### Novelty is a measure of how popular the items system recommending."
   ]
  },
  {
   "cell_type": "code",
   "execution_count": 20,
   "id": "9ed6f4b0",
   "metadata": {},
   "outputs": [],
   "source": [
    "def Novelty(topNPredicted, rankings):\n",
    "    n = 0\n",
    "    total = 0\n",
    "    for uid in topNPredicted.keys():\n",
    "        for rating in topNPredicted[uid]:\n",
    "            mid = rating[0]\n",
    "            rank = rankings[mid]\n",
    "            total += rank\n",
    "            n += 1\n",
    "    if n==0:\n",
    "        return 0\n",
    "    return total / n"
   ]
  },
  {
   "cell_type": "markdown",
   "id": "1b04dbb9",
   "metadata": {},
   "source": [
    "### Evaluation metrics"
   ]
  },
  {
   "cell_type": "code",
   "execution_count": 21,
   "id": "7b9ef854",
   "metadata": {},
   "outputs": [],
   "source": [
    "from surprise.model_selection import LeaveOneOut\n",
    "import itertools\n"
   ]
  },
  {
   "cell_type": "code",
   "execution_count": 22,
   "id": "f90dc93f",
   "metadata": {},
   "outputs": [],
   "source": [
    "\n",
    "class Evaluate:\n",
    "    def __init__(self, algo):\n",
    "        self.algo = algo\n",
    "    def start(self, n=10, verbose=True):\n",
    "        before=datetime.now() \n",
    "        #trainSet, testSet = train_test_split(data, test_size=.25, random_state=1)\n",
    "        algo.fit(trainset)\n",
    "        after= datetime.now() \n",
    "        duration = after-before                         \n",
    "        duration = duration.total_seconds() \n",
    "        print('time taken '+str(duration)+'s')\n",
    "        predictions = algo.test(testset)\n",
    "        rmse= RMSE(predictions)\n",
    "        mae= MAE(predictions)\n",
    "        print(\"Computing RMSE \"+str(rmse))\n",
    "        print(\"Computing MAE \"+str(mae))\n",
    "        return duration,rmse,mae\n",
    "    \n",
    "   \n",
    "    def getModel(self):\n",
    "        return self.algo\n",
    "    def OtherMetrics(self):\n",
    "            \n",
    "            self.algo.fit(fullTrainSet)\n",
    "            bigTestSet = fullTrainSet.build_anti_testset()\n",
    "            all_pred = algo.test(bigTestSet)\n",
    "            topN= Get_Top_Predictions(all_pred, n=10)\n",
    "\n",
    "            \n",
    "            ranking=getPopularityBasedOnRatingCount()\n",
    "            # Print user coverage:\n",
    "            user_coverage= UserCoverage(topN, fullTrainSet.n_users, ratingThreshold=4.0)\n",
    "            print(\"\\nUser coverage: \",user_coverage)\n",
    "            # Measure novelty (average popularity rank of recommendations):\n",
    "            novelty=Novelty(topN, ranking)\n",
    "            print(\"\\nNovelty : \",novelty )\n",
    "            # Measure diversity of recommendations:\n",
    "\n",
    "            #diversity=Diversity(topN, simsAlgo)\n",
    "            #print(\"\\nDiversity: \", diversity)\n",
    "          \n",
    "            return novelty,user_coverage\n",
    "        \n",
    "   \n",
    "    def RecommendationMetricsOnwholeTestSet(self):\n",
    "        hit_rate=0\n",
    "        cumm_hit_rate=0\n",
    "        print(\"Computing recommendations with train and test dataset...\")\n",
    "        # Build predictions for all ratings  in the test set\n",
    "        print(\"Predict ratings...\")\n",
    "        allPredictions = algo.test(testset)\n",
    "     \n",
    "        # Compute top 10 recs for each user\n",
    "        print(\"Compute top 10 recs per user\")\n",
    "        topNPredicted = Get_Top_Predictions(allPredictions)\n",
    "        allPredictedOnActualDataSet = Get_All_Predictions_In_Actual_DataSet(testset)\n",
    "        topNPredictedOnActualDataSet =   Get_Top_Predictions_In_Actual_DataSet(testset)\n",
    "       \n",
    "      \n",
    "        #Calculate hit rate\n",
    "        \n",
    "        hit_rate=HitRate(topNPredicted, allPredictedOnActualDataSet)\n",
    "        print(\"\\nHit Rate: \",hit_rate )\n",
    "\n",
    "        map_k= MAP_K(topNPredicted, allPredictedOnActualDataSet)\n",
    "        print(\"\\nMAP@K: \",map_k )\n",
    "        \n",
    "        \n",
    "         #Calculate hit rate\n",
    "        \n",
    "        hit_rate_most_liked=HitRate(topNPredicted, topNPredictedOnActualDataSet)\n",
    "        print(\"\\nHit Rate on top liked items: \",hit_rate_most_liked )\n",
    "\n",
    "        map_k_most_liked= MAP_K(topNPredicted, topNPredictedOnActualDataSet)\n",
    "        print(\"\\nMAP@K  on top liked items: \",map_k_most_liked )\n",
    "        # See how often we recommended a movie the user actually liked\n",
    "       \n",
    "          \n",
    "        return hit_rate,map_k\n",
    "    "
   ]
  },
  {
   "cell_type": "code",
   "execution_count": 35,
   "id": "41f68ae0",
   "metadata": {},
   "outputs": [
    {
     "name": "stdout",
     "output_type": "stream",
     "text": [
      "time taken 96.124737s\n",
      "Computing RMSE 0.8190013695927739\n",
      "Computing MAE 0.4724166130391703\n"
     ]
    }
   ],
   "source": [
    "\n",
    "from surprise import SVD\n",
    "from datetime import datetime\n",
    "algo =  SVD(n_epochs = 500, lr_all = 0.0001, n_factors = 50)\n",
    "evaluate=Evaluate(algo)\n",
    "svd_duration,svd_rmse,svd_mae=evaluate.start()\n"
   ]
  },
  {
   "cell_type": "code",
   "execution_count": 24,
   "id": "66299dd7",
   "metadata": {},
   "outputs": [
    {
     "name": "stdout",
     "output_type": "stream",
     "text": [
      "Computing recommendations with train and test dataset...\n",
      "Predict ratings...\n",
      "Compute top 10 recs per user\n",
      "\n",
      "Hit Rate:  0.9992172211350293\n",
      "\n",
      "MAP@K:  0.44031311154598823\n",
      "\n",
      "Hit Rate on top liked items:  0.9972602739726028\n",
      "\n",
      "MAP@K  on top liked items:  0.4356120895846923\n",
      "\n",
      "User coverage:  1.0\n",
      "\n",
      "Novelty :  846.9699447431302\n"
     ]
    }
   ],
   "source": [
    "svd_hit_rate,svd_map_k=evaluate.RecommendationMetricsOnwholeTestSet()\n",
    "svd_novelty,svd_user_coverage=evaluate.OtherMetrics()\n",
    "algosvd=evaluate.getModel()"
   ]
  },
  {
   "cell_type": "markdown",
   "id": "ff2e68f1",
   "metadata": {},
   "source": [
    "### SVD++"
   ]
  },
  {
   "cell_type": "code",
   "execution_count": 36,
   "id": "55aa434b",
   "metadata": {},
   "outputs": [
    {
     "name": "stdout",
     "output_type": "stream",
     "text": [
      "time taken 69.124597s\n",
      "Computing RMSE 0.8256946610788903\n",
      "Computing MAE 0.4684112785644732\n",
      "Computing recommendations with train and test dataset...\n",
      "Predict ratings...\n",
      "Compute top 10 recs per user\n",
      "\n",
      "Hit Rate:  0.9816046966731898\n",
      "\n",
      "MAP@K:  0.02426614481409002\n",
      "\n",
      "Hit Rate on top liked items:  0.9808219178082191\n",
      "\n",
      "MAP@K  on top liked items:  0.02426614481409002\n",
      "\n",
      "User coverage:  0.9958955223880597\n",
      "\n",
      "Novelty :  1127.3675454408892\n"
     ]
    }
   ],
   "source": [
    "\n",
    "from surprise import SVDpp\n",
    "from datetime import datetime\n",
    "algo =  SVDpp()\n",
    "evaluate=Evaluate(algo)\n",
    "algosvdpp = SVDpp(n_epochs = 500, lr_all = 0.0001, n_factors = 50)\n",
    "evaluate=Evaluate(algosvdpp)\n",
    "svdpp_duration,svdpp_rmse,svdpp_mae=evaluate.start()\n",
    "svdpp_hit_rate,svdpp_map_k=evaluate.RecommendationMetricsOnwholeTestSet()\n",
    "svdpp_novelty,svdpp_user_coverage=evaluate.OtherMetrics()\n",
    "algosvdpp=evaluate.getModel()"
   ]
  },
  {
   "cell_type": "markdown",
   "id": "13cffaec",
   "metadata": {},
   "source": [
    "### NMF"
   ]
  },
  {
   "cell_type": "code",
   "execution_count": 29,
   "id": "461025bd",
   "metadata": {},
   "outputs": [
    {
     "name": "stdout",
     "output_type": "stream",
     "text": [
      "time taken 99.691693s\n",
      "Computing RMSE 0.8253969477349904\n",
      "Computing MAE 0.46787908664693806\n",
      "Computing recommendations with train and test dataset...\n",
      "Predict ratings...\n",
      "Compute top 10 recs per user\n",
      "\n",
      "Hit Rate:  0.9804305283757339\n",
      "\n",
      "MAP@K:  0.02426614481409002\n",
      "\n",
      "Hit Rate on top liked items:  0.9796477495107632\n",
      "\n",
      "MAP@K  on top liked items:  0.02426614481409002\n"
     ]
    }
   ],
   "source": [
    "\n",
    "from surprise import NMF\n",
    "from datetime import datetime\n",
    "algo =  SVDpp()\n",
    "evaluate=Evaluate(algo)\n",
    "algoNMF = NMF()\n",
    "evaluate=Evaluate(algoNMF)\n",
    "NMF_duration,NMF_rmse,NMF_mae=evaluate.start()\n",
    "NMF_hit_rate,NMF_mapk=evaluate.RecommendationMetricsOnwholeTestSet()\n",
    "\n",
    "algoNMF=evaluate.getModel()"
   ]
  },
  {
   "cell_type": "markdown",
   "id": "434eda9b",
   "metadata": {},
   "source": [
    "# Neighbourhood based method"
   ]
  },
  {
   "cell_type": "markdown",
   "id": "d8c6b323",
   "metadata": {},
   "source": [
    "### User-Based recommendation"
   ]
  },
  {
   "cell_type": "code",
   "execution_count": 30,
   "id": "f360beea",
   "metadata": {},
   "outputs": [
    {
     "name": "stdout",
     "output_type": "stream",
     "text": [
      "\n",
      "Computing item similarities ...\n",
      "Computing the cosine similarity matrix...\n"
     ]
    },
    {
     "name": "stderr",
     "output_type": "stream",
     "text": [
      "C:\\ProgramData\\Anaconda3\\lib\\site-packages\\surprise\\prediction_algorithms\\algo_base.py:249: RuntimeWarning: invalid value encountered in double_scalars\n",
      "  sim = construction_func[name](*args)\n"
     ]
    },
    {
     "name": "stdout",
     "output_type": "stream",
     "text": [
      "Done computing similarity matrix.\n",
      "Computing the cosine similarity matrix...\n",
      "Done computing similarity matrix.\n"
     ]
    }
   ],
   "source": [
    "from surprise import KNNBasic\n",
    "print(\"\\nComputing item similarities ...\")\n",
    "options = {'name': 'cosine', 'user_based': True}\n",
    "simsAlgo = KNNBasic(sim_options=options)\n",
    "simsAlgo.fit(fullTrainSet)\n",
    "simsMatrix = simsAlgo.compute_similarities()"
   ]
  },
  {
   "cell_type": "code",
   "execution_count": 31,
   "id": "09f9172b",
   "metadata": {},
   "outputs": [],
   "source": [
    "import heapq\n",
    "from operator import itemgetter\n",
    "def getdataForAllUsers(n=10, verbose=True):\n",
    "        print(\"\\nComputing  similarities ...\")\n",
    "        options = {'name': 'cosine', 'user_based': True}\n",
    "        \n",
    "        simsAlgo = KNNBasic(sim_options=options)\n",
    "        simsAlgo.fit(trainset)\n",
    "        simsMatrix = simsAlgo.compute_similarities()\n",
    "        \n",
    "        topN = defaultdict(list)\n",
    "        \n",
    "        hit_rate=0\n",
    "        cumm_hit_rate=0\n",
    "        k = 10\n",
    "        \n",
    "        for uid in range(trainset.n_users):\n",
    "            # Get top N similar users to this one\n",
    "            similarityRow = simsMatrix[uid]\n",
    "            \n",
    "            similarUsers = []\n",
    "            for innerID, score in enumerate(similarityRow):\n",
    "                if (innerID != uid):\n",
    "                    similarUsers.append( (innerID, score) )\n",
    "            \n",
    "            kNeighbors = heapq.nlargest(k, similarUsers, key=lambda t: t[1])\n",
    "            \n",
    "            # Get the stuff they rated, and add up ratings for each item, weighted by user similarity\n",
    "            candidates = defaultdict(float)\n",
    "            for similarUser in kNeighbors:\n",
    "                innerID = similarUser[0]\n",
    "                userSimilarityScore = similarUser[1]\n",
    "                theirRatings = trainset.ur[innerID]\n",
    "                for rating in theirRatings:\n",
    "                    candidates[rating[0]] += (rating[1] / 5.0) * userSimilarityScore\n",
    "                \n",
    "            # Build a dictionary of stuff the user has already seen\n",
    "            alreadyRead = {}\n",
    "            for itemID, rating in trainset.ur[uid]:\n",
    "                alreadyRead[itemID] = 1\n",
    "                \n",
    "            # Get top-rated items from similar users:\n",
    "            pos = 0\n",
    "            for itemID, ratingSum in sorted(candidates.items(), key=itemgetter(1), reverse=True):\n",
    "                if not itemID in alreadyRead:\n",
    "                    id = trainset.to_raw_iid(itemID)\n",
    "                    topN[int(trainset.to_raw_uid(uid))].append( (int(id), 0.0) )\n",
    "                    pos += 1\n",
    "                    if (pos > n):\n",
    "                        break\n",
    "                        \n",
    "        return topN"
   ]
  },
  {
   "cell_type": "code",
   "execution_count": 32,
   "id": "7eb1b36e",
   "metadata": {},
   "outputs": [
    {
     "name": "stdout",
     "output_type": "stream",
     "text": [
      "\n",
      "Computing  similarities ...\n",
      "Computing the cosine similarity matrix...\n"
     ]
    },
    {
     "name": "stderr",
     "output_type": "stream",
     "text": [
      "C:\\ProgramData\\Anaconda3\\lib\\site-packages\\surprise\\prediction_algorithms\\algo_base.py:249: RuntimeWarning: invalid value encountered in double_scalars\n",
      "  sim = construction_func[name](*args)\n"
     ]
    },
    {
     "name": "stdout",
     "output_type": "stream",
     "text": [
      "Done computing similarity matrix.\n",
      "Computing the cosine similarity matrix...\n",
      "Done computing similarity matrix.\n"
     ]
    }
   ],
   "source": [
    "topN=getdataForAllUsers()\n",
    "allPredictedOnActualDataSet = Get_All_Predictions_In_Actual_DataSet(testset)\n"
   ]
  },
  {
   "cell_type": "code",
   "execution_count": 33,
   "id": "a6147266",
   "metadata": {},
   "outputs": [
    {
     "data": {
      "text/plain": [
       "0.12915851272015655"
      ]
     },
     "execution_count": 33,
     "metadata": {},
     "output_type": "execute_result"
    }
   ],
   "source": [
    "hit_rate_knn=HitRate(topN,allPredictedOnActualDataSet)\n",
    "hit_rate_knn"
   ]
  },
  {
   "cell_type": "code",
   "execution_count": null,
   "id": "73b8a29e",
   "metadata": {},
   "outputs": [],
   "source": []
  }
 ],
 "metadata": {
  "kernelspec": {
   "display_name": "Python 3",
   "language": "python",
   "name": "python3"
  },
  "language_info": {
   "codemirror_mode": {
    "name": "ipython",
    "version": 3
   },
   "file_extension": ".py",
   "mimetype": "text/x-python",
   "name": "python",
   "nbconvert_exporter": "python",
   "pygments_lexer": "ipython3",
   "version": "3.6.5"
  }
 },
 "nbformat": 4,
 "nbformat_minor": 5
}

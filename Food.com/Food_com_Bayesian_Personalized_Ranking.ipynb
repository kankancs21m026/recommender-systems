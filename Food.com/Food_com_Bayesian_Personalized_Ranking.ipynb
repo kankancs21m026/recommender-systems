{
  "cells": [
    {
      "cell_type": "markdown",
      "source": [
        "### Bayesian Personalized Ranking from Implicit Feedback\n",
        "https://arxiv.org/ftp/arxiv/papers/1205/1205.2618.pdf"
      ],
      "metadata": {
        "id": "osgRv2cAIJ--"
      },
      "id": "osgRv2cAIJ--"
    },
    {
      "cell_type": "code",
      "execution_count": 1,
      "metadata": {
        "id": "5b97d650"
      },
      "outputs": [],
      "source": [
        "import warnings\n",
        "warnings.filterwarnings(\"ignore\")"
      ],
      "id": "5b97d650"
    },
    {
      "cell_type": "code",
      "execution_count": 2,
      "metadata": {
        "id": "519937e0"
      },
      "outputs": [],
      "source": [
        "from datetime import datetime\n",
        "import os\n",
        "import matplotlib\n",
        "import pandas as pd\n",
        "import numpy as np\n",
        "import matplotlib.pyplot as plt\n",
        "import seaborn as sns\n",
        "sns.set_style('whitegrid')\n",
        "\n",
        "from scipy import sparse\n",
        "from scipy.sparse import csc_matrix\n",
        "from sklearn.decomposition import TruncatedSVD\n",
        "import random\n",
        "random.seed(0)\n",
        "np.random.seed(0)"
      ],
      "id": "519937e0"
    },
    {
      "cell_type": "code",
      "source": [
        "import tensorflow as tf\n",
        "from tensorflow.keras.models import Model, load_model\n",
        "from tensorflow.keras.layers import Embedding, Flatten, Input, Lambda\n",
        "from tensorflow.keras.optimizers import Adam\n",
        "import tensorflow.keras.backend as K\n",
        "\n",
        "from sklearn.metrics import roc_auc_score"
      ],
      "metadata": {
        "id": "VwXnqMsqBoQ5"
      },
      "id": "VwXnqMsqBoQ5",
      "execution_count": 3,
      "outputs": []
    },
    {
      "cell_type": "code",
      "source": [
        "SEED = 42\n",
        "np.random.seed(SEED)\n",
        "tf.random.set_seed(SEED)"
      ],
      "metadata": {
        "id": "4uHlr1BVBzzB"
      },
      "id": "4uHlr1BVBzzB",
      "execution_count": 4,
      "outputs": []
    },
    {
      "cell_type": "markdown",
      "metadata": {
        "id": "1ac47295"
      },
      "source": [
        "## Analyse Dataset"
      ],
      "id": "1ac47295"
    },
    {
      "cell_type": "markdown",
      "metadata": {
        "id": "474dfab9"
      },
      "source": [
        "### Food.com   Dataset\n",
        "- https://www.kaggle.com/datasets/shuyangli94/food-com-recipes-and-user-interactions\n",
        "- https://aclanthology.org/D19-1613/"
      ],
      "id": "474dfab9"
    },
    {
      "cell_type": "code",
      "source": [
        "!pip install gdown"
      ],
      "metadata": {
        "colab": {
          "base_uri": "https://localhost:8080/"
        },
        "id": "IiQlKPR5z099",
        "outputId": "a165c581-af57-4185-e92f-2325588daf65"
      },
      "id": "IiQlKPR5z099",
      "execution_count": 5,
      "outputs": [
        {
          "output_type": "stream",
          "name": "stdout",
          "text": [
            "Looking in indexes: https://pypi.org/simple, https://us-python.pkg.dev/colab-wheels/public/simple/\n",
            "Requirement already satisfied: gdown in /usr/local/lib/python3.7/dist-packages (4.4.0)\n",
            "Requirement already satisfied: filelock in /usr/local/lib/python3.7/dist-packages (from gdown) (3.7.1)\n",
            "Requirement already satisfied: requests[socks] in /usr/local/lib/python3.7/dist-packages (from gdown) (2.23.0)\n",
            "Requirement already satisfied: beautifulsoup4 in /usr/local/lib/python3.7/dist-packages (from gdown) (4.6.3)\n",
            "Requirement already satisfied: tqdm in /usr/local/lib/python3.7/dist-packages (from gdown) (4.64.0)\n",
            "Requirement already satisfied: six in /usr/local/lib/python3.7/dist-packages (from gdown) (1.15.0)\n",
            "Requirement already satisfied: certifi>=2017.4.17 in /usr/local/lib/python3.7/dist-packages (from requests[socks]->gdown) (2022.6.15)\n",
            "Requirement already satisfied: idna<3,>=2.5 in /usr/local/lib/python3.7/dist-packages (from requests[socks]->gdown) (2.10)\n",
            "Requirement already satisfied: urllib3!=1.25.0,!=1.25.1,<1.26,>=1.21.1 in /usr/local/lib/python3.7/dist-packages (from requests[socks]->gdown) (1.24.3)\n",
            "Requirement already satisfied: chardet<4,>=3.0.2 in /usr/local/lib/python3.7/dist-packages (from requests[socks]->gdown) (3.0.4)\n",
            "Requirement already satisfied: PySocks!=1.5.7,>=1.5.6 in /usr/local/lib/python3.7/dist-packages (from requests[socks]->gdown) (1.7.1)\n"
          ]
        }
      ]
    },
    {
      "cell_type": "code",
      "source": [
        "!gdown https://drive.google.com/uc?id=1dK__rulbUEGU_m68RIK7Qevc7pcpOIme"
      ],
      "metadata": {
        "colab": {
          "base_uri": "https://localhost:8080/"
        },
        "id": "043QLPG0z6m8",
        "outputId": "818443b5-a9fa-47d0-e56c-c1d2b20e2688"
      },
      "id": "043QLPG0z6m8",
      "execution_count": 6,
      "outputs": [
        {
          "output_type": "stream",
          "name": "stdout",
          "text": [
            "Downloading...\n",
            "From: https://drive.google.com/uc?id=1dK__rulbUEGU_m68RIK7Qevc7pcpOIme\n",
            "To: /content/RAW_recipes.csv\n",
            "100% 295M/295M [00:01<00:00, 276MB/s]\n"
          ]
        }
      ]
    },
    {
      "cell_type": "code",
      "source": [
        "!gdown https://drive.google.com/uc?id=1dN-wpxE3V8yNVKPByHReEaswl9UNV9wj"
      ],
      "metadata": {
        "colab": {
          "base_uri": "https://localhost:8080/"
        },
        "id": "hHL6tLCEJvl7",
        "outputId": "ffac4f86-8127-4ee5-e486-99b5396fd212"
      },
      "id": "hHL6tLCEJvl7",
      "execution_count": 7,
      "outputs": [
        {
          "output_type": "stream",
          "name": "stdout",
          "text": [
            "Downloading...\n",
            "From: https://drive.google.com/uc?id=1dN-wpxE3V8yNVKPByHReEaswl9UNV9wj\n",
            "To: /content/RAW_interactions.csv\n",
            "100% 349M/349M [00:01<00:00, 220MB/s]\n"
          ]
        }
      ]
    },
    {
      "cell_type": "markdown",
      "metadata": {
        "id": "S3xZff9jLQs0"
      },
      "source": [
        "#### Consider movies rated by more than 30 users"
      ],
      "id": "S3xZff9jLQs0"
    },
    {
      "cell_type": "code",
      "execution_count": 8,
      "metadata": {
        "id": "b5ed96c4"
      },
      "outputs": [],
      "source": [
        "rating_df =pd.read_csv('RAW_interactions.csv')\n"
      ],
      "id": "b5ed96c4"
    },
    {
      "cell_type": "code",
      "source": [
        "rating_df['rating'].hist()"
      ],
      "metadata": {
        "colab": {
          "base_uri": "https://localhost:8080/",
          "height": 283
        },
        "id": "CuYYAiayUzx5",
        "outputId": "f58afdd1-85d9-4690-a1aa-e52479c9b770"
      },
      "id": "CuYYAiayUzx5",
      "execution_count": 9,
      "outputs": [
        {
          "output_type": "execute_result",
          "data": {
            "text/plain": [
              "<matplotlib.axes._subplots.AxesSubplot at 0x7efcb536f210>"
            ]
          },
          "metadata": {},
          "execution_count": 9
        },
        {
          "output_type": "display_data",
          "data": {
            "text/plain": [
              "<Figure size 432x288 with 1 Axes>"
            ],
            "image/png": "[encoded data removed]"
          },
          "metadata": {}
        }
      ]
    },
    {
      "cell_type": "code",
      "source": [
        "rating_df=rating_df[['user_id','recipe_id','date','rating']]\n",
        "rating_df.rename(columns = {'user_id':'userId', 'recipe_id':'item'}, inplace = True)"
      ],
      "metadata": {
        "id": "ntsjC8adBOiK"
      },
      "id": "ntsjC8adBOiK",
      "execution_count": 10,
      "outputs": []
    },
    {
      "cell_type": "code",
      "source": [
        "\n",
        "x = rating_df.groupby('item').count()['rating'] >= 40\n",
        "userIndex = x[x].index\n",
        "nm_rating_df=rating_df[rating_df['item'].isin(userIndex)]\n",
        "y = nm_rating_df.groupby('userId').count()['rating']>=60\n",
        "items = y[y].index\n",
        "rating_df = nm_rating_df[nm_rating_df['userId'].isin(items)]\n",
        "rating_df.shape"
      ],
      "metadata": {
        "id": "kHLXKq06BZU8",
        "colab": {
          "base_uri": "https://localhost:8080/"
        },
        "outputId": "7a54f48e-7041-4a20-cde7-a4dcf9d11776"
      },
      "id": "kHLXKq06BZU8",
      "execution_count": 11,
      "outputs": [
        {
          "output_type": "execute_result",
          "data": {
            "text/plain": [
              "(50686, 4)"
            ]
          },
          "metadata": {},
          "execution_count": 11
        }
      ]
    },
    {
      "cell_type": "markdown",
      "source": [
        "### Prepare train test set"
      ],
      "metadata": {
        "id": "MQKR4CpoViU3"
      },
      "id": "MQKR4CpoViU3"
    },
    {
      "cell_type": "code",
      "source": [
        "unique_users = rating_df.userId.unique()\n",
        "user_ids = dict(zip(unique_users, np.arange(unique_users.shape[0], dtype=np.int32)))\n",
        "\n",
        "unique_items = rating_df.item.unique()\n",
        "item_ids = dict(zip(unique_items, np.arange(unique_items.shape[0], dtype=np.int32)))"
      ],
      "metadata": {
        "id": "LUFkz0RhLRH-"
      },
      "id": "LUFkz0RhLRH-",
      "execution_count": 12,
      "outputs": []
    },
    {
      "cell_type": "code",
      "source": [
        "product_ids = list(set(list(rating_df.item.unique())))\n",
        "user_ids = list(set(list(rating_df.userId.unique())))"
      ],
      "metadata": {
        "id": "W6Zm4yNfOFfm"
      },
      "id": "W6Zm4yNfOFfm",
      "execution_count": 13,
      "outputs": []
    },
    {
      "cell_type": "code",
      "source": [
        "dict_products = {}\n",
        "index = 0\n",
        "for ids in sorted(product_ids):\n",
        "    dict_products[ids] = index\n",
        "    index += 1"
      ],
      "metadata": {
        "id": "8oNEGr1EOAGX"
      },
      "id": "8oNEGr1EOAGX",
      "execution_count": 14,
      "outputs": []
    },
    {
      "cell_type": "code",
      "source": [
        "dict_users = {}\n",
        "index = 0\n",
        "for ids in sorted(user_ids):\n",
        "    dict_users[ids] = index\n",
        "    index += 1"
      ],
      "metadata": {
        "id": "K7dJ4S3gOCC2"
      },
      "id": "K7dJ4S3gOCC2",
      "execution_count": 15,
      "outputs": []
    },
    {
      "cell_type": "code",
      "source": [
        "rating_df[\"item\"] = rating_df[\"item\"].map(dict_products)\n",
        "rating_df[\"userId\"] = rating_df[\"userId\"].map(dict_users)"
      ],
      "metadata": {
        "id": "dpeUdtW7NWwe"
      },
      "id": "dpeUdtW7NWwe",
      "execution_count": 16,
      "outputs": []
    },
    {
      "cell_type": "code",
      "source": [
        "final_ratings=rating_df.sort_values(by=['userId','date','rating'], ascending=[False,False,False]) \n",
        "final_ratings.shape"
      ],
      "metadata": {
        "colab": {
          "base_uri": "https://localhost:8080/"
        },
        "id": "dF2_HqTcVdrp",
        "outputId": "ad266d80-5845-49fd-91e6-52a995b618a3"
      },
      "id": "dF2_HqTcVdrp",
      "execution_count": 17,
      "outputs": [
        {
          "output_type": "execute_result",
          "data": {
            "text/plain": [
              "(50686, 4)"
            ]
          },
          "metadata": {},
          "execution_count": 17
        }
      ]
    },
    {
      "cell_type": "code",
      "source": [
        "test_df=final_ratings.groupby('userId').head(20)\n",
        "test_df.shape"
      ],
      "metadata": {
        "colab": {
          "base_uri": "https://localhost:8080/"
        },
        "id": "1Z-8XJaHVfng",
        "outputId": "b89dd0e7-c3f5-4aa8-af15-1c5f8075a9e7"
      },
      "id": "1Z-8XJaHVfng",
      "execution_count": 18,
      "outputs": [
        {
          "output_type": "execute_result",
          "data": {
            "text/plain": [
              "(9340, 4)"
            ]
          },
          "metadata": {},
          "execution_count": 18
        }
      ]
    },
    {
      "cell_type": "code",
      "source": [
        "train_df=final_ratings[~final_ratings.isin(test_df).all(1)]\n",
        "train_df.shape"
      ],
      "metadata": {
        "colab": {
          "base_uri": "https://localhost:8080/"
        },
        "id": "psqsAqmpKx5p",
        "outputId": "bb7aa9ff-994a-4d07-ae70-5ef90a8c80c3"
      },
      "id": "psqsAqmpKx5p",
      "execution_count": 19,
      "outputs": [
        {
          "output_type": "execute_result",
          "data": {
            "text/plain": [
              "(41346, 4)"
            ]
          },
          "metadata": {},
          "execution_count": 19
        }
      ]
    },
    {
      "cell_type": "code",
      "source": [
        "product_ids = list(set(list(rating_df.item.unique())))\n",
        "user_ids = list(set(list(rating_df.userId.unique())))\n",
        "dict_products = {}\n",
        "index = 0\n",
        "for ids in sorted(product_ids):\n",
        "    dict_products[ids] = index\n",
        "    index += 1\n",
        "dict_users = {}\n",
        "index = 0\n",
        "for ids in sorted(user_ids):\n",
        "    dict_users[ids] = index\n",
        "    index += 1\n",
        "train_df[\"item\"] = train_df[\"item\"].map(dict_products)\n",
        "train_df[\"userId\"] = train_df[\"userId\"].map(dict_users)\n",
        "test_df[\"item\"] = test_df[\"item\"].map(dict_products)\n",
        "test_df[\"userId\"] = test_df[\"userId\"].map(dict_users)"
      ],
      "metadata": {
        "id": "8c1sJUuOK0Jm"
      },
      "id": "8c1sJUuOK0Jm",
      "execution_count": 20,
      "outputs": []
    },
    {
      "cell_type": "code",
      "source": [
        "train_df.head(5)"
      ],
      "metadata": {
        "colab": {
          "base_uri": "https://localhost:8080/",
          "height": 206
        },
        "id": "3sX0sGqrLDC-",
        "outputId": "24157113-5d4f-47b5-dfb7-9be0c577bef2"
      },
      "id": "3sX0sGqrLDC-",
      "execution_count": 21,
      "outputs": [
        {
          "output_type": "execute_result",
          "data": {
            "text/plain": [
              "         userId  item        date  rating\n",
              "710408      466   697  2017-05-01       4\n",
              "572624      466  1574  2017-04-17       5\n",
              "689107      466  2773  2017-04-11       3\n",
              "1039110     466  1887  2017-02-24       5\n",
              "568130      466  1603  2017-02-15       4"
            ],
            "text/html": [
              "\n",
              "  <div id=\"df-b72aa289-7df4-4c70-bb80-846984eb3c36\">\n",
              "    <div class=\"colab-df-container\">\n",
              "      <div>\n",
              "<style scoped>\n",
              "    .dataframe tbody tr th:only-of-type {\n",
              "        vertical-align: middle;\n",
              "    }\n",
              "\n",
              "    .dataframe tbody tr th {\n",
              "        vertical-align: top;\n",
              "    }\n",
              "\n",
              "    .dataframe thead th {\n",
              "        text-align: right;\n",
              "    }\n",
              "</style>\n",
              "<table border=\"1\" class=\"dataframe\">\n",
              "  <thead>\n",
              "    <tr style=\"text-align: right;\">\n",
              "      <th></th>\n",
              "      <th>userId</th>\n",
              "      <th>item</th>\n",
              "      <th>date</th>\n",
              "      <th>rating</th>\n",
              "    </tr>\n",
              "  </thead>\n",
              "  <tbody>\n",
              "    <tr>\n",
              "      <th>710408</th>\n",
              "      <td>466</td>\n",
              "      <td>697</td>\n",
              "      <td>2017-05-01</td>\n",
              "      <td>4</td>\n",
              "    </tr>\n",
              "    <tr>\n",
              "      <th>572624</th>\n",
              "      <td>466</td>\n",
              "      <td>1574</td>\n",
              "      <td>2017-04-17</td>\n",
              "      <td>5</td>\n",
              "    </tr>\n",
              "    <tr>\n",
              "      <th>689107</th>\n",
              "      <td>466</td>\n",
              "      <td>2773</td>\n",
              "      <td>2017-04-11</td>\n",
              "      <td>3</td>\n",
              "    </tr>\n",
              "    <tr>\n",
              "      <th>1039110</th>\n",
              "      <td>466</td>\n",
              "      <td>1887</td>\n",
              "      <td>2017-02-24</td>\n",
              "      <td>5</td>\n",
              "    </tr>\n",
              "    <tr>\n",
              "      <th>568130</th>\n",
              "      <td>466</td>\n",
              "      <td>1603</td>\n",
              "      <td>2017-02-15</td>\n",
              "      <td>4</td>\n",
              "    </tr>\n",
              "  </tbody>\n",
              "</table>\n",
              "</div>\n",
              "      <button class=\"colab-df-convert\" onclick=\"convertToInteractive('df-b72aa289-7df4-4c70-bb80-846984eb3c36')\"\n",
              "              title=\"Convert this dataframe to an interactive table.\"\n",
              "              style=\"display:none;\">\n",
              "        \n",
              "  <svg xmlns=\"http://www.w3.org/2000/svg\" height=\"24px\"viewBox=\"0 0 24 24\"\n",
              "       width=\"24px\">\n",
              "    <path d=\"M0 0h24v24H0V0z\" fill=\"none\"/>\n",
              "    <path d=\"M18.56 5.44l.94 2.06.94-2.06 2.06-.94-2.06-.94-.94-2.06-.94 2.06-2.06.94zm-11 1L8.5 8.5l.94-2.06 2.06-.94-2.06-.94L8.5 2.5l-.94 2.06-2.06.94zm10 10l.94 2.06.94-2.06 2.06-.94-2.06-.94-.94-2.06-.94 2.06-2.06.94z\"/><path d=\"M17.41 7.96l-1.37-1.37c-.4-.4-.92-.59-1.43-.59-.52 0-1.04.2-1.43.59L10.3 9.45l-7.72 7.72c-.78.78-.78 2.05 0 2.83L4 21.41c.39.39.9.59 1.41.59.51 0 1.02-.2 1.41-.59l7.78-7.78 2.81-2.81c.8-.78.8-2.07 0-2.86zM5.41 20L4 18.59l7.72-7.72 1.47 1.35L5.41 20z\"/>\n",
              "  </svg>\n",
              "      </button>\n",
              "      \n",
              "  <style>\n",
              "    .colab-df-container {\n",
              "      display:flex;\n",
              "      flex-wrap:wrap;\n",
              "      gap: 12px;\n",
              "    }\n",
              "\n",
              "    .colab-df-convert {\n",
              "      background-color: #E8F0FE;\n",
              "      border: none;\n",
              "      border-radius: 50%;\n",
              "      cursor: pointer;\n",
              "      display: none;\n",
              "      fill: #1967D2;\n",
              "      height: 32px;\n",
              "      padding: 0 0 0 0;\n",
              "      width: 32px;\n",
              "    }\n",
              "\n",
              "    .colab-df-convert:hover {\n",
              "      background-color: #E2EBFA;\n",
              "      box-shadow: 0px 1px 2px rgba(60, 64, 67, 0.3), 0px 1px 3px 1px rgba(60, 64, 67, 0.15);\n",
              "      fill: #174EA6;\n",
              "    }\n",
              "\n",
              "    [theme=dark] .colab-df-convert {\n",
              "      background-color: #3B4455;\n",
              "      fill: #D2E3FC;\n",
              "    }\n",
              "\n",
              "    [theme=dark] .colab-df-convert:hover {\n",
              "      background-color: #434B5C;\n",
              "      box-shadow: 0px 1px 3px 1px rgba(0, 0, 0, 0.15);\n",
              "      filter: drop-shadow(0px 1px 2px rgba(0, 0, 0, 0.3));\n",
              "      fill: #FFFFFF;\n",
              "    }\n",
              "  </style>\n",
              "\n",
              "      <script>\n",
              "        const buttonEl =\n",
              "          document.querySelector('#df-b72aa289-7df4-4c70-bb80-846984eb3c36 button.colab-df-convert');\n",
              "        buttonEl.style.display =\n",
              "          google.colab.kernel.accessAllowed ? 'block' : 'none';\n",
              "\n",
              "        async function convertToInteractive(key) {\n",
              "          const element = document.querySelector('#df-b72aa289-7df4-4c70-bb80-846984eb3c36');\n",
              "          const dataTable =\n",
              "            await google.colab.kernel.invokeFunction('convertToInteractive',\n",
              "                                                     [key], {});\n",
              "          if (!dataTable) return;\n",
              "\n",
              "          const docLinkHtml = 'Like what you see? Visit the ' +\n",
              "            '<a target=\"_blank\" href=https://colab.research.google.com/notebooks/data_table.ipynb>data table notebook</a>'\n",
              "            + ' to learn more about interactive tables.';\n",
              "          element.innerHTML = '';\n",
              "          dataTable['output_type'] = 'display_data';\n",
              "          await google.colab.output.renderOutput(dataTable, element);\n",
              "          const docLink = document.createElement('div');\n",
              "          docLink.innerHTML = docLinkHtml;\n",
              "          element.appendChild(docLink);\n",
              "        }\n",
              "      </script>\n",
              "    </div>\n",
              "  </div>\n",
              "  "
            ]
          },
          "metadata": {},
          "execution_count": 21
        }
      ]
    },
    {
      "cell_type": "code",
      "source": [
        "df_triplest = pd.DataFrame(columns=['userId', 'positive_id', 'negative_id'])\n",
        "\n",
        "data = []\n",
        "users_without_data = []\n",
        "\n",
        "for user_id in train_df.userId.unique():\n",
        "    positive_items = train_df[(train_df.userId == user_id) & (train_df.rating > 3)].item.values\n",
        "    negative_items = train_df[(train_df.userId == user_id) & (train_df.rating <= 3)].item.values\n",
        "\n",
        "    if negative_items.shape[0] == 0 or positive_items.shape[0] == 0:\n",
        "        users_without_data.append(user_id)\n",
        "        continue\n",
        "\n",
        "    for pos_itm in positive_items:\n",
        "        for neg_itm in negative_items:\n",
        "            data.append({'userId': user_id, 'positive_id': pos_itm, 'negative_id': neg_itm})\n",
        "\n",
        "df_triplest = df_triplest.append(data, ignore_index=True)"
      ],
      "metadata": {
        "id": "4vpRETQT_V2x"
      },
      "id": "4vpRETQT_V2x",
      "execution_count": 22,
      "outputs": []
    },
    {
      "cell_type": "code",
      "source": [
        "df_triplest.head(5)"
      ],
      "metadata": {
        "colab": {
          "base_uri": "https://localhost:8080/",
          "height": 206
        },
        "id": "0aWcFWoDAMoh",
        "outputId": "bf6ed3d7-4c7b-491a-cb66-5c2b4c715236"
      },
      "id": "0aWcFWoDAMoh",
      "execution_count": 23,
      "outputs": [
        {
          "output_type": "execute_result",
          "data": {
            "text/plain": [
              "  userId positive_id negative_id\n",
              "0    466         697        2773\n",
              "1    466         697        2792\n",
              "2    466         697        1357\n",
              "3    466         697         621\n",
              "4    466         697         444"
            ],
            "text/html": [
              "\n",
              "  <div id=\"df-fb3750e9-b64f-4fa6-b168-3c29a07949ef\">\n",
              "    <div class=\"colab-df-container\">\n",
              "      <div>\n",
              "<style scoped>\n",
              "    .dataframe tbody tr th:only-of-type {\n",
              "        vertical-align: middle;\n",
              "    }\n",
              "\n",
              "    .dataframe tbody tr th {\n",
              "        vertical-align: top;\n",
              "    }\n",
              "\n",
              "    .dataframe thead th {\n",
              "        text-align: right;\n",
              "    }\n",
              "</style>\n",
              "<table border=\"1\" class=\"dataframe\">\n",
              "  <thead>\n",
              "    <tr style=\"text-align: right;\">\n",
              "      <th></th>\n",
              "      <th>userId</th>\n",
              "      <th>positive_id</th>\n",
              "      <th>negative_id</th>\n",
              "    </tr>\n",
              "  </thead>\n",
              "  <tbody>\n",
              "    <tr>\n",
              "      <th>0</th>\n",
              "      <td>466</td>\n",
              "      <td>697</td>\n",
              "      <td>2773</td>\n",
              "    </tr>\n",
              "    <tr>\n",
              "      <th>1</th>\n",
              "      <td>466</td>\n",
              "      <td>697</td>\n",
              "      <td>2792</td>\n",
              "    </tr>\n",
              "    <tr>\n",
              "      <th>2</th>\n",
              "      <td>466</td>\n",
              "      <td>697</td>\n",
              "      <td>1357</td>\n",
              "    </tr>\n",
              "    <tr>\n",
              "      <th>3</th>\n",
              "      <td>466</td>\n",
              "      <td>697</td>\n",
              "      <td>621</td>\n",
              "    </tr>\n",
              "    <tr>\n",
              "      <th>4</th>\n",
              "      <td>466</td>\n",
              "      <td>697</td>\n",
              "      <td>444</td>\n",
              "    </tr>\n",
              "  </tbody>\n",
              "</table>\n",
              "</div>\n",
              "      <button class=\"colab-df-convert\" onclick=\"convertToInteractive('df-fb3750e9-b64f-4fa6-b168-3c29a07949ef')\"\n",
              "              title=\"Convert this dataframe to an interactive table.\"\n",
              "              style=\"display:none;\">\n",
              "        \n",
              "  <svg xmlns=\"http://www.w3.org/2000/svg\" height=\"24px\"viewBox=\"0 0 24 24\"\n",
              "       width=\"24px\">\n",
              "    <path d=\"M0 0h24v24H0V0z\" fill=\"none\"/>\n",
              "    <path d=\"M18.56 5.44l.94 2.06.94-2.06 2.06-.94-2.06-.94-.94-2.06-.94 2.06-2.06.94zm-11 1L8.5 8.5l.94-2.06 2.06-.94-2.06-.94L8.5 2.5l-.94 2.06-2.06.94zm10 10l.94 2.06.94-2.06 2.06-.94-2.06-.94-.94-2.06-.94 2.06-2.06.94z\"/><path d=\"M17.41 7.96l-1.37-1.37c-.4-.4-.92-.59-1.43-.59-.52 0-1.04.2-1.43.59L10.3 9.45l-7.72 7.72c-.78.78-.78 2.05 0 2.83L4 21.41c.39.39.9.59 1.41.59.51 0 1.02-.2 1.41-.59l7.78-7.78 2.81-2.81c.8-.78.8-2.07 0-2.86zM5.41 20L4 18.59l7.72-7.72 1.47 1.35L5.41 20z\"/>\n",
              "  </svg>\n",
              "      </button>\n",
              "      \n",
              "  <style>\n",
              "    .colab-df-container {\n",
              "      display:flex;\n",
              "      flex-wrap:wrap;\n",
              "      gap: 12px;\n",
              "    }\n",
              "\n",
              "    .colab-df-convert {\n",
              "      background-color: #E8F0FE;\n",
              "      border: none;\n",
              "      border-radius: 50%;\n",
              "      cursor: pointer;\n",
              "      display: none;\n",
              "      fill: #1967D2;\n",
              "      height: 32px;\n",
              "      padding: 0 0 0 0;\n",
              "      width: 32px;\n",
              "    }\n",
              "\n",
              "    .colab-df-convert:hover {\n",
              "      background-color: #E2EBFA;\n",
              "      box-shadow: 0px 1px 2px rgba(60, 64, 67, 0.3), 0px 1px 3px 1px rgba(60, 64, 67, 0.15);\n",
              "      fill: #174EA6;\n",
              "    }\n",
              "\n",
              "    [theme=dark] .colab-df-convert {\n",
              "      background-color: #3B4455;\n",
              "      fill: #D2E3FC;\n",
              "    }\n",
              "\n",
              "    [theme=dark] .colab-df-convert:hover {\n",
              "      background-color: #434B5C;\n",
              "      box-shadow: 0px 1px 3px 1px rgba(0, 0, 0, 0.15);\n",
              "      filter: drop-shadow(0px 1px 2px rgba(0, 0, 0, 0.3));\n",
              "      fill: #FFFFFF;\n",
              "    }\n",
              "  </style>\n",
              "\n",
              "      <script>\n",
              "        const buttonEl =\n",
              "          document.querySelector('#df-fb3750e9-b64f-4fa6-b168-3c29a07949ef button.colab-df-convert');\n",
              "        buttonEl.style.display =\n",
              "          google.colab.kernel.accessAllowed ? 'block' : 'none';\n",
              "\n",
              "        async function convertToInteractive(key) {\n",
              "          const element = document.querySelector('#df-fb3750e9-b64f-4fa6-b168-3c29a07949ef');\n",
              "          const dataTable =\n",
              "            await google.colab.kernel.invokeFunction('convertToInteractive',\n",
              "                                                     [key], {});\n",
              "          if (!dataTable) return;\n",
              "\n",
              "          const docLinkHtml = 'Like what you see? Visit the ' +\n",
              "            '<a target=\"_blank\" href=https://colab.research.google.com/notebooks/data_table.ipynb>data table notebook</a>'\n",
              "            + ' to learn more about interactive tables.';\n",
              "          element.innerHTML = '';\n",
              "          dataTable['output_type'] = 'display_data';\n",
              "          await google.colab.output.renderOutput(dataTable, element);\n",
              "          const docLink = document.createElement('div');\n",
              "          docLink.innerHTML = docLinkHtml;\n",
              "          element.appendChild(docLink);\n",
              "        }\n",
              "      </script>\n",
              "    </div>\n",
              "  </div>\n",
              "  "
            ]
          },
          "metadata": {},
          "execution_count": 23
        }
      ]
    },
    {
      "cell_type": "code",
      "source": [
        "# The assumption is that the recommendations should as many as possible high ranked movies \n",
        "# that a specific user has already watched.\n",
        "\n",
        "ground_truth_train = train_df[train_df.rating > 3].groupby('userId').item.agg(list).reset_index()\n",
        "\n",
        "ground_truth_train.head(1)"
      ],
      "metadata": {
        "colab": {
          "base_uri": "https://localhost:8080/",
          "height": 81
        },
        "id": "dFYzNYprAYoN",
        "outputId": "272f9d40-43f9-4b7a-be31-35b0e054f5bc"
      },
      "id": "dFYzNYprAYoN",
      "execution_count": 24,
      "outputs": [
        {
          "output_type": "execute_result",
          "data": {
            "text/plain": [
              "   userId                                               item\n",
              "0       0  [792, 2102, 719, 1599, 2012, 1683, 856, 2434, ..."
            ],
            "text/html": [
              "\n",
              "  <div id=\"df-0823b242-43df-4e89-90c5-8c56256e2c43\">\n",
              "    <div class=\"colab-df-container\">\n",
              "      <div>\n",
              "<style scoped>\n",
              "    .dataframe tbody tr th:only-of-type {\n",
              "        vertical-align: middle;\n",
              "    }\n",
              "\n",
              "    .dataframe tbody tr th {\n",
              "        vertical-align: top;\n",
              "    }\n",
              "\n",
              "    .dataframe thead th {\n",
              "        text-align: right;\n",
              "    }\n",
              "</style>\n",
              "<table border=\"1\" class=\"dataframe\">\n",
              "  <thead>\n",
              "    <tr style=\"text-align: right;\">\n",
              "      <th></th>\n",
              "      <th>userId</th>\n",
              "      <th>item</th>\n",
              "    </tr>\n",
              "  </thead>\n",
              "  <tbody>\n",
              "    <tr>\n",
              "      <th>0</th>\n",
              "      <td>0</td>\n",
              "      <td>[792, 2102, 719, 1599, 2012, 1683, 856, 2434, ...</td>\n",
              "    </tr>\n",
              "  </tbody>\n",
              "</table>\n",
              "</div>\n",
              "      <button class=\"colab-df-convert\" onclick=\"convertToInteractive('df-0823b242-43df-4e89-90c5-8c56256e2c43')\"\n",
              "              title=\"Convert this dataframe to an interactive table.\"\n",
              "              style=\"display:none;\">\n",
              "        \n",
              "  <svg xmlns=\"http://www.w3.org/2000/svg\" height=\"24px\"viewBox=\"0 0 24 24\"\n",
              "       width=\"24px\">\n",
              "    <path d=\"M0 0h24v24H0V0z\" fill=\"none\"/>\n",
              "    <path d=\"M18.56 5.44l.94 2.06.94-2.06 2.06-.94-2.06-.94-.94-2.06-.94 2.06-2.06.94zm-11 1L8.5 8.5l.94-2.06 2.06-.94-2.06-.94L8.5 2.5l-.94 2.06-2.06.94zm10 10l.94 2.06.94-2.06 2.06-.94-2.06-.94-.94-2.06-.94 2.06-2.06.94z\"/><path d=\"M17.41 7.96l-1.37-1.37c-.4-.4-.92-.59-1.43-.59-.52 0-1.04.2-1.43.59L10.3 9.45l-7.72 7.72c-.78.78-.78 2.05 0 2.83L4 21.41c.39.39.9.59 1.41.59.51 0 1.02-.2 1.41-.59l7.78-7.78 2.81-2.81c.8-.78.8-2.07 0-2.86zM5.41 20L4 18.59l7.72-7.72 1.47 1.35L5.41 20z\"/>\n",
              "  </svg>\n",
              "      </button>\n",
              "      \n",
              "  <style>\n",
              "    .colab-df-container {\n",
              "      display:flex;\n",
              "      flex-wrap:wrap;\n",
              "      gap: 12px;\n",
              "    }\n",
              "\n",
              "    .colab-df-convert {\n",
              "      background-color: #E8F0FE;\n",
              "      border: none;\n",
              "      border-radius: 50%;\n",
              "      cursor: pointer;\n",
              "      display: none;\n",
              "      fill: #1967D2;\n",
              "      height: 32px;\n",
              "      padding: 0 0 0 0;\n",
              "      width: 32px;\n",
              "    }\n",
              "\n",
              "    .colab-df-convert:hover {\n",
              "      background-color: #E2EBFA;\n",
              "      box-shadow: 0px 1px 2px rgba(60, 64, 67, 0.3), 0px 1px 3px 1px rgba(60, 64, 67, 0.15);\n",
              "      fill: #174EA6;\n",
              "    }\n",
              "\n",
              "    [theme=dark] .colab-df-convert {\n",
              "      background-color: #3B4455;\n",
              "      fill: #D2E3FC;\n",
              "    }\n",
              "\n",
              "    [theme=dark] .colab-df-convert:hover {\n",
              "      background-color: #434B5C;\n",
              "      box-shadow: 0px 1px 3px 1px rgba(0, 0, 0, 0.15);\n",
              "      filter: drop-shadow(0px 1px 2px rgba(0, 0, 0, 0.3));\n",
              "      fill: #FFFFFF;\n",
              "    }\n",
              "  </style>\n",
              "\n",
              "      <script>\n",
              "        const buttonEl =\n",
              "          document.querySelector('#df-0823b242-43df-4e89-90c5-8c56256e2c43 button.colab-df-convert');\n",
              "        buttonEl.style.display =\n",
              "          google.colab.kernel.accessAllowed ? 'block' : 'none';\n",
              "\n",
              "        async function convertToInteractive(key) {\n",
              "          const element = document.querySelector('#df-0823b242-43df-4e89-90c5-8c56256e2c43');\n",
              "          const dataTable =\n",
              "            await google.colab.kernel.invokeFunction('convertToInteractive',\n",
              "                                                     [key], {});\n",
              "          if (!dataTable) return;\n",
              "\n",
              "          const docLinkHtml = 'Like what you see? Visit the ' +\n",
              "            '<a target=\"_blank\" href=https://colab.research.google.com/notebooks/data_table.ipynb>data table notebook</a>'\n",
              "            + ' to learn more about interactive tables.';\n",
              "          element.innerHTML = '';\n",
              "          dataTable['output_type'] = 'display_data';\n",
              "          await google.colab.output.renderOutput(dataTable, element);\n",
              "          const docLink = document.createElement('div');\n",
              "          docLink.innerHTML = docLinkHtml;\n",
              "          element.appendChild(docLink);\n",
              "        }\n",
              "      </script>\n",
              "    </div>\n",
              "  </div>\n",
              "  "
            ]
          },
          "metadata": {},
          "execution_count": 24
        }
      ]
    },
    {
      "cell_type": "code",
      "source": [
        "ground_truth_test = test_df.groupby('userId').item.agg(list).reset_index()\n"
      ],
      "metadata": {
        "id": "zu8DRI6E_Vzy"
      },
      "id": "zu8DRI6E_Vzy",
      "execution_count": 25,
      "outputs": []
    },
    {
      "cell_type": "code",
      "source": [
        "ground_truth_test.head(4)"
      ],
      "metadata": {
        "colab": {
          "base_uri": "https://localhost:8080/",
          "height": 175
        },
        "id": "tkXsiKvHBD0j",
        "outputId": "8d704baa-214e-4418-efac-08901543d331"
      },
      "id": "tkXsiKvHBD0j",
      "execution_count": 26,
      "outputs": [
        {
          "output_type": "execute_result",
          "data": {
            "text/plain": [
              "   userId                                               item\n",
              "0       0  [2447, 635, 1980, 1617, 1530, 2496, 139, 1790,...\n",
              "1       1  [1866, 2425, 2437, 284, 2723, 2339, 78, 1066, ...\n",
              "2       2  [175, 1497, 296, 602, 2257, 72, 1450, 1939, 13...\n",
              "3       3  [1587, 2912, 280, 2649, 2884, 2842, 1376, 1730..."
            ],
            "text/html": [
              "\n",
              "  <div id=\"df-4009cd38-f2bb-4d8b-85a6-8b58ff4e1d14\">\n",
              "    <div class=\"colab-df-container\">\n",
              "      <div>\n",
              "<style scoped>\n",
              "    .dataframe tbody tr th:only-of-type {\n",
              "        vertical-align: middle;\n",
              "    }\n",
              "\n",
              "    .dataframe tbody tr th {\n",
              "        vertical-align: top;\n",
              "    }\n",
              "\n",
              "    .dataframe thead th {\n",
              "        text-align: right;\n",
              "    }\n",
              "</style>\n",
              "<table border=\"1\" class=\"dataframe\">\n",
              "  <thead>\n",
              "    <tr style=\"text-align: right;\">\n",
              "      <th></th>\n",
              "      <th>userId</th>\n",
              "      <th>item</th>\n",
              "    </tr>\n",
              "  </thead>\n",
              "  <tbody>\n",
              "    <tr>\n",
              "      <th>0</th>\n",
              "      <td>0</td>\n",
              "      <td>[2447, 635, 1980, 1617, 1530, 2496, 139, 1790,...</td>\n",
              "    </tr>\n",
              "    <tr>\n",
              "      <th>1</th>\n",
              "      <td>1</td>\n",
              "      <td>[1866, 2425, 2437, 284, 2723, 2339, 78, 1066, ...</td>\n",
              "    </tr>\n",
              "    <tr>\n",
              "      <th>2</th>\n",
              "      <td>2</td>\n",
              "      <td>[175, 1497, 296, 602, 2257, 72, 1450, 1939, 13...</td>\n",
              "    </tr>\n",
              "    <tr>\n",
              "      <th>3</th>\n",
              "      <td>3</td>\n",
              "      <td>[1587, 2912, 280, 2649, 2884, 2842, 1376, 1730...</td>\n",
              "    </tr>\n",
              "  </tbody>\n",
              "</table>\n",
              "</div>\n",
              "      <button class=\"colab-df-convert\" onclick=\"convertToInteractive('df-4009cd38-f2bb-4d8b-85a6-8b58ff4e1d14')\"\n",
              "              title=\"Convert this dataframe to an interactive table.\"\n",
              "              style=\"display:none;\">\n",
              "        \n",
              "  <svg xmlns=\"http://www.w3.org/2000/svg\" height=\"24px\"viewBox=\"0 0 24 24\"\n",
              "       width=\"24px\">\n",
              "    <path d=\"M0 0h24v24H0V0z\" fill=\"none\"/>\n",
              "    <path d=\"M18.56 5.44l.94 2.06.94-2.06 2.06-.94-2.06-.94-.94-2.06-.94 2.06-2.06.94zm-11 1L8.5 8.5l.94-2.06 2.06-.94-2.06-.94L8.5 2.5l-.94 2.06-2.06.94zm10 10l.94 2.06.94-2.06 2.06-.94-2.06-.94-.94-2.06-.94 2.06-2.06.94z\"/><path d=\"M17.41 7.96l-1.37-1.37c-.4-.4-.92-.59-1.43-.59-.52 0-1.04.2-1.43.59L10.3 9.45l-7.72 7.72c-.78.78-.78 2.05 0 2.83L4 21.41c.39.39.9.59 1.41.59.51 0 1.02-.2 1.41-.59l7.78-7.78 2.81-2.81c.8-.78.8-2.07 0-2.86zM5.41 20L4 18.59l7.72-7.72 1.47 1.35L5.41 20z\"/>\n",
              "  </svg>\n",
              "      </button>\n",
              "      \n",
              "  <style>\n",
              "    .colab-df-container {\n",
              "      display:flex;\n",
              "      flex-wrap:wrap;\n",
              "      gap: 12px;\n",
              "    }\n",
              "\n",
              "    .colab-df-convert {\n",
              "      background-color: #E8F0FE;\n",
              "      border: none;\n",
              "      border-radius: 50%;\n",
              "      cursor: pointer;\n",
              "      display: none;\n",
              "      fill: #1967D2;\n",
              "      height: 32px;\n",
              "      padding: 0 0 0 0;\n",
              "      width: 32px;\n",
              "    }\n",
              "\n",
              "    .colab-df-convert:hover {\n",
              "      background-color: #E2EBFA;\n",
              "      box-shadow: 0px 1px 2px rgba(60, 64, 67, 0.3), 0px 1px 3px 1px rgba(60, 64, 67, 0.15);\n",
              "      fill: #174EA6;\n",
              "    }\n",
              "\n",
              "    [theme=dark] .colab-df-convert {\n",
              "      background-color: #3B4455;\n",
              "      fill: #D2E3FC;\n",
              "    }\n",
              "\n",
              "    [theme=dark] .colab-df-convert:hover {\n",
              "      background-color: #434B5C;\n",
              "      box-shadow: 0px 1px 3px 1px rgba(0, 0, 0, 0.15);\n",
              "      filter: drop-shadow(0px 1px 2px rgba(0, 0, 0, 0.3));\n",
              "      fill: #FFFFFF;\n",
              "    }\n",
              "  </style>\n",
              "\n",
              "      <script>\n",
              "        const buttonEl =\n",
              "          document.querySelector('#df-4009cd38-f2bb-4d8b-85a6-8b58ff4e1d14 button.colab-df-convert');\n",
              "        buttonEl.style.display =\n",
              "          google.colab.kernel.accessAllowed ? 'block' : 'none';\n",
              "\n",
              "        async function convertToInteractive(key) {\n",
              "          const element = document.querySelector('#df-4009cd38-f2bb-4d8b-85a6-8b58ff4e1d14');\n",
              "          const dataTable =\n",
              "            await google.colab.kernel.invokeFunction('convertToInteractive',\n",
              "                                                     [key], {});\n",
              "          if (!dataTable) return;\n",
              "\n",
              "          const docLinkHtml = 'Like what you see? Visit the ' +\n",
              "            '<a target=\"_blank\" href=https://colab.research.google.com/notebooks/data_table.ipynb>data table notebook</a>'\n",
              "            + ' to learn more about interactive tables.';\n",
              "          element.innerHTML = '';\n",
              "          dataTable['output_type'] = 'display_data';\n",
              "          await google.colab.output.renderOutput(dataTable, element);\n",
              "          const docLink = document.createElement('div');\n",
              "          docLink.innerHTML = docLinkHtml;\n",
              "          element.appendChild(docLink);\n",
              "        }\n",
              "      </script>\n",
              "    </div>\n",
              "  </div>\n",
              "  "
            ]
          },
          "metadata": {},
          "execution_count": 26
        }
      ]
    },
    {
      "cell_type": "markdown",
      "source": [
        "### Build model"
      ],
      "metadata": {
        "id": "oyRABStTBopR"
      },
      "id": "oyRABStTBopR"
    },
    {
      "cell_type": "code",
      "source": [
        "num_users=len(set(list(rating_df.userId.unique()) ))\n",
        "num_items=len(set(list(rating_df.item.unique())))"
      ],
      "metadata": {
        "id": "ni0tjMBxOVQW"
      },
      "id": "ni0tjMBxOVQW",
      "execution_count": 27,
      "outputs": []
    },
    {
      "cell_type": "code",
      "source": [
        "num_users, num_items"
      ],
      "metadata": {
        "colab": {
          "base_uri": "https://localhost:8080/"
        },
        "id": "Ulg8ePqkB_KW",
        "outputId": "34de3280-3d25-4323-9e8b-3b61229d0ef1"
      },
      "id": "Ulg8ePqkB_KW",
      "execution_count": 28,
      "outputs": [
        {
          "output_type": "execute_result",
          "data": {
            "text/plain": [
              "(467, 2913)"
            ]
          },
          "metadata": {},
          "execution_count": 28
        }
      ]
    },
    {
      "cell_type": "code",
      "source": [
        "unique_item_ids = list(rating_df.item.unique())"
      ],
      "metadata": {
        "id": "GD-eXRVPCBQv"
      },
      "id": "GD-eXRVPCBQv",
      "execution_count": 29,
      "outputs": []
    },
    {
      "cell_type": "code",
      "source": [
        "def predict(model: Model, user_id: int, item_ids: list, user_layer='user_embedding', item_layer='item_embedding'):\n",
        "    \"\"\"\n",
        "    Prediction  by multiplying user vector by item matrix\n",
        "    \n",
        "    \"\"\"\n",
        "    user_vector = model.get_layer(user_layer).get_weights()[0][user_id]\n",
        "    item_matrix = model.get_layer(item_layer).get_weights()[0][item_ids]\n",
        "\n",
        "    scores = (np.dot(user_vector, item_matrix.T))\n",
        "\n",
        "    return scores"
      ],
      "metadata": {
        "id": "FGtezNBiCP0l"
      },
      "id": "FGtezNBiCP0l",
      "execution_count": 30,
      "outputs": []
    },
    {
      "cell_type": "code",
      "source": [
        "@tf.function\n",
        "def identity_loss(_, y_pred):\n",
        "    return tf.math.reduce_mean(y_pred)"
      ],
      "metadata": {
        "id": "VjcqdEkDCcmj"
      },
      "id": "VjcqdEkDCcmj",
      "execution_count": 31,
      "outputs": []
    },
    {
      "cell_type": "code",
      "source": [
        "@tf.function\n",
        "def bpr_loss(X: dict):\n",
        "    \"\"\"\n",
        "    Calculate triplet loss - as higher the difference between positive interactions\n",
        "    and negative interactions as better\n",
        "    \"\"\"\n",
        "    positive_item_latent, negative_item_latent, user_latent = X\n",
        "\n",
        "    positive_interactions = tf.math.reduce_sum(tf.math.multiply(user_latent, positive_item_latent), axis=-1, keepdims=True)\n",
        "    negative_interactions = tf.math.reduce_sum(tf.math.multiply(user_latent, negative_item_latent), axis=-1, keepdims=True)\n",
        "\n",
        "    return tf.math.subtract(tf.constant(1.0), tf.sigmoid(tf.math.subtract(positive_interactions, negative_interactions)))"
      ],
      "metadata": {
        "id": "V_bA2gKcCgCJ"
      },
      "id": "V_bA2gKcCgCJ",
      "execution_count": 32,
      "outputs": []
    },
    {
      "cell_type": "code",
      "source": [
        "def out_shape(shapes):\n",
        "    return shapes[0]\n",
        "    \n",
        "\n",
        "def build_model(num_users: int, num_items: int, latent_dim: int) -> Model:\n",
        "    \"\"\"\n",
        "    Build a model for Bayesian personalized ranking\n",
        "\n",
        "    :param num_users: a number of the unique users\n",
        "    :param num_items: a number of the unique movies\n",
        "    :param latent_dim: vector length for the latent representation\n",
        "    :return: Model\n",
        "    \"\"\"\n",
        "    user_input = Input((1,), name='user_input')\n",
        "\n",
        "    positive_item_input = Input((1,), name='positive_item_input')\n",
        "    negative_item_input = Input((1,), name='negative_item_input')\n",
        "    # One embedding layer is shared between positive and negative items\n",
        "    item_embedding_layer = Embedding(num_items, latent_dim, name='item_embedding', input_length=1)\n",
        "\n",
        "    positive_item_embedding = Flatten()(item_embedding_layer(positive_item_input))\n",
        "    negative_item_embedding = Flatten()(item_embedding_layer(negative_item_input))\n",
        "\n",
        "    user_embedding = Embedding(num_users, latent_dim, name='user_embedding', input_length=1)(user_input)\n",
        "    user_embedding = Flatten()(user_embedding)\n",
        "\n",
        "    triplet_loss = Lambda(bpr_loss, output_shape=out_shape)([positive_item_embedding,\n",
        "                                                             negative_item_embedding,\n",
        "                                                             user_embedding])\n",
        "\n",
        "    model = Model(inputs=[positive_item_input, negative_item_input, user_input], outputs=triplet_loss)\n",
        "\n",
        "    return model"
      ],
      "metadata": {
        "id": "eLUkpmmxCk9y"
      },
      "id": "eLUkpmmxCk9y",
      "execution_count": 33,
      "outputs": []
    },
    {
      "cell_type": "code",
      "source": [
        "latent_dim = 256\n",
        "batch_size = 256\n",
        "num_epochs = 4\n",
        "lr = 0.001\n",
        "\n",
        "model = build_model(num_users, num_items, latent_dim)\n",
        "model.compile(loss=identity_loss, optimizer=Adam(learning_rate=lr))"
      ],
      "metadata": {
        "id": "z3SRRfZvC2vA"
      },
      "id": "z3SRRfZvC2vA",
      "execution_count": 34,
      "outputs": []
    },
    {
      "cell_type": "code",
      "source": [
        "trainable_count = np.sum([K.count_params(w) for w in model.trainable_weights])\n",
        "non_trainable_count = np.sum([K.count_params(w) for w in model.non_trainable_weights])\n",
        "\n",
        "print('Total number of parameters: {:,}'.format(trainable_count + non_trainable_count))\n",
        "print('Trainable number of parameters: {:,}'.format(trainable_count))\n",
        "print('Non-trainable number of parameters: {:,}'.format(non_trainable_count))\n",
        "\n",
        "print('Training data length: {:,}'.format(df_triplest.shape[0]))"
      ],
      "metadata": {
        "colab": {
          "base_uri": "https://localhost:8080/"
        },
        "id": "5Uf2JL33C8z2",
        "outputId": "bb3a607c-90b4-4b6d-f09c-e2985e90db7a"
      },
      "id": "5Uf2JL33C8z2",
      "execution_count": 35,
      "outputs": [
        {
          "output_type": "stream",
          "name": "stdout",
          "text": [
            "Total number of parameters: 865,280.0\n",
            "Trainable number of parameters: 865,280\n",
            "Non-trainable number of parameters: 0.0\n",
            "Training data length: 256,613\n"
          ]
        }
      ]
    },
    {
      "cell_type": "code",
      "source": [
        "\n",
        "\n",
        "X = {\n",
        "    'user_input': tf.convert_to_tensor(np.asarray(df_triplest.userId).astype(np.float32)),\n",
        "    'positive_item_input': tf.convert_to_tensor(np.asarray(df_triplest.positive_id).astype(np.float32)),\n",
        "    'negative_item_input': tf.convert_to_tensor(np.asarray(df_triplest.negative_id).astype(np.float32))\n",
        "}\n",
        "\n",
        "model.fit(X, \n",
        "          tf.ones(df_triplest.shape[0]), \n",
        "          batch_size=batch_size,\n",
        "          epochs=num_epochs)\n",
        "\n",
        "# model.save(path.join(DIR_MODEL, 'model.h5'))"
      ],
      "metadata": {
        "colab": {
          "base_uri": "https://localhost:8080/"
        },
        "id": "ISd6sHfCDArA",
        "outputId": "6aa48612-9097-45a4-d19f-89d2c8136c5f"
      },
      "id": "ISd6sHfCDArA",
      "execution_count": 36,
      "outputs": [
        {
          "output_type": "stream",
          "name": "stdout",
          "text": [
            "Epoch 1/4\n",
            "1003/1003 [==============================] - 5s 4ms/step - loss: 0.0939\n",
            "Epoch 2/4\n",
            "1003/1003 [==============================] - 4s 4ms/step - loss: 0.0015\n",
            "Epoch 3/4\n",
            "1003/1003 [==============================] - 3s 3ms/step - loss: 3.9837e-04\n",
            "Epoch 4/4\n",
            "1003/1003 [==============================] - 3s 3ms/step - loss: 1.6462e-04\n"
          ]
        },
        {
          "output_type": "execute_result",
          "data": {
            "text/plain": [
              "<keras.callbacks.History at 0x7efcba74da50>"
            ]
          },
          "metadata": {},
          "execution_count": 36
        }
      ]
    },
    {
      "cell_type": "code",
      "source": [
        "from collections import OrderedDict\n",
        "from typing import Dict"
      ],
      "metadata": {
        "id": "tV_OPPBnESrI"
      },
      "id": "tV_OPPBnESrI",
      "execution_count": 37,
      "outputs": []
    },
    {
      "cell_type": "code",
      "source": [
        "def full_auc(model: Model, ground_truth: Dict[int, list], items: list) -> float:\n",
        "    \"\"\"\n",
        "    Measure AUC for model and ground truth for all items\n",
        "    \n",
        "    \"\"\"\n",
        "\n",
        "    number_of_items = len(items)\n",
        "    scores = []\n",
        "\n",
        "    for user_id, true_item_ids in ground_truth:\n",
        "        predictions = predict(model, user_id, items)\n",
        "        grnd = np.zeros(number_of_items, dtype=np.int32)\n",
        "\n",
        "        for p in true_item_ids:\n",
        "            index = items.index(p)\n",
        "            grnd[index] = 1\n",
        "\n",
        "        if true_item_ids:\n",
        "            scores.append(roc_auc_score(grnd, predictions))\n",
        "\n",
        "    return sum(scores) / len(scores)"
      ],
      "metadata": {
        "id": "ixoL3j4rEEs2"
      },
      "id": "ixoL3j4rEEs2",
      "execution_count": 38,
      "outputs": []
    },
    {
      "cell_type": "code",
      "source": [
        "def mean_average_precision_k(model: Model, \n",
        "                           ground_truth: Dict[int, list], \n",
        "                           items: list, \n",
        "                           k=25) -> float:\n",
        "    \"\"\"\n",
        "    Calculate mean eavarage precission per user\n",
        "    \n",
        "    \"\"\"\n",
        "    scores = []\n",
        "\n",
        "    for user, actual in ground_truth:\n",
        "        predictions = predict(model, user, items)\n",
        "        predictions = dict(zip(items, predictions))\n",
        "        predictions = sorted(predictions.items(), key=lambda kv: kv[1], reverse=True)[:k]\n",
        "        predictions = list(OrderedDict(predictions).keys())\n",
        "\n",
        "        score = 0.0\n",
        "        num_hits = 0.0\n",
        "\n",
        "        for i, p in enumerate(predictions):\n",
        "            if p in actual:\n",
        "                num_hits += 1.0\n",
        "                score += num_hits / (i + 1.0)\n",
        "\n",
        "        score = score / min(len(actual), k)\n",
        "        scores.append(score)\n",
        "\n",
        "    return np.mean(scores)"
      ],
      "metadata": {
        "id": "zT21-ZWuEWkv"
      },
      "id": "zT21-ZWuEWkv",
      "execution_count": 39,
      "outputs": []
    },
    {
      "cell_type": "code",
      "source": [
        "def hitrate(model: Model, \n",
        "                           ground_truth: Dict[int, list], \n",
        "                           items: list, \n",
        "                           k=25) -> float:\n",
        "    \"\"\"\n",
        "    Calculate mean eavarage precission per user\n",
        "    \n",
        "    \"\"\"\n",
        "    total=0\n",
        "    hit=0\n",
        "\n",
        "    for user, actual in ground_truth:\n",
        "        predictions = predict(model, user, items)\n",
        "        predictions = dict(zip(items, predictions))\n",
        "        predictions = sorted(predictions.items(), key=lambda kv: kv[1], reverse=True)[:k]\n",
        "        predictions = list(OrderedDict(predictions).keys())\n",
        "\n",
        "        total+=1\n",
        "\n",
        "        for i, p in enumerate(predictions):\n",
        "            if p in actual:\n",
        "                   hit += 1\n",
        "                   break\n",
        "\n",
        "        \n",
        "\n",
        "    return  hit/total"
      ],
      "metadata": {
        "id": "Xp6Pn8LsGlB3"
      },
      "id": "Xp6Pn8LsGlB3",
      "execution_count": 40,
      "outputs": []
    },
    {
      "cell_type": "markdown",
      "source": [
        "### Train"
      ],
      "metadata": {
        "id": "s8UQ90UsEaS-"
      },
      "id": "s8UQ90UsEaS-"
    },
    {
      "cell_type": "code",
      "source": [
        "print(f'AUC train: {full_auc(model, ground_truth_train.values, unique_item_ids)}')"
      ],
      "metadata": {
        "colab": {
          "base_uri": "https://localhost:8080/"
        },
        "id": "BzLQuwfNEaDZ",
        "outputId": "fc252734-27ad-4fdf-dcaf-f7b5347cf69e"
      },
      "id": "BzLQuwfNEaDZ",
      "execution_count": 41,
      "outputs": [
        {
          "output_type": "stream",
          "name": "stdout",
          "text": [
            "AUC train: 0.7355385263571649\n"
          ]
        }
      ]
    },
    {
      "cell_type": "code",
      "source": [
        "print(f'Mean average precision train: {mean_average_precision_k(model, ground_truth_train.values, unique_item_ids)}')"
      ],
      "metadata": {
        "colab": {
          "base_uri": "https://localhost:8080/"
        },
        "id": "lR4nLYHFEkz_",
        "outputId": "3c327aba-e9bf-4654-cf01-d06e27e24a65"
      },
      "id": "lR4nLYHFEkz_",
      "execution_count": 42,
      "outputs": [
        {
          "output_type": "stream",
          "name": "stdout",
          "text": [
            "Mean average precision train: 0.16499566132755733\n"
          ]
        }
      ]
    },
    {
      "cell_type": "code",
      "source": [
        "print(f'Hit rate train: {hitrate(model, ground_truth_train.values, unique_item_ids)}')"
      ],
      "metadata": {
        "colab": {
          "base_uri": "https://localhost:8080/"
        },
        "id": "WWw2kahIHDJ1",
        "outputId": "6a33d1a5-6c22-49ef-c42b-a270822a5604"
      },
      "id": "WWw2kahIHDJ1",
      "execution_count": 43,
      "outputs": [
        {
          "output_type": "stream",
          "name": "stdout",
          "text": [
            "Hit rate train: 0.8843683083511777\n"
          ]
        }
      ]
    },
    {
      "cell_type": "markdown",
      "source": [
        "### Test"
      ],
      "metadata": {
        "id": "Cvt2ZtZdFdjH"
      },
      "id": "Cvt2ZtZdFdjH"
    },
    {
      "cell_type": "code",
      "source": [
        "print(f'AUC test: {full_auc(model, ground_truth_test.values, unique_item_ids)}')"
      ],
      "metadata": {
        "colab": {
          "base_uri": "https://localhost:8080/"
        },
        "id": "Pa9EkxUXFgBm",
        "outputId": "c0eb3238-e39e-472c-faa9-d7f6a3ebc3e4"
      },
      "id": "Pa9EkxUXFgBm",
      "execution_count": 44,
      "outputs": [
        {
          "output_type": "stream",
          "name": "stdout",
          "text": [
            "AUC test: 0.49460130818611847\n"
          ]
        }
      ]
    },
    {
      "cell_type": "code",
      "source": [
        "print(f'Mean average precision test: {mean_average_precision_k(model, ground_truth_test.values, unique_item_ids)}')"
      ],
      "metadata": {
        "colab": {
          "base_uri": "https://localhost:8080/"
        },
        "id": "WUywlOmlFkP_",
        "outputId": "4872f452-5ef5-420c-8b6f-3c545d002fe7"
      },
      "id": "WUywlOmlFkP_",
      "execution_count": 45,
      "outputs": [
        {
          "output_type": "stream",
          "name": "stdout",
          "text": [
            "Mean average precision test: 0.0014603436270502986\n"
          ]
        }
      ]
    },
    {
      "cell_type": "code",
      "source": [
        "print(f'Hit rate test: {hitrate(model, ground_truth_test.values, unique_item_ids)}')"
      ],
      "metadata": {
        "colab": {
          "base_uri": "https://localhost:8080/"
        },
        "id": "XhOOm0vAG-53",
        "outputId": "91e59161-446e-4e97-8133-c0136aced99f"
      },
      "id": "XhOOm0vAG-53",
      "execution_count": 46,
      "outputs": [
        {
          "output_type": "stream",
          "name": "stdout",
          "text": [
            "Hit rate test: 0.19700214132762311\n"
          ]
        }
      ]
    }
  ],
  "metadata": {
    "accelerator": "GPU",
    "colab": {
      "collapsed_sections": [],
      "name": "Food.com_Bayesian Personalized Ranking.ipynb",
      "provenance": [],
      "machine_shape": "hm"
    },
    "gpuClass": "standard",
    "kernelspec": {
      "display_name": "Python 3",
      "language": "python",
      "name": "python3"
    },
    "language_info": {
      "codemirror_mode": {
        "name": "ipython",
        "version": 3
      },
      "file_extension": ".py",
      "mimetype": "text/x-python",
      "name": "python",
      "nbconvert_exporter": "python",
      "pygments_lexer": "ipython3",
      "version": "3.6.5"
    }
  },
  "nbformat": 4,
  "nbformat_minor": 5
}
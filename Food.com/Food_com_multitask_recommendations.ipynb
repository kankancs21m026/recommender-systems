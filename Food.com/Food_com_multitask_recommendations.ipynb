{
  "cells": [
    {
      "cell_type": "code",
      "execution_count": 1,
      "id": "84eddad3",
      "metadata": {
        "id": "84eddad3"
      },
      "outputs": [],
      "source": [
        "from datetime import datetime\n",
        "import os\n",
        "import matplotlib\n",
        "import pandas as pd\n",
        "import numpy as np\n",
        "import matplotlib.pyplot as plt\n",
        "import seaborn as sns\n",
        "sns.set_style('whitegrid')\n",
        "\n",
        "from scipy import sparse\n",
        "from scipy.sparse import csc_matrix\n",
        "from sklearn.decomposition import TruncatedSVD\n",
        "\n",
        "np.random.seed(0)"
      ]
    },
    {
      "cell_type": "markdown",
      "id": "85495bf1",
      "metadata": {
        "id": "85495bf1"
      },
      "source": [
        "### Food.com   Dataset\n",
        "- https://www.kaggle.com/datasets/shuyangli94/food-com-recipes-and-user-interactions\n",
        "- https://aclanthology.org/D19-1613/"
      ]
    },
    {
      "cell_type": "code",
      "source": [
        "!pip install gdown"
      ],
      "metadata": {
        "id": "3mSlGMHVpAt_",
        "colab": {
          "base_uri": "https://localhost:8080/"
        },
        "outputId": "0f5e9059-1e70-4667-a425-593f55c9cd77"
      },
      "id": "3mSlGMHVpAt_",
      "execution_count": 2,
      "outputs": [
        {
          "output_type": "stream",
          "name": "stdout",
          "text": [
            "Looking in indexes: https://pypi.org/simple, https://us-python.pkg.dev/colab-wheels/public/simple/\n",
            "Requirement already satisfied: gdown in /usr/local/lib/python3.7/dist-packages (4.4.0)\n",
            "Requirement already satisfied: filelock in /usr/local/lib/python3.7/dist-packages (from gdown) (3.7.1)\n",
            "Requirement already satisfied: requests[socks] in /usr/local/lib/python3.7/dist-packages (from gdown) (2.23.0)\n",
            "Requirement already satisfied: beautifulsoup4 in /usr/local/lib/python3.7/dist-packages (from gdown) (4.6.3)\n",
            "Requirement already satisfied: tqdm in /usr/local/lib/python3.7/dist-packages (from gdown) (4.64.0)\n",
            "Requirement already satisfied: six in /usr/local/lib/python3.7/dist-packages (from gdown) (1.15.0)\n",
            "Requirement already satisfied: idna<3,>=2.5 in /usr/local/lib/python3.7/dist-packages (from requests[socks]->gdown) (2.10)\n",
            "Requirement already satisfied: chardet<4,>=3.0.2 in /usr/local/lib/python3.7/dist-packages (from requests[socks]->gdown) (3.0.4)\n",
            "Requirement already satisfied: certifi>=2017.4.17 in /usr/local/lib/python3.7/dist-packages (from requests[socks]->gdown) (2022.6.15)\n",
            "Requirement already satisfied: urllib3!=1.25.0,!=1.25.1,<1.26,>=1.21.1 in /usr/local/lib/python3.7/dist-packages (from requests[socks]->gdown) (1.24.3)\n",
            "Requirement already satisfied: PySocks!=1.5.7,>=1.5.6 in /usr/local/lib/python3.7/dist-packages (from requests[socks]->gdown) (1.7.1)\n"
          ]
        }
      ]
    },
    {
      "cell_type": "code",
      "source": [
        "!gdown https://drive.google.com/uc?id=1dK__rulbUEGU_m68RIK7Qevc7pcpOIme\n",
        "!gdown https://drive.google.com/uc?id=1dN-wpxE3V8yNVKPByHReEaswl9UNV9wj"
      ],
      "metadata": {
        "colab": {
          "base_uri": "https://localhost:8080/"
        },
        "id": "JN6L-XVUpDB3",
        "outputId": "01b558d2-8037-4e65-ca9f-a445f964184f"
      },
      "id": "JN6L-XVUpDB3",
      "execution_count": 3,
      "outputs": [
        {
          "output_type": "stream",
          "name": "stdout",
          "text": [
            "Downloading...\n",
            "From: https://drive.google.com/uc?id=1dK__rulbUEGU_m68RIK7Qevc7pcpOIme\n",
            "To: /content/RAW_recipes.csv\n",
            "100% 295M/295M [00:01<00:00, 162MB/s]\n",
            "Downloading...\n",
            "From: https://drive.google.com/uc?id=1dN-wpxE3V8yNVKPByHReEaswl9UNV9wj\n",
            "To: /content/RAW_interactions.csv\n",
            "100% 349M/349M [00:02<00:00, 156MB/s]\n"
          ]
        }
      ]
    },
    {
      "cell_type": "code",
      "execution_count": 45,
      "id": "3fb6d6a6",
      "metadata": {
        "id": "3fb6d6a6",
        "outputId": "8131757b-3426-4995-fa5f-e27483730629",
        "colab": {
          "base_uri": "https://localhost:8080/",
          "height": 206
        }
      },
      "outputs": [
        {
          "output_type": "execute_result",
          "data": {
            "text/plain": [
              "   user_id  recipe_id        date  rating  \\\n",
              "0    38094      40893  2003-02-17       4   \n",
              "1  1293707      40893  2011-12-21       5   \n",
              "2     8937      44394  2002-12-01       4   \n",
              "3   126440      85009  2010-02-27       5   \n",
              "4    57222      85009  2011-10-01       5   \n",
              "\n",
              "                                              review  \n",
              "0  Great with a salad. Cooked on top of stove for...  \n",
              "1  So simple, so delicious! Great for chilly fall...  \n",
              "2  This worked very well and is EASY.  I used not...  \n",
              "3  I made the Mexican topping and took it to bunk...  \n",
              "4  Made the cheddar bacon topping, adding a sprin...  "
            ],
            "text/html": [
              "\n",
              "  <div id=\"df-d2b9a788-2db2-47df-ba58-cfcb68528f25\">\n",
              "    <div class=\"colab-df-container\">\n",
              "      <div>\n",
              "<style scoped>\n",
              "    .dataframe tbody tr th:only-of-type {\n",
              "        vertical-align: middle;\n",
              "    }\n",
              "\n",
              "    .dataframe tbody tr th {\n",
              "        vertical-align: top;\n",
              "    }\n",
              "\n",
              "    .dataframe thead th {\n",
              "        text-align: right;\n",
              "    }\n",
              "</style>\n",
              "<table border=\"1\" class=\"dataframe\">\n",
              "  <thead>\n",
              "    <tr style=\"text-align: right;\">\n",
              "      <th></th>\n",
              "      <th>user_id</th>\n",
              "      <th>recipe_id</th>\n",
              "      <th>date</th>\n",
              "      <th>rating</th>\n",
              "      <th>review</th>\n",
              "    </tr>\n",
              "  </thead>\n",
              "  <tbody>\n",
              "    <tr>\n",
              "      <th>0</th>\n",
              "      <td>38094</td>\n",
              "      <td>40893</td>\n",
              "      <td>2003-02-17</td>\n",
              "      <td>4</td>\n",
              "      <td>Great with a salad. Cooked on top of stove for...</td>\n",
              "    </tr>\n",
              "    <tr>\n",
              "      <th>1</th>\n",
              "      <td>1293707</td>\n",
              "      <td>40893</td>\n",
              "      <td>2011-12-21</td>\n",
              "      <td>5</td>\n",
              "      <td>So simple, so delicious! Great for chilly fall...</td>\n",
              "    </tr>\n",
              "    <tr>\n",
              "      <th>2</th>\n",
              "      <td>8937</td>\n",
              "      <td>44394</td>\n",
              "      <td>2002-12-01</td>\n",
              "      <td>4</td>\n",
              "      <td>This worked very well and is EASY.  I used not...</td>\n",
              "    </tr>\n",
              "    <tr>\n",
              "      <th>3</th>\n",
              "      <td>126440</td>\n",
              "      <td>85009</td>\n",
              "      <td>2010-02-27</td>\n",
              "      <td>5</td>\n",
              "      <td>I made the Mexican topping and took it to bunk...</td>\n",
              "    </tr>\n",
              "    <tr>\n",
              "      <th>4</th>\n",
              "      <td>57222</td>\n",
              "      <td>85009</td>\n",
              "      <td>2011-10-01</td>\n",
              "      <td>5</td>\n",
              "      <td>Made the cheddar bacon topping, adding a sprin...</td>\n",
              "    </tr>\n",
              "  </tbody>\n",
              "</table>\n",
              "</div>\n",
              "      <button class=\"colab-df-convert\" onclick=\"convertToInteractive('df-d2b9a788-2db2-47df-ba58-cfcb68528f25')\"\n",
              "              title=\"Convert this dataframe to an interactive table.\"\n",
              "              style=\"display:none;\">\n",
              "        \n",
              "  <svg xmlns=\"http://www.w3.org/2000/svg\" height=\"24px\"viewBox=\"0 0 24 24\"\n",
              "       width=\"24px\">\n",
              "    <path d=\"M0 0h24v24H0V0z\" fill=\"none\"/>\n",
              "    <path d=\"M18.56 5.44l.94 2.06.94-2.06 2.06-.94-2.06-.94-.94-2.06-.94 2.06-2.06.94zm-11 1L8.5 8.5l.94-2.06 2.06-.94-2.06-.94L8.5 2.5l-.94 2.06-2.06.94zm10 10l.94 2.06.94-2.06 2.06-.94-2.06-.94-.94-2.06-.94 2.06-2.06.94z\"/><path d=\"M17.41 7.96l-1.37-1.37c-.4-.4-.92-.59-1.43-.59-.52 0-1.04.2-1.43.59L10.3 9.45l-7.72 7.72c-.78.78-.78 2.05 0 2.83L4 21.41c.39.39.9.59 1.41.59.51 0 1.02-.2 1.41-.59l7.78-7.78 2.81-2.81c.8-.78.8-2.07 0-2.86zM5.41 20L4 18.59l7.72-7.72 1.47 1.35L5.41 20z\"/>\n",
              "  </svg>\n",
              "      </button>\n",
              "      \n",
              "  <style>\n",
              "    .colab-df-container {\n",
              "      display:flex;\n",
              "      flex-wrap:wrap;\n",
              "      gap: 12px;\n",
              "    }\n",
              "\n",
              "    .colab-df-convert {\n",
              "      background-color: #E8F0FE;\n",
              "      border: none;\n",
              "      border-radius: 50%;\n",
              "      cursor: pointer;\n",
              "      display: none;\n",
              "      fill: #1967D2;\n",
              "      height: 32px;\n",
              "      padding: 0 0 0 0;\n",
              "      width: 32px;\n",
              "    }\n",
              "\n",
              "    .colab-df-convert:hover {\n",
              "      background-color: #E2EBFA;\n",
              "      box-shadow: 0px 1px 2px rgba(60, 64, 67, 0.3), 0px 1px 3px 1px rgba(60, 64, 67, 0.15);\n",
              "      fill: #174EA6;\n",
              "    }\n",
              "\n",
              "    [theme=dark] .colab-df-convert {\n",
              "      background-color: #3B4455;\n",
              "      fill: #D2E3FC;\n",
              "    }\n",
              "\n",
              "    [theme=dark] .colab-df-convert:hover {\n",
              "      background-color: #434B5C;\n",
              "      box-shadow: 0px 1px 3px 1px rgba(0, 0, 0, 0.15);\n",
              "      filter: drop-shadow(0px 1px 2px rgba(0, 0, 0, 0.3));\n",
              "      fill: #FFFFFF;\n",
              "    }\n",
              "  </style>\n",
              "\n",
              "      <script>\n",
              "        const buttonEl =\n",
              "          document.querySelector('#df-d2b9a788-2db2-47df-ba58-cfcb68528f25 button.colab-df-convert');\n",
              "        buttonEl.style.display =\n",
              "          google.colab.kernel.accessAllowed ? 'block' : 'none';\n",
              "\n",
              "        async function convertToInteractive(key) {\n",
              "          const element = document.querySelector('#df-d2b9a788-2db2-47df-ba58-cfcb68528f25');\n",
              "          const dataTable =\n",
              "            await google.colab.kernel.invokeFunction('convertToInteractive',\n",
              "                                                     [key], {});\n",
              "          if (!dataTable) return;\n",
              "\n",
              "          const docLinkHtml = 'Like what you see? Visit the ' +\n",
              "            '<a target=\"_blank\" href=https://colab.research.google.com/notebooks/data_table.ipynb>data table notebook</a>'\n",
              "            + ' to learn more about interactive tables.';\n",
              "          element.innerHTML = '';\n",
              "          dataTable['output_type'] = 'display_data';\n",
              "          await google.colab.output.renderOutput(dataTable, element);\n",
              "          const docLink = document.createElement('div');\n",
              "          docLink.innerHTML = docLinkHtml;\n",
              "          element.appendChild(docLink);\n",
              "        }\n",
              "      </script>\n",
              "    </div>\n",
              "  </div>\n",
              "  "
            ]
          },
          "metadata": {},
          "execution_count": 45
        }
      ],
      "source": [
        "raw_interactions_df = pd.read_csv('RAW_interactions.csv')\n",
        "raw_interactions_df['review']= raw_interactions_df['review'].astype(str)\n",
        "raw_interactions_df.head(5)"
      ]
    },
    {
      "cell_type": "code",
      "execution_count": 46,
      "id": "4d90b4b9",
      "metadata": {
        "id": "4d90b4b9",
        "outputId": "0c595e12-fa40-4555-90e3-e4b5dadd47aa",
        "colab": {
          "base_uri": "https://localhost:8080/",
          "height": 634
        }
      },
      "outputs": [
        {
          "output_type": "execute_result",
          "data": {
            "text/plain": [
              "                                         name      id  minutes  \\\n",
              "0  arriba   baked winter squash mexican style  137739       55   \n",
              "1            a bit different  breakfast pizza   31490       30   \n",
              "2                   all in the kitchen  chili  112140      130   \n",
              "3                          alouette  potatoes   59389       45   \n",
              "4          amish  tomato ketchup  for canning   44061      190   \n",
              "\n",
              "   contributor_id   submitted  \\\n",
              "0           47892  2005-09-16   \n",
              "1           26278  2002-06-17   \n",
              "2          196586  2005-02-25   \n",
              "3           68585  2003-04-14   \n",
              "4           41706  2002-10-25   \n",
              "\n",
              "                                                tags  \\\n",
              "0  ['60-minutes-or-less', 'time-to-make', 'course...   \n",
              "1  ['30-minutes-or-less', 'time-to-make', 'course...   \n",
              "2  ['time-to-make', 'course', 'preparation', 'mai...   \n",
              "3  ['60-minutes-or-less', 'time-to-make', 'course...   \n",
              "4  ['weeknight', 'time-to-make', 'course', 'main-...   \n",
              "\n",
              "                                    nutrition  n_steps  \\\n",
              "0       [51.5, 0.0, 13.0, 0.0, 2.0, 0.0, 4.0]       11   \n",
              "1   [173.4, 18.0, 0.0, 17.0, 22.0, 35.0, 1.0]        9   \n",
              "2  [269.8, 22.0, 32.0, 48.0, 39.0, 27.0, 5.0]        6   \n",
              "3   [368.1, 17.0, 10.0, 2.0, 14.0, 8.0, 20.0]       11   \n",
              "4   [352.9, 1.0, 337.0, 23.0, 3.0, 0.0, 28.0]        5   \n",
              "\n",
              "                                               steps  \\\n",
              "0  ['make a choice and proceed with recipe', 'dep...   \n",
              "1  ['preheat oven to 425 degrees f', 'press dough...   \n",
              "2  ['brown ground beef in large pot', 'add choppe...   \n",
              "3  ['place potatoes in a large pot of lightly sal...   \n",
              "4  ['mix all ingredients& boil for 2 1 / 2 hours ...   \n",
              "\n",
              "                                         description  \\\n",
              "0  autumn is my favorite time of year to cook! th...   \n",
              "1  this recipe calls for the crust to be prebaked...   \n",
              "2  this modified version of 'mom's' chili was a h...   \n",
              "3  this is a super easy, great tasting, make ahea...   \n",
              "4  my dh's amish mother raised him on this recipe...   \n",
              "\n",
              "                                         ingredients  n_ingredients  \n",
              "0  ['winter squash', 'mexican seasoning', 'mixed ...              7  \n",
              "1  ['prepared pizza crust', 'sausage patty', 'egg...              6  \n",
              "2  ['ground beef', 'yellow onions', 'diced tomato...             13  \n",
              "3  ['spreadable cheese with garlic and herbs', 'n...             11  \n",
              "4  ['tomato juice', 'apple cider vinegar', 'sugar...              8  "
            ],
            "text/html": [
              "\n",
              "  <div id=\"df-49804fc3-2e33-41e2-8cae-8a6ea5d56e60\">\n",
              "    <div class=\"colab-df-container\">\n",
              "      <div>\n",
              "<style scoped>\n",
              "    .dataframe tbody tr th:only-of-type {\n",
              "        vertical-align: middle;\n",
              "    }\n",
              "\n",
              "    .dataframe tbody tr th {\n",
              "        vertical-align: top;\n",
              "    }\n",
              "\n",
              "    .dataframe thead th {\n",
              "        text-align: right;\n",
              "    }\n",
              "</style>\n",
              "<table border=\"1\" class=\"dataframe\">\n",
              "  <thead>\n",
              "    <tr style=\"text-align: right;\">\n",
              "      <th></th>\n",
              "      <th>name</th>\n",
              "      <th>id</th>\n",
              "      <th>minutes</th>\n",
              "      <th>contributor_id</th>\n",
              "      <th>submitted</th>\n",
              "      <th>tags</th>\n",
              "      <th>nutrition</th>\n",
              "      <th>n_steps</th>\n",
              "      <th>steps</th>\n",
              "      <th>description</th>\n",
              "      <th>ingredients</th>\n",
              "      <th>n_ingredients</th>\n",
              "    </tr>\n",
              "  </thead>\n",
              "  <tbody>\n",
              "    <tr>\n",
              "      <th>0</th>\n",
              "      <td>arriba   baked winter squash mexican style</td>\n",
              "      <td>137739</td>\n",
              "      <td>55</td>\n",
              "      <td>47892</td>\n",
              "      <td>2005-09-16</td>\n",
              "      <td>['60-minutes-or-less', 'time-to-make', 'course...</td>\n",
              "      <td>[51.5, 0.0, 13.0, 0.0, 2.0, 0.0, 4.0]</td>\n",
              "      <td>11</td>\n",
              "      <td>['make a choice and proceed with recipe', 'dep...</td>\n",
              "      <td>autumn is my favorite time of year to cook! th...</td>\n",
              "      <td>['winter squash', 'mexican seasoning', 'mixed ...</td>\n",
              "      <td>7</td>\n",
              "    </tr>\n",
              "    <tr>\n",
              "      <th>1</th>\n",
              "      <td>a bit different  breakfast pizza</td>\n",
              "      <td>31490</td>\n",
              "      <td>30</td>\n",
              "      <td>26278</td>\n",
              "      <td>2002-06-17</td>\n",
              "      <td>['30-minutes-or-less', 'time-to-make', 'course...</td>\n",
              "      <td>[173.4, 18.0, 0.0, 17.0, 22.0, 35.0, 1.0]</td>\n",
              "      <td>9</td>\n",
              "      <td>['preheat oven to 425 degrees f', 'press dough...</td>\n",
              "      <td>this recipe calls for the crust to be prebaked...</td>\n",
              "      <td>['prepared pizza crust', 'sausage patty', 'egg...</td>\n",
              "      <td>6</td>\n",
              "    </tr>\n",
              "    <tr>\n",
              "      <th>2</th>\n",
              "      <td>all in the kitchen  chili</td>\n",
              "      <td>112140</td>\n",
              "      <td>130</td>\n",
              "      <td>196586</td>\n",
              "      <td>2005-02-25</td>\n",
              "      <td>['time-to-make', 'course', 'preparation', 'mai...</td>\n",
              "      <td>[269.8, 22.0, 32.0, 48.0, 39.0, 27.0, 5.0]</td>\n",
              "      <td>6</td>\n",
              "      <td>['brown ground beef in large pot', 'add choppe...</td>\n",
              "      <td>this modified version of 'mom's' chili was a h...</td>\n",
              "      <td>['ground beef', 'yellow onions', 'diced tomato...</td>\n",
              "      <td>13</td>\n",
              "    </tr>\n",
              "    <tr>\n",
              "      <th>3</th>\n",
              "      <td>alouette  potatoes</td>\n",
              "      <td>59389</td>\n",
              "      <td>45</td>\n",
              "      <td>68585</td>\n",
              "      <td>2003-04-14</td>\n",
              "      <td>['60-minutes-or-less', 'time-to-make', 'course...</td>\n",
              "      <td>[368.1, 17.0, 10.0, 2.0, 14.0, 8.0, 20.0]</td>\n",
              "      <td>11</td>\n",
              "      <td>['place potatoes in a large pot of lightly sal...</td>\n",
              "      <td>this is a super easy, great tasting, make ahea...</td>\n",
              "      <td>['spreadable cheese with garlic and herbs', 'n...</td>\n",
              "      <td>11</td>\n",
              "    </tr>\n",
              "    <tr>\n",
              "      <th>4</th>\n",
              "      <td>amish  tomato ketchup  for canning</td>\n",
              "      <td>44061</td>\n",
              "      <td>190</td>\n",
              "      <td>41706</td>\n",
              "      <td>2002-10-25</td>\n",
              "      <td>['weeknight', 'time-to-make', 'course', 'main-...</td>\n",
              "      <td>[352.9, 1.0, 337.0, 23.0, 3.0, 0.0, 28.0]</td>\n",
              "      <td>5</td>\n",
              "      <td>['mix all ingredients&amp; boil for 2 1 / 2 hours ...</td>\n",
              "      <td>my dh's amish mother raised him on this recipe...</td>\n",
              "      <td>['tomato juice', 'apple cider vinegar', 'sugar...</td>\n",
              "      <td>8</td>\n",
              "    </tr>\n",
              "  </tbody>\n",
              "</table>\n",
              "</div>\n",
              "      <button class=\"colab-df-convert\" onclick=\"convertToInteractive('df-49804fc3-2e33-41e2-8cae-8a6ea5d56e60')\"\n",
              "              title=\"Convert this dataframe to an interactive table.\"\n",
              "              style=\"display:none;\">\n",
              "        \n",
              "  <svg xmlns=\"http://www.w3.org/2000/svg\" height=\"24px\"viewBox=\"0 0 24 24\"\n",
              "       width=\"24px\">\n",
              "    <path d=\"M0 0h24v24H0V0z\" fill=\"none\"/>\n",
              "    <path d=\"M18.56 5.44l.94 2.06.94-2.06 2.06-.94-2.06-.94-.94-2.06-.94 2.06-2.06.94zm-11 1L8.5 8.5l.94-2.06 2.06-.94-2.06-.94L8.5 2.5l-.94 2.06-2.06.94zm10 10l.94 2.06.94-2.06 2.06-.94-2.06-.94-.94-2.06-.94 2.06-2.06.94z\"/><path d=\"M17.41 7.96l-1.37-1.37c-.4-.4-.92-.59-1.43-.59-.52 0-1.04.2-1.43.59L10.3 9.45l-7.72 7.72c-.78.78-.78 2.05 0 2.83L4 21.41c.39.39.9.59 1.41.59.51 0 1.02-.2 1.41-.59l7.78-7.78 2.81-2.81c.8-.78.8-2.07 0-2.86zM5.41 20L4 18.59l7.72-7.72 1.47 1.35L5.41 20z\"/>\n",
              "  </svg>\n",
              "      </button>\n",
              "      \n",
              "  <style>\n",
              "    .colab-df-container {\n",
              "      display:flex;\n",
              "      flex-wrap:wrap;\n",
              "      gap: 12px;\n",
              "    }\n",
              "\n",
              "    .colab-df-convert {\n",
              "      background-color: #E8F0FE;\n",
              "      border: none;\n",
              "      border-radius: 50%;\n",
              "      cursor: pointer;\n",
              "      display: none;\n",
              "      fill: #1967D2;\n",
              "      height: 32px;\n",
              "      padding: 0 0 0 0;\n",
              "      width: 32px;\n",
              "    }\n",
              "\n",
              "    .colab-df-convert:hover {\n",
              "      background-color: #E2EBFA;\n",
              "      box-shadow: 0px 1px 2px rgba(60, 64, 67, 0.3), 0px 1px 3px 1px rgba(60, 64, 67, 0.15);\n",
              "      fill: #174EA6;\n",
              "    }\n",
              "\n",
              "    [theme=dark] .colab-df-convert {\n",
              "      background-color: #3B4455;\n",
              "      fill: #D2E3FC;\n",
              "    }\n",
              "\n",
              "    [theme=dark] .colab-df-convert:hover {\n",
              "      background-color: #434B5C;\n",
              "      box-shadow: 0px 1px 3px 1px rgba(0, 0, 0, 0.15);\n",
              "      filter: drop-shadow(0px 1px 2px rgba(0, 0, 0, 0.3));\n",
              "      fill: #FFFFFF;\n",
              "    }\n",
              "  </style>\n",
              "\n",
              "      <script>\n",
              "        const buttonEl =\n",
              "          document.querySelector('#df-49804fc3-2e33-41e2-8cae-8a6ea5d56e60 button.colab-df-convert');\n",
              "        buttonEl.style.display =\n",
              "          google.colab.kernel.accessAllowed ? 'block' : 'none';\n",
              "\n",
              "        async function convertToInteractive(key) {\n",
              "          const element = document.querySelector('#df-49804fc3-2e33-41e2-8cae-8a6ea5d56e60');\n",
              "          const dataTable =\n",
              "            await google.colab.kernel.invokeFunction('convertToInteractive',\n",
              "                                                     [key], {});\n",
              "          if (!dataTable) return;\n",
              "\n",
              "          const docLinkHtml = 'Like what you see? Visit the ' +\n",
              "            '<a target=\"_blank\" href=https://colab.research.google.com/notebooks/data_table.ipynb>data table notebook</a>'\n",
              "            + ' to learn more about interactive tables.';\n",
              "          element.innerHTML = '';\n",
              "          dataTable['output_type'] = 'display_data';\n",
              "          await google.colab.output.renderOutput(dataTable, element);\n",
              "          const docLink = document.createElement('div');\n",
              "          docLink.innerHTML = docLinkHtml;\n",
              "          element.appendChild(docLink);\n",
              "        }\n",
              "      </script>\n",
              "    </div>\n",
              "  </div>\n",
              "  "
            ]
          },
          "metadata": {},
          "execution_count": 46
        }
      ],
      "source": [
        "raw_recipes_df = pd.read_csv('RAW_recipes.csv')\n",
        "\n",
        "raw_recipes_df.head(5)"
      ]
    },
    {
      "cell_type": "code",
      "execution_count": 47,
      "id": "eea71c87",
      "metadata": {
        "id": "eea71c87",
        "outputId": "3285a095-99d0-4f38-fdae-73e021bf7444",
        "colab": {
          "base_uri": "https://localhost:8080/"
        }
      },
      "outputs": [
        {
          "output_type": "stream",
          "name": "stdout",
          "text": [
            "<class 'pandas.core.frame.DataFrame'>\n",
            "RangeIndex: 1132367 entries, 0 to 1132366\n",
            "Data columns (total 5 columns):\n",
            " #   Column     Non-Null Count    Dtype \n",
            "---  ------     --------------    ----- \n",
            " 0   user_id    1132367 non-null  int64 \n",
            " 1   recipe_id  1132367 non-null  int64 \n",
            " 2   date       1132367 non-null  object\n",
            " 3   rating     1132367 non-null  int64 \n",
            " 4   review     1132367 non-null  object\n",
            "dtypes: int64(3), object(2)\n",
            "memory usage: 43.2+ MB\n"
          ]
        }
      ],
      "source": [
        "raw_interactions_df.info()\n",
        "rating_df=raw_interactions_df"
      ]
    },
    {
      "cell_type": "code",
      "source": [
        "rating_df=rating_df.dropna()"
      ],
      "metadata": {
        "id": "jvv3iPQN5zAA"
      },
      "id": "jvv3iPQN5zAA",
      "execution_count": 48,
      "outputs": []
    },
    {
      "cell_type": "code",
      "source": [
        "rating_df=rating_df[['user_id','recipe_id','date','rating']]\n",
        "rating_df.rename(columns = {'user_id':'userID', 'recipe_id':'itemID'}, inplace = True)"
      ],
      "metadata": {
        "id": "vhlzzCjB56R3",
        "colab": {
          "base_uri": "https://localhost:8080/"
        },
        "outputId": "b4eeee5f-5a82-4445-ef00-b1a68a2245e9"
      },
      "id": "vhlzzCjB56R3",
      "execution_count": 50,
      "outputs": [
        {
          "output_type": "stream",
          "name": "stderr",
          "text": [
            "/usr/local/lib/python3.7/dist-packages/pandas/core/frame.py:5047: SettingWithCopyWarning: \n",
            "A value is trying to be set on a copy of a slice from a DataFrame\n",
            "\n",
            "See the caveats in the documentation: https://pandas.pydata.org/pandas-docs/stable/user_guide/indexing.html#returning-a-view-versus-a-copy\n",
            "  errors=errors,\n"
          ]
        }
      ]
    },
    {
      "cell_type": "code",
      "execution_count": 51,
      "id": "1ad8d817",
      "metadata": {
        "id": "1ad8d817",
        "colab": {
          "base_uri": "https://localhost:8080/"
        },
        "outputId": "d1eb935d-aa87-408d-81b5-7f77904da6e5"
      },
      "outputs": [
        {
          "output_type": "execute_result",
          "data": {
            "text/plain": [
              "(50686, 4)"
            ]
          },
          "metadata": {},
          "execution_count": 51
        }
      ],
      "source": [
        "\n",
        "\n",
        "x = rating_df.groupby('itemID').count()['rating'] >= 40\n",
        "userIndex = x[x].index\n",
        "nm_rating_df=rating_df[rating_df['itemID'].isin(userIndex)]\n",
        "y = nm_rating_df.groupby('userID').count()['rating']>=60\n",
        "items = y[y].index\n",
        "rating_df = nm_rating_df[nm_rating_df['userID'].isin(items)]\n",
        "rating_df.shape"
      ]
    },
    {
      "cell_type": "code",
      "source": [
        "contant_df=rating_df .merge( raw_recipes_df, left_on='itemID', right_on='id', how='left').fillna(0)"
      ],
      "metadata": {
        "id": "T27jsA4xNnFo"
      },
      "id": "T27jsA4xNnFo",
      "execution_count": 52,
      "outputs": []
    },
    {
      "cell_type": "code",
      "source": [
        "product_ids = list(set(list(rating_df.itemID.unique())))\n",
        "user_ids = list(set(list(rating_df.userID.unique())))"
      ],
      "metadata": {
        "id": "CgeKY34j6XB3"
      },
      "id": "CgeKY34j6XB3",
      "execution_count": 13,
      "outputs": []
    },
    {
      "cell_type": "code",
      "source": [
        "dict_products = {}\n",
        "index = 0\n",
        "for ids in sorted(product_ids):\n",
        "    dict_products[ids] = index\n",
        "    index += 1"
      ],
      "metadata": {
        "id": "qk9I5M7J6bvX"
      },
      "id": "qk9I5M7J6bvX",
      "execution_count": 14,
      "outputs": []
    },
    {
      "cell_type": "code",
      "source": [
        "dict_users = {}\n",
        "index = 0\n",
        "for ids in sorted(user_ids):\n",
        "    dict_users[ids] = index\n",
        "    index += 1"
      ],
      "metadata": {
        "id": "ld-uABLY6d3N"
      },
      "id": "ld-uABLY6d3N",
      "execution_count": 15,
      "outputs": []
    },
    {
      "cell_type": "code",
      "source": [
        "\n",
        "rating_df[\"itemID\"] = rating_df[\"itemID\"].astype(str)\n",
        "rating_df[\"userID\"] = rating_df[\"userID\"].astype(str)\n"
      ],
      "metadata": {
        "colab": {
          "base_uri": "https://localhost:8080/"
        },
        "id": "sZPaHa4i-oAr",
        "outputId": "ef96f94d-dc04-4245-e20c-e68bdf5b2882"
      },
      "id": "sZPaHa4i-oAr",
      "execution_count": 16,
      "outputs": [
        {
          "output_type": "stream",
          "name": "stderr",
          "text": [
            "/usr/local/lib/python3.7/dist-packages/ipykernel_launcher.py:2: SettingWithCopyWarning: \n",
            "A value is trying to be set on a copy of a slice from a DataFrame.\n",
            "Try using .loc[row_indexer,col_indexer] = value instead\n",
            "\n",
            "See the caveats in the documentation: https://pandas.pydata.org/pandas-docs/stable/user_guide/indexing.html#returning-a-view-versus-a-copy\n",
            "  \n",
            "/usr/local/lib/python3.7/dist-packages/ipykernel_launcher.py:3: SettingWithCopyWarning: \n",
            "A value is trying to be set on a copy of a slice from a DataFrame.\n",
            "Try using .loc[row_indexer,col_indexer] = value instead\n",
            "\n",
            "See the caveats in the documentation: https://pandas.pydata.org/pandas-docs/stable/user_guide/indexing.html#returning-a-view-versus-a-copy\n",
            "  This is separate from the ipykernel package so we can avoid doing imports until\n"
          ]
        }
      ]
    },
    {
      "cell_type": "markdown",
      "source": [
        "### Prepare dataset"
      ],
      "metadata": {
        "id": "hz3Ofz-0pTS8"
      },
      "id": "hz3Ofz-0pTS8"
    },
    {
      "cell_type": "code",
      "source": [
        "unique_users = rating_df.userID.unique()\n",
        "user_ids = dict(zip(unique_users, np.arange(unique_users.shape[0], dtype=np.int32)))\n",
        "\n",
        "unique_items = rating_df.itemID.unique()\n",
        "item_ids = dict(zip(unique_items, np.arange(unique_items.shape[0], dtype=np.int32)))"
      ],
      "metadata": {
        "id": "PgNs7RtdpgsF"
      },
      "id": "PgNs7RtdpgsF",
      "execution_count": 17,
      "outputs": []
    },
    {
      "cell_type": "code",
      "source": [
        "product_ids = list(set(list(rating_df.itemID.unique())))\n",
        "user_ids = list(set(list(rating_df.userID.unique())))"
      ],
      "metadata": {
        "id": "L0pWDQrppk3k"
      },
      "id": "L0pWDQrppk3k",
      "execution_count": 18,
      "outputs": []
    },
    {
      "cell_type": "markdown",
      "id": "cdc02830",
      "metadata": {
        "id": "cdc02830"
      },
      "source": [
        "### Look at distribution of ratings"
      ]
    },
    {
      "cell_type": "code",
      "execution_count": 19,
      "id": "428a493a",
      "metadata": {
        "id": "428a493a",
        "outputId": "00aa592e-b11a-4106-d740-cfe83913a35f",
        "colab": {
          "base_uri": "https://localhost:8080/",
          "height": 294
        }
      },
      "outputs": [
        {
          "output_type": "execute_result",
          "data": {
            "text/plain": [
              "<matplotlib.axes._subplots.AxesSubplot at 0x7f0b9f746590>"
            ]
          },
          "metadata": {},
          "execution_count": 19
        },
        {
          "output_type": "display_data",
          "data": {
            "text/plain": [
              "<Figure size 432x288 with 1 Axes>"
            ],
            "image/png": "[encoded data removed]"
          },
          "metadata": {}
        }
      ],
      "source": [
        "rating_df.groupby(['rating']).size().plot(kind = \"bar\")"
      ]
    },
    {
      "cell_type": "code",
      "source": [
        "!pip install tensorflow-recommenders==0.6.0\n",
        "\n",
        "import os\n",
        "import pprint\n",
        "import tempfile\n",
        "\n",
        "from typing import Dict, Text\n",
        "\n",
        "import numpy as np\n",
        "import pandas as pd\n",
        "import tensorflow as tf\n",
        "import tensorflow_datasets as tfds\n",
        "\n",
        "import tensorflow_recommenders as tfrs"
      ],
      "metadata": {
        "id": "bsafOAH6tIuM",
        "colab": {
          "base_uri": "https://localhost:8080/"
        },
        "outputId": "33167d7e-8430-457e-b9de-a9f79a9dc57d"
      },
      "id": "bsafOAH6tIuM",
      "execution_count": 20,
      "outputs": [
        {
          "output_type": "stream",
          "name": "stdout",
          "text": [
            "Looking in indexes: https://pypi.org/simple, https://us-python.pkg.dev/colab-wheels/public/simple/\n",
            "Collecting tensorflow-recommenders==0.6.0\n",
            "  Downloading tensorflow_recommenders-0.6.0-py3-none-any.whl (85 kB)\n",
            "\u001b[K     |████████████████████████████████| 85 kB 2.9 MB/s \n",
            "\u001b[?25hRequirement already satisfied: absl-py>=0.1.6 in /usr/local/lib/python3.7/dist-packages (from tensorflow-recommenders==0.6.0) (1.2.0)\n",
            "Requirement already satisfied: tensorflow>=2.6.0 in /usr/local/lib/python3.7/dist-packages (from tensorflow-recommenders==0.6.0) (2.8.2+zzzcolab20220719082949)\n",
            "Requirement already satisfied: setuptools in /usr/local/lib/python3.7/dist-packages (from tensorflow>=2.6.0->tensorflow-recommenders==0.6.0) (57.4.0)\n",
            "Requirement already satisfied: opt-einsum>=2.3.2 in /usr/local/lib/python3.7/dist-packages (from tensorflow>=2.6.0->tensorflow-recommenders==0.6.0) (3.3.0)\n",
            "Requirement already satisfied: termcolor>=1.1.0 in /usr/local/lib/python3.7/dist-packages (from tensorflow>=2.6.0->tensorflow-recommenders==0.6.0) (1.1.0)\n",
            "Requirement already satisfied: google-pasta>=0.1.1 in /usr/local/lib/python3.7/dist-packages (from tensorflow>=2.6.0->tensorflow-recommenders==0.6.0) (0.2.0)\n",
            "Requirement already satisfied: numpy>=1.20 in /usr/local/lib/python3.7/dist-packages (from tensorflow>=2.6.0->tensorflow-recommenders==0.6.0) (1.21.6)\n",
            "Requirement already satisfied: tensorboard<2.9,>=2.8 in /usr/local/lib/python3.7/dist-packages (from tensorflow>=2.6.0->tensorflow-recommenders==0.6.0) (2.8.0)\n",
            "Requirement already satisfied: astunparse>=1.6.0 in /usr/local/lib/python3.7/dist-packages (from tensorflow>=2.6.0->tensorflow-recommenders==0.6.0) (1.6.3)\n",
            "Requirement already satisfied: protobuf<3.20,>=3.9.2 in /usr/local/lib/python3.7/dist-packages (from tensorflow>=2.6.0->tensorflow-recommenders==0.6.0) (3.17.3)\n",
            "Requirement already satisfied: libclang>=9.0.1 in /usr/local/lib/python3.7/dist-packages (from tensorflow>=2.6.0->tensorflow-recommenders==0.6.0) (14.0.6)\n",
            "Requirement already satisfied: grpcio<2.0,>=1.24.3 in /usr/local/lib/python3.7/dist-packages (from tensorflow>=2.6.0->tensorflow-recommenders==0.6.0) (1.47.0)\n",
            "Requirement already satisfied: tensorflow-io-gcs-filesystem>=0.23.1 in /usr/local/lib/python3.7/dist-packages (from tensorflow>=2.6.0->tensorflow-recommenders==0.6.0) (0.26.0)\n",
            "Requirement already satisfied: flatbuffers>=1.12 in /usr/local/lib/python3.7/dist-packages (from tensorflow>=2.6.0->tensorflow-recommenders==0.6.0) (2.0)\n",
            "Requirement already satisfied: wrapt>=1.11.0 in /usr/local/lib/python3.7/dist-packages (from tensorflow>=2.6.0->tensorflow-recommenders==0.6.0) (1.14.1)\n",
            "Requirement already satisfied: six>=1.12.0 in /usr/local/lib/python3.7/dist-packages (from tensorflow>=2.6.0->tensorflow-recommenders==0.6.0) (1.15.0)\n",
            "Requirement already satisfied: gast>=0.2.1 in /usr/local/lib/python3.7/dist-packages (from tensorflow>=2.6.0->tensorflow-recommenders==0.6.0) (0.5.3)\n",
            "Requirement already satisfied: h5py>=2.9.0 in /usr/local/lib/python3.7/dist-packages (from tensorflow>=2.6.0->tensorflow-recommenders==0.6.0) (3.1.0)\n",
            "Requirement already satisfied: keras-preprocessing>=1.1.1 in /usr/local/lib/python3.7/dist-packages (from tensorflow>=2.6.0->tensorflow-recommenders==0.6.0) (1.1.2)\n",
            "Requirement already satisfied: typing-extensions>=3.6.6 in /usr/local/lib/python3.7/dist-packages (from tensorflow>=2.6.0->tensorflow-recommenders==0.6.0) (4.1.1)\n",
            "Requirement already satisfied: tensorflow-estimator<2.9,>=2.8 in /usr/local/lib/python3.7/dist-packages (from tensorflow>=2.6.0->tensorflow-recommenders==0.6.0) (2.8.0)\n",
            "Requirement already satisfied: keras<2.9,>=2.8.0rc0 in /usr/local/lib/python3.7/dist-packages (from tensorflow>=2.6.0->tensorflow-recommenders==0.6.0) (2.8.0)\n",
            "Requirement already satisfied: wheel<1.0,>=0.23.0 in /usr/local/lib/python3.7/dist-packages (from astunparse>=1.6.0->tensorflow>=2.6.0->tensorflow-recommenders==0.6.0) (0.37.1)\n",
            "Requirement already satisfied: cached-property in /usr/local/lib/python3.7/dist-packages (from h5py>=2.9.0->tensorflow>=2.6.0->tensorflow-recommenders==0.6.0) (1.5.2)\n",
            "Requirement already satisfied: google-auth-oauthlib<0.5,>=0.4.1 in /usr/local/lib/python3.7/dist-packages (from tensorboard<2.9,>=2.8->tensorflow>=2.6.0->tensorflow-recommenders==0.6.0) (0.4.6)\n",
            "Requirement already satisfied: tensorboard-plugin-wit>=1.6.0 in /usr/local/lib/python3.7/dist-packages (from tensorboard<2.9,>=2.8->tensorflow>=2.6.0->tensorflow-recommenders==0.6.0) (1.8.1)\n",
            "Requirement already satisfied: tensorboard-data-server<0.7.0,>=0.6.0 in /usr/local/lib/python3.7/dist-packages (from tensorboard<2.9,>=2.8->tensorflow>=2.6.0->tensorflow-recommenders==0.6.0) (0.6.1)\n",
            "Requirement already satisfied: requests<3,>=2.21.0 in /usr/local/lib/python3.7/dist-packages (from tensorboard<2.9,>=2.8->tensorflow>=2.6.0->tensorflow-recommenders==0.6.0) (2.23.0)\n",
            "Requirement already satisfied: werkzeug>=0.11.15 in /usr/local/lib/python3.7/dist-packages (from tensorboard<2.9,>=2.8->tensorflow>=2.6.0->tensorflow-recommenders==0.6.0) (1.0.1)\n",
            "Requirement already satisfied: markdown>=2.6.8 in /usr/local/lib/python3.7/dist-packages (from tensorboard<2.9,>=2.8->tensorflow>=2.6.0->tensorflow-recommenders==0.6.0) (3.4.1)\n",
            "Requirement already satisfied: google-auth<3,>=1.6.3 in /usr/local/lib/python3.7/dist-packages (from tensorboard<2.9,>=2.8->tensorflow>=2.6.0->tensorflow-recommenders==0.6.0) (1.35.0)\n",
            "Requirement already satisfied: pyasn1-modules>=0.2.1 in /usr/local/lib/python3.7/dist-packages (from google-auth<3,>=1.6.3->tensorboard<2.9,>=2.8->tensorflow>=2.6.0->tensorflow-recommenders==0.6.0) (0.2.8)\n",
            "Requirement already satisfied: rsa<5,>=3.1.4 in /usr/local/lib/python3.7/dist-packages (from google-auth<3,>=1.6.3->tensorboard<2.9,>=2.8->tensorflow>=2.6.0->tensorflow-recommenders==0.6.0) (4.9)\n",
            "Requirement already satisfied: cachetools<5.0,>=2.0.0 in /usr/local/lib/python3.7/dist-packages (from google-auth<3,>=1.6.3->tensorboard<2.9,>=2.8->tensorflow>=2.6.0->tensorflow-recommenders==0.6.0) (4.2.4)\n",
            "Requirement already satisfied: requests-oauthlib>=0.7.0 in /usr/local/lib/python3.7/dist-packages (from google-auth-oauthlib<0.5,>=0.4.1->tensorboard<2.9,>=2.8->tensorflow>=2.6.0->tensorflow-recommenders==0.6.0) (1.3.1)\n",
            "Requirement already satisfied: importlib-metadata>=4.4 in /usr/local/lib/python3.7/dist-packages (from markdown>=2.6.8->tensorboard<2.9,>=2.8->tensorflow>=2.6.0->tensorflow-recommenders==0.6.0) (4.12.0)\n",
            "Requirement already satisfied: zipp>=0.5 in /usr/local/lib/python3.7/dist-packages (from importlib-metadata>=4.4->markdown>=2.6.8->tensorboard<2.9,>=2.8->tensorflow>=2.6.0->tensorflow-recommenders==0.6.0) (3.8.1)\n",
            "Requirement already satisfied: pyasn1<0.5.0,>=0.4.6 in /usr/local/lib/python3.7/dist-packages (from pyasn1-modules>=0.2.1->google-auth<3,>=1.6.3->tensorboard<2.9,>=2.8->tensorflow>=2.6.0->tensorflow-recommenders==0.6.0) (0.4.8)\n",
            "Requirement already satisfied: certifi>=2017.4.17 in /usr/local/lib/python3.7/dist-packages (from requests<3,>=2.21.0->tensorboard<2.9,>=2.8->tensorflow>=2.6.0->tensorflow-recommenders==0.6.0) (2022.6.15)\n",
            "Requirement already satisfied: chardet<4,>=3.0.2 in /usr/local/lib/python3.7/dist-packages (from requests<3,>=2.21.0->tensorboard<2.9,>=2.8->tensorflow>=2.6.0->tensorflow-recommenders==0.6.0) (3.0.4)\n",
            "Requirement already satisfied: urllib3!=1.25.0,!=1.25.1,<1.26,>=1.21.1 in /usr/local/lib/python3.7/dist-packages (from requests<3,>=2.21.0->tensorboard<2.9,>=2.8->tensorflow>=2.6.0->tensorflow-recommenders==0.6.0) (1.24.3)\n",
            "Requirement already satisfied: idna<3,>=2.5 in /usr/local/lib/python3.7/dist-packages (from requests<3,>=2.21.0->tensorboard<2.9,>=2.8->tensorflow>=2.6.0->tensorflow-recommenders==0.6.0) (2.10)\n",
            "Requirement already satisfied: oauthlib>=3.0.0 in /usr/local/lib/python3.7/dist-packages (from requests-oauthlib>=0.7.0->google-auth-oauthlib<0.5,>=0.4.1->tensorboard<2.9,>=2.8->tensorflow>=2.6.0->tensorflow-recommenders==0.6.0) (3.2.0)\n",
            "Installing collected packages: tensorflow-recommenders\n",
            "Successfully installed tensorflow-recommenders-0.6.0\n"
          ]
        }
      ]
    },
    {
      "cell_type": "markdown",
      "source": [
        "### Prepare dataset for tensorflow recommenders"
      ],
      "metadata": {
        "id": "0EG3UKG0KQKx"
      },
      "id": "0EG3UKG0KQKx"
    },
    {
      "cell_type": "code",
      "source": [
        "ratings = tf.data.Dataset.from_tensor_slices(dict(rating_df)).map(lambda x: {\n",
        "    \"userID\": x[\"userID\"],\n",
        "    \"itemID\": x[\"itemID\"],\n",
        "    \"rating\": x[\"rating\"]\n",
        "})\n"
      ],
      "metadata": {
        "id": "N_hygHG9wC8C"
      },
      "id": "N_hygHG9wC8C",
      "execution_count": 21,
      "outputs": []
    },
    {
      "cell_type": "code",
      "source": [
        "\n",
        "items =ratings.batch(rating_df.shape[0]).map(lambda x: x[\"itemID\"])\n",
        "user_ids = ratings.batch(rating_df.shape[0]).map(lambda x: x[\"userID\"])\n",
        "unique_user_ids = np.unique(np.concatenate(list(user_ids)))\n",
        "unique_item_ids = np.unique(np.concatenate(list(items)))\n",
        "products_dict = rating_df[['itemID']].drop_duplicates()\n",
        "products_dict = {name: np.array(value) for name, value in products_dict.items()}\n",
        "products = tf.data.Dataset.from_tensor_slices(products_dict)\n",
        "products = products.map(lambda x: x['itemID'])\n"
      ],
      "metadata": {
        "id": "rYLVAIf1PDC2"
      },
      "id": "rYLVAIf1PDC2",
      "execution_count": 22,
      "outputs": []
    },
    {
      "cell_type": "code",
      "source": [
        "userIds    = rating_df.userID.unique()\n",
        "productIds = rating_df.itemID.unique()\n",
        "total_ratings= len(rating_df.index)"
      ],
      "metadata": {
        "id": "758XFYViZpB-"
      },
      "id": "758XFYViZpB-",
      "execution_count": 23,
      "outputs": []
    },
    {
      "cell_type": "code",
      "source": [
        "ratings = tf.data.Dataset.from_tensor_slices( {\"userID\":tf.cast( rating_df.userID.values  ,tf.string),\n",
        "                                \"itemID\":tf.cast( rating_df.itemID.values,tf.string),\n",
        "                                \"rating\":tf.cast( rating_df.rating.values  ,tf.int8,) } )"
      ],
      "metadata": {
        "id": "fHSWOi4Q_gjG"
      },
      "id": "fHSWOi4Q_gjG",
      "execution_count": 24,
      "outputs": []
    },
    {
      "cell_type": "code",
      "source": [
        "tf.random.set_seed(42)\n",
        "shuffled = ratings.shuffle(100_000, seed=42, reshuffle_each_iteration=False)\n",
        "\n",
        "train = shuffled.take( int(total_ratings*0.8) )\n",
        "test = shuffled.skip(int(total_ratings*0.8)).take(int(total_ratings*0.2))\n",
        "\n",
        "unique_productIds = productIds\n",
        "unique_userIds    = userIds\n",
        "cached_train = train.shuffle(100_000).batch(8192).cache()\n",
        "cached_test = test.batch(4096).cache()"
      ],
      "metadata": {
        "id": "z0Bk7CcB_rUm"
      },
      "id": "z0Bk7CcB_rUm",
      "execution_count": 25,
      "outputs": []
    },
    {
      "cell_type": "markdown",
      "source": [
        "### Tensorflow Ranking "
      ],
      "metadata": {
        "id": "P7wAQoQzKKcr"
      },
      "id": "P7wAQoQzKKcr"
    },
    {
      "cell_type": "code",
      "source": [
        "import numpy as np\n",
        "import tensorflow as tf\n",
        "import tensorflow_recommenders as tfrs\n",
        "# Build a model.\n",
        "class RankingModel(tf.keras.Model):\n",
        "\n",
        "    def __init__(self):\n",
        "        super().__init__()\n",
        "        embedding_dimension = 32\n",
        "\n",
        "        self.user_embeddings = tf.keras.Sequential([\n",
        "                                    tf.keras.layers.experimental.preprocessing.StringLookup(\n",
        "                                        vocabulary=unique_user_ids, mask_token=None),\n",
        "                                        # add addional embedding to account for unknow tokens\n",
        "                                    tf.keras.layers.Embedding(len(unique_user_ids)+1, embedding_dimension)\n",
        "                                    ])\n",
        "\n",
        "        self.product_embeddings = tf.keras.Sequential([\n",
        "                                    tf.keras.layers.experimental.preprocessing.StringLookup(\n",
        "                                        vocabulary=unique_item_ids, mask_token=None),\n",
        "                                    # add addional embedding to account for unknow tokens\n",
        "                                    tf.keras.layers.Embedding(len(unique_item_ids)+1, embedding_dimension)\n",
        "                                    ])\n",
        "        # Set up a retrieval task and evaluation metrics over the\n",
        "        # entire dataset of candidates.\n",
        "        self.ratings = tf.keras.Sequential([\n",
        "                            tf.keras.layers.Dense(256, activation=\"relu\"),\n",
        "                            tf.keras.layers.Dense(64,  activation=\"relu\"),\n",
        "                            tf.keras.layers.Dense(1)\n",
        "                              ])\n",
        "    def call(self, userId, productId):\n",
        "        user_embeddings  = self.user_embeddings (userId)\n",
        "        product_embeddings = self.product_embeddings(productId)\n",
        "        return self.ratings(tf.concat([user_embeddings,product_embeddings], axis=1))\n",
        "\n",
        "# Build a model.\n",
        "class BuildModelRanking(tfrs.models.Model):\n",
        "\n",
        "    def __init__(self):\n",
        "        super().__init__()\n",
        "        self.ranking_model: tf.keras.Model = RankingModel()\n",
        "        self.task: tf.keras.layers.Layer   = tfrs.tasks.Ranking(\n",
        "                                                    loss    =  tf.keras.losses.MeanSquaredError(),\n",
        "                                                    metrics = [tf.keras.metrics.RootMeanSquaredError()])\n",
        "            \n",
        "\n",
        "    def compute_loss(self, features, training=False):\n",
        "        rating_predictions = self.ranking_model(features[\"userID\"], features[\"itemID\"]  )\n",
        "\n",
        "        return self.task( labels=features[\"rating\"], predictions=rating_predictions)"
      ],
      "metadata": {
        "id": "CC0unoun-_at"
      },
      "id": "CC0unoun-_at",
      "execution_count": 26,
      "outputs": []
    },
    {
      "cell_type": "code",
      "source": [
        "modelranking = BuildModelRanking()\n",
        "modelranking.compile(optimizer=tf.keras.optimizers.Adagrad( learning_rate=0.1 ))\n",
        "\n",
        "ranking_history=modelranking.fit(cached_train, epochs=20)"
      ],
      "metadata": {
        "colab": {
          "base_uri": "https://localhost:8080/"
        },
        "id": "x_IU5FU0_xqq",
        "outputId": "5bf667ad-f25d-4c5d-e29d-bb9c46ac6089"
      },
      "id": "x_IU5FU0_xqq",
      "execution_count": 27,
      "outputs": [
        {
          "output_type": "stream",
          "name": "stdout",
          "text": [
            "Epoch 1/20\n",
            "5/5 [==============================] - 3s 22ms/step - root_mean_squared_error: 3.6701 - loss: 12.6885 - regularization_loss: 0.0000e+00 - total_loss: 12.6885\n",
            "Epoch 2/20\n",
            "5/5 [==============================] - 0s 6ms/step - root_mean_squared_error: 1.0845 - loss: 1.1244 - regularization_loss: 0.0000e+00 - total_loss: 1.1244\n",
            "Epoch 3/20\n",
            "5/5 [==============================] - 0s 6ms/step - root_mean_squared_error: 0.8596 - loss: 0.7459 - regularization_loss: 0.0000e+00 - total_loss: 0.7459\n",
            "Epoch 4/20\n",
            "5/5 [==============================] - 0s 5ms/step - root_mean_squared_error: 0.8396 - loss: 0.7129 - regularization_loss: 0.0000e+00 - total_loss: 0.7129\n",
            "Epoch 5/20\n",
            "5/5 [==============================] - 0s 5ms/step - root_mean_squared_error: 0.8317 - loss: 0.7013 - regularization_loss: 0.0000e+00 - total_loss: 0.7013\n",
            "Epoch 6/20\n",
            "5/5 [==============================] - 0s 6ms/step - root_mean_squared_error: 0.8297 - loss: 0.6975 - regularization_loss: 0.0000e+00 - total_loss: 0.6975\n",
            "Epoch 7/20\n",
            "5/5 [==============================] - 0s 6ms/step - root_mean_squared_error: 0.8270 - loss: 0.6931 - regularization_loss: 0.0000e+00 - total_loss: 0.6931\n",
            "Epoch 8/20\n",
            "5/5 [==============================] - 0s 6ms/step - root_mean_squared_error: 0.8246 - loss: 0.6889 - regularization_loss: 0.0000e+00 - total_loss: 0.6889\n",
            "Epoch 9/20\n",
            "5/5 [==============================] - 0s 5ms/step - root_mean_squared_error: 0.8216 - loss: 0.6839 - regularization_loss: 0.0000e+00 - total_loss: 0.6839\n",
            "Epoch 10/20\n",
            "5/5 [==============================] - 0s 6ms/step - root_mean_squared_error: 0.8184 - loss: 0.6784 - regularization_loss: 0.0000e+00 - total_loss: 0.6784\n",
            "Epoch 11/20\n",
            "5/5 [==============================] - 0s 5ms/step - root_mean_squared_error: 0.8149 - loss: 0.6724 - regularization_loss: 0.0000e+00 - total_loss: 0.6724\n",
            "Epoch 12/20\n",
            "5/5 [==============================] - 0s 5ms/step - root_mean_squared_error: 0.8112 - loss: 0.6662 - regularization_loss: 0.0000e+00 - total_loss: 0.6662\n",
            "Epoch 13/20\n",
            "5/5 [==============================] - 0s 5ms/step - root_mean_squared_error: 0.8075 - loss: 0.6600 - regularization_loss: 0.0000e+00 - total_loss: 0.6600\n",
            "Epoch 14/20\n",
            "5/5 [==============================] - 0s 5ms/step - root_mean_squared_error: 0.8039 - loss: 0.6540 - regularization_loss: 0.0000e+00 - total_loss: 0.6540\n",
            "Epoch 15/20\n",
            "5/5 [==============================] - 0s 6ms/step - root_mean_squared_error: 0.8005 - loss: 0.6485 - regularization_loss: 0.0000e+00 - total_loss: 0.6485\n",
            "Epoch 16/20\n",
            "5/5 [==============================] - 0s 5ms/step - root_mean_squared_error: 0.7974 - loss: 0.6434 - regularization_loss: 0.0000e+00 - total_loss: 0.6434\n",
            "Epoch 17/20\n",
            "5/5 [==============================] - 0s 5ms/step - root_mean_squared_error: 0.7947 - loss: 0.6390 - regularization_loss: 0.0000e+00 - total_loss: 0.6390\n",
            "Epoch 18/20\n",
            "5/5 [==============================] - 0s 5ms/step - root_mean_squared_error: 0.7923 - loss: 0.6350 - regularization_loss: 0.0000e+00 - total_loss: 0.6350\n",
            "Epoch 19/20\n",
            "5/5 [==============================] - 0s 5ms/step - root_mean_squared_error: 0.7902 - loss: 0.6316 - regularization_loss: 0.0000e+00 - total_loss: 0.6316\n",
            "Epoch 20/20\n",
            "5/5 [==============================] - 0s 7ms/step - root_mean_squared_error: 0.7883 - loss: 0.6287 - regularization_loss: 0.0000e+00 - total_loss: 0.6287\n"
          ]
        }
      ]
    },
    {
      "cell_type": "code",
      "source": [
        "metrics = modelranking.evaluate(cached_test, return_dict=True)\n"
      ],
      "metadata": {
        "colab": {
          "base_uri": "https://localhost:8080/"
        },
        "id": "UmkPSP67AIxK",
        "outputId": "f742d4ba-e42b-492e-adf9-6c60579a3c22"
      },
      "id": "UmkPSP67AIxK",
      "execution_count": 28,
      "outputs": [
        {
          "output_type": "stream",
          "name": "stdout",
          "text": [
            "3/3 [==============================] - 0s 17ms/step - root_mean_squared_error: 0.8039 - loss: 0.6658 - regularization_loss: 0.0000e+00 - total_loss: 0.6658\n"
          ]
        }
      ]
    },
    {
      "cell_type": "code",
      "source": [
        "user_rand = userIds[1]\n",
        "test_rating = {}\n",
        "for m in test.take(5):\n",
        "    test_rating[m[\"itemID\"].numpy()]=RankingModel()(tf.convert_to_tensor([user_rand]),tf.convert_to_tensor([m[\"itemID\"]]))"
      ],
      "metadata": {
        "id": "cKK0Brin_7iq"
      },
      "id": "cKK0Brin_7iq",
      "execution_count": 29,
      "outputs": []
    },
    {
      "cell_type": "code",
      "source": [
        "print(\"Top 5 recommended products for User {}: \".format(user_rand))\n",
        "for m in sorted(test_rating, key=test_rating.get, reverse=True):\n",
        "    print(m.decode())"
      ],
      "metadata": {
        "colab": {
          "base_uri": "https://localhost:8080/"
        },
        "id": "hBz5BjtxACYd",
        "outputId": "af603004-a870-47d1-8d25-bf5d679f1271"
      },
      "id": "hBz5BjtxACYd",
      "execution_count": 30,
      "outputs": [
        {
          "output_type": "stream",
          "name": "stdout",
          "text": [
            "Top 5 recommended products for User 55380: \n",
            "30081\n",
            "80667\n",
            "131916\n",
            "64252\n",
            "166599\n"
          ]
        }
      ]
    },
    {
      "cell_type": "markdown",
      "source": [
        "### Muti task Both  Retrieval and Ranking "
      ],
      "metadata": {
        "id": "c0vsFU6gKCpq"
      },
      "id": "c0vsFU6gKCpq"
    },
    {
      "cell_type": "code",
      "source": [
        "class BuildModelMultitask(tfrs.models.Model):\n",
        "\n",
        "  def __init__(self, rating_weight: float, retrieval_weight: float) -> None:\n",
        "    # We take the loss weights in the constructor: this allows us to instantiate\n",
        "    # several model objects with different loss weights.\n",
        "\n",
        "    super().__init__()\n",
        "\n",
        "    embedding_dimension = 32\n",
        "\n",
        "    # User and movie models.\n",
        "    self.item_model: tf.keras.layers.Layer = tf.keras.Sequential([\n",
        "      tf.keras.layers.StringLookup(\n",
        "        vocabulary=unique_item_ids, mask_token=None),\n",
        "      tf.keras.layers.Embedding(len(unique_item_ids) + 1, embedding_dimension)\n",
        "    ])\n",
        "    self.user_model: tf.keras.layers.Layer = tf.keras.Sequential([\n",
        "      tf.keras.layers.StringLookup(\n",
        "        vocabulary=unique_user_ids, mask_token=None),\n",
        "      tf.keras.layers.Embedding(len(unique_user_ids) + 1, embedding_dimension)\n",
        "    ])\n",
        "\n",
        "    # Model to take in user and item embeddings and predict ratings.\n",
        "    self.rating_model = tf.keras.Sequential([\n",
        "        tf.keras.layers.Dense(256, activation=\"relu\"),\n",
        "        tf.keras.layers.Dense(128, activation=\"relu\"),\n",
        "        tf.keras.layers.Dense(1),\n",
        "    ])\n",
        "\n",
        "    # The tasks.\n",
        "    self.rating_task: tf.keras.layers.Layer = tfrs.tasks.Ranking(\n",
        "        loss=tf.keras.losses.MeanSquaredError(),\n",
        "        metrics=[tf.keras.metrics.RootMeanSquaredError()],\n",
        "    )\n",
        "    self.retrieval_task: tf.keras.layers.Layer = tfrs.tasks.Retrieval(\n",
        "        metrics=tfrs.metrics.FactorizedTopK(\n",
        "            candidates=items.map(self.item_model)\n",
        "        )\n",
        "    )\n",
        "\n",
        "    # The loss weights.\n",
        "    self.rating_weight = rating_weight\n",
        "    self.retrieval_weight = retrieval_weight\n",
        "\n",
        "  def call(self, features: Dict[Text, tf.Tensor]) -> tf.Tensor:\n",
        "    # We pick out the user features and pass them into the user model.\n",
        "    user_embeddings = self.user_model(features[\"userID\"])\n",
        "    # And pick out the movie features and pass them into the movie model.\n",
        "    item_embeddings = self.item_model(features[\"itemID\"])\n",
        "\n",
        "    return (\n",
        "        user_embeddings,\n",
        "        item_embeddings,\n",
        "        # We apply the multi-layered rating model to a concatentation of\n",
        "        # user and movie embeddings.\n",
        "        self.rating_model(\n",
        "            tf.concat([user_embeddings, item_embeddings], axis=1)\n",
        "        ),\n",
        "    )\n",
        "\n",
        "  def compute_loss(self, features: Dict[Text, tf.Tensor], training=False) -> tf.Tensor:\n",
        "\n",
        "    ratings = features.pop(\"rating\")\n",
        "\n",
        "    user_embeddings,item_embeddings, rating_predictions = self(features)\n",
        "\n",
        "    # We compute the loss for each task.\n",
        "    rating_loss = self.rating_task(\n",
        "        labels=ratings,\n",
        "        predictions=rating_predictions,\n",
        "    )\n",
        "    retrieval_loss = self.retrieval_task(user_embeddings, item_embeddings)\n",
        "\n",
        "    # And combine them using the loss weights.\n",
        "    return (self.rating_weight * rating_loss\n",
        "            + self.retrieval_weight * retrieval_loss)"
      ],
      "metadata": {
        "id": "RClHJCih_3SR"
      },
      "id": "RClHJCih_3SR",
      "execution_count": 31,
      "outputs": []
    },
    {
      "cell_type": "code",
      "source": [
        "modelmultitask = BuildModelMultitask(rating_weight=1.0, retrieval_weight=0.0)\n",
        "modelmultitask.compile(optimizer=tf.keras.optimizers.Adagrad(0.1))"
      ],
      "metadata": {
        "id": "qAq5viniAc3j"
      },
      "id": "qAq5viniAc3j",
      "execution_count": 32,
      "outputs": []
    },
    {
      "cell_type": "code",
      "source": [
        "modelhist_multitask=modelmultitask.fit(cached_train, epochs=20)\n",
        "metrics = modelmultitask.evaluate(cached_test, return_dict=True)\n",
        "\n",
        "print(f\"Retrieval top-100 accuracy: {metrics['factorized_top_k/top_100_categorical_accuracy']:.3f}.\")\n",
        "print(f\"Ranking RMSE: {metrics['root_mean_squared_error']:.3f}.\")"
      ],
      "metadata": {
        "colab": {
          "base_uri": "https://localhost:8080/"
        },
        "id": "Isj2sVoZAtgS",
        "outputId": "fbcd3dae-78e2-4248-c8f3-33aecb52231d"
      },
      "id": "Isj2sVoZAtgS",
      "execution_count": 33,
      "outputs": [
        {
          "output_type": "stream",
          "name": "stdout",
          "text": [
            "Epoch 1/20\n",
            "5/5 [==============================] - 21s 3s/step - root_mean_squared_error: 3.5806 - factorized_top_k/top_1_categorical_accuracy: 1.9730e-04 - factorized_top_k/top_5_categorical_accuracy: 2.2196e-04 - factorized_top_k/top_10_categorical_accuracy: 2.4662e-04 - factorized_top_k/top_50_categorical_accuracy: 0.0010 - factorized_top_k/top_100_categorical_accuracy: 0.0018 - loss: 11.9077 - regularization_loss: 0.0000e+00 - total_loss: 11.9077\n",
            "Epoch 2/20\n",
            "5/5 [==============================] - 13s 3s/step - root_mean_squared_error: 1.0534 - factorized_top_k/top_1_categorical_accuracy: 2.4662e-04 - factorized_top_k/top_5_categorical_accuracy: 2.7128e-04 - factorized_top_k/top_10_categorical_accuracy: 3.2061e-04 - factorized_top_k/top_50_categorical_accuracy: 9.6182e-04 - factorized_top_k/top_100_categorical_accuracy: 0.0017 - loss: 1.1005 - regularization_loss: 0.0000e+00 - total_loss: 1.1005\n",
            "Epoch 3/20\n",
            "5/5 [==============================] - 16s 3s/step - root_mean_squared_error: 0.9019 - factorized_top_k/top_1_categorical_accuracy: 2.4662e-04 - factorized_top_k/top_5_categorical_accuracy: 2.7128e-04 - factorized_top_k/top_10_categorical_accuracy: 2.9595e-04 - factorized_top_k/top_50_categorical_accuracy: 8.3851e-04 - factorized_top_k/top_100_categorical_accuracy: 0.0018 - loss: 0.8154 - regularization_loss: 0.0000e+00 - total_loss: 0.8154\n",
            "Epoch 4/20\n",
            "5/5 [==============================] - 13s 3s/step - root_mean_squared_error: 0.8565 - factorized_top_k/top_1_categorical_accuracy: 2.4662e-04 - factorized_top_k/top_5_categorical_accuracy: 2.7128e-04 - factorized_top_k/top_10_categorical_accuracy: 2.9595e-04 - factorized_top_k/top_50_categorical_accuracy: 9.1250e-04 - factorized_top_k/top_100_categorical_accuracy: 0.0017 - loss: 0.7388 - regularization_loss: 0.0000e+00 - total_loss: 0.7388\n",
            "Epoch 5/20\n",
            "5/5 [==============================] - 14s 3s/step - root_mean_squared_error: 0.8346 - factorized_top_k/top_1_categorical_accuracy: 2.4662e-04 - factorized_top_k/top_5_categorical_accuracy: 2.7128e-04 - factorized_top_k/top_10_categorical_accuracy: 2.9595e-04 - factorized_top_k/top_50_categorical_accuracy: 8.8784e-04 - factorized_top_k/top_100_categorical_accuracy: 0.0018 - loss: 0.7059 - regularization_loss: 0.0000e+00 - total_loss: 0.7059\n",
            "Epoch 6/20\n",
            "5/5 [==============================] - 14s 3s/step - root_mean_squared_error: 0.8301 - factorized_top_k/top_1_categorical_accuracy: 2.2196e-04 - factorized_top_k/top_5_categorical_accuracy: 2.4662e-04 - factorized_top_k/top_10_categorical_accuracy: 2.7128e-04 - factorized_top_k/top_50_categorical_accuracy: 8.8784e-04 - factorized_top_k/top_100_categorical_accuracy: 0.0017 - loss: 0.6976 - regularization_loss: 0.0000e+00 - total_loss: 0.6976\n",
            "Epoch 7/20\n",
            "5/5 [==============================] - 13s 3s/step - root_mean_squared_error: 0.8256 - factorized_top_k/top_1_categorical_accuracy: 1.9730e-04 - factorized_top_k/top_5_categorical_accuracy: 2.2196e-04 - factorized_top_k/top_10_categorical_accuracy: 2.4662e-04 - factorized_top_k/top_50_categorical_accuracy: 8.8784e-04 - factorized_top_k/top_100_categorical_accuracy: 0.0017 - loss: 0.6908 - regularization_loss: 0.0000e+00 - total_loss: 0.6908\n",
            "Epoch 8/20\n",
            "5/5 [==============================] - 13s 3s/step - root_mean_squared_error: 0.8231 - factorized_top_k/top_1_categorical_accuracy: 1.9730e-04 - factorized_top_k/top_5_categorical_accuracy: 2.4662e-04 - factorized_top_k/top_10_categorical_accuracy: 2.4662e-04 - factorized_top_k/top_50_categorical_accuracy: 8.6317e-04 - factorized_top_k/top_100_categorical_accuracy: 0.0018 - loss: 0.6863 - regularization_loss: 0.0000e+00 - total_loss: 0.6863\n",
            "Epoch 9/20\n",
            "5/5 [==============================] - 13s 3s/step - root_mean_squared_error: 0.8198 - factorized_top_k/top_1_categorical_accuracy: 1.9730e-04 - factorized_top_k/top_5_categorical_accuracy: 2.4662e-04 - factorized_top_k/top_10_categorical_accuracy: 2.4662e-04 - factorized_top_k/top_50_categorical_accuracy: 8.8784e-04 - factorized_top_k/top_100_categorical_accuracy: 0.0018 - loss: 0.6809 - regularization_loss: 0.0000e+00 - total_loss: 0.6809\n",
            "Epoch 10/20\n",
            "5/5 [==============================] - 13s 3s/step - root_mean_squared_error: 0.8167 - factorized_top_k/top_1_categorical_accuracy: 1.7263e-04 - factorized_top_k/top_5_categorical_accuracy: 2.2196e-04 - factorized_top_k/top_10_categorical_accuracy: 2.4662e-04 - factorized_top_k/top_50_categorical_accuracy: 9.3716e-04 - factorized_top_k/top_100_categorical_accuracy: 0.0018 - loss: 0.6756 - regularization_loss: 0.0000e+00 - total_loss: 0.6756\n",
            "Epoch 11/20\n",
            "5/5 [==============================] - 13s 3s/step - root_mean_squared_error: 0.8133 - factorized_top_k/top_1_categorical_accuracy: 1.7263e-04 - factorized_top_k/top_5_categorical_accuracy: 2.2196e-04 - factorized_top_k/top_10_categorical_accuracy: 2.4662e-04 - factorized_top_k/top_50_categorical_accuracy: 8.8784e-04 - factorized_top_k/top_100_categorical_accuracy: 0.0017 - loss: 0.6699 - regularization_loss: 0.0000e+00 - total_loss: 0.6699\n",
            "Epoch 12/20\n",
            "5/5 [==============================] - 13s 3s/step - root_mean_squared_error: 0.8098 - factorized_top_k/top_1_categorical_accuracy: 1.9730e-04 - factorized_top_k/top_5_categorical_accuracy: 2.2196e-04 - factorized_top_k/top_10_categorical_accuracy: 2.4662e-04 - factorized_top_k/top_50_categorical_accuracy: 8.8784e-04 - factorized_top_k/top_100_categorical_accuracy: 0.0017 - loss: 0.6641 - regularization_loss: 0.0000e+00 - total_loss: 0.6641\n",
            "Epoch 13/20\n",
            "5/5 [==============================] - 13s 3s/step - root_mean_squared_error: 0.8064 - factorized_top_k/top_1_categorical_accuracy: 1.9730e-04 - factorized_top_k/top_5_categorical_accuracy: 2.2196e-04 - factorized_top_k/top_10_categorical_accuracy: 2.4662e-04 - factorized_top_k/top_50_categorical_accuracy: 8.3851e-04 - factorized_top_k/top_100_categorical_accuracy: 0.0017 - loss: 0.6584 - regularization_loss: 0.0000e+00 - total_loss: 0.6584\n",
            "Epoch 14/20\n",
            "5/5 [==============================] - 13s 3s/step - root_mean_squared_error: 0.8030 - factorized_top_k/top_1_categorical_accuracy: 1.9730e-04 - factorized_top_k/top_5_categorical_accuracy: 2.2196e-04 - factorized_top_k/top_10_categorical_accuracy: 2.4662e-04 - factorized_top_k/top_50_categorical_accuracy: 8.8784e-04 - factorized_top_k/top_100_categorical_accuracy: 0.0017 - loss: 0.6528 - regularization_loss: 0.0000e+00 - total_loss: 0.6528\n",
            "Epoch 15/20\n",
            "5/5 [==============================] - 13s 3s/step - root_mean_squared_error: 0.7998 - factorized_top_k/top_1_categorical_accuracy: 1.7263e-04 - factorized_top_k/top_5_categorical_accuracy: 2.2196e-04 - factorized_top_k/top_10_categorical_accuracy: 2.4662e-04 - factorized_top_k/top_50_categorical_accuracy: 9.3716e-04 - factorized_top_k/top_100_categorical_accuracy: 0.0017 - loss: 0.6476 - regularization_loss: 0.0000e+00 - total_loss: 0.6476\n",
            "Epoch 16/20\n",
            "5/5 [==============================] - 13s 3s/step - root_mean_squared_error: 0.7969 - factorized_top_k/top_1_categorical_accuracy: 1.7263e-04 - factorized_top_k/top_5_categorical_accuracy: 1.9730e-04 - factorized_top_k/top_10_categorical_accuracy: 2.4662e-04 - factorized_top_k/top_50_categorical_accuracy: 9.6182e-04 - factorized_top_k/top_100_categorical_accuracy: 0.0017 - loss: 0.6428 - regularization_loss: 0.0000e+00 - total_loss: 0.6428\n",
            "Epoch 17/20\n",
            "5/5 [==============================] - 13s 3s/step - root_mean_squared_error: 0.7943 - factorized_top_k/top_1_categorical_accuracy: 1.7263e-04 - factorized_top_k/top_5_categorical_accuracy: 1.9730e-04 - factorized_top_k/top_10_categorical_accuracy: 2.4662e-04 - factorized_top_k/top_50_categorical_accuracy: 8.8784e-04 - factorized_top_k/top_100_categorical_accuracy: 0.0017 - loss: 0.6385 - regularization_loss: 0.0000e+00 - total_loss: 0.6385\n",
            "Epoch 18/20\n",
            "5/5 [==============================] - 13s 3s/step - root_mean_squared_error: 0.7919 - factorized_top_k/top_1_categorical_accuracy: 1.7263e-04 - factorized_top_k/top_5_categorical_accuracy: 1.9730e-04 - factorized_top_k/top_10_categorical_accuracy: 2.4662e-04 - factorized_top_k/top_50_categorical_accuracy: 8.8784e-04 - factorized_top_k/top_100_categorical_accuracy: 0.0016 - loss: 0.6347 - regularization_loss: 0.0000e+00 - total_loss: 0.6347\n",
            "Epoch 19/20\n",
            "5/5 [==============================] - 13s 3s/step - root_mean_squared_error: 0.7898 - factorized_top_k/top_1_categorical_accuracy: 1.7263e-04 - factorized_top_k/top_5_categorical_accuracy: 1.9730e-04 - factorized_top_k/top_10_categorical_accuracy: 2.4662e-04 - factorized_top_k/top_50_categorical_accuracy: 9.1250e-04 - factorized_top_k/top_100_categorical_accuracy: 0.0016 - loss: 0.6313 - regularization_loss: 0.0000e+00 - total_loss: 0.6313\n",
            "Epoch 20/20\n",
            "5/5 [==============================] - 13s 3s/step - root_mean_squared_error: 0.7880 - factorized_top_k/top_1_categorical_accuracy: 1.9730e-04 - factorized_top_k/top_5_categorical_accuracy: 1.9730e-04 - factorized_top_k/top_10_categorical_accuracy: 2.4662e-04 - factorized_top_k/top_50_categorical_accuracy: 9.3716e-04 - factorized_top_k/top_100_categorical_accuracy: 0.0016 - loss: 0.6284 - regularization_loss: 0.0000e+00 - total_loss: 0.6284\n",
            "3/3 [==============================] - 5s 1s/step - root_mean_squared_error: 0.8038 - factorized_top_k/top_1_categorical_accuracy: 9.8649e-05 - factorized_top_k/top_5_categorical_accuracy: 9.8649e-05 - factorized_top_k/top_10_categorical_accuracy: 9.8649e-05 - factorized_top_k/top_50_categorical_accuracy: 5.9189e-04 - factorized_top_k/top_100_categorical_accuracy: 0.0018 - loss: 0.6639 - regularization_loss: 0.0000e+00 - total_loss: 0.6639\n",
            "Retrieval top-100 accuracy: 0.002.\n",
            "Ranking RMSE: 0.804.\n"
          ]
        }
      ]
    },
    {
      "cell_type": "code",
      "source": [
        "epochs = [i for i in range(20)]\n",
        "\n",
        "plt.plot(epochs, modelhist_multitask.history[\"factorized_top_k/top_100_categorical_accuracy\"], label=\"accuracy\")\n",
        "plt.title(\"Accuracy vs epoch\")\n",
        "plt.xlabel(\"epoch\")\n",
        "plt.ylabel(\"Top-100 accuracy\");\n",
        "plt.legend()"
      ],
      "metadata": {
        "colab": {
          "base_uri": "https://localhost:8080/",
          "height": 313
        },
        "id": "l64rX4C9HURj",
        "outputId": "ea82ca08-06dd-4640-eaf6-2360172030ab"
      },
      "id": "l64rX4C9HURj",
      "execution_count": 34,
      "outputs": [
        {
          "output_type": "execute_result",
          "data": {
            "text/plain": [
              "<matplotlib.legend.Legend at 0x7f0aab4c3690>"
            ]
          },
          "metadata": {},
          "execution_count": 34
        },
        {
          "output_type": "display_data",
          "data": {
            "text/plain": [
              "<Figure size 432x288 with 1 Axes>"
            ],
            "image/png": "[encoded data removed]"
          },
          "metadata": {}
        }
      ]
    },
    {
      "cell_type": "markdown",
      "source": [
        "### Deep cross network"
      ],
      "metadata": {
        "id": "aW-45PiwLE-J"
      },
      "id": "aW-45PiwLE-J"
    },
    {
      "cell_type": "code",
      "source": [
        "feature_names = [\"userID\", \"itemID\"]"
      ],
      "metadata": {
        "id": "-ObuGzNtR1uB"
      },
      "id": "-ObuGzNtR1uB",
      "execution_count": 35,
      "outputs": []
    },
    {
      "cell_type": "code",
      "source": [
        "vocabularies = {}\n",
        "\n",
        "for feature_name in feature_names:\n",
        "  vocab = ratings.batch(1_000_000).map(lambda x: x[feature_name])\n",
        "  vocabularies[feature_name] = np.unique(np.concatenate(list(vocab)))"
      ],
      "metadata": {
        "id": "znIZG2ykR9Jf"
      },
      "id": "znIZG2ykR9Jf",
      "execution_count": 36,
      "outputs": []
    },
    {
      "cell_type": "code",
      "source": [
        "class DeepCrossNetwork(tfrs.Model):\n",
        "\n",
        "  def __init__(self, use_cross_layer, deep_layer_sizes, projection_dim=None):\n",
        "    super().__init__()\n",
        "\n",
        "    self.embedding_dimension = 32\n",
        "\n",
        "    str_features = [\"itemID\", \"userID\"\n",
        "                    ]\n",
        "    #int_features = []\n",
        "\n",
        "    self._all_features = str_features #+ int_features\n",
        "    self._embeddings = {}\n",
        "\n",
        "    # Compute embeddings for string features.\n",
        "    for feature_name in str_features:\n",
        "      vocabulary = vocabularies[feature_name]\n",
        "      self._embeddings[feature_name] = tf.keras.Sequential(\n",
        "          [tf.keras.layers.StringLookup(\n",
        "              vocabulary=vocabulary, mask_token=None),\n",
        "           tf.keras.layers.Embedding(len(vocabulary) + 1,\n",
        "                                     self.embedding_dimension)\n",
        "    ])\n",
        "\n",
        "    # # Compute embeddings for int features.\n",
        "    # for feature_name in int_features:\n",
        "    #   vocabulary = vocabularies[feature_name]\n",
        "    #   self._embeddings[feature_name] = tf.keras.Sequential(\n",
        "    #       [tf.keras.layers.IntegerLookup(\n",
        "    #           vocabulary=vocabulary, mask_value=None),\n",
        "    #        tf.keras.layers.Embedding(len(vocabulary) + 1,\n",
        "    #                                  self.embedding_dimension)\n",
        "    # ])\n",
        "\n",
        "    if use_cross_layer:\n",
        "      self._cross_layer = tfrs.layers.dcn.Cross(\n",
        "          projection_dim=projection_dim,\n",
        "          kernel_initializer=\"glorot_uniform\")\n",
        "    else:\n",
        "      self._cross_layer = None\n",
        "\n",
        "    self._deep_layers = [tf.keras.layers.Dense(layer_size, activation=\"relu\")\n",
        "      for layer_size in deep_layer_sizes]\n",
        "\n",
        "    self._logit_layer = tf.keras.layers.Dense(1)\n",
        "\n",
        "    self.task = tfrs.tasks.Ranking(\n",
        "      loss=tf.keras.losses.MeanSquaredError(),\n",
        "      metrics=[tf.keras.metrics.RootMeanSquaredError(\"RMSE\")]\n",
        "    )\n",
        "\n",
        "  def call(self, features):\n",
        "    # Concatenate embeddings\n",
        "    embeddings = []\n",
        "    for feature_name in self._all_features:\n",
        "      embedding_fn = self._embeddings[feature_name]\n",
        "      embeddings.append(embedding_fn(features[feature_name]))\n",
        "\n",
        "    x = tf.concat(embeddings, axis=1)\n",
        "\n",
        "    # Build Cross Network\n",
        "    if self._cross_layer is not None:\n",
        "      x = self._cross_layer(x)\n",
        "\n",
        "    # Build Deep Network\n",
        "    for deep_layer in self._deep_layers:\n",
        "      x = deep_layer(x)\n",
        "\n",
        "    return self._logit_layer(x)\n",
        "\n",
        "  def compute_loss(self, features, training=False):\n",
        "    labels = features.pop(\"rating\")\n",
        "    scores = self(features)\n",
        "    return self.task(\n",
        "        labels=labels,\n",
        "        predictions=scores,\n",
        "    )"
      ],
      "metadata": {
        "id": "X7GVDJ_WSS_X"
      },
      "id": "X7GVDJ_WSS_X",
      "execution_count": 37,
      "outputs": []
    },
    {
      "cell_type": "code",
      "source": [
        "def run_models(use_cross_layer, deep_layer_sizes, projection_dim=None, num_runs=5,learning_rate=0.001):\n",
        "  models = []\n",
        "  rmses = []\n",
        "\n",
        "  for i in range(num_runs):\n",
        "    model = DeepCrossNetwork(use_cross_layer=use_cross_layer,\n",
        "                deep_layer_sizes=deep_layer_sizes,\n",
        "                projection_dim=projection_dim)\n",
        "    model.compile(optimizer=tf.keras.optimizers.RMSprop(learning_rate))\n",
        "    models.append(model)\n",
        "\n",
        "    model.fit(cached_train, epochs=epochs, verbose=False)\n",
        "    metrics = model.evaluate(cached_test, return_dict=True)\n",
        "    rmses.append(metrics[\"RMSE\"])\n",
        "   \n",
        "  mean, stdv = np.average(rmses), np.std(rmses)\n",
        "\n",
        "  return {\"model\": models, \"mean\": mean, \"stdv\": stdv}"
      ],
      "metadata": {
        "id": "iV5f1sngSTCD"
      },
      "id": "iV5f1sngSTCD",
      "execution_count": 38,
      "outputs": []
    },
    {
      "cell_type": "code",
      "source": [
        "epochs = 20\n",
        "learning_rate = 0.001"
      ],
      "metadata": {
        "id": "bhyE1Uq6YkU6"
      },
      "id": "bhyE1Uq6YkU6",
      "execution_count": 39,
      "outputs": []
    },
    {
      "cell_type": "code",
      "source": [
        "dcn_result = run_models(use_cross_layer=True,\n",
        "                           projection_dim=256,\n",
        "                           deep_layer_sizes=[256, 256])"
      ],
      "metadata": {
        "colab": {
          "base_uri": "https://localhost:8080/"
        },
        "id": "FoPRa8NRaYZD",
        "outputId": "287af4b0-0474-4848-fb19-a1e68118e651"
      },
      "id": "FoPRa8NRaYZD",
      "execution_count": 40,
      "outputs": [
        {
          "output_type": "stream",
          "name": "stdout",
          "text": [
            "3/3 [==============================] - 0s 4ms/step - RMSE: 0.8751 - loss: 0.7823 - regularization_loss: 0.0000e+00 - total_loss: 0.7823\n",
            "3/3 [==============================] - 0s 4ms/step - RMSE: 0.8741 - loss: 0.7801 - regularization_loss: 0.0000e+00 - total_loss: 0.7801\n"
          ]
        },
        {
          "output_type": "stream",
          "name": "stderr",
          "text": [
            "WARNING:tensorflow:5 out of the last 13 calls to <function Model.make_test_function.<locals>.test_function at 0x7f0aaa92e5f0> triggered tf.function retracing. Tracing is expensive and the excessive number of tracings could be due to (1) creating @tf.function repeatedly in a loop, (2) passing tensors with different shapes, (3) passing Python objects instead of tensors. For (1), please define your @tf.function outside of the loop. For (2), @tf.function has experimental_relax_shapes=True option that relaxes argument shapes that can avoid unnecessary retracing. For (3), please refer to https://www.tensorflow.org/guide/function#controlling_retracing and https://www.tensorflow.org/api_docs/python/tf/function for  more details.\n"
          ]
        },
        {
          "output_type": "stream",
          "name": "stdout",
          "text": [
            "3/3 [==============================] - 0s 4ms/step - RMSE: 0.8764 - loss: 0.7845 - regularization_loss: 0.0000e+00 - total_loss: 0.7845\n"
          ]
        },
        {
          "output_type": "stream",
          "name": "stderr",
          "text": [
            "WARNING:tensorflow:5 out of the last 13 calls to <function Model.make_test_function.<locals>.test_function at 0x7f0aa82248c0> triggered tf.function retracing. Tracing is expensive and the excessive number of tracings could be due to (1) creating @tf.function repeatedly in a loop, (2) passing tensors with different shapes, (3) passing Python objects instead of tensors. For (1), please define your @tf.function outside of the loop. For (2), @tf.function has experimental_relax_shapes=True option that relaxes argument shapes that can avoid unnecessary retracing. For (3), please refer to https://www.tensorflow.org/guide/function#controlling_retracing and https://www.tensorflow.org/api_docs/python/tf/function for  more details.\n"
          ]
        },
        {
          "output_type": "stream",
          "name": "stdout",
          "text": [
            "3/3 [==============================] - 0s 4ms/step - RMSE: 0.8743 - loss: 0.7800 - regularization_loss: 0.0000e+00 - total_loss: 0.7800\n",
            "3/3 [==============================] - 0s 4ms/step - RMSE: 0.8739 - loss: 0.7800 - regularization_loss: 0.0000e+00 - total_loss: 0.7800\n"
          ]
        }
      ]
    },
    {
      "cell_type": "code",
      "source": [
        ""
      ],
      "metadata": {
        "id": "ykh0TNU9nnTJ"
      },
      "id": "ykh0TNU9nnTJ",
      "execution_count": 40,
      "outputs": []
    },
    {
      "cell_type": "code",
      "source": [
        ""
      ],
      "metadata": {
        "id": "vlnCIWWnnnZ9"
      },
      "id": "vlnCIWWnnnZ9",
      "execution_count": 40,
      "outputs": []
    },
    {
      "cell_type": "code",
      "source": [
        "contant_df"
      ],
      "metadata": {
        "colab": {
          "base_uri": "https://localhost:8080/",
          "height": 1000
        },
        "id": "3_DWYKqanncm",
        "outputId": "0197f7b1-f5a0-4300-838e-a6b8dba19a68"
      },
      "id": "3_DWYKqanncm",
      "execution_count": 41,
      "outputs": [
        {
          "output_type": "execute_result",
          "data": {
            "text/plain": [
              "       userID  itemID        date  rating  \\\n",
              "0        6357   98783  2004-09-01       5   \n",
              "1       55380   98783  2005-12-27       5   \n",
              "2      231054   98783  2007-12-10       5   \n",
              "3      189616   98783  2007-12-14       5   \n",
              "4      469903   98783  2007-12-17       5   \n",
              "...       ...     ...         ...     ...   \n",
              "50681  368078   31311  2008-12-22       5   \n",
              "50682  727055   31311  2009-01-10       5   \n",
              "50683  242484   31311  2009-09-29       5   \n",
              "50684  470351   31311  2009-12-16       5   \n",
              "50685  407007   31311  2010-05-30       5   \n",
              "\n",
              "                                                    name     id  minutes  \\\n",
              "0                                 chocolate orange fudge  98783       10   \n",
              "1                                 chocolate orange fudge  98783       10   \n",
              "2                                 chocolate orange fudge  98783       10   \n",
              "3                                 chocolate orange fudge  98783       10   \n",
              "4                                 chocolate orange fudge  98783       10   \n",
              "...                                                  ...    ...      ...   \n",
              "50681  stormy s reese s peanut butter cup cookies  2 ...  31311       18   \n",
              "50682  stormy s reese s peanut butter cup cookies  2 ...  31311       18   \n",
              "50683  stormy s reese s peanut butter cup cookies  2 ...  31311       18   \n",
              "50684  stormy s reese s peanut butter cup cookies  2 ...  31311       18   \n",
              "50685  stormy s reese s peanut butter cup cookies  2 ...  31311       18   \n",
              "\n",
              "       contributor_id   submitted  \\\n",
              "0                1535  2004-08-31   \n",
              "1                1535  2004-08-31   \n",
              "2                1535  2004-08-31   \n",
              "3                1535  2004-08-31   \n",
              "4                1535  2004-08-31   \n",
              "...               ...         ...   \n",
              "50681           37305  2002-06-17   \n",
              "50682           37305  2002-06-17   \n",
              "50683           37305  2002-06-17   \n",
              "50684           37305  2002-06-17   \n",
              "50685           37305  2002-06-17   \n",
              "\n",
              "                                                    tags  \\\n",
              "0      ['15-minutes-or-less', 'time-to-make', 'course...   \n",
              "1      ['15-minutes-or-less', 'time-to-make', 'course...   \n",
              "2      ['15-minutes-or-less', 'time-to-make', 'course...   \n",
              "3      ['15-minutes-or-less', 'time-to-make', 'course...   \n",
              "4      ['15-minutes-or-less', 'time-to-make', 'course...   \n",
              "...                                                  ...   \n",
              "50681  ['30-minutes-or-less', 'time-to-make', 'course...   \n",
              "50682  ['30-minutes-or-less', 'time-to-make', 'course...   \n",
              "50683  ['30-minutes-or-less', 'time-to-make', 'course...   \n",
              "50684  ['30-minutes-or-less', 'time-to-make', 'course...   \n",
              "50685  ['30-minutes-or-less', 'time-to-make', 'course...   \n",
              "\n",
              "                                      nutrition  n_steps  \\\n",
              "0      [137.2, 10.0, 74.0, 0.0, 4.0, 20.0, 6.0]        9   \n",
              "1      [137.2, 10.0, 74.0, 0.0, 4.0, 20.0, 6.0]        9   \n",
              "2      [137.2, 10.0, 74.0, 0.0, 4.0, 20.0, 6.0]        9   \n",
              "3      [137.2, 10.0, 74.0, 0.0, 4.0, 20.0, 6.0]        9   \n",
              "4      [137.2, 10.0, 74.0, 0.0, 4.0, 20.0, 6.0]        9   \n",
              "...                                         ...      ...   \n",
              "50681  [166.1, 14.0, 13.0, 5.0, 6.0, 12.0, 6.0]        8   \n",
              "50682  [166.1, 14.0, 13.0, 5.0, 6.0, 12.0, 6.0]        8   \n",
              "50683  [166.1, 14.0, 13.0, 5.0, 6.0, 12.0, 6.0]        8   \n",
              "50684  [166.1, 14.0, 13.0, 5.0, 6.0, 12.0, 6.0]        8   \n",
              "50685  [166.1, 14.0, 13.0, 5.0, 6.0, 12.0, 6.0]        8   \n",
              "\n",
              "                                                   steps  \\\n",
              "0      ['line a 8x8x2-inch baking pan with lightly bu...   \n",
              "1      ['line a 8x8x2-inch baking pan with lightly bu...   \n",
              "2      ['line a 8x8x2-inch baking pan with lightly bu...   \n",
              "3      ['line a 8x8x2-inch baking pan with lightly bu...   \n",
              "4      ['line a 8x8x2-inch baking pan with lightly bu...   \n",
              "...                                                  ...   \n",
              "50681  ['place unwrapped peanut butter cups in freeze...   \n",
              "50682  ['place unwrapped peanut butter cups in freeze...   \n",
              "50683  ['place unwrapped peanut butter cups in freeze...   \n",
              "50684  ['place unwrapped peanut butter cups in freeze...   \n",
              "50685  ['place unwrapped peanut butter cups in freeze...   \n",
              "\n",
              "                                             description  \\\n",
              "0      this is so easy and yet it is probably the bes...   \n",
              "1      this is so easy and yet it is probably the bes...   \n",
              "2      this is so easy and yet it is probably the bes...   \n",
              "3      this is so easy and yet it is probably the bes...   \n",
              "4      this is so easy and yet it is probably the bes...   \n",
              "...                                                  ...   \n",
              "50681  refrigerated cookie dough and mini peanut butt...   \n",
              "50682  refrigerated cookie dough and mini peanut butt...   \n",
              "50683  refrigerated cookie dough and mini peanut butt...   \n",
              "50684  refrigerated cookie dough and mini peanut butt...   \n",
              "50685  refrigerated cookie dough and mini peanut butt...   \n",
              "\n",
              "                                             ingredients  n_ingredients  \n",
              "0      ['semi-sweet chocolate chips', 'sweetened cond...              4  \n",
              "1      ['semi-sweet chocolate chips', 'sweetened cond...              4  \n",
              "2      ['semi-sweet chocolate chips', 'sweetened cond...              4  \n",
              "3      ['semi-sweet chocolate chips', 'sweetened cond...              4  \n",
              "4      ['semi-sweet chocolate chips', 'sweetened cond...              4  \n",
              "...                                                  ...            ...  \n",
              "50681  ['miniature peanut butter cups', 'peanut butte...              2  \n",
              "50682  ['miniature peanut butter cups', 'peanut butte...              2  \n",
              "50683  ['miniature peanut butter cups', 'peanut butte...              2  \n",
              "50684  ['miniature peanut butter cups', 'peanut butte...              2  \n",
              "50685  ['miniature peanut butter cups', 'peanut butte...              2  \n",
              "\n",
              "[50686 rows x 16 columns]"
            ],
            "text/html": [
              "\n",
              "  <div id=\"df-1909903e-6023-4f66-bc21-a204ddaf9cd2\">\n",
              "    <div class=\"colab-df-container\">\n",
              "      <div>\n",
              "<style scoped>\n",
              "    .dataframe tbody tr th:only-of-type {\n",
              "        vertical-align: middle;\n",
              "    }\n",
              "\n",
              "    .dataframe tbody tr th {\n",
              "        vertical-align: top;\n",
              "    }\n",
              "\n",
              "    .dataframe thead th {\n",
              "        text-align: right;\n",
              "    }\n",
              "</style>\n",
              "<table border=\"1\" class=\"dataframe\">\n",
              "  <thead>\n",
              "    <tr style=\"text-align: right;\">\n",
              "      <th></th>\n",
              "      <th>userID</th>\n",
              "      <th>itemID</th>\n",
              "      <th>date</th>\n",
              "      <th>rating</th>\n",
              "      <th>name</th>\n",
              "      <th>id</th>\n",
              "      <th>minutes</th>\n",
              "      <th>contributor_id</th>\n",
              "      <th>submitted</th>\n",
              "      <th>tags</th>\n",
              "      <th>nutrition</th>\n",
              "      <th>n_steps</th>\n",
              "      <th>steps</th>\n",
              "      <th>description</th>\n",
              "      <th>ingredients</th>\n",
              "      <th>n_ingredients</th>\n",
              "    </tr>\n",
              "  </thead>\n",
              "  <tbody>\n",
              "    <tr>\n",
              "      <th>0</th>\n",
              "      <td>6357</td>\n",
              "      <td>98783</td>\n",
              "      <td>2004-09-01</td>\n",
              "      <td>5</td>\n",
              "      <td>chocolate orange fudge</td>\n",
              "      <td>98783</td>\n",
              "      <td>10</td>\n",
              "      <td>1535</td>\n",
              "      <td>2004-08-31</td>\n",
              "      <td>['15-minutes-or-less', 'time-to-make', 'course...</td>\n",
              "      <td>[137.2, 10.0, 74.0, 0.0, 4.0, 20.0, 6.0]</td>\n",
              "      <td>9</td>\n",
              "      <td>['line a 8x8x2-inch baking pan with lightly bu...</td>\n",
              "      <td>this is so easy and yet it is probably the bes...</td>\n",
              "      <td>['semi-sweet chocolate chips', 'sweetened cond...</td>\n",
              "      <td>4</td>\n",
              "    </tr>\n",
              "    <tr>\n",
              "      <th>1</th>\n",
              "      <td>55380</td>\n",
              "      <td>98783</td>\n",
              "      <td>2005-12-27</td>\n",
              "      <td>5</td>\n",
              "      <td>chocolate orange fudge</td>\n",
              "      <td>98783</td>\n",
              "      <td>10</td>\n",
              "      <td>1535</td>\n",
              "      <td>2004-08-31</td>\n",
              "      <td>['15-minutes-or-less', 'time-to-make', 'course...</td>\n",
              "      <td>[137.2, 10.0, 74.0, 0.0, 4.0, 20.0, 6.0]</td>\n",
              "      <td>9</td>\n",
              "      <td>['line a 8x8x2-inch baking pan with lightly bu...</td>\n",
              "      <td>this is so easy and yet it is probably the bes...</td>\n",
              "      <td>['semi-sweet chocolate chips', 'sweetened cond...</td>\n",
              "      <td>4</td>\n",
              "    </tr>\n",
              "    <tr>\n",
              "      <th>2</th>\n",
              "      <td>231054</td>\n",
              "      <td>98783</td>\n",
              "      <td>2007-12-10</td>\n",
              "      <td>5</td>\n",
              "      <td>chocolate orange fudge</td>\n",
              "      <td>98783</td>\n",
              "      <td>10</td>\n",
              "      <td>1535</td>\n",
              "      <td>2004-08-31</td>\n",
              "      <td>['15-minutes-or-less', 'time-to-make', 'course...</td>\n",
              "      <td>[137.2, 10.0, 74.0, 0.0, 4.0, 20.0, 6.0]</td>\n",
              "      <td>9</td>\n",
              "      <td>['line a 8x8x2-inch baking pan with lightly bu...</td>\n",
              "      <td>this is so easy and yet it is probably the bes...</td>\n",
              "      <td>['semi-sweet chocolate chips', 'sweetened cond...</td>\n",
              "      <td>4</td>\n",
              "    </tr>\n",
              "    <tr>\n",
              "      <th>3</th>\n",
              "      <td>189616</td>\n",
              "      <td>98783</td>\n",
              "      <td>2007-12-14</td>\n",
              "      <td>5</td>\n",
              "      <td>chocolate orange fudge</td>\n",
              "      <td>98783</td>\n",
              "      <td>10</td>\n",
              "      <td>1535</td>\n",
              "      <td>2004-08-31</td>\n",
              "      <td>['15-minutes-or-less', 'time-to-make', 'course...</td>\n",
              "      <td>[137.2, 10.0, 74.0, 0.0, 4.0, 20.0, 6.0]</td>\n",
              "      <td>9</td>\n",
              "      <td>['line a 8x8x2-inch baking pan with lightly bu...</td>\n",
              "      <td>this is so easy and yet it is probably the bes...</td>\n",
              "      <td>['semi-sweet chocolate chips', 'sweetened cond...</td>\n",
              "      <td>4</td>\n",
              "    </tr>\n",
              "    <tr>\n",
              "      <th>4</th>\n",
              "      <td>469903</td>\n",
              "      <td>98783</td>\n",
              "      <td>2007-12-17</td>\n",
              "      <td>5</td>\n",
              "      <td>chocolate orange fudge</td>\n",
              "      <td>98783</td>\n",
              "      <td>10</td>\n",
              "      <td>1535</td>\n",
              "      <td>2004-08-31</td>\n",
              "      <td>['15-minutes-or-less', 'time-to-make', 'course...</td>\n",
              "      <td>[137.2, 10.0, 74.0, 0.0, 4.0, 20.0, 6.0]</td>\n",
              "      <td>9</td>\n",
              "      <td>['line a 8x8x2-inch baking pan with lightly bu...</td>\n",
              "      <td>this is so easy and yet it is probably the bes...</td>\n",
              "      <td>['semi-sweet chocolate chips', 'sweetened cond...</td>\n",
              "      <td>4</td>\n",
              "    </tr>\n",
              "    <tr>\n",
              "      <th>...</th>\n",
              "      <td>...</td>\n",
              "      <td>...</td>\n",
              "      <td>...</td>\n",
              "      <td>...</td>\n",
              "      <td>...</td>\n",
              "      <td>...</td>\n",
              "      <td>...</td>\n",
              "      <td>...</td>\n",
              "      <td>...</td>\n",
              "      <td>...</td>\n",
              "      <td>...</td>\n",
              "      <td>...</td>\n",
              "      <td>...</td>\n",
              "      <td>...</td>\n",
              "      <td>...</td>\n",
              "      <td>...</td>\n",
              "    </tr>\n",
              "    <tr>\n",
              "      <th>50681</th>\n",
              "      <td>368078</td>\n",
              "      <td>31311</td>\n",
              "      <td>2008-12-22</td>\n",
              "      <td>5</td>\n",
              "      <td>stormy s reese s peanut butter cup cookies  2 ...</td>\n",
              "      <td>31311</td>\n",
              "      <td>18</td>\n",
              "      <td>37305</td>\n",
              "      <td>2002-06-17</td>\n",
              "      <td>['30-minutes-or-less', 'time-to-make', 'course...</td>\n",
              "      <td>[166.1, 14.0, 13.0, 5.0, 6.0, 12.0, 6.0]</td>\n",
              "      <td>8</td>\n",
              "      <td>['place unwrapped peanut butter cups in freeze...</td>\n",
              "      <td>refrigerated cookie dough and mini peanut butt...</td>\n",
              "      <td>['miniature peanut butter cups', 'peanut butte...</td>\n",
              "      <td>2</td>\n",
              "    </tr>\n",
              "    <tr>\n",
              "      <th>50682</th>\n",
              "      <td>727055</td>\n",
              "      <td>31311</td>\n",
              "      <td>2009-01-10</td>\n",
              "      <td>5</td>\n",
              "      <td>stormy s reese s peanut butter cup cookies  2 ...</td>\n",
              "      <td>31311</td>\n",
              "      <td>18</td>\n",
              "      <td>37305</td>\n",
              "      <td>2002-06-17</td>\n",
              "      <td>['30-minutes-or-less', 'time-to-make', 'course...</td>\n",
              "      <td>[166.1, 14.0, 13.0, 5.0, 6.0, 12.0, 6.0]</td>\n",
              "      <td>8</td>\n",
              "      <td>['place unwrapped peanut butter cups in freeze...</td>\n",
              "      <td>refrigerated cookie dough and mini peanut butt...</td>\n",
              "      <td>['miniature peanut butter cups', 'peanut butte...</td>\n",
              "      <td>2</td>\n",
              "    </tr>\n",
              "    <tr>\n",
              "      <th>50683</th>\n",
              "      <td>242484</td>\n",
              "      <td>31311</td>\n",
              "      <td>2009-09-29</td>\n",
              "      <td>5</td>\n",
              "      <td>stormy s reese s peanut butter cup cookies  2 ...</td>\n",
              "      <td>31311</td>\n",
              "      <td>18</td>\n",
              "      <td>37305</td>\n",
              "      <td>2002-06-17</td>\n",
              "      <td>['30-minutes-or-less', 'time-to-make', 'course...</td>\n",
              "      <td>[166.1, 14.0, 13.0, 5.0, 6.0, 12.0, 6.0]</td>\n",
              "      <td>8</td>\n",
              "      <td>['place unwrapped peanut butter cups in freeze...</td>\n",
              "      <td>refrigerated cookie dough and mini peanut butt...</td>\n",
              "      <td>['miniature peanut butter cups', 'peanut butte...</td>\n",
              "      <td>2</td>\n",
              "    </tr>\n",
              "    <tr>\n",
              "      <th>50684</th>\n",
              "      <td>470351</td>\n",
              "      <td>31311</td>\n",
              "      <td>2009-12-16</td>\n",
              "      <td>5</td>\n",
              "      <td>stormy s reese s peanut butter cup cookies  2 ...</td>\n",
              "      <td>31311</td>\n",
              "      <td>18</td>\n",
              "      <td>37305</td>\n",
              "      <td>2002-06-17</td>\n",
              "      <td>['30-minutes-or-less', 'time-to-make', 'course...</td>\n",
              "      <td>[166.1, 14.0, 13.0, 5.0, 6.0, 12.0, 6.0]</td>\n",
              "      <td>8</td>\n",
              "      <td>['place unwrapped peanut butter cups in freeze...</td>\n",
              "      <td>refrigerated cookie dough and mini peanut butt...</td>\n",
              "      <td>['miniature peanut butter cups', 'peanut butte...</td>\n",
              "      <td>2</td>\n",
              "    </tr>\n",
              "    <tr>\n",
              "      <th>50685</th>\n",
              "      <td>407007</td>\n",
              "      <td>31311</td>\n",
              "      <td>2010-05-30</td>\n",
              "      <td>5</td>\n",
              "      <td>stormy s reese s peanut butter cup cookies  2 ...</td>\n",
              "      <td>31311</td>\n",
              "      <td>18</td>\n",
              "      <td>37305</td>\n",
              "      <td>2002-06-17</td>\n",
              "      <td>['30-minutes-or-less', 'time-to-make', 'course...</td>\n",
              "      <td>[166.1, 14.0, 13.0, 5.0, 6.0, 12.0, 6.0]</td>\n",
              "      <td>8</td>\n",
              "      <td>['place unwrapped peanut butter cups in freeze...</td>\n",
              "      <td>refrigerated cookie dough and mini peanut butt...</td>\n",
              "      <td>['miniature peanut butter cups', 'peanut butte...</td>\n",
              "      <td>2</td>\n",
              "    </tr>\n",
              "  </tbody>\n",
              "</table>\n",
              "<p>50686 rows × 16 columns</p>\n",
              "</div>\n",
              "      <button class=\"colab-df-convert\" onclick=\"convertToInteractive('df-1909903e-6023-4f66-bc21-a204ddaf9cd2')\"\n",
              "              title=\"Convert this dataframe to an interactive table.\"\n",
              "              style=\"display:none;\">\n",
              "        \n",
              "  <svg xmlns=\"http://www.w3.org/2000/svg\" height=\"24px\"viewBox=\"0 0 24 24\"\n",
              "       width=\"24px\">\n",
              "    <path d=\"M0 0h24v24H0V0z\" fill=\"none\"/>\n",
              "    <path d=\"M18.56 5.44l.94 2.06.94-2.06 2.06-.94-2.06-.94-.94-2.06-.94 2.06-2.06.94zm-11 1L8.5 8.5l.94-2.06 2.06-.94-2.06-.94L8.5 2.5l-.94 2.06-2.06.94zm10 10l.94 2.06.94-2.06 2.06-.94-2.06-.94-.94-2.06-.94 2.06-2.06.94z\"/><path d=\"M17.41 7.96l-1.37-1.37c-.4-.4-.92-.59-1.43-.59-.52 0-1.04.2-1.43.59L10.3 9.45l-7.72 7.72c-.78.78-.78 2.05 0 2.83L4 21.41c.39.39.9.59 1.41.59.51 0 1.02-.2 1.41-.59l7.78-7.78 2.81-2.81c.8-.78.8-2.07 0-2.86zM5.41 20L4 18.59l7.72-7.72 1.47 1.35L5.41 20z\"/>\n",
              "  </svg>\n",
              "      </button>\n",
              "      \n",
              "  <style>\n",
              "    .colab-df-container {\n",
              "      display:flex;\n",
              "      flex-wrap:wrap;\n",
              "      gap: 12px;\n",
              "    }\n",
              "\n",
              "    .colab-df-convert {\n",
              "      background-color: #E8F0FE;\n",
              "      border: none;\n",
              "      border-radius: 50%;\n",
              "      cursor: pointer;\n",
              "      display: none;\n",
              "      fill: #1967D2;\n",
              "      height: 32px;\n",
              "      padding: 0 0 0 0;\n",
              "      width: 32px;\n",
              "    }\n",
              "\n",
              "    .colab-df-convert:hover {\n",
              "      background-color: #E2EBFA;\n",
              "      box-shadow: 0px 1px 2px rgba(60, 64, 67, 0.3), 0px 1px 3px 1px rgba(60, 64, 67, 0.15);\n",
              "      fill: #174EA6;\n",
              "    }\n",
              "\n",
              "    [theme=dark] .colab-df-convert {\n",
              "      background-color: #3B4455;\n",
              "      fill: #D2E3FC;\n",
              "    }\n",
              "\n",
              "    [theme=dark] .colab-df-convert:hover {\n",
              "      background-color: #434B5C;\n",
              "      box-shadow: 0px 1px 3px 1px rgba(0, 0, 0, 0.15);\n",
              "      filter: drop-shadow(0px 1px 2px rgba(0, 0, 0, 0.3));\n",
              "      fill: #FFFFFF;\n",
              "    }\n",
              "  </style>\n",
              "\n",
              "      <script>\n",
              "        const buttonEl =\n",
              "          document.querySelector('#df-1909903e-6023-4f66-bc21-a204ddaf9cd2 button.colab-df-convert');\n",
              "        buttonEl.style.display =\n",
              "          google.colab.kernel.accessAllowed ? 'block' : 'none';\n",
              "\n",
              "        async function convertToInteractive(key) {\n",
              "          const element = document.querySelector('#df-1909903e-6023-4f66-bc21-a204ddaf9cd2');\n",
              "          const dataTable =\n",
              "            await google.colab.kernel.invokeFunction('convertToInteractive',\n",
              "                                                     [key], {});\n",
              "          if (!dataTable) return;\n",
              "\n",
              "          const docLinkHtml = 'Like what you see? Visit the ' +\n",
              "            '<a target=\"_blank\" href=https://colab.research.google.com/notebooks/data_table.ipynb>data table notebook</a>'\n",
              "            + ' to learn more about interactive tables.';\n",
              "          element.innerHTML = '';\n",
              "          dataTable['output_type'] = 'display_data';\n",
              "          await google.colab.output.renderOutput(dataTable, element);\n",
              "          const docLink = document.createElement('div');\n",
              "          docLink.innerHTML = docLinkHtml;\n",
              "          element.appendChild(docLink);\n",
              "        }\n",
              "      </script>\n",
              "    </div>\n",
              "  </div>\n",
              "  "
            ]
          },
          "metadata": {},
          "execution_count": 41
        }
      ]
    },
    {
      "cell_type": "code",
      "source": [
        "contant_df['nutrition_f2']=contant_df['nutrition'].str.split(',', expand = True)[1]\n",
        "contant_df['nutrition_f2']=contant_df['nutrition_f2'].astype(float)\n",
        "contant_df['nutrition_f1']=contant_df['nutrition'].str.split(',', expand = True)[0]\n",
        "contant_df['nutrition_f1']=contant_df['nutrition_f1'].str.replace('[','').astype(float)\n",
        "contant_df['nutrition_f3']=contant_df['nutrition'].str.split(',', expand = True)[2]\n",
        "contant_df['nutrition_f3']=contant_df['nutrition_f3'].astype(float)\n",
        "contant_df['nutrition_f4']=contant_df['nutrition'].str.split(',', expand = True)[3]\n",
        "contant_df['nutrition_f4']=contant_df['nutrition_f4'].astype(float)\n",
        "contant_df['nutrition_f5']=contant_df['nutrition'].str.split(',', expand = True)[4]\n",
        "contant_df['nutrition_f5']=contant_df['nutrition_f5'].str.replace('[','').astype(float)\n",
        "contant_df['nutrition_f6']=contant_df['nutrition'].str.split(',', expand = True)[5]\n",
        "contant_df['nutrition_f6']=contant_df['nutrition_f6'].astype(float)\n",
        "\n",
        "contant_df['nutrition_f7']=contant_df['nutrition'].str.split(',', expand = True)[6]\n",
        "contant_df['nutrition_f7']=contant_df['nutrition_f7'].str.replace(']','').astype(float)"
      ],
      "metadata": {
        "colab": {
          "base_uri": "https://localhost:8080/"
        },
        "id": "j_Jd33ZETgTH",
        "outputId": "a7cc027e-7b32-4225-c003-e641b783f6a0"
      },
      "id": "j_Jd33ZETgTH",
      "execution_count": 54,
      "outputs": [
        {
          "output_type": "stream",
          "name": "stderr",
          "text": [
            "/usr/local/lib/python3.7/dist-packages/ipykernel_launcher.py:4: FutureWarning: The default value of regex will change from True to False in a future version. In addition, single character regular expressions will *not* be treated as literal strings when regex=True.\n",
            "  after removing the cwd from sys.path.\n",
            "/usr/local/lib/python3.7/dist-packages/ipykernel_launcher.py:10: FutureWarning: The default value of regex will change from True to False in a future version. In addition, single character regular expressions will *not* be treated as literal strings when regex=True.\n",
            "  # Remove the CWD from sys.path while we load stuff.\n",
            "/usr/local/lib/python3.7/dist-packages/ipykernel_launcher.py:15: FutureWarning: The default value of regex will change from True to False in a future version. In addition, single character regular expressions will *not* be treated as literal strings when regex=True.\n",
            "  from ipykernel import kernelapp as app\n"
          ]
        }
      ]
    },
    {
      "cell_type": "code",
      "source": [
        "from sklearn.preprocessing import StandardScaler\n",
        "scaler = StandardScaler()\n",
        "\n",
        "contant_df[['nutrition_f1','nutrition_f2','nutrition_f3','nutrition_f4','nutrition_f5','nutrition_f6','nutrition_f7']]=scaler.fit_transform(contant_df[['nutrition_f1','nutrition_f2','nutrition_f3','nutrition_f4','nutrition_f5','nutrition_f6','nutrition_f7']])\n",
        "\n",
        "nutrition_df=contant_df[['nutrition_f1','nutrition_f2','nutrition_f3','nutrition_f4','nutrition_f5','nutrition_f6','nutrition_f7']]"
      ],
      "metadata": {
        "id": "TudenCtDUOhj"
      },
      "id": "TudenCtDUOhj",
      "execution_count": 55,
      "outputs": []
    },
    {
      "cell_type": "code",
      "source": [
        "\n",
        "from sklearn.cluster import KMeans\n",
        "\n",
        "num_clust = 40\n",
        "\n",
        "wcss = []\n",
        "\n",
        "for i in range(1, num_clust+1):\n",
        "    print(f'processing for k={i}')\n",
        "    kmeans = KMeans(n_clusters = i, init = 'k-means++', random_state = 42)\n",
        "    kmeans.fit(nutrition_df)\n",
        "    # inertia method returns wcss for that model\n",
        "    wcss.append(kmeans.inertia_)\n",
        "\n",
        "plt.figure(figsize=(10,5))\n",
        "\n",
        "sns.lineplot(range(1, num_clust+1), wcss,marker='o',color='red')\n",
        "\n",
        "plt.title('The Elbow Method')\n",
        "plt.xlabel('Number of clusters')\n",
        "plt.ylabel('WCSS')\n",
        "plt.show()"
      ],
      "metadata": {
        "colab": {
          "base_uri": "https://localhost:8080/",
          "height": 1000
        },
        "id": "PWB3rqPCUTIU",
        "outputId": "446a87ed-5156-47ad-a519-c4fd5da3a402"
      },
      "id": "PWB3rqPCUTIU",
      "execution_count": 56,
      "outputs": [
        {
          "output_type": "stream",
          "name": "stdout",
          "text": [
            "processing for k=1\n",
            "processing for k=2\n",
            "processing for k=3\n",
            "processing for k=4\n",
            "processing for k=5\n",
            "processing for k=6\n",
            "processing for k=7\n",
            "processing for k=8\n",
            "processing for k=9\n",
            "processing for k=10\n",
            "processing for k=11\n",
            "processing for k=12\n",
            "processing for k=13\n",
            "processing for k=14\n",
            "processing for k=15\n",
            "processing for k=16\n",
            "processing for k=17\n",
            "processing for k=18\n",
            "processing for k=19\n",
            "processing for k=20\n",
            "processing for k=21\n",
            "processing for k=22\n",
            "processing for k=23\n",
            "processing for k=24\n",
            "processing for k=25\n",
            "processing for k=26\n",
            "processing for k=27\n",
            "processing for k=28\n",
            "processing for k=29\n",
            "processing for k=30\n",
            "processing for k=31\n",
            "processing for k=32\n",
            "processing for k=33\n",
            "processing for k=34\n",
            "processing for k=35\n",
            "processing for k=36\n",
            "processing for k=37\n",
            "processing for k=38\n",
            "processing for k=39\n",
            "processing for k=40\n"
          ]
        },
        {
          "output_type": "stream",
          "name": "stderr",
          "text": [
            "/usr/local/lib/python3.7/dist-packages/seaborn/_decorators.py:43: FutureWarning: Pass the following variables as keyword args: x, y. From version 0.12, the only valid positional argument will be `data`, and passing other arguments without an explicit keyword will result in an error or misinterpretation.\n",
            "  FutureWarning\n"
          ]
        },
        {
          "output_type": "display_data",
          "data": {
            "text/plain": [
              "<Figure size 720x360 with 1 Axes>"
            ],
            "image/png": "[encoded data removed]"
          },
          "metadata": {}
        }
      ]
    },
    {
      "cell_type": "code",
      "source": [
        "num_clust = 35\n",
        "\n",
        "kmeans = KMeans(n_clusters = num_clust, init = 'k-means++', random_state = 42)\n",
        "y_kmeans = kmeans.fit_predict(nutrition_df)\n",
        "\n",
        "nutrition_df.loc[:, 'cluster'] = y_kmeans\n",
        "\n",
        "fig = plt.figure()\n",
        "ax = fig.add_axes([0,0,1,1])\n",
        "\n",
        "ax.hist(\n",
        "    y_kmeans,\n",
        "    bins=num_clust,\n",
        "    density=True,\n",
        "    alpha=0.8\n",
        ")\n",
        "\n",
        "plt.title('Distribution by cluster')\n",
        "plt.show()"
      ],
      "metadata": {
        "colab": {
          "base_uri": "https://localhost:8080/",
          "height": 480
        },
        "id": "p6qZbK3wUTev",
        "outputId": "259944d1-d917-4e24-ccc5-c70906e714b9"
      },
      "id": "p6qZbK3wUTev",
      "execution_count": 57,
      "outputs": [
        {
          "output_type": "stream",
          "name": "stderr",
          "text": [
            "/usr/local/lib/python3.7/dist-packages/pandas/core/indexing.py:1667: SettingWithCopyWarning: \n",
            "A value is trying to be set on a copy of a slice from a DataFrame.\n",
            "Try using .loc[row_indexer,col_indexer] = value instead\n",
            "\n",
            "See the caveats in the documentation: https://pandas.pydata.org/pandas-docs/stable/user_guide/indexing.html#returning-a-view-versus-a-copy\n",
            "  self.obj[key] = value\n"
          ]
        },
        {
          "output_type": "display_data",
          "data": {
            "text/plain": [
              "<Figure size 432x288 with 1 Axes>"
            ],
            "image/png": "[encoded data removed]"
          },
          "metadata": {}
        }
      ]
    },
    {
      "cell_type": "code",
      "source": [
        "contant_df['cluster']=nutrition_df['cluster']"
      ],
      "metadata": {
        "id": "e1ot6cwaUZRT"
      },
      "id": "e1ot6cwaUZRT",
      "execution_count": 58,
      "outputs": []
    },
    {
      "cell_type": "code",
      "source": [
        "contant_df=contant_df[['userID','itemID','rating','cluster']]"
      ],
      "metadata": {
        "id": "izJREY-kUaj8"
      },
      "id": "izJREY-kUaj8",
      "execution_count": 62,
      "outputs": []
    },
    {
      "cell_type": "code",
      "source": [
        "interactions_dict = contant_df.groupby(['userID', \n",
        "                                      'itemID',\n",
        "                                      'cluster'])[ 'rating'].sum().reset_index()\n"
      ],
      "metadata": {
        "id": "7ZDWFfoJo7yt"
      },
      "id": "7ZDWFfoJo7yt",
      "execution_count": 63,
      "outputs": []
    },
    {
      "cell_type": "code",
      "source": [
        "interactions_dict = {name: np.array(value) for name, value in interactions_dict.items()}\n",
        "interactions = tf.data.Dataset.from_tensor_slices(interactions_dict)\n",
        "\n",
        "## item features\n",
        "items_dict = contant_df[['itemID']].drop_duplicates()\n",
        "items_dict = {name: np.array(value) for name, value in items_dict.items()}\n",
        "items = tf.data.Dataset.from_tensor_slices(items_dict)\n",
        "\n",
        "## map the features in interactions and items\n",
        "\n",
        "# Select the basic features.\n",
        "interactions = interactions.map(lambda x: {\n",
        "    'userID' : str(x['userID']), \n",
        "    'cluster' : str(x['cluster']),\n",
        "    'itemID' : str(x['itemID']), \n",
        "    'rating' : int(x['rating']),\n",
        "    \n",
        "})\n",
        "\n",
        "items = items.map(lambda x: str(x['itemID']))\n",
        "clusters = interactions.map(lambda x: str(x['cluster']))"
      ],
      "metadata": {
        "id": "Qkoru0p1rlyT"
      },
      "id": "Qkoru0p1rlyT",
      "execution_count": 66,
      "outputs": []
    },
    {
      "cell_type": "code",
      "source": [
        "unique_items = np.unique(np.concatenate(list(items.batch(1000))))\n",
        "unique_user_ids = np.unique(np.concatenate(list(interactions.batch(1_000).map(lambda x: x[\"userID\"]))))\n",
        "unique_cluster = np.unique(np.concatenate(list(interactions.batch(1_000).map(lambda x: x[\"cluster\"]))))"
      ],
      "metadata": {
        "id": "1ZEEiWLbWAWU"
      },
      "id": "1ZEEiWLbWAWU",
      "execution_count": 67,
      "outputs": []
    },
    {
      "cell_type": "code",
      "source": [
        "total=interactions.__len__().numpy()\n",
        "train_size=(int) (total * .8 )\n",
        "test_size=(int) (total * .2 )"
      ],
      "metadata": {
        "id": "Kkd4UZ6eWEXT"
      },
      "id": "Kkd4UZ6eWEXT",
      "execution_count": 68,
      "outputs": []
    },
    {
      "cell_type": "code",
      "source": [
        "tf.random.set_seed(42)\n",
        "shuffled = interactions.shuffle(train_size, seed=42, reshuffle_each_iteration=False)\n",
        "\n",
        "train = shuffled.take(train_size)\n",
        "test = shuffled.skip(train_size).take(test_size)"
      ],
      "metadata": {
        "id": "Uh7wrw4sWHFG"
      },
      "id": "Uh7wrw4sWHFG",
      "execution_count": 69,
      "outputs": []
    },
    {
      "cell_type": "code",
      "source": [
        "class UserModel(tf.keras.Model):\n",
        "\n",
        "    def __init__(self):\n",
        "        super().__init__()\n",
        "        \n",
        "        self.embedding_dimension = 32\n",
        "        max_tokens = 10_000\n",
        "\n",
        "        ## user id\n",
        "        self.user_embedding = tf.keras.Sequential([\n",
        "                                                    tf.keras.layers.experimental.preprocessing.StringLookup(\n",
        "                                                    vocabulary=unique_user_ids, mask_token=None),\n",
        "                                                    tf.keras.layers.Embedding(len(unique_user_ids) + 1, 32),\n",
        "                                                    ])\n",
        "       \n",
        "        \n",
        "              \n",
        "        # authors\n",
        "        self.cluster_embedding = tf.keras.Sequential([\n",
        "                                  tf.keras.layers.experimental.preprocessing.StringLookup(\n",
        "                                    vocabulary=unique_cluster, mask_token=None),\n",
        "                                  tf.keras.layers.Embedding(len(unique_cluster) + 1, self.embedding_dimension)\n",
        "                                ])\n",
        "        \n",
        "        # self.author_vectorizer = tf.keras.layers.experimental.preprocessing.TextVectorization(\n",
        "        #                                                                                 max_tokens=max_tokens)\n",
        "        # self.author_text_embedding = tf.keras.Sequential([\n",
        "        #                           self.author_vectorizer,\n",
        "        #                           tf.keras.layers.Embedding(max_tokens, self.embedding_dimension, mask_zero=True),\n",
        "        #                           tf.keras.layers.GlobalAveragePooling1D(),\n",
        "        #                         ])\n",
        "\n",
        "        # self.author_vectorizer.adapt(clusters)\n",
        "        \n",
        "\n",
        "    def call(self, inputs):\n",
        "        # Take the input dictionary, pass it through each input layer,\n",
        "        # and concatenate the result.\n",
        "        return tf.concat([\n",
        "            self.user_embedding(inputs[\"userID\"]),\n",
        "            self.cluster_embedding(inputs[\"cluster\"]),\n",
        "  \n",
        "        ], axis=1)"
      ],
      "metadata": {
        "id": "6IPWhcB3WIyl"
      },
      "id": "6IPWhcB3WIyl",
      "execution_count": 71,
      "outputs": []
    },
    {
      "cell_type": "code",
      "source": [
        "class QueryModel(tf.keras.Model):\n",
        "    \"\"\"Model for encoding user queries.\"\"\"\n",
        "\n",
        "    def __init__(self, layer_sizes, projection_dim=None):\n",
        "        \"\"\"Model for encoding user queries\n",
        "        \"\"\"\n",
        "        super().__init__()\n",
        "\n",
        "        # We first use the user model for generating embeddings.\n",
        "        self.embedding_model = UserModel()\n",
        "            \n",
        "\n",
        "        # Then construct the layers.\n",
        "        self.dense_layers = tf.keras.Sequential(tfrs.layers.dcn.Cross(projection_dim=projection_dim,\n",
        "                                        kernel_initializer=\"glorot_uniform\"))\n",
        "\n",
        "        # Use the ReLU activation for all but the last layer.\n",
        "        for layer_size in layer_sizes[:-1]:\n",
        "            self.dense_layers.add(tf.keras.layers.Dense(layer_size, activation=\"relu\"))\n",
        "\n",
        "        # No activation for the last layer.\n",
        "        for layer_size in layer_sizes[-1:]:\n",
        "            self.dense_layers.add(tf.keras.layers.Dense(layer_size))\n",
        "\n",
        "    def call(self, inputs):\n",
        "        feature_embedding = self.embedding_model(inputs)\n",
        "        return self.dense_layers(feature_embedding)"
      ],
      "metadata": {
        "id": "htXyft6qWZ8s"
      },
      "id": "htXyft6qWZ8s",
      "execution_count": 72,
      "outputs": []
    },
    {
      "cell_type": "code",
      "source": [
        "class ItemModel(tf.keras.Model):\n",
        "\n",
        "    def __init__(self):\n",
        "        super().__init__()\n",
        "        \n",
        "        self.embedding_dimension = 32\n",
        "\n",
        "        max_tokens = 10_000\n",
        "\n",
        "        self.item_embedding = tf.keras.Sequential([\n",
        "          tf.keras.layers.experimental.preprocessing.StringLookup(\n",
        "              vocabulary=unique_item_ids,mask_token=None),\n",
        "          tf.keras.layers.Embedding(len(unique_item_ids) + 1, self.embedding_dimension)\n",
        "        ])\n",
        "\n",
        "        self.item_vectorizer = tf.keras.layers.experimental.preprocessing.TextVectorization(\n",
        "            max_tokens=max_tokens)\n",
        "\n",
        "        self.item_text_embedding = tf.keras.Sequential([\n",
        "          self.item_vectorizer,\n",
        "          tf.keras.layers.Embedding(max_tokens, self.embedding_dimension, mask_zero=True),\n",
        "          tf.keras.layers.GlobalAveragePooling1D(),\n",
        "        ])\n",
        "\n",
        "        self.item_vectorizer.adapt(items)\n",
        "      \n",
        "    def call(self, items):\n",
        "        return tf.concat([\n",
        "            self.item_embedding(items),\n",
        "            self.item_text_embedding(items),\n",
        "        ], axis=1)"
      ],
      "metadata": {
        "id": "tiZEv5SDWcbO"
      },
      "id": "tiZEv5SDWcbO",
      "execution_count": 73,
      "outputs": []
    },
    {
      "cell_type": "code",
      "source": [
        "class CandidateModel(tf.keras.Model):\n",
        "    \"\"\"Model for encoding items.\"\"\"\n",
        "\n",
        "    def __init__(self, layer_sizes, projection_dim=None):\n",
        "        \"\"\"Model for encoding items.\n",
        "\n",
        "        \n",
        "        \"\"\"\n",
        "        super().__init__()\n",
        "\n",
        "        self.embedding_model = ItemModel()\n",
        "\n",
        "         # Then construct the layers.\n",
        "        self.dense_layers = tf.keras.Sequential(tfrs.layers.dcn.Cross(projection_dim=projection_dim,\n",
        "                                                kernel_initializer=\"glorot_uniform\"))\n",
        "\n",
        "        # Use the ReLU activation for all but the last layer.\n",
        "        for layer_size in layer_sizes[:-1]:\n",
        "            self.dense_layers.add(tf.keras.layers.Dense(layer_size, activation=\"relu\"))\n",
        "\n",
        "        # No activation for the last layer.\n",
        "        for layer_size in layer_sizes[-1:]:\n",
        "            self.dense_layers.add(tf.keras.layers.Dense(layer_size))\n",
        "\n",
        "    def call(self, inputs):\n",
        "        feature_embedding = self.embedding_model(inputs)\n",
        "        return self.dense_layers(feature_embedding)"
      ],
      "metadata": {
        "id": "ybmMnPeEWd91"
      },
      "id": "ybmMnPeEWd91",
      "execution_count": 74,
      "outputs": []
    },
    {
      "cell_type": "code",
      "source": [
        "class CrossDNNModel(tfrs.models.Model):\n",
        "\n",
        "    def __init__(self, layer_sizes, rating_weight: float, retrieval_weight: float, projection_dim=None ):\n",
        "        super().__init__()\n",
        "        \n",
        "        self.query_model : tf.keras.Model = QueryModel(layer_sizes)\n",
        "        self.candidate_model : tf.keras.Model = CandidateModel(layer_sizes)\n",
        "        \n",
        "        ## rating and retrieval task.\n",
        "        \n",
        "        self.rating_task = tfrs.tasks.Ranking(\n",
        "            loss=tf.keras.losses.MeanSquaredError(),\n",
        "            metrics=[tf.keras.metrics.RootMeanSquaredError()],\n",
        "        )\n",
        "                 \n",
        "        self.retrieval_task : tf.keras.layers.Layer = tfrs.tasks.Retrieval(\n",
        "            metrics=tfrs.metrics.FactorizedTopK(\n",
        "                candidates=items.batch(128).map(self.candidate_model)\n",
        "            )\n",
        "        )\n",
        "\n",
        "        # The loss weights.\n",
        "        self.rating_weight = rating_weight\n",
        "        self.retrieval_weight = retrieval_weight\n",
        "\n",
        "    def compute_loss(self, features, training=False):\n",
        "        \n",
        "        # We only pass the user id and timestamp features into the query model. This\n",
        "        # is to ensure that the training inputs would have the same keys as the\n",
        "        # query inputs. Otherwise the discrepancy in input structure would cause an\n",
        "        # error when loading the query model after saving it.\n",
        "        ratings = features.pop(\"rating\")\n",
        "        \n",
        "        query_embeddings = self.query_model({\n",
        "            \"userID\": features[\"userID\"],\n",
        "            \"cluster\": features[\"cluster\"],\n",
        "          \n",
        "        })\n",
        "    \n",
        "        item_embeddings = self.candidate_model(features[\"itemID\"])       \n",
        "        retrieval_loss = self.retrieval_task(query_embeddings, item_embeddings)\n",
        "    \n",
        "    \n",
        "        return self.retrieval_task(query_embeddings, item_embeddings)"
      ],
      "metadata": {
        "id": "ouvVj-I8WgBN"
      },
      "id": "ouvVj-I8WgBN",
      "execution_count": 75,
      "outputs": []
    },
    {
      "cell_type": "code",
      "source": [
        "cached_train = train.shuffle(100_000).batch(32).cache()\n",
        "cached_test = test.batch(32).cache()\n",
        "\n",
        "model = CrossDNNModel([32], rating_weight=0.5, retrieval_weight=0.5, \n",
        "                      projection_dim=None)\n",
        "\n",
        "model.compile(optimizer=tf.keras.optimizers.Adagrad(0.1))\n",
        "\n",
        "modelhist_dcn=model.fit(cached_train, validation_data=cached_test,\n",
        "        validation_freq=5, epochs=3)\n",
        "\n",
        "metrics = model.evaluate(cached_test, return_dict=True)\n",
        "\n",
        "print(f\"Retrieval top-100 accuracy: {metrics['factorized_top_k/top_100_categorical_accuracy']:.3f}.\")\n",
        "print(f\"Retrieval top-50 accuracy: {metrics['factorized_top_k/top_50_categorical_accuracy']:.3f}.\")\n",
        "print(f\"Retrieval top-10 accuracy: {metrics['factorized_top_k/top_10_categorical_accuracy']:.3f}.\")\n",
        "print(f\"Retrieval top-5 accuracy: {metrics['factorized_top_k/top_5_categorical_accuracy']:.3f}.\")\n",
        "print(f\"Retrieval top-1 accuracy: {metrics['factorized_top_k/top_1_categorical_accuracy']:.3f}.\")"
      ],
      "metadata": {
        "colab": {
          "base_uri": "https://localhost:8080/"
        },
        "id": "Dm1zlp7SWjZf",
        "outputId": "271e100d-ea26-4fd6-c94c-9bddd1135e4f"
      },
      "id": "Dm1zlp7SWjZf",
      "execution_count": 76,
      "outputs": [
        {
          "output_type": "stream",
          "name": "stdout",
          "text": [
            "Epoch 1/3\n",
            "1268/1268 [==============================] - 266s 208ms/step - root_mean_squared_error: 0.0000e+00 - factorized_top_k/top_1_categorical_accuracy: 0.0000e+00 - factorized_top_k/top_5_categorical_accuracy: 0.0000e+00 - factorized_top_k/top_10_categorical_accuracy: 0.0000e+00 - factorized_top_k/top_50_categorical_accuracy: 0.0000e+00 - factorized_top_k/top_100_categorical_accuracy: 0.0000e+00 - loss: 110.7375 - regularization_loss: 0.0000e+00 - total_loss: 110.7375\n",
            "Epoch 2/3\n",
            "1268/1268 [==============================] - 255s 201ms/step - root_mean_squared_error: 0.0000e+00 - factorized_top_k/top_1_categorical_accuracy: 0.0000e+00 - factorized_top_k/top_5_categorical_accuracy: 0.0000e+00 - factorized_top_k/top_10_categorical_accuracy: 0.0000e+00 - factorized_top_k/top_50_categorical_accuracy: 0.0000e+00 - factorized_top_k/top_100_categorical_accuracy: 0.0000e+00 - loss: 110.7375 - regularization_loss: 0.0000e+00 - total_loss: 110.7375\n",
            "Epoch 3/3\n",
            "1268/1268 [==============================] - 257s 202ms/step - root_mean_squared_error: 0.0000e+00 - factorized_top_k/top_1_categorical_accuracy: 0.0000e+00 - factorized_top_k/top_5_categorical_accuracy: 0.0000e+00 - factorized_top_k/top_10_categorical_accuracy: 0.0000e+00 - factorized_top_k/top_50_categorical_accuracy: 0.0000e+00 - factorized_top_k/top_100_categorical_accuracy: 0.0000e+00 - loss: 110.7375 - regularization_loss: 0.0000e+00 - total_loss: 110.7375\n",
            "317/317 [==============================] - 67s 208ms/step - root_mean_squared_error: 0.0000e+00 - factorized_top_k/top_1_categorical_accuracy: 0.0000e+00 - factorized_top_k/top_5_categorical_accuracy: 0.0000e+00 - factorized_top_k/top_10_categorical_accuracy: 0.0000e+00 - factorized_top_k/top_50_categorical_accuracy: 0.0000e+00 - factorized_top_k/top_100_categorical_accuracy: 0.0000e+00 - loss: 110.7122 - regularization_loss: 0.0000e+00 - total_loss: 110.7122\n",
            "Retrieval top-100 accuracy: 0.000.\n",
            "Retrieval top-50 accuracy: 0.000.\n",
            "Retrieval top-10 accuracy: 0.000.\n",
            "Retrieval top-5 accuracy: 0.000.\n",
            "Retrieval top-1 accuracy: 0.000.\n"
          ]
        }
      ]
    }
  ],
  "metadata": {
    "kernelspec": {
      "display_name": "Python 3",
      "language": "python",
      "name": "python3"
    },
    "language_info": {
      "codemirror_mode": {
        "name": "ipython",
        "version": 3
      },
      "file_extension": ".py",
      "mimetype": "text/x-python",
      "name": "python",
      "nbconvert_exporter": "python",
      "pygments_lexer": "ipython3",
      "version": "3.6.5"
    },
    "colab": {
      "name": "Food_com_multitask_recommendations.ipynb",
      "provenance": [],
      "collapsed_sections": [],
      "machine_shape": "hm"
    },
    "accelerator": "GPU",
    "gpuClass": "standard"
  },
  "nbformat": 4,
  "nbformat_minor": 5
}
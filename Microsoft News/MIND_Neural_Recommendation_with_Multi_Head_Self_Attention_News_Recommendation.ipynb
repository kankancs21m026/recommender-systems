{
  "cells": [
    {
      "cell_type": "markdown",
      "source": [
        "#Multi Head Self-Attention "
      ],
      "metadata": {
        "id": "sIIjkR1xYSvR"
      },
      "id": "sIIjkR1xYSvR"
    },
    {
      "cell_type": "markdown",
      "source": [
        "https://aclanthology.org/D19-1671.pdf"
      ],
      "metadata": {
        "id": "zb3scjy6YXCV"
      },
      "id": "zb3scjy6YXCV"
    },
    {
      "cell_type": "code",
      "execution_count": null,
      "id": "84eddad3",
      "metadata": {
        "id": "84eddad3"
      },
      "outputs": [],
      "source": [
        "from datetime import datetime\n",
        "import os\n",
        "import matplotlib\n",
        "import pandas as pd\n",
        "import numpy as np\n",
        "import matplotlib.pyplot as plt\n",
        "import seaborn as sns\n",
        "sns.set_style('whitegrid')\n",
        "\n",
        "from scipy import sparse\n",
        "from scipy.sparse import csc_matrix\n",
        "from sklearn.decomposition import TruncatedSVD\n",
        "\n",
        "np.random.seed(0)"
      ]
    },
    {
      "cell_type": "markdown",
      "id": "85495bf1",
      "metadata": {
        "id": "85495bf1"
      },
      "source": [
        "### Microsoft news dataset  \n",
        "https://msnews.github.io/\n",
        "\n",
        "https://docs.microsoft.com/en-us/azure/open-datasets/dataset-microsoft-news?tabs=azureml-opendatasets\n",
        "\n",
        "https://github.com/wuch15/EMNLP2019-NRMS\n"
      ]
    },
    {
      "cell_type": "code",
      "source": [
        "!pip install gdown"
      ],
      "metadata": {
        "id": "3mSlGMHVpAt_",
        "colab": {
          "base_uri": "https://localhost:8080/"
        },
        "outputId": "4d04745f-9e28-4985-9e14-f6e58047faae"
      },
      "id": "3mSlGMHVpAt_",
      "execution_count": null,
      "outputs": [
        {
          "output_type": "stream",
          "name": "stdout",
          "text": [
            "Looking in indexes: https://pypi.org/simple, https://us-python.pkg.dev/colab-wheels/public/simple/\n",
            "Requirement already satisfied: gdown in /usr/local/lib/python3.7/dist-packages (4.4.0)\n",
            "Requirement already satisfied: requests[socks] in /usr/local/lib/python3.7/dist-packages (from gdown) (2.23.0)\n",
            "Requirement already satisfied: beautifulsoup4 in /usr/local/lib/python3.7/dist-packages (from gdown) (4.6.3)\n",
            "Requirement already satisfied: tqdm in /usr/local/lib/python3.7/dist-packages (from gdown) (4.64.0)\n",
            "Requirement already satisfied: six in /usr/local/lib/python3.7/dist-packages (from gdown) (1.15.0)\n",
            "Requirement already satisfied: filelock in /usr/local/lib/python3.7/dist-packages (from gdown) (3.8.0)\n",
            "Requirement already satisfied: idna<3,>=2.5 in /usr/local/lib/python3.7/dist-packages (from requests[socks]->gdown) (2.10)\n",
            "Requirement already satisfied: urllib3!=1.25.0,!=1.25.1,<1.26,>=1.21.1 in /usr/local/lib/python3.7/dist-packages (from requests[socks]->gdown) (1.24.3)\n",
            "Requirement already satisfied: certifi>=2017.4.17 in /usr/local/lib/python3.7/dist-packages (from requests[socks]->gdown) (2022.6.15)\n",
            "Requirement already satisfied: chardet<4,>=3.0.2 in /usr/local/lib/python3.7/dist-packages (from requests[socks]->gdown) (3.0.4)\n",
            "Requirement already satisfied: PySocks!=1.5.7,>=1.5.6 in /usr/local/lib/python3.7/dist-packages (from requests[socks]->gdown) (1.7.1)\n"
          ]
        }
      ]
    },
    {
      "cell_type": "code",
      "source": [
        "!gdown https://drive.google.com/uc?id=1Wro_pVngRi0OVig_i0Edfh5xcCyJQTpD\n",
        "!gdown https://drive.google.com/uc?id=1bXSeI0FIJCSUlRUxOJrGgg-hTdqdpv-F\n"
      ],
      "metadata": {
        "colab": {
          "base_uri": "https://localhost:8080/"
        },
        "id": "JN6L-XVUpDB3",
        "outputId": "b951de44-9c25-4b94-c643-dda0acaf205f"
      },
      "id": "JN6L-XVUpDB3",
      "execution_count": null,
      "outputs": [
        {
          "output_type": "stream",
          "name": "stdout",
          "text": [
            "Downloading...\n",
            "From: https://drive.google.com/uc?id=1Wro_pVngRi0OVig_i0Edfh5xcCyJQTpD\n",
            "To: /content/MINDsmall_train.zip\n",
            "100% 53.0M/53.0M [00:00<00:00, 276MB/s]\n",
            "Downloading...\n",
            "From: https://drive.google.com/uc?id=1bXSeI0FIJCSUlRUxOJrGgg-hTdqdpv-F\n",
            "To: /content/MINDsmall_dev.zip\n",
            "100% 30.9M/30.9M [00:00<00:00, 215MB/s]\n"
          ]
        }
      ]
    },
    {
      "cell_type": "code",
      "source": [
        "!unzip \"MINDsmall_dev.zip\"  -d  \"/content/val\"\n",
        "!unzip \"MINDsmall_train.zip\"  -d  \"/content/train\""
      ],
      "metadata": {
        "colab": {
          "base_uri": "https://localhost:8080/"
        },
        "id": "ncJF1kivt_uR",
        "outputId": "090d5703-438b-4c09-9c91-7d073a057a40"
      },
      "id": "ncJF1kivt_uR",
      "execution_count": null,
      "outputs": [
        {
          "output_type": "stream",
          "name": "stdout",
          "text": [
            "Archive:  MINDsmall_dev.zip\n",
            "replace /content/val/behaviors.tsv? [y]es, [n]o, [A]ll, [N]one, [r]ename: y\n",
            "  inflating: /content/val/behaviors.tsv  \n",
            "replace /content/val/entity_embedding.vec? [y]es, [n]o, [A]ll, [N]one, [r]ename: y\n",
            "  inflating: /content/val/entity_embedding.vec  \n",
            "replace /content/val/news.tsv? [y]es, [n]o, [A]ll, [N]one, [r]ename: y\n",
            "  inflating: /content/val/news.tsv   \n",
            "replace /content/val/relation_embedding.vec? [y]es, [n]o, [A]ll, [N]one, [r]ename: y\n",
            "  inflating: /content/val/relation_embedding.vec  \n",
            "Archive:  MINDsmall_train.zip\n",
            "replace /content/train/behaviors.tsv? [y]es, [n]o, [A]ll, [N]one, [r]ename: y\n",
            "  inflating: /content/train/behaviors.tsv  \n",
            "replace /content/train/entity_embedding.vec? [y]es, [n]o, [A]ll, [N]one, [r]ename: y\n",
            "  inflating: /content/train/entity_embedding.vec  \n",
            "replace /content/train/news.tsv? [y]es, [n]o, [A]ll, [N]one, [r]ename: y\n",
            "  inflating: /content/train/news.tsv  \n",
            "replace /content/train/relation_embedding.vec? [y]es, [n]o, [A]ll, [N]one, [r]ename: y\n",
            "  inflating: /content/train/relation_embedding.vec  \n"
          ]
        }
      ]
    },
    {
      "cell_type": "markdown",
      "source": [
        "### behaviors data\n",
        "- [Impression ID] [User ID] [Impression Time] [User Click History] [Impression News]\n",
        "\n",
        "### news data\n",
        "- [News ID] [Category] [Subcategory] [News Title] [News Abstrct] [News Url] [Entities in News Title] [Entities in News Abstract] ..."
      ],
      "metadata": {
        "id": "fsUaVh3_ZPE_"
      },
      "id": "fsUaVh3_ZPE_"
    },
    {
      "cell_type": "markdown",
      "source": [
        "Generate Embedding:\n",
        "\n",
        "- word embeddings\n",
        "-  news vertical embeddings\n",
        "-  news subvertical embeddings \n",
        "-  user id embedding."
      ],
      "metadata": {
        "id": "BLcGqqevs67L"
      },
      "id": "BLcGqqevs67L"
    },
    {
      "cell_type": "code",
      "source": [
        "!pip install recommenders"
      ],
      "metadata": {
        "id": "5ADTWG-Cs5Vj"
      },
      "id": "5ADTWG-Cs5Vj",
      "execution_count": null,
      "outputs": []
    },
    {
      "cell_type": "code",
      "source": [
        "import sys\n",
        "import os\n",
        "import pandas as pd\n",
        "from collections import Counter\n",
        "from tqdm import tqdm\n",
        "import pickle\n",
        "import numpy as np\n",
        "\n",
        "\n",
        "from tempfile import TemporaryDirectory\n",
        "from recommenders.datasets.mind import (download_mind,\n",
        "                                     extract_mind,\n",
        "                                     download_and_extract_glove,\n",
        "                                     load_glove_matrix,\n",
        "                                     word_tokenize\n",
        "                                    )\n",
        "from recommenders.datasets.download_utils import unzip_file"
      ],
      "metadata": {
        "id": "-1Mukvv_tK-b"
      },
      "id": "-1Mukvv_tK-b",
      "execution_count": null,
      "outputs": []
    },
    {
      "cell_type": "code",
      "source": [
        "word_embedding_dim = 300"
      ],
      "metadata": {
        "id": "zTv3k6r7tgND"
      },
      "id": "zTv3k6r7tgND",
      "execution_count": null,
      "outputs": []
    },
    {
      "cell_type": "code",
      "source": [
        "data_path=\"train/\"\n",
        "val_data_path=\"val/\""
      ],
      "metadata": {
        "id": "nnqFbc_PaITw"
      },
      "id": "nnqFbc_PaITw",
      "execution_count": null,
      "outputs": []
    },
    {
      "cell_type": "code",
      "source": [
        "news = pd.read_table(os.path.join(data_path, 'news.tsv'),\n",
        "                     names=['newid', 'vertical', 'subvertical', 'title',\n",
        "                            'abstract', 'url', 'entities in title', 'entities in abstract'],\n",
        "                     usecols = ['vertical', 'subvertical', 'title', 'abstract'])\n",
        "news.head(3)"
      ],
      "metadata": {
        "colab": {
          "base_uri": "https://localhost:8080/",
          "height": 239
        },
        "id": "8Ub9a0prtkHc",
        "outputId": "81352d3f-d6b3-4d47-fb64-d1c082802117"
      },
      "id": "8Ub9a0prtkHc",
      "execution_count": null,
      "outputs": [
        {
          "output_type": "execute_result",
          "data": {
            "text/plain": [
              "    vertical      subvertical  \\\n",
              "0  lifestyle  lifestyleroyals   \n",
              "1     health       weightloss   \n",
              "2       news        newsworld   \n",
              "\n",
              "                                               title  \\\n",
              "0  The Brands Queen Elizabeth, Prince Charles, an...   \n",
              "1                      50 Worst Habits For Belly Fat   \n",
              "2  The Cost of Trump's Aid Freeze in the Trenches...   \n",
              "\n",
              "                                            abstract  \n",
              "0  Shop the notebooks, jackets, and more that the...  \n",
              "1  These seemingly harmless habits are holding yo...  \n",
              "2  Lt. Ivan Molchanets peeked over a parapet of s...  "
            ],
            "text/html": [
              "\n",
              "  <div id=\"df-fb4d3c69-0efb-4832-932a-e8a8a02db9f1\">\n",
              "    <div class=\"colab-df-container\">\n",
              "      <div>\n",
              "<style scoped>\n",
              "    .dataframe tbody tr th:only-of-type {\n",
              "        vertical-align: middle;\n",
              "    }\n",
              "\n",
              "    .dataframe tbody tr th {\n",
              "        vertical-align: top;\n",
              "    }\n",
              "\n",
              "    .dataframe thead th {\n",
              "        text-align: right;\n",
              "    }\n",
              "</style>\n",
              "<table border=\"1\" class=\"dataframe\">\n",
              "  <thead>\n",
              "    <tr style=\"text-align: right;\">\n",
              "      <th></th>\n",
              "      <th>vertical</th>\n",
              "      <th>subvertical</th>\n",
              "      <th>title</th>\n",
              "      <th>abstract</th>\n",
              "    </tr>\n",
              "  </thead>\n",
              "  <tbody>\n",
              "    <tr>\n",
              "      <th>0</th>\n",
              "      <td>lifestyle</td>\n",
              "      <td>lifestyleroyals</td>\n",
              "      <td>The Brands Queen Elizabeth, Prince Charles, an...</td>\n",
              "      <td>Shop the notebooks, jackets, and more that the...</td>\n",
              "    </tr>\n",
              "    <tr>\n",
              "      <th>1</th>\n",
              "      <td>health</td>\n",
              "      <td>weightloss</td>\n",
              "      <td>50 Worst Habits For Belly Fat</td>\n",
              "      <td>These seemingly harmless habits are holding yo...</td>\n",
              "    </tr>\n",
              "    <tr>\n",
              "      <th>2</th>\n",
              "      <td>news</td>\n",
              "      <td>newsworld</td>\n",
              "      <td>The Cost of Trump's Aid Freeze in the Trenches...</td>\n",
              "      <td>Lt. Ivan Molchanets peeked over a parapet of s...</td>\n",
              "    </tr>\n",
              "  </tbody>\n",
              "</table>\n",
              "</div>\n",
              "      <button class=\"colab-df-convert\" onclick=\"convertToInteractive('df-fb4d3c69-0efb-4832-932a-e8a8a02db9f1')\"\n",
              "              title=\"Convert this dataframe to an interactive table.\"\n",
              "              style=\"display:none;\">\n",
              "        \n",
              "  <svg xmlns=\"http://www.w3.org/2000/svg\" height=\"24px\"viewBox=\"0 0 24 24\"\n",
              "       width=\"24px\">\n",
              "    <path d=\"M0 0h24v24H0V0z\" fill=\"none\"/>\n",
              "    <path d=\"M18.56 5.44l.94 2.06.94-2.06 2.06-.94-2.06-.94-.94-2.06-.94 2.06-2.06.94zm-11 1L8.5 8.5l.94-2.06 2.06-.94-2.06-.94L8.5 2.5l-.94 2.06-2.06.94zm10 10l.94 2.06.94-2.06 2.06-.94-2.06-.94-.94-2.06-.94 2.06-2.06.94z\"/><path d=\"M17.41 7.96l-1.37-1.37c-.4-.4-.92-.59-1.43-.59-.52 0-1.04.2-1.43.59L10.3 9.45l-7.72 7.72c-.78.78-.78 2.05 0 2.83L4 21.41c.39.39.9.59 1.41.59.51 0 1.02-.2 1.41-.59l7.78-7.78 2.81-2.81c.8-.78.8-2.07 0-2.86zM5.41 20L4 18.59l7.72-7.72 1.47 1.35L5.41 20z\"/>\n",
              "  </svg>\n",
              "      </button>\n",
              "      \n",
              "  <style>\n",
              "    .colab-df-container {\n",
              "      display:flex;\n",
              "      flex-wrap:wrap;\n",
              "      gap: 12px;\n",
              "    }\n",
              "\n",
              "    .colab-df-convert {\n",
              "      background-color: #E8F0FE;\n",
              "      border: none;\n",
              "      border-radius: 50%;\n",
              "      cursor: pointer;\n",
              "      display: none;\n",
              "      fill: #1967D2;\n",
              "      height: 32px;\n",
              "      padding: 0 0 0 0;\n",
              "      width: 32px;\n",
              "    }\n",
              "\n",
              "    .colab-df-convert:hover {\n",
              "      background-color: #E2EBFA;\n",
              "      box-shadow: 0px 1px 2px rgba(60, 64, 67, 0.3), 0px 1px 3px 1px rgba(60, 64, 67, 0.15);\n",
              "      fill: #174EA6;\n",
              "    }\n",
              "\n",
              "    [theme=dark] .colab-df-convert {\n",
              "      background-color: #3B4455;\n",
              "      fill: #D2E3FC;\n",
              "    }\n",
              "\n",
              "    [theme=dark] .colab-df-convert:hover {\n",
              "      background-color: #434B5C;\n",
              "      box-shadow: 0px 1px 3px 1px rgba(0, 0, 0, 0.15);\n",
              "      filter: drop-shadow(0px 1px 2px rgba(0, 0, 0, 0.3));\n",
              "      fill: #FFFFFF;\n",
              "    }\n",
              "  </style>\n",
              "\n",
              "      <script>\n",
              "        const buttonEl =\n",
              "          document.querySelector('#df-fb4d3c69-0efb-4832-932a-e8a8a02db9f1 button.colab-df-convert');\n",
              "        buttonEl.style.display =\n",
              "          google.colab.kernel.accessAllowed ? 'block' : 'none';\n",
              "\n",
              "        async function convertToInteractive(key) {\n",
              "          const element = document.querySelector('#df-fb4d3c69-0efb-4832-932a-e8a8a02db9f1');\n",
              "          const dataTable =\n",
              "            await google.colab.kernel.invokeFunction('convertToInteractive',\n",
              "                                                     [key], {});\n",
              "          if (!dataTable) return;\n",
              "\n",
              "          const docLinkHtml = 'Like what you see? Visit the ' +\n",
              "            '<a target=\"_blank\" href=https://colab.research.google.com/notebooks/data_table.ipynb>data table notebook</a>'\n",
              "            + ' to learn more about interactive tables.';\n",
              "          element.innerHTML = '';\n",
              "          dataTable['output_type'] = 'display_data';\n",
              "          await google.colab.output.renderOutput(dataTable, element);\n",
              "          const docLink = document.createElement('div');\n",
              "          docLink.innerHTML = docLinkHtml;\n",
              "          element.appendChild(docLink);\n",
              "        }\n",
              "      </script>\n",
              "    </div>\n",
              "  </div>\n",
              "  "
            ]
          },
          "metadata": {},
          "execution_count": 37
        }
      ]
    },
    {
      "cell_type": "code",
      "source": [
        "news_vertical = news.vertical.drop_duplicates().reset_index(drop=True)\n",
        "vert_dict_inv = news_vertical.to_dict()\n",
        "vert_dict = {v: k+1 for k, v in vert_dict_inv.items()}\n",
        "\n",
        "news_subvertical = news.subvertical.drop_duplicates().reset_index(drop=True)\n",
        "subvert_dict_inv = news_subvertical.to_dict()\n",
        "subvert_dict = {v: k+1 for k, v in vert_dict_inv.items()}"
      ],
      "metadata": {
        "id": "-fpavJ1Ct_Xy"
      },
      "id": "-fpavJ1Ct_Xy",
      "execution_count": null,
      "outputs": []
    },
    {
      "cell_type": "code",
      "source": [
        "news.title = news.title.apply(word_tokenize)\n",
        "news.abstract = news.abstract.apply(word_tokenize)"
      ],
      "metadata": {
        "id": "63sfl1tXuFPY"
      },
      "id": "63sfl1tXuFPY",
      "execution_count": null,
      "outputs": []
    },
    {
      "cell_type": "code",
      "source": [
        "word_cnt = Counter()\n",
        "word_cnt_all = Counter()\n",
        "\n",
        "for i in tqdm(range(len(news))):\n",
        "    word_cnt.update(news.loc[i]['title'])\n",
        "    word_cnt_all.update(news.loc[i]['title'])\n",
        "    word_cnt_all.update(news.loc[i]['abstract'])"
      ],
      "metadata": {
        "colab": {
          "base_uri": "https://localhost:8080/"
        },
        "id": "oGk01LpFuImp",
        "outputId": "cfd4fd78-320d-4408-c75c-8886fb5012cc"
      },
      "id": "oGk01LpFuImp",
      "execution_count": null,
      "outputs": [
        {
          "output_type": "stream",
          "name": "stderr",
          "text": [
            "100%|██████████| 51282/51282 [00:11<00:00, 4483.17it/s]\n"
          ]
        }
      ]
    },
    {
      "cell_type": "code",
      "source": [
        "word_dict = {k: v+1 for k, v in zip(word_cnt, range(len(word_cnt)))}\n",
        "word_dict_all = {k: v+1 for k, v in zip(word_cnt_all, range(len(word_cnt_all)))}"
      ],
      "metadata": {
        "id": "wh_fdSn1uK1y"
      },
      "id": "wh_fdSn1uK1y",
      "execution_count": null,
      "outputs": []
    },
    {
      "cell_type": "code",
      "source": [
        "!mkdir utils"
      ],
      "metadata": {
        "colab": {
          "base_uri": "https://localhost:8080/"
        },
        "id": "wplMyJvOue8q",
        "outputId": "24413859-8ee3-40d7-8856-04c86e23f5be"
      },
      "id": "wplMyJvOue8q",
      "execution_count": null,
      "outputs": [
        {
          "output_type": "stream",
          "name": "stdout",
          "text": [
            "mkdir: cannot create directory ‘utils’: File exists\n"
          ]
        }
      ]
    },
    {
      "cell_type": "code",
      "source": [
        "output_path= 'utils'"
      ],
      "metadata": {
        "id": "BThoSvGcuQ0Q"
      },
      "id": "BThoSvGcuQ0Q",
      "execution_count": null,
      "outputs": []
    },
    {
      "cell_type": "code",
      "source": [
        "with open(os.path.join(output_path, 'vert_dict.pkl'), 'wb') as f:\n",
        "    pickle.dump(vert_dict, f)\n",
        "    \n",
        "with open(os.path.join(output_path, 'subvert_dict.pkl'), 'wb') as f:\n",
        "    pickle.dump(subvert_dict, f)\n",
        "\n",
        "with open(os.path.join(output_path, 'word_dict.pkl'), 'wb') as f:\n",
        "    pickle.dump(word_dict, f)\n",
        "    \n",
        "with open(os.path.join(output_path, 'word_dict_all.pkl'), 'wb') as f:\n",
        "    pickle.dump(word_dict, f)"
      ],
      "metadata": {
        "id": "HuhEgSJUuNQh"
      },
      "id": "HuhEgSJUuNQh",
      "execution_count": null,
      "outputs": []
    },
    {
      "cell_type": "markdown",
      "source": [
        "### Prepare embedding matrixs\n"
      ],
      "metadata": {
        "id": "6aCsgK8FuoOi"
      },
      "id": "6aCsgK8FuoOi"
    },
    {
      "cell_type": "code",
      "source": [
        "glove_path = download_and_extract_glove(data_path)\n",
        "embedding_matrix, exist_word = load_glove_matrix(glove_path, word_dict, word_embedding_dim)\n",
        "embedding_all_matrix, exist_all_word = load_glove_matrix(glove_path, word_dict_all, word_embedding_dim)"
      ],
      "metadata": {
        "colab": {
          "base_uri": "https://localhost:8080/"
        },
        "id": "33Uv_hRMuy98",
        "outputId": "c570e5ae-7977-41ad-afd5-186f2c4f4e53"
      },
      "id": "33Uv_hRMuy98",
      "execution_count": null,
      "outputs": [
        {
          "output_type": "stream",
          "name": "stderr",
          "text": [
            "100%|██████████| 842k/842k [02:39<00:00, 5.27kKB/s]\n"
          ]
        }
      ]
    },
    {
      "cell_type": "code",
      "source": [
        "embedding_matrix, exist_word = load_glove_matrix(glove_path, word_dict, word_embedding_dim)\n",
        "embedding_all_matrix, exist_all_word = load_glove_matrix(glove_path, word_dict_all, word_embedding_dim)"
      ],
      "metadata": {
        "colab": {
          "base_uri": "https://localhost:8080/"
        },
        "id": "99uYAFKowIPq",
        "outputId": "3c294c6b-b2c2-4513-ad89-27b279a7d717"
      },
      "id": "99uYAFKowIPq",
      "execution_count": null,
      "outputs": [
        {
          "output_type": "stream",
          "name": "stderr",
          "text": [
            "400000it [00:08, 47587.68it/s]\n",
            "400000it [00:09, 40745.94it/s]\n"
          ]
        }
      ]
    },
    {
      "cell_type": "code",
      "source": [
        "np.save(os.path.join(output_path, 'embedding.npy'), embedding_matrix)\n",
        "np.save(os.path.join(output_path, 'embedding_all.npy'), embedding_all_matrix)"
      ],
      "metadata": {
        "id": "M_280rDDu3gU"
      },
      "id": "M_280rDDu3gU",
      "execution_count": null,
      "outputs": []
    },
    {
      "cell_type": "markdown",
      "source": [
        "#### uid2index.pkl"
      ],
      "metadata": {
        "id": "xb04prShu5vM"
      },
      "id": "xb04prShu5vM"
    },
    {
      "cell_type": "code",
      "source": [
        "uid2index = {}\n",
        "\n",
        "with open(os.path.join(data_path, 'behaviors.tsv'), 'r') as f:\n",
        "    for l in tqdm(f):\n",
        "        uid = l.strip('\\n').split('\\t')[1]\n",
        "        if uid not in uid2index:\n",
        "            uid2index[uid] = len(uid2index) + 1"
      ],
      "metadata": {
        "colab": {
          "base_uri": "https://localhost:8080/"
        },
        "id": "TZhwKq79u-pC",
        "outputId": "16e8305f-1b4f-44aa-d612-046832bdcfd1"
      },
      "id": "TZhwKq79u-pC",
      "execution_count": null,
      "outputs": [
        {
          "output_type": "stream",
          "name": "stderr",
          "text": [
            "156965it [00:00, 559725.26it/s]\n"
          ]
        }
      ]
    },
    {
      "cell_type": "code",
      "source": [
        "with open(os.path.join(output_path, 'uid2index.pkl'), 'wb') as f:\n",
        "    pickle.dump(uid2index, f)"
      ],
      "metadata": {
        "id": "W82kVYMTvAbx"
      },
      "id": "W82kVYMTvAbx",
      "execution_count": null,
      "outputs": []
    },
    {
      "cell_type": "code",
      "source": [
        "utils_state = {\n",
        "    'vert_num': len(vert_dict),\n",
        "    'subvert_num': len(subvert_dict),\n",
        "    'word_num': len(word_dict),\n",
        "    'word_num_all': len(word_dict_all),\n",
        "    'embedding_exist_num': len(exist_word),\n",
        "    'embedding_exist_num_all': len(exist_all_word),\n",
        "    'uid2index': len(uid2index)\n",
        "}"
      ],
      "metadata": {
        "id": "whJdc2APvC3T"
      },
      "id": "whJdc2APvC3T",
      "execution_count": null,
      "outputs": []
    },
    {
      "cell_type": "markdown",
      "source": [
        "### NRMS"
      ],
      "metadata": {
        "id": "hWSRjJsuvrJ5"
      },
      "id": "hWSRjJsuvrJ5"
    },
    {
      "cell_type": "code",
      "source": [
        "import tensorflow as tf\n",
        "tf.get_logger().setLevel('ERROR') # only show error messages\n",
        "\n",
        "from recommenders.models.deeprec.deeprec_utils import download_deeprec_resources \n",
        "from recommenders.models.newsrec.newsrec_utils import prepare_hparams\n",
        "from recommenders.models.newsrec.models.nrms import NRMSModel\n",
        "from recommenders.models.newsrec.io.mind_iterator import MINDIterator\n",
        "from recommenders.models.newsrec.newsrec_utils import get_mind_data_set"
      ],
      "metadata": {
        "id": "YvYL_gJCvoyJ"
      },
      "id": "YvYL_gJCvoyJ",
      "execution_count": null,
      "outputs": []
    },
    {
      "cell_type": "code",
      "source": [
        "epochs = 5\n",
        "seed = 42\n",
        "batch_size = 32\n",
        "\n",
        "# Options: demo, small, large\n",
        "MIND_type = 'demo'"
      ],
      "metadata": {
        "id": "oFxFaO0wvxXB"
      },
      "id": "oFxFaO0wvxXB",
      "execution_count": null,
      "outputs": []
    },
    {
      "cell_type": "code",
      "source": [
        "train_news_file = os.path.join(data_path, r'news.tsv')\n",
        "train_behaviors_file = os.path.join(data_path, r'behaviors.tsv')\n",
        "valid_news_file = os.path.join(val_data_path, r'news.tsv')\n",
        "valid_behaviors_file = os.path.join(val_data_path, r'behaviors.tsv')\n",
        "wordEmb_file = os.path.join(output_path, \"embedding.npy\")\n",
        "userDict_file = os.path.join(output_path, \"uid2index.pkl\")\n",
        "wordDict_file = os.path.join(output_path, \"word_dict.pkl\")\n",
        "subvert_dict = os.path.join(output_path, \"subvert_dict.pkl\")\n",
        "vert_dict = os.path.join(output_path, \"vert_dict.pkl\")"
      ],
      "metadata": {
        "id": "3mmFmYeFv1Mh"
      },
      "id": "3mmFmYeFv1Mh",
      "execution_count": null,
      "outputs": []
    },
    {
      "cell_type": "code",
      "source": [
        "# data:\n",
        "#   title_size: 30\n",
        "#   body_size: 50\n",
        "#   his_size: 50\n",
        "#   vert_num: 17\n",
        "#   subvert_num: 249\n",
        "#   data_format: naml\n",
        "#   npratio: 4\n",
        "  \n",
        "# info:\n",
        "#   metrics:\n",
        "#   - group_auc\n",
        "#   - mean_mrr\n",
        "#   - ndcg@5;10\n",
        "#   show_step: 100000\n",
        "  \n",
        "# model:\n",
        "#   attention_hidden_dim: 200\n",
        "#   word_emb_dim: 300\n",
        "#   vert_emb_dim: 100\n",
        "#   subvert_emb_dim: 100\n",
        "\n",
        "#   dropout: 0.2\n",
        "#   filter_num: 400\n",
        "#   window_size: 3\n",
        "#   cnn_activation: relu\n",
        "#   model_type: naml\n",
        "#   dense_activation: relu\n",
        "\n",
        "# train:\n",
        "#   batch_size: 64\n",
        "#   epochs: 10\n",
        "#   learning_rate: 0.0001\n",
        "#   loss: cross_entropy_loss\n",
        "#   optimizer: adam\n",
        "#   support_quick_scoring: true\n"
      ],
      "metadata": {
        "id": "SK8-WoHMx29X"
      },
      "id": "SK8-WoHMx29X",
      "execution_count": null,
      "outputs": []
    },
    {
      "cell_type": "code",
      "source": [
        "yaml_file = os.path.join(output_path, r'param.yaml')\n"
      ],
      "metadata": {
        "id": "T6LHTEymwVtU"
      },
      "id": "T6LHTEymwVtU",
      "execution_count": null,
      "outputs": []
    },
    {
      "cell_type": "code",
      "source": [
        "#  from recommenders.models.deeprec.deeprec_utils import download_deeprec_resources\n",
        "#  if not os.path.exists(yaml_file):\n",
        "#         download_deeprec_resources(\n",
        "#             r\"https://recodatasets.z20.web.core.windows.net/newsrec/\",\n",
        "#             os.path.join(output_path, \"utils\"),\n",
        "#             \"MINDdemo_utils.zip\",\n",
        "#         )"
      ],
      "metadata": {
        "colab": {
          "base_uri": "https://localhost:8080/"
        },
        "id": "0EstepMKw98H",
        "outputId": "031aa028-dfc7-4836-9dec-e88f122d8cd0"
      },
      "id": "0EstepMKw98H",
      "execution_count": null,
      "outputs": [
        {
          "output_type": "stream",
          "name": "stderr",
          "text": [
            "100%|██████████| 95.0k/95.0k [00:12<00:00, 7.41kKB/s]\n"
          ]
        }
      ]
    },
    {
      "cell_type": "code",
      "source": [
        "hparams = prepare_hparams(yaml_file, \n",
        "                          wordEmb_file=wordEmb_file,\n",
        "                          wordDict_file=wordDict_file, \n",
        "                          userDict_file=userDict_file,\n",
        "                          batch_size=batch_size,\n",
        "                          subvertDict_file=subvert_dict,\n",
        "                          vertDict_file =vert_dict,\n",
        "                          epochs=epochs,\n",
        "                          show_step=10)\n",
        "print(hparams)"
      ],
      "metadata": {
        "colab": {
          "base_uri": "https://localhost:8080/"
        },
        "id": "3bLRfp8Qx5ZR",
        "outputId": "f8ba1de5-1393-4ff0-b1ec-8f3e033186e1"
      },
      "id": "3bLRfp8Qx5ZR",
      "execution_count": null,
      "outputs": [
        {
          "output_type": "stream",
          "name": "stdout",
          "text": [
            "HParams object with values {'support_quick_scoring': True, 'dropout': 0.2, 'attention_hidden_dim': 200, 'head_num': 4, 'head_dim': 100, 'filter_num': 400, 'window_size': 3, 'vert_emb_dim': 100, 'subvert_emb_dim': 100, 'gru_unit': 400, 'type': 'ini', 'user_emb_dim': 50, 'learning_rate': 0.0001, 'optimizer': 'adam', 'epochs': 5, 'batch_size': 32, 'show_step': 10, 'title_size': 30, 'body_size': 50, 'his_size': 50, 'vert_num': 17, 'subvert_num': 249, 'data_format': 'naml', 'npratio': 4, 'metrics': ['group_auc', 'mean_mrr', 'ndcg@5;10'], 'word_emb_dim': 300, 'cnn_activation': 'relu', 'model_type': 'naml', 'dense_activation': 'relu', 'loss': 'cross_entropy_loss', 'wordEmb_file': 'utils/embedding.npy', 'wordDict_file': 'utils/word_dict.pkl', 'userDict_file': 'utils/uid2index.pkl', 'subvertDict_file': 'utils/subvert_dict.pkl', 'vertDict_file': 'utils/vert_dict.pkl'}\n"
          ]
        }
      ]
    },
    {
      "cell_type": "markdown",
      "source": [
        "### Train the NRMS model\n"
      ],
      "metadata": {
        "id": "iJQbexDP1RTM"
      },
      "id": "iJQbexDP1RTM"
    },
    {
      "cell_type": "code",
      "source": [
        "iterator = MINDIterator"
      ],
      "metadata": {
        "id": "XBXOGT8M1P2b"
      },
      "id": "XBXOGT8M1P2b",
      "execution_count": null,
      "outputs": []
    },
    {
      "cell_type": "code",
      "source": [
        "model = NRMSModel(hparams, iterator, seed=seed)"
      ],
      "metadata": {
        "colab": {
          "base_uri": "https://localhost:8080/"
        },
        "id": "Bw8BbCT81TiE",
        "outputId": "93a5dc7c-6800-4a5c-cd59-a30ef278b460"
      },
      "id": "Bw8BbCT81TiE",
      "execution_count": null,
      "outputs": [
        {
          "output_type": "stream",
          "name": "stderr",
          "text": [
            "/usr/local/lib/python3.7/dist-packages/keras/optimizer_v2/adam.py:105: UserWarning: The `lr` argument is deprecated, use `learning_rate` instead.\n",
            "  super(Adam, self).__init__(name, **kwargs)\n"
          ]
        }
      ]
    },
    {
      "cell_type": "code",
      "source": [
        "print(model.run_eval(valid_news_file, valid_behaviors_file))"
      ],
      "metadata": {
        "colab": {
          "base_uri": "https://localhost:8080/"
        },
        "id": "TVvDRr6G1WoE",
        "outputId": "a6d2cf55-622b-4300-ac1a-73c18468c386"
      },
      "id": "TVvDRr6G1WoE",
      "execution_count": null,
      "outputs": [
        {
          "output_type": "stream",
          "name": "stderr",
          "text": [
            "\r0it [00:00, ?it/s]/usr/local/lib/python3.7/dist-packages/keras/engine/training_v1.py:2079: UserWarning: `Model.state_updates` will be removed in a future version. This property should not be used in TensorFlow 2.0, as `updates` are applied automatically.\n",
            "  updates=self.state_updates,\n",
            "1326it [00:04, 287.36it/s]\n",
            "2286it [00:44, 51.29it/s]\n",
            "73152it [00:08, 8959.96it/s]\n"
          ]
        },
        {
          "output_type": "stream",
          "name": "stdout",
          "text": [
            "{'group_auc': 0.4659, 'mean_mrr': 0.201, 'ndcg@5': 0.2032, 'ndcg@10': 0.265}\n"
          ]
        }
      ]
    },
    {
      "cell_type": "code",
      "source": [
        "model.fit(train_news_file, train_behaviors_file, valid_news_file, valid_behaviors_file)\n"
      ],
      "metadata": {
        "colab": {
          "base_uri": "https://localhost:8080/"
        },
        "id": "UfgAnaPe1ng2",
        "outputId": "c9734bab-2a38-42a5-dbbc-c9325048682d"
      },
      "id": "UfgAnaPe1ng2",
      "execution_count": null,
      "outputs": [
        {
          "output_type": "stream",
          "name": "stderr",
          "text": [
            "step 7380 , total_loss: 1.4067, data_loss: 1.4272: : 7386it [14:02,  8.77it/s]\n",
            "1326it [00:01, 814.53it/s]\n",
            "2286it [00:40, 56.64it/s]\n",
            "73152it [00:07, 9380.47it/s]\n"
          ]
        },
        {
          "output_type": "stream",
          "name": "stdout",
          "text": [
            "at epoch 1\n",
            "train info: logloss loss:1.406682246234273\n",
            "eval info: group_auc:0.6111, mean_mrr:0.2712, ndcg@10:0.3632, ndcg@5:0.2934\n",
            "at epoch 1 , train time: 842.3 eval time: 108.7\n"
          ]
        },
        {
          "output_type": "stream",
          "name": "stderr",
          "text": [
            "step 7380 , total_loss: 1.3218, data_loss: 1.2796: : 7386it [13:52,  8.87it/s]\n",
            "1326it [00:01, 811.84it/s]\n",
            "2286it [00:40, 56.53it/s]\n",
            "73152it [00:07, 9195.13it/s]\n"
          ]
        },
        {
          "output_type": "stream",
          "name": "stdout",
          "text": [
            "at epoch 2\n",
            "train info: logloss loss:1.3217672884399705\n",
            "eval info: group_auc:0.6324, mean_mrr:0.2836, ndcg@10:0.3773, ndcg@5:0.3099\n",
            "at epoch 2 , train time: 832.3 eval time: 108.4\n"
          ]
        },
        {
          "output_type": "stream",
          "name": "stderr",
          "text": [
            "step 7380 , total_loss: 1.2846, data_loss: 1.1310: : 7386it [13:52,  8.88it/s]\n",
            "1326it [00:01, 816.80it/s]\n",
            "2286it [00:40, 56.61it/s]\n",
            "73152it [00:07, 9521.24it/s]\n"
          ]
        },
        {
          "output_type": "stream",
          "name": "stdout",
          "text": [
            "at epoch 3\n",
            "train info: logloss loss:1.2844912215619433\n",
            "eval info: group_auc:0.6388, mean_mrr:0.2893, ndcg@10:0.3847, ndcg@5:0.3172\n",
            "at epoch 3 , train time: 832.1 eval time: 107.7\n"
          ]
        },
        {
          "output_type": "stream",
          "name": "stderr",
          "text": [
            "step 7380 , total_loss: 1.2599, data_loss: 1.2753: : 7386it [13:52,  8.87it/s]\n",
            "1326it [00:01, 816.61it/s]\n",
            "2286it [00:40, 56.58it/s]\n",
            "73152it [00:07, 9382.43it/s]\n"
          ]
        },
        {
          "output_type": "stream",
          "name": "stdout",
          "text": [
            "at epoch 4\n",
            "train info: logloss loss:1.259794737374011\n",
            "eval info: group_auc:0.6455, mean_mrr:0.2954, ndcg@10:0.3907, ndcg@5:0.325\n",
            "at epoch 4 , train time: 832.9 eval time: 108.0\n"
          ]
        },
        {
          "output_type": "stream",
          "name": "stderr",
          "text": [
            "step 7380 , total_loss: 1.2402, data_loss: 1.0269: : 7386it [13:52,  8.87it/s]\n",
            "1326it [00:01, 806.32it/s]\n",
            "2286it [00:40, 56.44it/s]\n",
            "73152it [00:07, 9535.13it/s]\n"
          ]
        },
        {
          "output_type": "stream",
          "name": "stdout",
          "text": [
            "at epoch 5\n",
            "train info: logloss loss:1.2402255413834395\n",
            "eval info: group_auc:0.6457, mean_mrr:0.2981, ndcg@10:0.3925, ndcg@5:0.3253\n",
            "at epoch 5 , train time: 832.5 eval time: 108.0\n"
          ]
        },
        {
          "output_type": "execute_result",
          "data": {
            "text/plain": [
              "<recommenders.models.newsrec.models.nrms.NRMSModel at 0x7f6664c48a50>"
            ]
          },
          "metadata": {},
          "execution_count": 82
        }
      ]
    },
    {
      "cell_type": "code",
      "source": [
        "res_syn = model.run_eval(valid_news_file, valid_behaviors_file)\n",
        "print(res_syn)"
      ],
      "metadata": {
        "colab": {
          "base_uri": "https://localhost:8080/"
        },
        "id": "EfseZmK-1qij",
        "outputId": "ae3d36fa-7017-4a76-bbcb-230f8cd10b52"
      },
      "id": "EfseZmK-1qij",
      "execution_count": null,
      "outputs": [
        {
          "output_type": "stream",
          "name": "stderr",
          "text": [
            "1326it [00:01, 742.37it/s]\n",
            "2286it [00:40, 56.42it/s]\n",
            "73152it [00:08, 8373.77it/s]\n"
          ]
        },
        {
          "output_type": "stream",
          "name": "stdout",
          "text": [
            "{'group_auc': 0.6457, 'mean_mrr': 0.2981, 'ndcg@5': 0.3253, 'ndcg@10': 0.3925}\n"
          ]
        }
      ]
    },
    {
      "cell_type": "code",
      "source": [
        "model_path = os.path.join(data_path, \"model\")\n",
        "os.makedirs(model_path, exist_ok=True)\n",
        "\n",
        "model.model.save_weights(os.path.join(model_path, \"nrms_ckpt\"))"
      ],
      "metadata": {
        "id": "X2KcO3bL1tBL"
      },
      "id": "X2KcO3bL1tBL",
      "execution_count": null,
      "outputs": []
    },
    {
      "cell_type": "code",
      "source": [
        "group_impr_indexes, group_labels, group_preds = model.run_fast_eval(valid_news_file, valid_behaviors_file)\n"
      ],
      "metadata": {
        "colab": {
          "base_uri": "https://localhost:8080/"
        },
        "id": "pW7VVAJgVqsU",
        "outputId": "12fb29c8-99aa-4b35-97ea-75f5124cfce8"
      },
      "id": "pW7VVAJgVqsU",
      "execution_count": null,
      "outputs": [
        {
          "output_type": "stream",
          "name": "stderr",
          "text": [
            "1326it [00:01, 808.22it/s]\n",
            "2286it [00:40, 56.51it/s]\n",
            "73152it [00:09, 7869.39it/s]\n"
          ]
        }
      ]
    },
    {
      "cell_type": "code",
      "source": [
        "with open(os.path.join(data_path, 'prediction.txt'), 'w') as f:\n",
        "    for impr_index, preds in tqdm(zip(group_impr_indexes, group_preds)):\n",
        "        impr_index += 1\n",
        "        pred_rank = (np.argsort(np.argsort(preds)[::-1]) + 1).tolist()\n",
        "        pred_rank = '[' + ','.join([str(i) for i in pred_rank]) + ']'\n",
        "        f.write(' '.join([str(impr_index), pred_rank])+ '\\n')"
      ],
      "metadata": {
        "colab": {
          "base_uri": "https://localhost:8080/"
        },
        "id": "F9VlCWtZViht",
        "outputId": "b3b8c2a6-1052-4fe3-9b57-97721afd9e10"
      },
      "id": "F9VlCWtZViht",
      "execution_count": null,
      "outputs": [
        {
          "output_type": "stream",
          "name": "stderr",
          "text": [
            "73152it [00:01, 56693.38it/s]\n"
          ]
        }
      ]
    }
  ],
  "metadata": {
    "kernelspec": {
      "display_name": "Python 3",
      "language": "python",
      "name": "python3"
    },
    "language_info": {
      "codemirror_mode": {
        "name": "ipython",
        "version": 3
      },
      "file_extension": ".py",
      "mimetype": "text/x-python",
      "name": "python",
      "nbconvert_exporter": "python",
      "pygments_lexer": "ipython3",
      "version": "3.6.5"
    },
    "colab": {
      "name": "MIND :Neural Recommendation with Multi-Head Self-Attention:  News Recommendation.ipynb",
      "provenance": [],
      "collapsed_sections": [],
      "machine_shape": "hm"
    },
    "accelerator": "GPU",
    "gpuClass": "standard"
  },
  "nbformat": 4,
  "nbformat_minor": 5
}
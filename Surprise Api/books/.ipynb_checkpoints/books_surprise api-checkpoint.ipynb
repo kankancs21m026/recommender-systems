{
 "cells": [
  {
   "cell_type": "code",
   "execution_count": 1,
   "id": "d8cbf118",
   "metadata": {
    "id": "5b97d650"
   },
   "outputs": [],
   "source": [
    "import warnings\n",
    "warnings.filterwarnings(\"ignore\")"
   ]
  },
  {
   "cell_type": "code",
   "execution_count": 2,
   "id": "3a2cccfa",
   "metadata": {
    "id": "519937e0"
   },
   "outputs": [],
   "source": [
    "from datetime import datetime\n",
    "import os\n",
    "import matplotlib\n",
    "import pandas as pd\n",
    "import numpy as np\n",
    "import matplotlib.pyplot as plt\n",
    "import seaborn as sns\n",
    "sns.set_style('whitegrid')\n",
    "\n",
    "from scipy import sparse\n",
    "from scipy.sparse import csc_matrix\n",
    "from sklearn.decomposition import TruncatedSVD\n",
    "import random\n",
    "random.seed(0)\n",
    "np.random.seed(0)"
   ]
  },
  {
   "cell_type": "code",
   "execution_count": null,
   "id": "434ab63d",
   "metadata": {},
   "outputs": [],
   "source": [
    "from surprise import accuracy\n",
    "from collections import defaultdict\n",
    "import csv\n",
    "from surprise import Dataset,Reader\n",
    "from surprise.model_selection import cross_validate\n",
    "from surprise.model_selection import train_test_split\n",
    "from surprise.model_selection import LeaveOneOut\n",
    "from surprise.model_selection.split import train_test_split\n",
    "import itertools\n"
   ]
  },
  {
   "cell_type": "markdown",
   "id": "9f97104c",
   "metadata": {
    "id": "1ac47295"
   },
   "source": [
    "## Analyse Dataset"
   ]
  },
  {
   "cell_type": "markdown",
   "id": "680af6f0",
   "metadata": {
    "id": "474dfab9"
   },
   "source": [
    "\n",
    "### Books Dataset\n",
    "https://www.kaggle.com/datasets/arashnic/book-recommendation-dataset\n"
   ]
  },
  {
   "cell_type": "code",
   "execution_count": 3,
   "id": "9280f3e2",
   "metadata": {},
   "outputs": [],
   "source": [
    "rating_path=\"Ratings.csv\""
   ]
  },
  {
   "cell_type": "code",
   "execution_count": 4,
   "id": "8781c7bf",
   "metadata": {},
   "outputs": [
    {
     "data": {
      "text/html": [
       "<div>\n",
       "<style scoped>\n",
       "    .dataframe tbody tr th:only-of-type {\n",
       "        vertical-align: middle;\n",
       "    }\n",
       "\n",
       "    .dataframe tbody tr th {\n",
       "        vertical-align: top;\n",
       "    }\n",
       "\n",
       "    .dataframe thead th {\n",
       "        text-align: right;\n",
       "    }\n",
       "</style>\n",
       "<table border=\"1\" class=\"dataframe\">\n",
       "  <thead>\n",
       "    <tr style=\"text-align: right;\">\n",
       "      <th></th>\n",
       "      <th>User-ID</th>\n",
       "      <th>ISBN</th>\n",
       "      <th>Book-Rating</th>\n",
       "    </tr>\n",
       "  </thead>\n",
       "  <tbody>\n",
       "    <tr>\n",
       "      <th>0</th>\n",
       "      <td>276725</td>\n",
       "      <td>034545104X</td>\n",
       "      <td>0</td>\n",
       "    </tr>\n",
       "  </tbody>\n",
       "</table>\n",
       "</div>"
      ],
      "text/plain": [
       "   User-ID        ISBN  Book-Rating\n",
       "0   276725  034545104X            0"
      ]
     },
     "execution_count": 4,
     "metadata": {},
     "output_type": "execute_result"
    }
   ],
   "source": [
    "rating_df=pd.read_csv(\"Ratings.csv\")\n",
    "rating_df.head(1)"
   ]
  },
  {
   "cell_type": "code",
   "execution_count": 8,
   "id": "e255c6a2",
   "metadata": {},
   "outputs": [
    {
     "data": {
      "image/png": "[encoded data removed]",
      "text/plain": [
       "<Figure size 432x288 with 1 Axes>"
      ]
     },
     "metadata": {
      "needs_background": "light"
     },
     "output_type": "display_data"
    }
   ],
   "source": [
    "\n",
    "import scipy.stats as st\n",
    "\n",
    "\n",
    "ratingCount = (rating_df.\n",
    "     groupby(by = ['ISBN'])['Book-Rating'].\n",
    "     count().\n",
    "     reset_index().\n",
    "     rename(columns = {'Book-Rating': 'totalRatingCount'})\n",
    "     [['ISBN', 'totalRatingCount']]\n",
    "    )\n",
    "data = ratingCount.loc[:, 'totalRatingCount'].values\n",
    "\n",
    "\n",
    "fig = plt.figure()\n",
    "ax = fig.add_axes([0,0,1,1])\n",
    "\n",
    "ax.hist(\n",
    "    data,\n",
    "    alpha=0.9,\n",
    "    bins=50,\n",
    "    density=True,\n",
    "    cumulative=False\n",
    ")\n",
    "\n",
    "\n",
    "plt.xlabel('totalRatingCount')\n",
    "plt.title('cumulative totalRatingCount distribution')\n",
    "plt.show()"
   ]
  },
  {
   "cell_type": "markdown",
   "id": "a7424882",
   "metadata": {},
   "source": [
    "## Prepare dataset"
   ]
  },
  {
   "cell_type": "code",
   "execution_count": 9,
   "id": "00ecbc32",
   "metadata": {},
   "outputs": [],
   "source": [
    "\n",
    "rating_df=rating_df[['User-ID','ISBN','Book-Rating']]"
   ]
  },
  {
   "cell_type": "code",
   "execution_count": 13,
   "id": "4a15a549",
   "metadata": {},
   "outputs": [],
   "source": [
    "reader = Reader(rating_scale=(0, 5))\n",
    "data = Dataset.load_from_df(rating_df[['User-ID','ISBN','Book-Rating']], reader)\n",
    "trainset, testset = train_test_split(data, test_size=0.25)"
   ]
  },
  {
   "cell_type": "code",
   "execution_count": 14,
   "id": "cb996af0",
   "metadata": {},
   "outputs": [],
   "source": [
    "fullTrainSet = data.build_full_trainset()"
   ]
  },
  {
   "cell_type": "markdown",
   "id": "2e262649",
   "metadata": {},
   "source": [
    "# Define recommender metrics"
   ]
  },
  {
   "cell_type": "markdown",
   "id": "5a4a60b3",
   "metadata": {},
   "source": [
    "### Rating Prediction"
   ]
  },
  {
   "cell_type": "code",
   "execution_count": 15,
   "id": "be1de743",
   "metadata": {},
   "outputs": [],
   "source": [
    "from surprise import accuracy\n",
    "from collections import defaultdict\n",
    "def MAE(predictions):\n",
    "    return accuracy.mae(predictions, verbose=False)\n",
    "def RMSE(predictions):\n",
    "    return accuracy.rmse(predictions, verbose=False)"
   ]
  },
  {
   "cell_type": "markdown",
   "id": "0e0d775e",
   "metadata": {},
   "source": [
    "### Popular movies based on rating count"
   ]
  },
  {
   "cell_type": "code",
   "execution_count": 16,
   "id": "e8afbe70",
   "metadata": {},
   "outputs": [],
   "source": [
    "\n",
    "from collections import defaultdict\n",
    "def getPopularityMoviesBasedOnRatingCount(top_n=None):\n",
    "    ratings = defaultdict(int)\n",
    "    rankings = defaultdict(int)\n",
    "    with open(rating_path, newline='') as csvfile:\n",
    "        ratingReader = csv.reader(csvfile)\n",
    "        next(ratingReader)\n",
    "        for row in ratingReader:\n",
    "            movieID = int(row[1])\n",
    "            #increse rating count for that movie\n",
    "            ratings[movieID] += 1\n",
    "    rank = 1\n",
    "    for movieID, ratingCount in sorted(ratings.items(), key=lambda x: x[1], reverse=True):\n",
    "        rankings[movieID] = rank\n",
    "        rank += 1\n",
    "    if top_n is None:\n",
    "        return rankings\n",
    "    else:\n",
    "        return sorted(rankings, key=rankings.get, reverse=False)[:top_n]\n",
    "    "
   ]
  },
  {
   "cell_type": "markdown",
   "id": "7ddcd183",
   "metadata": {},
   "source": [
    "### Top N predictions"
   ]
  },
  {
   "cell_type": "code",
   "execution_count": 17,
   "id": "8a5b1e29",
   "metadata": {},
   "outputs": [],
   "source": [
    "def Get_Top_Predictions(predictions, n=10, minimumRating=3.0):\n",
    "    topN = defaultdict(list)\n",
    "    for uid, mid, actualRating, estimatedRating, _ in predictions:\n",
    "        if (estimatedRating >= minimumRating):\n",
    "            topN[int(uid)].append((int(mid), estimatedRating))\n",
    "    for uid, ratings in topN.items():\n",
    "        ratings.sort(key=lambda x: x[1], reverse=True)\n",
    "        topN[int(uid)] = ratings[:n]\n",
    "    return topN"
   ]
  },
  {
   "cell_type": "markdown",
   "id": "15f50505",
   "metadata": {},
   "source": [
    "###  See how often we recommended a movie the user actually rated"
   ]
  },
  {
   "cell_type": "code",
   "execution_count": 18,
   "id": "4826b37c",
   "metadata": {},
   "outputs": [],
   "source": [
    "def HitRate(topNPredicted, topNPredictedOnActualDataSet):\n",
    "    totalhit_ratio=0;\n",
    "    totalcount=0\n",
    "    for userid in topNPredictedOnActualDataSet:\n",
    "        totalcount+=1\n",
    "        hit=0\n",
    "        total=0\n",
    "        predictions=[]\n",
    "        actual_predictions=[]\n",
    "        for movie,_ in topNPredicted[int(userid)]:\n",
    "            predictions.append(movie)\n",
    "        for movie,_ in topNPredictedOnActualDataSet[int(userid)]:\n",
    "            actual_predictions.append(movie)\n",
    "            \n",
    "        for i in predictions:\n",
    "            total+=1\n",
    "            if i in actual_predictions:\n",
    "                hit+=1\n",
    "            \n",
    "        totalhit_ratio+=(hit/total)  \n",
    "       \n",
    "    return (totalhit_ratio/totalcount)"
   ]
  },
  {
   "cell_type": "code",
   "execution_count": null,
   "id": "eae57a47",
   "metadata": {},
   "outputs": [],
   "source": [
    "def hitRateLeaveOneOut(topNPredicted, leftOutPredictions):\n",
    "    hits = 0\n",
    "    total = 0\n",
    "    # For each left-out rating\n",
    "   \n",
    "    for leftOut in leftOutPredictions:\n",
    "     \n",
    "        userID = leftOut[0]\n",
    "        leftOutMovieID = leftOut[1]\n",
    "        # Is it in the predicted top 10 for this user?\n",
    "        hit = False\n",
    "        for movieID, predictedRating in topNPredicted[int(userID)]:\n",
    "            if (int(leftOutMovieID) == int(movieID)):\n",
    "                hit = True\n",
    "                break\n",
    "        if (hit) :\n",
    "            hits += 1\n",
    "        total += 1\n",
    "    # Compute overall precision\n",
    "    return hits/total\n"
   ]
  },
  {
   "cell_type": "markdown",
   "id": "a443435c",
   "metadata": {},
   "source": [
    "### How often we recommended a movie the user actually liked \n"
   ]
  },
  {
   "cell_type": "code",
   "execution_count": 19,
   "id": "f5549c0b",
   "metadata": {},
   "outputs": [],
   "source": [
    "def CumulativeHitRate(topNPredicted, leftOutPredictions, ratingCutoff=4.0):\n",
    "    hits = 0\n",
    "    total = 0\n",
    "    # For each left-out rating\n",
    "    for userID, leftOutMovieID, actualRating, estimatedRating, _ in leftOutPredictions:\n",
    "        # Only look at ability to recommend things the users actually liked...\n",
    "        if (actualRating >= ratingCutoff):\n",
    "            # Is it in the predicted top 10 for this user?\n",
    "            hit = False\n",
    "            for movieID, predictedRating in topNPredicted[int(userID)]:\n",
    "                if (int(leftOutMovieID) == movieID):\n",
    "                    hit = True\n",
    "                    break\n",
    "            if (hit) :\n",
    "                hits += 1\n",
    "            total += 1\n",
    "    return hits/total"
   ]
  },
  {
   "cell_type": "markdown",
   "id": "1fdb9203",
   "metadata": {},
   "source": [
    "### Percentage of users have at least one \"good\" recommendation"
   ]
  },
  {
   "cell_type": "code",
   "execution_count": 20,
   "id": "9bca5ed8",
   "metadata": {},
   "outputs": [],
   "source": [
    "\n",
    "def UserCoverage(topNPredicted, numUsers, ratingThreshold=0):\n",
    "    hits = 0\n",
    "    for userID in topNPredicted.keys():\n",
    "        hit = 0\n",
    "        for mid, predictedRating in topNPredicted[userID]:\n",
    "            if (predictedRating >= ratingThreshold):\n",
    "                hit = 1\n",
    "                break\n",
    "        if (hit==1):\n",
    "            hits += 1\n",
    "    return hits / numUsers"
   ]
  },
  {
   "cell_type": "markdown",
   "id": "323d2cc7",
   "metadata": {},
   "source": [
    "### Diversity is a measure of how your recommendations are different from each other."
   ]
  },
  {
   "cell_type": "code",
   "execution_count": 21,
   "id": "407aa36f",
   "metadata": {},
   "outputs": [],
   "source": [
    "def Diversity(topNPredicted, simsAlgo):\n",
    "    n = 0\n",
    "    total = 0\n",
    "    simsMatrix = simsAlgo.compute_similarities()\n",
    "    for userID in topNPredicted.keys():\n",
    "        pairs = itertools.combinations(topNPredicted[userID], 2)\n",
    "        for pair in pairs:\n",
    "            movie1 = pair[0][0]\n",
    "            movie2 = pair[1][0]\n",
    "            innerID1 = simsAlgo.trainset.to_inner_iid(str(movie1))\n",
    "            innerID2 = simsAlgo.trainset.to_inner_iid(str(movie2))\n",
    "            similarity = simsMatrix[innerID1][innerID2]\n",
    "            total += similarity\n",
    "            n += 1\n",
    "    S = total / n\n",
    "    return (1-S)\n"
   ]
  },
  {
   "cell_type": "markdown",
   "id": "cc541294",
   "metadata": {},
   "source": [
    "### Novelty is a measure of how popular the items system recommending."
   ]
  },
  {
   "cell_type": "code",
   "execution_count": 22,
   "id": "3089fcc5",
   "metadata": {},
   "outputs": [],
   "source": [
    "def Novelty(topNPredicted, rankings):\n",
    "    n = 0\n",
    "    total = 0\n",
    "    for uid in topNPredicted.keys():\n",
    "        for rating in topNPredicted[uid]:\n",
    "            mid = rating[0]\n",
    "            rank = rankings[mid]\n",
    "            total += rank\n",
    "            n += 1\n",
    "    return total / n"
   ]
  },
  {
   "cell_type": "code",
   "execution_count": 97,
   "id": "01f2f792",
   "metadata": {},
   "outputs": [],
   "source": [
    "from surprise.model_selection import LeaveOneOut\n",
    "import itertools\n",
    "\n",
    "  "
   ]
  },
  {
   "cell_type": "code",
   "execution_count": 25,
   "id": "77d6f25c",
   "metadata": {},
   "outputs": [],
   "source": [
    "\n",
    "class Evaluate:\n",
    "    def __init__(self, algo):\n",
    "        self.algo = algo\n",
    "    def start(self, n=10, verbose=True):\n",
    "        before=datetime.now() \n",
    "        #trainSet, testSet = train_test_split(data, test_size=.25, random_state=1)\n",
    "        algo.fit(trainset)\n",
    "        after= datetime.now() \n",
    "        duration = after-before                         \n",
    "        duration = duration.total_seconds() \n",
    "        print('time taken '+str(duration)+'s')\n",
    "        predictions = algo.test(testset)\n",
    "        rmse= RMSE(predictions)\n",
    "        mae= MAE(predictions)\n",
    "        print(\"Computing RMSE \"+str(rmse))\n",
    "        print(\"Computing MAE \"+str(mae))\n",
    "        return duration,rmse,mae\n",
    "    \n",
    "   \n",
    "    def getModel(self):\n",
    "        return self.algo\n",
    "    def OtherMetrics(self):\n",
    "            \n",
    "            self.algo.fit(fullTrainSet)\n",
    "            bigTestSet = fullTrainSet.build_anti_testset()\n",
    "            all_pred = algo.test(bigTestSet)\n",
    "            topN= Get_Top_Predictions(all_pred, n=10)\n",
    "            ranking=getPopularityMoviesBasedOnRatingCount()\n",
    "            # Print user coverage:\n",
    "            user_coverage= UserCoverage(topN, fullTrainSet.n_users, ratingThreshold=4.0)\n",
    "            print(\"\\nUser coverage: \",user_coverage)\n",
    "            # Measure novelty (average popularity rank of recommendations):\n",
    "            novelty=Novelty(topN, ranking)\n",
    "            print(\"\\nNovelty : \",novelty )\n",
    "            # Measure diversity of recommendations:\n",
    "\n",
    "            #diversity=Diversity(topN, simsAlgo)\n",
    "            #print(\"\\nDiversity: \", diversity)\n",
    "          \n",
    "            return novelty,user_coverage\n",
    "        \n",
    "   \n",
    "    def RecommendationMetricsOnwholeTestSet(self):\n",
    "        hit_rate=0\n",
    "        cumm_hit_rate=0\n",
    "        print(\"Computing recommendations with train and test dataset...\")\n",
    "        # Build predictions for all ratings  in the test set\n",
    "        print(\"Predict ratings...\")\n",
    "        allPredictions = algo.test(testset)\n",
    "     \n",
    "        # Compute top 10 recs for each user\n",
    "        print(\"Compute top 10 recs per user\")\n",
    "        topNPredicted = Get_Top_Predictions(allPredictions, n=10)\n",
    "        topNPredictedOnActualDataSet = Get_Top_Predictions_In_Actual_DataSet(testset, n=10)\n",
    "        #Calculate hit rate\n",
    "       \n",
    "        hit_rate=HitRate(topNPredicted, topNPredictedOnActualDataSet)\n",
    "        print(\"\\nHit Rate: \",hit_rate )\n",
    "\n",
    "        # See how often we recommended a movie the user actually liked\n",
    "        cumm_hit_rate=CumulativeHitRate(topNPredicted, allPredictions, 4.0)\n",
    "        print(\"\\ncHR (Cumulative Hit Rate, rating >= 4): \", cumm_hit_rate)\n",
    "          \n",
    "        return hit_rate,cumm_hit_rate\n",
    "    def RecommendationMetricsleaveOneOut(self):\n",
    "        loo = LeaveOneOut(n_splits=1, random_state=1)\n",
    "        hit_rate=0\n",
    "        cumm_hit_rate=0\n",
    "        for trainSet, testSet in loo.split(data):\n",
    "            print(\"Computing recommendations with leave-one-out...\")\n",
    "\n",
    "            # Train model without left-out ratings\n",
    "            self.algo.fit(trainSet)\n",
    "\n",
    "            # Predicts ratings for left-out ratings only\n",
    "            print(\"Predict ratings for left-out set...\")\n",
    "            leftOutPredictions = algo.test(testSet)\n",
    "\n",
    "            # Build predictions for all ratings not in the training set\n",
    "            print(\"Predict missing ratings...\")\n",
    "            bigTestSet = trainSet.build_anti_testset()\n",
    "            allPredictions = algo.test(bigTestSet)\n",
    "\n",
    "            # Compute top 10 recs for each user\n",
    "            print(\"Top 10 recommendations\")\n",
    "            topNPredicted = Get_Top_Predictions(allPredictions, n=10)\n",
    "\n",
    "            # See how often we recommended a movie the user actually rated\n",
    "            hit_rate=hitRateLeaveOneOut(topNPredicted, leftOutPredictions)\n",
    "            print(\"\\nHit Rate: \",hit_rate )\n",
    "\n",
    "            # See how often we recommended a movie the user actually liked\n",
    "            cumm_hit_rate=CumulativeHitRate(topNPredicted, leftOutPredictions, 4.0)\n",
    "            print(\"\\nCHR (Cumulative Hit Rate, rating >= 4): \", cumm_hit_rate)\n",
    "            \n",
    "            return hit_rate,cumm_hit_rate"
   ]
  },
  {
   "cell_type": "markdown",
   "id": "12ac17da",
   "metadata": {},
   "source": [
    "# Apply SVD Algorithm"
   ]
  },
  {
   "cell_type": "code",
   "execution_count": 26,
   "id": "9f8dc705",
   "metadata": {},
   "outputs": [
    {
     "name": "stdout",
     "output_type": "stream",
     "text": [
      "time taken 55.471952s\n",
      "Computing RMSE 3.50226411811338\n",
      "Computing MAE 2.8660932453860295\n"
     ]
    },
    {
     "ename": "NameError",
     "evalue": "name 'LeaveOneOut' is not defined",
     "output_type": "error",
     "traceback": [
      "\u001b[1;31m---------------------------------------------------------------------------\u001b[0m",
      "\u001b[1;31mNameError\u001b[0m                                 Traceback (most recent call last)",
      "\u001b[1;32m<ipython-input-26-02d6c20a12ad>\u001b[0m in \u001b[0;36m<module>\u001b[1;34m()\u001b[0m\n\u001b[0;32m      5\u001b[0m \u001b[0mevaluate\u001b[0m\u001b[1;33m=\u001b[0m\u001b[0mEvaluate\u001b[0m\u001b[1;33m(\u001b[0m\u001b[0malgo\u001b[0m\u001b[1;33m)\u001b[0m\u001b[1;33m\u001b[0m\u001b[0m\n\u001b[0;32m      6\u001b[0m \u001b[0msvd_duration\u001b[0m\u001b[1;33m,\u001b[0m\u001b[0msvd_rmse\u001b[0m\u001b[1;33m,\u001b[0m\u001b[0msvd_mae\u001b[0m\u001b[1;33m=\u001b[0m\u001b[0mevaluate\u001b[0m\u001b[1;33m.\u001b[0m\u001b[0mstart\u001b[0m\u001b[1;33m(\u001b[0m\u001b[1;33m)\u001b[0m\u001b[1;33m\u001b[0m\u001b[0m\n\u001b[1;32m----> 7\u001b[1;33m \u001b[0msvd_hit_rate\u001b[0m\u001b[1;33m,\u001b[0m\u001b[0msvd_cumm_hit_rate\u001b[0m\u001b[1;33m=\u001b[0m\u001b[0mevaluate\u001b[0m\u001b[1;33m.\u001b[0m\u001b[0mtopNresult\u001b[0m\u001b[1;33m(\u001b[0m\u001b[1;33m)\u001b[0m\u001b[1;33m\u001b[0m\u001b[0m\n\u001b[0m\u001b[0;32m      8\u001b[0m \u001b[0msvd_novelty\u001b[0m\u001b[1;33m,\u001b[0m\u001b[0msvd_diversity\u001b[0m\u001b[1;33m=\u001b[0m\u001b[0mevaluate\u001b[0m\u001b[1;33m.\u001b[0m\u001b[0motherMetrics\u001b[0m\u001b[1;33m(\u001b[0m\u001b[1;33m)\u001b[0m\u001b[1;33m\u001b[0m\u001b[0m\n\u001b[0;32m      9\u001b[0m \u001b[0malgosvd\u001b[0m\u001b[1;33m=\u001b[0m\u001b[0mevaluate\u001b[0m\u001b[1;33m.\u001b[0m\u001b[0mgetModel\u001b[0m\u001b[1;33m(\u001b[0m\u001b[1;33m)\u001b[0m\u001b[1;33m\u001b[0m\u001b[0m\n",
      "\u001b[1;32m<ipython-input-25-392b4775a404>\u001b[0m in \u001b[0;36mtopNresult\u001b[1;34m(self)\u001b[0m\n\u001b[0;32m     18\u001b[0m         \u001b[1;32mreturn\u001b[0m \u001b[0mduration\u001b[0m\u001b[1;33m,\u001b[0m\u001b[0mrmse\u001b[0m\u001b[1;33m,\u001b[0m\u001b[0mmae\u001b[0m\u001b[1;33m\u001b[0m\u001b[0m\n\u001b[0;32m     19\u001b[0m     \u001b[1;32mdef\u001b[0m \u001b[0mtopNresult\u001b[0m\u001b[1;33m(\u001b[0m\u001b[0mself\u001b[0m\u001b[1;33m)\u001b[0m\u001b[1;33m:\u001b[0m\u001b[1;33m\u001b[0m\u001b[0m\n\u001b[1;32m---> 20\u001b[1;33m         \u001b[0mloo\u001b[0m \u001b[1;33m=\u001b[0m \u001b[0mLeaveOneOut\u001b[0m\u001b[1;33m(\u001b[0m\u001b[0mn_splits\u001b[0m\u001b[1;33m=\u001b[0m\u001b[1;36m1\u001b[0m\u001b[1;33m,\u001b[0m \u001b[0mrandom_state\u001b[0m\u001b[1;33m=\u001b[0m\u001b[1;36m1\u001b[0m\u001b[1;33m)\u001b[0m\u001b[1;33m\u001b[0m\u001b[0m\n\u001b[0m\u001b[0;32m     21\u001b[0m         \u001b[0mhit_rate\u001b[0m\u001b[1;33m=\u001b[0m\u001b[1;36m0\u001b[0m\u001b[1;33m\u001b[0m\u001b[0m\n\u001b[0;32m     22\u001b[0m         \u001b[0mcumm_hit_rate\u001b[0m\u001b[1;33m=\u001b[0m\u001b[1;36m0\u001b[0m\u001b[1;33m\u001b[0m\u001b[0m\n",
      "\u001b[1;31mNameError\u001b[0m: name 'LeaveOneOut' is not defined"
     ]
    }
   ],
   "source": [
    "\n",
    "from surprise import SVD\n",
    "from datetime import datetime\n",
    "algo = SVD()\n",
    "evaluate=Evaluate(algo)\n",
    "svd_duration,svd_rmse,svd_mae=evaluate.start()\n",
    "svd_hit_rate,svd_cumm_hit_rate=evaluate.RecommendationMetricsOnwholeTestSet()\n",
    "svd_hit_rate_loo,svd_cumm_hit_rate_loo=evaluate.RecommendationMetricsleaveOneOut()\n",
    "svd_novelty,svd_user_coverage=evaluate.OtherMetrics()\n",
    "algosvd=evaluate.getModel()"
   ]
  },
  {
   "cell_type": "code",
   "execution_count": null,
   "id": "636be325",
   "metadata": {},
   "outputs": [],
   "source": []
  }
 ],
 "metadata": {
  "accelerator": "GPU",
  "colab": {
   "collapsed_sections": [],
   "name": "movielens_Graph_embeding.ipynb",
   "provenance": []
  },
  "gpuClass": "standard",
  "kernelspec": {
   "display_name": "Python 3",
   "language": "python",
   "name": "python3"
  },
  "language_info": {
   "codemirror_mode": {
    "name": "ipython",
    "version": 3
   },
   "file_extension": ".py",
   "mimetype": "text/x-python",
   "name": "python",
   "nbconvert_exporter": "python",
   "pygments_lexer": "ipython3",
   "version": "3.6.5"
  }
 },
 "nbformat": 4,
 "nbformat_minor": 5
}

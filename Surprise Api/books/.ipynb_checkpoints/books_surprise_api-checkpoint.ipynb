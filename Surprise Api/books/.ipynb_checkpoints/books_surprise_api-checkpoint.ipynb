{
 "cells": [
  {
   "cell_type": "code",
   "execution_count": 1,
   "id": "392ca185",
   "metadata": {
    "colab": {
     "base_uri": "https://localhost:8080/"
    },
    "id": "fjAa99cwZvIE",
    "outputId": "ab2e259b-e09f-404d-ebc3-4c1b4d711d83"
   },
   "outputs": [
    {
     "name": "stdout",
     "output_type": "stream",
     "text": [
      "Requirement already satisfied: surprise in c:\\programdata\\anaconda3\\lib\\site-packages (0.1)\n",
      "Requirement already satisfied: scikit-surprise in c:\\programdata\\anaconda3\\lib\\site-packages (from surprise) (1.1.1)\n",
      "Requirement already satisfied: six>=1.10.0 in c:\\users\\cseka\\appdata\\roaming\\python\\python36\\site-packages (from scikit-surprise->surprise) (1.15.0)\n",
      "Requirement already satisfied: numpy>=1.11.2 in c:\\users\\cseka\\appdata\\roaming\\python\\python36\\site-packages (from scikit-surprise->surprise) (1.19.5)\n",
      "Requirement already satisfied: scipy>=1.0.0 in c:\\users\\cseka\\appdata\\roaming\\python\\python36\\site-packages (from scikit-surprise->surprise) (1.5.4)\n",
      "Requirement already satisfied: joblib>=0.11 in c:\\users\\cseka\\appdata\\roaming\\python\\python36\\site-packages (from scikit-surprise->surprise) (1.0.1)\n"
     ]
    },
    {
     "name": "stderr",
     "output_type": "stream",
     "text": [
      "WARNING: pip is being invoked by an old script wrapper. This will fail in a future version of pip.\n",
      "Please see https://github.com/pypa/pip/issues/5599 for advice on fixing the underlying issue.\n",
      "To avoid this problem you can invoke Python with '-m pip' instead of running pip directly.\n",
      "WARNING: Ignoring invalid distribution -ikit-learn (c:\\programdata\\anaconda3\\lib\\site-packages)\n",
      "WARNING: Ignoring invalid distribution -ornado (c:\\programdata\\anaconda3\\lib\\site-packages)\n",
      "WARNING: Ignoring invalid distribution -loudpickle (c:\\programdata\\anaconda3\\lib\\site-packages)\n",
      "WARNING: Ignoring invalid distribution - (c:\\programdata\\anaconda3\\lib\\site-packages)\n",
      "WARNING: Ignoring invalid distribution -cikit-learn (c:\\programdata\\anaconda3\\lib\\site-packages)\n",
      "WARNING: Ignoring invalid distribution -ikit-learn (c:\\programdata\\anaconda3\\lib\\site-packages)\n",
      "WARNING: Ignoring invalid distribution -ornado (c:\\programdata\\anaconda3\\lib\\site-packages)\n",
      "WARNING: Ignoring invalid distribution -loudpickle (c:\\programdata\\anaconda3\\lib\\site-packages)\n",
      "WARNING: Ignoring invalid distribution - (c:\\programdata\\anaconda3\\lib\\site-packages)\n",
      "WARNING: Ignoring invalid distribution -cikit-learn (c:\\programdata\\anaconda3\\lib\\site-packages)\n"
     ]
    }
   ],
   "source": [
    "!pip install surprise"
   ]
  },
  {
   "cell_type": "code",
   "execution_count": 2,
   "id": "8983d84f",
   "metadata": {
    "id": "401b53b5"
   },
   "outputs": [],
   "source": [
    "import warnings\n",
    "warnings.filterwarnings(\"ignore\")"
   ]
  },
  {
   "cell_type": "code",
   "execution_count": 3,
   "id": "d7517da7",
   "metadata": {
    "id": "9920b16a"
   },
   "outputs": [],
   "source": [
    "from datetime import datetime\n",
    "import os\n",
    "import matplotlib\n",
    "import pandas as pd\n",
    "import numpy as np\n",
    "import matplotlib.pyplot as plt\n",
    "import seaborn as sns\n",
    "sns.set_style('whitegrid')\n",
    "\n",
    "from scipy import sparse\n",
    "from scipy.sparse import csc_matrix\n",
    "from sklearn.decomposition import TruncatedSVD\n",
    "import random\n",
    "random.seed(0)\n",
    "np.random.seed(0)"
   ]
  },
  {
   "cell_type": "code",
   "execution_count": 4,
   "id": "5ea0b101",
   "metadata": {
    "id": "27d6f3b9"
   },
   "outputs": [],
   "source": [
    "from surprise import accuracy\n",
    "from collections import defaultdict\n",
    "import csv\n",
    "from surprise import Dataset,Reader\n",
    "from surprise.model_selection import cross_validate\n",
    "from surprise.model_selection import train_test_split\n",
    "from surprise.model_selection import LeaveOneOut\n",
    "import itertools\n"
   ]
  },
  {
   "cell_type": "markdown",
   "id": "01000683",
   "metadata": {
    "id": "ae409a1b"
   },
   "source": [
    "## Analyse Dataset"
   ]
  },
  {
   "cell_type": "markdown",
   "id": "d6a76fcf",
   "metadata": {
    "id": "6c2011c0"
   },
   "source": [
    "\n",
    "### Books Dataset\n",
    "https://www.kaggle.com/datasets/arashnic/book-recommendation-dataset\n"
   ]
  },
  {
   "cell_type": "code",
   "execution_count": 5,
   "id": "e9852d12",
   "metadata": {
    "id": "rKJ4MbHuWPZp"
   },
   "outputs": [],
   "source": [
    "rating_path=\"Ratings.csv\""
   ]
  },
  {
   "cell_type": "code",
   "execution_count": 6,
   "id": "b14d89fe",
   "metadata": {
    "id": "yZIc_lRhDnDq"
   },
   "outputs": [],
   "source": [
    "book_df=pd.read_csv(\"Books.csv\")"
   ]
  },
  {
   "cell_type": "code",
   "execution_count": 7,
   "id": "c3c63a96",
   "metadata": {
    "id": "f98841c2"
   },
   "outputs": [],
   "source": [
    "rating_df=pd.read_csv(\"Ratings.csv\")\n"
   ]
  },
  {
   "cell_type": "code",
   "execution_count": 8,
   "id": "a11a83ba",
   "metadata": {
    "id": "B8zTK-2nU8bT"
   },
   "outputs": [],
   "source": [
    "rating_df=pd.merge(rating_df,book_df,on=\"ISBN\",how=\"left\")"
   ]
  },
  {
   "cell_type": "code",
   "execution_count": 9,
   "id": "80bafd55",
   "metadata": {
    "id": "CGTAua1mEmBu"
   },
   "outputs": [],
   "source": [
    "user_df=pd.read_csv(\"Users.csv\")"
   ]
  },
  {
   "cell_type": "code",
   "execution_count": 10,
   "id": "2fddd4b7",
   "metadata": {
    "colab": {
     "base_uri": "https://localhost:8080/"
    },
    "id": "_YI-DWNE7pv1",
    "outputId": "73c1ea84-4a72-4165-a8c5-3da27ed6148a"
   },
   "outputs": [
    {
     "data": {
      "text/plain": [
       "(1149780, 10)"
      ]
     },
     "execution_count": 10,
     "metadata": {},
     "output_type": "execute_result"
    }
   ],
   "source": [
    "rating_df.shape"
   ]
  },
  {
   "cell_type": "code",
   "execution_count": 11,
   "id": "e443241c",
   "metadata": {
    "id": "UBthN71B1fD1"
   },
   "outputs": [],
   "source": [
    "x = rating_df.groupby('User-ID').count()['Book-Rating'] > 150\n",
    "userIndex = x[x].index\n",
    "nm_rating_df=rating_df[rating_df['User-ID'].isin(userIndex)]"
   ]
  },
  {
   "cell_type": "code",
   "execution_count": 12,
   "id": "ba1da7ec",
   "metadata": {
    "colab": {
     "base_uri": "https://localhost:8080/"
    },
    "id": "X7krSAHD8JF1",
    "outputId": "87ff906f-27ed-419b-e3ca-fbd4bb7b6e50"
   },
   "outputs": [
    {
     "data": {
      "text/plain": [
       "(582644, 10)"
      ]
     },
     "execution_count": 12,
     "metadata": {},
     "output_type": "execute_result"
    }
   ],
   "source": [
    "nm_rating_df.shape"
   ]
  },
  {
   "cell_type": "code",
   "execution_count": 13,
   "id": "f16aa173",
   "metadata": {
    "id": "TNbAhTY61qtz"
   },
   "outputs": [],
   "source": [
    "y = nm_rating_df.groupby('Book-Title').count()['Book-Rating']>=100\n",
    "books = y[y].index"
   ]
  },
  {
   "cell_type": "code",
   "execution_count": 14,
   "id": "7fbc32fb",
   "metadata": {
    "id": "II--ZMiT2HcH"
   },
   "outputs": [],
   "source": [
    "rating_df = nm_rating_df[nm_rating_df['Book-Title'].isin(books)]\n"
   ]
  },
  {
   "cell_type": "code",
   "execution_count": 15,
   "id": "6c25389a",
   "metadata": {
    "colab": {
     "base_uri": "https://localhost:8080/",
     "height": 496
    },
    "id": "WS8v6vb31lvL",
    "outputId": "40cf16f2-1850-4631-a2d8-82650af2cf96"
   },
   "outputs": [
    {
     "data": {
      "text/html": [
       "<div>\n",
       "<style scoped>\n",
       "    .dataframe tbody tr th:only-of-type {\n",
       "        vertical-align: middle;\n",
       "    }\n",
       "\n",
       "    .dataframe tbody tr th {\n",
       "        vertical-align: top;\n",
       "    }\n",
       "\n",
       "    .dataframe thead th {\n",
       "        text-align: right;\n",
       "    }\n",
       "</style>\n",
       "<table border=\"1\" class=\"dataframe\">\n",
       "  <thead>\n",
       "    <tr style=\"text-align: right;\">\n",
       "      <th></th>\n",
       "      <th>userId</th>\n",
       "      <th>ISBN</th>\n",
       "      <th>rating</th>\n",
       "      <th>item</th>\n",
       "      <th>Book-Author</th>\n",
       "      <th>Year-Of-Publication</th>\n",
       "      <th>Publisher</th>\n",
       "      <th>Image-URL-S</th>\n",
       "      <th>Image-URL-M</th>\n",
       "      <th>Image-URL-L</th>\n",
       "    </tr>\n",
       "  </thead>\n",
       "  <tbody>\n",
       "    <tr>\n",
       "      <th>1469</th>\n",
       "      <td>277427</td>\n",
       "      <td>0060930535</td>\n",
       "      <td>0</td>\n",
       "      <td>The Poisonwood Bible: A Novel</td>\n",
       "      <td>Barbara Kingsolver</td>\n",
       "      <td>1999</td>\n",
       "      <td>Perennial</td>\n",
       "      <td>http://images.amazon.com/images/P/0060930535.0...</td>\n",
       "      <td>http://images.amazon.com/images/P/0060930535.0...</td>\n",
       "      <td>http://images.amazon.com/images/P/0060930535.0...</td>\n",
       "    </tr>\n",
       "    <tr>\n",
       "      <th>1471</th>\n",
       "      <td>277427</td>\n",
       "      <td>0060934417</td>\n",
       "      <td>0</td>\n",
       "      <td>Bel Canto: A Novel</td>\n",
       "      <td>Ann Patchett</td>\n",
       "      <td>2002</td>\n",
       "      <td>Perennial</td>\n",
       "      <td>http://images.amazon.com/images/P/0060934417.0...</td>\n",
       "      <td>http://images.amazon.com/images/P/0060934417.0...</td>\n",
       "      <td>http://images.amazon.com/images/P/0060934417.0...</td>\n",
       "    </tr>\n",
       "    <tr>\n",
       "      <th>1474</th>\n",
       "      <td>277427</td>\n",
       "      <td>0061009059</td>\n",
       "      <td>9</td>\n",
       "      <td>One for the Money (Stephanie Plum Novels (Pape...</td>\n",
       "      <td>Janet Evanovich</td>\n",
       "      <td>1995</td>\n",
       "      <td>HarperTorch</td>\n",
       "      <td>http://images.amazon.com/images/P/0061009059.0...</td>\n",
       "      <td>http://images.amazon.com/images/P/0061009059.0...</td>\n",
       "      <td>http://images.amazon.com/images/P/0061009059.0...</td>\n",
       "    </tr>\n",
       "    <tr>\n",
       "      <th>1489</th>\n",
       "      <td>277427</td>\n",
       "      <td>014029628X</td>\n",
       "      <td>0</td>\n",
       "      <td>Girl in Hyacinth Blue</td>\n",
       "      <td>Susan Vreeland</td>\n",
       "      <td>2000</td>\n",
       "      <td>Penguin Books</td>\n",
       "      <td>http://images.amazon.com/images/P/014029628X.0...</td>\n",
       "      <td>http://images.amazon.com/images/P/014029628X.0...</td>\n",
       "      <td>http://images.amazon.com/images/P/014029628X.0...</td>\n",
       "    </tr>\n",
       "    <tr>\n",
       "      <th>1493</th>\n",
       "      <td>277427</td>\n",
       "      <td>014100018X</td>\n",
       "      <td>0</td>\n",
       "      <td>Chocolat</td>\n",
       "      <td>Joanne Harris</td>\n",
       "      <td>2000</td>\n",
       "      <td>Penguin Books</td>\n",
       "      <td>http://images.amazon.com/images/P/014100018X.0...</td>\n",
       "      <td>http://images.amazon.com/images/P/014100018X.0...</td>\n",
       "      <td>http://images.amazon.com/images/P/014100018X.0...</td>\n",
       "    </tr>\n",
       "  </tbody>\n",
       "</table>\n",
       "</div>"
      ],
      "text/plain": [
       "      userId        ISBN  rating  \\\n",
       "1469  277427  0060930535       0   \n",
       "1471  277427  0060934417       0   \n",
       "1474  277427  0061009059       9   \n",
       "1489  277427  014029628X       0   \n",
       "1493  277427  014100018X       0   \n",
       "\n",
       "                                                   item         Book-Author  \\\n",
       "1469                      The Poisonwood Bible: A Novel  Barbara Kingsolver   \n",
       "1471                                 Bel Canto: A Novel        Ann Patchett   \n",
       "1474  One for the Money (Stephanie Plum Novels (Pape...     Janet Evanovich   \n",
       "1489                              Girl in Hyacinth Blue      Susan Vreeland   \n",
       "1493                                           Chocolat       Joanne Harris   \n",
       "\n",
       "     Year-Of-Publication      Publisher  \\\n",
       "1469                1999      Perennial   \n",
       "1471                2002      Perennial   \n",
       "1474                1995    HarperTorch   \n",
       "1489                2000  Penguin Books   \n",
       "1493                2000  Penguin Books   \n",
       "\n",
       "                                            Image-URL-S  \\\n",
       "1469  http://images.amazon.com/images/P/0060930535.0...   \n",
       "1471  http://images.amazon.com/images/P/0060934417.0...   \n",
       "1474  http://images.amazon.com/images/P/0061009059.0...   \n",
       "1489  http://images.amazon.com/images/P/014029628X.0...   \n",
       "1493  http://images.amazon.com/images/P/014100018X.0...   \n",
       "\n",
       "                                            Image-URL-M  \\\n",
       "1469  http://images.amazon.com/images/P/0060930535.0...   \n",
       "1471  http://images.amazon.com/images/P/0060934417.0...   \n",
       "1474  http://images.amazon.com/images/P/0061009059.0...   \n",
       "1489  http://images.amazon.com/images/P/014029628X.0...   \n",
       "1493  http://images.amazon.com/images/P/014100018X.0...   \n",
       "\n",
       "                                            Image-URL-L  \n",
       "1469  http://images.amazon.com/images/P/0060930535.0...  \n",
       "1471  http://images.amazon.com/images/P/0060934417.0...  \n",
       "1474  http://images.amazon.com/images/P/0061009059.0...  \n",
       "1489  http://images.amazon.com/images/P/014029628X.0...  \n",
       "1493  http://images.amazon.com/images/P/014100018X.0...  "
      ]
     },
     "execution_count": 15,
     "metadata": {},
     "output_type": "execute_result"
    }
   ],
   "source": [
    "rating_df.rename(columns = {'User-ID':'userId', 'Book-Title':'item','Book-Rating':'rating'}, inplace = True)\n",
    "rating_df.head(5)"
   ]
  },
  {
   "cell_type": "code",
   "execution_count": 16,
   "id": "b5863821",
   "metadata": {
    "id": "78fe795b"
   },
   "outputs": [],
   "source": [
    "book_ids = list(set(list(rating_df.item.unique())))\n",
    "user_ids = list(set(list(rating_df.userId.unique()) ))"
   ]
  },
  {
   "cell_type": "code",
   "execution_count": 17,
   "id": "d0a349b7",
   "metadata": {
    "id": "ae5c0a2c"
   },
   "outputs": [],
   "source": [
    "dict_books = {}\n",
    "index = 0\n",
    "for ids in sorted(book_ids):\n",
    "    dict_books[ids] = index\n",
    "    index += 1\n",
    "dict_users = {}\n",
    "index = 0\n",
    "for ids in sorted(user_ids):\n",
    "    dict_users[ids] = index\n",
    "    index += 1"
   ]
  },
  {
   "cell_type": "code",
   "execution_count": 18,
   "id": "382a1e8f",
   "metadata": {
    "id": "c5cc3a11"
   },
   "outputs": [],
   "source": [
    "rating_df[\"item\"] = rating_df[\"item\"].map(dict_books)\n",
    "rating_df[\"userId\"] = rating_df[\"userId\"].map(dict_users)"
   ]
  },
  {
   "cell_type": "code",
   "execution_count": 19,
   "id": "4ae55c12",
   "metadata": {
    "colab": {
     "base_uri": "https://localhost:8080/",
     "height": 179
    },
    "id": "876602f1",
    "outputId": "962c1d87-adf4-4a47-8b42-46d925921115"
   },
   "outputs": [
    {
     "data": {
      "text/html": [
       "<div>\n",
       "<style scoped>\n",
       "    .dataframe tbody tr th:only-of-type {\n",
       "        vertical-align: middle;\n",
       "    }\n",
       "\n",
       "    .dataframe tbody tr th {\n",
       "        vertical-align: top;\n",
       "    }\n",
       "\n",
       "    .dataframe thead th {\n",
       "        text-align: right;\n",
       "    }\n",
       "</style>\n",
       "<table border=\"1\" class=\"dataframe\">\n",
       "  <thead>\n",
       "    <tr style=\"text-align: right;\">\n",
       "      <th></th>\n",
       "      <th>userId</th>\n",
       "      <th>ISBN</th>\n",
       "      <th>rating</th>\n",
       "      <th>item</th>\n",
       "      <th>Book-Author</th>\n",
       "      <th>Year-Of-Publication</th>\n",
       "      <th>Publisher</th>\n",
       "      <th>Image-URL-S</th>\n",
       "      <th>Image-URL-M</th>\n",
       "      <th>Image-URL-L</th>\n",
       "    </tr>\n",
       "  </thead>\n",
       "  <tbody>\n",
       "    <tr>\n",
       "      <th>1469</th>\n",
       "      <td>1185</td>\n",
       "      <td>0060930535</td>\n",
       "      <td>0</td>\n",
       "      <td>175</td>\n",
       "      <td>Barbara Kingsolver</td>\n",
       "      <td>1999</td>\n",
       "      <td>Perennial</td>\n",
       "      <td>http://images.amazon.com/images/P/0060930535.0...</td>\n",
       "      <td>http://images.amazon.com/images/P/0060930535.0...</td>\n",
       "      <td>http://images.amazon.com/images/P/0060930535.0...</td>\n",
       "    </tr>\n",
       "  </tbody>\n",
       "</table>\n",
       "</div>"
      ],
      "text/plain": [
       "      userId        ISBN  rating  item         Book-Author  \\\n",
       "1469    1185  0060930535       0   175  Barbara Kingsolver   \n",
       "\n",
       "     Year-Of-Publication  Publisher  \\\n",
       "1469                1999  Perennial   \n",
       "\n",
       "                                            Image-URL-S  \\\n",
       "1469  http://images.amazon.com/images/P/0060930535.0...   \n",
       "\n",
       "                                            Image-URL-M  \\\n",
       "1469  http://images.amazon.com/images/P/0060930535.0...   \n",
       "\n",
       "                                            Image-URL-L  \n",
       "1469  http://images.amazon.com/images/P/0060930535.0...  "
      ]
     },
     "execution_count": 19,
     "metadata": {},
     "output_type": "execute_result"
    }
   ],
   "source": [
    "rating_df.head(1)"
   ]
  },
  {
   "cell_type": "code",
   "execution_count": 20,
   "id": "f67faa65",
   "metadata": {
    "colab": {
     "base_uri": "https://localhost:8080/",
     "height": 366
    },
    "id": "dbe6904e",
    "outputId": "d92fac2e-bacc-4fe7-a88b-2964f6cd61e4"
   },
   "outputs": [
    {
     "data": {
      "image/png": "[encoded data removed]",
      "text/plain": [
       "<Figure size 432x288 with 1 Axes>"
      ]
     },
     "metadata": {
      "needs_background": "light"
     },
     "output_type": "display_data"
    }
   ],
   "source": [
    "\n",
    "import scipy.stats as st\n",
    "\n",
    "\n",
    "ratingCount = (rating_df.\n",
    "     groupby(by = ['item'])['rating'].\n",
    "     count().\n",
    "     reset_index().\n",
    "     rename(columns = {'rating': 'totalRatingCount'})\n",
    "     [['item', 'totalRatingCount']]\n",
    "    )\n",
    "data = ratingCount.loc[:, 'totalRatingCount'].values\n",
    "\n",
    "\n",
    "fig = plt.figure()\n",
    "ax = fig.add_axes([0,0,1,1])\n",
    "\n",
    "ax.hist(\n",
    "    data,\n",
    "    alpha=0.9,\n",
    "    bins=5,\n",
    "    density=True,\n",
    "    cumulative=False\n",
    ")\n",
    "\n",
    "\n",
    "plt.xlabel('totalRatingCount')\n",
    "plt.title(' totalRatingCount distribution')\n",
    "plt.show()"
   ]
  },
  {
   "cell_type": "markdown",
   "id": "86029c00",
   "metadata": {
    "id": "abd88c86"
   },
   "source": [
    "## Prepare dataset"
   ]
  },
  {
   "cell_type": "code",
   "execution_count": 21,
   "id": "199b7e20",
   "metadata": {
    "id": "e8dbfb97"
   },
   "outputs": [],
   "source": [
    "\n",
    "rating_df=rating_df[['userId','item','rating']]"
   ]
  },
  {
   "cell_type": "code",
   "execution_count": 22,
   "id": "86c095b4",
   "metadata": {
    "id": "c16d99ac"
   },
   "outputs": [],
   "source": [
    "reader = Reader(rating_scale=(0, 5))\n",
    "data = Dataset.load_from_df(rating_df[['userId','item','rating']], reader)\n",
    "trainset, testset = train_test_split(data, random_state=0, test_size=0.25)"
   ]
  },
  {
   "cell_type": "code",
   "execution_count": 23,
   "id": "811b480c",
   "metadata": {
    "id": "73c4521b"
   },
   "outputs": [],
   "source": [
    "fullTrainSet = data.build_full_trainset()"
   ]
  },
  {
   "cell_type": "markdown",
   "id": "da10ff04",
   "metadata": {
    "id": "c979fc2d"
   },
   "source": [
    "# Define recommender metrics"
   ]
  },
  {
   "cell_type": "markdown",
   "id": "4c02072c",
   "metadata": {
    "id": "6b49cd93"
   },
   "source": [
    "### Rating Prediction"
   ]
  },
  {
   "cell_type": "code",
   "execution_count": 24,
   "id": "45c4e104",
   "metadata": {
    "id": "1e9bc23e"
   },
   "outputs": [],
   "source": [
    "from surprise import accuracy\n",
    "from collections import defaultdict\n",
    "def MAE(predictions):\n",
    "    return accuracy.mae(predictions, verbose=False)\n",
    "def RMSE(predictions):\n",
    "    return accuracy.rmse(predictions, verbose=False)"
   ]
  },
  {
   "cell_type": "markdown",
   "id": "7f68e9f4",
   "metadata": {
    "id": "e6b1e34d"
   },
   "source": [
    "### Popular books based on rating count"
   ]
  },
  {
   "cell_type": "code",
   "execution_count": 25,
   "id": "27fc3fe2",
   "metadata": {
    "id": "ec739bd7"
   },
   "outputs": [],
   "source": [
    "\n",
    "from collections import defaultdict\n",
    "def getPopularityBasedOnRatingCount(top_n=None):\n",
    "    ratings = defaultdict(int)\n",
    "    rankings = defaultdict(int)\n",
    "    with open(rating_path, newline='') as csvfile:\n",
    "        ratingReader = csv.reader(csvfile)\n",
    "        next(ratingReader)\n",
    "        for row in ratingReader:\n",
    "            movieID = int(row[1])\n",
    "            #increse rating count for that movie\n",
    "            ratings[movieID] += 1\n",
    "    rank = 1\n",
    "    for movieID, ratingCount in sorted(ratings.items(), key=lambda x: x[1], reverse=True):\n",
    "        rankings[movieID] = rank\n",
    "        rank += 1\n",
    "    if top_n is None:\n",
    "        return rankings\n",
    "    else:\n",
    "        return sorted(rankings, key=rankings.get, reverse=False)[:top_n]\n",
    "    "
   ]
  },
  {
   "cell_type": "markdown",
   "id": "a12efbcf",
   "metadata": {
    "id": "1c753802"
   },
   "source": [
    "### Top N predictions"
   ]
  },
  {
   "cell_type": "code",
   "execution_count": 26,
   "id": "0bb16f7d",
   "metadata": {
    "id": "dcaa8eab"
   },
   "outputs": [],
   "source": [
    "def Get_Top_Predictions(predictions, n=10, minimumRating=4.0):\n",
    "    topN = defaultdict(list)\n",
    "    for uid, bid, actualRating, estimatedRating, _ in predictions:\n",
    "        if (estimatedRating >= minimumRating):\n",
    "            topN[int(uid)].append((int(bid), estimatedRating))\n",
    "    for uid, ratings in topN.items():\n",
    "        ratings.sort(key=lambda x: x[1], reverse=True)\n",
    "        topN[int(uid)] = ratings[:n]\n",
    "    return topN"
   ]
  },
  {
   "cell_type": "code",
   "execution_count": 27,
   "id": "802699c4",
   "metadata": {
    "id": "AGWVQfwas2gM"
   },
   "outputs": [],
   "source": [
    "def Get_data_from_Testset(predictions):\n",
    "    topN = defaultdict(list)\n",
    "    for uid, bid, actualRating, estimatedRating, _ in predictions:\n",
    "        topN[int(uid)].append((int(bid), estimatedRating))\n",
    "    for uid, ratings in topN.items():\n",
    "        ratings.sort(key=lambda x: x[1], reverse=True)\n",
    "        topN[int(uid)] = ratings\n",
    "    return topN"
   ]
  },
  {
   "cell_type": "code",
   "execution_count": 28,
   "id": "e60938fd",
   "metadata": {
    "id": "5f4bcb17"
   },
   "outputs": [],
   "source": [
    "def Get_Top_Predictions_In_Actual_DataSet(predictions, n=10, minimumRating=0.0):\n",
    "    topN = defaultdict(list)\n",
    "    for uid, mid, actualRating in predictions:\n",
    "        if (actualRating >= minimumRating):\n",
    "            topN[int(uid)].append((int(mid), actualRating))\n",
    "    for uid, ratings in topN.items():\n",
    "        ratings.sort(key=lambda x: x[1], reverse=True)\n",
    "        topN[int(uid)] = ratings[:n]\n",
    "    return topN"
   ]
  },
  {
   "cell_type": "code",
   "execution_count": 29,
   "id": "d071a76f",
   "metadata": {
    "id": "Jkc73CgLtS7k"
   },
   "outputs": [],
   "source": [
    "def Get_All_Predictions_In_Actual_DataSet(predictions ):\n",
    "    topN = defaultdict(list)\n",
    "    for uid, mid, actualRating in predictions:\n",
    "        topN[int(uid)].append((int(mid), actualRating))\n",
    "    for uid, ratings in topN.items():\n",
    "        ratings.sort(key=lambda x: x[1], reverse=True)\n",
    "        topN[int(uid)] = ratings\n",
    "    return topN"
   ]
  },
  {
   "cell_type": "markdown",
   "id": "ff27f9ae",
   "metadata": {
    "id": "ca9381c7"
   },
   "source": [
    "###  See how often we recommended a movie the user actually rated"
   ]
  },
  {
   "cell_type": "code",
   "execution_count": 30,
   "id": "fb478e42",
   "metadata": {
    "id": "bHGJsJ97lhra"
   },
   "outputs": [],
   "source": [
    "def MAP_K(topNPredicted, topNPredictedOnActualDataSet):\n",
    "    totalhit_ratio=0;\n",
    "    totalcount=0\n",
    "    for userid in topNPredictedOnActualDataSet:\n",
    "        totalcount+=1\n",
    "        hit=0\n",
    "        total=0\n",
    "        predictions=[]\n",
    "        actual_predictions=[]\n",
    "        for book,_ in topNPredicted[int(userid)]:\n",
    "            predictions.append(book)\n",
    "        for book,_ in topNPredictedOnActualDataSet[int(userid)]:\n",
    "            actual_predictions.append(book)\n",
    "            \n",
    "        for i in predictions:\n",
    "            total+=1\n",
    "            if i in actual_predictions:\n",
    "                hit+=1\n",
    "        \n",
    "        if(total==0):\n",
    "            totalhit_ratio=0\n",
    "        else:\n",
    "            totalhit_ratio+=(hit/total)  \n",
    "       \n",
    "    return (totalhit_ratio/totalcount)"
   ]
  },
  {
   "cell_type": "code",
   "execution_count": 31,
   "id": "b79a98ba",
   "metadata": {
    "id": "c8f86526"
   },
   "outputs": [],
   "source": [
    "def HitRate(topNPredicted, topNPredictedOnActualDataSet):\n",
    "    totalhit_ratio=0;\n",
    "    totalcount=0\n",
    "    hit=0\n",
    "\n",
    "    for userid in topNPredictedOnActualDataSet:\n",
    "        totalcount+=1\n",
    "        \n",
    "        predictions=[]\n",
    "        actual_predictions=[]\n",
    "        for book,_ in topNPredicted[int(userid)]:\n",
    "            predictions.append(book)\n",
    "        for book,_ in topNPredictedOnActualDataSet[int(userid)]:\n",
    "            actual_predictions.append(book) \n",
    "        for i in predictions:\n",
    "            if i in actual_predictions:\n",
    "                hit+=1\n",
    "                break\n",
    "        \n",
    "        \n",
    "       \n",
    "    return (hit/totalcount)"
   ]
  },
  {
   "cell_type": "markdown",
   "id": "83752951",
   "metadata": {
    "id": "85e434b9"
   },
   "source": [
    "### Percentage of users have at least one \"good\" recommendation"
   ]
  },
  {
   "cell_type": "code",
   "execution_count": 32,
   "id": "1d46753b",
   "metadata": {
    "id": "9efcf7b8"
   },
   "outputs": [],
   "source": [
    "\n",
    "def UserCoverage(topNPredicted, numUsers, ratingThreshold=0):\n",
    "    hits = 0\n",
    "    for userID in topNPredicted.keys():\n",
    "        hit = 0\n",
    "        for mid, predictedRating in topNPredicted[userID]:\n",
    "            if (predictedRating >= ratingThreshold):\n",
    "                hit = 1\n",
    "                break\n",
    "        if (hit==1):\n",
    "            hits += 1\n",
    "    return hits / numUsers"
   ]
  },
  {
   "cell_type": "markdown",
   "id": "19217a69",
   "metadata": {
    "id": "45d41c66"
   },
   "source": [
    "### Novelty is a measure of how popular the items system recommending."
   ]
  },
  {
   "cell_type": "code",
   "execution_count": 33,
   "id": "388dbc7c",
   "metadata": {
    "id": "93f6dfaf"
   },
   "outputs": [],
   "source": [
    "def Novelty(topNPredicted, rankings):\n",
    "    n = 0\n",
    "    total = 0\n",
    "    for uid in topNPredicted.keys():\n",
    "        for rating in topNPredicted[uid]:\n",
    "            mid = rating[0]\n",
    "            rank = rankings[mid]\n",
    "            total += rank\n",
    "            n += 1\n",
    "    if n==0:\n",
    "        return 0\n",
    "    return total / n"
   ]
  },
  {
   "cell_type": "markdown",
   "id": "47247b3c",
   "metadata": {
    "id": "RUNBbMdjq61o"
   },
   "source": [
    "### Evaluation metrics"
   ]
  },
  {
   "cell_type": "code",
   "execution_count": 34,
   "id": "6d4c4d18",
   "metadata": {
    "id": "033e2348"
   },
   "outputs": [],
   "source": [
    "from surprise.model_selection import LeaveOneOut\n",
    "import itertools\n",
    "\n",
    "  "
   ]
  },
  {
   "cell_type": "code",
   "execution_count": 35,
   "id": "ee23e625",
   "metadata": {
    "id": "d9b83c02"
   },
   "outputs": [],
   "source": [
    "\n",
    "class Evaluate:\n",
    "    def __init__(self, algo):\n",
    "        self.algo = algo\n",
    "    def start(self, n=10, verbose=True):\n",
    "        before=datetime.now() \n",
    "        #trainSet, testSet = train_test_split(data, test_size=.25, random_state=1)\n",
    "        algo.fit(trainset)\n",
    "        after= datetime.now() \n",
    "        duration = after-before                         \n",
    "        duration = duration.total_seconds() \n",
    "        print('time taken '+str(duration)+'s')\n",
    "        predictions = algo.test(testset)\n",
    "        rmse= RMSE(predictions)\n",
    "        mae= MAE(predictions)\n",
    "        print(\"Computing RMSE \"+str(rmse))\n",
    "        print(\"Computing MAE \"+str(mae))\n",
    "        return duration,rmse,mae\n",
    "    \n",
    "   \n",
    "    def getModel(self):\n",
    "        return self.algo\n",
    "    def OtherMetrics(self):\n",
    "            \n",
    "            self.algo.fit(fullTrainSet)\n",
    "            bigTestSet = fullTrainSet.build_anti_testset()\n",
    "            all_pred = algo.test(bigTestSet)\n",
    "            topN= Get_Top_Predictions(all_pred, n=10)\n",
    "\n",
    "            \n",
    "            ranking=getPopularityBasedOnRatingCount()\n",
    "            # Print user coverage:\n",
    "            user_coverage= UserCoverage(topN, fullTrainSet.n_users, ratingThreshold=4.0)\n",
    "            print(\"\\nUser coverage: \",user_coverage)\n",
    "            # Measure novelty (average popularity rank of recommendations):\n",
    "            novelty=Novelty(topN, ranking)\n",
    "            print(\"\\nNovelty : \",novelty )\n",
    "            # Measure diversity of recommendations:\n",
    "\n",
    "            #diversity=Diversity(topN, simsAlgo)\n",
    "            #print(\"\\nDiversity: \", diversity)\n",
    "          \n",
    "            return novelty,user_coverage\n",
    "        \n",
    "   \n",
    "    def RecommendationMetricsOnwholeTestSet(self):\n",
    "        hit_rate=0\n",
    "        cumm_hit_rate=0\n",
    "        print(\"Computing recommendations with train and test dataset...\")\n",
    "        # Build predictions for all ratings  in the test set\n",
    "        print(\"Predict ratings...\")\n",
    "        allPredictions = algo.test(testset)\n",
    "     \n",
    "        # Compute top 10 recs for each user\n",
    "        print(\"Compute top 10 recs per user\")\n",
    "        topNPredicted = Get_Top_Predictions(allPredictions)\n",
    "        allPredictedOnActualDataSet = Get_All_Predictions_In_Actual_DataSet(testset)\n",
    "        topNPredictedOnActualDataSet =   Get_Top_Predictions_In_Actual_DataSet(testset)\n",
    "       \n",
    "      \n",
    "        #Calculate hit rate\n",
    "        \n",
    "        hit_rate=HitRate(topNPredicted, allPredictedOnActualDataSet)\n",
    "        print(\"\\nHit Rate: \",hit_rate )\n",
    "\n",
    "        map_k= MAP_K(topNPredicted, allPredictedOnActualDataSet)\n",
    "        print(\"\\nMAP@K: \",map_k )\n",
    "        \n",
    "        \n",
    "         #Calculate hit rate\n",
    "        \n",
    "        hit_rate_most_liked=HitRate(topNPredicted, topNPredictedOnActualDataSet)\n",
    "        print(\"\\nHit Rate on top liked items: \",hit_rate_most_liked )\n",
    "\n",
    "        map_k_most_liked= MAP_K(topNPredicted, topNPredictedOnActualDataSet)\n",
    "        print(\"\\nMAP@K  on top liked items: \",map_k_most_liked )\n",
    "        # See how often we recommended a movie the user actually liked\n",
    "       \n",
    "          \n",
    "        return hit_rate,map_k\n",
    "    "
   ]
  },
  {
   "cell_type": "markdown",
   "id": "7f46e441",
   "metadata": {
    "id": "42877b75"
   },
   "source": [
    "### Apply SVD Algorithm"
   ]
  },
  {
   "cell_type": "code",
   "execution_count": 36,
   "id": "b48a017f",
   "metadata": {
    "colab": {
     "base_uri": "https://localhost:8080/"
    },
    "id": "5c16e969",
    "outputId": "527fb88c-656b-451a-faba-9b81fc4e7790"
   },
   "outputs": [
    {
     "name": "stdout",
     "output_type": "stream",
     "text": [
      "time taken 16.845324s\n",
      "Computing RMSE 3.422254372537631\n",
      "Computing MAE 2.829000820730456\n"
     ]
    }
   ],
   "source": [
    "\n",
    "from surprise import SVD\n",
    "from datetime import datetime\n",
    "algo =  SVD(n_epochs = 300, lr_all = 0.0001, n_factors = 50)\n",
    "evaluate=Evaluate(algo)\n",
    "svd_duration,svd_rmse,svd_mae=evaluate.start()\n"
   ]
  },
  {
   "cell_type": "code",
   "execution_count": 37,
   "id": "dc231216",
   "metadata": {
    "colab": {
     "base_uri": "https://localhost:8080/"
    },
    "id": "TN6LWv_zmgM4",
    "outputId": "4466b668-9e4f-46ab-e922-dec46a016714"
   },
   "outputs": [
    {
     "name": "stdout",
     "output_type": "stream",
     "text": [
      "Computing recommendations with train and test dataset...\n",
      "Predict ratings...\n",
      "Compute top 10 recs per user\n",
      "\n",
      "Hit Rate:  0.15475113122171946\n",
      "\n",
      "MAP@K:  0.0\n",
      "\n",
      "Hit Rate on top liked items:  0.14479638009049775\n",
      "\n",
      "MAP@K  on top liked items:  0.0\n"
     ]
    }
   ],
   "source": [
    "svd_hit_rate,svd_mapk=evaluate.RecommendationMetricsOnwholeTestSet()\n"
   ]
  },
  {
   "cell_type": "markdown",
   "id": "358c4817",
   "metadata": {
    "id": "3050f14c"
   },
   "source": [
    "### Apply SVDpp Algorithm"
   ]
  },
  {
   "cell_type": "code",
   "execution_count": 38,
   "id": "3d326954",
   "metadata": {
    "colab": {
     "base_uri": "https://localhost:8080/"
    },
    "id": "04a0eed7",
    "outputId": "50a2c958-cda5-4e5a-e62d-338651d3d7e5"
   },
   "outputs": [
    {
     "name": "stdout",
     "output_type": "stream",
     "text": [
      "time taken 19.87094s\n",
      "Computing RMSE 3.4179535154550633\n",
      "Computing MAE 2.8232760130367653\n"
     ]
    }
   ],
   "source": [
    "\n",
    "from surprise import SVDpp\n",
    "from datetime import datetime\n",
    "algosvdpp = SVDpp()\n",
    "evaluate=Evaluate(algosvdpp)\n",
    "svdpp_duration,svdpp_rmse,svdpp_mae=evaluate.start()\n"
   ]
  },
  {
   "cell_type": "code",
   "execution_count": 39,
   "id": "2140c0b8",
   "metadata": {
    "colab": {
     "base_uri": "https://localhost:8080/"
    },
    "id": "JVL5DFEE25aK",
    "outputId": "f6653b75-ac4f-4404-b5bd-481579a7ac37"
   },
   "outputs": [
    {
     "name": "stdout",
     "output_type": "stream",
     "text": [
      "Computing recommendations with train and test dataset...\n",
      "Predict ratings...\n",
      "Compute top 10 recs per user\n",
      "\n",
      "Hit Rate:  0.16018099547511314\n",
      "\n",
      "MAP@K:  0.0\n",
      "\n",
      "Hit Rate on top liked items:  0.15294117647058825\n",
      "\n",
      "MAP@K  on top liked items:  0.0\n"
     ]
    }
   ],
   "source": [
    "svdpp_hit_rate,svdpp_mapk=evaluate.RecommendationMetricsOnwholeTestSet()\n"
   ]
  },
  {
   "cell_type": "markdown",
   "id": "c5839062",
   "metadata": {
    "id": "32118f78"
   },
   "source": [
    "### Apply NMF Algorithm"
   ]
  },
  {
   "cell_type": "code",
   "execution_count": null,
   "id": "ddec7896",
   "metadata": {
    "colab": {
     "base_uri": "https://localhost:8080/"
    },
    "id": "e8aaaed0",
    "outputId": "1cc7b644-a6f5-402a-90ba-aac8c2f4dbb3"
   },
   "outputs": [],
   "source": [
    "\n",
    "from surprise import NMF\n",
    "from datetime import datetime\n",
    "algoNMF = NMF()\n",
    "evaluate=Evaluate(algoNMF)\n",
    "NMF_duration,NMF_rmse,NMF_mae=evaluate.start()"
   ]
  },
  {
   "cell_type": "code",
   "execution_count": null,
   "id": "e7f28367",
   "metadata": {
    "colab": {
     "base_uri": "https://localhost:8080/"
    },
    "id": "93cf767f",
    "outputId": "d3e42f5a-f4cc-492a-e23d-bcf457bcf2a7"
   },
   "outputs": [],
   "source": [
    "NMF_hit_rate,NMF_mapk=evaluate.RecommendationMetricsOnwholeTestSet()\n"
   ]
  },
  {
   "cell_type": "markdown",
   "id": "276fcf44",
   "metadata": {
    "id": "cp_53Ycd3TJT"
   },
   "source": [
    "# Neighbourhood based method"
   ]
  },
  {
   "cell_type": "markdown",
   "id": "224802c8",
   "metadata": {
    "id": "-qPieEZA3ZoR"
   },
   "source": [
    "### User-Based recommendation"
   ]
  },
  {
   "cell_type": "code",
   "execution_count": null,
   "id": "045d8f52",
   "metadata": {
    "colab": {
     "base_uri": "https://localhost:8080/"
    },
    "id": "WyqiScRJ3UHZ",
    "outputId": "636b143d-329b-4f97-c731-1748c9f05a80"
   },
   "outputs": [],
   "source": [
    "from surprise import KNNBasic\n",
    "print(\"\\nComputing item similarities ...\")\n",
    "options = {'name': 'cosine', 'user_based': True}\n",
    "simsAlgo = KNNBasic(sim_options=options)\n",
    "simsAlgo.fit(fullTrainSet)\n",
    "simsMatrix = simsAlgo.compute_similarities()"
   ]
  },
  {
   "cell_type": "markdown",
   "id": "b70124e9",
   "metadata": {
    "id": "DVclunZ13hTL"
   },
   "source": [
    "#### Find similar users using similarity score"
   ]
  },
  {
   "cell_type": "code",
   "execution_count": null,
   "id": "3ae487db",
   "metadata": {
    "id": "jti7JBys3laB"
   },
   "outputs": [],
   "source": [
    "import heapq\n",
    "from operator import itemgetter\n",
    "def getdataForAllUsers(n=10, verbose=True):\n",
    "        print(\"\\nComputing  similarities ...\")\n",
    "        options = {'name': 'cosine', 'user_based': True}\n",
    "        \n",
    "        simsAlgo = KNNBasic(sim_options=options)\n",
    "        simsAlgo.fit(trainset)\n",
    "        simsMatrix = simsAlgo.compute_similarities()\n",
    "        \n",
    "        topN = defaultdict(list)\n",
    "        \n",
    "        hit_rate=0\n",
    "        cumm_hit_rate=0\n",
    "        k = 10\n",
    "        \n",
    "        for uid in range(trainset.n_users):\n",
    "            # Get top N similar users to this one\n",
    "            similarityRow = simsMatrix[uid]\n",
    "            \n",
    "            similarUsers = []\n",
    "            for innerID, score in enumerate(similarityRow):\n",
    "                if (innerID != uid):\n",
    "                    similarUsers.append( (innerID, score) )\n",
    "            \n",
    "            kNeighbors = heapq.nlargest(k, similarUsers, key=lambda t: t[1])\n",
    "            \n",
    "            # Get the stuff they rated, and add up ratings for each item, weighted by user similarity\n",
    "            candidates = defaultdict(float)\n",
    "            for similarUser in kNeighbors:\n",
    "                innerID = similarUser[0]\n",
    "                userSimilarityScore = similarUser[1]\n",
    "                theirRatings = trainset.ur[innerID]\n",
    "                for rating in theirRatings:\n",
    "                    candidates[rating[0]] += (rating[1] / 5.0) * userSimilarityScore\n",
    "                \n",
    "            # Build a dictionary of stuff the user has already seen\n",
    "            alreadyRead = {}\n",
    "            for itemID, rating in trainset.ur[uid]:\n",
    "                alreadyRead[itemID] = 1\n",
    "                \n",
    "            # Get top-rated items from similar users:\n",
    "            pos = 0\n",
    "            for itemID, ratingSum in sorted(candidates.items(), key=itemgetter(1), reverse=True):\n",
    "                if not itemID in alreadyRead:\n",
    "                    id = trainset.to_raw_iid(itemID)\n",
    "                    topN[int(trainset.to_raw_uid(uid))].append( (int(id), 0.0) )\n",
    "                    pos += 1\n",
    "                    if (pos > n):\n",
    "                        break\n",
    "                        \n",
    "        return topN"
   ]
  },
  {
   "cell_type": "code",
   "execution_count": null,
   "id": "029100f0",
   "metadata": {
    "colab": {
     "base_uri": "https://localhost:8080/"
    },
    "id": "nOHa03KW327D",
    "outputId": "51450263-2567-47f8-b0bd-8b996042b99b"
   },
   "outputs": [],
   "source": [
    "topN=getdataForAllUsers()"
   ]
  },
  {
   "cell_type": "code",
   "execution_count": null,
   "id": "02a0891d",
   "metadata": {
    "id": "vxcD3h-94ULI"
   },
   "outputs": [],
   "source": [
    "allPredictedOnActualDataSet = Get_All_Predictions_In_Actual_DataSet(testset)\n"
   ]
  },
  {
   "cell_type": "code",
   "execution_count": null,
   "id": "a68aa257",
   "metadata": {
    "colab": {
     "base_uri": "https://localhost:8080/"
    },
    "id": "NIrgtOob4hbb",
    "outputId": "a5bccec9-42cb-4838-ba49-d1cdbcc1c8fd"
   },
   "outputs": [],
   "source": [
    "hit_rate_knn=HitRate(topN,allPredictedOnActualDataSet)\n",
    "hit_rate_knn"
   ]
  },
  {
   "cell_type": "code",
   "execution_count": null,
   "id": "5ad30221",
   "metadata": {
    "colab": {
     "base_uri": "https://localhost:8080/"
    },
    "id": "tHbEJn-c4aiJ",
    "outputId": "5d0d6485-c79b-4595-d57e-cb438d2f813e"
   },
   "outputs": [],
   "source": [
    "map_k_knn=MAP_K(topN,allPredictedOnActualDataSet)\n",
    "map_k_knn"
   ]
  }
 ],
 "metadata": {
  "accelerator": "GPU",
  "colab": {
   "collapsed_sections": [],
   "machine_shape": "hm",
   "name": "books_surprise api.ipynb",
   "provenance": []
  },
  "gpuClass": "standard",
  "kernelspec": {
   "display_name": "Python 3",
   "language": "python",
   "name": "python3"
  },
  "language_info": {
   "codemirror_mode": {
    "name": "ipython",
    "version": 3
   },
   "file_extension": ".py",
   "mimetype": "text/x-python",
   "name": "python",
   "nbconvert_exporter": "python",
   "pygments_lexer": "ipython3",
   "version": "3.6.5"
  }
 },
 "nbformat": 4,
 "nbformat_minor": 5
}

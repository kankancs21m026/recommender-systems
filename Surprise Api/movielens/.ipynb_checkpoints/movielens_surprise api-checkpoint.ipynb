{
 "cells": [
  {
   "cell_type": "code",
   "execution_count": 77,
   "id": "584cdf93",
   "metadata": {
    "id": "5b97d650"
   },
   "outputs": [],
   "source": [
    "import warnings\n",
    "warnings.filterwarnings(\"ignore\")"
   ]
  },
  {
   "cell_type": "code",
   "execution_count": 78,
   "id": "8309fb37",
   "metadata": {
    "id": "519937e0"
   },
   "outputs": [],
   "source": [
    "from datetime import datetime\n",
    "import os\n",
    "import matplotlib\n",
    "import pandas as pd\n",
    "import numpy as np\n",
    "import matplotlib.pyplot as plt\n",
    "import seaborn as sns\n",
    "sns.set_style('whitegrid')\n",
    "\n",
    "from scipy import sparse\n",
    "from scipy.sparse import csc_matrix\n",
    "from sklearn.decomposition import TruncatedSVD\n",
    "import random\n",
    "random.seed(0)\n",
    "np.random.seed(0)"
   ]
  },
  {
   "cell_type": "markdown",
   "id": "940f6204",
   "metadata": {
    "id": "1ac47295"
   },
   "source": [
    "## Analyse Dataset"
   ]
  },
  {
   "cell_type": "markdown",
   "id": "c37850c3",
   "metadata": {
    "id": "474dfab9"
   },
   "source": [
    "\n",
    "### Movie lens Dataset\n",
    "Reading dataset (MovieLens 1M movie ratings dataset: downloaded from https://www.kaggle.com/datasets/shubhammehta21/movie-lens-small-latest-dataset)\n"
   ]
  },
  {
   "cell_type": "code",
   "execution_count": 79,
   "id": "b60b611a",
   "metadata": {},
   "outputs": [],
   "source": [
    "rating_path=\"ratings.csv\""
   ]
  },
  {
   "cell_type": "code",
   "execution_count": 80,
   "id": "54ebe681",
   "metadata": {},
   "outputs": [
    {
     "data": {
      "text/html": [
       "<div>\n",
       "<style scoped>\n",
       "    .dataframe tbody tr th:only-of-type {\n",
       "        vertical-align: middle;\n",
       "    }\n",
       "\n",
       "    .dataframe tbody tr th {\n",
       "        vertical-align: top;\n",
       "    }\n",
       "\n",
       "    .dataframe thead th {\n",
       "        text-align: right;\n",
       "    }\n",
       "</style>\n",
       "<table border=\"1\" class=\"dataframe\">\n",
       "  <thead>\n",
       "    <tr style=\"text-align: right;\">\n",
       "      <th></th>\n",
       "      <th>userId</th>\n",
       "      <th>movieId</th>\n",
       "      <th>rating</th>\n",
       "      <th>timestamp</th>\n",
       "    </tr>\n",
       "  </thead>\n",
       "  <tbody>\n",
       "    <tr>\n",
       "      <th>0</th>\n",
       "      <td>1</td>\n",
       "      <td>1</td>\n",
       "      <td>4.0</td>\n",
       "      <td>964982703</td>\n",
       "    </tr>\n",
       "  </tbody>\n",
       "</table>\n",
       "</div>"
      ],
      "text/plain": [
       "   userId  movieId  rating  timestamp\n",
       "0       1        1     4.0  964982703"
      ]
     },
     "execution_count": 80,
     "metadata": {},
     "output_type": "execute_result"
    }
   ],
   "source": [
    "rating_df=pd.read_csv(\"ratings.csv\")\n",
    "rating_df.head(1)"
   ]
  },
  {
   "cell_type": "code",
   "execution_count": 81,
   "id": "e619df3b",
   "metadata": {},
   "outputs": [],
   "source": [
    "movieID_to_name = {}\n",
    "name_to_movieID = {}\n",
    "with open(\"movies.csv\", newline='', encoding='ISO-8859-1') as csvfile:\n",
    "        movieReader = csv.reader(csvfile)\n",
    "        next(movieReader)  #Skip header line\n",
    "        for row in movieReader:\n",
    "            movieID = int(row[0])\n",
    "            movieName = row[1]\n",
    "            movieID_to_name[movieID] = movieName\n",
    "            name_to_movieID[movieName] = movieID"
   ]
  },
  {
   "cell_type": "code",
   "execution_count": 82,
   "id": "6af11571",
   "metadata": {},
   "outputs": [],
   "source": [
    "def getMovieName( movieIDs):\n",
    "    result=[]\n",
    "    for i in movieIDs:\n",
    "        if movieID in movieID_to_name:\n",
    "            result.append( movieID_to_name[i])\n",
    "        \n",
    "    return result\n",
    "def getMovieID(movieName):\n",
    "    if movieName in name_to_movieID:\n",
    "        return name_to_movieID[movieName]\n",
    "    else:\n",
    "        return 0"
   ]
  },
  {
   "cell_type": "code",
   "execution_count": 83,
   "id": "e627ef9f",
   "metadata": {},
   "outputs": [],
   "source": [
    "def getMovie( movieID):\n",
    "    result=[]\n",
    "    if movieID in movieID_to_name:\n",
    "           return  movieID_to_name[movieID]\n",
    "        \n",
    "    return \"\""
   ]
  },
  {
   "cell_type": "markdown",
   "id": "f6836dd4",
   "metadata": {},
   "source": [
    "## Prepare dataset"
   ]
  },
  {
   "cell_type": "code",
   "execution_count": 84,
   "id": "34c5789c",
   "metadata": {},
   "outputs": [],
   "source": [
    "\n",
    "rating_df=rating_df[['userId','movieId','rating']]"
   ]
  },
  {
   "cell_type": "code",
   "execution_count": 85,
   "id": "49451e0e",
   "metadata": {},
   "outputs": [],
   "source": [
    "\n",
    "import csv\n",
    "from surprise import Dataset,Reader\n",
    "from surprise.model_selection import cross_validate\n",
    "reader = Reader(line_format='user item rating', sep=',', rating_scale=(0,5),skip_lines=1)\n",
    "# The columns must correspond to user id, item id and ratings (in that order).\n",
    "data = Dataset.load_from_file('ratings.csv', reader)"
   ]
  },
  {
   "cell_type": "code",
   "execution_count": 86,
   "id": "578ee8bb",
   "metadata": {},
   "outputs": [],
   "source": [
    "fullTrainSet = data.build_full_trainset()\n"
   ]
  },
  {
   "cell_type": "markdown",
   "id": "d59cec5b",
   "metadata": {},
   "source": [
    "# Define recommender metrics"
   ]
  },
  {
   "cell_type": "markdown",
   "id": "943810cb",
   "metadata": {},
   "source": [
    "### Rating Prediction"
   ]
  },
  {
   "cell_type": "code",
   "execution_count": 87,
   "id": "5e7f4afb",
   "metadata": {},
   "outputs": [],
   "source": [
    "from surprise import accuracy\n",
    "from collections import defaultdict\n",
    "def MAE(predictions):\n",
    "    return accuracy.mae(predictions, verbose=False)\n",
    "def RMSE(predictions):\n",
    "    return accuracy.rmse(predictions, verbose=False)"
   ]
  },
  {
   "cell_type": "markdown",
   "id": "6c09df4b",
   "metadata": {},
   "source": [
    "### Popular movies based on rating count"
   ]
  },
  {
   "cell_type": "code",
   "execution_count": 88,
   "id": "35b1579e",
   "metadata": {},
   "outputs": [],
   "source": [
    "\n",
    "from collections import defaultdict\n",
    "def getPopularityMoviesBasedOnRatingCount(top_n=None):\n",
    "    ratings = defaultdict(int)\n",
    "    rankings = defaultdict(int)\n",
    "    with open(rating_path, newline='') as csvfile:\n",
    "        ratingReader = csv.reader(csvfile)\n",
    "        next(ratingReader)\n",
    "        for row in ratingReader:\n",
    "            movieID = int(row[1])\n",
    "            #increse rating count for that movie\n",
    "            ratings[movieID] += 1\n",
    "    rank = 1\n",
    "    for movieID, ratingCount in sorted(ratings.items(), key=lambda x: x[1], reverse=True):\n",
    "        rankings[movieID] = rank\n",
    "        rank += 1\n",
    "    if top_n is None:\n",
    "        return rankings\n",
    "    else:\n",
    "        return sorted(rankings, key=rankings.get, reverse=False)[:top_n]\n",
    "    "
   ]
  },
  {
   "cell_type": "markdown",
   "id": "940a6419",
   "metadata": {},
   "source": [
    "### Top N predictions"
   ]
  },
  {
   "cell_type": "code",
   "execution_count": 89,
   "id": "703496c8",
   "metadata": {},
   "outputs": [],
   "source": [
    "def Get_Top_Predictions(predictions, n=10, minimumRating=3.0):\n",
    "    topN = defaultdict(list)\n",
    "    for uid, mid, actualRating, estimatedRating, _ in predictions:\n",
    "        if (estimatedRating >= minimumRating):\n",
    "            topN[int(uid)].append((int(mid), estimatedRating))\n",
    "    for uid, ratings in topN.items():\n",
    "        ratings.sort(key=lambda x: x[1], reverse=True)\n",
    "        topN[int(uid)] = ratings[:n]\n",
    "    return topN"
   ]
  },
  {
   "cell_type": "markdown",
   "id": "86b5be4b",
   "metadata": {},
   "source": [
    "###  See how often we recommended a movie the user actually rated"
   ]
  },
  {
   "cell_type": "code",
   "execution_count": 90,
   "id": "8eb4795e",
   "metadata": {},
   "outputs": [],
   "source": [
    "def HitRate(topNPredicted, leftOutPredictions):\n",
    "    hits = 0\n",
    "    total = 0\n",
    "    # For each left-out rating\n",
    "    for leftOut in leftOutPredictions:\n",
    "        userID = leftOut[0]\n",
    "        leftOutMovieID = leftOut[1]\n",
    "        # Is it in the predicted top 10 for this user?\n",
    "        hit = False\n",
    "        for movieID, predictedRating in topNPredicted[int(userID)]:\n",
    "            if (int(leftOutMovieID) == int(movieID)):\n",
    "                hit = True\n",
    "                break\n",
    "        if (hit) :\n",
    "            hits += 1\n",
    "        total += 1\n",
    "    # Compute overall precision\n",
    "    return hits/total\n"
   ]
  },
  {
   "cell_type": "markdown",
   "id": "3433dd8a",
   "metadata": {},
   "source": [
    "### How often we recommended a movie the user actually liked \n"
   ]
  },
  {
   "cell_type": "code",
   "execution_count": 91,
   "id": "7d8427f6",
   "metadata": {},
   "outputs": [],
   "source": [
    "def CumulativeHitRate(topNPredicted, leftOutPredictions, ratingCutoff=4.0):\n",
    "    hits = 0\n",
    "    total = 0\n",
    "    # For each left-out rating\n",
    "    for userID, leftOutMovieID, actualRating, estimatedRating, _ in leftOutPredictions:\n",
    "        # Only look at ability to recommend things the users actually liked...\n",
    "        if (actualRating >= ratingCutoff):\n",
    "            # Is it in the predicted top 10 for this user?\n",
    "            hit = False\n",
    "            for movieID, predictedRating in topNPredicted[int(userID)]:\n",
    "                if (int(leftOutMovieID) == movieID):\n",
    "                    hit = True\n",
    "                    break\n",
    "            if (hit) :\n",
    "                hits += 1\n",
    "            total += 1\n",
    "    return hits/total"
   ]
  },
  {
   "cell_type": "markdown",
   "id": "92f32d51",
   "metadata": {},
   "source": [
    "### Percentage of users have at least one \"good\" recommendation"
   ]
  },
  {
   "cell_type": "code",
   "execution_count": 92,
   "id": "7eda2fab",
   "metadata": {},
   "outputs": [],
   "source": [
    "\n",
    "def UserCoverage(topNPredicted, numUsers, ratingThreshold=0):\n",
    "    hits = 0\n",
    "    for userID in topNPredicted.keys():\n",
    "        hit = 0\n",
    "        for mid, predictedRating in topNPredicted[userID]:\n",
    "            if (predictedRating >= ratingThreshold):\n",
    "                hit = 1\n",
    "                break\n",
    "        if (hit==1):\n",
    "            hits += 1\n",
    "    return hits / numUsers"
   ]
  },
  {
   "cell_type": "markdown",
   "id": "4902e8ce",
   "metadata": {},
   "source": [
    "### Diversity is a measure of how your recommendations are different from each other."
   ]
  },
  {
   "cell_type": "code",
   "execution_count": 93,
   "id": "5d0b062d",
   "metadata": {},
   "outputs": [],
   "source": [
    "def Diversity(topNPredicted, simsAlgo):\n",
    "    n = 0\n",
    "    total = 0\n",
    "    simsMatrix = simsAlgo.compute_similarities()\n",
    "    for userID in topNPredicted.keys():\n",
    "        pairs = itertools.combinations(topNPredicted[userID], 2)\n",
    "        for pair in pairs:\n",
    "            movie1 = pair[0][0]\n",
    "            movie2 = pair[1][0]\n",
    "            innerID1 = simsAlgo.trainset.to_inner_iid(str(movie1))\n",
    "            innerID2 = simsAlgo.trainset.to_inner_iid(str(movie2))\n",
    "            similarity = simsMatrix[innerID1][innerID2]\n",
    "            total += similarity\n",
    "            n += 1\n",
    "    S = total / n\n",
    "    return (1-S)\n"
   ]
  },
  {
   "cell_type": "markdown",
   "id": "3e1482ee",
   "metadata": {},
   "source": [
    "### Novelty is a measure of how popular the items system recommending."
   ]
  },
  {
   "cell_type": "code",
   "execution_count": 94,
   "id": "8fd02ba6",
   "metadata": {},
   "outputs": [],
   "source": [
    "def Novelty(topNPredicted, rankings):\n",
    "    n = 0\n",
    "    total = 0\n",
    "    for uid in topNPredicted.keys():\n",
    "        for rating in topNPredicted[uid]:\n",
    "            mid = rating[0]\n",
    "            rank = rankings[mid]\n",
    "            total += rank\n",
    "            n += 1\n",
    "    return total / n"
   ]
  },
  {
   "cell_type": "code",
   "execution_count": 95,
   "id": "895d6cea",
   "metadata": {},
   "outputs": [
    {
     "data": {
      "text/plain": [
       "['Forrest Gump (1994)',\n",
       " 'Shawshank Redemption, The (1994)',\n",
       " 'Pulp Fiction (1994)',\n",
       " 'Silence of the Lambs, The (1991)',\n",
       " 'Matrix, The (1999)',\n",
       " 'Star Wars: Episode IV - A New Hope (1977)',\n",
       " 'Jurassic Park (1993)',\n",
       " 'Braveheart (1995)',\n",
       " 'Terminator 2: Judgment Day (1991)',\n",
       " \"Schindler's List (1993)\"]"
      ]
     },
     "execution_count": 95,
     "metadata": {},
     "output_type": "execute_result"
    }
   ],
   "source": [
    "getMovieName(getPopularityMoviesBasedOnRatingCount(10))"
   ]
  },
  {
   "cell_type": "markdown",
   "id": "6ef0dc7e",
   "metadata": {},
   "source": [
    "### Similarity algoritm- KNNBaseline"
   ]
  },
  {
   "cell_type": "code",
   "execution_count": 96,
   "id": "1eb9a7a2",
   "metadata": {},
   "outputs": [
    {
     "name": "stdout",
     "output_type": "stream",
     "text": [
      "\n",
      "Computing item similarities so we can measure diversity later...\n",
      "Estimating biases using als...\n",
      "Computing the pearson_baseline similarity matrix...\n",
      "Done computing similarity matrix.\n"
     ]
    },
    {
     "data": {
      "text/plain": [
       "<surprise.prediction_algorithms.knns.KNNBaseline at 0x1898f947d68>"
      ]
     },
     "execution_count": 96,
     "metadata": {},
     "output_type": "execute_result"
    }
   ],
   "source": [
    "\n",
    "from surprise import KNNBaseline\n",
    "\n",
    "\n",
    "print(\"\\nComputing item similarities so we can measure diversity later...\")\n",
    "options = {'name': 'pearson_baseline', 'user_based': False}\n",
    "simsAlgo = KNNBaseline(sim_options=options)\n",
    "simsAlgo.fit(fullTrainSet)\n"
   ]
  },
  {
   "cell_type": "code",
   "execution_count": 97,
   "id": "3a005a7c",
   "metadata": {},
   "outputs": [],
   "source": [
    "from surprise.model_selection import LeaveOneOut\n",
    "import itertools\n",
    "\n",
    "  "
   ]
  },
  {
   "cell_type": "code",
   "execution_count": 98,
   "id": "e9d5b94b",
   "metadata": {},
   "outputs": [],
   "source": [
    "from surprise.model_selection.split import train_test_split\n",
    "class Evaluate:\n",
    "    def __init__(self, algo):\n",
    "        self.algo = algo\n",
    "    def start(self, n=10, verbose=True):\n",
    "        before=datetime.now() \n",
    "        trainSet, testSet = train_test_split(data, test_size=.25, random_state=1)\n",
    "        algo.fit(trainSet)\n",
    "        after= datetime.now() \n",
    "        duration = after-before                         \n",
    "        duration = duration.total_seconds() \n",
    "        print('time taken '+str(duration)+'s')\n",
    "        predictions = algo.test(testSet)\n",
    "        rmse= RMSE(predictions)\n",
    "        mae= MAE(predictions)\n",
    "        print(\"Computing RMSE \"+str(rmse))\n",
    "        print(\"Computing MAE \"+str(mae))\n",
    "        return duration,rmse,mae\n",
    "    def topNresult(self):\n",
    "        loo = LeaveOneOut(n_splits=1, random_state=1)\n",
    "        hit_rate=0\n",
    "        cumm_hit_rate=0\n",
    "        for trainSet, testSet in loo.split(data):\n",
    "            print(\"Computing recommendations with leave-one-out...\")\n",
    "\n",
    "            # Train model without left-out ratings\n",
    "            self.algo.fit(trainSet)\n",
    "\n",
    "            # Predicts ratings for left-out ratings only\n",
    "            print(\"Predict ratings for left-out set...\")\n",
    "            leftOutPredictions = algo.test(testSet)\n",
    "\n",
    "            # Build predictions for all ratings not in the training set\n",
    "            print(\"Predict all missing ratings...\")\n",
    "            bigTestSet = trainSet.build_anti_testset()\n",
    "            allPredictions = algo.test(bigTestSet)\n",
    "\n",
    "            # Compute top 10 recs for each user\n",
    "            print(\"Compute top 10 recs per user\")\n",
    "            topNPredicted = Get_Top_Predictions(allPredictions, n=10)\n",
    "\n",
    "            # See how often we recommended a movie the user actually rated\n",
    "            hit_rate=HitRate(topNPredicted, leftOutPredictions)\n",
    "            print(\"\\nHit Rate: \",hit_rate )\n",
    "\n",
    "            # See how often we recommended a movie the user actually liked\n",
    "            cumm_hit_rate=CumulativeHitRate(topNPredicted, leftOutPredictions, 4.0)\n",
    "            print(\"\\ncHR (Cumulative Hit Rate, rating >= 4): \", cumm_hit_rate)\n",
    "            \n",
    "            return hit_rate,cumm_hit_rate\n",
    "        \n",
    "    def getModel(self):\n",
    "        return self.algo\n",
    "    def otherMetrics(self):\n",
    "     \n",
    "            self.algo.fit(fullTrainSet)\n",
    "            bigTestSet = fullTrainSet.build_anti_testset()\n",
    "            all_pred = algo.test(bigTestSet)\n",
    "            topN= Get_Top_Predictions(all_pred, n=10)\n",
    "            ranking=getPopularityMoviesBasedOnRatingCount()\n",
    "            diversity=Diversity(topN, simsAlgo)\n",
    "            # Measure diversity of recommendations:\n",
    "            print(\"\\nDiversity: \", diversity)\n",
    "            novelty=Novelty(topN, ranking)\n",
    "            # Measure novelty (average popularity rank of recommendations):\n",
    "            print(\"\\nNovelty (average popularity rank): \",novelty )\n",
    "            return novelty,diversity"
   ]
  },
  {
   "cell_type": "markdown",
   "id": "3c13c2e7",
   "metadata": {},
   "source": [
    "# Apply SVD Algorithm"
   ]
  },
  {
   "cell_type": "code",
   "execution_count": 99,
   "id": "4db41560",
   "metadata": {},
   "outputs": [
    {
     "name": "stdout",
     "output_type": "stream",
     "text": [
      "time taken 4.494346s\n",
      "Computing RMSE 0.8800950930093621\n",
      "Computing MAE 0.675733544076352\n",
      "Computing recommendations with leave-one-out...\n",
      "Predict ratings for left-out set...\n",
      "Predict all missing ratings...\n",
      "Compute top 10 recs per user\n",
      "\n",
      "Hit Rate:  0.027868852459016394\n",
      "\n",
      "cHR (Cumulative Hit Rate, rating >= 4):  0.042134831460674156\n",
      "Computing the pearson_baseline similarity matrix...\n",
      "Done computing similarity matrix.\n",
      "\n",
      "Diversity:  0.9647219593750859\n",
      "\n",
      "Novelty (average popularity rank):  511.51864629538363\n"
     ]
    }
   ],
   "source": [
    "\n",
    "from surprise import SVD\n",
    "from datetime import datetime\n",
    "algo = SVD()\n",
    "evaluate=Evaluate(algo)\n",
    "svd_duration,svd_rmse,svd_mae=evaluate.start()\n",
    "svd_hit_rate,svd_cumm_hit_rate=evaluate.topNresult()\n",
    "svd_novelty,svd_diversity=evaluate.otherMetrics()\n",
    "algosvd=evaluate.getModel()"
   ]
  },
  {
   "cell_type": "code",
   "execution_count": null,
   "id": "12983b78",
   "metadata": {},
   "outputs": [],
   "source": []
  },
  {
   "cell_type": "markdown",
   "id": "ea1b338b",
   "metadata": {},
   "source": [
    "### Make rating predictions"
   ]
  },
  {
   "cell_type": "code",
   "execution_count": 100,
   "id": "f834179a",
   "metadata": {},
   "outputs": [
    {
     "data": {
      "text/html": [
       "<div>\n",
       "<style scoped>\n",
       "    .dataframe tbody tr th:only-of-type {\n",
       "        vertical-align: middle;\n",
       "    }\n",
       "\n",
       "    .dataframe tbody tr th {\n",
       "        vertical-align: top;\n",
       "    }\n",
       "\n",
       "    .dataframe thead th {\n",
       "        text-align: right;\n",
       "    }\n",
       "</style>\n",
       "<table border=\"1\" class=\"dataframe\">\n",
       "  <thead>\n",
       "    <tr style=\"text-align: right;\">\n",
       "      <th></th>\n",
       "      <th>userId</th>\n",
       "      <th>movieId</th>\n",
       "      <th>rating</th>\n",
       "    </tr>\n",
       "  </thead>\n",
       "  <tbody>\n",
       "    <tr>\n",
       "      <th>205</th>\n",
       "      <td>1</td>\n",
       "      <td>3176</td>\n",
       "      <td>1.0</td>\n",
       "    </tr>\n",
       "    <tr>\n",
       "      <th>308</th>\n",
       "      <td>4</td>\n",
       "      <td>126</td>\n",
       "      <td>1.0</td>\n",
       "    </tr>\n",
       "    <tr>\n",
       "      <th>314</th>\n",
       "      <td>4</td>\n",
       "      <td>222</td>\n",
       "      <td>1.0</td>\n",
       "    </tr>\n",
       "    <tr>\n",
       "      <th>320</th>\n",
       "      <td>4</td>\n",
       "      <td>296</td>\n",
       "      <td>1.0</td>\n",
       "    </tr>\n",
       "    <tr>\n",
       "      <th>329</th>\n",
       "      <td>4</td>\n",
       "      <td>441</td>\n",
       "      <td>1.0</td>\n",
       "    </tr>\n",
       "  </tbody>\n",
       "</table>\n",
       "</div>"
      ],
      "text/plain": [
       "     userId  movieId  rating\n",
       "205       1     3176     1.0\n",
       "308       4      126     1.0\n",
       "314       4      222     1.0\n",
       "320       4      296     1.0\n",
       "329       4      441     1.0"
      ]
     },
     "execution_count": 100,
     "metadata": {},
     "output_type": "execute_result"
    }
   ],
   "source": [
    "rating_df[rating_df['rating']==1 ].head(5)"
   ]
  },
  {
   "cell_type": "code",
   "execution_count": 101,
   "id": "47614230",
   "metadata": {},
   "outputs": [
    {
     "name": "stdout",
     "output_type": "stream",
     "text": [
      "user: 4          item: 441        r_ui = 1.00   est = 2.94   {'was_impossible': False}\n"
     ]
    }
   ],
   "source": [
    "userid=str(4)\n",
    "movieid=str(441)\n",
    "actual=1 \n",
    "pred = algosvd.predict(userid,movieid ,actual,  verbose=True)"
   ]
  },
  {
   "cell_type": "code",
   "execution_count": 102,
   "id": "94f57830",
   "metadata": {},
   "outputs": [
    {
     "name": "stdout",
     "output_type": "stream",
     "text": [
      "\n",
      "Computing recommendations...\n"
     ]
    }
   ],
   "source": [
    "# Than predict ratings for all pairs (u, i) that are NOT in the training set.\n",
    "testset = fullTrainSet.build_anti_testset()\n",
    "print(\"\\nComputing recommendations...\")\n",
    "predictions = algosvd.test(testset)"
   ]
  }
 ],
 "metadata": {
  "accelerator": "GPU",
  "colab": {
   "collapsed_sections": [],
   "name": "movielens_Graph_embeding.ipynb",
   "provenance": []
  },
  "gpuClass": "standard",
  "kernelspec": {
   "display_name": "Python 3",
   "language": "python",
   "name": "python3"
  },
  "language_info": {
   "codemirror_mode": {
    "name": "ipython",
    "version": 3
   },
   "file_extension": ".py",
   "mimetype": "text/x-python",
   "name": "python",
   "nbconvert_exporter": "python",
   "pygments_lexer": "ipython3",
   "version": "3.6.5"
  }
 },
 "nbformat": 4,
 "nbformat_minor": 5
}

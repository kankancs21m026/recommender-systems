{
 "cells": [
  {
   "cell_type": "code",
   "execution_count": 1,
   "id": "0d496cd7",
   "metadata": {
    "id": "5b97d650"
   },
   "outputs": [],
   "source": [
    "import warnings\n",
    "warnings.filterwarnings(\"ignore\")"
   ]
  },
  {
   "cell_type": "code",
   "execution_count": 2,
   "id": "78c8c9f5",
   "metadata": {
    "id": "519937e0"
   },
   "outputs": [],
   "source": [
    "from datetime import datetime\n",
    "import os\n",
    "import matplotlib\n",
    "import pandas as pd\n",
    "import numpy as np\n",
    "import matplotlib.pyplot as plt\n",
    "import seaborn as sns\n",
    "sns.set_style('whitegrid')\n",
    "import csv\n",
    "from scipy import sparse\n",
    "from scipy.sparse import csc_matrix\n",
    "from sklearn.decomposition import TruncatedSVD\n",
    "import random\n",
    "random.seed(0)\n",
    "np.random.seed(0)"
   ]
  },
  {
   "cell_type": "markdown",
   "id": "36d7e82f",
   "metadata": {
    "id": "1ac47295"
   },
   "source": [
    "## Analyse Dataset"
   ]
  },
  {
   "cell_type": "markdown",
   "id": "57d2e3a8",
   "metadata": {
    "id": "474dfab9"
   },
   "source": [
    "\n",
    "### Movie lens Dataset\n",
    "Reading dataset (MovieLens 1M movie ratings dataset: downloaded from https://www.kaggle.com/datasets/shubhammehta21/movie-lens-small-latest-dataset)\n"
   ]
  },
  {
   "cell_type": "code",
   "execution_count": 3,
   "id": "bdf8b3fd",
   "metadata": {},
   "outputs": [],
   "source": [
    "rating_path=\"ratings.csv\""
   ]
  },
  {
   "cell_type": "code",
   "execution_count": 4,
   "id": "00d29485",
   "metadata": {},
   "outputs": [
    {
     "data": {
      "text/html": [
       "<div>\n",
       "<style scoped>\n",
       "    .dataframe tbody tr th:only-of-type {\n",
       "        vertical-align: middle;\n",
       "    }\n",
       "\n",
       "    .dataframe tbody tr th {\n",
       "        vertical-align: top;\n",
       "    }\n",
       "\n",
       "    .dataframe thead th {\n",
       "        text-align: right;\n",
       "    }\n",
       "</style>\n",
       "<table border=\"1\" class=\"dataframe\">\n",
       "  <thead>\n",
       "    <tr style=\"text-align: right;\">\n",
       "      <th></th>\n",
       "      <th>userId</th>\n",
       "      <th>movieId</th>\n",
       "      <th>rating</th>\n",
       "      <th>timestamp</th>\n",
       "    </tr>\n",
       "  </thead>\n",
       "  <tbody>\n",
       "    <tr>\n",
       "      <th>0</th>\n",
       "      <td>1</td>\n",
       "      <td>1</td>\n",
       "      <td>4.0</td>\n",
       "      <td>964982703</td>\n",
       "    </tr>\n",
       "  </tbody>\n",
       "</table>\n",
       "</div>"
      ],
      "text/plain": [
       "   userId  movieId  rating  timestamp\n",
       "0       1        1     4.0  964982703"
      ]
     },
     "execution_count": 4,
     "metadata": {},
     "output_type": "execute_result"
    }
   ],
   "source": [
    "rating_df=pd.read_csv(\"ratings.csv\")\n",
    "rating_df.head(1)"
   ]
  },
  {
   "cell_type": "code",
   "execution_count": 5,
   "id": "27170467",
   "metadata": {},
   "outputs": [],
   "source": [
    "movie_df=pd.read_csv(\"movies.csv\")"
   ]
  },
  {
   "cell_type": "code",
   "execution_count": 6,
   "id": "7fe1d4a5",
   "metadata": {},
   "outputs": [
    {
     "data": {
      "image/png": "[encoded data removed]",
      "text/plain": [
       "<Figure size 432x288 with 1 Axes>"
      ]
     },
     "metadata": {
      "needs_background": "light"
     },
     "output_type": "display_data"
    }
   ],
   "source": [
    "\n",
    "import scipy.stats as st\n",
    "\n",
    "\n",
    "movie_ratingCount = (rating_df.\n",
    "     groupby(by = ['movieId'])['rating'].\n",
    "     count().\n",
    "     reset_index().\n",
    "     rename(columns = {'rating': 'totalRatingCount'})\n",
    "     [['movieId', 'totalRatingCount']]\n",
    "    )\n",
    "data = movie_ratingCount.loc[:, 'totalRatingCount'].values\n",
    "\n",
    "\n",
    "fig = plt.figure()\n",
    "ax = fig.add_axes([0,0,1,1])\n",
    "\n",
    "ax.hist(\n",
    "    data,\n",
    "    alpha=0.9,\n",
    "    bins=100,\n",
    "    density=True,\n",
    "    cumulative=False\n",
    ")\n",
    "\n",
    "\n",
    "plt.xlabel('totalRatingCount')\n",
    "plt.title('cumulative totalRatingCount distribution')\n",
    "plt.show()"
   ]
  },
  {
   "cell_type": "markdown",
   "id": "f977b01c",
   "metadata": {},
   "source": [
    "### Filter out dataset\n",
    "- Only consider entries got more than 3 rating \n",
    "- only consider ratings from users who have rated over n movies"
   ]
  },
  {
   "cell_type": "code",
   "execution_count": 7,
   "id": "23b90314",
   "metadata": {},
   "outputs": [
    {
     "name": "stdout",
     "output_type": "stream",
     "text": [
      "(73779, 3)\n"
     ]
    },
    {
     "data": {
      "text/html": [
       "<div>\n",
       "<style scoped>\n",
       "    .dataframe tbody tr th:only-of-type {\n",
       "        vertical-align: middle;\n",
       "    }\n",
       "\n",
       "    .dataframe tbody tr th {\n",
       "        vertical-align: top;\n",
       "    }\n",
       "\n",
       "    .dataframe thead th {\n",
       "        text-align: right;\n",
       "    }\n",
       "</style>\n",
       "<table border=\"1\" class=\"dataframe\">\n",
       "  <thead>\n",
       "    <tr style=\"text-align: right;\">\n",
       "      <th></th>\n",
       "      <th>userId</th>\n",
       "      <th>movieId</th>\n",
       "      <th>rating</th>\n",
       "    </tr>\n",
       "  </thead>\n",
       "  <tbody>\n",
       "    <tr>\n",
       "      <th>0</th>\n",
       "      <td>1</td>\n",
       "      <td>1</td>\n",
       "      <td>4.0</td>\n",
       "    </tr>\n",
       "    <tr>\n",
       "      <th>1</th>\n",
       "      <td>1</td>\n",
       "      <td>3</td>\n",
       "      <td>4.0</td>\n",
       "    </tr>\n",
       "    <tr>\n",
       "      <th>2</th>\n",
       "      <td>1</td>\n",
       "      <td>6</td>\n",
       "      <td>4.0</td>\n",
       "    </tr>\n",
       "  </tbody>\n",
       "</table>\n",
       "</div>"
      ],
      "text/plain": [
       "   userId  movieId  rating\n",
       "0       1        1     4.0\n",
       "1       1        3     4.0\n",
       "2       1        6     4.0"
      ]
     },
     "execution_count": 7,
     "metadata": {},
     "output_type": "execute_result"
    }
   ],
   "source": [
    "\n",
    "rating_df=rating_df[['userId','movieId','rating']]\n",
    "rating_df = rating_df.query('rating >=3')\n",
    "rating_df.reset_index(drop=True, inplace=True)\n",
    "#only consider ratings from users who have rated over n movies\n",
    "n=50\n",
    "users = rating_df[\"userId\"].value_counts()\n",
    "users = users[users>n].index.tolist()\n",
    "rating_df = rating_df.query('userId in @users')\n",
    "print(rating_df.shape)\n",
    "rating_df.head(3)"
   ]
  },
  {
   "cell_type": "code",
   "execution_count": 8,
   "id": "32a6c4c1",
   "metadata": {},
   "outputs": [],
   "source": [
    "movies = rating_df[\"movieId\"].value_counts()"
   ]
  },
  {
   "cell_type": "markdown",
   "id": "a7ee1a64",
   "metadata": {},
   "source": [
    "### Movie details"
   ]
  },
  {
   "cell_type": "code",
   "execution_count": 9,
   "id": "d989c882",
   "metadata": {},
   "outputs": [],
   "source": [
    "movieID_to_name = {}\n",
    "name_to_movieID = {}\n",
    "with open(\"movies.csv\", newline='', encoding='ISO-8859-1') as csvfile:\n",
    "        movieReader = csv.reader(csvfile)\n",
    "        next(movieReader)  #Skip header line\n",
    "        for row in movieReader:\n",
    "            movieID = int(row[0])\n",
    "            movieName = row[1]\n",
    "            movieID_to_name[movieID] = movieName\n",
    "            name_to_movieID[movieName] = movieID"
   ]
  },
  {
   "cell_type": "code",
   "execution_count": 10,
   "id": "039c3901",
   "metadata": {},
   "outputs": [],
   "source": [
    "def getMovieName( movieIDs):\n",
    "    result=[]\n",
    "    for i in movieIDs:\n",
    "        if movieID in movieID_to_name:\n",
    "            result.append( movieID_to_name[i])\n",
    "        \n",
    "    return result\n",
    "def getMovieID(movieName):\n",
    "    if movieName in name_to_movieID:\n",
    "        return name_to_movieID[movieName]\n",
    "    else:\n",
    "        return 0"
   ]
  },
  {
   "cell_type": "code",
   "execution_count": 11,
   "id": "c1a5d8d7",
   "metadata": {},
   "outputs": [],
   "source": [
    "def getMovie( movieID):\n",
    "    result=[]\n",
    "    if movieID in movieID_to_name:\n",
    "           return  movieID_to_name[movieID]\n",
    "        \n",
    "    return \"\""
   ]
  },
  {
   "cell_type": "markdown",
   "id": "ea5c7e31",
   "metadata": {},
   "source": [
    "## Prepare dataset"
   ]
  },
  {
   "cell_type": "code",
   "execution_count": 12,
   "id": "e33b9103",
   "metadata": {},
   "outputs": [],
   "source": [
    "\n",
    "rating_df=rating_df[['userId','movieId','rating']]"
   ]
  },
  {
   "cell_type": "code",
   "execution_count": 13,
   "id": "f76ea4e2",
   "metadata": {},
   "outputs": [],
   "source": [
    "\n",
    "import csv\n",
    "from surprise import Dataset,Reader\n",
    "from surprise.model_selection import cross_validate\n",
    "from surprise.model_selection import train_test_split\n",
    "# reader = Reader(line_format='user item rating', sep=',', rating_scale=(0,5),skip_lines=1)\n",
    "# # The columns must correspond to user id, item id and ratings (in that order).\n",
    "# data = Dataset.load_from_file('ratings.csv', reader)"
   ]
  },
  {
   "cell_type": "code",
   "execution_count": 14,
   "id": "025b52e2",
   "metadata": {},
   "outputs": [],
   "source": [
    "reader = Reader(rating_scale=(0, 5))\n",
    "data = Dataset.load_from_df(rating_df[['userId', 'movieId', 'rating']], reader)\n",
    "trainset, testset = train_test_split(data, test_size=0.25)"
   ]
  },
  {
   "cell_type": "code",
   "execution_count": 15,
   "id": "24abab52",
   "metadata": {},
   "outputs": [],
   "source": [
    "# import csv\n",
    "# from surprise import Dataset,Reader\n",
    "# from surprise.model_selection import cross_validate\n",
    "#reader = Reader(line_format='user item rating', sep=',', rating_scale=(0,5),skip_lines=1)\n",
    "# The columns must correspond to user id, item id and ratings (in that order).\n",
    "#data1 = Dataset.load_from_file('ratings.csv', reader) \n",
    "fullTrainSet = data.build_full_trainset()"
   ]
  },
  {
   "cell_type": "markdown",
   "id": "1bfae8e9",
   "metadata": {},
   "source": [
    "# Define recommender metrics"
   ]
  },
  {
   "cell_type": "markdown",
   "id": "47cc7da1",
   "metadata": {},
   "source": [
    "### Rating Prediction"
   ]
  },
  {
   "cell_type": "code",
   "execution_count": 16,
   "id": "d6f0397a",
   "metadata": {},
   "outputs": [],
   "source": [
    "from surprise import accuracy\n",
    "from collections import defaultdict\n",
    "def MAE(predictions):\n",
    "    return accuracy.mae(predictions, verbose=False)\n",
    "def RMSE(predictions):\n",
    "    return accuracy.rmse(predictions, verbose=False)"
   ]
  },
  {
   "cell_type": "markdown",
   "id": "2140c21b",
   "metadata": {},
   "source": [
    "### Popular movies based on rating count"
   ]
  },
  {
   "cell_type": "code",
   "execution_count": 17,
   "id": "d4dbfee8",
   "metadata": {},
   "outputs": [],
   "source": [
    "\n",
    "from collections import defaultdict\n",
    "def getPopularityMoviesBasedOnRatingCount(top_n=None):\n",
    "    ratings = defaultdict(int)\n",
    "    rankings = defaultdict(int)\n",
    "    with open(rating_path, newline='') as csvfile:\n",
    "        ratingReader = csv.reader(csvfile)\n",
    "        next(ratingReader)\n",
    "        for row in ratingReader:\n",
    "            movieID = int(row[1])\n",
    "            #increse rating count for that movie\n",
    "            ratings[movieID] += 1\n",
    "    rank = 1\n",
    "    for movieID, ratingCount in sorted(ratings.items(), key=lambda x: x[1], reverse=True):\n",
    "        rankings[movieID] = rank\n",
    "        rank += 1\n",
    "    if top_n is None:\n",
    "        return rankings\n",
    "    else:\n",
    "        return sorted(rankings, key=rankings.get, reverse=False)[:top_n]\n",
    "    "
   ]
  },
  {
   "cell_type": "markdown",
   "id": "77cb6161",
   "metadata": {},
   "source": [
    "### Top N predictions"
   ]
  },
  {
   "cell_type": "code",
   "execution_count": 18,
   "id": "399106a8",
   "metadata": {},
   "outputs": [],
   "source": [
    "def Get_Top_Predictions(predictions, n=10, minimumRating=3.0):\n",
    "    topN = defaultdict(list)\n",
    "    for uid, mid, actualRating, estimatedRating, _ in predictions:\n",
    "        if (estimatedRating >= minimumRating):\n",
    "            topN[int(uid)].append((int(mid), estimatedRating))\n",
    "    for uid, ratings in topN.items():\n",
    "        ratings.sort(key=lambda x: x[1], reverse=True)\n",
    "        topN[int(uid)] = ratings[:n]\n",
    "    return topN"
   ]
  },
  {
   "cell_type": "code",
   "execution_count": 19,
   "id": "041f3162",
   "metadata": {},
   "outputs": [],
   "source": [
    "def Get_Top_Predictions_In_Actual_DataSet(predictions, n=10, minimumRating=4.0):\n",
    "    topN = defaultdict(list)\n",
    "    for uid, mid, actualRating in predictions:\n",
    "        if (actualRating >= minimumRating):\n",
    "            topN[int(uid)].append((int(mid), actualRating))\n",
    "    for uid, ratings in topN.items():\n",
    "        ratings.sort(key=lambda x: x[1], reverse=True)\n",
    "        topN[int(uid)] = ratings[:n]\n",
    "    return topN"
   ]
  },
  {
   "cell_type": "code",
   "execution_count": 20,
   "id": "eecd175a",
   "metadata": {},
   "outputs": [],
   "source": [
    "def Get_All_Predictions_In_Actual_DataSet(predictions ):\n",
    "    topN = defaultdict(list)\n",
    "    for uid, mid, actualRating in predictions:\n",
    "        topN[int(uid)].append((int(mid), actualRating))\n",
    "    for uid, ratings in topN.items():\n",
    "        ratings.sort(key=lambda x: x[1], reverse=True)\n",
    "        topN[int(uid)] = ratings\n",
    "    return topN"
   ]
  },
  {
   "cell_type": "markdown",
   "id": "f8a64bd0",
   "metadata": {},
   "source": [
    "### Mean Average Precision (MAP)"
   ]
  },
  {
   "cell_type": "code",
   "execution_count": 21,
   "id": "27e0e551",
   "metadata": {},
   "outputs": [],
   "source": [
    "def MAP_K(topNPredicted, topNPredictedOnActualDataSet):\n",
    "    totalhit_ratio=0;\n",
    "    totalcount=0\n",
    "    for userid in topNPredictedOnActualDataSet:\n",
    "        totalcount+=1\n",
    "        hit=0\n",
    "        total=0\n",
    "        predictions=[]\n",
    "        actual_predictions=[]\n",
    "        for book,_ in topNPredicted[int(userid)]:\n",
    "            predictions.append(book)\n",
    "        for book,_ in topNPredictedOnActualDataSet[int(userid)]:\n",
    "            actual_predictions.append(book)\n",
    "            \n",
    "        for i in predictions:\n",
    "            total+=1\n",
    "            if i in actual_predictions:\n",
    "                hit+=1\n",
    "        \n",
    "        if(total==0):\n",
    "            totalhit_ratio=0\n",
    "        else:\n",
    "            totalhit_ratio+=(hit/total)  \n",
    "       \n",
    "    return (totalhit_ratio/totalcount)"
   ]
  },
  {
   "cell_type": "markdown",
   "id": "a94c331a",
   "metadata": {},
   "source": [
    "###  See how often we recommended a movie the user actually rated"
   ]
  },
  {
   "cell_type": "code",
   "execution_count": 22,
   "id": "addd57ef",
   "metadata": {},
   "outputs": [],
   "source": [
    "def HitRate(topNPredicted, topNPredictedOnActualDataSet):\n",
    "    totalhit_ratio=0;\n",
    "    totalcount=0\n",
    "    hit=0\n",
    "    for userid in topNPredictedOnActualDataSet:\n",
    "        totalcount+=1\n",
    "       \n",
    "        \n",
    "        predictions=[]\n",
    "        actual_predictions=[]\n",
    "        for book,_ in topNPredicted[int(userid)]:\n",
    "            predictions.append(book)\n",
    "        for book,_ in topNPredictedOnActualDataSet[int(userid)]:\n",
    "            actual_predictions.append(book) \n",
    "        for i in predictions:\n",
    "            if i in actual_predictions:\n",
    "                hit+=1\n",
    "                break\n",
    "   \n",
    "    return (hit/totalcount)"
   ]
  },
  {
   "cell_type": "code",
   "execution_count": 23,
   "id": "11d20d05",
   "metadata": {},
   "outputs": [],
   "source": [
    "def hitRateLeaveOneOut(topNPredicted, leftOutPredictions):\n",
    "    hits = 0\n",
    "    total = 0\n",
    "    # For each left-out rating\n",
    "   \n",
    "    for leftOut in leftOutPredictions:\n",
    "     \n",
    "        userID = leftOut[0]\n",
    "        leftOutMovieID = leftOut[1]\n",
    "        # Is it in the predicted top 10 for this user?\n",
    "        hit = False\n",
    "        for movieID, predictedRating in topNPredicted[int(userID)]:\n",
    "            if (int(leftOutMovieID) == int(movieID)):\n",
    "                hit = True\n",
    "                break\n",
    "        if (hit) :\n",
    "            hits += 1\n",
    "        total += 1\n",
    "    # Compute overall precision\n",
    "    return hits/total\n"
   ]
  },
  {
   "cell_type": "markdown",
   "id": "10efd6a2",
   "metadata": {},
   "source": [
    "### How often we recommended a movie the user actually liked \n"
   ]
  },
  {
   "cell_type": "code",
   "execution_count": 24,
   "id": "032d5861",
   "metadata": {},
   "outputs": [],
   "source": [
    "def CumulativeHitRate(topNPredicted, leftOutPredictions, ratingCutoff=4.0):\n",
    "    hits = 0\n",
    "    total = 0\n",
    "    for userID, leftOutMovieID, actualRating, estimatedRating, _ in leftOutPredictions:\n",
    "        # Only look at ability to recommend things the users actually liked...\n",
    "        if (actualRating >= ratingCutoff):\n",
    "            # Is it in the predicted top 10 for this user?\n",
    "            hit = False\n",
    "            for movieID, predictedRating in topNPredicted[int(userID)]:\n",
    "                if (int(leftOutMovieID) == movieID):\n",
    "                    hit = True\n",
    "                    break\n",
    "            if (hit) :\n",
    "                hits += 1\n",
    "            total += 1\n",
    "    return hits/total"
   ]
  },
  {
   "cell_type": "markdown",
   "id": "221cf8f2",
   "metadata": {},
   "source": [
    "### UserCoverage - Percentage of users have at least one \"good\" recommendation"
   ]
  },
  {
   "cell_type": "code",
   "execution_count": 25,
   "id": "062a360e",
   "metadata": {},
   "outputs": [],
   "source": [
    "\n",
    "def UserCoverage(topNPredicted, numUsers, ratingThreshold=0):\n",
    "    hits = 0\n",
    "    for userID in topNPredicted.keys():\n",
    "        hit = 0\n",
    "        for mid, predictedRating in topNPredicted[userID]:\n",
    "            if (predictedRating >= ratingThreshold):\n",
    "                hit = 1\n",
    "                break\n",
    "        if (hit==1):\n",
    "            hits += 1\n",
    "    return hits / numUsers"
   ]
  },
  {
   "cell_type": "markdown",
   "id": "63565ad7",
   "metadata": {},
   "source": [
    "### Diversity is a measure of how your recommendations are different from each other."
   ]
  },
  {
   "cell_type": "code",
   "execution_count": 26,
   "id": "69bad126",
   "metadata": {},
   "outputs": [],
   "source": [
    "def Diversity(topNPredicted, simsAlgo):\n",
    "    n = 0\n",
    "    total = 0\n",
    "    simsMatrix = simsAlgo.compute_similarities()\n",
    "    for userID in topNPredicted.keys():\n",
    "        pairs = itertools.combinations(topNPredicted[userID], 2)\n",
    "        for pair in pairs:\n",
    "            movie1 = pair[0][0]\n",
    "            movie2 = pair[1][0]\n",
    "            innerID1 = simsAlgo.trainset.to_inner_iid(str(movie1))\n",
    "            innerID2 = simsAlgo.trainset.to_inner_iid(str(movie2))\n",
    "            similarity = simsMatrix[innerID1][innerID2]\n",
    "            total += similarity\n",
    "            n += 1\n",
    "    S = total / n\n",
    "    return (1-S)\n"
   ]
  },
  {
   "cell_type": "markdown",
   "id": "e049cbb4",
   "metadata": {},
   "source": [
    "### Novelty is a measure of how popular the items system recommending."
   ]
  },
  {
   "cell_type": "code",
   "execution_count": 27,
   "id": "23411565",
   "metadata": {},
   "outputs": [],
   "source": [
    "def Novelty(topNPredicted, rankings):\n",
    "    n = 0\n",
    "    total = 0\n",
    "    for uid in topNPredicted.keys():\n",
    "        for rating in topNPredicted[uid]:\n",
    "            mid = rating[0]\n",
    "            rank = rankings[mid]\n",
    "            total += rank\n",
    "            n += 1\n",
    "    return total / n"
   ]
  },
  {
   "cell_type": "code",
   "execution_count": 28,
   "id": "d15b58f1",
   "metadata": {},
   "outputs": [
    {
     "data": {
      "text/plain": [
       "['Forrest Gump (1994)',\n",
       " 'Shawshank Redemption, The (1994)',\n",
       " 'Pulp Fiction (1994)',\n",
       " 'Silence of the Lambs, The (1991)',\n",
       " 'Matrix, The (1999)',\n",
       " 'Star Wars: Episode IV - A New Hope (1977)',\n",
       " 'Jurassic Park (1993)',\n",
       " 'Braveheart (1995)',\n",
       " 'Terminator 2: Judgment Day (1991)',\n",
       " \"Schindler's List (1993)\"]"
      ]
     },
     "execution_count": 28,
     "metadata": {},
     "output_type": "execute_result"
    }
   ],
   "source": [
    "getMovieName(getPopularityMoviesBasedOnRatingCount(10))"
   ]
  },
  {
   "cell_type": "code",
   "execution_count": 29,
   "id": "07028ee2",
   "metadata": {},
   "outputs": [],
   "source": [
    "from surprise.model_selection import LeaveOneOut\n",
    "from surprise.model_selection.split import train_test_split\n",
    "import itertools\n",
    "\n",
    "  "
   ]
  },
  {
   "cell_type": "code",
   "execution_count": 30,
   "id": "2b5e2da3",
   "metadata": {},
   "outputs": [],
   "source": [
    "\n",
    "class Evaluate:\n",
    "    def __init__(self, algo):\n",
    "        self.algo = algo\n",
    "    def start(self, n=10, verbose=True):\n",
    "        before=datetime.now() \n",
    "        #trainSet, testSet = train_test_split(data, test_size=.25, random_state=1)\n",
    "        algo.fit(trainset)\n",
    "        after= datetime.now() \n",
    "        duration = after-before                         \n",
    "        duration = duration.total_seconds() \n",
    "        print('time taken '+str(duration)+'s')\n",
    "        predictions = algo.test(testset)\n",
    "        rmse= RMSE(predictions)\n",
    "        mae= MAE(predictions)\n",
    "        print(\"Computing RMSE \"+str(rmse))\n",
    "        print(\"Computing MAE \"+str(mae))\n",
    "        return duration,rmse,mae\n",
    "    \n",
    "   \n",
    "    def getModel(self):\n",
    "        return self.algo\n",
    "    def OtherMetrics(self):\n",
    "            \n",
    "            self.algo.fit(fullTrainSet)\n",
    "            bigTestSet = fullTrainSet.build_anti_testset()\n",
    "            all_pred = algo.test(bigTestSet)\n",
    "            topN= Get_Top_Predictions(all_pred, n=10)\n",
    "\n",
    "            \n",
    "            ranking=getPopularityMoviesBasedOnRatingCount()\n",
    "            # Print user coverage:\n",
    "            user_coverage= UserCoverage(topN, fullTrainSet.n_users, ratingThreshold=4.0)\n",
    "            print(\"\\nUser coverage: \",user_coverage)\n",
    "            # Measure novelty (average popularity rank of recommendations):\n",
    "            novelty=Novelty(topN, ranking)\n",
    "            print(\"\\nNovelty : \",novelty )\n",
    "            # Measure diversity of recommendations:\n",
    "\n",
    "            #diversity=Diversity(topN, simsAlgo)\n",
    "            #print(\"\\nDiversity: \", diversity)\n",
    "          \n",
    "            return novelty,user_coverage\n",
    "        \n",
    "   \n",
    "    def RecommendationMetricsOnwholeTestSet(self):\n",
    "        hit_rate=0\n",
    "        cumm_hit_rate=0\n",
    "        print(\"Computing recommendations with train and test dataset...\")\n",
    "        # Build predictions for all ratings  in the test set\n",
    "        print(\"Predict ratings...\")\n",
    "        allPredictions = algo.test(testset)\n",
    "     \n",
    "        # Compute top 10 recs for each user\n",
    "        print(\"Compute top 10 recs per user\")\n",
    "        topNPredicted = Get_Top_Predictions(allPredictions)\n",
    "        allPredictedOnActualDataSet = Get_All_Predictions_In_Actual_DataSet(testset)\n",
    "        topNPredictedOnActualDataSet =   Get_Top_Predictions_In_Actual_DataSet(testset)\n",
    "       \n",
    "      \n",
    "        #Calculate hit rate\n",
    "        \n",
    "        hit_rate=HitRate(topNPredicted, allPredictedOnActualDataSet)\n",
    "        print(\"\\nHit Rate: \",hit_rate )\n",
    "\n",
    "        map_k= MAP_K(topNPredicted, allPredictedOnActualDataSet)\n",
    "        print(\"\\nMAP@K: \",map_k )\n",
    "        \n",
    "        \n",
    "         #Calculate hit rate\n",
    "        \n",
    "        hit_rate=HitRate(topNPredicted, topNPredictedOnActualDataSet)\n",
    "        print(\"\\nHit Rate on top liked items: \",hit_rate )\n",
    "\n",
    "        map_k= MAP_K(topNPredicted, topNPredictedOnActualDataSet)\n",
    "        print(\"\\nMAP@K  on top liked items: \",map_k )\n",
    "        # See how often we recommended a movie the user actually liked\n",
    "        cumm_hit_rate=CumulativeHitRate(topNPredicted, allPredictions, 4.0)\n",
    "        print(\"\\ncHR (Cumulative Hit Rate, rating >= 4): \", cumm_hit_rate)\n",
    "          \n",
    "        return hit_rate,cumm_hit_rate,map_k\n",
    "    def RecommendationMetricsleaveOneOut(self):\n",
    "        loo = LeaveOneOut(n_splits=1, random_state=1)\n",
    "        hit_rate=0\n",
    "        cumm_hit_rate=0\n",
    "        for trainSet, testSet in loo.split(data):\n",
    "            print(\"Computing recommendations with leave-one-out...\")\n",
    "\n",
    "            # Train model without left-out ratings\n",
    "            self.algo.fit(trainSet)\n",
    "\n",
    "            # Predicts ratings for left-out ratings only\n",
    "            print(\"Predict ratings for left-out set...\")\n",
    "            leftOutPredictions = algo.test(testSet)\n",
    "\n",
    "            # Build predictions for all ratings not in the training set\n",
    "            print(\"Predict missing ratings...\")\n",
    "            bigTestSet = trainSet.build_anti_testset()\n",
    "            allPredictions = algo.test(bigTestSet)\n",
    "\n",
    "            # Compute top 10 recs for each user\n",
    "            print(\"Top 10 recommendations\")\n",
    "            topNPredicted = Get_Top_Predictions(allPredictions, n=10)\n",
    "\n",
    "            # See how often we recommended a movie the user actually rated\n",
    "            hit_rate=hitRateLeaveOneOut(topNPredicted, leftOutPredictions)\n",
    "            print(\"\\nHit Rate: \",hit_rate )\n",
    "\n",
    "            # See how often we recommended a movie the user actually liked\n",
    "            cumm_hit_rate=CumulativeHitRate(topNPredicted, leftOutPredictions, 4.0)\n",
    "            print(\"\\nCHR (Cumulative Hit Rate, rating >= 4): \", cumm_hit_rate)\n",
    "            \n",
    "            return hit_rate,cumm_hit_rate"
   ]
  },
  {
   "cell_type": "markdown",
   "id": "ee4f8999",
   "metadata": {},
   "source": [
    "# Matrix Factorisation algorithms"
   ]
  },
  {
   "cell_type": "markdown",
   "id": "2de13eed",
   "metadata": {},
   "source": [
    "### Apply SVD Algorithm"
   ]
  },
  {
   "cell_type": "code",
   "execution_count": 31,
   "id": "a7d18581",
   "metadata": {},
   "outputs": [
    {
     "name": "stdout",
     "output_type": "stream",
     "text": [
      "time taken 3.635857s\n",
      "Computing RMSE 0.5983511041508407\n",
      "Computing MAE 0.4875792597643754\n",
      "Computing recommendations with train and test dataset...\n",
      "Predict ratings...\n",
      "Compute top 10 recs per user\n",
      "\n",
      "Hit Rate:  1.0\n",
      "\n",
      "MAP@K:  1.0\n",
      "\n",
      "Hit Rate on top liked items:  0.9737609329446064\n",
      "\n",
      "MAP@K  on top liked items:  0.4158487204405571\n",
      "\n",
      "cHR (Cumulative Hit Rate, rating >= 4):  0.23484708063021317\n",
      "Computing recommendations with leave-one-out...\n",
      "Predict ratings for left-out set...\n",
      "Predict missing ratings...\n",
      "Top 10 recommendations\n",
      "\n",
      "Hit Rate:  0.02040816326530612\n",
      "\n",
      "CHR (Cumulative Hit Rate, rating >= 4):  0.023148148148148147\n",
      "\n",
      "User coverage:  0.9883381924198251\n",
      "\n",
      "Novelty :  613.9962099125364\n"
     ]
    }
   ],
   "source": [
    "\n",
    "from surprise import SVD\n",
    "from datetime import datetime\n",
    "algo = SVD()\n",
    "evaluate=Evaluate(algo)\n",
    "svd_duration,svd_rmse,svd_mae=evaluate.start()\n",
    "svd_hit_rate,svd_cumm_hit_rate,svd_map_k=evaluate.RecommendationMetricsOnwholeTestSet()\n",
    "svd_hit_rate_loo,svd_cumm_hit_rate_loo=evaluate.RecommendationMetricsleaveOneOut()\n",
    "svd_novelty,svd_user_coverage=evaluate.OtherMetrics()\n",
    "algosvd=evaluate.getModel()"
   ]
  },
  {
   "cell_type": "markdown",
   "id": "0688493a",
   "metadata": {},
   "source": [
    "### Apply SVD++ Algorithm"
   ]
  },
  {
   "cell_type": "code",
   "execution_count": 32,
   "id": "a32b3137",
   "metadata": {},
   "outputs": [
    {
     "name": "stdout",
     "output_type": "stream",
     "text": [
      "time taken 3.021237s\n",
      "Computing RMSE 0.5972057618181369\n",
      "Computing MAE 0.48697796690541917\n",
      "Computing recommendations with train and test dataset...\n",
      "Predict ratings...\n",
      "Compute top 10 recs per user\n",
      "\n",
      "Hit Rate:  1.0\n",
      "\n",
      "MAP@K:  1.0\n",
      "\n",
      "Hit Rate on top liked items:  0.9766763848396501\n",
      "\n",
      "MAP@K  on top liked items:  0.4199303530936186\n",
      "\n",
      "cHR (Cumulative Hit Rate, rating >= 4):  0.23642261353104727\n",
      "Computing recommendations with leave-one-out...\n",
      "Predict ratings for left-out set...\n",
      "Predict missing ratings...\n",
      "Top 10 recommendations\n",
      "\n",
      "Hit Rate:  0.037900874635568516\n",
      "\n",
      "CHR (Cumulative Hit Rate, rating >= 4):  0.05555555555555555\n",
      "\n",
      "User coverage:  0.9854227405247813\n",
      "\n",
      "Novelty :  533.5029154518951\n"
     ]
    }
   ],
   "source": [
    "\n",
    "from surprise import SVDpp\n",
    "from datetime import datetime\n",
    "algosvdpp = SVDpp()\n",
    "evaluate=Evaluate(algosvdpp)\n",
    "svdpp_duration,svdpp_rmse,svdpp_mae=evaluate.start()\n",
    "svdpp_hit_rate,svdpp_cumm_hit_rate,svdpp_map_k=evaluate.RecommendationMetricsOnwholeTestSet()\n",
    "svdpp_hit_rate_loo,svdpp_cumm_hit_rate_loo=evaluate.RecommendationMetricsleaveOneOut()\n",
    "svdpp_novelty,svdpp_user_coverage=evaluate.OtherMetrics()\n"
   ]
  },
  {
   "cell_type": "code",
   "execution_count": 33,
   "id": "d79e242f",
   "metadata": {},
   "outputs": [],
   "source": [
    "algosvdpp=evaluate.getModel()"
   ]
  },
  {
   "cell_type": "markdown",
   "id": "f9617187",
   "metadata": {},
   "source": [
    "### Apply  Non-negative Matrix Factorization(NMF)"
   ]
  },
  {
   "cell_type": "code",
   "execution_count": 34,
   "id": "24b2d522",
   "metadata": {},
   "outputs": [
    {
     "name": "stdout",
     "output_type": "stream",
     "text": [
      "time taken 4.910988s\n",
      "Computing RMSE 0.5960153749793244\n",
      "Computing MAE 0.4858981915945797\n",
      "Computing recommendations with train and test dataset...\n",
      "Predict ratings...\n",
      "Compute top 10 recs per user\n",
      "\n",
      "Hit Rate:  1.0\n",
      "\n",
      "MAP@K:  1.0\n",
      "\n",
      "Hit Rate on top liked items:  0.9708454810495627\n",
      "\n",
      "MAP@K  on top liked items:  0.41497408487204407\n",
      "\n",
      "cHR (Cumulative Hit Rate, rating >= 4):  0.2355885078776645\n",
      "Computing recommendations with leave-one-out...\n",
      "Predict ratings for left-out set...\n",
      "Predict missing ratings...\n",
      "Top 10 recommendations\n",
      "\n",
      "Hit Rate:  0.03498542274052478\n",
      "\n",
      "CHR (Cumulative Hit Rate, rating >= 4):  0.046296296296296294\n",
      "\n",
      "User coverage:  0.9912536443148688\n",
      "\n",
      "Novelty :  487.3816326530612\n"
     ]
    }
   ],
   "source": [
    "\n",
    "from surprise import NMF\n",
    "from datetime import datetime\n",
    "algoNMF = NMF()\n",
    "evaluate=Evaluate(algoNMF)\n",
    "NMF_duration,NMF_rmse,NMF_mae=evaluate.start()\n",
    "NMF_hit_rate,NMF_cumm_hit_rate,NMF_map_k=evaluate.RecommendationMetricsOnwholeTestSet()\n",
    "NMF_hit_rate_loo,NMF_cumm_hit_rate_loo=evaluate.RecommendationMetricsleaveOneOut()\n",
    "NMF_novelty,NMF_user_coverage=evaluate.OtherMetrics()\n",
    "algoNMF=evaluate.getModel()"
   ]
  },
  {
   "cell_type": "markdown",
   "id": "ea7f57ba",
   "metadata": {},
   "source": [
    "### Compare different algorithm"
   ]
  },
  {
   "cell_type": "code",
   "execution_count": 35,
   "id": "f6cd02bb",
   "metadata": {},
   "outputs": [
    {
     "data": {
      "text/html": [
       "<div>\n",
       "<style scoped>\n",
       "    .dataframe tbody tr th:only-of-type {\n",
       "        vertical-align: middle;\n",
       "    }\n",
       "\n",
       "    .dataframe tbody tr th {\n",
       "        vertical-align: top;\n",
       "    }\n",
       "\n",
       "    .dataframe thead th {\n",
       "        text-align: right;\n",
       "    }\n",
       "</style>\n",
       "<table border=\"1\" class=\"dataframe\">\n",
       "  <thead>\n",
       "    <tr style=\"text-align: right;\">\n",
       "      <th></th>\n",
       "      <th>Algorithm</th>\n",
       "      <th>Duration(second)</th>\n",
       "      <th>MAE</th>\n",
       "      <th>RMSE</th>\n",
       "      <th>Hit Rate</th>\n",
       "      <th>MAP@K</th>\n",
       "      <th>Cumulative Hit Rate</th>\n",
       "      <th>Hit Rate(Leave One Out)</th>\n",
       "      <th>Cumulative Hit Rate(Leave One Out)</th>\n",
       "      <th>User Coverage</th>\n",
       "      <th>Novelty</th>\n",
       "    </tr>\n",
       "  </thead>\n",
       "  <tbody>\n",
       "    <tr>\n",
       "      <th>0</th>\n",
       "      <td>SVD</td>\n",
       "      <td>3.635857</td>\n",
       "      <td>0.487579</td>\n",
       "      <td>0.598351</td>\n",
       "      <td>0.973761</td>\n",
       "      <td>0.415849</td>\n",
       "      <td>0.234847</td>\n",
       "      <td>0.020408</td>\n",
       "      <td>0.023148</td>\n",
       "      <td>0.988338</td>\n",
       "      <td>613.996210</td>\n",
       "    </tr>\n",
       "    <tr>\n",
       "      <th>1</th>\n",
       "      <td>SVD</td>\n",
       "      <td>3.021237</td>\n",
       "      <td>0.486978</td>\n",
       "      <td>0.598351</td>\n",
       "      <td>0.976676</td>\n",
       "      <td>0.419930</td>\n",
       "      <td>0.236423</td>\n",
       "      <td>0.037901</td>\n",
       "      <td>0.055556</td>\n",
       "      <td>0.985423</td>\n",
       "      <td>533.502915</td>\n",
       "    </tr>\n",
       "    <tr>\n",
       "      <th>2</th>\n",
       "      <td>NMF</td>\n",
       "      <td>4.910988</td>\n",
       "      <td>0.485898</td>\n",
       "      <td>0.596015</td>\n",
       "      <td>0.970845</td>\n",
       "      <td>0.414974</td>\n",
       "      <td>0.235589</td>\n",
       "      <td>0.034985</td>\n",
       "      <td>0.046296</td>\n",
       "      <td>0.991254</td>\n",
       "      <td>487.381633</td>\n",
       "    </tr>\n",
       "  </tbody>\n",
       "</table>\n",
       "</div>"
      ],
      "text/plain": [
       "  Algorithm  Duration(second)       MAE      RMSE  Hit Rate     MAP@K  \\\n",
       "0       SVD          3.635857  0.487579  0.598351  0.973761  0.415849   \n",
       "1       SVD          3.021237  0.486978  0.598351  0.976676  0.419930   \n",
       "2       NMF          4.910988  0.485898  0.596015  0.970845  0.414974   \n",
       "\n",
       "   Cumulative Hit Rate  Hit Rate(Leave One Out)  \\\n",
       "0             0.234847                 0.020408   \n",
       "1             0.236423                 0.037901   \n",
       "2             0.235589                 0.034985   \n",
       "\n",
       "   Cumulative Hit Rate(Leave One Out)  User Coverage     Novelty  \n",
       "0                            0.023148       0.988338  613.996210  \n",
       "1                            0.055556       0.985423  533.502915  \n",
       "2                            0.046296       0.991254  487.381633  "
      ]
     },
     "execution_count": 35,
     "metadata": {},
     "output_type": "execute_result"
    }
   ],
   "source": [
    "data = [['SVD', svd_duration,svd_mae,svd_rmse,svd_hit_rate,svd_map_k,svd_cumm_hit_rate,svd_hit_rate_loo,svd_cumm_hit_rate_loo,svd_user_coverage,svd_novelty],\\\n",
    "        ['SVD', svdpp_duration,svdpp_mae,svd_rmse,svdpp_hit_rate,svdpp_map_k,svdpp_cumm_hit_rate,svdpp_hit_rate_loo,svdpp_cumm_hit_rate_loo,svdpp_user_coverage,svdpp_novelty],\\\n",
    "       ['NMF', NMF_duration,NMF_mae,NMF_rmse,NMF_hit_rate,NMF_map_k,NMF_cumm_hit_rate,NMF_hit_rate_loo,NMF_cumm_hit_rate_loo,NMF_user_coverage,NMF_novelty]]\n",
    "compare_df = pd.DataFrame(data, columns=['Algorithm', 'Duration(second)','MAE','RMSE','Hit Rate','MAP@K','Cumulative Hit Rate','Hit Rate(Leave One Out)','Cumulative Hit Rate(Leave One Out)','User Coverage','Novelty'])\n",
    "compare_df"
   ]
  },
  {
   "cell_type": "markdown",
   "id": "67377d5a",
   "metadata": {},
   "source": [
    "# Neighbourhood based method"
   ]
  },
  {
   "cell_type": "markdown",
   "id": "5add707b",
   "metadata": {},
   "source": [
    "### User-Based recommendation"
   ]
  },
  {
   "cell_type": "code",
   "execution_count": 36,
   "id": "c0f2eab9",
   "metadata": {},
   "outputs": [
    {
     "name": "stdout",
     "output_type": "stream",
     "text": [
      "\n",
      "Computing item similarities ...\n",
      "Computing the cosine similarity matrix...\n",
      "Done computing similarity matrix.\n"
     ]
    },
    {
     "data": {
      "text/plain": [
       "<surprise.prediction_algorithms.knns.KNNBasic at 0x256e3686f98>"
      ]
     },
     "execution_count": 36,
     "metadata": {},
     "output_type": "execute_result"
    }
   ],
   "source": [
    "from surprise import KNNBasic\n",
    "print(\"\\nComputing item similarities ...\")\n",
    "options = {'name': 'cosine', 'user_based': True}\n",
    "simsAlgo = KNNBasic(sim_options=options)\n",
    "simsAlgo.fit(fullTrainSet)"
   ]
  },
  {
   "cell_type": "code",
   "execution_count": 37,
   "id": "397c6b4c",
   "metadata": {},
   "outputs": [
    {
     "name": "stdout",
     "output_type": "stream",
     "text": [
      "Computing the cosine similarity matrix...\n",
      "Done computing similarity matrix.\n"
     ]
    }
   ],
   "source": [
    "simsMatrix = simsAlgo.compute_similarities()"
   ]
  },
  {
   "cell_type": "markdown",
   "id": "040b9ff9",
   "metadata": {},
   "source": [
    "### Make predictions"
   ]
  },
  {
   "cell_type": "code",
   "execution_count": 38,
   "id": "27dbec66",
   "metadata": {},
   "outputs": [
    {
     "data": {
      "text/html": [
       "<div>\n",
       "<style scoped>\n",
       "    .dataframe tbody tr th:only-of-type {\n",
       "        vertical-align: middle;\n",
       "    }\n",
       "\n",
       "    .dataframe tbody tr th {\n",
       "        vertical-align: top;\n",
       "    }\n",
       "\n",
       "    .dataframe thead th {\n",
       "        text-align: right;\n",
       "    }\n",
       "</style>\n",
       "<table border=\"1\" class=\"dataframe\">\n",
       "  <thead>\n",
       "    <tr style=\"text-align: right;\">\n",
       "      <th></th>\n",
       "      <th>userId</th>\n",
       "      <th>movieId</th>\n",
       "      <th>rating</th>\n",
       "      <th>title</th>\n",
       "      <th>genres</th>\n",
       "    </tr>\n",
       "  </thead>\n",
       "  <tbody>\n",
       "    <tr>\n",
       "      <th>0</th>\n",
       "      <td>17</td>\n",
       "      <td>1196</td>\n",
       "      <td>5.0</td>\n",
       "      <td>Star Wars: Episode V - The Empire Strikes Back...</td>\n",
       "      <td>Action|Adventure|Sci-Fi</td>\n",
       "    </tr>\n",
       "    <tr>\n",
       "      <th>1</th>\n",
       "      <td>17</td>\n",
       "      <td>296</td>\n",
       "      <td>5.0</td>\n",
       "      <td>Pulp Fiction (1994)</td>\n",
       "      <td>Comedy|Crime|Drama|Thriller</td>\n",
       "    </tr>\n",
       "    <tr>\n",
       "      <th>2</th>\n",
       "      <td>17</td>\n",
       "      <td>5952</td>\n",
       "      <td>5.0</td>\n",
       "      <td>Lord of the Rings: The Two Towers, The (2002)</td>\n",
       "      <td>Adventure|Fantasy</td>\n",
       "    </tr>\n",
       "    <tr>\n",
       "      <th>3</th>\n",
       "      <td>17</td>\n",
       "      <td>5618</td>\n",
       "      <td>5.0</td>\n",
       "      <td>Spirited Away (Sen to Chihiro no kamikakushi) ...</td>\n",
       "      <td>Adventure|Animation|Fantasy</td>\n",
       "    </tr>\n",
       "    <tr>\n",
       "      <th>4</th>\n",
       "      <td>17</td>\n",
       "      <td>7099</td>\n",
       "      <td>5.0</td>\n",
       "      <td>Nausicaä of the Valley of the Wind (Kaze no ta...</td>\n",
       "      <td>Adventure|Animation|Drama|Fantasy|Sci-Fi</td>\n",
       "    </tr>\n",
       "    <tr>\n",
       "      <th>5</th>\n",
       "      <td>17</td>\n",
       "      <td>1732</td>\n",
       "      <td>5.0</td>\n",
       "      <td>Big Lebowski, The (1998)</td>\n",
       "      <td>Comedy|Crime</td>\n",
       "    </tr>\n",
       "    <tr>\n",
       "      <th>6</th>\n",
       "      <td>17</td>\n",
       "      <td>356</td>\n",
       "      <td>5.0</td>\n",
       "      <td>Forrest Gump (1994)</td>\n",
       "      <td>Comedy|Drama|Romance|War</td>\n",
       "    </tr>\n",
       "    <tr>\n",
       "      <th>7</th>\n",
       "      <td>17</td>\n",
       "      <td>858</td>\n",
       "      <td>5.0</td>\n",
       "      <td>Godfather, The (1972)</td>\n",
       "      <td>Crime|Drama</td>\n",
       "    </tr>\n",
       "    <tr>\n",
       "      <th>8</th>\n",
       "      <td>17</td>\n",
       "      <td>318</td>\n",
       "      <td>5.0</td>\n",
       "      <td>Shawshank Redemption, The (1994)</td>\n",
       "      <td>Crime|Drama</td>\n",
       "    </tr>\n",
       "    <tr>\n",
       "      <th>9</th>\n",
       "      <td>17</td>\n",
       "      <td>260</td>\n",
       "      <td>5.0</td>\n",
       "      <td>Star Wars: Episode IV - A New Hope (1977)</td>\n",
       "      <td>Action|Adventure|Sci-Fi</td>\n",
       "    </tr>\n",
       "  </tbody>\n",
       "</table>\n",
       "</div>"
      ],
      "text/plain": [
       "   userId  movieId  rating                                              title  \\\n",
       "0      17     1196     5.0  Star Wars: Episode V - The Empire Strikes Back...   \n",
       "1      17      296     5.0                                Pulp Fiction (1994)   \n",
       "2      17     5952     5.0      Lord of the Rings: The Two Towers, The (2002)   \n",
       "3      17     5618     5.0  Spirited Away (Sen to Chihiro no kamikakushi) ...   \n",
       "4      17     7099     5.0  Nausicaä of the Valley of the Wind (Kaze no ta...   \n",
       "5      17     1732     5.0                           Big Lebowski, The (1998)   \n",
       "6      17      356     5.0                                Forrest Gump (1994)   \n",
       "7      17      858     5.0                              Godfather, The (1972)   \n",
       "8      17      318     5.0                   Shawshank Redemption, The (1994)   \n",
       "9      17      260     5.0          Star Wars: Episode IV - A New Hope (1977)   \n",
       "\n",
       "                                     genres  \n",
       "0                   Action|Adventure|Sci-Fi  \n",
       "1               Comedy|Crime|Drama|Thriller  \n",
       "2                         Adventure|Fantasy  \n",
       "3               Adventure|Animation|Fantasy  \n",
       "4  Adventure|Animation|Drama|Fantasy|Sci-Fi  \n",
       "5                              Comedy|Crime  \n",
       "6                  Comedy|Drama|Romance|War  \n",
       "7                               Crime|Drama  \n",
       "8                               Crime|Drama  \n",
       "9                   Action|Adventure|Sci-Fi  "
      ]
     },
     "execution_count": 38,
     "metadata": {},
     "output_type": "execute_result"
    }
   ],
   "source": [
    "testuser=17\n",
    "pred=rating_df[rating_df.userId==testuser].sort_values(by=['rating'], ascending=False).head(10)\n",
    "pred=pd.merge(pred,movie_df, on='movieId', how='left')\n",
    "pred"
   ]
  },
  {
   "cell_type": "markdown",
   "id": "163e8852",
   "metadata": {},
   "source": [
    "#### Find similar users using similarity score"
   ]
  },
  {
   "cell_type": "code",
   "execution_count": 39,
   "id": "844abe74",
   "metadata": {},
   "outputs": [],
   "source": [
    "test_inner_UID = fullTrainSet.to_inner_uid(testuser)\n",
    "row = simsMatrix[test_inner_UID]"
   ]
  },
  {
   "cell_type": "code",
   "execution_count": 40,
   "id": "c0360795",
   "metadata": {},
   "outputs": [],
   "source": [
    "import heapq\n",
    "k = 10\n",
    "similarUsers = []\n",
    "for innerID, score in enumerate(row):\n",
    "    if (innerID != test_inner_UID):\n",
    "        similarUsers.append( (innerID, score) )\n",
    "\n"
   ]
  },
  {
   "cell_type": "code",
   "execution_count": 41,
   "id": "ef166d74",
   "metadata": {},
   "outputs": [],
   "source": [
    "kNeighbors = heapq.nlargest(k, similarUsers, key=lambda t: t[1])\n",
    "\n",
    "candidates = defaultdict(float)\n",
    "for similarUser in kNeighbors:\n",
    "    innerID = similarUser[0]\n",
    "    userSimilarityScore = similarUser[1]\n",
    "    ratings = fullTrainSet.ur[innerID]\n",
    "    for rating in ratings:\n",
    "        candidates[rating[0]] += (rating[1] / 5.0) * userSimilarityScore"
   ]
  },
  {
   "cell_type": "markdown",
   "id": "f537e5e2",
   "metadata": {},
   "source": [
    "#### List of movies user already watched"
   ]
  },
  {
   "cell_type": "code",
   "execution_count": 43,
   "id": "d2c7b9fb",
   "metadata": {},
   "outputs": [],
   "source": [
    "already_watched = {}\n",
    "for itemID, rating in fullTrainSet.ur[test_inner_UID]:\n",
    "    already_watched[itemID] = 1"
   ]
  },
  {
   "cell_type": "markdown",
   "id": "69a96b52",
   "metadata": {},
   "source": [
    "#### Get top-rated items from similar users"
   ]
  },
  {
   "cell_type": "code",
   "execution_count": 44,
   "id": "4cb3a209",
   "metadata": {},
   "outputs": [],
   "source": [
    "from operator import itemgetter\n",
    "pos = 0\n",
    "Recommended=[]\n",
    "for itemID, ratingSum in sorted(candidates.items(), key=itemgetter(1), reverse=True):\n",
    "    # we want to recommend movies that user not watched\n",
    "    if not itemID in already_watched:\n",
    "        movieID = fullTrainSet.to_raw_iid(itemID)\n",
    "        #print(getMovie(int(movieID)), ratingSum)\n",
    "        Recommended.append(getMovie(int(movieID)))\n",
    "        pos += 1\n",
    "        if (pos > 10):\n",
    "            break"
   ]
  },
  {
   "cell_type": "code",
   "execution_count": 45,
   "id": "052e4ee3",
   "metadata": {},
   "outputs": [
    {
     "data": {
      "text/html": [
       "<div>\n",
       "<style scoped>\n",
       "    .dataframe tbody tr th:only-of-type {\n",
       "        vertical-align: middle;\n",
       "    }\n",
       "\n",
       "    .dataframe tbody tr th {\n",
       "        vertical-align: top;\n",
       "    }\n",
       "\n",
       "    .dataframe thead th {\n",
       "        text-align: right;\n",
       "    }\n",
       "</style>\n",
       "<table border=\"1\" class=\"dataframe\">\n",
       "  <thead>\n",
       "    <tr style=\"text-align: right;\">\n",
       "      <th></th>\n",
       "      <th>movieId</th>\n",
       "      <th>title</th>\n",
       "      <th>genres</th>\n",
       "    </tr>\n",
       "  </thead>\n",
       "  <tbody>\n",
       "    <tr>\n",
       "      <th>2674</th>\n",
       "      <td>3578</td>\n",
       "      <td>Gladiator (2000)</td>\n",
       "      <td>Action|Adventure|Drama</td>\n",
       "    </tr>\n",
       "    <tr>\n",
       "      <th>3562</th>\n",
       "      <td>4878</td>\n",
       "      <td>Donnie Darko (2001)</td>\n",
       "      <td>Drama|Mystery|Sci-Fi|Thriller</td>\n",
       "    </tr>\n",
       "    <tr>\n",
       "      <th>3854</th>\n",
       "      <td>5418</td>\n",
       "      <td>Bourne Identity, The (2002)</td>\n",
       "      <td>Action|Mystery|Thriller</td>\n",
       "    </tr>\n",
       "    <tr>\n",
       "      <th>6242</th>\n",
       "      <td>46578</td>\n",
       "      <td>Little Miss Sunshine (2006)</td>\n",
       "      <td>Adventure|Comedy|Drama</td>\n",
       "    </tr>\n",
       "    <tr>\n",
       "      <th>6330</th>\n",
       "      <td>48774</td>\n",
       "      <td>Children of Men (2006)</td>\n",
       "      <td>Action|Adventure|Drama|Sci-Fi|Thriller</td>\n",
       "    </tr>\n",
       "    <tr>\n",
       "      <th>6346</th>\n",
       "      <td>49272</td>\n",
       "      <td>Casino Royale (2006)</td>\n",
       "      <td>Action|Adventure|Thriller</td>\n",
       "    </tr>\n",
       "    <tr>\n",
       "      <th>6534</th>\n",
       "      <td>54286</td>\n",
       "      <td>Bourne Ultimatum, The (2007)</td>\n",
       "      <td>Action|Crime|Thriller</td>\n",
       "    </tr>\n",
       "    <tr>\n",
       "      <th>7693</th>\n",
       "      <td>89745</td>\n",
       "      <td>Avengers, The (2012)</td>\n",
       "      <td>Action|Adventure|Sci-Fi|IMAX</td>\n",
       "    </tr>\n",
       "    <tr>\n",
       "      <th>7768</th>\n",
       "      <td>91529</td>\n",
       "      <td>Dark Knight Rises, The (2012)</td>\n",
       "      <td>Action|Adventure|Crime|IMAX</td>\n",
       "    </tr>\n",
       "    <tr>\n",
       "      <th>8636</th>\n",
       "      <td>119145</td>\n",
       "      <td>Kingsman: The Secret Service (2015)</td>\n",
       "      <td>Action|Adventure|Comedy|Crime</td>\n",
       "    </tr>\n",
       "  </tbody>\n",
       "</table>\n",
       "</div>"
      ],
      "text/plain": [
       "      movieId                                title  \\\n",
       "2674     3578                     Gladiator (2000)   \n",
       "3562     4878                  Donnie Darko (2001)   \n",
       "3854     5418          Bourne Identity, The (2002)   \n",
       "6242    46578          Little Miss Sunshine (2006)   \n",
       "6330    48774               Children of Men (2006)   \n",
       "6346    49272                 Casino Royale (2006)   \n",
       "6534    54286         Bourne Ultimatum, The (2007)   \n",
       "7693    89745                 Avengers, The (2012)   \n",
       "7768    91529        Dark Knight Rises, The (2012)   \n",
       "8636   119145  Kingsman: The Secret Service (2015)   \n",
       "\n",
       "                                      genres  \n",
       "2674                  Action|Adventure|Drama  \n",
       "3562           Drama|Mystery|Sci-Fi|Thriller  \n",
       "3854                 Action|Mystery|Thriller  \n",
       "6242                  Adventure|Comedy|Drama  \n",
       "6330  Action|Adventure|Drama|Sci-Fi|Thriller  \n",
       "6346               Action|Adventure|Thriller  \n",
       "6534                   Action|Crime|Thriller  \n",
       "7693            Action|Adventure|Sci-Fi|IMAX  \n",
       "7768             Action|Adventure|Crime|IMAX  \n",
       "8636           Action|Adventure|Comedy|Crime  "
      ]
     },
     "execution_count": 45,
     "metadata": {},
     "output_type": "execute_result"
    }
   ],
   "source": [
    "movie_df[movie_df['title'].isin(Recommended)]"
   ]
  },
  {
   "cell_type": "code",
   "execution_count": 46,
   "id": "859e9d2e",
   "metadata": {},
   "outputs": [],
   "source": [
    "def getdataForAllUsers(n=10, verbose=True):\n",
    "        print(\"\\nComputing  similarities ...\")\n",
    "        options = {'name': 'cosine', 'user_based': True}\n",
    "        \n",
    "        simsAlgo = KNNBasic(sim_options=options)\n",
    "        simsAlgo.fit(trainset)\n",
    "        simsMatrix = simsAlgo.compute_similarities()\n",
    "        \n",
    "        topN = defaultdict(list)\n",
    "        \n",
    "        hit_rate=0\n",
    "        cumm_hit_rate=0\n",
    "        k = 10\n",
    "        \n",
    "        for uid in range(trainset.n_users):\n",
    "            # Get top N similar users to this one\n",
    "            similarityRow = simsMatrix[uid]\n",
    "            \n",
    "            similarUsers = []\n",
    "            for innerID, score in enumerate(similarityRow):\n",
    "                if (innerID != uid):\n",
    "                    similarUsers.append( (innerID, score) )\n",
    "            \n",
    "            kNeighbors = heapq.nlargest(k, similarUsers, key=lambda t: t[1])\n",
    "            \n",
    "            # Get the stuff they rated, and add up ratings for each item, weighted by user similarity\n",
    "            candidates = defaultdict(float)\n",
    "            for similarUser in kNeighbors:\n",
    "                innerID = similarUser[0]\n",
    "                userSimilarityScore = similarUser[1]\n",
    "                theirRatings = trainset.ur[innerID]\n",
    "                for rating in theirRatings:\n",
    "                    candidates[rating[0]] += (rating[1] / 5.0) * userSimilarityScore\n",
    "                \n",
    "            # Build a dictionary of stuff the user has already seen\n",
    "            watched = {}\n",
    "            for itemID, rating in trainset.ur[uid]:\n",
    "                watched[itemID] = 1\n",
    "                \n",
    "            # Get top-rated items from similar users:\n",
    "            pos = 0\n",
    "            for itemID, ratingSum in sorted(candidates.items(), key=itemgetter(1), reverse=True):\n",
    "                if not itemID in watched:\n",
    "                    movieID = trainset.to_raw_iid(itemID)\n",
    "                    topN[int(trainset.to_raw_uid(uid))].append( (int(movieID), 0.0) )\n",
    "                    pos += 1\n",
    "                    if (pos > n):\n",
    "                        break\n",
    "                        \n",
    "        return topN"
   ]
  },
  {
   "cell_type": "code",
   "execution_count": 47,
   "id": "c88afbfb",
   "metadata": {},
   "outputs": [
    {
     "name": "stdout",
     "output_type": "stream",
     "text": [
      "\n",
      "Computing  similarities ...\n",
      "Computing the cosine similarity matrix...\n",
      "Done computing similarity matrix.\n",
      "Computing the cosine similarity matrix...\n",
      "Done computing similarity matrix.\n"
     ]
    }
   ],
   "source": [
    "topN=getdataForAllUsers()"
   ]
  },
  {
   "cell_type": "code",
   "execution_count": 48,
   "id": "24555e33",
   "metadata": {},
   "outputs": [],
   "source": [
    "topNPredictedOnActualDataSet = Get_All_Predictions_In_Actual_DataSet(testset)\n"
   ]
  },
  {
   "cell_type": "code",
   "execution_count": 49,
   "id": "8acc31c7",
   "metadata": {},
   "outputs": [
    {
     "data": {
      "text/plain": [
       "0.4868804664723032"
      ]
     },
     "execution_count": 49,
     "metadata": {},
     "output_type": "execute_result"
    }
   ],
   "source": [
    "hit_rate_knn=HitRate(topN,topNPredictedOnActualDataSet)\n",
    "hit_rate_knn"
   ]
  },
  {
   "cell_type": "code",
   "execution_count": 50,
   "id": "ed619715",
   "metadata": {},
   "outputs": [
    {
     "data": {
      "text/plain": [
       "0.09249933739729654"
      ]
     },
     "execution_count": 50,
     "metadata": {},
     "output_type": "execute_result"
    }
   ],
   "source": [
    "map_k_knn=MAP_K(topN,topNPredictedOnActualDataSet)\n",
    "map_k_knn"
   ]
  },
  {
   "cell_type": "code",
   "execution_count": null,
   "id": "52705f47",
   "metadata": {},
   "outputs": [],
   "source": []
  },
  {
   "cell_type": "code",
   "execution_count": null,
   "id": "0a498ee0",
   "metadata": {},
   "outputs": [],
   "source": []
  }
 ],
 "metadata": {
  "accelerator": "GPU",
  "colab": {
   "collapsed_sections": [],
   "name": "movielens_Graph_embeding.ipynb",
   "provenance": []
  },
  "gpuClass": "standard",
  "kernelspec": {
   "display_name": "Python 3",
   "language": "python",
   "name": "python3"
  },
  "language_info": {
   "codemirror_mode": {
    "name": "ipython",
    "version": 3
   },
   "file_extension": ".py",
   "mimetype": "text/x-python",
   "name": "python",
   "nbconvert_exporter": "python",
   "pygments_lexer": "ipython3",
   "version": "3.6.5"
  }
 },
 "nbformat": 4,
 "nbformat_minor": 5
}

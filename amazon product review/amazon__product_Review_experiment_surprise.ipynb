{
  "cells": [
    {
      "cell_type": "code",
      "execution_count": 7,
      "id": "fb6c7f00",
      "metadata": {
        "id": "fb6c7f00"
      },
      "outputs": [],
      "source": [
        "from datetime import datetime\n",
        "import os\n",
        "import matplotlib\n",
        "import pandas as pd\n",
        "import numpy as np\n",
        "import matplotlib.pyplot as plt\n",
        "import seaborn as sns\n",
        "sns.set_style('whitegrid')\n",
        "\n",
        "from scipy import sparse\n",
        "from scipy.sparse import csc_matrix\n",
        "from sklearn.decomposition import TruncatedSVD\n",
        "\n",
        "np.random.seed(0)"
      ]
    },
    {
      "cell_type": "code",
      "source": [
        "!pip install surprise\n",
        "!pip install gdown\n"
      ],
      "metadata": {
        "colab": {
          "base_uri": "https://localhost:8080/"
        },
        "id": "W75usF4hVoUL",
        "outputId": "443c8915-87ee-4e23-d361-2f24d119601c"
      },
      "id": "W75usF4hVoUL",
      "execution_count": 8,
      "outputs": [
        {
          "output_type": "stream",
          "name": "stdout",
          "text": [
            "Looking in indexes: https://pypi.org/simple, https://us-python.pkg.dev/colab-wheels/public/simple/\n",
            "Requirement already satisfied: surprise in /usr/local/lib/python3.7/dist-packages (0.1)\n",
            "Requirement already satisfied: scikit-surprise in /usr/local/lib/python3.7/dist-packages (from surprise) (1.1.1)\n",
            "Requirement already satisfied: numpy>=1.11.2 in /usr/local/lib/python3.7/dist-packages (from scikit-surprise->surprise) (1.21.6)\n",
            "Requirement already satisfied: scipy>=1.0.0 in /usr/local/lib/python3.7/dist-packages (from scikit-surprise->surprise) (1.7.3)\n",
            "Requirement already satisfied: six>=1.10.0 in /usr/local/lib/python3.7/dist-packages (from scikit-surprise->surprise) (1.15.0)\n",
            "Requirement already satisfied: joblib>=0.11 in /usr/local/lib/python3.7/dist-packages (from scikit-surprise->surprise) (1.1.0)\n",
            "Looking in indexes: https://pypi.org/simple, https://us-python.pkg.dev/colab-wheels/public/simple/\n",
            "Requirement already satisfied: gdown in /usr/local/lib/python3.7/dist-packages (4.4.0)\n",
            "Requirement already satisfied: filelock in /usr/local/lib/python3.7/dist-packages (from gdown) (3.7.1)\n",
            "Requirement already satisfied: beautifulsoup4 in /usr/local/lib/python3.7/dist-packages (from gdown) (4.6.3)\n",
            "Requirement already satisfied: six in /usr/local/lib/python3.7/dist-packages (from gdown) (1.15.0)\n",
            "Requirement already satisfied: requests[socks] in /usr/local/lib/python3.7/dist-packages (from gdown) (2.23.0)\n",
            "Requirement already satisfied: tqdm in /usr/local/lib/python3.7/dist-packages (from gdown) (4.64.0)\n",
            "Requirement already satisfied: idna<3,>=2.5 in /usr/local/lib/python3.7/dist-packages (from requests[socks]->gdown) (2.10)\n",
            "Requirement already satisfied: urllib3!=1.25.0,!=1.25.1,<1.26,>=1.21.1 in /usr/local/lib/python3.7/dist-packages (from requests[socks]->gdown) (1.24.3)\n",
            "Requirement already satisfied: chardet<4,>=3.0.2 in /usr/local/lib/python3.7/dist-packages (from requests[socks]->gdown) (3.0.4)\n",
            "Requirement already satisfied: certifi>=2017.4.17 in /usr/local/lib/python3.7/dist-packages (from requests[socks]->gdown) (2022.6.15)\n",
            "Requirement already satisfied: PySocks!=1.5.7,>=1.5.6 in /usr/local/lib/python3.7/dist-packages (from requests[socks]->gdown) (1.7.1)\n"
          ]
        }
      ]
    },
    {
      "cell_type": "code",
      "source": [
        "!gdown https://drive.google.com/uc?id=1dFuCcqIO0_vQcNg_47Ondz3akBG1ojzb"
      ],
      "metadata": {
        "colab": {
          "base_uri": "https://localhost:8080/"
        },
        "id": "WyaXlKHRiG2T",
        "outputId": "decdb07c-ebbd-47a1-c218-e9f8af30ff64"
      },
      "id": "WyaXlKHRiG2T",
      "execution_count": 9,
      "outputs": [
        {
          "output_type": "stream",
          "name": "stdout",
          "text": [
            "Downloading...\n",
            "From: https://drive.google.com/uc?id=1dFuCcqIO0_vQcNg_47Ondz3akBG1ojzb\n",
            "To: /content/ratings_Electronics.csv\n",
            "100% 319M/319M [00:01<00:00, 267MB/s]\n"
          ]
        }
      ]
    },
    {
      "cell_type": "code",
      "execution_count": 10,
      "id": "9157a58f",
      "metadata": {
        "id": "9157a58f"
      },
      "outputs": [],
      "source": [
        "from surprise import accuracy\n",
        "from collections import defaultdict\n",
        "import csv\n",
        "from surprise import Dataset,Reader\n",
        "from surprise.model_selection import cross_validate\n",
        "from surprise.model_selection import train_test_split\n",
        "from surprise.model_selection import LeaveOneOut\n",
        "import itertools\n"
      ]
    },
    {
      "cell_type": "markdown",
      "id": "ba5b8802",
      "metadata": {
        "id": "ba5b8802"
      },
      "source": [
        "### Amazon product review   Dataset\n",
        "- https://www.kaggle.com/datasets/saurav9786/amazon-product-reviews?resource=download"
      ]
    },
    {
      "cell_type": "code",
      "execution_count": 11,
      "id": "c1916aab",
      "metadata": {
        "id": "c1916aab"
      },
      "outputs": [],
      "source": [
        "rating_df =pd.read_csv('ratings_Electronics.csv',  names=['userId','item','rating','time'])\n",
        "rating_df=rating_df[['userId','item','rating']]\n",
        "\n"
      ]
    },
    {
      "cell_type": "code",
      "source": [
        "x = rating_df.groupby('userId').count()['rating'] >= 25\n",
        "userIndex = x[x].index\n",
        "nm_rating_df=rating_df[rating_df['userId'].isin(userIndex)]"
      ],
      "metadata": {
        "id": "2NU-Mk5-ZAQ4"
      },
      "id": "2NU-Mk5-ZAQ4",
      "execution_count": 12,
      "outputs": []
    },
    {
      "cell_type": "code",
      "source": [
        "y = nm_rating_df.groupby('item').count()['rating']>=25\n",
        "items = y[y].index"
      ],
      "metadata": {
        "id": "YlU8zRhuZFPw"
      },
      "id": "YlU8zRhuZFPw",
      "execution_count": 13,
      "outputs": []
    },
    {
      "cell_type": "code",
      "source": [
        "rating_df = nm_rating_df[nm_rating_df['item'].isin(items)]\n"
      ],
      "metadata": {
        "id": "2e-S08Q8ZNeS"
      },
      "id": "2e-S08Q8ZNeS",
      "execution_count": 14,
      "outputs": []
    },
    {
      "cell_type": "code",
      "source": [
        "rating_df.shape"
      ],
      "metadata": {
        "colab": {
          "base_uri": "https://localhost:8080/"
        },
        "id": "lDZ-oPlJZS_O",
        "outputId": "9098fd22-a90e-41df-d1db-b0cdb5429e5a"
      },
      "id": "lDZ-oPlJZS_O",
      "execution_count": 15,
      "outputs": [
        {
          "output_type": "execute_result",
          "data": {
            "text/plain": [
              "(90645, 3)"
            ]
          },
          "metadata": {},
          "execution_count": 15
        }
      ]
    },
    {
      "cell_type": "code",
      "execution_count": 16,
      "id": "ce851e3f",
      "metadata": {
        "colab": {
          "base_uri": "https://localhost:8080/",
          "height": 366
        },
        "id": "ce851e3f",
        "outputId": "7512e693-9e94-444d-ebd4-60312c6b3e7c"
      },
      "outputs": [
        {
          "output_type": "display_data",
          "data": {
            "text/plain": [
              "<Figure size 432x288 with 1 Axes>"
            ],
            "image/png": "[encoded data removed]"
          },
          "metadata": {}
        }
      ],
      "source": [
        "\n",
        "import scipy.stats as st\n",
        "\n",
        "\n",
        "ratingCount = (rating_df.\n",
        "     groupby(by = ['item'])['rating'].\n",
        "     count().\n",
        "     reset_index().\n",
        "     rename(columns = {'rating': 'totalRatingCount'})\n",
        "     [['item', 'totalRatingCount']]\n",
        "    )\n",
        "data = ratingCount.loc[:, 'totalRatingCount'].values\n",
        "\n",
        "\n",
        "fig = plt.figure()\n",
        "ax = fig.add_axes([0,0,1,1])\n",
        "\n",
        "ax.hist(\n",
        "    data,\n",
        "    alpha=0.9,\n",
        "    bins=5,\n",
        "    density=True,\n",
        "    cumulative=False\n",
        ")\n",
        "\n",
        "\n",
        "plt.xlabel('totalRatingCount')\n",
        "plt.title(' totalRatingCount distribution')\n",
        "plt.show()"
      ]
    },
    {
      "cell_type": "markdown",
      "id": "ad948881",
      "metadata": {
        "id": "ad948881"
      },
      "source": [
        "### Prepare data set"
      ]
    },
    {
      "cell_type": "code",
      "execution_count": 17,
      "id": "67109c9c",
      "metadata": {
        "id": "67109c9c"
      },
      "outputs": [],
      "source": [
        "reader = Reader(rating_scale=(0, 5))\n",
        "data = Dataset.load_from_df(rating_df[['userId','item','rating']], reader)\n",
        "trainset, testset = train_test_split(data, random_state=0, test_size=0.25)"
      ]
    },
    {
      "cell_type": "code",
      "execution_count": 18,
      "id": "d1d0a06c",
      "metadata": {
        "id": "d1d0a06c"
      },
      "outputs": [],
      "source": [
        "fullTrainSet = data.build_full_trainset()"
      ]
    },
    {
      "cell_type": "markdown",
      "id": "1b33c5c2",
      "metadata": {
        "id": "1b33c5c2"
      },
      "source": [
        "### Define recommender metrics"
      ]
    },
    {
      "cell_type": "code",
      "execution_count": 19,
      "id": "8c0d8cb0",
      "metadata": {
        "id": "8c0d8cb0"
      },
      "outputs": [],
      "source": [
        "\n",
        "from collections import defaultdict\n",
        "def getPopularityBasedOnRatingCount(top_n=None):\n",
        "    ratings = defaultdict(int)\n",
        "    rankings = defaultdict(int)\n",
        "    for ind in rating_df.index: \n",
        "            item_row=rating_df['item'][ind]\n",
        "            ids = item_row\n",
        "            #increse rating count for that product\n",
        "            ratings[ids] += 1\n",
        "    rank = 1\n",
        "    for ids, ratingCount in sorted(ratings.items(), key=lambda x: x[1], reverse=True):\n",
        "        rankings[ids] = rank\n",
        "        rank += 1\n",
        "    if top_n is None:\n",
        "        return rankings\n",
        "    else:\n",
        "        return sorted(rankings, key=rankings.get, reverse=False)[:top_n]\n",
        "    "
      ]
    },
    {
      "cell_type": "markdown",
      "id": "1b04dbb9",
      "metadata": {
        "id": "1b04dbb9"
      },
      "source": [
        "## Evaluation metrics"
      ]
    },
    {
      "cell_type": "markdown",
      "id": "912937e9",
      "metadata": {
        "id": "912937e9"
      },
      "source": [
        "### Rating Prediction"
      ]
    },
    {
      "cell_type": "code",
      "execution_count": 20,
      "id": "f866065a",
      "metadata": {
        "id": "f866065a"
      },
      "outputs": [],
      "source": [
        "from surprise import accuracy\n",
        "from collections import defaultdict\n",
        "def MAE(predictions):\n",
        "    return accuracy.mae(predictions, verbose=False)\n",
        "def RMSE(predictions):\n",
        "    return accuracy.rmse(predictions, verbose=False)"
      ]
    },
    {
      "cell_type": "markdown",
      "id": "6d728bc8",
      "metadata": {
        "id": "6d728bc8"
      },
      "source": [
        "### TOP N predictions"
      ]
    },
    {
      "cell_type": "code",
      "execution_count": 21,
      "id": "ad782b47",
      "metadata": {
        "id": "ad782b47"
      },
      "outputs": [],
      "source": [
        "def Get_Top_Predictions(predictions, n=10, minimumRating=4.0):\n",
        "    topN = defaultdict(list)\n",
        "    for uid, bid, actualRating, estimatedRating, _ in predictions:\n",
        "        if (estimatedRating >= minimumRating):\n",
        "            topN[uid].append((bid, estimatedRating))\n",
        "    for uid, ratings in topN.items():\n",
        "        ratings.sort(key=lambda x: x[1], reverse=True)\n",
        "        topN[uid] = ratings[:n]\n",
        "    return topN"
      ]
    },
    {
      "cell_type": "code",
      "execution_count": 22,
      "id": "cc1aec30",
      "metadata": {
        "id": "cc1aec30"
      },
      "outputs": [],
      "source": [
        "def Get_data_from_Testset(predictions):\n",
        "    topN = defaultdict(list)\n",
        "    for uid, bid, actualRating, estimatedRating, _ in predictions:\n",
        "        topN[uid].append((bid, estimatedRating))\n",
        "    for uid, ratings in topN.items():\n",
        "        ratings.sort(key=lambda x: x[1], reverse=True)\n",
        "        topN[uid] = ratings\n",
        "    return topN"
      ]
    },
    {
      "cell_type": "code",
      "execution_count": 23,
      "id": "2543c252",
      "metadata": {
        "id": "2543c252"
      },
      "outputs": [],
      "source": [
        "def Get_Top_Predictions_In_Actual_DataSet(predictions, n=10, minimumRating=0.0):\n",
        "    topN = defaultdict(list)\n",
        "    for uid, mid, actualRating in predictions:\n",
        "        if (actualRating >= minimumRating):\n",
        "            topN[uid].append((mid, actualRating))\n",
        "    for uid, ratings in topN.items():\n",
        "        ratings.sort(key=lambda x: x[1], reverse=True)\n",
        "        topN[uid] = ratings[:n]\n",
        "    return topN"
      ]
    },
    {
      "cell_type": "code",
      "execution_count": 24,
      "id": "646af77c",
      "metadata": {
        "id": "646af77c"
      },
      "outputs": [],
      "source": [
        "def Get_All_Predictions_In_Actual_DataSet(predictions ):\n",
        "    topN = defaultdict(list)\n",
        "    for uid, mid, actualRating in predictions:\n",
        "        topN[uid].append((mid, actualRating))\n",
        "    for uid, ratings in topN.items():\n",
        "        ratings.sort(key=lambda x: x[1], reverse=True)\n",
        "        topN[uid] = ratings\n",
        "    return topN"
      ]
    },
    {
      "cell_type": "markdown",
      "id": "f977c922",
      "metadata": {
        "id": "f977c922"
      },
      "source": [
        "### MAP@K"
      ]
    },
    {
      "cell_type": "markdown",
      "source": [
        " See how often we recommended a movie the user actually rated"
      ],
      "metadata": {
        "id": "n0K9eh-QXoaw"
      },
      "id": "n0K9eh-QXoaw"
    },
    {
      "cell_type": "code",
      "execution_count": 25,
      "id": "41183947",
      "metadata": {
        "id": "41183947"
      },
      "outputs": [],
      "source": [
        "def MAP_K(topNPredicted, topNPredictedOnActualDataSet):\n",
        "    totalhit_ratio=0;\n",
        "    totalcount=0\n",
        "    for userid in topNPredictedOnActualDataSet:\n",
        "        totalcount+=1\n",
        "        hit=0\n",
        "        total=0\n",
        "        predictions=[]\n",
        "        actual_predictions=[]\n",
        "        for book,_ in topNPredicted[userid]:\n",
        "            predictions.append(book)\n",
        "        for book,_ in topNPredictedOnActualDataSet[userid]:\n",
        "            actual_predictions.append(book)\n",
        "            \n",
        "        for i in predictions:\n",
        "            total+=1\n",
        "            if i in actual_predictions:\n",
        "                hit+=1\n",
        "        \n",
        "        if(total==0):\n",
        "            totalhit_ratio=0\n",
        "        else:\n",
        "            totalhit_ratio+=(hit/total)  \n",
        "       \n",
        "    return (totalhit_ratio/totalcount)"
      ]
    },
    {
      "cell_type": "code",
      "execution_count": 26,
      "id": "00e7db7d",
      "metadata": {
        "id": "00e7db7d"
      },
      "outputs": [],
      "source": [
        "def HitRate(topNPredicted, topNPredictedOnActualDataSet):\n",
        "    totalhit_ratio=0;\n",
        "    totalcount=0\n",
        "    hit=0\n",
        "    for userid in topNPredictedOnActualDataSet:\n",
        "        totalcount+=1\n",
        "        \n",
        "        \n",
        "        predictions=[]\n",
        "        actual_predictions=[]\n",
        "        for book,_ in topNPredicted[userid]:\n",
        "            predictions.append(book)\n",
        "        for book,_ in topNPredictedOnActualDataSet[userid]:\n",
        "            actual_predictions.append(book) \n",
        "        for i in predictions:\n",
        "            if i in actual_predictions:\n",
        "                hit+=1\n",
        "                break\n",
        "        \n",
        "        \n",
        "    \n",
        "    return (hit/totalcount)"
      ]
    },
    {
      "cell_type": "markdown",
      "id": "ca09a328",
      "metadata": {
        "id": "ca09a328"
      },
      "source": [
        "### UserCoverage"
      ]
    },
    {
      "cell_type": "markdown",
      "source": [
        " Percentage of users have at least one \"good\" recommendation"
      ],
      "metadata": {
        "id": "sikiql1IXlIg"
      },
      "id": "sikiql1IXlIg"
    },
    {
      "cell_type": "code",
      "execution_count": 27,
      "id": "3519337a",
      "metadata": {
        "id": "3519337a"
      },
      "outputs": [],
      "source": [
        "\n",
        "def UserCoverage(topNPredicted, numUsers, ratingThreshold=0):\n",
        "    hits = 0\n",
        "    for userID in topNPredicted.keys():\n",
        "        hit = 0\n",
        "        for mid, predictedRating in topNPredicted[userID]:\n",
        "            if (predictedRating >= ratingThreshold):\n",
        "                hit = 1\n",
        "                break\n",
        "        if (hit==1):\n",
        "            hits += 1\n",
        "    return hits / numUsers"
      ]
    },
    {
      "cell_type": "markdown",
      "id": "fdac57b0",
      "metadata": {
        "id": "fdac57b0"
      },
      "source": [
        "### Novelty"
      ]
    },
    {
      "cell_type": "markdown",
      "source": [
        " Novelty is a measure of how popular the items system recommending."
      ],
      "metadata": {
        "id": "gmPM1MHUXeSo"
      },
      "id": "gmPM1MHUXeSo"
    },
    {
      "cell_type": "code",
      "execution_count": 28,
      "id": "9ed6f4b0",
      "metadata": {
        "id": "9ed6f4b0"
      },
      "outputs": [],
      "source": [
        "def Novelty(topNPredicted, rankings):\n",
        "    n = 0\n",
        "    total = 0\n",
        "    for uid in topNPredicted.keys():\n",
        "        for rating in topNPredicted[uid]:\n",
        "            mid = rating[0]\n",
        "            rank = rankings[mid]\n",
        "            total += rank\n",
        "            n += 1\n",
        "    if n==0:\n",
        "        return 0\n",
        "    return total / n"
      ]
    },
    {
      "cell_type": "code",
      "execution_count": 29,
      "id": "7b9ef854",
      "metadata": {
        "id": "7b9ef854"
      },
      "outputs": [],
      "source": [
        "from surprise.model_selection import LeaveOneOut\n",
        "import itertools\n"
      ]
    },
    {
      "cell_type": "code",
      "execution_count": 30,
      "id": "f90dc93f",
      "metadata": {
        "id": "f90dc93f"
      },
      "outputs": [],
      "source": [
        "\n",
        "class Evaluate:\n",
        "    def __init__(self, algo):\n",
        "        self.algo = algo\n",
        "    def start(self, n=10, verbose=True):\n",
        "        before=datetime.now() \n",
        "        #trainSet, testSet = train_test_split(data, test_size=.25, random_state=1)\n",
        "        algo.fit(trainset)\n",
        "        after= datetime.now() \n",
        "        duration = after-before                         \n",
        "        duration = duration.total_seconds() \n",
        "        print('time taken '+str(duration)+'s')\n",
        "        predictions = algo.test(testset)\n",
        "        rmse= RMSE(predictions)\n",
        "        mae= MAE(predictions)\n",
        "        print(\"Computing RMSE \"+str(rmse))\n",
        "        print(\"Computing MAE \"+str(mae))\n",
        "        return duration,rmse,mae\n",
        "    \n",
        "   \n",
        "    def getModel(self):\n",
        "        return self.algo\n",
        "    def OtherMetrics(self):\n",
        "            \n",
        "            self.algo.fit(fullTrainSet)\n",
        "            bigTestSet = fullTrainSet.build_anti_testset()\n",
        "            all_pred = algo.test(bigTestSet)\n",
        "            topN= Get_Top_Predictions(all_pred, n=10)\n",
        "\n",
        "            \n",
        "            ranking=getPopularityBasedOnRatingCount()\n",
        "            # Print user coverage:\n",
        "            user_coverage= UserCoverage(topN, fullTrainSet.n_users, ratingThreshold=4.0)\n",
        "            print(\"\\nUser coverage: \",user_coverage)\n",
        "            # Measure novelty (average popularity rank of recommendations):\n",
        "            novelty=Novelty(topN, ranking)\n",
        "            print(\"\\nNovelty : \",novelty )\n",
        "            # Measure diversity of recommendations:\n",
        "\n",
        "            #diversity=Diversity(topN, simsAlgo)\n",
        "            #print(\"\\nDiversity: \", diversity)\n",
        "          \n",
        "            return novelty,user_coverage\n",
        "        \n",
        "   \n",
        "    def RecommendationMetricsOnwholeTestSet(self):\n",
        "        hit_rate=0\n",
        "        cumm_hit_rate=0\n",
        "        print(\"Computing recommendations with train and test dataset...\")\n",
        "        # Build predictions for all ratings  in the test set\n",
        "        print(\"Predict ratings...\")\n",
        "        allPredictions = algo.test(testset)\n",
        "     \n",
        "        # Compute top 10 recs for each user\n",
        "        print(\"Compute top 10 recs per user\")\n",
        "        topNPredicted = Get_Top_Predictions(allPredictions)\n",
        "        allPredictedOnActualDataSet = Get_All_Predictions_In_Actual_DataSet(testset)\n",
        "        topNPredictedOnActualDataSet =   Get_Top_Predictions_In_Actual_DataSet(testset)\n",
        "       \n",
        "      \n",
        "        #Calculate hit rate\n",
        "        \n",
        "        hit_rate=HitRate(topNPredicted, allPredictedOnActualDataSet)\n",
        "        print(\"\\nHit Rate: \",hit_rate )\n",
        "\n",
        "        map_k= MAP_K(topNPredicted, allPredictedOnActualDataSet)\n",
        "        print(\"\\nMAP@K: \",map_k )\n",
        "        \n",
        "        \n",
        "         #Calculate hit rate\n",
        "        \n",
        "        hit_rate_most_liked=HitRate(topNPredicted, topNPredictedOnActualDataSet)\n",
        "        print(\"\\nHit Rate on top liked items: \",hit_rate_most_liked )\n",
        "\n",
        "        map_k_most_liked= MAP_K(topNPredicted, topNPredictedOnActualDataSet)\n",
        "        print(\"\\nMAP@K  on top liked items: \",map_k_most_liked )\n",
        "        # See how often we recommended a movie the user actually liked\n",
        "       \n",
        "          \n",
        "        return hit_rate,map_k\n",
        "    "
      ]
    },
    {
      "cell_type": "markdown",
      "source": [
        "## Algorithms"
      ],
      "metadata": {
        "id": "t7cBL14-oTqq"
      },
      "id": "t7cBL14-oTqq"
    },
    {
      "cell_type": "markdown",
      "source": [
        "### SVD "
      ],
      "metadata": {
        "id": "_NwCKVtSZjGY"
      },
      "id": "_NwCKVtSZjGY"
    },
    {
      "cell_type": "code",
      "execution_count": 31,
      "id": "41f68ae0",
      "metadata": {
        "colab": {
          "base_uri": "https://localhost:8080/"
        },
        "id": "41f68ae0",
        "outputId": "4b8ae619-b49a-4e0b-dfcc-cfe730905cd1"
      },
      "outputs": [
        {
          "output_type": "stream",
          "name": "stdout",
          "text": [
            "time taken 5.129766s\n",
            "Computing RMSE 0.9366574110402199\n",
            "Computing MAE 0.6705030233469985\n"
          ]
        }
      ],
      "source": [
        "\n",
        "from surprise import SVD\n",
        "from datetime import datetime\n",
        "algo =  SVD()\n",
        "evaluate=Evaluate(algo)\n",
        "svd_duration,svd_rmse,svd_mae=evaluate.start()\n"
      ]
    },
    {
      "cell_type": "code",
      "execution_count": 32,
      "id": "66299dd7",
      "metadata": {
        "colab": {
          "base_uri": "https://localhost:8080/"
        },
        "id": "66299dd7",
        "outputId": "4b29dbe0-e362-4c41-8846-a15d9c626aca"
      },
      "outputs": [
        {
          "output_type": "stream",
          "name": "stdout",
          "text": [
            "Computing recommendations with train and test dataset...\n",
            "Predict ratings...\n",
            "Compute top 10 recs per user\n",
            "\n",
            "Hit Rate:  0.9316959744223223\n",
            "\n",
            "MAP@K:  0.0\n",
            "\n",
            "Hit Rate on top liked items:  0.9315506467083273\n",
            "\n",
            "MAP@K  on top liked items:  0.0\n",
            "\n",
            "User coverage:  0.9977378408948095\n",
            "\n",
            "Novelty :  821.4654915903876\n"
          ]
        }
      ],
      "source": [
        "svd_hit_rate,svd_map_k=evaluate.RecommendationMetricsOnwholeTestSet()\n",
        "svd_novelty,svd_user_coverage=evaluate.OtherMetrics()\n",
        "algosvd=evaluate.getModel()"
      ]
    },
    {
      "cell_type": "markdown",
      "source": [
        "### PMF"
      ],
      "metadata": {
        "id": "zzYKV9t_axGF"
      },
      "id": "zzYKV9t_axGF"
    },
    {
      "cell_type": "code",
      "source": [
        "\n",
        "from surprise import SVD\n",
        "from datetime import datetime\n",
        "# set biased parameter to false in svd\n",
        "algo =  SVD(n_epochs = 200, lr_all = 0.0001, n_factors = 50,biased=False)\n",
        "evaluate=Evaluate(algo)\n",
        "pmf_duration,pmf_rmse,pmf_mae=evaluate.start()\n"
      ],
      "metadata": {
        "colab": {
          "base_uri": "https://localhost:8080/"
        },
        "id": "EA1vsgG6awQ1",
        "outputId": "9622e067-896e-4feb-cf31-ec04d6c100a7"
      },
      "id": "EA1vsgG6awQ1",
      "execution_count": 33,
      "outputs": [
        {
          "output_type": "stream",
          "name": "stdout",
          "text": [
            "time taken 20.144932s\n",
            "Computing RMSE 4.414222393834694\n",
            "Computing MAE 4.294122774135725\n"
          ]
        }
      ]
    },
    {
      "cell_type": "code",
      "source": [
        "pmf_hit_rate,pmf_map_k=evaluate.RecommendationMetricsOnwholeTestSet()\n",
        "pmf_novelty,pmf_user_coverage=evaluate.OtherMetrics()\n",
        "algopmf=evaluate.getModel()"
      ],
      "metadata": {
        "colab": {
          "base_uri": "https://localhost:8080/"
        },
        "id": "qeFGHrUHbB7d",
        "outputId": "4b61d643-bb75-4bcc-94a7-d60a01a37ab7"
      },
      "id": "qeFGHrUHbB7d",
      "execution_count": 34,
      "outputs": [
        {
          "output_type": "stream",
          "name": "stdout",
          "text": [
            "Computing recommendations with train and test dataset...\n",
            "Predict ratings...\n",
            "Compute top 10 recs per user\n",
            "\n",
            "Hit Rate:  0.00886499055369859\n",
            "\n",
            "MAP@K:  0.0\n",
            "\n",
            "Hit Rate on top liked items:  0.00886499055369859\n",
            "\n",
            "MAP@K  on top liked items:  0.0\n",
            "\n",
            "User coverage:  0.0012567550584391101\n",
            "\n",
            "Novelty :  1.75\n"
          ]
        }
      ]
    },
    {
      "cell_type": "markdown",
      "id": "ff2e68f1",
      "metadata": {
        "id": "ff2e68f1"
      },
      "source": [
        "### SVD++"
      ]
    },
    {
      "cell_type": "code",
      "execution_count": 35,
      "id": "55aa434b",
      "metadata": {
        "colab": {
          "base_uri": "https://localhost:8080/"
        },
        "id": "55aa434b",
        "outputId": "cefc5d9f-6dc3-4732-9bbe-b0441d4bdea5"
      },
      "outputs": [
        {
          "output_type": "stream",
          "name": "stdout",
          "text": [
            "time taken 15.508322s\n",
            "Computing RMSE 0.934097090628802\n",
            "Computing MAE 0.6622421471270226\n",
            "Computing recommendations with train and test dataset...\n",
            "Predict ratings...\n",
            "Compute top 10 recs per user\n",
            "\n",
            "Hit Rate:  0.9157099258828658\n",
            "\n",
            "MAP@K:  0.0004359831419851766\n",
            "\n",
            "Hit Rate on top liked items:  0.9157099258828658\n",
            "\n",
            "MAP@K  on top liked items:  0.0004359831419851766\n",
            "\n",
            "User coverage:  0.9950986552720875\n",
            "\n",
            "Novelty :  858.6483196679826\n"
          ]
        }
      ],
      "source": [
        "\n",
        "from surprise import SVDpp\n",
        "from datetime import datetime\n",
        "algo =  SVDpp()\n",
        "evaluate=Evaluate(algo)\n",
        "algosvdpp = SVDpp()\n",
        "evaluate=Evaluate(algosvdpp)\n",
        "svdpp_duration,svdpp_rmse,svdpp_mae=evaluate.start()\n",
        "svdpp_hit_rate,svdpp_map_k=evaluate.RecommendationMetricsOnwholeTestSet()\n",
        "svdpp_novelty,svdpp_user_coverage=evaluate.OtherMetrics()\n",
        "algosvdpp=evaluate.getModel()"
      ]
    },
    {
      "cell_type": "markdown",
      "id": "13cffaec",
      "metadata": {
        "id": "13cffaec"
      },
      "source": [
        "### NMF"
      ]
    },
    {
      "cell_type": "code",
      "execution_count": 36,
      "id": "461025bd",
      "metadata": {
        "colab": {
          "base_uri": "https://localhost:8080/"
        },
        "id": "461025bd",
        "outputId": "e30e0696-23d1-43b8-a8fc-6d4c77cb7724"
      },
      "outputs": [
        {
          "output_type": "stream",
          "name": "stdout",
          "text": [
            "time taken 15.502759s\n",
            "Computing RMSE 0.9339746530310153\n",
            "Computing MAE 0.661231303672454\n",
            "Computing recommendations with train and test dataset...\n",
            "Predict ratings...\n",
            "Compute top 10 recs per user\n",
            "\n",
            "Hit Rate:  0.9154192704548757\n",
            "\n",
            "MAP@K:  0.0\n",
            "\n",
            "Hit Rate on top liked items:  0.9154192704548757\n",
            "\n",
            "MAP@K  on top liked items:  0.0\n"
          ]
        }
      ],
      "source": [
        "\n",
        "from surprise import NMF\n",
        "from datetime import datetime\n",
        "algo =  SVDpp()\n",
        "evaluate=Evaluate(algo)\n",
        "algoNMF = NMF()\n",
        "evaluate=Evaluate(algoNMF)\n",
        "NMF_duration,NMF_rmse,NMF_mae=evaluate.start()\n",
        "NMF_hit_rate,NMF_mapk=evaluate.RecommendationMetricsOnwholeTestSet()\n",
        "\n",
        "algoNMF=evaluate.getModel()"
      ]
    },
    {
      "cell_type": "code",
      "source": [
        "NMF_novelty,NMF_user_coverage=evaluate.OtherMetrics()"
      ],
      "metadata": {
        "colab": {
          "base_uri": "https://localhost:8080/"
        },
        "id": "s9m4XoRansN5",
        "outputId": "185fd500-3335-49e3-826d-fd2d2ed341b2"
      },
      "id": "s9m4XoRansN5",
      "execution_count": 37,
      "outputs": [
        {
          "output_type": "stream",
          "name": "stdout",
          "text": [
            "\n",
            "User coverage:  0.9952243307779314\n",
            "\n",
            "Novelty :  862.2383272175124\n"
          ]
        }
      ]
    },
    {
      "cell_type": "markdown",
      "source": [
        "### Comparisons"
      ],
      "metadata": {
        "id": "a_ncjX1fnHA5"
      },
      "id": "a_ncjX1fnHA5"
    },
    {
      "cell_type": "code",
      "source": [
        "data = [['SVD', svd_duration,svd_mae,svd_rmse,svd_hit_rate,svd_map_k,svd_user_coverage,svd_novelty],\\\n",
        "        ['PMF', pmf_duration,pmf_mae,pmf_rmse,pmf_hit_rate,pmf_map_k,pmf_user_coverage,pmf_novelty],\\\n",
        "          ['SVD++', svdpp_duration,svdpp_mae,svdpp_rmse,svdpp_hit_rate,svdpp_map_k,svdpp_user_coverage,svdpp_novelty],\\\n",
        "       ['NMF', NMF_duration,NMF_mae,NMF_rmse,NMF_hit_rate,NMF_mapk,NMF_user_coverage,NMF_novelty]]\n",
        "compare_df = pd.DataFrame(data, columns=['Algorithm', 'Duration(second)','MAE','RMSE','Hit Rate','MAP@K'\\\n",
        "                                         ,'User Coverage','Novelty'])\n",
        "compare_df"
      ],
      "metadata": {
        "colab": {
          "base_uri": "https://localhost:8080/",
          "height": 175
        },
        "id": "1JdKVqHSnGLp",
        "outputId": "77b4aeb7-8278-48b1-e195-f0a6f741777f"
      },
      "id": "1JdKVqHSnGLp",
      "execution_count": 38,
      "outputs": [
        {
          "output_type": "execute_result",
          "data": {
            "text/plain": [
              "  Algorithm  Duration(second)       MAE      RMSE  Hit Rate     MAP@K  \\\n",
              "0       SVD          5.129766  0.670503  0.936657  0.931696  0.000000   \n",
              "1       PMF         20.144932  4.294123  4.414222  0.008865  0.000000   \n",
              "2     SVD++         15.508322  0.662242  0.934097  0.915710  0.000436   \n",
              "3       NMF         15.502759  0.661231  0.933975  0.915419  0.000000   \n",
              "\n",
              "   User Coverage     Novelty  \n",
              "0       0.997738  821.465492  \n",
              "1       0.001257    1.750000  \n",
              "2       0.995099  858.648320  \n",
              "3       0.995224  862.238327  "
            ],
            "text/html": [
              "\n",
              "  <div id=\"df-e669e6a4-83ef-4808-b653-c0e0c81d47a0\">\n",
              "    <div class=\"colab-df-container\">\n",
              "      <div>\n",
              "<style scoped>\n",
              "    .dataframe tbody tr th:only-of-type {\n",
              "        vertical-align: middle;\n",
              "    }\n",
              "\n",
              "    .dataframe tbody tr th {\n",
              "        vertical-align: top;\n",
              "    }\n",
              "\n",
              "    .dataframe thead th {\n",
              "        text-align: right;\n",
              "    }\n",
              "</style>\n",
              "<table border=\"1\" class=\"dataframe\">\n",
              "  <thead>\n",
              "    <tr style=\"text-align: right;\">\n",
              "      <th></th>\n",
              "      <th>Algorithm</th>\n",
              "      <th>Duration(second)</th>\n",
              "      <th>MAE</th>\n",
              "      <th>RMSE</th>\n",
              "      <th>Hit Rate</th>\n",
              "      <th>MAP@K</th>\n",
              "      <th>User Coverage</th>\n",
              "      <th>Novelty</th>\n",
              "    </tr>\n",
              "  </thead>\n",
              "  <tbody>\n",
              "    <tr>\n",
              "      <th>0</th>\n",
              "      <td>SVD</td>\n",
              "      <td>5.129766</td>\n",
              "      <td>0.670503</td>\n",
              "      <td>0.936657</td>\n",
              "      <td>0.931696</td>\n",
              "      <td>0.000000</td>\n",
              "      <td>0.997738</td>\n",
              "      <td>821.465492</td>\n",
              "    </tr>\n",
              "    <tr>\n",
              "      <th>1</th>\n",
              "      <td>PMF</td>\n",
              "      <td>20.144932</td>\n",
              "      <td>4.294123</td>\n",
              "      <td>4.414222</td>\n",
              "      <td>0.008865</td>\n",
              "      <td>0.000000</td>\n",
              "      <td>0.001257</td>\n",
              "      <td>1.750000</td>\n",
              "    </tr>\n",
              "    <tr>\n",
              "      <th>2</th>\n",
              "      <td>SVD++</td>\n",
              "      <td>15.508322</td>\n",
              "      <td>0.662242</td>\n",
              "      <td>0.934097</td>\n",
              "      <td>0.915710</td>\n",
              "      <td>0.000436</td>\n",
              "      <td>0.995099</td>\n",
              "      <td>858.648320</td>\n",
              "    </tr>\n",
              "    <tr>\n",
              "      <th>3</th>\n",
              "      <td>NMF</td>\n",
              "      <td>15.502759</td>\n",
              "      <td>0.661231</td>\n",
              "      <td>0.933975</td>\n",
              "      <td>0.915419</td>\n",
              "      <td>0.000000</td>\n",
              "      <td>0.995224</td>\n",
              "      <td>862.238327</td>\n",
              "    </tr>\n",
              "  </tbody>\n",
              "</table>\n",
              "</div>\n",
              "      <button class=\"colab-df-convert\" onclick=\"convertToInteractive('df-e669e6a4-83ef-4808-b653-c0e0c81d47a0')\"\n",
              "              title=\"Convert this dataframe to an interactive table.\"\n",
              "              style=\"display:none;\">\n",
              "        \n",
              "  <svg xmlns=\"http://www.w3.org/2000/svg\" height=\"24px\"viewBox=\"0 0 24 24\"\n",
              "       width=\"24px\">\n",
              "    <path d=\"M0 0h24v24H0V0z\" fill=\"none\"/>\n",
              "    <path d=\"M18.56 5.44l.94 2.06.94-2.06 2.06-.94-2.06-.94-.94-2.06-.94 2.06-2.06.94zm-11 1L8.5 8.5l.94-2.06 2.06-.94-2.06-.94L8.5 2.5l-.94 2.06-2.06.94zm10 10l.94 2.06.94-2.06 2.06-.94-2.06-.94-.94-2.06-.94 2.06-2.06.94z\"/><path d=\"M17.41 7.96l-1.37-1.37c-.4-.4-.92-.59-1.43-.59-.52 0-1.04.2-1.43.59L10.3 9.45l-7.72 7.72c-.78.78-.78 2.05 0 2.83L4 21.41c.39.39.9.59 1.41.59.51 0 1.02-.2 1.41-.59l7.78-7.78 2.81-2.81c.8-.78.8-2.07 0-2.86zM5.41 20L4 18.59l7.72-7.72 1.47 1.35L5.41 20z\"/>\n",
              "  </svg>\n",
              "      </button>\n",
              "      \n",
              "  <style>\n",
              "    .colab-df-container {\n",
              "      display:flex;\n",
              "      flex-wrap:wrap;\n",
              "      gap: 12px;\n",
              "    }\n",
              "\n",
              "    .colab-df-convert {\n",
              "      background-color: #E8F0FE;\n",
              "      border: none;\n",
              "      border-radius: 50%;\n",
              "      cursor: pointer;\n",
              "      display: none;\n",
              "      fill: #1967D2;\n",
              "      height: 32px;\n",
              "      padding: 0 0 0 0;\n",
              "      width: 32px;\n",
              "    }\n",
              "\n",
              "    .colab-df-convert:hover {\n",
              "      background-color: #E2EBFA;\n",
              "      box-shadow: 0px 1px 2px rgba(60, 64, 67, 0.3), 0px 1px 3px 1px rgba(60, 64, 67, 0.15);\n",
              "      fill: #174EA6;\n",
              "    }\n",
              "\n",
              "    [theme=dark] .colab-df-convert {\n",
              "      background-color: #3B4455;\n",
              "      fill: #D2E3FC;\n",
              "    }\n",
              "\n",
              "    [theme=dark] .colab-df-convert:hover {\n",
              "      background-color: #434B5C;\n",
              "      box-shadow: 0px 1px 3px 1px rgba(0, 0, 0, 0.15);\n",
              "      filter: drop-shadow(0px 1px 2px rgba(0, 0, 0, 0.3));\n",
              "      fill: #FFFFFF;\n",
              "    }\n",
              "  </style>\n",
              "\n",
              "      <script>\n",
              "        const buttonEl =\n",
              "          document.querySelector('#df-e669e6a4-83ef-4808-b653-c0e0c81d47a0 button.colab-df-convert');\n",
              "        buttonEl.style.display =\n",
              "          google.colab.kernel.accessAllowed ? 'block' : 'none';\n",
              "\n",
              "        async function convertToInteractive(key) {\n",
              "          const element = document.querySelector('#df-e669e6a4-83ef-4808-b653-c0e0c81d47a0');\n",
              "          const dataTable =\n",
              "            await google.colab.kernel.invokeFunction('convertToInteractive',\n",
              "                                                     [key], {});\n",
              "          if (!dataTable) return;\n",
              "\n",
              "          const docLinkHtml = 'Like what you see? Visit the ' +\n",
              "            '<a target=\"_blank\" href=https://colab.research.google.com/notebooks/data_table.ipynb>data table notebook</a>'\n",
              "            + ' to learn more about interactive tables.';\n",
              "          element.innerHTML = '';\n",
              "          dataTable['output_type'] = 'display_data';\n",
              "          await google.colab.output.renderOutput(dataTable, element);\n",
              "          const docLink = document.createElement('div');\n",
              "          docLink.innerHTML = docLinkHtml;\n",
              "          element.appendChild(docLink);\n",
              "        }\n",
              "      </script>\n",
              "    </div>\n",
              "  </div>\n",
              "  "
            ]
          },
          "metadata": {},
          "execution_count": 38
        }
      ]
    },
    {
      "cell_type": "markdown",
      "id": "434eda9b",
      "metadata": {
        "id": "434eda9b"
      },
      "source": [
        "# Neighbourhood based method"
      ]
    },
    {
      "cell_type": "markdown",
      "id": "d8c6b323",
      "metadata": {
        "id": "d8c6b323"
      },
      "source": [
        "### User-Based recommendation"
      ]
    },
    {
      "cell_type": "code",
      "execution_count": 39,
      "id": "f360beea",
      "metadata": {
        "colab": {
          "base_uri": "https://localhost:8080/"
        },
        "id": "f360beea",
        "outputId": "fb929018-def2-456e-8b8b-07ac5ba0df06"
      },
      "outputs": [
        {
          "output_type": "stream",
          "name": "stdout",
          "text": [
            "\n",
            "Computing item similarities ...\n",
            "Computing the cosine similarity matrix...\n",
            "Done computing similarity matrix.\n",
            "Computing the cosine similarity matrix...\n",
            "Done computing similarity matrix.\n"
          ]
        }
      ],
      "source": [
        "from surprise import KNNBasic\n",
        "print(\"\\nComputing item similarities ...\")\n",
        "options = {'name': 'cosine', 'user_based': True}\n",
        "simsAlgo = KNNBasic(sim_options=options)\n",
        "simsAlgo.fit(fullTrainSet)\n",
        "simsMatrix = simsAlgo.compute_similarities()"
      ]
    },
    {
      "cell_type": "code",
      "execution_count": 40,
      "id": "09f9172b",
      "metadata": {
        "id": "09f9172b"
      },
      "outputs": [],
      "source": [
        "import heapq\n",
        "from operator import itemgetter\n",
        "def getdataForAllUsers(n=10, verbose=True):\n",
        "        print(\"\\nComputing  similarities ...\")\n",
        "        options = {'name': 'cosine', 'user_based': True}\n",
        "        \n",
        "        simsAlgo = KNNBasic(sim_options=options)\n",
        "        simsAlgo.fit(trainset)\n",
        "        simsMatrix = simsAlgo.compute_similarities()\n",
        "        \n",
        "        topN = defaultdict(list)\n",
        "        \n",
        "        hit_rate=0\n",
        "        cumm_hit_rate=0\n",
        "        k = 10\n",
        "        \n",
        "        for uid in range(trainset.n_users):\n",
        "            # Get top N similar users to this one\n",
        "            similarityRow = simsMatrix[uid]\n",
        "            \n",
        "            similarUsers = []\n",
        "            for innerID, score in enumerate(similarityRow):\n",
        "                if (innerID != uid):\n",
        "                    similarUsers.append( (innerID, score) )\n",
        "            \n",
        "            kNeighbors = heapq.nlargest(k, similarUsers, key=lambda t: t[1])\n",
        "            \n",
        "            # Get the stuff they rated, and add up ratings for each item, weighted by user similarity\n",
        "            candidates = defaultdict(float)\n",
        "            for similarUser in kNeighbors:\n",
        "                innerID = similarUser[0]\n",
        "                userSimilarityScore = similarUser[1]\n",
        "                theirRatings = trainset.ur[innerID]\n",
        "                for rating in theirRatings:\n",
        "                    candidates[rating[0]] += (rating[1] / 5.0) * userSimilarityScore\n",
        "                \n",
        "            # Build a dictionary of stuff the user has already seen\n",
        "            alreadyRead = {}\n",
        "            for itemID, rating in trainset.ur[uid]:\n",
        "                alreadyRead[itemID] = 1\n",
        "                \n",
        "            # Get top-rated items from similar users:\n",
        "            pos = 0\n",
        "            for itemID, ratingSum in sorted(candidates.items(), key=itemgetter(1), reverse=True):\n",
        "                if not itemID in alreadyRead:\n",
        "                    id = trainset.to_raw_iid(itemID)\n",
        "                    topN[trainset.to_raw_uid(uid)].append( (id, 0.0) )\n",
        "                    pos += 1\n",
        "                    if (pos > n):\n",
        "                        break\n",
        "                        \n",
        "        return topN"
      ]
    },
    {
      "cell_type": "code",
      "execution_count": 41,
      "id": "7eb1b36e",
      "metadata": {
        "colab": {
          "base_uri": "https://localhost:8080/"
        },
        "id": "7eb1b36e",
        "outputId": "e79e32bf-231e-4fd0-a2fa-fb4b284d3b5d"
      },
      "outputs": [
        {
          "output_type": "stream",
          "name": "stdout",
          "text": [
            "\n",
            "Computing  similarities ...\n",
            "Computing the cosine similarity matrix...\n",
            "Done computing similarity matrix.\n",
            "Computing the cosine similarity matrix...\n",
            "Done computing similarity matrix.\n"
          ]
        }
      ],
      "source": [
        "topN=getdataForAllUsers()\n",
        "allPredictedOnActualDataSet = Get_All_Predictions_In_Actual_DataSet(testset)\n"
      ]
    },
    {
      "cell_type": "code",
      "execution_count": 42,
      "id": "a6147266",
      "metadata": {
        "colab": {
          "base_uri": "https://localhost:8080/"
        },
        "id": "a6147266",
        "outputId": "e4ca1efd-8543-405a-f566-9b0f820519fe"
      },
      "outputs": [
        {
          "output_type": "execute_result",
          "data": {
            "text/plain": [
              "0.08705130068304026"
            ]
          },
          "metadata": {},
          "execution_count": 42
        }
      ],
      "source": [
        "hit_rate_knn=HitRate(topN,allPredictedOnActualDataSet)\n",
        "hit_rate_knn"
      ]
    }
  ],
  "metadata": {
    "kernelspec": {
      "display_name": "Python 3",
      "language": "python",
      "name": "python3"
    },
    "language_info": {
      "codemirror_mode": {
        "name": "ipython",
        "version": 3
      },
      "file_extension": ".py",
      "mimetype": "text/x-python",
      "name": "python",
      "nbconvert_exporter": "python",
      "pygments_lexer": "ipython3",
      "version": "3.6.5"
    },
    "colab": {
      "name": "amazon _product_Review_experiment-surprise.ipynb",
      "provenance": [],
      "collapsed_sections": [
        "ca09a328"
      ],
      "machine_shape": "hm"
    },
    "accelerator": "GPU",
    "gpuClass": "standard"
  },
  "nbformat": 4,
  "nbformat_minor": 5
}
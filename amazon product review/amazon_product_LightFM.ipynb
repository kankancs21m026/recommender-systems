{
  "cells": [
    {
      "cell_type": "markdown",
      "source": [
        "### Bayesian Personalized Ranking from Implicit Feedback\n",
        "- https://arxiv.org/ftp/arxiv/papers/1205/1205.2618.pdf\n",
        "### Weighted Approximate-Rank Pairwise\n",
        "- https://making.lyst.com/lightfm/docs/examples/warp_loss.html\n",
        "- http://www.thespermwhale.com/jaseweston/papers/wsabie-ijcai.pdf"
      ],
      "metadata": {
        "id": "osgRv2cAIJ--"
      },
      "id": "osgRv2cAIJ--"
    },
    {
      "cell_type": "code",
      "source": [
        ""
      ],
      "metadata": {
        "id": "XDEaJ6UElO9R"
      },
      "id": "XDEaJ6UElO9R",
      "execution_count": null,
      "outputs": []
    },
    {
      "cell_type": "code",
      "execution_count": 1,
      "metadata": {
        "id": "5b97d650"
      },
      "outputs": [],
      "source": [
        "import warnings\n",
        "warnings.filterwarnings(\"ignore\")"
      ],
      "id": "5b97d650"
    },
    {
      "cell_type": "code",
      "execution_count": 2,
      "metadata": {
        "id": "519937e0"
      },
      "outputs": [],
      "source": [
        "from datetime import datetime\n",
        "import os\n",
        "import matplotlib\n",
        "import pandas as pd\n",
        "import numpy as np\n",
        "import matplotlib.pyplot as plt\n",
        "import seaborn as sns\n",
        "sns.set_style('whitegrid')\n",
        "\n",
        "from scipy import sparse\n",
        "from scipy.sparse import csc_matrix\n",
        "from sklearn.decomposition import TruncatedSVD\n",
        "import random\n",
        "random.seed(0)\n",
        "np.random.seed(0)"
      ],
      "id": "519937e0"
    },
    {
      "cell_type": "code",
      "source": [
        "SEED = 42\n",
        "np.random.seed(SEED)"
      ],
      "metadata": {
        "id": "4uHlr1BVBzzB"
      },
      "id": "4uHlr1BVBzzB",
      "execution_count": 3,
      "outputs": []
    },
    {
      "cell_type": "markdown",
      "metadata": {
        "id": "1ac47295"
      },
      "source": [
        "## Analyse Dataset"
      ],
      "id": "1ac47295"
    },
    {
      "cell_type": "markdown",
      "metadata": {
        "id": "474dfab9"
      },
      "source": [
        "### Amazon product review   Dataset\n",
        "- https://www.kaggle.com/datasets/saurav9786/amazon-product-reviews?resource=download"
      ],
      "id": "474dfab9"
    },
    {
      "cell_type": "code",
      "source": [
        "!pip install gdown"
      ],
      "metadata": {
        "colab": {
          "base_uri": "https://localhost:8080/"
        },
        "id": "IiQlKPR5z099",
        "outputId": "0f742a8c-81c8-4c33-f1e2-aaa9c7eaa960"
      },
      "id": "IiQlKPR5z099",
      "execution_count": 4,
      "outputs": [
        {
          "output_type": "stream",
          "name": "stdout",
          "text": [
            "Looking in indexes: https://pypi.org/simple, https://us-python.pkg.dev/colab-wheels/public/simple/\n",
            "Requirement already satisfied: gdown in /usr/local/lib/python3.7/dist-packages (4.4.0)\n",
            "Requirement already satisfied: beautifulsoup4 in /usr/local/lib/python3.7/dist-packages (from gdown) (4.6.3)\n",
            "Requirement already satisfied: filelock in /usr/local/lib/python3.7/dist-packages (from gdown) (3.7.1)\n",
            "Requirement already satisfied: requests[socks] in /usr/local/lib/python3.7/dist-packages (from gdown) (2.23.0)\n",
            "Requirement already satisfied: six in /usr/local/lib/python3.7/dist-packages (from gdown) (1.15.0)\n",
            "Requirement already satisfied: tqdm in /usr/local/lib/python3.7/dist-packages (from gdown) (4.64.0)\n",
            "Requirement already satisfied: urllib3!=1.25.0,!=1.25.1,<1.26,>=1.21.1 in /usr/local/lib/python3.7/dist-packages (from requests[socks]->gdown) (1.24.3)\n",
            "Requirement already satisfied: chardet<4,>=3.0.2 in /usr/local/lib/python3.7/dist-packages (from requests[socks]->gdown) (3.0.4)\n",
            "Requirement already satisfied: idna<3,>=2.5 in /usr/local/lib/python3.7/dist-packages (from requests[socks]->gdown) (2.10)\n",
            "Requirement already satisfied: certifi>=2017.4.17 in /usr/local/lib/python3.7/dist-packages (from requests[socks]->gdown) (2022.6.15)\n",
            "Requirement already satisfied: PySocks!=1.5.7,>=1.5.6 in /usr/local/lib/python3.7/dist-packages (from requests[socks]->gdown) (1.7.1)\n"
          ]
        }
      ]
    },
    {
      "cell_type": "code",
      "source": [
        "!gdown https://drive.google.com/uc?id=1dFuCcqIO0_vQcNg_47Ondz3akBG1ojzb"
      ],
      "metadata": {
        "colab": {
          "base_uri": "https://localhost:8080/"
        },
        "id": "043QLPG0z6m8",
        "outputId": "e20b3397-fc6e-4abf-8463-49a8fb5c0303"
      },
      "id": "043QLPG0z6m8",
      "execution_count": 5,
      "outputs": [
        {
          "output_type": "stream",
          "name": "stdout",
          "text": [
            "Downloading...\n",
            "From: https://drive.google.com/uc?id=1dFuCcqIO0_vQcNg_47Ondz3akBG1ojzb\n",
            "To: /content/ratings_Electronics.csv\n",
            "100% 319M/319M [00:02<00:00, 141MB/s]\n"
          ]
        }
      ]
    },
    {
      "cell_type": "markdown",
      "metadata": {
        "id": "S3xZff9jLQs0"
      },
      "source": [
        "#### Consider movies rated by more than 30 users"
      ],
      "id": "S3xZff9jLQs0"
    },
    {
      "cell_type": "code",
      "execution_count": 6,
      "metadata": {
        "id": "b5ed96c4",
        "colab": {
          "base_uri": "https://localhost:8080/"
        },
        "outputId": "dd48bb87-6c2a-4e9f-a2d0-0ca3d8f3a343"
      },
      "outputs": [
        {
          "output_type": "execute_result",
          "data": {
            "text/plain": [
              "(51702, 4)"
            ]
          },
          "metadata": {},
          "execution_count": 6
        }
      ],
      "source": [
        "rating_df =pd.read_csv('ratings_Electronics.csv',  names=['userID','itemID','rating','time'])\n",
        "rating_df=rating_df[['userID','itemID','rating','time']]\n",
        "\n",
        "x = rating_df.groupby('userID').count()['rating'] >= 30\n",
        "userIndex = x[x].index\n",
        "nm_rating_df=rating_df[rating_df['userID'].isin(userIndex)]\n",
        "y = nm_rating_df.groupby('itemID').count()['rating']>=30\n",
        "items = y[y].index\n",
        "rating_df = nm_rating_df[nm_rating_df['itemID'].isin(items)]\n",
        "rating_df.shape"
      ],
      "id": "b5ed96c4"
    },
    {
      "cell_type": "code",
      "source": [
        "rating_df['rating'].hist()"
      ],
      "metadata": {
        "colab": {
          "base_uri": "https://localhost:8080/",
          "height": 283
        },
        "id": "CuYYAiayUzx5",
        "outputId": "3b851e5b-2d99-49c4-fddc-ec53e7bc2e0f"
      },
      "id": "CuYYAiayUzx5",
      "execution_count": 7,
      "outputs": [
        {
          "output_type": "execute_result",
          "data": {
            "text/plain": [
              "<matplotlib.axes._subplots.AxesSubplot at 0x7fd919194cd0>"
            ]
          },
          "metadata": {},
          "execution_count": 7
        },
        {
          "output_type": "display_data",
          "data": {
            "text/plain": [
              "<Figure size 432x288 with 1 Axes>"
            ],
            "image/png": "[encoded data removed]"
          },
          "metadata": {}
        }
      ]
    },
    {
      "cell_type": "code",
      "source": [
        "unique_users = rating_df.userID.unique()\n",
        "user_ids = dict(zip(unique_users, np.arange(unique_users.shape[0], dtype=np.int32)))\n",
        "\n",
        "unique_items = rating_df.itemID.unique()\n",
        "item_ids = dict(zip(unique_items, np.arange(unique_items.shape[0], dtype=np.int32)))"
      ],
      "metadata": {
        "id": "ntsjC8adBOiK"
      },
      "id": "ntsjC8adBOiK",
      "execution_count": 8,
      "outputs": []
    },
    {
      "cell_type": "code",
      "source": [
        "rating_df['userID'] = rating_df.userID.apply(lambda u: user_ids[u])\n",
        "rating_df['itemID'] = rating_df.itemID.apply(lambda m: item_ids[m])"
      ],
      "metadata": {
        "id": "kHLXKq06BZU8"
      },
      "id": "kHLXKq06BZU8",
      "execution_count": 9,
      "outputs": []
    },
    {
      "cell_type": "markdown",
      "source": [
        "### LightFM"
      ],
      "metadata": {
        "id": "Pkh-uS78gXic"
      },
      "id": "Pkh-uS78gXic"
    },
    {
      "cell_type": "code",
      "source": [
        "!pip install lightfm"
      ],
      "metadata": {
        "colab": {
          "base_uri": "https://localhost:8080/"
        },
        "id": "hKN0WELjgXBt",
        "outputId": "24cc811a-c7e0-4a55-d844-f65aad2c5a87"
      },
      "id": "hKN0WELjgXBt",
      "execution_count": 10,
      "outputs": [
        {
          "output_type": "stream",
          "name": "stdout",
          "text": [
            "Looking in indexes: https://pypi.org/simple, https://us-python.pkg.dev/colab-wheels/public/simple/\n",
            "Requirement already satisfied: lightfm in /usr/local/lib/python3.7/dist-packages (1.16)\n",
            "Requirement already satisfied: scipy>=0.17.0 in /usr/local/lib/python3.7/dist-packages (from lightfm) (1.7.3)\n",
            "Requirement already satisfied: requests in /usr/local/lib/python3.7/dist-packages (from lightfm) (2.23.0)\n",
            "Requirement already satisfied: numpy in /usr/local/lib/python3.7/dist-packages (from lightfm) (1.21.6)\n",
            "Requirement already satisfied: scikit-learn in /usr/local/lib/python3.7/dist-packages (from lightfm) (1.0.2)\n",
            "Requirement already satisfied: idna<3,>=2.5 in /usr/local/lib/python3.7/dist-packages (from requests->lightfm) (2.10)\n",
            "Requirement already satisfied: urllib3!=1.25.0,!=1.25.1,<1.26,>=1.21.1 in /usr/local/lib/python3.7/dist-packages (from requests->lightfm) (1.24.3)\n",
            "Requirement already satisfied: chardet<4,>=3.0.2 in /usr/local/lib/python3.7/dist-packages (from requests->lightfm) (3.0.4)\n",
            "Requirement already satisfied: certifi>=2017.4.17 in /usr/local/lib/python3.7/dist-packages (from requests->lightfm) (2022.6.15)\n",
            "Requirement already satisfied: joblib>=0.11 in /usr/local/lib/python3.7/dist-packages (from scikit-learn->lightfm) (1.1.0)\n",
            "Requirement already satisfied: threadpoolctl>=2.0.0 in /usr/local/lib/python3.7/dist-packages (from scikit-learn->lightfm) (3.1.0)\n"
          ]
        }
      ]
    },
    {
      "cell_type": "code",
      "source": [
        "import lightfm\n",
        "from lightfm import LightFM\n",
        "from lightfm.data import Dataset\n",
        "from lightfm import cross_validation\n",
        "# Import LightFM's evaluation metrics\n",
        "from lightfm.evaluation import precision_at_k \n",
        "from lightfm.evaluation import recall_at_k "
      ],
      "metadata": {
        "id": "SNLxNO3pgTHl"
      },
      "id": "SNLxNO3pgTHl",
      "execution_count": 11,
      "outputs": []
    },
    {
      "cell_type": "markdown",
      "source": [
        "### Prepare train test set"
      ],
      "metadata": {
        "id": "MQKR4CpoViU3"
      },
      "id": "MQKR4CpoViU3"
    },
    {
      "cell_type": "code",
      "source": [
        "dataset = Dataset()"
      ],
      "metadata": {
        "id": "HzuFDzf-giVE"
      },
      "id": "HzuFDzf-giVE",
      "execution_count": 12,
      "outputs": []
    },
    {
      "cell_type": "code",
      "source": [
        "dataset.fit(users=rating_df['userID'], \n",
        "            items=rating_df['itemID'])\n",
        "\n",
        "# quick check to determine the number of unique users and items in the data\n",
        "num_users, num_topics = dataset.interactions_shape()\n",
        "print(f'Num users: {num_users}, num_topics: {num_topics}.')"
      ],
      "metadata": {
        "colab": {
          "base_uri": "https://localhost:8080/"
        },
        "id": "EbYc905_glKl",
        "outputId": "37305cbd-eae6-4944-f58c-67102deba105"
      },
      "id": "EbYc905_glKl",
      "execution_count": 13,
      "outputs": [
        {
          "output_type": "stream",
          "name": "stdout",
          "text": [
            "Num users: 5176, num_topics: 919.\n"
          ]
        }
      ]
    },
    {
      "cell_type": "code",
      "source": [
        "rating_df.iloc[:, :3]"
      ],
      "metadata": {
        "colab": {
          "base_uri": "https://localhost:8080/",
          "height": 423
        },
        "id": "dp4kOcwhhC1L",
        "outputId": "aadd71bd-95ff-416b-f5c4-df7e85b1b7a9"
      },
      "id": "dp4kOcwhhC1L",
      "execution_count": 14,
      "outputs": [
        {
          "output_type": "execute_result",
          "data": {
            "text/plain": [
              "         userID  itemID  rating\n",
              "22141         0       0     4.0\n",
              "22222         1       0     5.0\n",
              "22256         2       0     5.0\n",
              "22282         3       0     5.0\n",
              "22287         4       0     5.0\n",
              "...         ...     ...     ...\n",
              "7820346    2816     918     4.0\n",
              "7820356    4152     918     5.0\n",
              "7820367    4667     918     5.0\n",
              "7820380    1358     918     3.0\n",
              "7820385    3147     918     3.0\n",
              "\n",
              "[51702 rows x 3 columns]"
            ],
            "text/html": [
              "\n",
              "  <div id=\"df-c4d96fbe-2273-4808-b32d-d93169eda5f7\">\n",
              "    <div class=\"colab-df-container\">\n",
              "      <div>\n",
              "<style scoped>\n",
              "    .dataframe tbody tr th:only-of-type {\n",
              "        vertical-align: middle;\n",
              "    }\n",
              "\n",
              "    .dataframe tbody tr th {\n",
              "        vertical-align: top;\n",
              "    }\n",
              "\n",
              "    .dataframe thead th {\n",
              "        text-align: right;\n",
              "    }\n",
              "</style>\n",
              "<table border=\"1\" class=\"dataframe\">\n",
              "  <thead>\n",
              "    <tr style=\"text-align: right;\">\n",
              "      <th></th>\n",
              "      <th>userID</th>\n",
              "      <th>itemID</th>\n",
              "      <th>rating</th>\n",
              "    </tr>\n",
              "  </thead>\n",
              "  <tbody>\n",
              "    <tr>\n",
              "      <th>22141</th>\n",
              "      <td>0</td>\n",
              "      <td>0</td>\n",
              "      <td>4.0</td>\n",
              "    </tr>\n",
              "    <tr>\n",
              "      <th>22222</th>\n",
              "      <td>1</td>\n",
              "      <td>0</td>\n",
              "      <td>5.0</td>\n",
              "    </tr>\n",
              "    <tr>\n",
              "      <th>22256</th>\n",
              "      <td>2</td>\n",
              "      <td>0</td>\n",
              "      <td>5.0</td>\n",
              "    </tr>\n",
              "    <tr>\n",
              "      <th>22282</th>\n",
              "      <td>3</td>\n",
              "      <td>0</td>\n",
              "      <td>5.0</td>\n",
              "    </tr>\n",
              "    <tr>\n",
              "      <th>22287</th>\n",
              "      <td>4</td>\n",
              "      <td>0</td>\n",
              "      <td>5.0</td>\n",
              "    </tr>\n",
              "    <tr>\n",
              "      <th>...</th>\n",
              "      <td>...</td>\n",
              "      <td>...</td>\n",
              "      <td>...</td>\n",
              "    </tr>\n",
              "    <tr>\n",
              "      <th>7820346</th>\n",
              "      <td>2816</td>\n",
              "      <td>918</td>\n",
              "      <td>4.0</td>\n",
              "    </tr>\n",
              "    <tr>\n",
              "      <th>7820356</th>\n",
              "      <td>4152</td>\n",
              "      <td>918</td>\n",
              "      <td>5.0</td>\n",
              "    </tr>\n",
              "    <tr>\n",
              "      <th>7820367</th>\n",
              "      <td>4667</td>\n",
              "      <td>918</td>\n",
              "      <td>5.0</td>\n",
              "    </tr>\n",
              "    <tr>\n",
              "      <th>7820380</th>\n",
              "      <td>1358</td>\n",
              "      <td>918</td>\n",
              "      <td>3.0</td>\n",
              "    </tr>\n",
              "    <tr>\n",
              "      <th>7820385</th>\n",
              "      <td>3147</td>\n",
              "      <td>918</td>\n",
              "      <td>3.0</td>\n",
              "    </tr>\n",
              "  </tbody>\n",
              "</table>\n",
              "<p>51702 rows × 3 columns</p>\n",
              "</div>\n",
              "      <button class=\"colab-df-convert\" onclick=\"convertToInteractive('df-c4d96fbe-2273-4808-b32d-d93169eda5f7')\"\n",
              "              title=\"Convert this dataframe to an interactive table.\"\n",
              "              style=\"display:none;\">\n",
              "        \n",
              "  <svg xmlns=\"http://www.w3.org/2000/svg\" height=\"24px\"viewBox=\"0 0 24 24\"\n",
              "       width=\"24px\">\n",
              "    <path d=\"M0 0h24v24H0V0z\" fill=\"none\"/>\n",
              "    <path d=\"M18.56 5.44l.94 2.06.94-2.06 2.06-.94-2.06-.94-.94-2.06-.94 2.06-2.06.94zm-11 1L8.5 8.5l.94-2.06 2.06-.94-2.06-.94L8.5 2.5l-.94 2.06-2.06.94zm10 10l.94 2.06.94-2.06 2.06-.94-2.06-.94-.94-2.06-.94 2.06-2.06.94z\"/><path d=\"M17.41 7.96l-1.37-1.37c-.4-.4-.92-.59-1.43-.59-.52 0-1.04.2-1.43.59L10.3 9.45l-7.72 7.72c-.78.78-.78 2.05 0 2.83L4 21.41c.39.39.9.59 1.41.59.51 0 1.02-.2 1.41-.59l7.78-7.78 2.81-2.81c.8-.78.8-2.07 0-2.86zM5.41 20L4 18.59l7.72-7.72 1.47 1.35L5.41 20z\"/>\n",
              "  </svg>\n",
              "      </button>\n",
              "      \n",
              "  <style>\n",
              "    .colab-df-container {\n",
              "      display:flex;\n",
              "      flex-wrap:wrap;\n",
              "      gap: 12px;\n",
              "    }\n",
              "\n",
              "    .colab-df-convert {\n",
              "      background-color: #E8F0FE;\n",
              "      border: none;\n",
              "      border-radius: 50%;\n",
              "      cursor: pointer;\n",
              "      display: none;\n",
              "      fill: #1967D2;\n",
              "      height: 32px;\n",
              "      padding: 0 0 0 0;\n",
              "      width: 32px;\n",
              "    }\n",
              "\n",
              "    .colab-df-convert:hover {\n",
              "      background-color: #E2EBFA;\n",
              "      box-shadow: 0px 1px 2px rgba(60, 64, 67, 0.3), 0px 1px 3px 1px rgba(60, 64, 67, 0.15);\n",
              "      fill: #174EA6;\n",
              "    }\n",
              "\n",
              "    [theme=dark] .colab-df-convert {\n",
              "      background-color: #3B4455;\n",
              "      fill: #D2E3FC;\n",
              "    }\n",
              "\n",
              "    [theme=dark] .colab-df-convert:hover {\n",
              "      background-color: #434B5C;\n",
              "      box-shadow: 0px 1px 3px 1px rgba(0, 0, 0, 0.15);\n",
              "      filter: drop-shadow(0px 1px 2px rgba(0, 0, 0, 0.3));\n",
              "      fill: #FFFFFF;\n",
              "    }\n",
              "  </style>\n",
              "\n",
              "      <script>\n",
              "        const buttonEl =\n",
              "          document.querySelector('#df-c4d96fbe-2273-4808-b32d-d93169eda5f7 button.colab-df-convert');\n",
              "        buttonEl.style.display =\n",
              "          google.colab.kernel.accessAllowed ? 'block' : 'none';\n",
              "\n",
              "        async function convertToInteractive(key) {\n",
              "          const element = document.querySelector('#df-c4d96fbe-2273-4808-b32d-d93169eda5f7');\n",
              "          const dataTable =\n",
              "            await google.colab.kernel.invokeFunction('convertToInteractive',\n",
              "                                                     [key], {});\n",
              "          if (!dataTable) return;\n",
              "\n",
              "          const docLinkHtml = 'Like what you see? Visit the ' +\n",
              "            '<a target=\"_blank\" href=https://colab.research.google.com/notebooks/data_table.ipynb>data table notebook</a>'\n",
              "            + ' to learn more about interactive tables.';\n",
              "          element.innerHTML = '';\n",
              "          dataTable['output_type'] = 'display_data';\n",
              "          await google.colab.output.renderOutput(dataTable, element);\n",
              "          const docLink = document.createElement('div');\n",
              "          docLink.innerHTML = docLinkHtml;\n",
              "          element.appendChild(docLink);\n",
              "        }\n",
              "      </script>\n",
              "    </div>\n",
              "  </div>\n",
              "  "
            ]
          },
          "metadata": {},
          "execution_count": 14
        }
      ]
    },
    {
      "cell_type": "code",
      "source": [
        "(interactions, weights) = dataset.build_interactions(rating_df.iloc[:, 0:3].values)\n"
      ],
      "metadata": {
        "id": "oDr5diXTg_4k"
      },
      "id": "oDr5diXTg_4k",
      "execution_count": 15,
      "outputs": []
    },
    {
      "cell_type": "code",
      "source": [
        "train_interactions, test_interactions = cross_validation.random_train_test_split(\n",
        "    interactions, test_percentage=.2,\n",
        "    random_state=np.random.RandomState(SEED))"
      ],
      "metadata": {
        "id": "9dPzwvDKhcG-"
      },
      "id": "9dPzwvDKhcG-",
      "execution_count": 16,
      "outputs": []
    },
    {
      "cell_type": "code",
      "source": [
        "print(f\"Shape of train interactions: {train_interactions.shape}\")\n",
        "print(f\"Shape of test interactions: {test_interactions.shape}\")"
      ],
      "metadata": {
        "colab": {
          "base_uri": "https://localhost:8080/"
        },
        "id": "osMU9n1ZhpfM",
        "outputId": "6637443d-6395-4679-8499-300e1081e672"
      },
      "id": "osMU9n1ZhpfM",
      "execution_count": 17,
      "outputs": [
        {
          "output_type": "stream",
          "name": "stdout",
          "text": [
            "Shape of train interactions: (5176, 919)\n",
            "Shape of test interactions: (5176, 919)\n"
          ]
        }
      ]
    },
    {
      "cell_type": "code",
      "source": [
        "\n",
        "# Number of recommendations\n",
        "K = 10\n",
        "# model learning rate\n",
        "LR = 0.25\n",
        "# no of latent factors\n",
        "NO_COMPONENTS = 20\n",
        "\n",
        "# no of threads to fit model\n",
        "THREADS = 32\n",
        "# regularisation for both user and item features\n",
        "ITEM_ALPHA = 1e-6\n",
        "USER_ALPHA = 1e-6\n"
      ],
      "metadata": {
        "id": "J86SJFHVhx0s"
      },
      "id": "J86SJFHVhx0s",
      "execution_count": 18,
      "outputs": []
    },
    {
      "cell_type": "code",
      "source": [
        "\n",
        "warp_model = LightFM(no_components=NO_COMPONENTS,\n",
        "                    loss='warp',\n",
        "                    learning_schedule='adagrad',\n",
        "                    max_sampled=100,\n",
        "                    user_alpha=USER_ALPHA,\n",
        "                    item_alpha=ITEM_ALPHA)\n",
        "\n",
        "bpr_model = LightFM(no_components=NO_COMPONENTS,\n",
        "                    loss='bpr',\n",
        "                    learning_schedule='adagrad',\n",
        "                    user_alpha=USER_ALPHA,\n",
        "                    item_alpha=ITEM_ALPHA)"
      ],
      "metadata": {
        "id": "dKdATbMohtsb"
      },
      "id": "dKdATbMohtsb",
      "execution_count": 19,
      "outputs": []
    },
    {
      "cell_type": "code",
      "source": [
        "from lightfm.evaluation import auc_score\n",
        "warp_duration = []\n",
        "bpr_duration = []\n",
        "warp_auc = []\n",
        "bpr_auc = []\n",
        "import time\n",
        "# no of epochs to fit model\n",
        "epochs = 20\n",
        "for epoch in range(epochs):\n",
        "    start = time.time()\n",
        "    warp_model.fit_partial(train_interactions, epochs=1)\n",
        "    warp_duration.append(time.time() - start)\n",
        "    warp_auc.append(auc_score(warp_model, test_interactions, train_interactions=train_interactions).mean())\n",
        "\n",
        "for epoch in range(epochs):\n",
        "    start = time.time()\n",
        "    bpr_model.fit_partial(train_interactions, epochs=1)\n",
        "    bpr_duration.append(time.time() - start)\n",
        "    bpr_auc.append(auc_score(bpr_model, test_interactions, train_interactions=train_interactions).mean())"
      ],
      "metadata": {
        "id": "ivPD3MjriFbz"
      },
      "id": "ivPD3MjriFbz",
      "execution_count": 20,
      "outputs": []
    },
    {
      "cell_type": "code",
      "source": [
        "x = np.arange(epochs)\n",
        "plt.plot(x, np.array(warp_auc))\n",
        "plt.plot(x, np.array(bpr_auc))\n",
        "plt.legend(['WARP AUC', 'BPR AUC'], loc='upper right')\n",
        "plt.show()"
      ],
      "metadata": {
        "colab": {
          "base_uri": "https://localhost:8080/",
          "height": 265
        },
        "id": "Hx715lojjWBC",
        "outputId": "5027cd13-1a5c-43c0-db5c-ee8abf3cd6b1"
      },
      "id": "Hx715lojjWBC",
      "execution_count": 21,
      "outputs": [
        {
          "output_type": "display_data",
          "data": {
            "text/plain": [
              "<Figure size 432x288 with 1 Axes>"
            ],
            "image/png": "[encoded data removed]"
          },
          "metadata": {}
        }
      ]
    },
    {
      "cell_type": "code",
      "source": [
        "x = np.arange(epochs)\n",
        "plt.plot(x, np.array(warp_duration))\n",
        "plt.plot(x, np.array(bpr_duration))\n",
        "plt.legend(['WARP duration', 'BPR duration'], loc='upper right')\n",
        "plt.show()"
      ],
      "metadata": {
        "colab": {
          "base_uri": "https://localhost:8080/",
          "height": 265
        },
        "id": "e5C4_HOWjZvS",
        "outputId": "0a3ad842-a184-4acc-d7c2-3869a763d3db"
      },
      "id": "e5C4_HOWjZvS",
      "execution_count": 22,
      "outputs": [
        {
          "output_type": "display_data",
          "data": {
            "text/plain": [
              "<Figure size 432x288 with 1 Axes>"
            ],
            "image/png": "[encoded data removed]"
          },
          "metadata": {}
        }
      ]
    },
    {
      "cell_type": "code",
      "source": [
        "print(\"Train precision: %.2f\" % precision_at_k(bpr_model, train_interactions, k=10).mean())\n",
        "print(\"Test precision: %.2f\" % precision_at_k(bpr_model, test_interactions, k=10).mean())"
      ],
      "metadata": {
        "colab": {
          "base_uri": "https://localhost:8080/"
        },
        "id": "9wosWEtzjmyK",
        "outputId": "05c7f354-bc52-4123-d305-ba0b24c6ba7f"
      },
      "id": "9wosWEtzjmyK",
      "execution_count": 23,
      "outputs": [
        {
          "output_type": "stream",
          "name": "stdout",
          "text": [
            "Train precision: 0.19\n",
            "Test precision: 0.01\n"
          ]
        }
      ]
    },
    {
      "cell_type": "code",
      "source": [
        "print(\"Train precision: %.2f\" % precision_at_k(warp_model, train_interactions, k=10).mean())\n",
        "print(\"Test precision: %.2f\" % precision_at_k(warp_model, test_interactions, k=10).mean())"
      ],
      "metadata": {
        "colab": {
          "base_uri": "https://localhost:8080/"
        },
        "id": "qPj-SYDuk37K",
        "outputId": "4443f08c-a310-478c-b6eb-3b0368519124"
      },
      "id": "qPj-SYDuk37K",
      "execution_count": 24,
      "outputs": [
        {
          "output_type": "stream",
          "name": "stdout",
          "text": [
            "Train precision: 0.27\n",
            "Test precision: 0.01\n"
          ]
        }
      ]
    },
    {
      "cell_type": "code",
      "source": [
        "n_users, n_items = test_interactions.shape"
      ],
      "metadata": {
        "id": "MHbteB-vlEV4"
      },
      "id": "MHbteB-vlEV4",
      "execution_count": 25,
      "outputs": []
    },
    {
      "cell_type": "code",
      "source": [
        "testuserid=0"
      ],
      "metadata": {
        "id": "TbOA_yaAvJYR"
      },
      "id": "TbOA_yaAvJYR",
      "execution_count": 26,
      "outputs": []
    },
    {
      "cell_type": "code",
      "source": [
        "rating_df"
      ],
      "metadata": {
        "colab": {
          "base_uri": "https://localhost:8080/",
          "height": 423
        },
        "id": "FBlCIx5e1TV9",
        "outputId": "60ced6d0-74cc-4122-99ea-e67a2a087ee3"
      },
      "id": "FBlCIx5e1TV9",
      "execution_count": 33,
      "outputs": [
        {
          "output_type": "execute_result",
          "data": {
            "text/plain": [
              "         userID  itemID  rating        time\n",
              "22141         0       0     4.0  1105747200\n",
              "22222         1       0     5.0  1339545600\n",
              "22256         2       0     5.0  1156982400\n",
              "22282         3       0     5.0  1220313600\n",
              "22287         4       0     5.0  1346630400\n",
              "...         ...     ...     ...         ...\n",
              "7820346    2816     918     4.0  1404086400\n",
              "7820356    4152     918     5.0  1405814400\n",
              "7820367    4667     918     5.0  1403481600\n",
              "7820380    1358     918     3.0  1404172800\n",
              "7820385    3147     918     3.0  1403827200\n",
              "\n",
              "[51702 rows x 4 columns]"
            ],
            "text/html": [
              "\n",
              "  <div id=\"df-b81da586-ffd5-4c8f-837a-8b2d793ceba3\">\n",
              "    <div class=\"colab-df-container\">\n",
              "      <div>\n",
              "<style scoped>\n",
              "    .dataframe tbody tr th:only-of-type {\n",
              "        vertical-align: middle;\n",
              "    }\n",
              "\n",
              "    .dataframe tbody tr th {\n",
              "        vertical-align: top;\n",
              "    }\n",
              "\n",
              "    .dataframe thead th {\n",
              "        text-align: right;\n",
              "    }\n",
              "</style>\n",
              "<table border=\"1\" class=\"dataframe\">\n",
              "  <thead>\n",
              "    <tr style=\"text-align: right;\">\n",
              "      <th></th>\n",
              "      <th>userID</th>\n",
              "      <th>itemID</th>\n",
              "      <th>rating</th>\n",
              "      <th>time</th>\n",
              "    </tr>\n",
              "  </thead>\n",
              "  <tbody>\n",
              "    <tr>\n",
              "      <th>22141</th>\n",
              "      <td>0</td>\n",
              "      <td>0</td>\n",
              "      <td>4.0</td>\n",
              "      <td>1105747200</td>\n",
              "    </tr>\n",
              "    <tr>\n",
              "      <th>22222</th>\n",
              "      <td>1</td>\n",
              "      <td>0</td>\n",
              "      <td>5.0</td>\n",
              "      <td>1339545600</td>\n",
              "    </tr>\n",
              "    <tr>\n",
              "      <th>22256</th>\n",
              "      <td>2</td>\n",
              "      <td>0</td>\n",
              "      <td>5.0</td>\n",
              "      <td>1156982400</td>\n",
              "    </tr>\n",
              "    <tr>\n",
              "      <th>22282</th>\n",
              "      <td>3</td>\n",
              "      <td>0</td>\n",
              "      <td>5.0</td>\n",
              "      <td>1220313600</td>\n",
              "    </tr>\n",
              "    <tr>\n",
              "      <th>22287</th>\n",
              "      <td>4</td>\n",
              "      <td>0</td>\n",
              "      <td>5.0</td>\n",
              "      <td>1346630400</td>\n",
              "    </tr>\n",
              "    <tr>\n",
              "      <th>...</th>\n",
              "      <td>...</td>\n",
              "      <td>...</td>\n",
              "      <td>...</td>\n",
              "      <td>...</td>\n",
              "    </tr>\n",
              "    <tr>\n",
              "      <th>7820346</th>\n",
              "      <td>2816</td>\n",
              "      <td>918</td>\n",
              "      <td>4.0</td>\n",
              "      <td>1404086400</td>\n",
              "    </tr>\n",
              "    <tr>\n",
              "      <th>7820356</th>\n",
              "      <td>4152</td>\n",
              "      <td>918</td>\n",
              "      <td>5.0</td>\n",
              "      <td>1405814400</td>\n",
              "    </tr>\n",
              "    <tr>\n",
              "      <th>7820367</th>\n",
              "      <td>4667</td>\n",
              "      <td>918</td>\n",
              "      <td>5.0</td>\n",
              "      <td>1403481600</td>\n",
              "    </tr>\n",
              "    <tr>\n",
              "      <th>7820380</th>\n",
              "      <td>1358</td>\n",
              "      <td>918</td>\n",
              "      <td>3.0</td>\n",
              "      <td>1404172800</td>\n",
              "    </tr>\n",
              "    <tr>\n",
              "      <th>7820385</th>\n",
              "      <td>3147</td>\n",
              "      <td>918</td>\n",
              "      <td>3.0</td>\n",
              "      <td>1403827200</td>\n",
              "    </tr>\n",
              "  </tbody>\n",
              "</table>\n",
              "<p>51702 rows × 4 columns</p>\n",
              "</div>\n",
              "      <button class=\"colab-df-convert\" onclick=\"convertToInteractive('df-b81da586-ffd5-4c8f-837a-8b2d793ceba3')\"\n",
              "              title=\"Convert this dataframe to an interactive table.\"\n",
              "              style=\"display:none;\">\n",
              "        \n",
              "  <svg xmlns=\"http://www.w3.org/2000/svg\" height=\"24px\"viewBox=\"0 0 24 24\"\n",
              "       width=\"24px\">\n",
              "    <path d=\"M0 0h24v24H0V0z\" fill=\"none\"/>\n",
              "    <path d=\"M18.56 5.44l.94 2.06.94-2.06 2.06-.94-2.06-.94-.94-2.06-.94 2.06-2.06.94zm-11 1L8.5 8.5l.94-2.06 2.06-.94-2.06-.94L8.5 2.5l-.94 2.06-2.06.94zm10 10l.94 2.06.94-2.06 2.06-.94-2.06-.94-.94-2.06-.94 2.06-2.06.94z\"/><path d=\"M17.41 7.96l-1.37-1.37c-.4-.4-.92-.59-1.43-.59-.52 0-1.04.2-1.43.59L10.3 9.45l-7.72 7.72c-.78.78-.78 2.05 0 2.83L4 21.41c.39.39.9.59 1.41.59.51 0 1.02-.2 1.41-.59l7.78-7.78 2.81-2.81c.8-.78.8-2.07 0-2.86zM5.41 20L4 18.59l7.72-7.72 1.47 1.35L5.41 20z\"/>\n",
              "  </svg>\n",
              "      </button>\n",
              "      \n",
              "  <style>\n",
              "    .colab-df-container {\n",
              "      display:flex;\n",
              "      flex-wrap:wrap;\n",
              "      gap: 12px;\n",
              "    }\n",
              "\n",
              "    .colab-df-convert {\n",
              "      background-color: #E8F0FE;\n",
              "      border: none;\n",
              "      border-radius: 50%;\n",
              "      cursor: pointer;\n",
              "      display: none;\n",
              "      fill: #1967D2;\n",
              "      height: 32px;\n",
              "      padding: 0 0 0 0;\n",
              "      width: 32px;\n",
              "    }\n",
              "\n",
              "    .colab-df-convert:hover {\n",
              "      background-color: #E2EBFA;\n",
              "      box-shadow: 0px 1px 2px rgba(60, 64, 67, 0.3), 0px 1px 3px 1px rgba(60, 64, 67, 0.15);\n",
              "      fill: #174EA6;\n",
              "    }\n",
              "\n",
              "    [theme=dark] .colab-df-convert {\n",
              "      background-color: #3B4455;\n",
              "      fill: #D2E3FC;\n",
              "    }\n",
              "\n",
              "    [theme=dark] .colab-df-convert:hover {\n",
              "      background-color: #434B5C;\n",
              "      box-shadow: 0px 1px 3px 1px rgba(0, 0, 0, 0.15);\n",
              "      filter: drop-shadow(0px 1px 2px rgba(0, 0, 0, 0.3));\n",
              "      fill: #FFFFFF;\n",
              "    }\n",
              "  </style>\n",
              "\n",
              "      <script>\n",
              "        const buttonEl =\n",
              "          document.querySelector('#df-b81da586-ffd5-4c8f-837a-8b2d793ceba3 button.colab-df-convert');\n",
              "        buttonEl.style.display =\n",
              "          google.colab.kernel.accessAllowed ? 'block' : 'none';\n",
              "\n",
              "        async function convertToInteractive(key) {\n",
              "          const element = document.querySelector('#df-b81da586-ffd5-4c8f-837a-8b2d793ceba3');\n",
              "          const dataTable =\n",
              "            await google.colab.kernel.invokeFunction('convertToInteractive',\n",
              "                                                     [key], {});\n",
              "          if (!dataTable) return;\n",
              "\n",
              "          const docLinkHtml = 'Like what you see? Visit the ' +\n",
              "            '<a target=\"_blank\" href=https://colab.research.google.com/notebooks/data_table.ipynb>data table notebook</a>'\n",
              "            + ' to learn more about interactive tables.';\n",
              "          element.innerHTML = '';\n",
              "          dataTable['output_type'] = 'display_data';\n",
              "          await google.colab.output.renderOutput(dataTable, element);\n",
              "          const docLink = document.createElement('div');\n",
              "          docLink.innerHTML = docLinkHtml;\n",
              "          element.appendChild(docLink);\n",
              "        }\n",
              "      </script>\n",
              "    </div>\n",
              "  </div>\n",
              "  "
            ]
          },
          "metadata": {},
          "execution_count": 33
        }
      ]
    },
    {
      "cell_type": "code",
      "source": [
        "listofalreadyavailableitrems=list(rating_df[rating_df['userID']==testuserid].itemID.values)\n",
        "unique_items_list=list( rating_df.itemID.unique())\n",
        "itemsnotexplored=main_list = list(set(unique_items_list) - set( listofalreadyavailableitrems))\n",
        "itemsnotexplored=np.array(itemsnotexplored)"
      ],
      "metadata": {
        "id": "HfnIW8E2tdYz"
      },
      "id": "HfnIW8E2tdYz",
      "execution_count": 34,
      "outputs": []
    },
    {
      "cell_type": "code",
      "source": [
        "items=itemsnotexplored.shape[0]\n",
        "userarray=np.empty(items)\n",
        "userarray.fill(testuserid)"
      ],
      "metadata": {
        "id": "_oMiP9mYt7Kn"
      },
      "id": "_oMiP9mYt7Kn",
      "execution_count": 35,
      "outputs": []
    },
    {
      "cell_type": "code",
      "source": [
        "score=bpr_model.predict(userarray,\n",
        "                      itemsnotexplored\n",
        "                     )"
      ],
      "metadata": {
        "id": "UaNad2flm7Sa"
      },
      "id": "UaNad2flm7Sa",
      "execution_count": 36,
      "outputs": []
    },
    {
      "cell_type": "code",
      "source": [
        "ind=score.argsort()[-10:][::-1]\n",
        "ind"
      ],
      "metadata": {
        "colab": {
          "base_uri": "https://localhost:8080/"
        },
        "id": "Zo2J5OZBz6kl",
        "outputId": "ba4cbc70-b865-49c6-8a22-5590666d5a86"
      },
      "id": "Zo2J5OZBz6kl",
      "execution_count": 38,
      "outputs": [
        {
          "output_type": "execute_result",
          "data": {
            "text/plain": [
              "array([302,  10,  33, 311, 109, 236, 493,  53, 287, 597])"
            ]
          },
          "metadata": {},
          "execution_count": 38
        }
      ]
    }
  ],
  "metadata": {
    "accelerator": "GPU",
    "colab": {
      "collapsed_sections": [],
      "name": "amazon_product_LightFM.ipynb",
      "provenance": [],
      "machine_shape": "hm"
    },
    "gpuClass": "standard",
    "kernelspec": {
      "display_name": "Python 3",
      "language": "python",
      "name": "python3"
    },
    "language_info": {
      "codemirror_mode": {
        "name": "ipython",
        "version": 3
      },
      "file_extension": ".py",
      "mimetype": "text/x-python",
      "name": "python",
      "nbconvert_exporter": "python",
      "pygments_lexer": "ipython3",
      "version": "3.6.5"
    }
  },
  "nbformat": 4,
  "nbformat_minor": 5
}
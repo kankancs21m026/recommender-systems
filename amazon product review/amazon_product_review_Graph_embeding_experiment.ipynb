{
  "cells": [
    {
      "cell_type": "code",
      "execution_count": 1,
      "metadata": {
        "id": "5b97d650"
      },
      "outputs": [],
      "source": [
        "import warnings\n",
        "warnings.filterwarnings(\"ignore\")"
      ],
      "id": "5b97d650"
    },
    {
      "cell_type": "code",
      "execution_count": 2,
      "metadata": {
        "id": "519937e0"
      },
      "outputs": [],
      "source": [
        "from datetime import datetime\n",
        "import os\n",
        "import matplotlib\n",
        "import pandas as pd\n",
        "import numpy as np\n",
        "import matplotlib.pyplot as plt\n",
        "import seaborn as sns\n",
        "sns.set_style('whitegrid')\n",
        "\n",
        "from scipy import sparse\n",
        "from scipy.sparse import csc_matrix\n",
        "from sklearn.decomposition import TruncatedSVD\n",
        "import random\n",
        "random.seed(0)\n",
        "np.random.seed(0)"
      ],
      "id": "519937e0"
    },
    {
      "cell_type": "markdown",
      "metadata": {
        "id": "1ac47295"
      },
      "source": [
        "## Analyse Dataset"
      ],
      "id": "1ac47295"
    },
    {
      "cell_type": "markdown",
      "metadata": {
        "id": "474dfab9"
      },
      "source": [
        "### Amazon product review   Dataset\n",
        "- https://www.kaggle.com/datasets/saurav9786/amazon-product-reviews?resource=download"
      ],
      "id": "474dfab9"
    },
    {
      "cell_type": "code",
      "source": [
        "!pip install gdown"
      ],
      "metadata": {
        "colab": {
          "base_uri": "https://localhost:8080/"
        },
        "id": "IiQlKPR5z099",
        "outputId": "21686d82-ae28-4e47-d013-8d39f6818941"
      },
      "id": "IiQlKPR5z099",
      "execution_count": 3,
      "outputs": [
        {
          "output_type": "stream",
          "name": "stdout",
          "text": [
            "Looking in indexes: https://pypi.org/simple, https://us-python.pkg.dev/colab-wheels/public/simple/\n",
            "Requirement already satisfied: gdown in /usr/local/lib/python3.7/dist-packages (4.4.0)\n",
            "Requirement already satisfied: beautifulsoup4 in /usr/local/lib/python3.7/dist-packages (from gdown) (4.6.3)\n",
            "Requirement already satisfied: tqdm in /usr/local/lib/python3.7/dist-packages (from gdown) (4.64.0)\n",
            "Requirement already satisfied: filelock in /usr/local/lib/python3.7/dist-packages (from gdown) (3.7.1)\n",
            "Requirement already satisfied: six in /usr/local/lib/python3.7/dist-packages (from gdown) (1.15.0)\n",
            "Requirement already satisfied: requests[socks] in /usr/local/lib/python3.7/dist-packages (from gdown) (2.23.0)\n",
            "Requirement already satisfied: urllib3!=1.25.0,!=1.25.1,<1.26,>=1.21.1 in /usr/local/lib/python3.7/dist-packages (from requests[socks]->gdown) (1.24.3)\n",
            "Requirement already satisfied: idna<3,>=2.5 in /usr/local/lib/python3.7/dist-packages (from requests[socks]->gdown) (2.10)\n",
            "Requirement already satisfied: certifi>=2017.4.17 in /usr/local/lib/python3.7/dist-packages (from requests[socks]->gdown) (2022.6.15)\n",
            "Requirement already satisfied: chardet<4,>=3.0.2 in /usr/local/lib/python3.7/dist-packages (from requests[socks]->gdown) (3.0.4)\n",
            "Requirement already satisfied: PySocks!=1.5.7,>=1.5.6 in /usr/local/lib/python3.7/dist-packages (from requests[socks]->gdown) (1.7.1)\n"
          ]
        }
      ]
    },
    {
      "cell_type": "code",
      "source": [
        "!gdown https://drive.google.com/uc?id=1dFuCcqIO0_vQcNg_47Ondz3akBG1ojzb"
      ],
      "metadata": {
        "colab": {
          "base_uri": "https://localhost:8080/"
        },
        "id": "043QLPG0z6m8",
        "outputId": "fa618d34-9502-4901-d9c5-240d07cd63f7"
      },
      "id": "043QLPG0z6m8",
      "execution_count": 4,
      "outputs": [
        {
          "output_type": "stream",
          "name": "stdout",
          "text": [
            "Downloading...\n",
            "From: https://drive.google.com/uc?id=1dFuCcqIO0_vQcNg_47Ondz3akBG1ojzb\n",
            "To: /content/ratings_Electronics.csv\n",
            "100% 319M/319M [00:01<00:00, 228MB/s]\n"
          ]
        }
      ]
    },
    {
      "cell_type": "markdown",
      "metadata": {
        "id": "S3xZff9jLQs0"
      },
      "source": [
        "#### Consider movies rated by more than 200 users"
      ],
      "id": "S3xZff9jLQs0"
    },
    {
      "cell_type": "code",
      "execution_count": 5,
      "metadata": {
        "id": "b5ed96c4",
        "colab": {
          "base_uri": "https://localhost:8080/"
        },
        "outputId": "52af477f-ed33-4330-f9ee-b59dc404c250"
      },
      "outputs": [
        {
          "output_type": "execute_result",
          "data": {
            "text/plain": [
              "(51702, 4)"
            ]
          },
          "metadata": {},
          "execution_count": 5
        }
      ],
      "source": [
        "rating_df =pd.read_csv('ratings_Electronics.csv',  names=['userId','item','rating','time'])\n",
        "rating_df=rating_df[['userId','item','rating','time']]\n",
        "\n",
        "x = rating_df.groupby('userId').count()['rating'] >= 30\n",
        "userIndex = x[x].index\n",
        "nm_rating_df=rating_df[rating_df['userId'].isin(userIndex)]\n",
        "y = nm_rating_df.groupby('item').count()['rating']>=30\n",
        "items = y[y].index\n",
        "rating_df = nm_rating_df[nm_rating_df['item'].isin(items)]\n",
        "rating_df.shape"
      ],
      "id": "b5ed96c4"
    },
    {
      "cell_type": "code",
      "source": [
        "rating_df['rating'].hist()"
      ],
      "metadata": {
        "colab": {
          "base_uri": "https://localhost:8080/",
          "height": 282
        },
        "id": "CuYYAiayUzx5",
        "outputId": "5305adb8-d923-405c-b97a-75b7f85ba49a"
      },
      "id": "CuYYAiayUzx5",
      "execution_count": 6,
      "outputs": [
        {
          "output_type": "execute_result",
          "data": {
            "text/plain": [
              "<matplotlib.axes._subplots.AxesSubplot at 0x7fc1cc7e1250>"
            ]
          },
          "metadata": {},
          "execution_count": 6
        },
        {
          "output_type": "display_data",
          "data": {
            "text/plain": [
              "<Figure size 432x288 with 1 Axes>"
            ],
            "image/png": "[encoded data removed]"
          },
          "metadata": {}
        }
      ]
    },
    {
      "cell_type": "markdown",
      "source": [
        "### Prepare train test set"
      ],
      "metadata": {
        "id": "MQKR4CpoViU3"
      },
      "id": "MQKR4CpoViU3"
    },
    {
      "cell_type": "code",
      "source": [
        "final_ratings=rating_df.sort_values(by=['userId','time','rating'], ascending=[False,False,False]) \n",
        "final_ratings.shape"
      ],
      "metadata": {
        "colab": {
          "base_uri": "https://localhost:8080/"
        },
        "id": "dF2_HqTcVdrp",
        "outputId": "1a14332d-5d7f-4ec4-b44e-3590d2f8705a"
      },
      "id": "dF2_HqTcVdrp",
      "execution_count": 7,
      "outputs": [
        {
          "output_type": "execute_result",
          "data": {
            "text/plain": [
              "(51702, 4)"
            ]
          },
          "metadata": {},
          "execution_count": 7
        }
      ]
    },
    {
      "cell_type": "code",
      "source": [
        "test_df=final_ratings.groupby('userId').head(10)\n",
        "test_df.shape"
      ],
      "metadata": {
        "colab": {
          "base_uri": "https://localhost:8080/"
        },
        "id": "1Z-8XJaHVfng",
        "outputId": "6226ef5b-6aa8-4bf9-9d4b-0f65d397238e"
      },
      "id": "1Z-8XJaHVfng",
      "execution_count": 8,
      "outputs": [
        {
          "output_type": "execute_result",
          "data": {
            "text/plain": [
              "(37368, 4)"
            ]
          },
          "metadata": {},
          "execution_count": 8
        }
      ]
    },
    {
      "cell_type": "code",
      "source": [
        "final_ratings=final_ratings[~final_ratings.isin(test_df).all(1)]\n",
        "final_ratings.shape"
      ],
      "metadata": {
        "colab": {
          "base_uri": "https://localhost:8080/"
        },
        "id": "CCiSEJelVhMS",
        "outputId": "56f3fa92-f728-4146-f0fa-54e717645a53"
      },
      "id": "CCiSEJelVhMS",
      "execution_count": 9,
      "outputs": [
        {
          "output_type": "execute_result",
          "data": {
            "text/plain": [
              "(14334, 4)"
            ]
          },
          "metadata": {},
          "execution_count": 9
        }
      ]
    },
    {
      "cell_type": "code",
      "execution_count": 10,
      "metadata": {
        "colab": {
          "base_uri": "https://localhost:8080/",
          "height": 81
        },
        "id": "Eb8yhjYyMUds",
        "outputId": "4bc66440-39ce-4a51-fb1a-581bd2df50bd"
      },
      "outputs": [
        {
          "output_type": "execute_result",
          "data": {
            "text/plain": [
              "                source      target  weights\n",
              "1948777  AZYJE40XW6MFG  B001E1Y5O6      5.0"
            ],
            "text/html": [
              "\n",
              "  <div id=\"df-04e95ea5-1855-403b-bf5e-0be60ccf4378\">\n",
              "    <div class=\"colab-df-container\">\n",
              "      <div>\n",
              "<style scoped>\n",
              "    .dataframe tbody tr th:only-of-type {\n",
              "        vertical-align: middle;\n",
              "    }\n",
              "\n",
              "    .dataframe tbody tr th {\n",
              "        vertical-align: top;\n",
              "    }\n",
              "\n",
              "    .dataframe thead th {\n",
              "        text-align: right;\n",
              "    }\n",
              "</style>\n",
              "<table border=\"1\" class=\"dataframe\">\n",
              "  <thead>\n",
              "    <tr style=\"text-align: right;\">\n",
              "      <th></th>\n",
              "      <th>source</th>\n",
              "      <th>target</th>\n",
              "      <th>weights</th>\n",
              "    </tr>\n",
              "  </thead>\n",
              "  <tbody>\n",
              "    <tr>\n",
              "      <th>1948777</th>\n",
              "      <td>AZYJE40XW6MFG</td>\n",
              "      <td>B001E1Y5O6</td>\n",
              "      <td>5.0</td>\n",
              "    </tr>\n",
              "  </tbody>\n",
              "</table>\n",
              "</div>\n",
              "      <button class=\"colab-df-convert\" onclick=\"convertToInteractive('df-04e95ea5-1855-403b-bf5e-0be60ccf4378')\"\n",
              "              title=\"Convert this dataframe to an interactive table.\"\n",
              "              style=\"display:none;\">\n",
              "        \n",
              "  <svg xmlns=\"http://www.w3.org/2000/svg\" height=\"24px\"viewBox=\"0 0 24 24\"\n",
              "       width=\"24px\">\n",
              "    <path d=\"M0 0h24v24H0V0z\" fill=\"none\"/>\n",
              "    <path d=\"M18.56 5.44l.94 2.06.94-2.06 2.06-.94-2.06-.94-.94-2.06-.94 2.06-2.06.94zm-11 1L8.5 8.5l.94-2.06 2.06-.94-2.06-.94L8.5 2.5l-.94 2.06-2.06.94zm10 10l.94 2.06.94-2.06 2.06-.94-2.06-.94-.94-2.06-.94 2.06-2.06.94z\"/><path d=\"M17.41 7.96l-1.37-1.37c-.4-.4-.92-.59-1.43-.59-.52 0-1.04.2-1.43.59L10.3 9.45l-7.72 7.72c-.78.78-.78 2.05 0 2.83L4 21.41c.39.39.9.59 1.41.59.51 0 1.02-.2 1.41-.59l7.78-7.78 2.81-2.81c.8-.78.8-2.07 0-2.86zM5.41 20L4 18.59l7.72-7.72 1.47 1.35L5.41 20z\"/>\n",
              "  </svg>\n",
              "      </button>\n",
              "      \n",
              "  <style>\n",
              "    .colab-df-container {\n",
              "      display:flex;\n",
              "      flex-wrap:wrap;\n",
              "      gap: 12px;\n",
              "    }\n",
              "\n",
              "    .colab-df-convert {\n",
              "      background-color: #E8F0FE;\n",
              "      border: none;\n",
              "      border-radius: 50%;\n",
              "      cursor: pointer;\n",
              "      display: none;\n",
              "      fill: #1967D2;\n",
              "      height: 32px;\n",
              "      padding: 0 0 0 0;\n",
              "      width: 32px;\n",
              "    }\n",
              "\n",
              "    .colab-df-convert:hover {\n",
              "      background-color: #E2EBFA;\n",
              "      box-shadow: 0px 1px 2px rgba(60, 64, 67, 0.3), 0px 1px 3px 1px rgba(60, 64, 67, 0.15);\n",
              "      fill: #174EA6;\n",
              "    }\n",
              "\n",
              "    [theme=dark] .colab-df-convert {\n",
              "      background-color: #3B4455;\n",
              "      fill: #D2E3FC;\n",
              "    }\n",
              "\n",
              "    [theme=dark] .colab-df-convert:hover {\n",
              "      background-color: #434B5C;\n",
              "      box-shadow: 0px 1px 3px 1px rgba(0, 0, 0, 0.15);\n",
              "      filter: drop-shadow(0px 1px 2px rgba(0, 0, 0, 0.3));\n",
              "      fill: #FFFFFF;\n",
              "    }\n",
              "  </style>\n",
              "\n",
              "      <script>\n",
              "        const buttonEl =\n",
              "          document.querySelector('#df-04e95ea5-1855-403b-bf5e-0be60ccf4378 button.colab-df-convert');\n",
              "        buttonEl.style.display =\n",
              "          google.colab.kernel.accessAllowed ? 'block' : 'none';\n",
              "\n",
              "        async function convertToInteractive(key) {\n",
              "          const element = document.querySelector('#df-04e95ea5-1855-403b-bf5e-0be60ccf4378');\n",
              "          const dataTable =\n",
              "            await google.colab.kernel.invokeFunction('convertToInteractive',\n",
              "                                                     [key], {});\n",
              "          if (!dataTable) return;\n",
              "\n",
              "          const docLinkHtml = 'Like what you see? Visit the ' +\n",
              "            '<a target=\"_blank\" href=https://colab.research.google.com/notebooks/data_table.ipynb>data table notebook</a>'\n",
              "            + ' to learn more about interactive tables.';\n",
              "          element.innerHTML = '';\n",
              "          dataTable['output_type'] = 'display_data';\n",
              "          await google.colab.output.renderOutput(dataTable, element);\n",
              "          const docLink = document.createElement('div');\n",
              "          docLink.innerHTML = docLinkHtml;\n",
              "          element.appendChild(docLink);\n",
              "        }\n",
              "      </script>\n",
              "    </div>\n",
              "  </div>\n",
              "  "
            ]
          },
          "metadata": {},
          "execution_count": 10
        }
      ],
      "source": [
        "graph_df=final_ratings\n",
        "graph_df=graph_df[['userId','item','rating']]\n",
        "graph_df.columns = ['source', 'target', 'weights']\n",
        "graph_df.head(1)"
      ],
      "id": "Eb8yhjYyMUds"
    },
    {
      "cell_type": "code",
      "execution_count": 11,
      "metadata": {
        "colab": {
          "base_uri": "https://localhost:8080/",
          "height": 81
        },
        "id": "rVkfxjQQQ1bt",
        "outputId": "3ad27eb6-c695-4cc8-a0ab-d5ae1be69c84"
      },
      "outputs": [
        {
          "output_type": "execute_result",
          "data": {
            "text/plain": [
              "                userId        item  rating        time\n",
              "2307829  AZZYW4YOE1B6E  B001TH7GUA     5.0  1404172800"
            ],
            "text/html": [
              "\n",
              "  <div id=\"df-1248a9d6-7285-46d2-b5d9-9ff4e8f6475c\">\n",
              "    <div class=\"colab-df-container\">\n",
              "      <div>\n",
              "<style scoped>\n",
              "    .dataframe tbody tr th:only-of-type {\n",
              "        vertical-align: middle;\n",
              "    }\n",
              "\n",
              "    .dataframe tbody tr th {\n",
              "        vertical-align: top;\n",
              "    }\n",
              "\n",
              "    .dataframe thead th {\n",
              "        text-align: right;\n",
              "    }\n",
              "</style>\n",
              "<table border=\"1\" class=\"dataframe\">\n",
              "  <thead>\n",
              "    <tr style=\"text-align: right;\">\n",
              "      <th></th>\n",
              "      <th>userId</th>\n",
              "      <th>item</th>\n",
              "      <th>rating</th>\n",
              "      <th>time</th>\n",
              "    </tr>\n",
              "  </thead>\n",
              "  <tbody>\n",
              "    <tr>\n",
              "      <th>2307829</th>\n",
              "      <td>AZZYW4YOE1B6E</td>\n",
              "      <td>B001TH7GUA</td>\n",
              "      <td>5.0</td>\n",
              "      <td>1404172800</td>\n",
              "    </tr>\n",
              "  </tbody>\n",
              "</table>\n",
              "</div>\n",
              "      <button class=\"colab-df-convert\" onclick=\"convertToInteractive('df-1248a9d6-7285-46d2-b5d9-9ff4e8f6475c')\"\n",
              "              title=\"Convert this dataframe to an interactive table.\"\n",
              "              style=\"display:none;\">\n",
              "        \n",
              "  <svg xmlns=\"http://www.w3.org/2000/svg\" height=\"24px\"viewBox=\"0 0 24 24\"\n",
              "       width=\"24px\">\n",
              "    <path d=\"M0 0h24v24H0V0z\" fill=\"none\"/>\n",
              "    <path d=\"M18.56 5.44l.94 2.06.94-2.06 2.06-.94-2.06-.94-.94-2.06-.94 2.06-2.06.94zm-11 1L8.5 8.5l.94-2.06 2.06-.94-2.06-.94L8.5 2.5l-.94 2.06-2.06.94zm10 10l.94 2.06.94-2.06 2.06-.94-2.06-.94-.94-2.06-.94 2.06-2.06.94z\"/><path d=\"M17.41 7.96l-1.37-1.37c-.4-.4-.92-.59-1.43-.59-.52 0-1.04.2-1.43.59L10.3 9.45l-7.72 7.72c-.78.78-.78 2.05 0 2.83L4 21.41c.39.39.9.59 1.41.59.51 0 1.02-.2 1.41-.59l7.78-7.78 2.81-2.81c.8-.78.8-2.07 0-2.86zM5.41 20L4 18.59l7.72-7.72 1.47 1.35L5.41 20z\"/>\n",
              "  </svg>\n",
              "      </button>\n",
              "      \n",
              "  <style>\n",
              "    .colab-df-container {\n",
              "      display:flex;\n",
              "      flex-wrap:wrap;\n",
              "      gap: 12px;\n",
              "    }\n",
              "\n",
              "    .colab-df-convert {\n",
              "      background-color: #E8F0FE;\n",
              "      border: none;\n",
              "      border-radius: 50%;\n",
              "      cursor: pointer;\n",
              "      display: none;\n",
              "      fill: #1967D2;\n",
              "      height: 32px;\n",
              "      padding: 0 0 0 0;\n",
              "      width: 32px;\n",
              "    }\n",
              "\n",
              "    .colab-df-convert:hover {\n",
              "      background-color: #E2EBFA;\n",
              "      box-shadow: 0px 1px 2px rgba(60, 64, 67, 0.3), 0px 1px 3px 1px rgba(60, 64, 67, 0.15);\n",
              "      fill: #174EA6;\n",
              "    }\n",
              "\n",
              "    [theme=dark] .colab-df-convert {\n",
              "      background-color: #3B4455;\n",
              "      fill: #D2E3FC;\n",
              "    }\n",
              "\n",
              "    [theme=dark] .colab-df-convert:hover {\n",
              "      background-color: #434B5C;\n",
              "      box-shadow: 0px 1px 3px 1px rgba(0, 0, 0, 0.15);\n",
              "      filter: drop-shadow(0px 1px 2px rgba(0, 0, 0, 0.3));\n",
              "      fill: #FFFFFF;\n",
              "    }\n",
              "  </style>\n",
              "\n",
              "      <script>\n",
              "        const buttonEl =\n",
              "          document.querySelector('#df-1248a9d6-7285-46d2-b5d9-9ff4e8f6475c button.colab-df-convert');\n",
              "        buttonEl.style.display =\n",
              "          google.colab.kernel.accessAllowed ? 'block' : 'none';\n",
              "\n",
              "        async function convertToInteractive(key) {\n",
              "          const element = document.querySelector('#df-1248a9d6-7285-46d2-b5d9-9ff4e8f6475c');\n",
              "          const dataTable =\n",
              "            await google.colab.kernel.invokeFunction('convertToInteractive',\n",
              "                                                     [key], {});\n",
              "          if (!dataTable) return;\n",
              "\n",
              "          const docLinkHtml = 'Like what you see? Visit the ' +\n",
              "            '<a target=\"_blank\" href=https://colab.research.google.com/notebooks/data_table.ipynb>data table notebook</a>'\n",
              "            + ' to learn more about interactive tables.';\n",
              "          element.innerHTML = '';\n",
              "          dataTable['output_type'] = 'display_data';\n",
              "          await google.colab.output.renderOutput(dataTable, element);\n",
              "          const docLink = document.createElement('div');\n",
              "          docLink.innerHTML = docLinkHtml;\n",
              "          element.appendChild(docLink);\n",
              "        }\n",
              "      </script>\n",
              "    </div>\n",
              "  </div>\n",
              "  "
            ]
          },
          "metadata": {},
          "execution_count": 11
        }
      ],
      "source": [
        "test_df.head(1)"
      ],
      "id": "rVkfxjQQQ1bt"
    },
    {
      "cell_type": "markdown",
      "metadata": {
        "id": "9f9f320a"
      },
      "source": [
        "## Graph Embeddings\n"
      ],
      "id": "9f9f320a"
    },
    {
      "cell_type": "markdown",
      "metadata": {
        "id": "0BUugAh_Pydg"
      },
      "source": [
        "#### Install packages"
      ],
      "id": "0BUugAh_Pydg"
    },
    {
      "cell_type": "code",
      "execution_count": null,
      "metadata": {
        "id": "9YS8nKMqXr4S"
      },
      "outputs": [],
      "source": [
        "!pip install networkx\n",
        "!pip install stellargraph\n",
        "!pip install gensim"
      ],
      "id": "9YS8nKMqXr4S"
    },
    {
      "cell_type": "markdown",
      "metadata": {
        "id": "ef0c2076"
      },
      "source": [
        "###  Step1: Create the rating matrix with rows as movies and columns as users."
      ],
      "id": "ef0c2076"
    },
    {
      "cell_type": "code",
      "execution_count": 13,
      "metadata": {
        "id": "3c06fd0b"
      },
      "outputs": [],
      "source": [
        "import networkx as nx"
      ],
      "id": "3c06fd0b"
    },
    {
      "cell_type": "markdown",
      "metadata": {
        "id": "c3901da0"
      },
      "source": [
        "### Create a weighted graph of user Item using python library networkx, stellargraph\n",
        "- https://snap.stanford.edu/node2vec/\n",
        "- https://github.com/aditya-grover/node2vec\n",
        "\n",
        "- https://towardsdatascience.com/complete-guide-to-understanding-node2vec-algorithm-4e9a35e5d147\n",
        "- https://towardsdatascience.com/node2vec-explained-db86a319e9ab\n",
        "- https://github.com/stellargraph/stellargraph"
      ],
      "id": "c3901da0"
    },
    {
      "cell_type": "code",
      "execution_count": 14,
      "metadata": {
        "id": "3316aeac"
      },
      "outputs": [],
      "source": [
        "from stellargraph.data import BiasedRandomWalk\n",
        "from stellargraph import StellarGraph"
      ],
      "id": "3316aeac"
    },
    {
      "cell_type": "code",
      "execution_count": 15,
      "metadata": {
        "id": "bbf1fc08"
      },
      "outputs": [],
      "source": [
        "G = StellarGraph(edges=graph_df)"
      ],
      "id": "bbf1fc08"
    },
    {
      "cell_type": "code",
      "execution_count": 16,
      "metadata": {
        "colab": {
          "base_uri": "https://localhost:8080/"
        },
        "id": "3a57a686",
        "outputId": "773a0ad8-e4aa-4bd8-aada-0cae3d29f9ab"
      },
      "outputs": [
        {
          "output_type": "stream",
          "name": "stdout",
          "text": [
            "Number of random walks: 26570\n"
          ]
        }
      ],
      "source": [
        "rw = BiasedRandomWalk(G)\n",
        "\n",
        "walks = rw.run(\n",
        "    nodes=list(G.nodes()),  # root nodes\n",
        "    length=80,  # maximum length of a random walk\n",
        "    n=10,  # number of random walks per root node\n",
        "    p=0.5,  # Defines (unormalised) probability, 1/p, of returning to source node\n",
        "    q=2.0,  # Defines (unormalised) probability, 1/q, for moving away from source node\n",
        ")\n",
        "print(\"Number of random walks: {}\".format(len(walks)))"
      ],
      "id": "3a57a686"
    },
    {
      "cell_type": "markdown",
      "metadata": {
        "id": "bYtJs7YrKdc6"
      },
      "source": [
        "#### compute random walk"
      ],
      "id": "bYtJs7YrKdc6"
    },
    {
      "cell_type": "code",
      "execution_count": 17,
      "metadata": {
        "id": "763a0e87"
      },
      "outputs": [],
      "source": [
        "\n",
        "from gensim.models import Word2Vec\n",
        "\n",
        "str_walks = [[str(n) for n in walk] for walk in walks]\n",
        "model = Word2Vec(str_walks, size=128, window=5, min_count=0, sg=1, workers=2, iter=1)"
      ],
      "id": "763a0e87"
    },
    {
      "cell_type": "markdown",
      "metadata": {
        "id": "tXWemSv2Kj3a"
      },
      "source": [
        "#### Save model and use for recommendation"
      ],
      "id": "tXWemSv2Kj3a"
    },
    {
      "cell_type": "code",
      "execution_count": 18,
      "metadata": {
        "id": "E1Nzw7age_65"
      },
      "outputs": [],
      "source": [
        "model.save(\"word2vec.model\")"
      ],
      "id": "E1Nzw7age_65"
    },
    {
      "cell_type": "code",
      "execution_count": 19,
      "metadata": {
        "id": "65U_zzf7fIpG"
      },
      "outputs": [],
      "source": [
        "model = Word2Vec.load(\"word2vec.model\")"
      ],
      "id": "65U_zzf7fIpG"
    },
    {
      "cell_type": "code",
      "execution_count": 20,
      "metadata": {
        "id": "E8n_KWZxfS9X"
      },
      "outputs": [],
      "source": [
        "node_embeddings= model.wv"
      ],
      "id": "E8n_KWZxfS9X"
    },
    {
      "cell_type": "code",
      "execution_count": 21,
      "metadata": {
        "id": "RPNicdnpgDgw"
      },
      "outputs": [],
      "source": [
        "import networkx as nx"
      ],
      "id": "RPNicdnpgDgw"
    },
    {
      "cell_type": "code",
      "execution_count": 22,
      "metadata": {
        "colab": {
          "base_uri": "https://localhost:8080/",
          "height": 206
        },
        "id": "rsr_7hJVgFh9",
        "outputId": "a4dbfcd7-4c44-4f48-d8d4-05827b3712f2"
      },
      "outputs": [
        {
          "output_type": "execute_result",
          "data": {
            "text/plain": [
              "                source      target  weights\n",
              "1948777  AZYJE40XW6MFG  B001E1Y5O6      5.0\n",
              "2331440  AZYJE40XW6MFG  B001TZWNF0      5.0\n",
              "327285   AZYJE40XW6MFG  B0000BVYTV      4.0\n",
              "518115   AZYJE40XW6MFG  B0002Y5WZM      5.0\n",
              "453184   AZYJE40XW6MFG  B0002CPBWI      5.0"
            ],
            "text/html": [
              "\n",
              "  <div id=\"df-29673942-bb63-453d-8ef6-8d08d9d09cdc\">\n",
              "    <div class=\"colab-df-container\">\n",
              "      <div>\n",
              "<style scoped>\n",
              "    .dataframe tbody tr th:only-of-type {\n",
              "        vertical-align: middle;\n",
              "    }\n",
              "\n",
              "    .dataframe tbody tr th {\n",
              "        vertical-align: top;\n",
              "    }\n",
              "\n",
              "    .dataframe thead th {\n",
              "        text-align: right;\n",
              "    }\n",
              "</style>\n",
              "<table border=\"1\" class=\"dataframe\">\n",
              "  <thead>\n",
              "    <tr style=\"text-align: right;\">\n",
              "      <th></th>\n",
              "      <th>source</th>\n",
              "      <th>target</th>\n",
              "      <th>weights</th>\n",
              "    </tr>\n",
              "  </thead>\n",
              "  <tbody>\n",
              "    <tr>\n",
              "      <th>1948777</th>\n",
              "      <td>AZYJE40XW6MFG</td>\n",
              "      <td>B001E1Y5O6</td>\n",
              "      <td>5.0</td>\n",
              "    </tr>\n",
              "    <tr>\n",
              "      <th>2331440</th>\n",
              "      <td>AZYJE40XW6MFG</td>\n",
              "      <td>B001TZWNF0</td>\n",
              "      <td>5.0</td>\n",
              "    </tr>\n",
              "    <tr>\n",
              "      <th>327285</th>\n",
              "      <td>AZYJE40XW6MFG</td>\n",
              "      <td>B0000BVYTV</td>\n",
              "      <td>4.0</td>\n",
              "    </tr>\n",
              "    <tr>\n",
              "      <th>518115</th>\n",
              "      <td>AZYJE40XW6MFG</td>\n",
              "      <td>B0002Y5WZM</td>\n",
              "      <td>5.0</td>\n",
              "    </tr>\n",
              "    <tr>\n",
              "      <th>453184</th>\n",
              "      <td>AZYJE40XW6MFG</td>\n",
              "      <td>B0002CPBWI</td>\n",
              "      <td>5.0</td>\n",
              "    </tr>\n",
              "  </tbody>\n",
              "</table>\n",
              "</div>\n",
              "      <button class=\"colab-df-convert\" onclick=\"convertToInteractive('df-29673942-bb63-453d-8ef6-8d08d9d09cdc')\"\n",
              "              title=\"Convert this dataframe to an interactive table.\"\n",
              "              style=\"display:none;\">\n",
              "        \n",
              "  <svg xmlns=\"http://www.w3.org/2000/svg\" height=\"24px\"viewBox=\"0 0 24 24\"\n",
              "       width=\"24px\">\n",
              "    <path d=\"M0 0h24v24H0V0z\" fill=\"none\"/>\n",
              "    <path d=\"M18.56 5.44l.94 2.06.94-2.06 2.06-.94-2.06-.94-.94-2.06-.94 2.06-2.06.94zm-11 1L8.5 8.5l.94-2.06 2.06-.94-2.06-.94L8.5 2.5l-.94 2.06-2.06.94zm10 10l.94 2.06.94-2.06 2.06-.94-2.06-.94-.94-2.06-.94 2.06-2.06.94z\"/><path d=\"M17.41 7.96l-1.37-1.37c-.4-.4-.92-.59-1.43-.59-.52 0-1.04.2-1.43.59L10.3 9.45l-7.72 7.72c-.78.78-.78 2.05 0 2.83L4 21.41c.39.39.9.59 1.41.59.51 0 1.02-.2 1.41-.59l7.78-7.78 2.81-2.81c.8-.78.8-2.07 0-2.86zM5.41 20L4 18.59l7.72-7.72 1.47 1.35L5.41 20z\"/>\n",
              "  </svg>\n",
              "      </button>\n",
              "      \n",
              "  <style>\n",
              "    .colab-df-container {\n",
              "      display:flex;\n",
              "      flex-wrap:wrap;\n",
              "      gap: 12px;\n",
              "    }\n",
              "\n",
              "    .colab-df-convert {\n",
              "      background-color: #E8F0FE;\n",
              "      border: none;\n",
              "      border-radius: 50%;\n",
              "      cursor: pointer;\n",
              "      display: none;\n",
              "      fill: #1967D2;\n",
              "      height: 32px;\n",
              "      padding: 0 0 0 0;\n",
              "      width: 32px;\n",
              "    }\n",
              "\n",
              "    .colab-df-convert:hover {\n",
              "      background-color: #E2EBFA;\n",
              "      box-shadow: 0px 1px 2px rgba(60, 64, 67, 0.3), 0px 1px 3px 1px rgba(60, 64, 67, 0.15);\n",
              "      fill: #174EA6;\n",
              "    }\n",
              "\n",
              "    [theme=dark] .colab-df-convert {\n",
              "      background-color: #3B4455;\n",
              "      fill: #D2E3FC;\n",
              "    }\n",
              "\n",
              "    [theme=dark] .colab-df-convert:hover {\n",
              "      background-color: #434B5C;\n",
              "      box-shadow: 0px 1px 3px 1px rgba(0, 0, 0, 0.15);\n",
              "      filter: drop-shadow(0px 1px 2px rgba(0, 0, 0, 0.3));\n",
              "      fill: #FFFFFF;\n",
              "    }\n",
              "  </style>\n",
              "\n",
              "      <script>\n",
              "        const buttonEl =\n",
              "          document.querySelector('#df-29673942-bb63-453d-8ef6-8d08d9d09cdc button.colab-df-convert');\n",
              "        buttonEl.style.display =\n",
              "          google.colab.kernel.accessAllowed ? 'block' : 'none';\n",
              "\n",
              "        async function convertToInteractive(key) {\n",
              "          const element = document.querySelector('#df-29673942-bb63-453d-8ef6-8d08d9d09cdc');\n",
              "          const dataTable =\n",
              "            await google.colab.kernel.invokeFunction('convertToInteractive',\n",
              "                                                     [key], {});\n",
              "          if (!dataTable) return;\n",
              "\n",
              "          const docLinkHtml = 'Like what you see? Visit the ' +\n",
              "            '<a target=\"_blank\" href=https://colab.research.google.com/notebooks/data_table.ipynb>data table notebook</a>'\n",
              "            + ' to learn more about interactive tables.';\n",
              "          element.innerHTML = '';\n",
              "          dataTable['output_type'] = 'display_data';\n",
              "          await google.colab.output.renderOutput(dataTable, element);\n",
              "          const docLink = document.createElement('div');\n",
              "          docLink.innerHTML = docLinkHtml;\n",
              "          element.appendChild(docLink);\n",
              "        }\n",
              "      </script>\n",
              "    </div>\n",
              "  </div>\n",
              "  "
            ]
          },
          "metadata": {},
          "execution_count": 22
        }
      ],
      "source": [
        "user_item_edge_list = graph_df[['source', 'target', 'weights']]\n",
        "user_item_edge_list.head()"
      ],
      "id": "rsr_7hJVgFh9"
    },
    {
      "cell_type": "code",
      "execution_count": 23,
      "metadata": {
        "id": "DQlN40JrhqWG"
      },
      "outputs": [],
      "source": [
        "from sklearn.metrics.pairwise import cosine_similarity\n"
      ],
      "id": "DQlN40JrhqWG"
    },
    {
      "cell_type": "code",
      "execution_count": 24,
      "metadata": {
        "id": "V-FUPor1nsZH"
      },
      "outputs": [],
      "source": [
        "df=user_item_edge_list['target'].unique()"
      ],
      "id": "V-FUPor1nsZH"
    },
    {
      "cell_type": "code",
      "execution_count": 25,
      "metadata": {
        "id": "r85UrUuQn32Q"
      },
      "outputs": [],
      "source": [
        "df=list(df)\n",
        "df.sort()\n"
      ],
      "id": "r85UrUuQn32Q"
    },
    {
      "cell_type": "markdown",
      "source": [
        "## Evaluate our result\n",
        "- We will generate top 10 recommendations for 100 user and calculate the hit rate in test data set."
      ],
      "metadata": {
        "id": "Wl4q0Sb-0moU"
      },
      "id": "Wl4q0Sb-0moU"
    },
    {
      "cell_type": "code",
      "source": [
        "userlist=list(graph_df.source.unique())[:100]"
      ],
      "metadata": {
        "id": "aAAB8D0L0QaB"
      },
      "id": "aAAB8D0L0QaB",
      "execution_count": 32,
      "outputs": []
    },
    {
      "cell_type": "code",
      "source": [
        "data=final_ratings[final_ratings['userId'].isin(userlist)]"
      ],
      "metadata": {
        "id": "JTu7Jy320qwt"
      },
      "id": "JTu7Jy320qwt",
      "execution_count": 37,
      "outputs": []
    },
    {
      "cell_type": "code",
      "source": [
        "test_df=test_df[test_df['userId'].isin(userlist)]"
      ],
      "metadata": {
        "id": "pUuWQbhP08Di"
      },
      "id": "pUuWQbhP08Di",
      "execution_count": 28,
      "outputs": []
    },
    {
      "cell_type": "code",
      "source": [
        "result=final_ratings.sort_values(by=['userId','time'],ascending=[True,False])\n",
        "result=result.groupby('userId').head(10)"
      ],
      "metadata": {
        "id": "Sa0NqkRM0_8A"
      },
      "id": "Sa0NqkRM0_8A",
      "execution_count": 40,
      "outputs": []
    },
    {
      "cell_type": "code",
      "source": [
        "result.head(1)"
      ],
      "metadata": {
        "colab": {
          "base_uri": "https://localhost:8080/",
          "height": 81
        },
        "id": "wxmApUla5fNL",
        "outputId": "fbd5fff8-2b8a-48f0-ba15-e294b00eba59"
      },
      "id": "wxmApUla5fNL",
      "execution_count": 41,
      "outputs": [
        {
          "output_type": "execute_result",
          "data": {
            "text/plain": [
              "                 userId        item  rating        time\n",
              "4172527  A100UD67AHFODS  B004I5BUSO     5.0  1353024000"
            ],
            "text/html": [
              "\n",
              "  <div id=\"df-ce3fc840-89f1-4b0e-8e50-6dcd25a60012\">\n",
              "    <div class=\"colab-df-container\">\n",
              "      <div>\n",
              "<style scoped>\n",
              "    .dataframe tbody tr th:only-of-type {\n",
              "        vertical-align: middle;\n",
              "    }\n",
              "\n",
              "    .dataframe tbody tr th {\n",
              "        vertical-align: top;\n",
              "    }\n",
              "\n",
              "    .dataframe thead th {\n",
              "        text-align: right;\n",
              "    }\n",
              "</style>\n",
              "<table border=\"1\" class=\"dataframe\">\n",
              "  <thead>\n",
              "    <tr style=\"text-align: right;\">\n",
              "      <th></th>\n",
              "      <th>userId</th>\n",
              "      <th>item</th>\n",
              "      <th>rating</th>\n",
              "      <th>time</th>\n",
              "    </tr>\n",
              "  </thead>\n",
              "  <tbody>\n",
              "    <tr>\n",
              "      <th>4172527</th>\n",
              "      <td>A100UD67AHFODS</td>\n",
              "      <td>B004I5BUSO</td>\n",
              "      <td>5.0</td>\n",
              "      <td>1353024000</td>\n",
              "    </tr>\n",
              "  </tbody>\n",
              "</table>\n",
              "</div>\n",
              "      <button class=\"colab-df-convert\" onclick=\"convertToInteractive('df-ce3fc840-89f1-4b0e-8e50-6dcd25a60012')\"\n",
              "              title=\"Convert this dataframe to an interactive table.\"\n",
              "              style=\"display:none;\">\n",
              "        \n",
              "  <svg xmlns=\"http://www.w3.org/2000/svg\" height=\"24px\"viewBox=\"0 0 24 24\"\n",
              "       width=\"24px\">\n",
              "    <path d=\"M0 0h24v24H0V0z\" fill=\"none\"/>\n",
              "    <path d=\"M18.56 5.44l.94 2.06.94-2.06 2.06-.94-2.06-.94-.94-2.06-.94 2.06-2.06.94zm-11 1L8.5 8.5l.94-2.06 2.06-.94-2.06-.94L8.5 2.5l-.94 2.06-2.06.94zm10 10l.94 2.06.94-2.06 2.06-.94-2.06-.94-.94-2.06-.94 2.06-2.06.94z\"/><path d=\"M17.41 7.96l-1.37-1.37c-.4-.4-.92-.59-1.43-.59-.52 0-1.04.2-1.43.59L10.3 9.45l-7.72 7.72c-.78.78-.78 2.05 0 2.83L4 21.41c.39.39.9.59 1.41.59.51 0 1.02-.2 1.41-.59l7.78-7.78 2.81-2.81c.8-.78.8-2.07 0-2.86zM5.41 20L4 18.59l7.72-7.72 1.47 1.35L5.41 20z\"/>\n",
              "  </svg>\n",
              "      </button>\n",
              "      \n",
              "  <style>\n",
              "    .colab-df-container {\n",
              "      display:flex;\n",
              "      flex-wrap:wrap;\n",
              "      gap: 12px;\n",
              "    }\n",
              "\n",
              "    .colab-df-convert {\n",
              "      background-color: #E8F0FE;\n",
              "      border: none;\n",
              "      border-radius: 50%;\n",
              "      cursor: pointer;\n",
              "      display: none;\n",
              "      fill: #1967D2;\n",
              "      height: 32px;\n",
              "      padding: 0 0 0 0;\n",
              "      width: 32px;\n",
              "    }\n",
              "\n",
              "    .colab-df-convert:hover {\n",
              "      background-color: #E2EBFA;\n",
              "      box-shadow: 0px 1px 2px rgba(60, 64, 67, 0.3), 0px 1px 3px 1px rgba(60, 64, 67, 0.15);\n",
              "      fill: #174EA6;\n",
              "    }\n",
              "\n",
              "    [theme=dark] .colab-df-convert {\n",
              "      background-color: #3B4455;\n",
              "      fill: #D2E3FC;\n",
              "    }\n",
              "\n",
              "    [theme=dark] .colab-df-convert:hover {\n",
              "      background-color: #434B5C;\n",
              "      box-shadow: 0px 1px 3px 1px rgba(0, 0, 0, 0.15);\n",
              "      filter: drop-shadow(0px 1px 2px rgba(0, 0, 0, 0.3));\n",
              "      fill: #FFFFFF;\n",
              "    }\n",
              "  </style>\n",
              "\n",
              "      <script>\n",
              "        const buttonEl =\n",
              "          document.querySelector('#df-ce3fc840-89f1-4b0e-8e50-6dcd25a60012 button.colab-df-convert');\n",
              "        buttonEl.style.display =\n",
              "          google.colab.kernel.accessAllowed ? 'block' : 'none';\n",
              "\n",
              "        async function convertToInteractive(key) {\n",
              "          const element = document.querySelector('#df-ce3fc840-89f1-4b0e-8e50-6dcd25a60012');\n",
              "          const dataTable =\n",
              "            await google.colab.kernel.invokeFunction('convertToInteractive',\n",
              "                                                     [key], {});\n",
              "          if (!dataTable) return;\n",
              "\n",
              "          const docLinkHtml = 'Like what you see? Visit the ' +\n",
              "            '<a target=\"_blank\" href=https://colab.research.google.com/notebooks/data_table.ipynb>data table notebook</a>'\n",
              "            + ' to learn more about interactive tables.';\n",
              "          element.innerHTML = '';\n",
              "          dataTable['output_type'] = 'display_data';\n",
              "          await google.colab.output.renderOutput(dataTable, element);\n",
              "          const docLink = document.createElement('div');\n",
              "          docLink.innerHTML = docLinkHtml;\n",
              "          element.appendChild(docLink);\n",
              "        }\n",
              "      </script>\n",
              "    </div>\n",
              "  </div>\n",
              "  "
            ]
          },
          "metadata": {},
          "execution_count": 41
        }
      ]
    },
    {
      "cell_type": "code",
      "source": [
        "from collections import Counter\n",
        "from scipy.spatial.distance import cosine\n",
        "top_n = 10\n",
        "k = 50\n",
        "top_n = 10\n",
        "\n",
        "recommend_dict = { }\n",
        "for index, row in result.iterrows():\n",
        "    user=row['userId']\n",
        "    if user not in recommend_dict.keys():\n",
        "        recommend_dict[user]={}\n",
        "    \n",
        "    pid=row['item'] \n",
        "    product1 = pid\n",
        "    res_dict= {}\n",
        "    for i in df:\n",
        "      if(i!=pid):\n",
        "        product2 = i\n",
        "        cos=1.0 - cosine(node_embeddings[product1], node_embeddings[product2])\n",
        "        res_dict[i]=cos\n",
        "    \n",
        "    res=dict(Counter(res_dict).most_common(10))\n",
        "    indexes= list(res.keys())    \n",
        "    \n",
        "  \n",
        "    for ids in indexes:\n",
        "        if(ids==pid):\n",
        "            continue\n",
        "        if(~((result['item'] == ids) & (result['userId'] ==user)).any()):\n",
        "            if ids not in recommend_dict[user].keys():\n",
        "                recommend_dict[user][ids] =1\n",
        "            else:\n",
        "                recommend_dict[user][ids]+=1\n",
        "                    \n",
        "        \n",
        "    \n",
        "        \n",
        "        "
      ],
      "metadata": {
        "id": "9fAdx3ZL1GUc"
      },
      "id": "9fAdx3ZL1GUc",
      "execution_count": 43,
      "outputs": []
    },
    {
      "cell_type": "code",
      "source": [
        "# Iterating over values\n",
        "recommendations=[]\n",
        "for userid, products in recommend_dict.items():\n",
        "    total=0\n",
        "    mlist=[]\n",
        "    for i in products:\n",
        "        total+=1\n",
        "        mlist.append(i)\n",
        "        if(total>15):\n",
        "            break\n",
        "    recommendations.append([userid,mlist])"
      ],
      "metadata": {
        "id": "DW97SHlL14lv"
      },
      "id": "DW97SHlL14lv",
      "execution_count": 44,
      "outputs": []
    },
    {
      "cell_type": "code",
      "source": [
        "recommendations=pd.DataFrame(recommendations,columns=['user_id','products'])"
      ],
      "metadata": {
        "id": "3zrPCyCU1-0g"
      },
      "id": "3zrPCyCU1-0g",
      "execution_count": 45,
      "outputs": []
    },
    {
      "cell_type": "markdown",
      "source": [
        "### Calculate Hit Ratio\n",
        "- See how often we recommended a movie the user actually rated"
      ],
      "metadata": {
        "id": "9Q_jMT0f2J8f"
      },
      "id": "9Q_jMT0f2J8f"
    },
    {
      "cell_type": "code",
      "source": [
        "total=0\n",
        "hit=0\n",
        "for i in userlist:\n",
        "    results=recommendations[recommendations.user_id==i]\n",
        "    results=list(results.products)[0]\n",
        "    total+=1\n",
        "    for rs in results:\n",
        "        \n",
        "        if(((test_df['item'] == rs) & (test_df['userId'] ==i)).any()):\n",
        "                hit+=1\n",
        "                break\n",
        "        \n",
        "hit_ratio=hit/total   \n",
        "print(hit_ratio)"
      ],
      "metadata": {
        "colab": {
          "base_uri": "https://localhost:8080/"
        },
        "id": "8flTAetU2LV6",
        "outputId": "0a3a6c85-77b4-4aca-eb8f-6ca802cc01d2"
      },
      "id": "8flTAetU2LV6",
      "execution_count": 46,
      "outputs": [
        {
          "output_type": "stream",
          "name": "stdout",
          "text": [
            "0.22\n"
          ]
        }
      ]
    },
    {
      "cell_type": "markdown",
      "source": [
        "### MAP@K"
      ],
      "metadata": {
        "id": "CBtHAHie0Ser"
      },
      "id": "CBtHAHie0Ser"
    },
    {
      "cell_type": "code",
      "source": [
        "total=0\n",
        "hit=0\n",
        "for i in userlist:\n",
        "    results=recommendations[recommendations.user_id==i]\n",
        "    results=list(results.products)[0]\n",
        "   \n",
        "    for rs in results:\n",
        "        total+=1\n",
        "        if(((test_df['item'] == rs) & (test_df['userId'] ==i)).any()):\n",
        "                hit+=1\n",
        "                \n",
        "        \n",
        "mapk=hit/total   \n",
        "print(mapk)"
      ],
      "metadata": {
        "colab": {
          "base_uri": "https://localhost:8080/"
        },
        "id": "N6Yxe0_60Rqb",
        "outputId": "e9fafcc5-8285-4a9a-f575-f0a03b4089f9"
      },
      "id": "N6Yxe0_60Rqb",
      "execution_count": 47,
      "outputs": [
        {
          "output_type": "stream",
          "name": "stdout",
          "text": [
            "0.01742627345844504\n"
          ]
        }
      ]
    }
  ],
  "metadata": {
    "accelerator": "GPU",
    "colab": {
      "collapsed_sections": [],
      "name": "amazon_product review_Graph_embeding_experiment.ipynb",
      "provenance": [],
      "machine_shape": "hm"
    },
    "gpuClass": "standard",
    "kernelspec": {
      "display_name": "Python 3",
      "language": "python",
      "name": "python3"
    },
    "language_info": {
      "codemirror_mode": {
        "name": "ipython",
        "version": 3
      },
      "file_extension": ".py",
      "mimetype": "text/x-python",
      "name": "python",
      "nbconvert_exporter": "python",
      "pygments_lexer": "ipython3",
      "version": "3.6.5"
    }
  },
  "nbformat": 4,
  "nbformat_minor": 5
}
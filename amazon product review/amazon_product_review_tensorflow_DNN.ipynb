{
  "cells": [
    {
      "cell_type": "code",
      "execution_count": 1,
      "id": "d5f2633b",
      "metadata": {
        "id": "d5f2633b"
      },
      "outputs": [],
      "source": [
        "import numpy as np\n",
        "import pandas as pd\n",
        "import os\n",
        "import warnings\n",
        "warnings.filterwarnings(\"ignore\")"
      ]
    },
    {
      "cell_type": "code",
      "execution_count": 2,
      "id": "3799f839",
      "metadata": {
        "id": "3799f839"
      },
      "outputs": [],
      "source": [
        "from keras.models import load_model\n",
        "from sklearn.model_selection import train_test_split\n",
        "from keras.layers import Input, Embedding, Flatten, Dot, Dense, Concatenate\n",
        "from keras.models import Model\n",
        "warnings.filterwarnings('ignore')\n",
        "%matplotlib inline"
      ]
    },
    {
      "cell_type": "markdown",
      "id": "f70023e5",
      "metadata": {
        "id": "f70023e5"
      },
      "source": [
        "## Analyse Dataset"
      ]
    },
    {
      "cell_type": "markdown",
      "id": "df28830e",
      "metadata": {
        "id": "df28830e"
      },
      "source": [
        "### Amazon product review   Dataset\n",
        "- https://www.kaggle.com/datasets/saurav9786/amazon-product-reviews?resource=download"
      ]
    },
    {
      "cell_type": "code",
      "source": [
        "!pip install gdown"
      ],
      "metadata": {
        "colab": {
          "base_uri": "https://localhost:8080/"
        },
        "id": "aFiVLzHSELYq",
        "outputId": "8bb88169-79a7-4913-d789-468c687406f3"
      },
      "id": "aFiVLzHSELYq",
      "execution_count": 3,
      "outputs": [
        {
          "output_type": "stream",
          "name": "stdout",
          "text": [
            "Looking in indexes: https://pypi.org/simple, https://us-python.pkg.dev/colab-wheels/public/simple/\n",
            "Requirement already satisfied: gdown in /usr/local/lib/python3.7/dist-packages (4.4.0)\n",
            "Requirement already satisfied: tqdm in /usr/local/lib/python3.7/dist-packages (from gdown) (4.64.0)\n",
            "Requirement already satisfied: filelock in /usr/local/lib/python3.7/dist-packages (from gdown) (3.7.1)\n",
            "Requirement already satisfied: beautifulsoup4 in /usr/local/lib/python3.7/dist-packages (from gdown) (4.6.3)\n",
            "Requirement already satisfied: requests[socks] in /usr/local/lib/python3.7/dist-packages (from gdown) (2.23.0)\n",
            "Requirement already satisfied: six in /usr/local/lib/python3.7/dist-packages (from gdown) (1.15.0)\n",
            "Requirement already satisfied: urllib3!=1.25.0,!=1.25.1,<1.26,>=1.21.1 in /usr/local/lib/python3.7/dist-packages (from requests[socks]->gdown) (1.24.3)\n",
            "Requirement already satisfied: certifi>=2017.4.17 in /usr/local/lib/python3.7/dist-packages (from requests[socks]->gdown) (2022.6.15)\n",
            "Requirement already satisfied: chardet<4,>=3.0.2 in /usr/local/lib/python3.7/dist-packages (from requests[socks]->gdown) (3.0.4)\n",
            "Requirement already satisfied: idna<3,>=2.5 in /usr/local/lib/python3.7/dist-packages (from requests[socks]->gdown) (2.10)\n",
            "Requirement already satisfied: PySocks!=1.5.7,>=1.5.6 in /usr/local/lib/python3.7/dist-packages (from requests[socks]->gdown) (1.7.1)\n"
          ]
        }
      ]
    },
    {
      "cell_type": "code",
      "source": [
        "!gdown https://drive.google.com/uc?id=1dFuCcqIO0_vQcNg_47Ondz3akBG1ojzb"
      ],
      "metadata": {
        "colab": {
          "base_uri": "https://localhost:8080/"
        },
        "id": "b-QBqD-KENcr",
        "outputId": "b9b2c9d0-8ee4-41f0-8084-857a7e55e5f5"
      },
      "id": "b-QBqD-KENcr",
      "execution_count": 4,
      "outputs": [
        {
          "output_type": "stream",
          "name": "stdout",
          "text": [
            "Downloading...\n",
            "From: https://drive.google.com/uc?id=1dFuCcqIO0_vQcNg_47Ondz3akBG1ojzb\n",
            "To: /content/ratings_Electronics.csv\n",
            "100% 319M/319M [00:01<00:00, 226MB/s]\n"
          ]
        }
      ]
    },
    {
      "cell_type": "code",
      "source": [
        "rating_df =pd.read_csv('ratings_Electronics.csv',  names=['userId','item','rating','time'])\n",
        "rating_df=rating_df[['userId','item','rating','time']]\n",
        "\n",
        "x = rating_df.groupby('item').count()['rating'] >= 30\n",
        "userIndex = x[x].index\n",
        "nm_rating_df=rating_df[rating_df['item'].isin(userIndex)]\n",
        "y = nm_rating_df.groupby('userId').count()['rating']>=30\n",
        "items = y[y].index\n",
        "rating_df = nm_rating_df[nm_rating_df['userId'].isin(items)]\n",
        "rating_df.shape"
      ],
      "metadata": {
        "colab": {
          "base_uri": "https://localhost:8080/"
        },
        "id": "Mei2uoyoEOSq",
        "outputId": "910a1f71-505e-44e4-993c-940695cae0e3"
      },
      "id": "Mei2uoyoEOSq",
      "execution_count": 5,
      "outputs": [
        {
          "output_type": "execute_result",
          "data": {
            "text/plain": [
              "(131062, 4)"
            ]
          },
          "metadata": {},
          "execution_count": 5
        }
      ]
    },
    {
      "cell_type": "markdown",
      "id": "a314c02b",
      "metadata": {
        "id": "a314c02b"
      },
      "source": [
        "### Generate Train and test data"
      ]
    },
    {
      "cell_type": "code",
      "execution_count": 6,
      "id": "42e8bbf0",
      "metadata": {
        "id": "42e8bbf0"
      },
      "outputs": [],
      "source": [
        "# train_df, test_df = train_test_split(rating_df, test_size=0.25, random_state=0)\n"
      ]
    },
    {
      "cell_type": "code",
      "source": [
        "final_ratings=rating_df.sort_values(by=['userId','time','rating'], ascending=[False,False,False]) \n",
        "final_ratings.shape"
      ],
      "metadata": {
        "colab": {
          "base_uri": "https://localhost:8080/"
        },
        "id": "jLfOAxsmwcAc",
        "outputId": "3ebbfa7b-e010-4c40-9395-62a728d97a33"
      },
      "id": "jLfOAxsmwcAc",
      "execution_count": 7,
      "outputs": [
        {
          "output_type": "execute_result",
          "data": {
            "text/plain": [
              "(131062, 4)"
            ]
          },
          "metadata": {},
          "execution_count": 7
        }
      ]
    },
    {
      "cell_type": "code",
      "source": [
        "test_df=final_ratings.groupby('userId').head(5)\n",
        "test_df.shape"
      ],
      "metadata": {
        "colab": {
          "base_uri": "https://localhost:8080/"
        },
        "id": "8bZMJmyRweVU",
        "outputId": "5a6d99e5-3875-4dd7-8ef8-74601e4e9a82"
      },
      "id": "8bZMJmyRweVU",
      "execution_count": 8,
      "outputs": [
        {
          "output_type": "execute_result",
          "data": {
            "text/plain": [
              "(13430, 4)"
            ]
          },
          "metadata": {},
          "execution_count": 8
        }
      ]
    },
    {
      "cell_type": "code",
      "source": [
        "train_df=final_ratings[~final_ratings.isin(test_df).all(1)]\n",
        "train_df.shape"
      ],
      "metadata": {
        "colab": {
          "base_uri": "https://localhost:8080/"
        },
        "id": "m43boSbgwhjA",
        "outputId": "50942028-4a98-4f9e-ce5b-3d65cd995a8c"
      },
      "id": "m43boSbgwhjA",
      "execution_count": 9,
      "outputs": [
        {
          "output_type": "execute_result",
          "data": {
            "text/plain": [
              "(117632, 4)"
            ]
          },
          "metadata": {},
          "execution_count": 9
        }
      ]
    },
    {
      "cell_type": "code",
      "execution_count": 10,
      "id": "7713dc6f",
      "metadata": {
        "id": "7713dc6f",
        "outputId": "73514138-6612-47fc-ada6-8354920db0fc",
        "colab": {
          "base_uri": "https://localhost:8080/",
          "height": 112
        }
      },
      "outputs": [
        {
          "output_type": "execute_result",
          "data": {
            "text/plain": [
              "                userId        item  rating        time\n",
              "7145947  AZZYW4YOE1B6E  B00BP5MB56     3.0  1389744000\n",
              "3215796  AZZYW4YOE1B6E  B003BYRGJU     5.0  1388534400"
            ],
            "text/html": [
              "\n",
              "  <div id=\"df-341ebe94-30f2-4f06-ac1f-87bd9cfd41a3\">\n",
              "    <div class=\"colab-df-container\">\n",
              "      <div>\n",
              "<style scoped>\n",
              "    .dataframe tbody tr th:only-of-type {\n",
              "        vertical-align: middle;\n",
              "    }\n",
              "\n",
              "    .dataframe tbody tr th {\n",
              "        vertical-align: top;\n",
              "    }\n",
              "\n",
              "    .dataframe thead th {\n",
              "        text-align: right;\n",
              "    }\n",
              "</style>\n",
              "<table border=\"1\" class=\"dataframe\">\n",
              "  <thead>\n",
              "    <tr style=\"text-align: right;\">\n",
              "      <th></th>\n",
              "      <th>userId</th>\n",
              "      <th>item</th>\n",
              "      <th>rating</th>\n",
              "      <th>time</th>\n",
              "    </tr>\n",
              "  </thead>\n",
              "  <tbody>\n",
              "    <tr>\n",
              "      <th>7145947</th>\n",
              "      <td>AZZYW4YOE1B6E</td>\n",
              "      <td>B00BP5MB56</td>\n",
              "      <td>3.0</td>\n",
              "      <td>1389744000</td>\n",
              "    </tr>\n",
              "    <tr>\n",
              "      <th>3215796</th>\n",
              "      <td>AZZYW4YOE1B6E</td>\n",
              "      <td>B003BYRGJU</td>\n",
              "      <td>5.0</td>\n",
              "      <td>1388534400</td>\n",
              "    </tr>\n",
              "  </tbody>\n",
              "</table>\n",
              "</div>\n",
              "      <button class=\"colab-df-convert\" onclick=\"convertToInteractive('df-341ebe94-30f2-4f06-ac1f-87bd9cfd41a3')\"\n",
              "              title=\"Convert this dataframe to an interactive table.\"\n",
              "              style=\"display:none;\">\n",
              "        \n",
              "  <svg xmlns=\"http://www.w3.org/2000/svg\" height=\"24px\"viewBox=\"0 0 24 24\"\n",
              "       width=\"24px\">\n",
              "    <path d=\"M0 0h24v24H0V0z\" fill=\"none\"/>\n",
              "    <path d=\"M18.56 5.44l.94 2.06.94-2.06 2.06-.94-2.06-.94-.94-2.06-.94 2.06-2.06.94zm-11 1L8.5 8.5l.94-2.06 2.06-.94-2.06-.94L8.5 2.5l-.94 2.06-2.06.94zm10 10l.94 2.06.94-2.06 2.06-.94-2.06-.94-.94-2.06-.94 2.06-2.06.94z\"/><path d=\"M17.41 7.96l-1.37-1.37c-.4-.4-.92-.59-1.43-.59-.52 0-1.04.2-1.43.59L10.3 9.45l-7.72 7.72c-.78.78-.78 2.05 0 2.83L4 21.41c.39.39.9.59 1.41.59.51 0 1.02-.2 1.41-.59l7.78-7.78 2.81-2.81c.8-.78.8-2.07 0-2.86zM5.41 20L4 18.59l7.72-7.72 1.47 1.35L5.41 20z\"/>\n",
              "  </svg>\n",
              "      </button>\n",
              "      \n",
              "  <style>\n",
              "    .colab-df-container {\n",
              "      display:flex;\n",
              "      flex-wrap:wrap;\n",
              "      gap: 12px;\n",
              "    }\n",
              "\n",
              "    .colab-df-convert {\n",
              "      background-color: #E8F0FE;\n",
              "      border: none;\n",
              "      border-radius: 50%;\n",
              "      cursor: pointer;\n",
              "      display: none;\n",
              "      fill: #1967D2;\n",
              "      height: 32px;\n",
              "      padding: 0 0 0 0;\n",
              "      width: 32px;\n",
              "    }\n",
              "\n",
              "    .colab-df-convert:hover {\n",
              "      background-color: #E2EBFA;\n",
              "      box-shadow: 0px 1px 2px rgba(60, 64, 67, 0.3), 0px 1px 3px 1px rgba(60, 64, 67, 0.15);\n",
              "      fill: #174EA6;\n",
              "    }\n",
              "\n",
              "    [theme=dark] .colab-df-convert {\n",
              "      background-color: #3B4455;\n",
              "      fill: #D2E3FC;\n",
              "    }\n",
              "\n",
              "    [theme=dark] .colab-df-convert:hover {\n",
              "      background-color: #434B5C;\n",
              "      box-shadow: 0px 1px 3px 1px rgba(0, 0, 0, 0.15);\n",
              "      filter: drop-shadow(0px 1px 2px rgba(0, 0, 0, 0.3));\n",
              "      fill: #FFFFFF;\n",
              "    }\n",
              "  </style>\n",
              "\n",
              "      <script>\n",
              "        const buttonEl =\n",
              "          document.querySelector('#df-341ebe94-30f2-4f06-ac1f-87bd9cfd41a3 button.colab-df-convert');\n",
              "        buttonEl.style.display =\n",
              "          google.colab.kernel.accessAllowed ? 'block' : 'none';\n",
              "\n",
              "        async function convertToInteractive(key) {\n",
              "          const element = document.querySelector('#df-341ebe94-30f2-4f06-ac1f-87bd9cfd41a3');\n",
              "          const dataTable =\n",
              "            await google.colab.kernel.invokeFunction('convertToInteractive',\n",
              "                                                     [key], {});\n",
              "          if (!dataTable) return;\n",
              "\n",
              "          const docLinkHtml = 'Like what you see? Visit the ' +\n",
              "            '<a target=\"_blank\" href=https://colab.research.google.com/notebooks/data_table.ipynb>data table notebook</a>'\n",
              "            + ' to learn more about interactive tables.';\n",
              "          element.innerHTML = '';\n",
              "          dataTable['output_type'] = 'display_data';\n",
              "          await google.colab.output.renderOutput(dataTable, element);\n",
              "          const docLink = document.createElement('div');\n",
              "          docLink.innerHTML = docLinkHtml;\n",
              "          element.appendChild(docLink);\n",
              "        }\n",
              "      </script>\n",
              "    </div>\n",
              "  </div>\n",
              "  "
            ]
          },
          "metadata": {},
          "execution_count": 10
        }
      ],
      "source": [
        "train_df.head(2)"
      ]
    },
    {
      "cell_type": "code",
      "execution_count": 11,
      "id": "99d4144f",
      "metadata": {
        "id": "99d4144f"
      },
      "outputs": [],
      "source": [
        "product_ids = list(set(list(rating_df.item.unique())))\n",
        "user_ids = list(set(list(rating_df.userId.unique())))"
      ]
    },
    {
      "cell_type": "code",
      "execution_count": 12,
      "id": "79853b46",
      "metadata": {
        "id": "79853b46"
      },
      "outputs": [],
      "source": [
        "dict_products = {}\n",
        "index = 0\n",
        "for ids in sorted(product_ids):\n",
        "    dict_products[ids] = index\n",
        "    index += 1"
      ]
    },
    {
      "cell_type": "code",
      "execution_count": 13,
      "id": "99c48a0c",
      "metadata": {
        "id": "99c48a0c"
      },
      "outputs": [],
      "source": [
        "dict_users = {}\n",
        "index = 0\n",
        "for ids in sorted(user_ids):\n",
        "    dict_users[ids] = index\n",
        "    index += 1"
      ]
    },
    {
      "cell_type": "code",
      "execution_count": 14,
      "id": "f16f173b",
      "metadata": {
        "id": "f16f173b"
      },
      "outputs": [],
      "source": [
        "train_df[\"item\"] = train_df[\"item\"].map(dict_products)\n",
        "train_df[\"userId\"] = train_df[\"userId\"].map(dict_users)"
      ]
    },
    {
      "cell_type": "code",
      "execution_count": 15,
      "id": "079f38c4",
      "metadata": {
        "id": "079f38c4"
      },
      "outputs": [],
      "source": [
        "test_df[\"item\"] = test_df[\"item\"].map(dict_products)\n",
        "test_df[\"userId\"] = test_df[\"userId\"].map(dict_users)"
      ]
    },
    {
      "cell_type": "code",
      "execution_count": 16,
      "id": "1c742331",
      "metadata": {
        "id": "1c742331"
      },
      "outputs": [],
      "source": [
        "for col in [\"userId\", \"item\", \"rating\"]:\n",
        "    train_df[col] = train_df[col].astype(np.float32)\n",
        "    test_df[col] = test_df[col].astype(np.float32)"
      ]
    },
    {
      "cell_type": "code",
      "execution_count": 17,
      "id": "2ec78d65",
      "metadata": {
        "id": "2ec78d65"
      },
      "outputs": [],
      "source": [
        "num_unique_users=len(set(list(rating_df.userId.unique()) ))\n",
        "num_unique_products=len(set(list(rating_df.item.unique())))"
      ]
    },
    {
      "cell_type": "markdown",
      "id": "815040b2",
      "metadata": {
        "id": "815040b2"
      },
      "source": [
        "### DNN"
      ]
    },
    {
      "cell_type": "code",
      "execution_count": 18,
      "id": "18acf960",
      "metadata": {
        "id": "18acf960"
      },
      "outputs": [],
      "source": [
        "import tensorflow as tf\n",
        "from tensorflow.keras import Model\n",
        "from tensorflow.keras import optimizers as opt\n",
        "from tensorflow.keras import regularizers as rgl\n",
        "from tensorflow.keras.layers import Embedding, multiply, concatenate, Flatten, Input, Dense, Dropout"
      ]
    },
    {
      "cell_type": "code",
      "execution_count": 19,
      "id": "7ffb97a5",
      "metadata": {
        "id": "7ffb97a5"
      },
      "outputs": [],
      "source": [
        "dropout_rate=0.05\n",
        "dense_1=256\n",
        "dense_2=128\n",
        "dense_3=64\n",
        "\n",
        "activation_func=\"relu\"\n",
        "regularizer=rgl.l2(0.00001)#l2 regularization\n",
        "max_rating=5\n",
        "min_rating=0"
      ]
    },
    {
      "cell_type": "code",
      "execution_count": 20,
      "id": "e7d0515e",
      "metadata": {
        "id": "e7d0515e"
      },
      "outputs": [],
      "source": [
        "EMBEDDING_SIZE=64\n",
        "users_input = Input(shape=(1,), name=\"user_input\")\n",
        "users_embedding = Embedding(num_unique_users + 1, EMBEDDING_SIZE, embeddings_regularizer=regularizer, name=\"user_embeddings\")(users_input)\n",
        "users_bias = Embedding(num_unique_users + 1, 1, embeddings_regularizer=regularizer, name=\"user_bias\")(users_input)\n",
        "\n",
        "product_input = Input(shape=(1,), name=\"product_input\")\n",
        "product_embedding = Embedding(num_unique_products + 1, EMBEDDING_SIZE, embeddings_regularizer=regularizer, name=\"product_embedding\")(product_input)\n",
        "product_bias = Embedding(num_unique_products + 1, 1, embeddings_regularizer=regularizer, name=\"product_bias\")(product_input)\n",
        "\n",
        "dot_product_users_product = multiply([users_embedding, product_embedding])\n",
        "\n",
        "input_terms = concatenate([dot_product_users_product, users_bias, product_bias])\n",
        "\n",
        "input_terms = Flatten(name=\"fl_inputs\")(input_terms)\n",
        "\n",
        "output = Dense(dense_1, activation=activation_func, name=\"dense_0\")(input_terms)\n",
        "\n",
        "output = Dropout(dropout_rate)(output)\n",
        "\n",
        "output = Dense(dense_2, activation=activation_func, name=\"dense_1\")(output)\n",
        "\n",
        "output = Dropout(dropout_rate)(output)\n",
        "\n",
        "output = Dense(dense_3, activation=activation_func, name=\"dense_2\")(output)\n",
        "\n",
        "output = Dropout(dropout_rate)(output)\n",
        "\n",
        "output = Dense(1, activation=\"relu\", name=\"output\")(output) * (max_rating - min_rating) + min_rating"
      ]
    },
    {
      "cell_type": "code",
      "execution_count": 21,
      "id": "968ea6d6",
      "metadata": {
        "id": "968ea6d6"
      },
      "outputs": [],
      "source": [
        "model = Model(inputs=[users_input, product_input], outputs=output)"
      ]
    },
    {
      "cell_type": "code",
      "execution_count": 22,
      "id": "02949c4a",
      "metadata": {
        "id": "02949c4a"
      },
      "outputs": [],
      "source": [
        "opt_adam = opt.Adam(lr = 0.001)\n",
        "model.compile(optimizer=opt_adam, loss= ['mse'], metrics=['mean_absolute_error'])"
      ]
    },
    {
      "cell_type": "code",
      "execution_count": 23,
      "id": "87ba897d",
      "metadata": {
        "scrolled": true,
        "id": "87ba897d",
        "outputId": "8ce76a83-b900-4def-e548-6004e4c2962b",
        "colab": {
          "base_uri": "https://localhost:8080/"
        }
      },
      "outputs": [
        {
          "output_type": "stream",
          "name": "stdout",
          "text": [
            "Epoch 1/30\n",
            "414/414 [==============================] - 4s 5ms/step - loss: 1.5836 - mean_absolute_error: 0.9189 - val_loss: 1.0659 - val_mean_absolute_error: 0.8116\n",
            "Epoch 2/30\n",
            "414/414 [==============================] - 2s 5ms/step - loss: 0.7219 - mean_absolute_error: 0.6204 - val_loss: 1.0687 - val_mean_absolute_error: 0.7919\n",
            "Epoch 3/30\n",
            "414/414 [==============================] - 2s 5ms/step - loss: 0.2884 - mean_absolute_error: 0.3879 - val_loss: 1.0588 - val_mean_absolute_error: 0.7528\n",
            "Epoch 4/30\n",
            "414/414 [==============================] - 2s 5ms/step - loss: 0.1540 - mean_absolute_error: 0.2771 - val_loss: 1.0675 - val_mean_absolute_error: 0.7979\n",
            "Epoch 5/30\n",
            "414/414 [==============================] - 2s 5ms/step - loss: 0.1164 - mean_absolute_error: 0.2364 - val_loss: 1.0598 - val_mean_absolute_error: 0.7911\n",
            "Epoch 6/30\n",
            "414/414 [==============================] - 2s 5ms/step - loss: 0.1058 - mean_absolute_error: 0.2222 - val_loss: 1.0578 - val_mean_absolute_error: 0.7885\n",
            "Epoch 7/30\n",
            "414/414 [==============================] - 2s 5ms/step - loss: 0.0997 - mean_absolute_error: 0.2116 - val_loss: 1.0672 - val_mean_absolute_error: 0.7998\n",
            "Epoch 8/30\n",
            "414/414 [==============================] - 2s 5ms/step - loss: 0.0957 - mean_absolute_error: 0.2022 - val_loss: 1.0541 - val_mean_absolute_error: 0.7744\n",
            "Epoch 9/30\n",
            "414/414 [==============================] - 2s 5ms/step - loss: 0.0938 - mean_absolute_error: 0.1943 - val_loss: 1.0653 - val_mean_absolute_error: 0.7903\n",
            "Epoch 10/30\n",
            "414/414 [==============================] - 2s 5ms/step - loss: 0.0898 - mean_absolute_error: 0.1837 - val_loss: 1.0678 - val_mean_absolute_error: 0.7880\n",
            "Epoch 11/30\n",
            "414/414 [==============================] - 2s 5ms/step - loss: 0.0849 - mean_absolute_error: 0.1725 - val_loss: 1.0754 - val_mean_absolute_error: 0.7942\n",
            "Epoch 12/30\n",
            "414/414 [==============================] - 2s 5ms/step - loss: 0.0792 - mean_absolute_error: 0.1600 - val_loss: 1.0728 - val_mean_absolute_error: 0.7772\n",
            "Epoch 13/30\n",
            "414/414 [==============================] - 2s 5ms/step - loss: 0.0749 - mean_absolute_error: 0.1502 - val_loss: 1.0859 - val_mean_absolute_error: 0.7910\n",
            "Epoch 14/30\n",
            "414/414 [==============================] - 2s 5ms/step - loss: 0.0722 - mean_absolute_error: 0.1423 - val_loss: 1.0831 - val_mean_absolute_error: 0.7729\n",
            "Epoch 15/30\n",
            "414/414 [==============================] - 2s 5ms/step - loss: 0.0715 - mean_absolute_error: 0.1375 - val_loss: 1.0924 - val_mean_absolute_error: 0.7648\n",
            "Epoch 16/30\n",
            "414/414 [==============================] - 2s 5ms/step - loss: 0.0688 - mean_absolute_error: 0.1310 - val_loss: 1.0876 - val_mean_absolute_error: 0.7632\n",
            "Epoch 17/30\n",
            "414/414 [==============================] - 2s 5ms/step - loss: 0.0664 - mean_absolute_error: 0.1256 - val_loss: 1.0991 - val_mean_absolute_error: 0.7734\n",
            "Epoch 18/30\n",
            "414/414 [==============================] - 2s 5ms/step - loss: 0.0642 - mean_absolute_error: 0.1189 - val_loss: 1.0940 - val_mean_absolute_error: 0.7464\n",
            "Epoch 19/30\n",
            "414/414 [==============================] - 2s 5ms/step - loss: 0.0627 - mean_absolute_error: 0.1139 - val_loss: 1.1070 - val_mean_absolute_error: 0.7492\n",
            "Epoch 20/30\n",
            "414/414 [==============================] - 2s 5ms/step - loss: 0.0608 - mean_absolute_error: 0.1084 - val_loss: 1.1029 - val_mean_absolute_error: 0.7404\n",
            "Epoch 21/30\n",
            "414/414 [==============================] - 2s 5ms/step - loss: 0.0597 - mean_absolute_error: 0.1044 - val_loss: 1.1143 - val_mean_absolute_error: 0.7263\n",
            "Epoch 22/30\n",
            "414/414 [==============================] - 2s 5ms/step - loss: 0.0602 - mean_absolute_error: 0.1007 - val_loss: 1.1265 - val_mean_absolute_error: 0.7172\n",
            "Epoch 23/30\n",
            "414/414 [==============================] - 2s 5ms/step - loss: 0.0593 - mean_absolute_error: 0.0975 - val_loss: 1.1236 - val_mean_absolute_error: 0.7256\n",
            "Epoch 24/30\n",
            "414/414 [==============================] - 2s 5ms/step - loss: 0.0597 - mean_absolute_error: 0.0946 - val_loss: 1.1165 - val_mean_absolute_error: 0.7305\n",
            "Epoch 25/30\n",
            "414/414 [==============================] - 2s 5ms/step - loss: 0.0603 - mean_absolute_error: 0.0924 - val_loss: 1.1275 - val_mean_absolute_error: 0.7258\n",
            "Epoch 26/30\n",
            "414/414 [==============================] - 2s 5ms/step - loss: 0.0594 - mean_absolute_error: 0.0899 - val_loss: 1.1309 - val_mean_absolute_error: 0.7196\n"
          ]
        },
        {
          "output_type": "execute_result",
          "data": {
            "text/plain": [
              "<keras.callbacks.History at 0x7fd5b64a8dd0>"
            ]
          },
          "metadata": {},
          "execution_count": 23
        }
      ],
      "source": [
        "callback = tf.keras.callbacks.EarlyStopping(monitor='loss', patience=3,restore_best_weights=True)\n",
        "model.fit(x=[train_df.userId, train_df.item], y=train_df.rating,validation_split = 0.1, batch_size=256, epochs=30, verbose=1 ,callbacks=[callback])"
      ]
    },
    {
      "cell_type": "code",
      "execution_count": 24,
      "id": "03791a88",
      "metadata": {
        "id": "03791a88",
        "outputId": "69b896f8-fae5-448a-ae0f-7aa74aa540ea",
        "colab": {
          "base_uri": "https://localhost:8080/"
        }
      },
      "outputs": [
        {
          "output_type": "execute_result",
          "data": {
            "text/plain": [
              "array([[4.196298 ],\n",
              "       [4.9617147],\n",
              "       [4.3071566],\n",
              "       ...,\n",
              "       [4.9449806],\n",
              "       [4.752428 ],\n",
              "       [4.9635153]], dtype=float32)"
            ]
          },
          "metadata": {},
          "execution_count": 24
        }
      ],
      "source": [
        "model.predict([test_df.userId, test_df.item])"
      ]
    },
    {
      "cell_type": "code",
      "execution_count": 25,
      "id": "02729316",
      "metadata": {
        "id": "02729316",
        "outputId": "cb51fb3e-e598-4472-bc01-c6ef0e8e9218",
        "colab": {
          "base_uri": "https://localhost:8080/"
        }
      },
      "outputs": [
        {
          "output_type": "stream",
          "name": "stdout",
          "text": [
            "420/420 [==============================] - 1s 3ms/step - loss: 1.0552 - mean_absolute_error: 0.6661\n"
          ]
        },
        {
          "output_type": "execute_result",
          "data": {
            "text/plain": [
              "[1.0552324056625366, 0.666104793548584]"
            ]
          },
          "metadata": {},
          "execution_count": 25
        }
      ],
      "source": [
        "model.evaluate([test_df.userId, test_df.item], test_df.rating)"
      ]
    },
    {
      "cell_type": "code",
      "execution_count": 26,
      "id": "e2c34bfd",
      "metadata": {
        "id": "e2c34bfd",
        "outputId": "8130ccbe-1a22-449c-967a-a5a978c9a6fe",
        "colab": {
          "base_uri": "https://localhost:8080/"
        }
      },
      "outputs": [
        {
          "output_type": "execute_result",
          "data": {
            "text/plain": [
              "array([[4.7862005]], dtype=float32)"
            ]
          },
          "metadata": {},
          "execution_count": 26
        }
      ],
      "source": [
        "model.predict([pd.Series([9.0]), pd.Series([1.0])])"
      ]
    },
    {
      "cell_type": "code",
      "execution_count": 27,
      "id": "27852c1a",
      "metadata": {
        "id": "27852c1a"
      },
      "outputs": [],
      "source": [
        "result=model.predict([test_df.userId, test_df.item])"
      ]
    },
    {
      "cell_type": "code",
      "source": [
        "uniqueproducts=train_df.item.unique()"
      ],
      "metadata": {
        "id": "z2HOOeR0JRse"
      },
      "id": "z2HOOeR0JRse",
      "execution_count": 28,
      "outputs": []
    },
    {
      "cell_type": "code",
      "source": [
        "userlist=list(test_df.userId.unique())[:200]"
      ],
      "metadata": {
        "id": "eKLtFjLTJUru"
      },
      "id": "eKLtFjLTJUru",
      "execution_count": 29,
      "outputs": []
    },
    {
      "cell_type": "code",
      "source": [
        "test_df=test_df[test_df['userId'].isin(userlist)]"
      ],
      "metadata": {
        "id": "XYx0uMWJKNzV"
      },
      "id": "XYx0uMWJKNzV",
      "execution_count": 30,
      "outputs": []
    },
    {
      "cell_type": "code",
      "source": [
        "train_df=train_df[train_df['userId'].isin(userlist)]"
      ],
      "metadata": {
        "id": "zVhTkUN2KegU"
      },
      "id": "zVhTkUN2KegU",
      "execution_count": 31,
      "outputs": []
    },
    {
      "cell_type": "code",
      "source": [
        "import itertools\n",
        "result=pd.DataFrame(list(itertools.product(userlist,uniqueproducts)))"
      ],
      "metadata": {
        "id": "m3OH63edDYLO"
      },
      "id": "m3OH63edDYLO",
      "execution_count": 32,
      "outputs": []
    },
    {
      "cell_type": "code",
      "source": [
        "result.columns =['userId', 'item']"
      ],
      "metadata": {
        "id": "S-klPk9DFuVy"
      },
      "id": "S-klPk9DFuVy",
      "execution_count": 33,
      "outputs": []
    },
    {
      "cell_type": "code",
      "source": [
        "predictions=model.predict([result.userId, result.item])"
      ],
      "metadata": {
        "id": "SDw5MxhjHDUv"
      },
      "id": "SDw5MxhjHDUv",
      "execution_count": 34,
      "outputs": []
    },
    {
      "cell_type": "code",
      "source": [
        "predictions=list(predictions)"
      ],
      "metadata": {
        "id": "EQ3LjFQWHOyN"
      },
      "id": "EQ3LjFQWHOyN",
      "execution_count": 35,
      "outputs": []
    },
    {
      "cell_type": "code",
      "source": [
        "ratings=[]\n",
        "\n",
        "for e in predictions:\n",
        " ratings.append(e[0])\n"
      ],
      "metadata": {
        "id": "QRLHj_GzIBAN"
      },
      "id": "QRLHj_GzIBAN",
      "execution_count": 36,
      "outputs": []
    },
    {
      "cell_type": "code",
      "source": [
        "result['rating']=ratings"
      ],
      "metadata": {
        "id": "Yhxt51L9IYf1"
      },
      "id": "Yhxt51L9IYf1",
      "execution_count": 37,
      "outputs": []
    },
    {
      "cell_type": "code",
      "source": [
        "result=result.sort_values(['userId','rating'], ascending=[True,False])"
      ],
      "metadata": {
        "id": "czcHy1wBLm66"
      },
      "id": "czcHy1wBLm66",
      "execution_count": 38,
      "outputs": []
    },
    {
      "cell_type": "code",
      "source": [
        "result=result[result['rating']>4]"
      ],
      "metadata": {
        "id": "coNyTMPYNGsH"
      },
      "id": "coNyTMPYNGsH",
      "execution_count": 39,
      "outputs": []
    },
    {
      "cell_type": "code",
      "execution_count": 40,
      "id": "64292b49",
      "metadata": {
        "id": "64292b49"
      },
      "outputs": [],
      "source": [
        "from collections import Counter\n",
        "recommend_dict = { }\n",
        "for index, row in result.iterrows():\n",
        "    user=row['userId']\n",
        "    item=row['item']\n",
        "    if user not in recommend_dict.keys():\n",
        "        recommend_dict[user]={}\n",
        "    \n",
        "    if(~((train_df['userId'] == user) & (train_df['item'] ==item)).any()):\n",
        "            if item not in recommend_dict[user].keys():\n",
        "                recommend_dict[user][item] =1\n",
        "            else:\n",
        "                recommend_dict[user][item]+=1\n",
        "                    \n",
        "        \n",
        "    \n",
        "        \n",
        "        "
      ]
    },
    {
      "cell_type": "code",
      "source": [
        "# Iterating over values\n",
        "recommendations=[]\n",
        "for userid, items in recommend_dict.items():\n",
        "    total=0\n",
        "    mlist=[]\n",
        "    for i in items:\n",
        "        total+=1\n",
        "        mlist.append(i)\n",
        "        if(total>10):\n",
        "            break\n",
        "    recommendations.append([userid,mlist])"
      ],
      "metadata": {
        "id": "5Nyes16YNvEo"
      },
      "id": "5Nyes16YNvEo",
      "execution_count": 41,
      "outputs": []
    },
    {
      "cell_type": "code",
      "source": [
        "type(recommendations)"
      ],
      "metadata": {
        "colab": {
          "base_uri": "https://localhost:8080/"
        },
        "id": "9M_IAG5FQqfb",
        "outputId": "02edba66-af68-4b87-8be8-887bbb0e974a"
      },
      "id": "9M_IAG5FQqfb",
      "execution_count": 42,
      "outputs": [
        {
          "output_type": "execute_result",
          "data": {
            "text/plain": [
              "list"
            ]
          },
          "metadata": {},
          "execution_count": 42
        }
      ]
    },
    {
      "cell_type": "code",
      "source": [
        "recommendations=pd.DataFrame(recommendations,columns=['user_id','items'])"
      ],
      "metadata": {
        "id": "95qPQ-HJM5dS"
      },
      "id": "95qPQ-HJM5dS",
      "execution_count": 43,
      "outputs": []
    },
    {
      "cell_type": "code",
      "source": [
        "recommendations.head(5)"
      ],
      "metadata": {
        "colab": {
          "base_uri": "https://localhost:8080/",
          "height": 206
        },
        "id": "m2NZWZxFODWB",
        "outputId": "c7509dab-db4e-4ab2-d540-54582fb094db"
      },
      "id": "m2NZWZxFODWB",
      "execution_count": 44,
      "outputs": [
        {
          "output_type": "execute_result",
          "data": {
            "text/plain": [
              "   user_id                                              items\n",
              "0   2486.0  [21298.0, 1374.0, 23767.0, 13869.0, 3803.0, 25...\n",
              "1   2487.0  [21039.0, 11469.0, 8204.0, 2174.0, 16270.0, 50...\n",
              "2   2488.0  [17719.0, 19536.0, 22211.0, 21487.0, 22804.0, ...\n",
              "3   2489.0  [14450.0, 23105.0, 1736.0, 6415.0, 11470.0, 14...\n",
              "4   2490.0  [9648.0, 22163.0, 1242.0, 8159.0, 13338.0, 113..."
            ],
            "text/html": [
              "\n",
              "  <div id=\"df-63a14eb7-ec97-4ca6-945e-c004dde7e204\">\n",
              "    <div class=\"colab-df-container\">\n",
              "      <div>\n",
              "<style scoped>\n",
              "    .dataframe tbody tr th:only-of-type {\n",
              "        vertical-align: middle;\n",
              "    }\n",
              "\n",
              "    .dataframe tbody tr th {\n",
              "        vertical-align: top;\n",
              "    }\n",
              "\n",
              "    .dataframe thead th {\n",
              "        text-align: right;\n",
              "    }\n",
              "</style>\n",
              "<table border=\"1\" class=\"dataframe\">\n",
              "  <thead>\n",
              "    <tr style=\"text-align: right;\">\n",
              "      <th></th>\n",
              "      <th>user_id</th>\n",
              "      <th>items</th>\n",
              "    </tr>\n",
              "  </thead>\n",
              "  <tbody>\n",
              "    <tr>\n",
              "      <th>0</th>\n",
              "      <td>2486.0</td>\n",
              "      <td>[21298.0, 1374.0, 23767.0, 13869.0, 3803.0, 25...</td>\n",
              "    </tr>\n",
              "    <tr>\n",
              "      <th>1</th>\n",
              "      <td>2487.0</td>\n",
              "      <td>[21039.0, 11469.0, 8204.0, 2174.0, 16270.0, 50...</td>\n",
              "    </tr>\n",
              "    <tr>\n",
              "      <th>2</th>\n",
              "      <td>2488.0</td>\n",
              "      <td>[17719.0, 19536.0, 22211.0, 21487.0, 22804.0, ...</td>\n",
              "    </tr>\n",
              "    <tr>\n",
              "      <th>3</th>\n",
              "      <td>2489.0</td>\n",
              "      <td>[14450.0, 23105.0, 1736.0, 6415.0, 11470.0, 14...</td>\n",
              "    </tr>\n",
              "    <tr>\n",
              "      <th>4</th>\n",
              "      <td>2490.0</td>\n",
              "      <td>[9648.0, 22163.0, 1242.0, 8159.0, 13338.0, 113...</td>\n",
              "    </tr>\n",
              "  </tbody>\n",
              "</table>\n",
              "</div>\n",
              "      <button class=\"colab-df-convert\" onclick=\"convertToInteractive('df-63a14eb7-ec97-4ca6-945e-c004dde7e204')\"\n",
              "              title=\"Convert this dataframe to an interactive table.\"\n",
              "              style=\"display:none;\">\n",
              "        \n",
              "  <svg xmlns=\"http://www.w3.org/2000/svg\" height=\"24px\"viewBox=\"0 0 24 24\"\n",
              "       width=\"24px\">\n",
              "    <path d=\"M0 0h24v24H0V0z\" fill=\"none\"/>\n",
              "    <path d=\"M18.56 5.44l.94 2.06.94-2.06 2.06-.94-2.06-.94-.94-2.06-.94 2.06-2.06.94zm-11 1L8.5 8.5l.94-2.06 2.06-.94-2.06-.94L8.5 2.5l-.94 2.06-2.06.94zm10 10l.94 2.06.94-2.06 2.06-.94-2.06-.94-.94-2.06-.94 2.06-2.06.94z\"/><path d=\"M17.41 7.96l-1.37-1.37c-.4-.4-.92-.59-1.43-.59-.52 0-1.04.2-1.43.59L10.3 9.45l-7.72 7.72c-.78.78-.78 2.05 0 2.83L4 21.41c.39.39.9.59 1.41.59.51 0 1.02-.2 1.41-.59l7.78-7.78 2.81-2.81c.8-.78.8-2.07 0-2.86zM5.41 20L4 18.59l7.72-7.72 1.47 1.35L5.41 20z\"/>\n",
              "  </svg>\n",
              "      </button>\n",
              "      \n",
              "  <style>\n",
              "    .colab-df-container {\n",
              "      display:flex;\n",
              "      flex-wrap:wrap;\n",
              "      gap: 12px;\n",
              "    }\n",
              "\n",
              "    .colab-df-convert {\n",
              "      background-color: #E8F0FE;\n",
              "      border: none;\n",
              "      border-radius: 50%;\n",
              "      cursor: pointer;\n",
              "      display: none;\n",
              "      fill: #1967D2;\n",
              "      height: 32px;\n",
              "      padding: 0 0 0 0;\n",
              "      width: 32px;\n",
              "    }\n",
              "\n",
              "    .colab-df-convert:hover {\n",
              "      background-color: #E2EBFA;\n",
              "      box-shadow: 0px 1px 2px rgba(60, 64, 67, 0.3), 0px 1px 3px 1px rgba(60, 64, 67, 0.15);\n",
              "      fill: #174EA6;\n",
              "    }\n",
              "\n",
              "    [theme=dark] .colab-df-convert {\n",
              "      background-color: #3B4455;\n",
              "      fill: #D2E3FC;\n",
              "    }\n",
              "\n",
              "    [theme=dark] .colab-df-convert:hover {\n",
              "      background-color: #434B5C;\n",
              "      box-shadow: 0px 1px 3px 1px rgba(0, 0, 0, 0.15);\n",
              "      filter: drop-shadow(0px 1px 2px rgba(0, 0, 0, 0.3));\n",
              "      fill: #FFFFFF;\n",
              "    }\n",
              "  </style>\n",
              "\n",
              "      <script>\n",
              "        const buttonEl =\n",
              "          document.querySelector('#df-63a14eb7-ec97-4ca6-945e-c004dde7e204 button.colab-df-convert');\n",
              "        buttonEl.style.display =\n",
              "          google.colab.kernel.accessAllowed ? 'block' : 'none';\n",
              "\n",
              "        async function convertToInteractive(key) {\n",
              "          const element = document.querySelector('#df-63a14eb7-ec97-4ca6-945e-c004dde7e204');\n",
              "          const dataTable =\n",
              "            await google.colab.kernel.invokeFunction('convertToInteractive',\n",
              "                                                     [key], {});\n",
              "          if (!dataTable) return;\n",
              "\n",
              "          const docLinkHtml = 'Like what you see? Visit the ' +\n",
              "            '<a target=\"_blank\" href=https://colab.research.google.com/notebooks/data_table.ipynb>data table notebook</a>'\n",
              "            + ' to learn more about interactive tables.';\n",
              "          element.innerHTML = '';\n",
              "          dataTable['output_type'] = 'display_data';\n",
              "          await google.colab.output.renderOutput(dataTable, element);\n",
              "          const docLink = document.createElement('div');\n",
              "          docLink.innerHTML = docLinkHtml;\n",
              "          element.appendChild(docLink);\n",
              "        }\n",
              "      </script>\n",
              "    </div>\n",
              "  </div>\n",
              "  "
            ]
          },
          "metadata": {},
          "execution_count": 44
        }
      ]
    },
    {
      "cell_type": "markdown",
      "source": [
        "### Hit Rate"
      ],
      "metadata": {
        "id": "Ki6I52c1Sc-V"
      },
      "id": "Ki6I52c1Sc-V"
    },
    {
      "cell_type": "code",
      "source": [
        "total=0\n",
        "hit=0\n",
        "for index, row in recommendations.iterrows():\n",
        "    uid=row['user_id']\n",
        "    results=list(row['items'])\n",
        "    total+=1\n",
        "    for rs in results:\n",
        "        \n",
        "        if(((test_df['item'].isin(results)) & (test_df['userId'] ==uid)).any()):\n",
        "                hit+=1\n",
        "                break\n",
        "        \n",
        "hit_ratio=hit/total   \n",
        "print(hit_ratio)"
      ],
      "metadata": {
        "colab": {
          "base_uri": "https://localhost:8080/"
        },
        "id": "ecX0qiAwM5gS",
        "outputId": "5031256f-b8fb-40c1-d57c-46fcd7bfebb8"
      },
      "id": "ecX0qiAwM5gS",
      "execution_count": 45,
      "outputs": [
        {
          "output_type": "stream",
          "name": "stdout",
          "text": [
            "0.015\n"
          ]
        }
      ]
    },
    {
      "cell_type": "markdown",
      "source": [
        "### Hit Rate on liked items"
      ],
      "metadata": {
        "id": "5evcLZzbSgY6"
      },
      "id": "5evcLZzbSgY6"
    },
    {
      "cell_type": "code",
      "source": [
        "total=0\n",
        "hit=0\n",
        "for index, row in recommendations.iterrows():\n",
        "    uid=row['user_id']\n",
        "    results=list(row['items'])\n",
        "    total+=1\n",
        "    for rs in results:\n",
        "        \n",
        "        if(((test_df['item'].isin(results)) & (test_df['userId'] ==uid) & (test_df['rating']>4)).any()):\n",
        "                hit+=1\n",
        "                break\n",
        "        \n",
        "hit_ratio=hit/total   \n",
        "print(hit_ratio)"
      ],
      "metadata": {
        "colab": {
          "base_uri": "https://localhost:8080/"
        },
        "id": "bBLNvlZ0M5jO",
        "outputId": "c7423e72-2c40-462d-eaff-bf93a23428eb"
      },
      "id": "bBLNvlZ0M5jO",
      "execution_count": 46,
      "outputs": [
        {
          "output_type": "stream",
          "name": "stdout",
          "text": [
            "0.015\n"
          ]
        }
      ]
    }
  ],
  "metadata": {
    "colab": {
      "collapsed_sections": [],
      "name": "amazon_product_review_tensorflow_DNN.ipynb",
      "provenance": [],
      "machine_shape": "hm"
    },
    "kernelspec": {
      "display_name": "Python 3",
      "language": "python",
      "name": "python3"
    },
    "language_info": {
      "codemirror_mode": {
        "name": "ipython",
        "version": 3
      },
      "file_extension": ".py",
      "mimetype": "text/x-python",
      "name": "python",
      "nbconvert_exporter": "python",
      "pygments_lexer": "ipython3",
      "version": "3.6.5"
    },
    "accelerator": "GPU",
    "gpuClass": "standard"
  },
  "nbformat": 4,
  "nbformat_minor": 5
}
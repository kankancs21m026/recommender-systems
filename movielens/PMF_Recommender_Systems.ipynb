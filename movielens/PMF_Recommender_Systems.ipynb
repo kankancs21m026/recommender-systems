{
 "cells": [
  {
   "cell_type": "markdown",
   "metadata": {
    "colab_type": "text",
    "id": "sE0imG0HLDgf"
   },
   "source": [
    "# PMF for Recommender Systems\n",
    "\n",
    "- Reference https://towardsdatascience.com/pmf-for-recommender-systems-cbaf20f102f0"
   ]
  },
  {
   "cell_type": "code",
   "execution_count": 50,
   "metadata": {
    "colab": {},
    "colab_type": "code",
    "id": "8-65Kyq2Kv8R"
   },
   "outputs": [],
   "source": [
    "import matplotlib.pyplot as plt\n",
    "import numpy as np\n",
    "import pandas as pd\n",
    "\n",
    "from sklearn.metrics import mean_squared_error"
   ]
  },
  {
   "cell_type": "code",
   "execution_count": 51,
   "metadata": {
    "colab": {
     "base_uri": "https://localhost:8080/",
     "height": 195
    },
    "colab_type": "code",
    "id": "dbWjyrOEC5G1",
    "outputId": "25cce28a-4357-4c26-f687-dd49d5f4fa9b"
   },
   "outputs": [
    {
     "data": {
      "text/html": [
       "<div>\n",
       "<style scoped>\n",
       "    .dataframe tbody tr th:only-of-type {\n",
       "        vertical-align: middle;\n",
       "    }\n",
       "\n",
       "    .dataframe tbody tr th {\n",
       "        vertical-align: top;\n",
       "    }\n",
       "\n",
       "    .dataframe thead th {\n",
       "        text-align: right;\n",
       "    }\n",
       "</style>\n",
       "<table border=\"1\" class=\"dataframe\">\n",
       "  <thead>\n",
       "    <tr style=\"text-align: right;\">\n",
       "      <th></th>\n",
       "      <th>userId</th>\n",
       "      <th>movieId</th>\n",
       "      <th>rating</th>\n",
       "      <th>timestamp</th>\n",
       "    </tr>\n",
       "  </thead>\n",
       "  <tbody>\n",
       "    <tr>\n",
       "      <th>0</th>\n",
       "      <td>1</td>\n",
       "      <td>1</td>\n",
       "      <td>4.0</td>\n",
       "      <td>964982703</td>\n",
       "    </tr>\n",
       "    <tr>\n",
       "      <th>1</th>\n",
       "      <td>1</td>\n",
       "      <td>3</td>\n",
       "      <td>4.0</td>\n",
       "      <td>964981247</td>\n",
       "    </tr>\n",
       "    <tr>\n",
       "      <th>2</th>\n",
       "      <td>1</td>\n",
       "      <td>6</td>\n",
       "      <td>4.0</td>\n",
       "      <td>964982224</td>\n",
       "    </tr>\n",
       "    <tr>\n",
       "      <th>3</th>\n",
       "      <td>1</td>\n",
       "      <td>47</td>\n",
       "      <td>5.0</td>\n",
       "      <td>964983815</td>\n",
       "    </tr>\n",
       "    <tr>\n",
       "      <th>4</th>\n",
       "      <td>1</td>\n",
       "      <td>50</td>\n",
       "      <td>5.0</td>\n",
       "      <td>964982931</td>\n",
       "    </tr>\n",
       "  </tbody>\n",
       "</table>\n",
       "</div>"
      ],
      "text/plain": [
       "   userId  movieId  rating  timestamp\n",
       "0       1        1     4.0  964982703\n",
       "1       1        3     4.0  964981247\n",
       "2       1        6     4.0  964982224\n",
       "3       1       47     5.0  964983815\n",
       "4       1       50     5.0  964982931"
      ]
     },
     "execution_count": 51,
     "metadata": {},
     "output_type": "execute_result"
    }
   ],
   "source": [
    "df = pd.read_csv('ratings.csv')\n",
    "df.head()"
   ]
  },
  {
   "cell_type": "markdown",
   "metadata": {
    "colab_type": "text",
    "id": "XfASJGv4AWHY"
   },
   "source": [
    "As part of the dataset, there is also another file that contains movie information, which includes the movie id, the title, the genre, among others. We can INNER JOIN the ratings and movies datasets to gain access to all data we will need for our analysis."
   ]
  },
  {
   "cell_type": "code",
   "execution_count": 52,
   "metadata": {
    "colab": {
     "base_uri": "https://localhost:8080/",
     "height": 195
    },
    "colab_type": "code",
    "id": "RQqW0Mzh_-Vd",
    "outputId": "9a0cb934-2540-47db-8da0-5f16f4e927c5"
   },
   "outputs": [
    {
     "data": {
      "text/html": [
       "<div>\n",
       "<style scoped>\n",
       "    .dataframe tbody tr th:only-of-type {\n",
       "        vertical-align: middle;\n",
       "    }\n",
       "\n",
       "    .dataframe tbody tr th {\n",
       "        vertical-align: top;\n",
       "    }\n",
       "\n",
       "    .dataframe thead th {\n",
       "        text-align: right;\n",
       "    }\n",
       "</style>\n",
       "<table border=\"1\" class=\"dataframe\">\n",
       "  <thead>\n",
       "    <tr style=\"text-align: right;\">\n",
       "      <th></th>\n",
       "      <th>movieId</th>\n",
       "      <th>title</th>\n",
       "      <th>genres</th>\n",
       "      <th>userId</th>\n",
       "      <th>rating</th>\n",
       "      <th>timestamp</th>\n",
       "    </tr>\n",
       "  </thead>\n",
       "  <tbody>\n",
       "    <tr>\n",
       "      <th>0</th>\n",
       "      <td>1</td>\n",
       "      <td>Toy Story (1995)</td>\n",
       "      <td>Adventure|Animation|Children|Comedy|Fantasy</td>\n",
       "      <td>1</td>\n",
       "      <td>4.0</td>\n",
       "      <td>964982703</td>\n",
       "    </tr>\n",
       "    <tr>\n",
       "      <th>1</th>\n",
       "      <td>1</td>\n",
       "      <td>Toy Story (1995)</td>\n",
       "      <td>Adventure|Animation|Children|Comedy|Fantasy</td>\n",
       "      <td>5</td>\n",
       "      <td>4.0</td>\n",
       "      <td>847434962</td>\n",
       "    </tr>\n",
       "    <tr>\n",
       "      <th>2</th>\n",
       "      <td>1</td>\n",
       "      <td>Toy Story (1995)</td>\n",
       "      <td>Adventure|Animation|Children|Comedy|Fantasy</td>\n",
       "      <td>7</td>\n",
       "      <td>4.5</td>\n",
       "      <td>1106635946</td>\n",
       "    </tr>\n",
       "    <tr>\n",
       "      <th>3</th>\n",
       "      <td>1</td>\n",
       "      <td>Toy Story (1995)</td>\n",
       "      <td>Adventure|Animation|Children|Comedy|Fantasy</td>\n",
       "      <td>15</td>\n",
       "      <td>2.5</td>\n",
       "      <td>1510577970</td>\n",
       "    </tr>\n",
       "    <tr>\n",
       "      <th>4</th>\n",
       "      <td>1</td>\n",
       "      <td>Toy Story (1995)</td>\n",
       "      <td>Adventure|Animation|Children|Comedy|Fantasy</td>\n",
       "      <td>17</td>\n",
       "      <td>4.5</td>\n",
       "      <td>1305696483</td>\n",
       "    </tr>\n",
       "  </tbody>\n",
       "</table>\n",
       "</div>"
      ],
      "text/plain": [
       "   movieId             title                                       genres  \\\n",
       "0        1  Toy Story (1995)  Adventure|Animation|Children|Comedy|Fantasy   \n",
       "1        1  Toy Story (1995)  Adventure|Animation|Children|Comedy|Fantasy   \n",
       "2        1  Toy Story (1995)  Adventure|Animation|Children|Comedy|Fantasy   \n",
       "3        1  Toy Story (1995)  Adventure|Animation|Children|Comedy|Fantasy   \n",
       "4        1  Toy Story (1995)  Adventure|Animation|Children|Comedy|Fantasy   \n",
       "\n",
       "   userId  rating   timestamp  \n",
       "0       1     4.0   964982703  \n",
       "1       5     4.0   847434962  \n",
       "2       7     4.5  1106635946  \n",
       "3      15     2.5  1510577970  \n",
       "4      17     4.5  1305696483  "
      ]
     },
     "execution_count": 52,
     "metadata": {},
     "output_type": "execute_result"
    }
   ],
   "source": [
    "df_movies = pd.read_csv('movies.csv')\n",
    "df_join = pd.merge(df_movies, df, how='inner', on='movieId')\n",
    "df_join.head()"
   ]
  },
  {
   "cell_type": "markdown",
   "metadata": {
    "colab_type": "text",
    "id": "STnXs_BhAnsm"
   },
   "source": [
    "Let's now prepare our sparse review matrix. For this purpose, we first need to find out how many users and movies we have in our dataset. Additionally, we will set S to 5 dimensions."
   ]
  },
  {
   "cell_type": "code",
   "execution_count": 53,
   "metadata": {
    "colab": {},
    "colab_type": "code",
    "id": "BDoGa6i7OFy_"
   },
   "outputs": [],
   "source": [
    "def ratings_matrix(df, train_size=0.8):\n",
    "    users_list = {}\n",
    "    movies_list = {}\n",
    "   \n",
    "    parameters = {}\n",
    "    \n",
    "    uniq_users = np.unique(df.userId.values)\n",
    "    uniq_movies = np.unique(df.movieId.values)\n",
    "\n",
    "    for i, user_id in enumerate(uniq_users):\n",
    "        users_list[user_id] = i\n",
    "\n",
    "    for j, movie_id in enumerate(uniq_movies):\n",
    "        movies_list[movie_id] = j\n",
    "    \n",
    "    num_users = len(uniq_users)\n",
    "    num_movies = len(uniq_movies)\n",
    "    \n",
    "    R = np.zeros((num_users, num_movies))\n",
    "    \n",
    "    df_experiment = df.copy()\n",
    "    train_set = df_experiment.sample(frac=train_size, random_state=0)\n",
    "    test_set = df_experiment.drop(train_set.index)\n",
    "    \n",
    "    for index, row in train_set.iterrows():\n",
    "        i = users_list[row.userId]\n",
    "        j = movies_list[row.movieId]\n",
    "        R[i, j] = row.rating\n",
    "\n",
    "    return R, train_set, test_set, num_users, num_movies, users_list, movies_list"
   ]
  },
  {
   "cell_type": "markdown",
   "metadata": {
    "colab_type": "text",
    "id": "bKIg5iNe5SKn"
   },
   "source": [
    "Let's now call this function and retrieve all necessary parameters."
   ]
  },
  {
   "cell_type": "code",
   "execution_count": 54,
   "metadata": {
    "colab": {},
    "colab_type": "code",
    "id": "HBjrbs8VD6_2"
   },
   "outputs": [],
   "source": [
    "num_dims=10\n",
    "R, train_set, test_set,  num_users, num_movies, users_list, movies_list = ratings_matrix(df_join, 0.8)\n"
   ]
  },
  {
   "cell_type": "markdown",
   "metadata": {
    "colab_type": "text",
    "id": "2C8nnfseBTOM"
   },
   "source": [
    "### Initialise our parameters\n"
   ]
  },
  {
   "cell_type": "markdown",
   "metadata": {
    "colab_type": "text",
    "id": "ntiPL_EnCLe-"
   },
   "source": [
    "Let's now implement the function that updates U and V. The elements of both matrices can be updated using the following expressions:\n",
    "\n",
    "\\begin{equation}\n",
    "\\large\n",
    "U_i=\\left[\\left(V_jV_j^T\\right)_{j\\in\\Omega_{U_i}}+\\lambda_UI\\right]^{-1}\\left(R_{ij}V_j^T\\right)_{j\\in\\Omega_{U_i}}\n",
    "\\end{equation}\n",
    "\n",
    "\\begin{equation}\n",
    "\\large\n",
    "V_j=\\left[\\left(U_iU_i^T\\right)_{i\\in\\Omega_{V_j}}+\\lambda_VI\\right]^{-1}\\left(R_{ij}U_i^T\\right)_{i\\in\\Omega_{V_j}}\n",
    "\\end{equation}"
   ]
  },
  {
   "cell_type": "code",
   "execution_count": 55,
   "metadata": {},
   "outputs": [],
   "source": [
    "parameters = {}"
   ]
  },
  {
   "cell_type": "code",
   "execution_count": 56,
   "metadata": {
    "colab": {},
    "colab_type": "code",
    "id": "DjKB4TzFkoJx"
   },
   "outputs": [],
   "source": [
    "# def update_parameters():\n",
    "#     U = parameters['U']\n",
    "#     V = parameters['V']\n",
    "#     lambda_U = parameters['lambda_U']\n",
    "#     lambda_V = parameters['lambda_V']\n",
    "    \n",
    "#     for i in range(num_users):\n",
    "#         V_j = V[:, R[i, :] > 0]\n",
    "#         U[:, i] = np.dot(np.linalg.inv(np.dot(V_j, V_j.T) + lambda_U * np.identity(num_dims)), np.dot(R[i, R[i, :] > 0], V_j.T))\n",
    "        \n",
    "#     for j in range(num_movies):\n",
    "#         U_i = U[:, R[:, j] > 0]\n",
    "#         V[:, j] = np.dot(np.linalg.inv(np.dot(U_i, U_i.T) + lambda_V * np.identity(num_dims)), np.dot(R[R[:, j] > 0, j], U_i.T))\n",
    "        \n",
    "#     parameters['U'] = U\n",
    "#     parameters['V'] = V"
   ]
  },
  {
   "cell_type": "markdown",
   "metadata": {
    "colab_type": "text",
    "id": "hQ5in2inJApx"
   },
   "source": [
    "Now let's implement the Log-a posteriori:\n",
    "\n",
    "\\begin{equation}\n",
    "\\large\n",
    "L=-\\frac 1 2 \\left(\\sum_{i=1}^N\\sum_{j=1}^M(R_{ij}-U_i^TV_j)_{(i,j) \\in \\Omega_{R_{ij}}}^2+\\lambda_U\\sum_{i=1}^N\\|U_i\\|_{Fro}^2+\\lambda_V\\sum_{j=1}^M\\|V_j\\|_{Fro}^2\\right)\n",
    "\\end{equation}"
   ]
  },
  {
   "cell_type": "markdown",
   "metadata": {
    "colab_type": "text",
    "id": "68fmuPQrPRnU"
   },
   "source": [
    "The __predict__ function allows us to predict the rating value given the __user_id__ and the __movie_id__ parameters. The value has been scaled within the range 0-5"
   ]
  },
  {
   "cell_type": "code",
   "execution_count": 57,
   "metadata": {
    "colab": {},
    "colab_type": "code",
    "id": "neTN8ejbQ5dg"
   },
   "outputs": [],
   "source": [
    "def predict(user_id, movie_id):\n",
    "    U = parameters['U']\n",
    "    V = parameters['V']\n",
    "    \n",
    "    r_ij = U[:, users_list[user_id]].T.reshape(1, -1) @ V[:, movies_list[movie_id]].reshape(-1, 1)\n",
    "\n",
    "    max_rating = parameters['max_rating']\n",
    "    min_rating = parameters['min_rating']\n",
    "\n",
    "    return 0 if max_rating == min_rating else ((r_ij[0][0] - min_rating) / (max_rating - min_rating)) * 5.0"
   ]
  },
  {
   "cell_type": "markdown",
   "metadata": {
    "colab_type": "text",
    "id": "7Rt2ol1j7OJ0"
   },
   "source": [
    "The __evaluate__ function will calculate the __RMSE__ of the model given a dataset (train or test)."
   ]
  },
  {
   "cell_type": "code",
   "execution_count": 58,
   "metadata": {
    "colab": {},
    "colab_type": "code",
    "id": "jnNGbogWh6OR"
   },
   "outputs": [],
   "source": [
    "def evaluate(dataset):\n",
    "    ground_truths = []\n",
    "    predictions = []\n",
    "    \n",
    "    for index, row in dataset.iterrows():\n",
    "        ground_truths.append(row.loc['rating'])\n",
    "        predictions.append(predict(row.loc['userId'], row.loc['movieId']))\n",
    "    \n",
    "    return mean_squared_error(ground_truths, predictions, squared=False)"
   ]
  },
  {
   "cell_type": "markdown",
   "metadata": {
    "colab_type": "text",
    "id": "6R1ePeME7qSW"
   },
   "source": [
    "For the purposes of scaling, we need the maximum and minimum rating values."
   ]
  },
  {
   "cell_type": "code",
   "execution_count": 59,
   "metadata": {
    "colab": {},
    "colab_type": "code",
    "id": "YNIlELvx0M0W"
   },
   "outputs": [],
   "source": [
    "def update_max_min_ratings():\n",
    "    U = parameters['U']\n",
    "    V = parameters['V']\n",
    "\n",
    "    R = U.T @ V\n",
    "    min_rating = np.min(R)\n",
    "    max_rating = np.max(R)\n",
    "\n",
    "    parameters['min_rating'] = min_rating\n",
    "    parameters['max_rating'] = max_rating"
   ]
  },
  {
   "cell_type": "markdown",
   "metadata": {
    "colab_type": "text",
    "id": "AZGq6J9pDl5O"
   },
   "source": [
    "The __train__ function implements the code necessary for training the model as well as recording the __RMSE__ values on the training and testing sets."
   ]
  },
  {
   "cell_type": "code",
   "execution_count": 60,
   "metadata": {
    "colab": {},
    "colab_type": "code",
    "id": "5PUgHUp2MeZI"
   },
   "outputs": [],
   "source": [
    "def log_a_posteriori():\n",
    "    lambda_u = parameters['lambda_U']\n",
    "    lambda_v = parameters['lambda_V']\n",
    "    U = parameters['U']\n",
    "    V = parameters['V']\n",
    "    \n",
    "    UV = np.dot(U.T, V)\n",
    "    R_UV = (R[R > 0] - UV[R > 0])\n",
    "    \n",
    "    return -0.5 * (np.sum(np.dot(R_UV, R_UV.T)) + lambda_u * np.sum(np.dot(U, U.T)) + lambda_v * np.sum(np.dot(V, V.T)))"
   ]
  },
  {
   "cell_type": "code",
   "execution_count": 61,
   "metadata": {
    "colab": {},
    "colab_type": "code",
    "id": "VYwTD_nBNO5F"
   },
   "outputs": [],
   "source": [
    "def train(n_epochs,lambda_u=0.3,lambda_v=0.3):\n",
    "    \n",
    "    log_aps = []\n",
    "    rmse_train = []\n",
    "    rmse_test = []\n",
    "    #initialise parameters\n",
    "    U = np.zeros((num_dims, num_users), dtype=np.float64)\n",
    "    V = np.random.normal(0.0, 1.0 / lambda_v, (num_dims, num_movies))\n",
    "    \n",
    "    parameters['U'] = U\n",
    "    parameters['V'] = V\n",
    "    parameters['lambda_U'] = lambda_u\n",
    "    parameters['lambda_V'] = lambda_v\n",
    "    \n",
    "    \n",
    "    update_max_min_ratings()\n",
    "    rmse_train.append(evaluate(train_set))\n",
    "    rmse_test.append(evaluate(test_set))\n",
    "    \n",
    "    for k in range(n_epochs):\n",
    "        #update parameters\n",
    "        for i in range(num_users):\n",
    "            V_j = V[:, R[i, :] > 0]\n",
    "            U[:, i] = np.dot(np.linalg.inv(np.dot(V_j, V_j.T) + lambda_u * np.identity(num_dims)), np.dot(R[i, R[i, :] > 0], V_j.T))\n",
    "        \n",
    "        for j in range(num_movies):\n",
    "            U_i = U[:, R[:, j] > 0]\n",
    "            V[:, j] = np.dot(np.linalg.inv(np.dot(U_i, U_i.T) + lambda_v * np.identity(num_dims)), np.dot(R[R[:, j] > 0, j], U_i.T))\n",
    "        \n",
    "        parameters['U'] = U\n",
    "        parameters['V'] = V\n",
    "        log_ap = log_a_posteriori()\n",
    "        log_aps.append(log_ap)\n",
    "\n",
    "        if (k + 1) % 10 == 0:\n",
    "            update_max_min_ratings()\n",
    "\n",
    "            rmse_train.append(evaluate(train_set))\n",
    "            rmse_test.append(evaluate(test_set))\n",
    "            print('Log p a-posteriori at iteration', k + 1, ':', log_ap)\n",
    "\n",
    "    update_max_min_ratings()\n",
    "\n",
    "    return log_aps, rmse_train, rmse_test"
   ]
  },
  {
   "cell_type": "markdown",
   "metadata": {
    "colab_type": "text",
    "id": "SJbozBbQPk9A"
   },
   "source": [
    "Let's train our model!"
   ]
  },
  {
   "cell_type": "code",
   "execution_count": 62,
   "metadata": {
    "colab": {
     "base_uri": "https://localhost:8080/",
     "height": 281
    },
    "colab_type": "code",
    "id": "XeH5sRNp7eHA",
    "outputId": "8e0cb783-9b32-41aa-9a4a-908aac9d613d"
   },
   "outputs": [
    {
     "name": "stdout",
     "output_type": "stream",
     "text": [
      "Log p a-posteriori at iteration 10 : -21340.04590991172\n",
      "Log p a-posteriori at iteration 20 : -17647.26119755933\n",
      "Log p a-posteriori at iteration 30 : -15869.492327800977\n",
      "Log p a-posteriori at iteration 40 : -14629.191205488514\n",
      "Log p a-posteriori at iteration 50 : -13690.180242669601\n",
      "Log p a-posteriori at iteration 60 : -12997.395692480704\n",
      "Log p a-posteriori at iteration 70 : -12496.647469207832\n",
      "Log p a-posteriori at iteration 80 : -12134.083083582029\n",
      "Log p a-posteriori at iteration 90 : -11870.007170045903\n",
      "Log p a-posteriori at iteration 100 : -11661.44039290928\n",
      "Log p a-posteriori at iteration 110 : -11486.580407608988\n",
      "Log p a-posteriori at iteration 120 : -11340.409400719522\n",
      "Log p a-posteriori at iteration 130 : -11225.350249897889\n",
      "Log p a-posteriori at iteration 140 : -11136.145028949879\n",
      "Log p a-posteriori at iteration 150 : -11069.33792363025\n",
      "Log p a-posteriori at iteration 160 : -11018.176954766575\n",
      "Log p a-posteriori at iteration 170 : -10965.445553377354\n",
      "Log p a-posteriori at iteration 180 : -10916.857385345593\n",
      "Log p a-posteriori at iteration 190 : -10869.65874645697\n",
      "Log p a-posteriori at iteration 200 : -10825.192077593667\n"
     ]
    }
   ],
   "source": [
    "log_ps, rmse_train, rmse_test = train(200)"
   ]
  },
  {
   "cell_type": "markdown",
   "metadata": {
    "colab_type": "text",
    "id": "TKzp4hukECUE"
   },
   "source": [
    "Now let's take a look at some graphs"
   ]
  },
  {
   "cell_type": "code",
   "execution_count": 63,
   "metadata": {
    "colab": {
     "base_uri": "https://localhost:8080/"
    },
    "colab_type": "code",
    "id": "yRr_wko07e37",
    "outputId": "46313b0b-5d4a-4448-8638-12ef81baf4c2"
   },
   "outputs": [
    {
     "data": {
      "image/png": "[encoded data removed]",
      "text/plain": [
       "<Figure size 1440x720 with 2 Axes>"
      ]
     },
     "metadata": {
      "needs_background": "light"
     },
     "output_type": "display_data"
    }
   ],
   "source": [
    "_, (ax1, ax2) = plt.subplots(1, 2, figsize=(20, 10))\n",
    "plt.title('Training results')\n",
    "ax1.plot(np.arange(len(log_ps)), log_ps, label='MAP')\n",
    "ax1.legend()\n",
    "\n",
    "ax2.plot(np.arange(len(rmse_train)), rmse_train, label='RMSE train')\n",
    "ax2.plot(np.arange(len(rmse_test)), rmse_test, label='RMSE test')\n",
    "ax2.legend()\n",
    "\n",
    "plt.show()"
   ]
  },
  {
   "cell_type": "markdown",
   "metadata": {
    "colab_type": "text",
    "id": "-nhrZDHvPx1-"
   },
   "source": [
    "Let's now evaluate our model on both the training and testing sets."
   ]
  },
  {
   "cell_type": "code",
   "execution_count": 64,
   "metadata": {
    "colab": {
     "base_uri": "https://localhost:8080/",
     "height": 52
    },
    "colab_type": "code",
    "id": "L9mKLM7BkuVz",
    "outputId": "7884e7ea-0349-4824-cd80-7c4add36f76c"
   },
   "outputs": [
    {
     "name": "stdout",
     "output_type": "stream",
     "text": [
      "RMSE of training set: 1.1015740960435176\n",
      "RMSE of testing set: 1.1945840359248003\n"
     ]
    }
   ],
   "source": [
    "print('RMSE of training set:', evaluate(train_set))\n",
    "print('RMSE of testing set:', evaluate(test_set))"
   ]
  },
  {
   "cell_type": "markdown",
   "metadata": {
    "colab_type": "text",
    "id": "JEZtM1UiQUrA"
   },
   "source": [
    "Now we will pick a user from the database and look at his/her preferences."
   ]
  },
  {
   "cell_type": "code",
   "execution_count": 65,
   "metadata": {
    "colab": {
     "base_uri": "https://localhost:8080/"
    },
    "colab_type": "code",
    "id": "t-KBJYqbU--g",
    "outputId": "5a80faa9-26a8-42d1-ed08-0c75c83635ec"
   },
   "outputs": [
    {
     "data": {
      "text/html": [
       "<div>\n",
       "<style scoped>\n",
       "    .dataframe tbody tr th:only-of-type {\n",
       "        vertical-align: middle;\n",
       "    }\n",
       "\n",
       "    .dataframe tbody tr th {\n",
       "        vertical-align: top;\n",
       "    }\n",
       "\n",
       "    .dataframe thead th {\n",
       "        text-align: right;\n",
       "    }\n",
       "</style>\n",
       "<table border=\"1\" class=\"dataframe\">\n",
       "  <thead>\n",
       "    <tr style=\"text-align: right;\">\n",
       "      <th></th>\n",
       "      <th>movieId</th>\n",
       "      <th>title</th>\n",
       "      <th>genres</th>\n",
       "      <th>userId</th>\n",
       "      <th>rating</th>\n",
       "      <th>timestamp</th>\n",
       "    </tr>\n",
       "  </thead>\n",
       "  <tbody>\n",
       "    <tr>\n",
       "      <th>99259</th>\n",
       "      <td>140110</td>\n",
       "      <td>The Intern (2015)</td>\n",
       "      <td>Comedy</td>\n",
       "      <td>10</td>\n",
       "      <td>5.0</td>\n",
       "      <td>1455356776</td>\n",
       "    </tr>\n",
       "    <tr>\n",
       "      <th>77147</th>\n",
       "      <td>8869</td>\n",
       "      <td>First Daughter (2004)</td>\n",
       "      <td>Comedy|Romance</td>\n",
       "      <td>10</td>\n",
       "      <td>5.0</td>\n",
       "      <td>1455303064</td>\n",
       "    </tr>\n",
       "    <tr>\n",
       "      <th>94672</th>\n",
       "      <td>96079</td>\n",
       "      <td>Skyfall (2012)</td>\n",
       "      <td>Action|Adventure|Thriller|IMAX</td>\n",
       "      <td>10</td>\n",
       "      <td>5.0</td>\n",
       "      <td>1455302172</td>\n",
       "    </tr>\n",
       "    <tr>\n",
       "      <th>93816</th>\n",
       "      <td>91529</td>\n",
       "      <td>Dark Knight Rises, The (2012)</td>\n",
       "      <td>Action|Adventure|Crime|IMAX</td>\n",
       "      <td>10</td>\n",
       "      <td>5.0</td>\n",
       "      <td>1455302120</td>\n",
       "    </tr>\n",
       "    <tr>\n",
       "      <th>75192</th>\n",
       "      <td>7458</td>\n",
       "      <td>Troy (2004)</td>\n",
       "      <td>Action|Adventure|Drama|War</td>\n",
       "      <td>10</td>\n",
       "      <td>5.0</td>\n",
       "      <td>1455356656</td>\n",
       "    </tr>\n",
       "    <tr>\n",
       "      <th>92100</th>\n",
       "      <td>81845</td>\n",
       "      <td>King's Speech, The (2010)</td>\n",
       "      <td>Drama</td>\n",
       "      <td>10</td>\n",
       "      <td>5.0</td>\n",
       "      <td>1455302591</td>\n",
       "    </tr>\n",
       "    <tr>\n",
       "      <th>76341</th>\n",
       "      <td>8533</td>\n",
       "      <td>Notebook, The (2004)</td>\n",
       "      <td>Drama|Romance</td>\n",
       "      <td>10</td>\n",
       "      <td>5.0</td>\n",
       "      <td>1455301847</td>\n",
       "    </tr>\n",
       "    <tr>\n",
       "      <th>91318</th>\n",
       "      <td>79091</td>\n",
       "      <td>Despicable Me (2010)</td>\n",
       "      <td>Animation|Children|Comedy|Crime</td>\n",
       "      <td>10</td>\n",
       "      <td>5.0</td>\n",
       "      <td>1455306124</td>\n",
       "    </tr>\n",
       "    <tr>\n",
       "      <th>90172</th>\n",
       "      <td>71579</td>\n",
       "      <td>Education, An (2009)</td>\n",
       "      <td>Drama|Romance</td>\n",
       "      <td>10</td>\n",
       "      <td>5.0</td>\n",
       "      <td>1455301869</td>\n",
       "    </tr>\n",
       "    <tr>\n",
       "      <th>80014</th>\n",
       "      <td>33794</td>\n",
       "      <td>Batman Begins (2005)</td>\n",
       "      <td>Action|Crime|IMAX</td>\n",
       "      <td>10</td>\n",
       "      <td>5.0</td>\n",
       "      <td>1455302031</td>\n",
       "    </tr>\n",
       "  </tbody>\n",
       "</table>\n",
       "</div>"
      ],
      "text/plain": [
       "       movieId                          title  \\\n",
       "99259   140110              The Intern (2015)   \n",
       "77147     8869          First Daughter (2004)   \n",
       "94672    96079                 Skyfall (2012)   \n",
       "93816    91529  Dark Knight Rises, The (2012)   \n",
       "75192     7458                    Troy (2004)   \n",
       "92100    81845      King's Speech, The (2010)   \n",
       "76341     8533           Notebook, The (2004)   \n",
       "91318    79091           Despicable Me (2010)   \n",
       "90172    71579           Education, An (2009)   \n",
       "80014    33794           Batman Begins (2005)   \n",
       "\n",
       "                                genres  userId  rating   timestamp  \n",
       "99259                           Comedy      10     5.0  1455356776  \n",
       "77147                   Comedy|Romance      10     5.0  1455303064  \n",
       "94672   Action|Adventure|Thriller|IMAX      10     5.0  1455302172  \n",
       "93816      Action|Adventure|Crime|IMAX      10     5.0  1455302120  \n",
       "75192       Action|Adventure|Drama|War      10     5.0  1455356656  \n",
       "92100                            Drama      10     5.0  1455302591  \n",
       "76341                    Drama|Romance      10     5.0  1455301847  \n",
       "91318  Animation|Children|Comedy|Crime      10     5.0  1455306124  \n",
       "90172                    Drama|Romance      10     5.0  1455301869  \n",
       "80014                Action|Crime|IMAX      10     5.0  1455302031  "
      ]
     },
     "execution_count": 65,
     "metadata": {},
     "output_type": "execute_result"
    }
   ],
   "source": [
    "user_id = 10\n",
    "df_join[df_join['userId'] == user_id].sort_values(by=['rating'], ascending=False).head(10)"
   ]
  },
  {
   "cell_type": "markdown",
   "metadata": {
    "colab_type": "text",
    "id": "lfsqp9f3QcXi"
   },
   "source": [
    "Let's look at the least preferred items."
   ]
  },
  {
   "cell_type": "code",
   "execution_count": 66,
   "metadata": {
    "colab": {
     "base_uri": "https://localhost:8080/"
    },
    "colab_type": "code",
    "id": "bkHatTbO19dL",
    "outputId": "09a3fda4-1456-460c-d827-074f81b8094e"
   },
   "outputs": [
    {
     "data": {
      "text/html": [
       "<div>\n",
       "<style scoped>\n",
       "    .dataframe tbody tr th:only-of-type {\n",
       "        vertical-align: middle;\n",
       "    }\n",
       "\n",
       "    .dataframe tbody tr th {\n",
       "        vertical-align: top;\n",
       "    }\n",
       "\n",
       "    .dataframe thead th {\n",
       "        text-align: right;\n",
       "    }\n",
       "</style>\n",
       "<table border=\"1\" class=\"dataframe\">\n",
       "  <thead>\n",
       "    <tr style=\"text-align: right;\">\n",
       "      <th></th>\n",
       "      <th>movieId</th>\n",
       "      <th>title</th>\n",
       "      <th>genres</th>\n",
       "      <th>userId</th>\n",
       "      <th>rating</th>\n",
       "      <th>timestamp</th>\n",
       "    </tr>\n",
       "  </thead>\n",
       "  <tbody>\n",
       "    <tr>\n",
       "      <th>96729</th>\n",
       "      <td>109487</td>\n",
       "      <td>Interstellar (2014)</td>\n",
       "      <td>Sci-Fi|IMAX</td>\n",
       "      <td>10</td>\n",
       "      <td>0.5</td>\n",
       "      <td>1455398092</td>\n",
       "    </tr>\n",
       "    <tr>\n",
       "      <th>96670</th>\n",
       "      <td>109374</td>\n",
       "      <td>Grand Budapest Hotel, The (2014)</td>\n",
       "      <td>Comedy|Drama</td>\n",
       "      <td>10</td>\n",
       "      <td>0.5</td>\n",
       "      <td>1455302315</td>\n",
       "    </tr>\n",
       "    <tr>\n",
       "      <th>21988</th>\n",
       "      <td>1028</td>\n",
       "      <td>Mary Poppins (1964)</td>\n",
       "      <td>Children|Comedy|Fantasy|Musical</td>\n",
       "      <td>10</td>\n",
       "      <td>0.5</td>\n",
       "      <td>1455306152</td>\n",
       "    </tr>\n",
       "    <tr>\n",
       "      <th>88624</th>\n",
       "      <td>64969</td>\n",
       "      <td>Yes Man (2008)</td>\n",
       "      <td>Comedy</td>\n",
       "      <td>10</td>\n",
       "      <td>0.5</td>\n",
       "      <td>1455357607</td>\n",
       "    </tr>\n",
       "    <tr>\n",
       "      <th>49837</th>\n",
       "      <td>2959</td>\n",
       "      <td>Fight Club (1999)</td>\n",
       "      <td>Action|Crime|Drama|Thriller</td>\n",
       "      <td>10</td>\n",
       "      <td>0.5</td>\n",
       "      <td>1455356582</td>\n",
       "    </tr>\n",
       "    <tr>\n",
       "      <th>94899</th>\n",
       "      <td>97024</td>\n",
       "      <td>Rust and Bone (De rouille et d'os) (2012)</td>\n",
       "      <td>Drama|Romance</td>\n",
       "      <td>10</td>\n",
       "      <td>0.5</td>\n",
       "      <td>1455301892</td>\n",
       "    </tr>\n",
       "    <tr>\n",
       "      <th>45016</th>\n",
       "      <td>2571</td>\n",
       "      <td>Matrix, The (1999)</td>\n",
       "      <td>Action|Sci-Fi|Thriller</td>\n",
       "      <td>10</td>\n",
       "      <td>0.5</td>\n",
       "      <td>1455356378</td>\n",
       "    </tr>\n",
       "    <tr>\n",
       "      <th>89898</th>\n",
       "      <td>70293</td>\n",
       "      <td>Julie &amp; Julia (2009)</td>\n",
       "      <td>Comedy|Drama|Romance</td>\n",
       "      <td>10</td>\n",
       "      <td>0.5</td>\n",
       "      <td>1455398141</td>\n",
       "    </tr>\n",
       "    <tr>\n",
       "      <th>47684</th>\n",
       "      <td>2762</td>\n",
       "      <td>Sixth Sense, The (1999)</td>\n",
       "      <td>Drama|Horror|Mystery</td>\n",
       "      <td>10</td>\n",
       "      <td>0.5</td>\n",
       "      <td>1455356388</td>\n",
       "    </tr>\n",
       "    <tr>\n",
       "      <th>7865</th>\n",
       "      <td>296</td>\n",
       "      <td>Pulp Fiction (1994)</td>\n",
       "      <td>Comedy|Crime|Drama|Thriller</td>\n",
       "      <td>10</td>\n",
       "      <td>1.0</td>\n",
       "      <td>1455303387</td>\n",
       "    </tr>\n",
       "  </tbody>\n",
       "</table>\n",
       "</div>"
      ],
      "text/plain": [
       "       movieId                                      title  \\\n",
       "96729   109487                        Interstellar (2014)   \n",
       "96670   109374           Grand Budapest Hotel, The (2014)   \n",
       "21988     1028                        Mary Poppins (1964)   \n",
       "88624    64969                             Yes Man (2008)   \n",
       "49837     2959                          Fight Club (1999)   \n",
       "94899    97024  Rust and Bone (De rouille et d'os) (2012)   \n",
       "45016     2571                         Matrix, The (1999)   \n",
       "89898    70293                       Julie & Julia (2009)   \n",
       "47684     2762                    Sixth Sense, The (1999)   \n",
       "7865       296                        Pulp Fiction (1994)   \n",
       "\n",
       "                                genres  userId  rating   timestamp  \n",
       "96729                      Sci-Fi|IMAX      10     0.5  1455398092  \n",
       "96670                     Comedy|Drama      10     0.5  1455302315  \n",
       "21988  Children|Comedy|Fantasy|Musical      10     0.5  1455306152  \n",
       "88624                           Comedy      10     0.5  1455357607  \n",
       "49837      Action|Crime|Drama|Thriller      10     0.5  1455356582  \n",
       "94899                    Drama|Romance      10     0.5  1455301892  \n",
       "45016           Action|Sci-Fi|Thriller      10     0.5  1455356378  \n",
       "89898             Comedy|Drama|Romance      10     0.5  1455398141  \n",
       "47684             Drama|Horror|Mystery      10     0.5  1455356388  \n",
       "7865       Comedy|Crime|Drama|Thriller      10     1.0  1455303387  "
      ]
     },
     "execution_count": 66,
     "metadata": {},
     "output_type": "execute_result"
    }
   ],
   "source": [
    "df_join[df_join['userId'] == user_id].sort_values(by=['rating']).head(10)"
   ]
  },
  {
   "cell_type": "markdown",
   "metadata": {
    "colab_type": "text",
    "id": "iGu6-AnIQgyy"
   },
   "source": [
    "Let's now look at the most likely preferences of the selected user."
   ]
  },
  {
   "cell_type": "code",
   "execution_count": 67,
   "metadata": {
    "colab": {
     "base_uri": "https://localhost:8080/"
    },
    "colab_type": "code",
    "id": "EX_poCW7WcZO",
    "outputId": "d8e8cd67-3b00-4836-8a00-d87b349070a9"
   },
   "outputs": [
    {
     "data": {
      "text/html": [
       "<div>\n",
       "<style scoped>\n",
       "    .dataframe tbody tr th:only-of-type {\n",
       "        vertical-align: middle;\n",
       "    }\n",
       "\n",
       "    .dataframe tbody tr th {\n",
       "        vertical-align: top;\n",
       "    }\n",
       "\n",
       "    .dataframe thead th {\n",
       "        text-align: right;\n",
       "    }\n",
       "</style>\n",
       "<table border=\"1\" class=\"dataframe\">\n",
       "  <thead>\n",
       "    <tr style=\"text-align: right;\">\n",
       "      <th></th>\n",
       "      <th>UserID</th>\n",
       "      <th>MovieID</th>\n",
       "      <th>Movie</th>\n",
       "      <th>Genres</th>\n",
       "      <th>Prediction</th>\n",
       "    </tr>\n",
       "  </thead>\n",
       "  <tbody>\n",
       "    <tr>\n",
       "      <th>0</th>\n",
       "      <td>10</td>\n",
       "      <td>880</td>\n",
       "      <td>Island of Dr. Moreau, The (1996)</td>\n",
       "      <td>Sci-Fi|Thriller</td>\n",
       "      <td>3.977719</td>\n",
       "    </tr>\n",
       "    <tr>\n",
       "      <th>1</th>\n",
       "      <td>10</td>\n",
       "      <td>102903</td>\n",
       "      <td>Now You See Me (2013)</td>\n",
       "      <td>Crime|Mystery|Thriller</td>\n",
       "      <td>3.952081</td>\n",
       "    </tr>\n",
       "    <tr>\n",
       "      <th>2</th>\n",
       "      <td>10</td>\n",
       "      <td>543</td>\n",
       "      <td>So I Married an Axe Murderer (1993)</td>\n",
       "      <td>Comedy|Romance|Thriller</td>\n",
       "      <td>3.929483</td>\n",
       "    </tr>\n",
       "    <tr>\n",
       "      <th>3</th>\n",
       "      <td>10</td>\n",
       "      <td>108190</td>\n",
       "      <td>Divergent (2014)</td>\n",
       "      <td>Adventure|Romance|Sci-Fi|IMAX</td>\n",
       "      <td>3.842856</td>\n",
       "    </tr>\n",
       "    <tr>\n",
       "      <th>4</th>\n",
       "      <td>10</td>\n",
       "      <td>1711</td>\n",
       "      <td>Midnight in the Garden of Good and Evil (1997)</td>\n",
       "      <td>Crime|Drama|Mystery</td>\n",
       "      <td>3.834595</td>\n",
       "    </tr>\n",
       "    <tr>\n",
       "      <th>5</th>\n",
       "      <td>10</td>\n",
       "      <td>273</td>\n",
       "      <td>Mary Shelley's Frankenstein (Frankenstein) (1994)</td>\n",
       "      <td>Drama|Horror|Sci-Fi</td>\n",
       "      <td>3.796053</td>\n",
       "    </tr>\n",
       "    <tr>\n",
       "      <th>6</th>\n",
       "      <td>10</td>\n",
       "      <td>3440</td>\n",
       "      <td>Teenage Mutant Ninja Turtles III (1993)</td>\n",
       "      <td>Action|Adventure|Children|Comedy|Fantasy</td>\n",
       "      <td>3.741631</td>\n",
       "    </tr>\n",
       "    <tr>\n",
       "      <th>7</th>\n",
       "      <td>10</td>\n",
       "      <td>81564</td>\n",
       "      <td>Megamind (2010)</td>\n",
       "      <td>Action|Animation|Children|Comedy|Sci-Fi|IMAX</td>\n",
       "      <td>3.651779</td>\n",
       "    </tr>\n",
       "    <tr>\n",
       "      <th>8</th>\n",
       "      <td>10</td>\n",
       "      <td>4002</td>\n",
       "      <td>Planes, Trains &amp; Automobiles (1987)</td>\n",
       "      <td>Comedy</td>\n",
       "      <td>3.648877</td>\n",
       "    </tr>\n",
       "    <tr>\n",
       "      <th>9</th>\n",
       "      <td>10</td>\n",
       "      <td>218</td>\n",
       "      <td>Boys on the Side (1995)</td>\n",
       "      <td>Comedy|Drama</td>\n",
       "      <td>3.648483</td>\n",
       "    </tr>\n",
       "  </tbody>\n",
       "</table>\n",
       "</div>"
      ],
      "text/plain": [
       "  UserID MovieID                                              Movie  \\\n",
       "0     10     880                   Island of Dr. Moreau, The (1996)   \n",
       "1     10  102903                              Now You See Me (2013)   \n",
       "2     10     543                So I Married an Axe Murderer (1993)   \n",
       "3     10  108190                                   Divergent (2014)   \n",
       "4     10    1711     Midnight in the Garden of Good and Evil (1997)   \n",
       "5     10     273  Mary Shelley's Frankenstein (Frankenstein) (1994)   \n",
       "6     10    3440            Teenage Mutant Ninja Turtles III (1993)   \n",
       "7     10   81564                                    Megamind (2010)   \n",
       "8     10    4002                Planes, Trains & Automobiles (1987)   \n",
       "9     10     218                            Boys on the Side (1995)   \n",
       "\n",
       "                                         Genres  Prediction  \n",
       "0                               Sci-Fi|Thriller    3.977719  \n",
       "1                        Crime|Mystery|Thriller    3.952081  \n",
       "2                       Comedy|Romance|Thriller    3.929483  \n",
       "3                 Adventure|Romance|Sci-Fi|IMAX    3.842856  \n",
       "4                           Crime|Drama|Mystery    3.834595  \n",
       "5                           Drama|Horror|Sci-Fi    3.796053  \n",
       "6      Action|Adventure|Children|Comedy|Fantasy    3.741631  \n",
       "7  Action|Animation|Children|Comedy|Sci-Fi|IMAX    3.651779  \n",
       "8                                        Comedy    3.648877  \n",
       "9                                  Comedy|Drama    3.648483  "
      ]
     },
     "execution_count": 67,
     "metadata": {},
     "output_type": "execute_result"
    }
   ],
   "source": [
    "predictions = np.zeros((num_movies, 1))\n",
    "movies_list_items = np.array(list(movies_list.items()))\n",
    "df_result = pd.DataFrame(columns=['UserID', 'MovieID', 'Movie', 'Genres', 'Prediction'])\n",
    "\n",
    "for i, movie in enumerate(movies_list_items):\n",
    "    predictions[i] = predict(user_id, movie[0])\n",
    "    \n",
    "indices = np.argsort(-predictions, axis=0)\n",
    "\n",
    "for j in range(10):\n",
    "    movie_id = int(movies_list_items[np.where(movies_list_items[:, 1] == indices[j])][0][0])\n",
    "    df_row = pd.DataFrame({\n",
    "        'UserID': user_id,\n",
    "        'MovieID': movie_id,\n",
    "        'Movie': df_movies[df_movies['movieId'] == movie_id].iloc[0]['title'],\n",
    "        'Genres': df_movies[df_movies['movieId'] == movie_id].iloc[0]['genres'],\n",
    "        'Prediction': predictions[indices[j]][0][0]\n",
    "    }, index=[j])\n",
    "    df_result = df_result.append(df_row, sort=False)\n",
    "    \n",
    "df_result"
   ]
  },
  {
   "cell_type": "markdown",
   "metadata": {
    "colab_type": "text",
    "id": "S2xU-gjQQrwZ"
   },
   "source": [
    "Now the predictions for least preferred items."
   ]
  },
  {
   "cell_type": "code",
   "execution_count": 68,
   "metadata": {
    "colab": {
     "base_uri": "https://localhost:8080/"
    },
    "colab_type": "code",
    "id": "d2nL5rsz2dR8",
    "outputId": "3924eb3e-d164-48c7-9738-f2cff38bd4c1"
   },
   "outputs": [
    {
     "data": {
      "text/html": [
       "<div>\n",
       "<style scoped>\n",
       "    .dataframe tbody tr th:only-of-type {\n",
       "        vertical-align: middle;\n",
       "    }\n",
       "\n",
       "    .dataframe tbody tr th {\n",
       "        vertical-align: top;\n",
       "    }\n",
       "\n",
       "    .dataframe thead th {\n",
       "        text-align: right;\n",
       "    }\n",
       "</style>\n",
       "<table border=\"1\" class=\"dataframe\">\n",
       "  <thead>\n",
       "    <tr style=\"text-align: right;\">\n",
       "      <th></th>\n",
       "      <th>UserID</th>\n",
       "      <th>MovieID</th>\n",
       "      <th>Movie</th>\n",
       "      <th>Genres</th>\n",
       "      <th>Prediction</th>\n",
       "    </tr>\n",
       "  </thead>\n",
       "  <tbody>\n",
       "    <tr>\n",
       "      <th>0</th>\n",
       "      <td>10</td>\n",
       "      <td>4255</td>\n",
       "      <td>Freddy Got Fingered (2001)</td>\n",
       "      <td>Comedy</td>\n",
       "      <td>0.857602</td>\n",
       "    </tr>\n",
       "    <tr>\n",
       "      <th>1</th>\n",
       "      <td>10</td>\n",
       "      <td>59900</td>\n",
       "      <td>You Don't Mess with the Zohan (2008)</td>\n",
       "      <td>Comedy</td>\n",
       "      <td>1.116384</td>\n",
       "    </tr>\n",
       "    <tr>\n",
       "      <th>2</th>\n",
       "      <td>10</td>\n",
       "      <td>8638</td>\n",
       "      <td>Before Sunset (2004)</td>\n",
       "      <td>Drama|Romance</td>\n",
       "      <td>1.125589</td>\n",
       "    </tr>\n",
       "    <tr>\n",
       "      <th>3</th>\n",
       "      <td>10</td>\n",
       "      <td>48322</td>\n",
       "      <td>Jackass Number Two (2006)</td>\n",
       "      <td>Comedy|Documentary</td>\n",
       "      <td>1.219889</td>\n",
       "    </tr>\n",
       "    <tr>\n",
       "      <th>4</th>\n",
       "      <td>10</td>\n",
       "      <td>3608</td>\n",
       "      <td>Pee-wee's Big Adventure (1985)</td>\n",
       "      <td>Adventure|Comedy</td>\n",
       "      <td>1.334020</td>\n",
       "    </tr>\n",
       "    <tr>\n",
       "      <th>5</th>\n",
       "      <td>10</td>\n",
       "      <td>3917</td>\n",
       "      <td>Hellraiser (1987)</td>\n",
       "      <td>Horror</td>\n",
       "      <td>1.369610</td>\n",
       "    </tr>\n",
       "    <tr>\n",
       "      <th>6</th>\n",
       "      <td>10</td>\n",
       "      <td>87529</td>\n",
       "      <td>Your Highness (2011)</td>\n",
       "      <td>Action|Adventure|Comedy|Fantasy</td>\n",
       "      <td>1.436848</td>\n",
       "    </tr>\n",
       "    <tr>\n",
       "      <th>7</th>\n",
       "      <td>10</td>\n",
       "      <td>104879</td>\n",
       "      <td>Prisoners (2013)</td>\n",
       "      <td>Drama|Mystery|Thriller</td>\n",
       "      <td>1.451032</td>\n",
       "    </tr>\n",
       "    <tr>\n",
       "      <th>8</th>\n",
       "      <td>10</td>\n",
       "      <td>3824</td>\n",
       "      <td>Autumn in New York (2000)</td>\n",
       "      <td>Drama|Romance</td>\n",
       "      <td>1.468157</td>\n",
       "    </tr>\n",
       "    <tr>\n",
       "      <th>9</th>\n",
       "      <td>10</td>\n",
       "      <td>59022</td>\n",
       "      <td>Harold &amp; Kumar Escape from Guantanamo Bay (2008)</td>\n",
       "      <td>Adventure|Comedy</td>\n",
       "      <td>1.503563</td>\n",
       "    </tr>\n",
       "  </tbody>\n",
       "</table>\n",
       "</div>"
      ],
      "text/plain": [
       "  UserID MovieID                                             Movie  \\\n",
       "0     10    4255                        Freddy Got Fingered (2001)   \n",
       "1     10   59900              You Don't Mess with the Zohan (2008)   \n",
       "2     10    8638                              Before Sunset (2004)   \n",
       "3     10   48322                         Jackass Number Two (2006)   \n",
       "4     10    3608                    Pee-wee's Big Adventure (1985)   \n",
       "5     10    3917                                 Hellraiser (1987)   \n",
       "6     10   87529                              Your Highness (2011)   \n",
       "7     10  104879                                  Prisoners (2013)   \n",
       "8     10    3824                         Autumn in New York (2000)   \n",
       "9     10   59022  Harold & Kumar Escape from Guantanamo Bay (2008)   \n",
       "\n",
       "                            Genres  Prediction  \n",
       "0                           Comedy    0.857602  \n",
       "1                           Comedy    1.116384  \n",
       "2                    Drama|Romance    1.125589  \n",
       "3               Comedy|Documentary    1.219889  \n",
       "4                 Adventure|Comedy    1.334020  \n",
       "5                           Horror    1.369610  \n",
       "6  Action|Adventure|Comedy|Fantasy    1.436848  \n",
       "7           Drama|Mystery|Thriller    1.451032  \n",
       "8                    Drama|Romance    1.468157  \n",
       "9                 Adventure|Comedy    1.503563  "
      ]
     },
     "execution_count": 68,
     "metadata": {},
     "output_type": "execute_result"
    }
   ],
   "source": [
    "df_result = pd.DataFrame(columns=['UserID', 'MovieID', 'Movie', 'Genres', 'Prediction'])\n",
    "indices = np.argsort(predictions, axis=0)\n",
    "\n",
    "for j in range(10):\n",
    "    movie_id = int(movies_list_items[np.where(movies_list_items[:, 1] == indices[j])][0][0])\n",
    "    df_row = pd.DataFrame({\n",
    "        'UserID': user_id,\n",
    "        'MovieID': movie_id,\n",
    "        'Movie': df_movies[df_movies['movieId'] == movie_id].iloc[0]['title'],\n",
    "        'Genres': df_movies[df_movies['movieId'] == movie_id].iloc[0]['genres'],\n",
    "        'Prediction': predictions[indices[j]][0][0]\n",
    "    }, index=[j])\n",
    "    df_result = df_result.append(df_row, sort=False)\n",
    "    \n",
    "df_result"
   ]
  },
  {
   "cell_type": "markdown",
   "metadata": {
    "colab_type": "text",
    "id": "ORbaz1CIOWIJ"
   },
   "source": [
    "I hope you enjoyed this exercise. Something you can also try on your own is to implement gradient descent instead of MAP-estimation like I did here. Let me know about any comments you may have."
   ]
  },
  {
   "cell_type": "code",
   "execution_count": null,
   "metadata": {},
   "outputs": [],
   "source": []
  },
  {
   "cell_type": "code",
   "execution_count": null,
   "metadata": {},
   "outputs": [],
   "source": []
  }
 ],
 "metadata": {
  "colab": {
   "collapsed_sections": [],
   "name": "PMF_Recommender_Systems.ipynb",
   "provenance": [],
   "toc_visible": true
  },
  "kernelspec": {
   "display_name": "Python 3",
   "language": "python",
   "name": "python3"
  },
  "language_info": {
   "codemirror_mode": {
    "name": "ipython",
    "version": 3
   },
   "file_extension": ".py",
   "mimetype": "text/x-python",
   "name": "python",
   "nbconvert_exporter": "python",
   "pygments_lexer": "ipython3",
   "version": "3.6.5"
  }
 },
 "nbformat": 4,
 "nbformat_minor": 1
}

{
 "cells": [
  {
   "cell_type": "markdown",
   "id": "88b652f8",
   "metadata": {
    "id": "4CKd-BTBerZe"
   },
   "source": [
    "## Steps"
   ]
  },
  {
   "cell_type": "code",
   "execution_count": 2,
   "id": "0718c979",
   "metadata": {
    "id": "553b4ab0"
   },
   "outputs": [],
   "source": [
    "from datetime import datetime\n",
    "import os\n",
    "import matplotlib\n",
    "import pandas as pd\n",
    "import numpy as np\n",
    "import matplotlib.pyplot as plt\n",
    "import seaborn as sns\n",
    "sns.set_style('whitegrid')\n",
    "\n",
    "from scipy import sparse\n",
    "from scipy.sparse import csc_matrix\n",
    "from sklearn.decomposition import TruncatedSVD\n"
   ]
  },
  {
   "cell_type": "markdown",
   "id": "9bf83617",
   "metadata": {},
   "source": [
    "## Analyse Dataset"
   ]
  },
  {
   "cell_type": "markdown",
   "id": "22305ab8",
   "metadata": {
    "id": "bcc719a6"
   },
   "source": [
    "\n",
    "### Movie lens Dataset\n",
    "https://grouplens.org/datasets/movielens/\n"
   ]
  },
  {
   "cell_type": "code",
   "execution_count": 3,
   "id": "1a11a9d9",
   "metadata": {
    "id": "2a5baa08",
    "outputId": "6f864487-9593-4736-93fe-d53ac9c8c6aa"
   },
   "outputs": [
    {
     "data": {
      "text/html": [
       "<div>\n",
       "<style scoped>\n",
       "    .dataframe tbody tr th:only-of-type {\n",
       "        vertical-align: middle;\n",
       "    }\n",
       "\n",
       "    .dataframe tbody tr th {\n",
       "        vertical-align: top;\n",
       "    }\n",
       "\n",
       "    .dataframe thead th {\n",
       "        text-align: right;\n",
       "    }\n",
       "</style>\n",
       "<table border=\"1\" class=\"dataframe\">\n",
       "  <thead>\n",
       "    <tr style=\"text-align: right;\">\n",
       "      <th></th>\n",
       "      <th>movieId</th>\n",
       "      <th>title</th>\n",
       "      <th>genres</th>\n",
       "    </tr>\n",
       "  </thead>\n",
       "  <tbody>\n",
       "    <tr>\n",
       "      <th>0</th>\n",
       "      <td>1</td>\n",
       "      <td>Toy Story (1995)</td>\n",
       "      <td>Adventure|Animation|Children|Comedy|Fantasy</td>\n",
       "    </tr>\n",
       "    <tr>\n",
       "      <th>1</th>\n",
       "      <td>2</td>\n",
       "      <td>Jumanji (1995)</td>\n",
       "      <td>Adventure|Children|Fantasy</td>\n",
       "    </tr>\n",
       "  </tbody>\n",
       "</table>\n",
       "</div>"
      ],
      "text/plain": [
       "   movieId             title                                       genres\n",
       "0        1  Toy Story (1995)  Adventure|Animation|Children|Comedy|Fantasy\n",
       "1        2    Jumanji (1995)                   Adventure|Children|Fantasy"
      ]
     },
     "execution_count": 3,
     "metadata": {},
     "output_type": "execute_result"
    }
   ],
   "source": [
    "movies_df=pd.read_csv(\"movies.csv\")\n",
    "movies_df = movies_df.dropna()\n",
    "movies_df.head(2)"
   ]
  },
  {
   "cell_type": "code",
   "execution_count": 4,
   "id": "0aefd28d",
   "metadata": {},
   "outputs": [],
   "source": [
    "links_df=pd.read_csv(\"links.csv\")\n",
    "links_df = links_df.dropna()\n",
    "links_df=links_df[['movieId','tmdbId']]\n"
   ]
  },
  {
   "cell_type": "code",
   "execution_count": 5,
   "id": "b4adee5b",
   "metadata": {},
   "outputs": [
    {
     "data": {
      "text/html": [
       "<div>\n",
       "<style scoped>\n",
       "    .dataframe tbody tr th:only-of-type {\n",
       "        vertical-align: middle;\n",
       "    }\n",
       "\n",
       "    .dataframe tbody tr th {\n",
       "        vertical-align: top;\n",
       "    }\n",
       "\n",
       "    .dataframe thead th {\n",
       "        text-align: right;\n",
       "    }\n",
       "</style>\n",
       "<table border=\"1\" class=\"dataframe\">\n",
       "  <thead>\n",
       "    <tr style=\"text-align: right;\">\n",
       "      <th></th>\n",
       "      <th>userId</th>\n",
       "      <th>movieId</th>\n",
       "      <th>rating</th>\n",
       "      <th>timestamp</th>\n",
       "    </tr>\n",
       "  </thead>\n",
       "  <tbody>\n",
       "    <tr>\n",
       "      <th>0</th>\n",
       "      <td>1</td>\n",
       "      <td>1</td>\n",
       "      <td>4.0</td>\n",
       "      <td>964982703</td>\n",
       "    </tr>\n",
       "    <tr>\n",
       "      <th>1</th>\n",
       "      <td>1</td>\n",
       "      <td>3</td>\n",
       "      <td>4.0</td>\n",
       "      <td>964981247</td>\n",
       "    </tr>\n",
       "  </tbody>\n",
       "</table>\n",
       "</div>"
      ],
      "text/plain": [
       "   userId  movieId  rating  timestamp\n",
       "0       1        1     4.0  964982703\n",
       "1       1        3     4.0  964981247"
      ]
     },
     "execution_count": 5,
     "metadata": {},
     "output_type": "execute_result"
    }
   ],
   "source": [
    "rating_df=pd.read_csv(\"ratings.csv\")\n",
    "rating_df = rating_df.dropna()\n",
    "rating_df=rating_df[['userId','movieId','rating','timestamp']]\n",
    "rating_df.head(2)"
   ]
  },
  {
   "cell_type": "code",
   "execution_count": 6,
   "id": "f5f8d307",
   "metadata": {},
   "outputs": [
    {
     "data": {
      "text/html": [
       "<div>\n",
       "<style scoped>\n",
       "    .dataframe tbody tr th:only-of-type {\n",
       "        vertical-align: middle;\n",
       "    }\n",
       "\n",
       "    .dataframe tbody tr th {\n",
       "        vertical-align: top;\n",
       "    }\n",
       "\n",
       "    .dataframe thead th {\n",
       "        text-align: right;\n",
       "    }\n",
       "</style>\n",
       "<table border=\"1\" class=\"dataframe\">\n",
       "  <thead>\n",
       "    <tr style=\"text-align: right;\">\n",
       "      <th></th>\n",
       "      <th>userId</th>\n",
       "      <th>movieId</th>\n",
       "      <th>tag</th>\n",
       "      <th>timestamp</th>\n",
       "    </tr>\n",
       "  </thead>\n",
       "  <tbody>\n",
       "    <tr>\n",
       "      <th>0</th>\n",
       "      <td>2</td>\n",
       "      <td>60756</td>\n",
       "      <td>funny</td>\n",
       "      <td>1445714994</td>\n",
       "    </tr>\n",
       "    <tr>\n",
       "      <th>1</th>\n",
       "      <td>2</td>\n",
       "      <td>60756</td>\n",
       "      <td>Highly quotable</td>\n",
       "      <td>1445714996</td>\n",
       "    </tr>\n",
       "  </tbody>\n",
       "</table>\n",
       "</div>"
      ],
      "text/plain": [
       "   userId  movieId              tag   timestamp\n",
       "0       2    60756            funny  1445714994\n",
       "1       2    60756  Highly quotable  1445714996"
      ]
     },
     "execution_count": 6,
     "metadata": {},
     "output_type": "execute_result"
    }
   ],
   "source": [
    "tags_df=pd.read_csv(\"tags.csv\")\n",
    "tags_df = tags_df.dropna()\n",
    "tags_df.head(2)"
   ]
  },
  {
   "cell_type": "markdown",
   "id": "ab3a9f42",
   "metadata": {},
   "source": [
    "### TMDB 5000 Movie Dataset\n",
    "https://www.kaggle.com/datasets/tmdb/tmdb-movie-metadata"
   ]
  },
  {
   "cell_type": "code",
   "execution_count": 7,
   "id": "3bf06db4",
   "metadata": {},
   "outputs": [
    {
     "data": {
      "text/html": [
       "<div>\n",
       "<style scoped>\n",
       "    .dataframe tbody tr th:only-of-type {\n",
       "        vertical-align: middle;\n",
       "    }\n",
       "\n",
       "    .dataframe tbody tr th {\n",
       "        vertical-align: top;\n",
       "    }\n",
       "\n",
       "    .dataframe thead th {\n",
       "        text-align: right;\n",
       "    }\n",
       "</style>\n",
       "<table border=\"1\" class=\"dataframe\">\n",
       "  <thead>\n",
       "    <tr style=\"text-align: right;\">\n",
       "      <th></th>\n",
       "      <th>budget</th>\n",
       "      <th>genres</th>\n",
       "      <th>homepage</th>\n",
       "      <th>id</th>\n",
       "      <th>keywords</th>\n",
       "      <th>original_language</th>\n",
       "      <th>original_title</th>\n",
       "      <th>overview</th>\n",
       "      <th>popularity</th>\n",
       "      <th>production_companies</th>\n",
       "      <th>production_countries</th>\n",
       "      <th>release_date</th>\n",
       "      <th>revenue</th>\n",
       "      <th>runtime</th>\n",
       "      <th>spoken_languages</th>\n",
       "      <th>status</th>\n",
       "      <th>tagline</th>\n",
       "      <th>title</th>\n",
       "      <th>vote_average</th>\n",
       "      <th>vote_count</th>\n",
       "    </tr>\n",
       "  </thead>\n",
       "  <tbody>\n",
       "    <tr>\n",
       "      <th>0</th>\n",
       "      <td>237000000</td>\n",
       "      <td>[{\"id\": 28, \"name\": \"Action\"}, {\"id\": 12, \"nam...</td>\n",
       "      <td>http://www.avatarmovie.com/</td>\n",
       "      <td>19995</td>\n",
       "      <td>[{\"id\": 1463, \"name\": \"culture clash\"}, {\"id\":...</td>\n",
       "      <td>en</td>\n",
       "      <td>Avatar</td>\n",
       "      <td>In the 22nd century, a paraplegic Marine is di...</td>\n",
       "      <td>150.437577</td>\n",
       "      <td>[{\"name\": \"Ingenious Film Partners\", \"id\": 289...</td>\n",
       "      <td>[{\"iso_3166_1\": \"US\", \"name\": \"United States o...</td>\n",
       "      <td>2009-12-10</td>\n",
       "      <td>2787965087</td>\n",
       "      <td>162.0</td>\n",
       "      <td>[{\"iso_639_1\": \"en\", \"name\": \"English\"}, {\"iso...</td>\n",
       "      <td>Released</td>\n",
       "      <td>Enter the World of Pandora.</td>\n",
       "      <td>Avatar</td>\n",
       "      <td>7.2</td>\n",
       "      <td>11800</td>\n",
       "    </tr>\n",
       "    <tr>\n",
       "      <th>1</th>\n",
       "      <td>300000000</td>\n",
       "      <td>[{\"id\": 12, \"name\": \"Adventure\"}, {\"id\": 14, \"...</td>\n",
       "      <td>http://disney.go.com/disneypictures/pirates/</td>\n",
       "      <td>285</td>\n",
       "      <td>[{\"id\": 270, \"name\": \"ocean\"}, {\"id\": 726, \"na...</td>\n",
       "      <td>en</td>\n",
       "      <td>Pirates of the Caribbean: At World's End</td>\n",
       "      <td>Captain Barbossa, long believed to be dead, ha...</td>\n",
       "      <td>139.082615</td>\n",
       "      <td>[{\"name\": \"Walt Disney Pictures\", \"id\": 2}, {\"...</td>\n",
       "      <td>[{\"iso_3166_1\": \"US\", \"name\": \"United States o...</td>\n",
       "      <td>2007-05-19</td>\n",
       "      <td>961000000</td>\n",
       "      <td>169.0</td>\n",
       "      <td>[{\"iso_639_1\": \"en\", \"name\": \"English\"}]</td>\n",
       "      <td>Released</td>\n",
       "      <td>At the end of the world, the adventure begins.</td>\n",
       "      <td>Pirates of the Caribbean: At World's End</td>\n",
       "      <td>6.9</td>\n",
       "      <td>4500</td>\n",
       "    </tr>\n",
       "  </tbody>\n",
       "</table>\n",
       "</div>"
      ],
      "text/plain": [
       "      budget                                             genres  \\\n",
       "0  237000000  [{\"id\": 28, \"name\": \"Action\"}, {\"id\": 12, \"nam...   \n",
       "1  300000000  [{\"id\": 12, \"name\": \"Adventure\"}, {\"id\": 14, \"...   \n",
       "\n",
       "                                       homepage     id  \\\n",
       "0                   http://www.avatarmovie.com/  19995   \n",
       "1  http://disney.go.com/disneypictures/pirates/    285   \n",
       "\n",
       "                                            keywords original_language  \\\n",
       "0  [{\"id\": 1463, \"name\": \"culture clash\"}, {\"id\":...                en   \n",
       "1  [{\"id\": 270, \"name\": \"ocean\"}, {\"id\": 726, \"na...                en   \n",
       "\n",
       "                             original_title  \\\n",
       "0                                    Avatar   \n",
       "1  Pirates of the Caribbean: At World's End   \n",
       "\n",
       "                                            overview  popularity  \\\n",
       "0  In the 22nd century, a paraplegic Marine is di...  150.437577   \n",
       "1  Captain Barbossa, long believed to be dead, ha...  139.082615   \n",
       "\n",
       "                                production_companies  \\\n",
       "0  [{\"name\": \"Ingenious Film Partners\", \"id\": 289...   \n",
       "1  [{\"name\": \"Walt Disney Pictures\", \"id\": 2}, {\"...   \n",
       "\n",
       "                                production_countries release_date     revenue  \\\n",
       "0  [{\"iso_3166_1\": \"US\", \"name\": \"United States o...   2009-12-10  2787965087   \n",
       "1  [{\"iso_3166_1\": \"US\", \"name\": \"United States o...   2007-05-19   961000000   \n",
       "\n",
       "   runtime                                   spoken_languages    status  \\\n",
       "0    162.0  [{\"iso_639_1\": \"en\", \"name\": \"English\"}, {\"iso...  Released   \n",
       "1    169.0           [{\"iso_639_1\": \"en\", \"name\": \"English\"}]  Released   \n",
       "\n",
       "                                          tagline  \\\n",
       "0                     Enter the World of Pandora.   \n",
       "1  At the end of the world, the adventure begins.   \n",
       "\n",
       "                                      title  vote_average  vote_count  \n",
       "0                                    Avatar           7.2       11800  \n",
       "1  Pirates of the Caribbean: At World's End           6.9        4500  "
      ]
     },
     "execution_count": 7,
     "metadata": {},
     "output_type": "execute_result"
    }
   ],
   "source": [
    "tmdp_df=pd.read_csv(\"tmdb_5000_movies.csv\")\n",
    "tmdp_df = tmdp_df.dropna()\n",
    "tmdp_df.head(2)"
   ]
  },
  {
   "cell_type": "code",
   "execution_count": 8,
   "id": "faec47f1",
   "metadata": {
    "id": "1611d377",
    "outputId": "e077bbd4-0439-43dd-a348-6d769d95be74"
   },
   "outputs": [
    {
     "data": {
      "text/html": [
       "<div>\n",
       "<style scoped>\n",
       "    .dataframe tbody tr th:only-of-type {\n",
       "        vertical-align: middle;\n",
       "    }\n",
       "\n",
       "    .dataframe tbody tr th {\n",
       "        vertical-align: top;\n",
       "    }\n",
       "\n",
       "    .dataframe thead th {\n",
       "        text-align: right;\n",
       "    }\n",
       "</style>\n",
       "<table border=\"1\" class=\"dataframe\">\n",
       "  <thead>\n",
       "    <tr style=\"text-align: right;\">\n",
       "      <th></th>\n",
       "      <th>movie_id</th>\n",
       "      <th>title</th>\n",
       "      <th>cast</th>\n",
       "      <th>crew</th>\n",
       "    </tr>\n",
       "  </thead>\n",
       "  <tbody>\n",
       "    <tr>\n",
       "      <th>0</th>\n",
       "      <td>19995</td>\n",
       "      <td>Avatar</td>\n",
       "      <td>[{\"cast_id\": 242, \"character\": \"Jake Sully\", \"...</td>\n",
       "      <td>[{\"credit_id\": \"52fe48009251416c750aca23\", \"de...</td>\n",
       "    </tr>\n",
       "    <tr>\n",
       "      <th>1</th>\n",
       "      <td>285</td>\n",
       "      <td>Pirates of the Caribbean: At World's End</td>\n",
       "      <td>[{\"cast_id\": 4, \"character\": \"Captain Jack Spa...</td>\n",
       "      <td>[{\"credit_id\": \"52fe4232c3a36847f800b579\", \"de...</td>\n",
       "    </tr>\n",
       "  </tbody>\n",
       "</table>\n",
       "</div>"
      ],
      "text/plain": [
       "   movie_id                                     title  \\\n",
       "0     19995                                    Avatar   \n",
       "1       285  Pirates of the Caribbean: At World's End   \n",
       "\n",
       "                                                cast  \\\n",
       "0  [{\"cast_id\": 242, \"character\": \"Jake Sully\", \"...   \n",
       "1  [{\"cast_id\": 4, \"character\": \"Captain Jack Spa...   \n",
       "\n",
       "                                                crew  \n",
       "0  [{\"credit_id\": \"52fe48009251416c750aca23\", \"de...  \n",
       "1  [{\"credit_id\": \"52fe4232c3a36847f800b579\", \"de...  "
      ]
     },
     "execution_count": 8,
     "metadata": {},
     "output_type": "execute_result"
    }
   ],
   "source": [
    "credit_df=pd.read_csv(\"tmdb_5000_credits.csv\")\n",
    "credit_df = credit_df.dropna()\n",
    "credit_df.head(2)"
   ]
  },
  {
   "cell_type": "code",
   "execution_count": 9,
   "id": "25782b3e",
   "metadata": {},
   "outputs": [],
   "source": [
    "import ast\n",
    "def convert(text):\n",
    "    L = []\n",
    "    for i in ast.literal_eval(text):\n",
    "        L.append(i['name']) \n",
    "    return L \n",
    "\n",
    "def convert3(text):\n",
    "    L = []\n",
    "    counter = 0\n",
    "    for i in ast.literal_eval(text):\n",
    "        if counter < 3:\n",
    "            L.append(i['name'])\n",
    "        counter+=1\n",
    "    return L "
   ]
  },
  {
   "cell_type": "code",
   "execution_count": 10,
   "id": "16f0bf22",
   "metadata": {},
   "outputs": [],
   "source": [
    "tmdp_df['genres'] = tmdp_df['genres'].apply(convert)\n",
    "tmdp_df['keywords'] = tmdp_df['keywords'].apply(convert)\n",
    "credit_df['cast'] = credit_df['cast'].apply(convert3)\n",
    "credit_df['crew'] = credit_df['crew'].apply(convert3)\n",
    "tmdp_df = tmdp_df.merge(credit_df,on='title')"
   ]
  },
  {
   "cell_type": "markdown",
   "id": "44cac093",
   "metadata": {},
   "source": [
    "### Merging two dataset\n",
    "- We can clearly see both dataset can be merged using movieid and tmdbid "
   ]
  },
  {
   "cell_type": "code",
   "execution_count": 11,
   "id": "26ceb797",
   "metadata": {},
   "outputs": [],
   "source": [
    "\n",
    "movies_df = movies_df.merge(links_df,on='movieId', how=\"inner\")"
   ]
  },
  {
   "cell_type": "code",
   "execution_count": 12,
   "id": "d65be2c4",
   "metadata": {},
   "outputs": [],
   "source": [
    "\n",
    "movies_df=movies_df .merge(tmdp_df,left_on='tmdbId',right_on='id', how=\"inner\")  "
   ]
  },
  {
   "cell_type": "code",
   "execution_count": 13,
   "id": "d131ef71",
   "metadata": {},
   "outputs": [],
   "source": [
    "movies_df.rename(columns = {'title_y':'title', 'genres_y':'genres'}, inplace = True)"
   ]
  },
  {
   "cell_type": "code",
   "execution_count": 14,
   "id": "53ae275b",
   "metadata": {},
   "outputs": [],
   "source": [
    "movies_df=movies_df[['movieId','title','keywords','genres', 'popularity', 'vote_count','vote_average','overview','cast','crew']]"
   ]
  },
  {
   "cell_type": "code",
   "execution_count": 15,
   "id": "2fbe6f2b",
   "metadata": {
    "id": "69374469",
    "outputId": "bf3917e4-5926-4a27-cd4f-7598cf8a4690"
   },
   "outputs": [
    {
     "data": {
      "image/png": "[encoded data removed]",
      "text/plain": [
       "<Figure size 360x360 with 1 Axes>"
      ]
     },
     "metadata": {},
     "output_type": "display_data"
    },
    {
     "data": {
      "text/plain": [
       "<AxesSubplot:title={'center':'Features correlation with dependent variable'}, xlabel='Pearson Correlation'>"
      ]
     },
     "execution_count": 15,
     "metadata": {},
     "output_type": "execute_result"
    }
   ],
   "source": [
    "from yellowbrick.target import FeatureCorrelation\n",
    "\n",
    "feature_names = [ 'popularity', 'vote_count','vote_average']\n",
    "\n",
    "X, y = movies_df[feature_names], movies_df['popularity']\n",
    "\n",
    "# Create a list of the feature names\n",
    "features = np.array(feature_names)\n",
    "\n",
    "# Instantiate the visualizer\n",
    "visualizer = FeatureCorrelation(labels=features)\n",
    "\n",
    "plt.rcParams['figure.figsize']=(5,5)\n",
    "visualizer.fit(X, y)     # Fit the data to the visualizer\n",
    "visualizer.show()"
   ]
  },
  {
   "cell_type": "markdown",
   "id": "a9681b57",
   "metadata": {},
   "source": [
    "## Final dataset"
   ]
  },
  {
   "cell_type": "code",
   "execution_count": 16,
   "id": "c01089b0",
   "metadata": {},
   "outputs": [
    {
     "data": {
      "text/html": [
       "<div>\n",
       "<style scoped>\n",
       "    .dataframe tbody tr th:only-of-type {\n",
       "        vertical-align: middle;\n",
       "    }\n",
       "\n",
       "    .dataframe tbody tr th {\n",
       "        vertical-align: top;\n",
       "    }\n",
       "\n",
       "    .dataframe thead th {\n",
       "        text-align: right;\n",
       "    }\n",
       "</style>\n",
       "<table border=\"1\" class=\"dataframe\">\n",
       "  <thead>\n",
       "    <tr style=\"text-align: right;\">\n",
       "      <th></th>\n",
       "      <th>movieId</th>\n",
       "      <th>title</th>\n",
       "      <th>keywords</th>\n",
       "      <th>genres</th>\n",
       "      <th>popularity</th>\n",
       "      <th>vote_count</th>\n",
       "      <th>vote_average</th>\n",
       "      <th>overview</th>\n",
       "      <th>cast</th>\n",
       "      <th>crew</th>\n",
       "    </tr>\n",
       "  </thead>\n",
       "  <tbody>\n",
       "    <tr>\n",
       "      <th>0</th>\n",
       "      <td>10</td>\n",
       "      <td>GoldenEye</td>\n",
       "      <td>[cuba, falsely accused, secret identity, compu...</td>\n",
       "      <td>[Adventure, Action, Thriller]</td>\n",
       "      <td>59.824565</td>\n",
       "      <td>1174</td>\n",
       "      <td>6.6</td>\n",
       "      <td>James Bond must unmask the mysterious head of ...</td>\n",
       "      <td>[Pierce Brosnan, Sean Bean, Izabella Scorupco]</td>\n",
       "      <td>[Eric Serra, Tina Turner, Ian Fleming]</td>\n",
       "    </tr>\n",
       "  </tbody>\n",
       "</table>\n",
       "</div>"
      ],
      "text/plain": [
       "   movieId      title                                           keywords  \\\n",
       "0       10  GoldenEye  [cuba, falsely accused, secret identity, compu...   \n",
       "\n",
       "                          genres  popularity  vote_count  vote_average  \\\n",
       "0  [Adventure, Action, Thriller]   59.824565        1174           6.6   \n",
       "\n",
       "                                            overview  \\\n",
       "0  James Bond must unmask the mysterious head of ...   \n",
       "\n",
       "                                             cast  \\\n",
       "0  [Pierce Brosnan, Sean Bean, Izabella Scorupco]   \n",
       "\n",
       "                                     crew  \n",
       "0  [Eric Serra, Tina Turner, Ian Fleming]  "
      ]
     },
     "execution_count": 16,
     "metadata": {},
     "output_type": "execute_result"
    }
   ],
   "source": [
    "movies_df.head(1)"
   ]
  },
  {
   "cell_type": "code",
   "execution_count": 17,
   "id": "9a5cb8b6",
   "metadata": {},
   "outputs": [
    {
     "data": {
      "text/html": [
       "<div>\n",
       "<style scoped>\n",
       "    .dataframe tbody tr th:only-of-type {\n",
       "        vertical-align: middle;\n",
       "    }\n",
       "\n",
       "    .dataframe tbody tr th {\n",
       "        vertical-align: top;\n",
       "    }\n",
       "\n",
       "    .dataframe thead th {\n",
       "        text-align: right;\n",
       "    }\n",
       "</style>\n",
       "<table border=\"1\" class=\"dataframe\">\n",
       "  <thead>\n",
       "    <tr style=\"text-align: right;\">\n",
       "      <th></th>\n",
       "      <th>userId</th>\n",
       "      <th>movieId</th>\n",
       "      <th>rating</th>\n",
       "      <th>timestamp</th>\n",
       "    </tr>\n",
       "  </thead>\n",
       "  <tbody>\n",
       "    <tr>\n",
       "      <th>0</th>\n",
       "      <td>1</td>\n",
       "      <td>1</td>\n",
       "      <td>4.0</td>\n",
       "      <td>964982703</td>\n",
       "    </tr>\n",
       "  </tbody>\n",
       "</table>\n",
       "</div>"
      ],
      "text/plain": [
       "   userId  movieId  rating  timestamp\n",
       "0       1        1     4.0  964982703"
      ]
     },
     "execution_count": 17,
     "metadata": {},
     "output_type": "execute_result"
    }
   ],
   "source": [
    "rating_df.head(1)"
   ]
  },
  {
   "cell_type": "code",
   "execution_count": 18,
   "id": "60817f75",
   "metadata": {},
   "outputs": [
    {
     "data": {
      "text/html": [
       "<div>\n",
       "<style scoped>\n",
       "    .dataframe tbody tr th:only-of-type {\n",
       "        vertical-align: middle;\n",
       "    }\n",
       "\n",
       "    .dataframe tbody tr th {\n",
       "        vertical-align: top;\n",
       "    }\n",
       "\n",
       "    .dataframe thead th {\n",
       "        text-align: right;\n",
       "    }\n",
       "</style>\n",
       "<table border=\"1\" class=\"dataframe\">\n",
       "  <thead>\n",
       "    <tr style=\"text-align: right;\">\n",
       "      <th></th>\n",
       "      <th>userId</th>\n",
       "      <th>movieId</th>\n",
       "      <th>tag</th>\n",
       "      <th>timestamp</th>\n",
       "    </tr>\n",
       "  </thead>\n",
       "  <tbody>\n",
       "    <tr>\n",
       "      <th>0</th>\n",
       "      <td>2</td>\n",
       "      <td>60756</td>\n",
       "      <td>funny</td>\n",
       "      <td>1445714994</td>\n",
       "    </tr>\n",
       "  </tbody>\n",
       "</table>\n",
       "</div>"
      ],
      "text/plain": [
       "   userId  movieId    tag   timestamp\n",
       "0       2    60756  funny  1445714994"
      ]
     },
     "execution_count": 18,
     "metadata": {},
     "output_type": "execute_result"
    }
   ],
   "source": [
    "tags_df.head(1)"
   ]
  },
  {
   "cell_type": "markdown",
   "id": "befb4aa8",
   "metadata": {
    "id": "vPDbJdqwe3Dt"
   },
   "source": [
    "## Analysis of the Dataset"
   ]
  },
  {
   "cell_type": "markdown",
   "id": "36b18ac1",
   "metadata": {
    "id": "16a38d04"
   },
   "source": [
    "\n",
    "- When we think of recommending to users the best movies, we should consider various factors that impact this decision. Like Some users may be inclined towards a specific type of movie say -Action or Romantic. Some may like movies with the famous actor, actresses or Directors. Some people even consider popularity or average rating before playing any movies.\n",
    "\n",
    "#### So tasks in  hand:\n",
    "##### Contant based filtering\n",
    "- Find a list of movies based on popularity, average rating, and other metrics. This data is useful to give recommendations to a new user.\n",
    "- Identify movies similar in nature. It helps the system to recommend new movies to users whose historical data is available to the system.\n",
    "- Recommend user based on previous rating\n",
    "\n",
    "##### Colaborative based filtering\n",
    "- Identify user of similar interese "
   ]
  },
  {
   "cell_type": "markdown",
   "id": "aab44ea5",
   "metadata": {
    "id": "DdOlLk9JfbIN"
   },
   "source": [
    "## Task 1: Popularity based Filtering"
   ]
  },
  {
   "cell_type": "markdown",
   "id": "cf94bd11",
   "metadata": {
    "id": "e5d31b40"
   },
   "source": [
    "\n",
    "- This kind of filtering shows most popular movies of a particular types.It is useful cases when a recommender system recomends items  to a new user. For example - suppose the user selected an Action movie as a  preference - the system could list down popular action movies.\n",
    "\n",
    "##### So based on the data we have. We can consider the following approach :\n",
    "- a) We look at the popularity column of our dataset and recommend the top 10 movies to the user.\n",
    "- b) We can also consider the average rating of a particular movie in our consideration\n",
    "- c) We can also take a weighted average of the above columns.\n",
    "\n",
    "#### There could be many others ways for popularity based recommendations"
   ]
  },
  {
   "cell_type": "markdown",
   "id": "30273069",
   "metadata": {
    "id": "b92104c5"
   },
   "source": [
    "### a) Following are list of movies based on popularities"
   ]
  },
  {
   "cell_type": "code",
   "execution_count": 19,
   "id": "7cd76d87",
   "metadata": {
    "id": "08f5c815",
    "outputId": "3383a7d0-c32d-4aa5-f9c3-70af50b66755"
   },
   "outputs": [
    {
     "data": {
      "text/html": [
       "<div>\n",
       "<style scoped>\n",
       "    .dataframe tbody tr th:only-of-type {\n",
       "        vertical-align: middle;\n",
       "    }\n",
       "\n",
       "    .dataframe tbody tr th {\n",
       "        vertical-align: top;\n",
       "    }\n",
       "\n",
       "    .dataframe thead th {\n",
       "        text-align: right;\n",
       "    }\n",
       "</style>\n",
       "<table border=\"1\" class=\"dataframe\">\n",
       "  <thead>\n",
       "    <tr style=\"text-align: right;\">\n",
       "      <th></th>\n",
       "      <th>title</th>\n",
       "      <th>popularity</th>\n",
       "      <th>vote_average</th>\n",
       "      <th>genres</th>\n",
       "    </tr>\n",
       "  </thead>\n",
       "  <tbody>\n",
       "    <tr>\n",
       "      <th>1137</th>\n",
       "      <td>Minions</td>\n",
       "      <td>875.581305</td>\n",
       "      <td>6.4</td>\n",
       "      <td>[Family, Animation, Adventure, Comedy]</td>\n",
       "    </tr>\n",
       "    <tr>\n",
       "      <th>1042</th>\n",
       "      <td>Interstellar</td>\n",
       "      <td>724.247784</td>\n",
       "      <td>8.1</td>\n",
       "      <td>[Adventure, Drama, Science Fiction]</td>\n",
       "    </tr>\n",
       "    <tr>\n",
       "      <th>1103</th>\n",
       "      <td>Deadpool</td>\n",
       "      <td>514.569956</td>\n",
       "      <td>7.4</td>\n",
       "      <td>[Action, Adventure, Comedy]</td>\n",
       "    </tr>\n",
       "    <tr>\n",
       "      <th>1062</th>\n",
       "      <td>Guardians of the Galaxy</td>\n",
       "      <td>481.098624</td>\n",
       "      <td>7.9</td>\n",
       "      <td>[Action, Science Fiction, Adventure]</td>\n",
       "    </tr>\n",
       "    <tr>\n",
       "      <th>1097</th>\n",
       "      <td>Mad Max: Fury Road</td>\n",
       "      <td>434.278564</td>\n",
       "      <td>7.2</td>\n",
       "      <td>[Action, Adventure, Science Fiction, Thriller]</td>\n",
       "    </tr>\n",
       "    <tr>\n",
       "      <th>1086</th>\n",
       "      <td>Jurassic World</td>\n",
       "      <td>418.708552</td>\n",
       "      <td>6.5</td>\n",
       "      <td>[Action, Adventure, Science Fiction, Thriller]</td>\n",
       "    </tr>\n",
       "    <tr>\n",
       "      <th>208</th>\n",
       "      <td>Pirates of the Caribbean: The Curse of the Bla...</td>\n",
       "      <td>271.972889</td>\n",
       "      <td>7.5</td>\n",
       "      <td>[Adventure, Fantasy, Action]</td>\n",
       "    </tr>\n",
       "    <tr>\n",
       "      <th>1061</th>\n",
       "      <td>Dawn of the Planet of the Apes</td>\n",
       "      <td>243.791743</td>\n",
       "      <td>7.3</td>\n",
       "      <td>[Science Fiction, Action, Drama, Thriller]</td>\n",
       "    </tr>\n",
       "    <tr>\n",
       "      <th>1082</th>\n",
       "      <td>The Hunger Games: Mockingjay - Part 1</td>\n",
       "      <td>206.227151</td>\n",
       "      <td>6.6</td>\n",
       "      <td>[Science Fiction, Adventure, Thriller]</td>\n",
       "    </tr>\n",
       "    <tr>\n",
       "      <th>1078</th>\n",
       "      <td>Big Hero 6</td>\n",
       "      <td>203.734590</td>\n",
       "      <td>7.8</td>\n",
       "      <td>[Adventure, Family, Animation, Action, Comedy]</td>\n",
       "    </tr>\n",
       "  </tbody>\n",
       "</table>\n",
       "</div>"
      ],
      "text/plain": [
       "                                                  title  popularity  \\\n",
       "1137                                            Minions  875.581305   \n",
       "1042                                       Interstellar  724.247784   \n",
       "1103                                           Deadpool  514.569956   \n",
       "1062                            Guardians of the Galaxy  481.098624   \n",
       "1097                                 Mad Max: Fury Road  434.278564   \n",
       "1086                                     Jurassic World  418.708552   \n",
       "208   Pirates of the Caribbean: The Curse of the Bla...  271.972889   \n",
       "1061                     Dawn of the Planet of the Apes  243.791743   \n",
       "1082              The Hunger Games: Mockingjay - Part 1  206.227151   \n",
       "1078                                         Big Hero 6  203.734590   \n",
       "\n",
       "      vote_average                                          genres  \n",
       "1137           6.4          [Family, Animation, Adventure, Comedy]  \n",
       "1042           8.1             [Adventure, Drama, Science Fiction]  \n",
       "1103           7.4                     [Action, Adventure, Comedy]  \n",
       "1062           7.9            [Action, Science Fiction, Adventure]  \n",
       "1097           7.2  [Action, Adventure, Science Fiction, Thriller]  \n",
       "1086           6.5  [Action, Adventure, Science Fiction, Thriller]  \n",
       "208            7.5                    [Adventure, Fantasy, Action]  \n",
       "1061           7.3      [Science Fiction, Action, Drama, Thriller]  \n",
       "1082           6.6          [Science Fiction, Adventure, Thriller]  \n",
       "1078           7.8  [Adventure, Family, Animation, Action, Comedy]  "
      ]
     },
     "execution_count": 19,
     "metadata": {},
     "output_type": "execute_result"
    }
   ],
   "source": [
    "movie_recommendation_by_popularity=movies_df.sort_values('popularity', ascending=[False])\n",
    "movie_recommendation_by_popularity=movie_recommendation_by_popularity[:10]\n",
    "movie_recommendation_by_popularity[['title', 'popularity','vote_average','genres']]"
   ]
  },
  {
   "cell_type": "markdown",
   "id": "6a4cd2e0",
   "metadata": {},
   "source": [
    "### b) Following are list of movies based on Avarage votes"
   ]
  },
  {
   "cell_type": "code",
   "execution_count": 20,
   "id": "7c502d35",
   "metadata": {
    "id": "5f3c700b",
    "outputId": "1a9833c7-bd64-43ab-df50-ed6fbec4636f"
   },
   "outputs": [
    {
     "data": {
      "text/html": [
       "<div>\n",
       "<style scoped>\n",
       "    .dataframe tbody tr th:only-of-type {\n",
       "        vertical-align: middle;\n",
       "    }\n",
       "\n",
       "    .dataframe tbody tr th {\n",
       "        vertical-align: top;\n",
       "    }\n",
       "\n",
       "    .dataframe thead th {\n",
       "        text-align: right;\n",
       "    }\n",
       "</style>\n",
       "<table border=\"1\" class=\"dataframe\">\n",
       "  <thead>\n",
       "    <tr style=\"text-align: right;\">\n",
       "      <th></th>\n",
       "      <th>title</th>\n",
       "      <th>popularity</th>\n",
       "      <th>vote_average</th>\n",
       "      <th>genres</th>\n",
       "    </tr>\n",
       "  </thead>\n",
       "  <tbody>\n",
       "    <tr>\n",
       "      <th>23</th>\n",
       "      <td>The Godfather</td>\n",
       "      <td>143.659698</td>\n",
       "      <td>8.4</td>\n",
       "      <td>[Drama, Crime]</td>\n",
       "    </tr>\n",
       "    <tr>\n",
       "      <th>96</th>\n",
       "      <td>Fight Club</td>\n",
       "      <td>146.757391</td>\n",
       "      <td>8.3</td>\n",
       "      <td>[Drama]</td>\n",
       "    </tr>\n",
       "    <tr>\n",
       "      <th>182</th>\n",
       "      <td>Spirited Away</td>\n",
       "      <td>118.968562</td>\n",
       "      <td>8.3</td>\n",
       "      <td>[Fantasy, Adventure, Animation, Family]</td>\n",
       "    </tr>\n",
       "    <tr>\n",
       "      <th>13</th>\n",
       "      <td>Schindler's List</td>\n",
       "      <td>104.469351</td>\n",
       "      <td>8.3</td>\n",
       "      <td>[Drama, History, War]</td>\n",
       "    </tr>\n",
       "    <tr>\n",
       "      <th>1059</th>\n",
       "      <td>Whiplash</td>\n",
       "      <td>192.528841</td>\n",
       "      <td>8.3</td>\n",
       "      <td>[Drama]</td>\n",
       "    </tr>\n",
       "    <tr>\n",
       "      <th>76</th>\n",
       "      <td>American History X</td>\n",
       "      <td>73.567232</td>\n",
       "      <td>8.2</td>\n",
       "      <td>[Drama]</td>\n",
       "    </tr>\n",
       "    <tr>\n",
       "      <th>32</th>\n",
       "      <td>The Empire Strikes Back</td>\n",
       "      <td>78.517830</td>\n",
       "      <td>8.2</td>\n",
       "      <td>[Adventure, Action, Science Fiction]</td>\n",
       "    </tr>\n",
       "    <tr>\n",
       "      <th>107</th>\n",
       "      <td>The Green Mile</td>\n",
       "      <td>103.698022</td>\n",
       "      <td>8.2</td>\n",
       "      <td>[Fantasy, Drama, Crime]</td>\n",
       "    </tr>\n",
       "    <tr>\n",
       "      <th>37</th>\n",
       "      <td>GoodFellas</td>\n",
       "      <td>63.654244</td>\n",
       "      <td>8.2</td>\n",
       "      <td>[Drama, Crime]</td>\n",
       "    </tr>\n",
       "    <tr>\n",
       "      <th>490</th>\n",
       "      <td>The Dark Knight</td>\n",
       "      <td>187.322927</td>\n",
       "      <td>8.2</td>\n",
       "      <td>[Drama, Action, Crime, Thriller]</td>\n",
       "    </tr>\n",
       "  </tbody>\n",
       "</table>\n",
       "</div>"
      ],
      "text/plain": [
       "                        title  popularity  vote_average  \\\n",
       "23              The Godfather  143.659698           8.4   \n",
       "96                 Fight Club  146.757391           8.3   \n",
       "182             Spirited Away  118.968562           8.3   \n",
       "13           Schindler's List  104.469351           8.3   \n",
       "1059                 Whiplash  192.528841           8.3   \n",
       "76         American History X   73.567232           8.2   \n",
       "32    The Empire Strikes Back   78.517830           8.2   \n",
       "107            The Green Mile  103.698022           8.2   \n",
       "37                 GoodFellas   63.654244           8.2   \n",
       "490           The Dark Knight  187.322927           8.2   \n",
       "\n",
       "                                       genres  \n",
       "23                             [Drama, Crime]  \n",
       "96                                    [Drama]  \n",
       "182   [Fantasy, Adventure, Animation, Family]  \n",
       "13                      [Drama, History, War]  \n",
       "1059                                  [Drama]  \n",
       "76                                    [Drama]  \n",
       "32       [Adventure, Action, Science Fiction]  \n",
       "107                   [Fantasy, Drama, Crime]  \n",
       "37                             [Drama, Crime]  \n",
       "490          [Drama, Action, Crime, Thriller]  "
      ]
     },
     "execution_count": 20,
     "metadata": {},
     "output_type": "execute_result"
    }
   ],
   "source": [
    "movie_recommendation_by_vote=movies_df.sort_values('vote_average', ascending=[False])\n",
    "movie_recommendation_by_vote=movie_recommendation_by_vote[:10]\n",
    "movie_recommendation_by_vote[['title', 'popularity','vote_average','genres']]"
   ]
  },
  {
   "cell_type": "markdown",
   "id": "e7769455",
   "metadata": {},
   "source": [
    "### c) Following are list of movies based on Weighted Avarage"
   ]
  },
  {
   "cell_type": "markdown",
   "id": "c7e738e0",
   "metadata": {
    "id": "5b9eb920"
   },
   "source": [
    "#### Weighted Avarage rating (WR)\n",
    " (v ÷ (v+m)) × R + (m ÷ (v+m)) × C \n",
    "\n",
    "where:\n",
    "- R = average for the movie (mean) = (Rating)\n",
    "- v = number of votes for the movie = (votes)\n",
    "- m = minimum votes required to be listed in the Top 250 (currently 25000)\n",
    "- C = the mean vote across the whole report (currently 7.0)"
   ]
  },
  {
   "cell_type": "code",
   "execution_count": 21,
   "id": "62f92560",
   "metadata": {
    "id": "ea5ab173"
   },
   "outputs": [],
   "source": [
    "from sklearn.preprocessing import MinMaxScaler\n",
    "scaler = MinMaxScaler()\n",
    "r=movies_df['vote_average']\n",
    "v=movies_df['vote_count']\n",
    "m=movies_df['vote_count'].quantile(q=.7)\n",
    "c=movies_df['vote_average'].mean()\n",
    "movies_df['weighted_average']=(v*r/(v+m))+(m*c/(v+m))"
   ]
  },
  {
   "cell_type": "code",
   "execution_count": 22,
   "id": "623cfbbe",
   "metadata": {
    "id": "3ea8941b"
   },
   "outputs": [],
   "source": [
    "from sklearn.preprocessing import MinMaxScaler\n",
    "scaler = MinMaxScaler()\n",
    "result_df=pd.DataFrame(scaler.fit_transform(movies_df[['weighted_average','popularity']]),columns=['weighted_average','popularity'])\n",
    "movies_df['score']=result_df['weighted_average']*0.5 +result_df['popularity']*0.5"
   ]
  },
  {
   "cell_type": "code",
   "execution_count": 23,
   "id": "e52fc7dd",
   "metadata": {
    "id": "207c2d8a",
    "outputId": "809e9cfc-7531-4d85-d4eb-aef98d646928"
   },
   "outputs": [
    {
     "data": {
      "text/html": [
       "<div>\n",
       "<style scoped>\n",
       "    .dataframe tbody tr th:only-of-type {\n",
       "        vertical-align: middle;\n",
       "    }\n",
       "\n",
       "    .dataframe tbody tr th {\n",
       "        vertical-align: top;\n",
       "    }\n",
       "\n",
       "    .dataframe thead th {\n",
       "        text-align: right;\n",
       "    }\n",
       "</style>\n",
       "<table border=\"1\" class=\"dataframe\">\n",
       "  <thead>\n",
       "    <tr style=\"text-align: right;\">\n",
       "      <th></th>\n",
       "      <th>title</th>\n",
       "      <th>popularity</th>\n",
       "      <th>vote_average</th>\n",
       "      <th>genres</th>\n",
       "      <th>weighted_average</th>\n",
       "    </tr>\n",
       "  </thead>\n",
       "  <tbody>\n",
       "    <tr>\n",
       "      <th>1042</th>\n",
       "      <td>Interstellar</td>\n",
       "      <td>724.247784</td>\n",
       "      <td>8.1</td>\n",
       "      <td>[Adventure, Drama, Science Fiction]</td>\n",
       "      <td>7.876298</td>\n",
       "    </tr>\n",
       "    <tr>\n",
       "      <th>1062</th>\n",
       "      <td>Guardians of the Galaxy</td>\n",
       "      <td>481.098624</td>\n",
       "      <td>7.9</td>\n",
       "      <td>[Action, Science Fiction, Adventure]</td>\n",
       "      <td>7.683780</td>\n",
       "    </tr>\n",
       "    <tr>\n",
       "      <th>1137</th>\n",
       "      <td>Minions</td>\n",
       "      <td>875.581305</td>\n",
       "      <td>6.4</td>\n",
       "      <td>[Family, Animation, Adventure, Comedy]</td>\n",
       "      <td>6.409235</td>\n",
       "    </tr>\n",
       "    <tr>\n",
       "      <th>1103</th>\n",
       "      <td>Deadpool</td>\n",
       "      <td>514.569956</td>\n",
       "      <td>7.4</td>\n",
       "      <td>[Action, Adventure, Comedy]</td>\n",
       "      <td>7.271615</td>\n",
       "    </tr>\n",
       "    <tr>\n",
       "      <th>490</th>\n",
       "      <td>The Dark Knight</td>\n",
       "      <td>187.322927</td>\n",
       "      <td>8.2</td>\n",
       "      <td>[Drama, Action, Crime, Thriller]</td>\n",
       "      <td>7.982532</td>\n",
       "    </tr>\n",
       "    <tr>\n",
       "      <th>96</th>\n",
       "      <td>Fight Club</td>\n",
       "      <td>146.757391</td>\n",
       "      <td>8.3</td>\n",
       "      <td>[Drama]</td>\n",
       "      <td>8.016614</td>\n",
       "    </tr>\n",
       "    <tr>\n",
       "      <th>1097</th>\n",
       "      <td>Mad Max: Fury Road</td>\n",
       "      <td>434.278564</td>\n",
       "      <td>7.2</td>\n",
       "      <td>[Action, Adventure, Science Fiction, Thriller]</td>\n",
       "      <td>7.083840</td>\n",
       "    </tr>\n",
       "    <tr>\n",
       "      <th>705</th>\n",
       "      <td>Inception</td>\n",
       "      <td>167.583710</td>\n",
       "      <td>8.1</td>\n",
       "      <td>[Action, Thriller, Science Fiction, Mystery, A...</td>\n",
       "      <td>7.918104</td>\n",
       "    </tr>\n",
       "    <tr>\n",
       "      <th>23</th>\n",
       "      <td>The Godfather</td>\n",
       "      <td>143.659698</td>\n",
       "      <td>8.4</td>\n",
       "      <td>[Drama, Crime]</td>\n",
       "      <td>7.962751</td>\n",
       "    </tr>\n",
       "    <tr>\n",
       "      <th>1059</th>\n",
       "      <td>Whiplash</td>\n",
       "      <td>192.528841</td>\n",
       "      <td>8.3</td>\n",
       "      <td>[Drama]</td>\n",
       "      <td>7.770480</td>\n",
       "    </tr>\n",
       "  </tbody>\n",
       "</table>\n",
       "</div>"
      ],
      "text/plain": [
       "                        title  popularity  vote_average  \\\n",
       "1042             Interstellar  724.247784           8.1   \n",
       "1062  Guardians of the Galaxy  481.098624           7.9   \n",
       "1137                  Minions  875.581305           6.4   \n",
       "1103                 Deadpool  514.569956           7.4   \n",
       "490           The Dark Knight  187.322927           8.2   \n",
       "96                 Fight Club  146.757391           8.3   \n",
       "1097       Mad Max: Fury Road  434.278564           7.2   \n",
       "705                 Inception  167.583710           8.1   \n",
       "23              The Godfather  143.659698           8.4   \n",
       "1059                 Whiplash  192.528841           8.3   \n",
       "\n",
       "                                                 genres  weighted_average  \n",
       "1042                [Adventure, Drama, Science Fiction]          7.876298  \n",
       "1062               [Action, Science Fiction, Adventure]          7.683780  \n",
       "1137             [Family, Animation, Adventure, Comedy]          6.409235  \n",
       "1103                        [Action, Adventure, Comedy]          7.271615  \n",
       "490                    [Drama, Action, Crime, Thriller]          7.982532  \n",
       "96                                              [Drama]          8.016614  \n",
       "1097     [Action, Adventure, Science Fiction, Thriller]          7.083840  \n",
       "705   [Action, Thriller, Science Fiction, Mystery, A...          7.918104  \n",
       "23                                       [Drama, Crime]          7.962751  \n",
       "1059                                            [Drama]          7.770480  "
      ]
     },
     "execution_count": 23,
     "metadata": {},
     "output_type": "execute_result"
    }
   ],
   "source": [
    "movie_recommendation_by_score=movies_df.sort_values('score', ascending=[False])\n",
    "movie_recommendation_by_score=movie_recommendation_by_score[:10]\n",
    "movie_recommendation_by_score[['title', 'popularity','vote_average','genres','weighted_average']]"
   ]
  },
  {
   "cell_type": "markdown",
   "id": "776cb70d",
   "metadata": {
    "id": "71540fd1"
   },
   "source": [
    "## Task 2: Find similarities among  movies \n",
    "- We have to identify movies of similar types to what users watched recently. There could be multiple approaches to do with this."
   ]
  },
  {
   "cell_type": "markdown",
   "id": "21d5e4ac",
   "metadata": {
    "id": "2d85756e"
   },
   "source": [
    "### How we can find two movies are similar. The following columns could help us with this\n",
    "- a) **Overview**: We can compare overviews of different movies to understand whether they are similar. For this, we can  focus on the keywords present in the overview and match them with other columns \n",
    "- b) **keywords**: Same goes with this column too.\n",
    "- c) **genres, Cast, Crew**: These three columns can also work as a perfect indicator.\n",
    "\n",
    "### So, the following steps :\n",
    "- Merge **all** these columns and remove all stop words.\n",
    "- Apply **Bag-of-Words** or other techniques to generate vectorize representation. This help to convert the text into numerical feature vectors.\n",
    "- Next, we can use the **cosine distance** between the vectors."
   ]
  },
  {
   "cell_type": "markdown",
   "id": "8e3246dc",
   "metadata": {},
   "source": [
    "### Before staring first put an threshhold based on popularity or weighted avarage score that we calculated earlier, to remove data with very less score"
   ]
  },
  {
   "cell_type": "code",
   "execution_count": 24,
   "id": "ab1ce7eb",
   "metadata": {},
   "outputs": [
    {
     "data": {
      "image/png": "[encoded data removed]",
      "text/plain": [
       "<Figure size 360x360 with 1 Axes>"
      ]
     },
     "metadata": {},
     "output_type": "display_data"
    },
    {
     "data": {
      "image/png": "[encoded data removed]",
      "text/plain": [
       "<Figure size 360x360 with 1 Axes>"
      ]
     },
     "metadata": {},
     "output_type": "display_data"
    },
    {
     "data": {
      "image/png": "[encoded data removed]",
      "text/plain": [
       "<Figure size 360x360 with 1 Axes>"
      ]
     },
     "metadata": {},
     "output_type": "display_data"
    }
   ],
   "source": [
    "\n",
    "import scipy.stats as st\n",
    "\n",
    "data = movies_df.loc[:, 'weighted_average'].values\n",
    "\n",
    "sns.displot(data=data)\n",
    "\n",
    "\n",
    "fig = plt.figure()\n",
    "ax = fig.add_axes([0,0,1,1])\n",
    "\n",
    "\n",
    "ax.hist(\n",
    "    data,\n",
    "    alpha=0.1,\n",
    "    bins=10,\n",
    "    density=True\n",
    ")\n",
    "\n",
    "ax.axvline(x=6)\n",
    "plt.xlabel('weighted_average')\n",
    "plt.title('weighted_average distribution')\n",
    "plt.show()\n",
    "\n",
    "fig = plt.figure()\n",
    "ax = fig.add_axes([0,0,1,1])\n",
    "\n",
    "ax.hist(\n",
    "    data,\n",
    "    alpha=0.1,\n",
    "    bins=10,\n",
    "    density=True,\n",
    "    cumulative=True\n",
    ")\n",
    "ax.axvline(x=6)\n",
    "\n",
    "plt.xlabel('weighted_average')\n",
    "plt.title('cumulative weighted_average distribution')\n",
    "plt.show()"
   ]
  },
  {
   "cell_type": "code",
   "execution_count": 25,
   "id": "ce74bbf3",
   "metadata": {
    "id": "34b10337",
    "outputId": "ea41ce03-29fa-4eee-fa57-97427c7ba6bf"
   },
   "outputs": [
    {
     "data": {
      "text/html": [
       "<div>\n",
       "<style scoped>\n",
       "    .dataframe tbody tr th:only-of-type {\n",
       "        vertical-align: middle;\n",
       "    }\n",
       "\n",
       "    .dataframe tbody tr th {\n",
       "        vertical-align: top;\n",
       "    }\n",
       "\n",
       "    .dataframe thead th {\n",
       "        text-align: right;\n",
       "    }\n",
       "</style>\n",
       "<table border=\"1\" class=\"dataframe\">\n",
       "  <thead>\n",
       "    <tr style=\"text-align: right;\">\n",
       "      <th></th>\n",
       "      <th>movieId</th>\n",
       "      <th>title</th>\n",
       "      <th>keywords</th>\n",
       "      <th>genres</th>\n",
       "      <th>popularity</th>\n",
       "      <th>vote_count</th>\n",
       "      <th>vote_average</th>\n",
       "      <th>overview</th>\n",
       "      <th>cast</th>\n",
       "      <th>crew</th>\n",
       "      <th>weighted_average</th>\n",
       "      <th>score</th>\n",
       "    </tr>\n",
       "  </thead>\n",
       "  <tbody>\n",
       "    <tr>\n",
       "      <th>0</th>\n",
       "      <td>10</td>\n",
       "      <td>GoldenEye</td>\n",
       "      <td>[cuba, falsely accused, secret identity, compu...</td>\n",
       "      <td>[Adventure, Action, Thriller]</td>\n",
       "      <td>59.824565</td>\n",
       "      <td>1174</td>\n",
       "      <td>6.6</td>\n",
       "      <td>James Bond must unmask the mysterious head of ...</td>\n",
       "      <td>[Pierce Brosnan, Sean Bean, Izabella Scorupco]</td>\n",
       "      <td>[Eric Serra, Tina Turner, Ian Fleming]</td>\n",
       "      <td>6.502307</td>\n",
       "      <td>0.258846</td>\n",
       "    </tr>\n",
       "  </tbody>\n",
       "</table>\n",
       "</div>"
      ],
      "text/plain": [
       "   movieId      title                                           keywords  \\\n",
       "0       10  GoldenEye  [cuba, falsely accused, secret identity, compu...   \n",
       "\n",
       "                          genres  popularity  vote_count  vote_average  \\\n",
       "0  [Adventure, Action, Thriller]   59.824565        1174           6.6   \n",
       "\n",
       "                                            overview  \\\n",
       "0  James Bond must unmask the mysterious head of ...   \n",
       "\n",
       "                                             cast  \\\n",
       "0  [Pierce Brosnan, Sean Bean, Izabella Scorupco]   \n",
       "\n",
       "                                     crew  weighted_average     score  \n",
       "0  [Eric Serra, Tina Turner, Ian Fleming]          6.502307  0.258846  "
      ]
     },
     "execution_count": 25,
     "metadata": {},
     "output_type": "execute_result"
    }
   ],
   "source": [
    "movies_df= movies_df.query('weighted_average >= 6')\n",
    "\n",
    "movies_df.head(1)"
   ]
  },
  {
   "cell_type": "markdown",
   "id": "658cf914",
   "metadata": {
    "id": "b2a1f7ba"
   },
   "source": [
    "#### First get all tokens from the columns mentioned above"
   ]
  },
  {
   "cell_type": "code",
   "execution_count": 26,
   "id": "8697c9b4",
   "metadata": {
    "id": "44e5ce56"
   },
   "outputs": [],
   "source": [
    "#First get all tokens from overview columns\n",
    "movies_df['overview'] = movies_df['overview'].apply(lambda x:x.split())\n",
    "movies_df['tag'] = movies_df['overview'] + movies_df['genres'] + movies_df['keywords'] + movies_df['cast'].replace(' ', '_', regex=True) + movies_df['crew'].replace(' ', '_', regex=True)\n",
    "movies_with_tag_df = movies_df.drop(columns=['overview','genres','keywords','cast','crew'])\n"
   ]
  },
  {
   "cell_type": "code",
   "execution_count": 27,
   "id": "fd6d06e9",
   "metadata": {
    "id": "126e71ac",
    "outputId": "0ccbcaad-0915-4f74-904b-fdade8a63d04"
   },
   "outputs": [
    {
     "data": {
      "text/html": [
       "<div>\n",
       "<style scoped>\n",
       "    .dataframe tbody tr th:only-of-type {\n",
       "        vertical-align: middle;\n",
       "    }\n",
       "\n",
       "    .dataframe tbody tr th {\n",
       "        vertical-align: top;\n",
       "    }\n",
       "\n",
       "    .dataframe thead th {\n",
       "        text-align: right;\n",
       "    }\n",
       "</style>\n",
       "<table border=\"1\" class=\"dataframe\">\n",
       "  <thead>\n",
       "    <tr style=\"text-align: right;\">\n",
       "      <th></th>\n",
       "      <th>movieId</th>\n",
       "      <th>title</th>\n",
       "      <th>popularity</th>\n",
       "      <th>vote_count</th>\n",
       "      <th>vote_average</th>\n",
       "      <th>weighted_average</th>\n",
       "      <th>score</th>\n",
       "      <th>tag</th>\n",
       "    </tr>\n",
       "  </thead>\n",
       "  <tbody>\n",
       "    <tr>\n",
       "      <th>0</th>\n",
       "      <td>10</td>\n",
       "      <td>GoldenEye</td>\n",
       "      <td>59.824565</td>\n",
       "      <td>1174</td>\n",
       "      <td>6.6</td>\n",
       "      <td>6.502307</td>\n",
       "      <td>0.258846</td>\n",
       "      <td>James Bond must unmask the mysterious head of ...</td>\n",
       "    </tr>\n",
       "    <tr>\n",
       "      <th>1</th>\n",
       "      <td>25</td>\n",
       "      <td>Leaving Las Vegas</td>\n",
       "      <td>22.030517</td>\n",
       "      <td>360</td>\n",
       "      <td>7.1</td>\n",
       "      <td>6.551422</td>\n",
       "      <td>0.246182</td>\n",
       "      <td>Ben Sanderson, an alcoholic Hollywood screenwr...</td>\n",
       "    </tr>\n",
       "    <tr>\n",
       "      <th>2</th>\n",
       "      <td>47</td>\n",
       "      <td>Se7en</td>\n",
       "      <td>79.579532</td>\n",
       "      <td>5765</td>\n",
       "      <td>8.1</td>\n",
       "      <td>7.723117</td>\n",
       "      <td>0.491979</td>\n",
       "      <td>Two homicide detectives are on a desperate hun...</td>\n",
       "    </tr>\n",
       "    <tr>\n",
       "      <th>3</th>\n",
       "      <td>50</td>\n",
       "      <td>The Usual Suspects</td>\n",
       "      <td>64.025031</td>\n",
       "      <td>3254</td>\n",
       "      <td>8.1</td>\n",
       "      <td>7.531540</td>\n",
       "      <td>0.448280</td>\n",
       "      <td>Held in an L.A. interrogation room, Verbal Kin...</td>\n",
       "    </tr>\n",
       "    <tr>\n",
       "      <th>4</th>\n",
       "      <td>69</td>\n",
       "      <td>Friday</td>\n",
       "      <td>25.574800</td>\n",
       "      <td>503</td>\n",
       "      <td>7.0</td>\n",
       "      <td>6.564281</td>\n",
       "      <td>0.250544</td>\n",
       "      <td>Craig and Smokey are two guys in Los Angeles h...</td>\n",
       "    </tr>\n",
       "    <tr>\n",
       "      <th>...</th>\n",
       "      <td>...</td>\n",
       "      <td>...</td>\n",
       "      <td>...</td>\n",
       "      <td>...</td>\n",
       "      <td>...</td>\n",
       "      <td>...</td>\n",
       "      <td>...</td>\n",
       "      <td>...</td>\n",
       "    </tr>\n",
       "    <tr>\n",
       "      <th>1200</th>\n",
       "      <td>160565</td>\n",
       "      <td>The Purge: Election Year</td>\n",
       "      <td>53.727146</td>\n",
       "      <td>1306</td>\n",
       "      <td>6.1</td>\n",
       "      <td>6.288354</td>\n",
       "      <td>0.216483</td>\n",
       "      <td>Two years after choosing not to kill the man w...</td>\n",
       "    </tr>\n",
       "    <tr>\n",
       "      <th>1201</th>\n",
       "      <td>160573</td>\n",
       "      <td>Pete's Dragon</td>\n",
       "      <td>31.974359</td>\n",
       "      <td>679</td>\n",
       "      <td>6.2</td>\n",
       "      <td>6.367007</td>\n",
       "      <td>0.218350</td>\n",
       "      <td>Pete is a mysterious 10-year-old with no famil...</td>\n",
       "    </tr>\n",
       "    <tr>\n",
       "      <th>1202</th>\n",
       "      <td>160954</td>\n",
       "      <td>Nerve</td>\n",
       "      <td>62.933899</td>\n",
       "      <td>2181</td>\n",
       "      <td>7.1</td>\n",
       "      <td>6.809765</td>\n",
       "      <td>0.316494</td>\n",
       "      <td>Industrious high school senior, Vee Delmonico,...</td>\n",
       "    </tr>\n",
       "    <tr>\n",
       "      <th>1203</th>\n",
       "      <td>161127</td>\n",
       "      <td>The Infiltrator</td>\n",
       "      <td>24.672234</td>\n",
       "      <td>573</td>\n",
       "      <td>6.6</td>\n",
       "      <td>6.476314</td>\n",
       "      <td>0.234043</td>\n",
       "      <td>A U.S Customs official uncovers a massive mone...</td>\n",
       "    </tr>\n",
       "    <tr>\n",
       "      <th>1204</th>\n",
       "      <td>161580</td>\n",
       "      <td>Bad Moms</td>\n",
       "      <td>42.512296</td>\n",
       "      <td>1252</td>\n",
       "      <td>6.3</td>\n",
       "      <td>6.377050</td>\n",
       "      <td>0.226195</td>\n",
       "      <td>When three overworked and under-appreciated mo...</td>\n",
       "    </tr>\n",
       "  </tbody>\n",
       "</table>\n",
       "<p>1165 rows × 8 columns</p>\n",
       "</div>"
      ],
      "text/plain": [
       "      movieId                     title  popularity  vote_count  vote_average  \\\n",
       "0          10                 GoldenEye   59.824565        1174           6.6   \n",
       "1          25         Leaving Las Vegas   22.030517         360           7.1   \n",
       "2          47                     Se7en   79.579532        5765           8.1   \n",
       "3          50        The Usual Suspects   64.025031        3254           8.1   \n",
       "4          69                    Friday   25.574800         503           7.0   \n",
       "...       ...                       ...         ...         ...           ...   \n",
       "1200   160565  The Purge: Election Year   53.727146        1306           6.1   \n",
       "1201   160573             Pete's Dragon   31.974359         679           6.2   \n",
       "1202   160954                     Nerve   62.933899        2181           7.1   \n",
       "1203   161127           The Infiltrator   24.672234         573           6.6   \n",
       "1204   161580                  Bad Moms   42.512296        1252           6.3   \n",
       "\n",
       "      weighted_average     score  \\\n",
       "0             6.502307  0.258846   \n",
       "1             6.551422  0.246182   \n",
       "2             7.723117  0.491979   \n",
       "3             7.531540  0.448280   \n",
       "4             6.564281  0.250544   \n",
       "...                ...       ...   \n",
       "1200          6.288354  0.216483   \n",
       "1201          6.367007  0.218350   \n",
       "1202          6.809765  0.316494   \n",
       "1203          6.476314  0.234043   \n",
       "1204          6.377050  0.226195   \n",
       "\n",
       "                                                    tag  \n",
       "0     James Bond must unmask the mysterious head of ...  \n",
       "1     Ben Sanderson, an alcoholic Hollywood screenwr...  \n",
       "2     Two homicide detectives are on a desperate hun...  \n",
       "3     Held in an L.A. interrogation room, Verbal Kin...  \n",
       "4     Craig and Smokey are two guys in Los Angeles h...  \n",
       "...                                                 ...  \n",
       "1200  Two years after choosing not to kill the man w...  \n",
       "1201  Pete is a mysterious 10-year-old with no famil...  \n",
       "1202  Industrious high school senior, Vee Delmonico,...  \n",
       "1203  A U.S Customs official uncovers a massive mone...  \n",
       "1204  When three overworked and under-appreciated mo...  \n",
       "\n",
       "[1165 rows x 8 columns]"
      ]
     },
     "execution_count": 27,
     "metadata": {},
     "output_type": "execute_result"
    }
   ],
   "source": [
    "movies_with_tag_df['tag'] = movies_with_tag_df['tag'].apply(lambda x: \" \".join(x))\n",
    "movies_with_tag_df"
   ]
  },
  {
   "cell_type": "markdown",
   "id": "7a054621",
   "metadata": {
    "id": "d0a2f416"
   },
   "source": [
    "#### Apply word embedding\n",
    "- Here we have to ensure that we remove stop words. It helps to remove the low-level information from our text to focus on the important information."
   ]
  },
  {
   "cell_type": "code",
   "execution_count": 28,
   "id": "26d3f97c",
   "metadata": {
    "id": "328ae4f8"
   },
   "outputs": [],
   "source": [
    "from sklearn.feature_extraction.text import CountVectorizer\n",
    "cv = CountVectorizer(max_features=5000,stop_words='english')\n",
    "vector = cv.fit_transform(movies_with_tag_df['tag']).toarray()\n"
   ]
  },
  {
   "cell_type": "markdown",
   "id": "5fe4e0c4",
   "metadata": {
    "id": "19636400"
   },
   "source": [
    "####  get similarities among the vectors"
   ]
  },
  {
   "cell_type": "code",
   "execution_count": 29,
   "id": "e7ee3cf6",
   "metadata": {
    "id": "ec5e5287"
   },
   "outputs": [],
   "source": [
    "from sklearn.metrics.pairwise import cosine_similarity\n",
    "cosine_similarity = cosine_similarity(vector)"
   ]
  },
  {
   "cell_type": "markdown",
   "id": "58c1c35c",
   "metadata": {
    "id": "92c98fab"
   },
   "source": [
    "### Now lets select a data and apply this technique"
   ]
  },
  {
   "cell_type": "code",
   "execution_count": 30,
   "id": "0a0a50bb",
   "metadata": {
    "id": "d3ab095b",
    "outputId": "4838e454-45a0-4f5e-f407-471fbbe28854"
   },
   "outputs": [
    {
     "data": {
      "text/plain": [
       "289"
      ]
     },
     "execution_count": 30,
     "metadata": {},
     "output_type": "execute_result"
    }
   ],
   "source": [
    "movies_with_tag_df[movies_with_tag_df['title'] == 'Batman Begins'].index[0]\n"
   ]
  },
  {
   "cell_type": "code",
   "execution_count": 31,
   "id": "78c8966a",
   "metadata": {
    "id": "876ea3d3"
   },
   "outputs": [],
   "source": [
    "def RecommendMovie(movie,df,similarity):\n",
    "    index  = df[df['title'] == movie].index [0]\n",
    "    distance = sorted(list(enumerate(similarity[index])),reverse=True,key = lambda x: x[1])\n",
    "    result=[]\n",
    "    for i in distance[1:5]:\n",
    "        result.append(df.iloc[i[0]].title)\n",
    "    return result    "
   ]
  },
  {
   "cell_type": "code",
   "execution_count": 32,
   "id": "f69c5a29",
   "metadata": {
    "id": "44ed8a9d"
   },
   "outputs": [],
   "source": [
    "resuls=RecommendMovie('Batman Begins',movies_with_tag_df,cosine_similarity)"
   ]
  },
  {
   "cell_type": "code",
   "execution_count": 33,
   "id": "52a000d3",
   "metadata": {
    "id": "52285fa3",
    "outputId": "0cb2c580-1120-4b2c-a190-bcbf30aaab1f"
   },
   "outputs": [
    {
     "data": {
      "text/html": [
       "<div>\n",
       "<style scoped>\n",
       "    .dataframe tbody tr th:only-of-type {\n",
       "        vertical-align: middle;\n",
       "    }\n",
       "\n",
       "    .dataframe tbody tr th {\n",
       "        vertical-align: top;\n",
       "    }\n",
       "\n",
       "    .dataframe thead th {\n",
       "        text-align: right;\n",
       "    }\n",
       "</style>\n",
       "<table border=\"1\" class=\"dataframe\">\n",
       "  <thead>\n",
       "    <tr style=\"text-align: right;\">\n",
       "      <th></th>\n",
       "      <th>movieId</th>\n",
       "      <th>title</th>\n",
       "      <th>keywords</th>\n",
       "      <th>genres</th>\n",
       "      <th>popularity</th>\n",
       "      <th>cast</th>\n",
       "      <th>crew</th>\n",
       "      <th>overview</th>\n",
       "      <th>vote_average</th>\n",
       "      <th>score</th>\n",
       "    </tr>\n",
       "  </thead>\n",
       "  <tbody>\n",
       "    <tr>\n",
       "      <th>490</th>\n",
       "      <td>58559</td>\n",
       "      <td>The Dark Knight</td>\n",
       "      <td>[dc comics, crime fighter, secret identity, sc...</td>\n",
       "      <td>[Drama, Action, Crime, Thriller]</td>\n",
       "      <td>187.322927</td>\n",
       "      <td>[Christian Bale, Heath Ledger, Aaron Eckhart]</td>\n",
       "      <td>[Lucinda Syson, Hans Zimmer, Charles Roven]</td>\n",
       "      <td>[Batman, raises, the, stakes, in, his, war, on...</td>\n",
       "      <td>8.2</td>\n",
       "      <td>0.600665</td>\n",
       "    </tr>\n",
       "    <tr>\n",
       "      <th>23</th>\n",
       "      <td>858</td>\n",
       "      <td>The Godfather</td>\n",
       "      <td>[italy, love at first sight, loss of father, p...</td>\n",
       "      <td>[Drama, Crime]</td>\n",
       "      <td>143.659698</td>\n",
       "      <td>[Marlon Brando, Al Pacino, James Caan]</td>\n",
       "      <td>[Francis Ford Coppola, Francis Ford Coppola, G...</td>\n",
       "      <td>[Spanning, the, years, 1945, to, 1955,, a, chr...</td>\n",
       "      <td>8.4</td>\n",
       "      <td>0.572130</td>\n",
       "    </tr>\n",
       "    <tr>\n",
       "      <th>880</th>\n",
       "      <td>91529</td>\n",
       "      <td>The Dark Knight Rises</td>\n",
       "      <td>[dc comics, crime fighter, terrorist, secret i...</td>\n",
       "      <td>[Action, Crime, Drama, Thriller]</td>\n",
       "      <td>112.312950</td>\n",
       "      <td>[Christian Bale, Michael Caine, Gary Oldman]</td>\n",
       "      <td>[Hans Zimmer, Charles Roven, Christopher Nolan]</td>\n",
       "      <td>[Following, the, death, of, District, Attorney...</td>\n",
       "      <td>7.6</td>\n",
       "      <td>0.455212</td>\n",
       "    </tr>\n",
       "    <tr>\n",
       "      <th>1067</th>\n",
       "      <td>113348</td>\n",
       "      <td>Teenage Mutant Ninja Turtles</td>\n",
       "      <td>[martial arts, terrorist, hero, mutation, van,...</td>\n",
       "      <td>[Science Fiction, Action, Adventure, Fantasy, ...</td>\n",
       "      <td>143.350376</td>\n",
       "      <td>[Megan Fox, Will Arnett, William Fichtner]</td>\n",
       "      <td>[Michael Bay, Brian Tyler, Galen Walker]</td>\n",
       "      <td>[The, city, needs, heroes., Darkness, has, set...</td>\n",
       "      <td>5.8</td>\n",
       "      <td>0.223891</td>\n",
       "    </tr>\n",
       "  </tbody>\n",
       "</table>\n",
       "</div>"
      ],
      "text/plain": [
       "      movieId                         title  \\\n",
       "490     58559               The Dark Knight   \n",
       "23        858                 The Godfather   \n",
       "880     91529         The Dark Knight Rises   \n",
       "1067   113348  Teenage Mutant Ninja Turtles   \n",
       "\n",
       "                                               keywords  \\\n",
       "490   [dc comics, crime fighter, secret identity, sc...   \n",
       "23    [italy, love at first sight, loss of father, p...   \n",
       "880   [dc comics, crime fighter, terrorist, secret i...   \n",
       "1067  [martial arts, terrorist, hero, mutation, van,...   \n",
       "\n",
       "                                                 genres  popularity  \\\n",
       "490                    [Drama, Action, Crime, Thriller]  187.322927   \n",
       "23                                       [Drama, Crime]  143.659698   \n",
       "880                    [Action, Crime, Drama, Thriller]  112.312950   \n",
       "1067  [Science Fiction, Action, Adventure, Fantasy, ...  143.350376   \n",
       "\n",
       "                                               cast  \\\n",
       "490   [Christian Bale, Heath Ledger, Aaron Eckhart]   \n",
       "23           [Marlon Brando, Al Pacino, James Caan]   \n",
       "880    [Christian Bale, Michael Caine, Gary Oldman]   \n",
       "1067     [Megan Fox, Will Arnett, William Fichtner]   \n",
       "\n",
       "                                                   crew  \\\n",
       "490         [Lucinda Syson, Hans Zimmer, Charles Roven]   \n",
       "23    [Francis Ford Coppola, Francis Ford Coppola, G...   \n",
       "880     [Hans Zimmer, Charles Roven, Christopher Nolan]   \n",
       "1067           [Michael Bay, Brian Tyler, Galen Walker]   \n",
       "\n",
       "                                               overview  vote_average  \\\n",
       "490   [Batman, raises, the, stakes, in, his, war, on...           8.2   \n",
       "23    [Spanning, the, years, 1945, to, 1955,, a, chr...           8.4   \n",
       "880   [Following, the, death, of, District, Attorney...           7.6   \n",
       "1067  [The, city, needs, heroes., Darkness, has, set...           5.8   \n",
       "\n",
       "         score  \n",
       "490   0.600665  \n",
       "23    0.572130  \n",
       "880   0.455212  \n",
       "1067  0.223891  "
      ]
     },
     "execution_count": 33,
     "metadata": {},
     "output_type": "execute_result"
    }
   ],
   "source": [
    "result_df=movies_df[movies_df[\"title\"].isin(resuls)].sort_values('score', ascending=[False])\n",
    "result_df[['movieId','title','keywords','genres','popularity','cast','crew','overview','vote_average','score']]"
   ]
  },
  {
   "cell_type": "markdown",
   "id": "2d6cb43d",
   "metadata": {
    "id": "c0d6f952"
   },
   "source": [
    "## Task 3:Recommend user based on previous ratings\n"
   ]
  },
  {
   "cell_type": "markdown",
   "id": "ff058fba",
   "metadata": {},
   "source": []
  },
  {
   "cell_type": "code",
   "execution_count": 34,
   "id": "fdbff333",
   "metadata": {
    "id": "055ebf5e"
   },
   "outputs": [],
   "source": [
    "user_df=rating_df[rating_df['userId']==77].sort_values(['rating','timestamp'], ascending=[False,False])\n",
    "user_df=user_df.head(1)\n",
    "user_df=user_df.merge(movies_df,on='movieId')"
   ]
  },
  {
   "cell_type": "code",
   "execution_count": 35,
   "id": "0eb08ae8",
   "metadata": {},
   "outputs": [
    {
     "data": {
      "text/html": [
       "<div>\n",
       "<style scoped>\n",
       "    .dataframe tbody tr th:only-of-type {\n",
       "        vertical-align: middle;\n",
       "    }\n",
       "\n",
       "    .dataframe tbody tr th {\n",
       "        vertical-align: top;\n",
       "    }\n",
       "\n",
       "    .dataframe thead th {\n",
       "        text-align: right;\n",
       "    }\n",
       "</style>\n",
       "<table border=\"1\" class=\"dataframe\">\n",
       "  <thead>\n",
       "    <tr style=\"text-align: right;\">\n",
       "      <th></th>\n",
       "      <th>userId</th>\n",
       "      <th>movieId</th>\n",
       "      <th>rating</th>\n",
       "      <th>timestamp</th>\n",
       "      <th>title</th>\n",
       "      <th>keywords</th>\n",
       "      <th>genres</th>\n",
       "      <th>popularity</th>\n",
       "      <th>vote_count</th>\n",
       "      <th>vote_average</th>\n",
       "      <th>overview</th>\n",
       "      <th>cast</th>\n",
       "      <th>crew</th>\n",
       "      <th>weighted_average</th>\n",
       "      <th>score</th>\n",
       "      <th>tag</th>\n",
       "    </tr>\n",
       "  </thead>\n",
       "  <tbody>\n",
       "    <tr>\n",
       "      <th>0</th>\n",
       "      <td>77</td>\n",
       "      <td>8636</td>\n",
       "      <td>5.0</td>\n",
       "      <td>1535107569</td>\n",
       "      <td>Spider-Man 2</td>\n",
       "      <td>[dual identity, love of one's life, pizza boy,...</td>\n",
       "      <td>[Action, Adventure, Fantasy]</td>\n",
       "      <td>35.149586</td>\n",
       "      <td>4321</td>\n",
       "      <td>6.7</td>\n",
       "      <td>[Peter, Parker, is, going, through, a, major, ...</td>\n",
       "      <td>[Tobey Maguire, Kirsten Dunst, James Franco]</td>\n",
       "      <td>[Danny Elfman, Dianne Crittenden, Bill Abbott]</td>\n",
       "      <td>6.625424</td>\n",
       "      <td>0.267124</td>\n",
       "      <td>[Peter, Parker, is, going, through, a, major, ...</td>\n",
       "    </tr>\n",
       "  </tbody>\n",
       "</table>\n",
       "</div>"
      ],
      "text/plain": [
       "   userId  movieId  rating   timestamp         title  \\\n",
       "0      77     8636     5.0  1535107569  Spider-Man 2   \n",
       "\n",
       "                                            keywords  \\\n",
       "0  [dual identity, love of one's life, pizza boy,...   \n",
       "\n",
       "                         genres  popularity  vote_count  vote_average  \\\n",
       "0  [Action, Adventure, Fantasy]   35.149586        4321           6.7   \n",
       "\n",
       "                                            overview  \\\n",
       "0  [Peter, Parker, is, going, through, a, major, ...   \n",
       "\n",
       "                                           cast  \\\n",
       "0  [Tobey Maguire, Kirsten Dunst, James Franco]   \n",
       "\n",
       "                                             crew  weighted_average     score  \\\n",
       "0  [Danny Elfman, Dianne Crittenden, Bill Abbott]          6.625424  0.267124   \n",
       "\n",
       "                                                 tag  \n",
       "0  [Peter, Parker, is, going, through, a, major, ...  "
      ]
     },
     "execution_count": 35,
     "metadata": {},
     "output_type": "execute_result"
    }
   ],
   "source": [
    "user_df"
   ]
  },
  {
   "cell_type": "code",
   "execution_count": 36,
   "id": "be2aa23d",
   "metadata": {},
   "outputs": [],
   "source": [
    "from collections import OrderedDict\n",
    "res=[]\n",
    "for x in user_df['title']:\n",
    "    results=RecommendMovie(x,movies_with_tag_df,cosine_similarity)\n",
    "    res.extend(results)\n",
    "res = list(OrderedDict.fromkeys(res))\n"
   ]
  },
  {
   "cell_type": "code",
   "execution_count": 37,
   "id": "efbc803a",
   "metadata": {
    "id": "1da3ea74"
   },
   "outputs": [
    {
     "data": {
      "text/html": [
       "<div>\n",
       "<style scoped>\n",
       "    .dataframe tbody tr th:only-of-type {\n",
       "        vertical-align: middle;\n",
       "    }\n",
       "\n",
       "    .dataframe tbody tr th {\n",
       "        vertical-align: top;\n",
       "    }\n",
       "\n",
       "    .dataframe thead th {\n",
       "        text-align: right;\n",
       "    }\n",
       "</style>\n",
       "<table border=\"1\" class=\"dataframe\">\n",
       "  <thead>\n",
       "    <tr style=\"text-align: right;\">\n",
       "      <th></th>\n",
       "      <th>movieId</th>\n",
       "      <th>title</th>\n",
       "      <th>keywords</th>\n",
       "      <th>genres</th>\n",
       "      <th>popularity</th>\n",
       "      <th>cast</th>\n",
       "      <th>crew</th>\n",
       "      <th>overview</th>\n",
       "      <th>vote_average</th>\n",
       "      <th>score</th>\n",
       "    </tr>\n",
       "  </thead>\n",
       "  <tbody>\n",
       "    <tr>\n",
       "      <th>289</th>\n",
       "      <td>33794</td>\n",
       "      <td>Batman Begins</td>\n",
       "      <td>[himalaya, martial arts, dc comics, crime figh...</td>\n",
       "      <td>[Action, Crime, Drama]</td>\n",
       "      <td>115.040024</td>\n",
       "      <td>[Christian Bale, Michael Caine, Liam Neeson]</td>\n",
       "      <td>[Lucinda Syson, Larry J. Franco, Hans Zimmer]</td>\n",
       "      <td>[Driven, by, tragedy,, billionaire, Bruce, Way...</td>\n",
       "      <td>7.5</td>\n",
       "      <td>0.435593</td>\n",
       "    </tr>\n",
       "    <tr>\n",
       "      <th>170</th>\n",
       "      <td>5349</td>\n",
       "      <td>Spider-Man</td>\n",
       "      <td>[loss of lover, spider, thanksgiving, bad boss...</td>\n",
       "      <td>[Fantasy, Action]</td>\n",
       "      <td>82.502566</td>\n",
       "      <td>[Tobey Maguire, Willem Dafoe, Kirsten Dunst]</td>\n",
       "      <td>[Don Burgess, David Koepp, Danny Elfman]</td>\n",
       "      <td>[After, being, bitten, by, a, genetically, alt...</td>\n",
       "      <td>6.8</td>\n",
       "      <td>0.309778</td>\n",
       "    </tr>\n",
       "    <tr>\n",
       "      <th>1046</th>\n",
       "      <td>110553</td>\n",
       "      <td>The Amazing Spider-Man 2</td>\n",
       "      <td>[obsession, marvel comic, sequel, based on com...</td>\n",
       "      <td>[Action, Adventure, Fantasy]</td>\n",
       "      <td>89.270217</td>\n",
       "      <td>[Andrew Garfield, Emma Stone, Jamie Foxx]</td>\n",
       "      <td>[Hans Zimmer, Pietro Scalia, Mark Friedberg]</td>\n",
       "      <td>[For, Peter, Parker,, life, is, busy., Between...</td>\n",
       "      <td>6.5</td>\n",
       "      <td>0.271813</td>\n",
       "    </tr>\n",
       "    <tr>\n",
       "      <th>411</th>\n",
       "      <td>52722</td>\n",
       "      <td>Spider-Man 3</td>\n",
       "      <td>[dual identity, amnesia, sandstorm, love of on...</td>\n",
       "      <td>[Fantasy, Action, Adventure]</td>\n",
       "      <td>115.699814</td>\n",
       "      <td>[Tobey Maguire, Kirsten Dunst, James Franco]</td>\n",
       "      <td>[Francine Maisler, Joseph M. Caracciolo Jr., S...</td>\n",
       "      <td>[The, seemingly, invincible, Spider-Man, goes,...</td>\n",
       "      <td>5.9</td>\n",
       "      <td>0.212415</td>\n",
       "    </tr>\n",
       "  </tbody>\n",
       "</table>\n",
       "</div>"
      ],
      "text/plain": [
       "      movieId                     title  \\\n",
       "289     33794             Batman Begins   \n",
       "170      5349                Spider-Man   \n",
       "1046   110553  The Amazing Spider-Man 2   \n",
       "411     52722              Spider-Man 3   \n",
       "\n",
       "                                               keywords  \\\n",
       "289   [himalaya, martial arts, dc comics, crime figh...   \n",
       "170   [loss of lover, spider, thanksgiving, bad boss...   \n",
       "1046  [obsession, marvel comic, sequel, based on com...   \n",
       "411   [dual identity, amnesia, sandstorm, love of on...   \n",
       "\n",
       "                            genres  popularity  \\\n",
       "289         [Action, Crime, Drama]  115.040024   \n",
       "170              [Fantasy, Action]   82.502566   \n",
       "1046  [Action, Adventure, Fantasy]   89.270217   \n",
       "411   [Fantasy, Action, Adventure]  115.699814   \n",
       "\n",
       "                                              cast  \\\n",
       "289   [Christian Bale, Michael Caine, Liam Neeson]   \n",
       "170   [Tobey Maguire, Willem Dafoe, Kirsten Dunst]   \n",
       "1046     [Andrew Garfield, Emma Stone, Jamie Foxx]   \n",
       "411   [Tobey Maguire, Kirsten Dunst, James Franco]   \n",
       "\n",
       "                                                   crew  \\\n",
       "289       [Lucinda Syson, Larry J. Franco, Hans Zimmer]   \n",
       "170            [Don Burgess, David Koepp, Danny Elfman]   \n",
       "1046       [Hans Zimmer, Pietro Scalia, Mark Friedberg]   \n",
       "411   [Francine Maisler, Joseph M. Caracciolo Jr., S...   \n",
       "\n",
       "                                               overview  vote_average  \\\n",
       "289   [Driven, by, tragedy,, billionaire, Bruce, Way...           7.5   \n",
       "170   [After, being, bitten, by, a, genetically, alt...           6.8   \n",
       "1046  [For, Peter, Parker,, life, is, busy., Between...           6.5   \n",
       "411   [The, seemingly, invincible, Spider-Man, goes,...           5.9   \n",
       "\n",
       "         score  \n",
       "289   0.435593  \n",
       "170   0.309778  \n",
       "1046  0.271813  \n",
       "411   0.212415  "
      ]
     },
     "execution_count": 37,
     "metadata": {},
     "output_type": "execute_result"
    }
   ],
   "source": [
    "result_df=movies_df[movies_df[\"title\"].isin(res)].sort_values('score', ascending=[False])\n",
    "result_df[['movieId','title','keywords','genres','popularity','cast','crew','overview','vote_average','score']].head(10)"
   ]
  }
 ],
 "metadata": {
  "colab": {
   "collapsed_sections": [
    "4CKd-BTBerZe",
    "bcc719a6",
    "vPDbJdqwe3Dt",
    "xweL0HVsfIkl",
    "65dcc7bb",
    "e5d31b40",
    "DdOlLk9JfbIN",
    "71540fd1",
    "b2a1f7ba",
    "d0a2f416",
    "19636400"
   ],
   "name": "tmdb-movie-metadata.ipynb",
   "provenance": []
  },
  "kernelspec": {
   "display_name": "Python 3",
   "language": "python",
   "name": "python3"
  },
  "language_info": {
   "codemirror_mode": {
    "name": "ipython",
    "version": 3
   },
   "file_extension": ".py",
   "mimetype": "text/x-python",
   "name": "python",
   "nbconvert_exporter": "python",
   "pygments_lexer": "ipython3",
   "version": "3.6.5"
  }
 },
 "nbformat": 4,
 "nbformat_minor": 5
}

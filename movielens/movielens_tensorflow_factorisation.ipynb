{
 "cells": [
  {
   "cell_type": "markdown",
   "id": "df28830e",
   "metadata": {},
   "source": [
    "# Recommender system  using Matrix factorization\n",
    "http://users.cecs.anu.edu.au/~akmenon/papers/autorec/autorec-paper.pdf"
   ]
  },
  {
   "cell_type": "code",
   "execution_count": 2,
   "id": "d5f2633b",
   "metadata": {},
   "outputs": [],
   "source": [
    "import numpy as np\n",
    "import pandas as pd\n",
    "import os\n",
    "import warnings\n",
    "warnings.filterwarnings(\"ignore\")"
   ]
  },
  {
   "cell_type": "code",
   "execution_count": 3,
   "id": "3799f839",
   "metadata": {
    "id": "553b4ab0"
   },
   "outputs": [],
   "source": [
    "from keras.models import load_model\n",
    "from sklearn.model_selection import train_test_split\n",
    "from keras.layers import Input, Embedding, Flatten, Dot, Dense, Concatenate\n",
    "from keras.models import Model\n",
    "warnings.filterwarnings('ignore')\n",
    "%matplotlib inline"
   ]
  },
  {
   "cell_type": "markdown",
   "id": "f70023e5",
   "metadata": {},
   "source": [
    "## Analyse Dataset"
   ]
  },
  {
   "cell_type": "markdown",
   "id": "23b86810",
   "metadata": {
    "id": "bcc719a6"
   },
   "source": [
    "\n",
    "### Movie lens Dataset\n",
    "Reading dataset (MovieLens 1M movie ratings dataset: downloaded from https://grouplens.org/datasets/movielens/1m/)\n"
   ]
  },
  {
   "cell_type": "code",
   "execution_count": 4,
   "id": "3f066ee0",
   "metadata": {},
   "outputs": [],
   "source": [
    "import os\n",
    "import zipfile\n",
    "from os.path import exists\n",
    "cwd = os.getcwd()\n",
    "file_exists = exists('./ml-1m/movies.dat')\n",
    "if(file_exists==False):\n",
    "      \n",
    "        print('downloading....')\n",
    "        os.system('curl -o ml-1m.zip -SL https://files.grouplens.org/datasets/movielens/ml-1m.zip')\n",
    "        print('download Complete')\n",
    "        print('Extracting..')\n",
    "        savePath=cwd\n",
    "        savefile=\"./ml-1m.zip\"\n",
    "        with zipfile.ZipFile(savefile, 'r') as zip_ref:\n",
    "            zip_ref.extractall(savePath)\n",
    "        print('Complete')"
   ]
  },
  {
   "cell_type": "code",
   "execution_count": 5,
   "id": "20033671",
   "metadata": {
    "id": "2a5baa08",
    "outputId": "6f864487-9593-4736-93fe-d53ac9c8c6aa"
   },
   "outputs": [
    {
     "data": {
      "text/html": [
       "<div>\n",
       "<style scoped>\n",
       "    .dataframe tbody tr th:only-of-type {\n",
       "        vertical-align: middle;\n",
       "    }\n",
       "\n",
       "    .dataframe tbody tr th {\n",
       "        vertical-align: top;\n",
       "    }\n",
       "\n",
       "    .dataframe thead th {\n",
       "        text-align: right;\n",
       "    }\n",
       "</style>\n",
       "<table border=\"1\" class=\"dataframe\">\n",
       "  <thead>\n",
       "    <tr style=\"text-align: right;\">\n",
       "      <th></th>\n",
       "      <th>movie_id</th>\n",
       "      <th>title</th>\n",
       "      <th>genre</th>\n",
       "    </tr>\n",
       "  </thead>\n",
       "  <tbody>\n",
       "    <tr>\n",
       "      <th>0</th>\n",
       "      <td>1</td>\n",
       "      <td>Toy Story (1995)</td>\n",
       "      <td>Animation|Children's|Comedy</td>\n",
       "    </tr>\n",
       "    <tr>\n",
       "      <th>1</th>\n",
       "      <td>2</td>\n",
       "      <td>Jumanji (1995)</td>\n",
       "      <td>Adventure|Children's|Fantasy</td>\n",
       "    </tr>\n",
       "    <tr>\n",
       "      <th>2</th>\n",
       "      <td>3</td>\n",
       "      <td>Grumpier Old Men (1995)</td>\n",
       "      <td>Comedy|Romance</td>\n",
       "    </tr>\n",
       "    <tr>\n",
       "      <th>3</th>\n",
       "      <td>4</td>\n",
       "      <td>Waiting to Exhale (1995)</td>\n",
       "      <td>Comedy|Drama</td>\n",
       "    </tr>\n",
       "    <tr>\n",
       "      <th>4</th>\n",
       "      <td>5</td>\n",
       "      <td>Father of the Bride Part II (1995)</td>\n",
       "      <td>Comedy</td>\n",
       "    </tr>\n",
       "    <tr>\n",
       "      <th>...</th>\n",
       "      <td>...</td>\n",
       "      <td>...</td>\n",
       "      <td>...</td>\n",
       "    </tr>\n",
       "    <tr>\n",
       "      <th>3878</th>\n",
       "      <td>3948</td>\n",
       "      <td>Meet the Parents (2000)</td>\n",
       "      <td>Comedy</td>\n",
       "    </tr>\n",
       "    <tr>\n",
       "      <th>3879</th>\n",
       "      <td>3949</td>\n",
       "      <td>Requiem for a Dream (2000)</td>\n",
       "      <td>Drama</td>\n",
       "    </tr>\n",
       "    <tr>\n",
       "      <th>3880</th>\n",
       "      <td>3950</td>\n",
       "      <td>Tigerland (2000)</td>\n",
       "      <td>Drama</td>\n",
       "    </tr>\n",
       "    <tr>\n",
       "      <th>3881</th>\n",
       "      <td>3951</td>\n",
       "      <td>Two Family House (2000)</td>\n",
       "      <td>Drama</td>\n",
       "    </tr>\n",
       "    <tr>\n",
       "      <th>3882</th>\n",
       "      <td>3952</td>\n",
       "      <td>Contender, The (2000)</td>\n",
       "      <td>Drama|Thriller</td>\n",
       "    </tr>\n",
       "  </tbody>\n",
       "</table>\n",
       "<p>3883 rows × 3 columns</p>\n",
       "</div>"
      ],
      "text/plain": [
       "      movie_id                               title  \\\n",
       "0            1                    Toy Story (1995)   \n",
       "1            2                      Jumanji (1995)   \n",
       "2            3             Grumpier Old Men (1995)   \n",
       "3            4            Waiting to Exhale (1995)   \n",
       "4            5  Father of the Bride Part II (1995)   \n",
       "...        ...                                 ...   \n",
       "3878      3948             Meet the Parents (2000)   \n",
       "3879      3949          Requiem for a Dream (2000)   \n",
       "3880      3950                    Tigerland (2000)   \n",
       "3881      3951             Two Family House (2000)   \n",
       "3882      3952               Contender, The (2000)   \n",
       "\n",
       "                             genre  \n",
       "0      Animation|Children's|Comedy  \n",
       "1     Adventure|Children's|Fantasy  \n",
       "2                   Comedy|Romance  \n",
       "3                     Comedy|Drama  \n",
       "4                           Comedy  \n",
       "...                            ...  \n",
       "3878                        Comedy  \n",
       "3879                         Drama  \n",
       "3880                         Drama  \n",
       "3881                         Drama  \n",
       "3882                Drama|Thriller  \n",
       "\n",
       "[3883 rows x 3 columns]"
      ]
     },
     "execution_count": 5,
     "metadata": {},
     "output_type": "execute_result"
    }
   ],
   "source": [
    "\n",
    "movie_data = pd.io.parsers.read_csv('ml-1m/movies.dat',\n",
    "    names=['movie_id', 'title', 'genre'],\n",
    "    engine='python', delimiter='::')\n",
    "\n",
    "movie_data"
   ]
  },
  {
   "cell_type": "code",
   "execution_count": 6,
   "id": "a1732407",
   "metadata": {},
   "outputs": [
    {
     "data": {
      "text/html": [
       "<div>\n",
       "<style scoped>\n",
       "    .dataframe tbody tr th:only-of-type {\n",
       "        vertical-align: middle;\n",
       "    }\n",
       "\n",
       "    .dataframe tbody tr th {\n",
       "        vertical-align: top;\n",
       "    }\n",
       "\n",
       "    .dataframe thead th {\n",
       "        text-align: right;\n",
       "    }\n",
       "</style>\n",
       "<table border=\"1\" class=\"dataframe\">\n",
       "  <thead>\n",
       "    <tr style=\"text-align: right;\">\n",
       "      <th></th>\n",
       "      <th>user_id</th>\n",
       "      <th>movie_id</th>\n",
       "      <th>rating</th>\n",
       "      <th>time</th>\n",
       "    </tr>\n",
       "  </thead>\n",
       "  <tbody>\n",
       "    <tr>\n",
       "      <th>0</th>\n",
       "      <td>1</td>\n",
       "      <td>1193</td>\n",
       "      <td>5</td>\n",
       "      <td>978300760</td>\n",
       "    </tr>\n",
       "    <tr>\n",
       "      <th>1</th>\n",
       "      <td>1</td>\n",
       "      <td>661</td>\n",
       "      <td>3</td>\n",
       "      <td>978302109</td>\n",
       "    </tr>\n",
       "    <tr>\n",
       "      <th>2</th>\n",
       "      <td>1</td>\n",
       "      <td>914</td>\n",
       "      <td>3</td>\n",
       "      <td>978301968</td>\n",
       "    </tr>\n",
       "    <tr>\n",
       "      <th>3</th>\n",
       "      <td>1</td>\n",
       "      <td>3408</td>\n",
       "      <td>4</td>\n",
       "      <td>978300275</td>\n",
       "    </tr>\n",
       "    <tr>\n",
       "      <th>4</th>\n",
       "      <td>1</td>\n",
       "      <td>2355</td>\n",
       "      <td>5</td>\n",
       "      <td>978824291</td>\n",
       "    </tr>\n",
       "    <tr>\n",
       "      <th>...</th>\n",
       "      <td>...</td>\n",
       "      <td>...</td>\n",
       "      <td>...</td>\n",
       "      <td>...</td>\n",
       "    </tr>\n",
       "    <tr>\n",
       "      <th>1000204</th>\n",
       "      <td>6040</td>\n",
       "      <td>1091</td>\n",
       "      <td>1</td>\n",
       "      <td>956716541</td>\n",
       "    </tr>\n",
       "    <tr>\n",
       "      <th>1000205</th>\n",
       "      <td>6040</td>\n",
       "      <td>1094</td>\n",
       "      <td>5</td>\n",
       "      <td>956704887</td>\n",
       "    </tr>\n",
       "    <tr>\n",
       "      <th>1000206</th>\n",
       "      <td>6040</td>\n",
       "      <td>562</td>\n",
       "      <td>5</td>\n",
       "      <td>956704746</td>\n",
       "    </tr>\n",
       "    <tr>\n",
       "      <th>1000207</th>\n",
       "      <td>6040</td>\n",
       "      <td>1096</td>\n",
       "      <td>4</td>\n",
       "      <td>956715648</td>\n",
       "    </tr>\n",
       "    <tr>\n",
       "      <th>1000208</th>\n",
       "      <td>6040</td>\n",
       "      <td>1097</td>\n",
       "      <td>4</td>\n",
       "      <td>956715569</td>\n",
       "    </tr>\n",
       "  </tbody>\n",
       "</table>\n",
       "<p>1000209 rows × 4 columns</p>\n",
       "</div>"
      ],
      "text/plain": [
       "         user_id  movie_id  rating       time\n",
       "0              1      1193       5  978300760\n",
       "1              1       661       3  978302109\n",
       "2              1       914       3  978301968\n",
       "3              1      3408       4  978300275\n",
       "4              1      2355       5  978824291\n",
       "...          ...       ...     ...        ...\n",
       "1000204     6040      1091       1  956716541\n",
       "1000205     6040      1094       5  956704887\n",
       "1000206     6040       562       5  956704746\n",
       "1000207     6040      1096       4  956715648\n",
       "1000208     6040      1097       4  956715569\n",
       "\n",
       "[1000209 rows x 4 columns]"
      ]
     },
     "execution_count": 6,
     "metadata": {},
     "output_type": "execute_result"
    }
   ],
   "source": [
    "data = pd.io.parsers.read_csv('ml-1m/ratings.dat', \n",
    "    names=['user_id', 'movie_id', 'rating', 'time'],\n",
    "    engine='python', delimiter='::')\n",
    "\n",
    "data"
   ]
  },
  {
   "cell_type": "markdown",
   "id": "a314c02b",
   "metadata": {},
   "source": [
    "### Generate Train and test data"
   ]
  },
  {
   "cell_type": "code",
   "execution_count": 7,
   "id": "42e8bbf0",
   "metadata": {},
   "outputs": [],
   "source": [
    "train_df, val_df = train_test_split(data, test_size=0.2, random_state=42)\n"
   ]
  },
  {
   "cell_type": "code",
   "execution_count": 8,
   "id": "7713dc6f",
   "metadata": {},
   "outputs": [
    {
     "data": {
      "text/html": [
       "<div>\n",
       "<style scoped>\n",
       "    .dataframe tbody tr th:only-of-type {\n",
       "        vertical-align: middle;\n",
       "    }\n",
       "\n",
       "    .dataframe tbody tr th {\n",
       "        vertical-align: top;\n",
       "    }\n",
       "\n",
       "    .dataframe thead th {\n",
       "        text-align: right;\n",
       "    }\n",
       "</style>\n",
       "<table border=\"1\" class=\"dataframe\">\n",
       "  <thead>\n",
       "    <tr style=\"text-align: right;\">\n",
       "      <th></th>\n",
       "      <th>user_id</th>\n",
       "      <th>movie_id</th>\n",
       "      <th>rating</th>\n",
       "      <th>time</th>\n",
       "    </tr>\n",
       "  </thead>\n",
       "  <tbody>\n",
       "    <tr>\n",
       "      <th>416292</th>\n",
       "      <td>2507</td>\n",
       "      <td>3035</td>\n",
       "      <td>2</td>\n",
       "      <td>974076680</td>\n",
       "    </tr>\n",
       "    <tr>\n",
       "      <th>683230</th>\n",
       "      <td>4087</td>\n",
       "      <td>2840</td>\n",
       "      <td>4</td>\n",
       "      <td>965431652</td>\n",
       "    </tr>\n",
       "    <tr>\n",
       "      <th>2434</th>\n",
       "      <td>19</td>\n",
       "      <td>457</td>\n",
       "      <td>3</td>\n",
       "      <td>978146863</td>\n",
       "    </tr>\n",
       "    <tr>\n",
       "      <th>688533</th>\n",
       "      <td>4118</td>\n",
       "      <td>2804</td>\n",
       "      <td>4</td>\n",
       "      <td>965804599</td>\n",
       "    </tr>\n",
       "    <tr>\n",
       "      <th>472584</th>\n",
       "      <td>2907</td>\n",
       "      <td>805</td>\n",
       "      <td>4</td>\n",
       "      <td>971838472</td>\n",
       "    </tr>\n",
       "  </tbody>\n",
       "</table>\n",
       "</div>"
      ],
      "text/plain": [
       "        user_id  movie_id  rating       time\n",
       "416292     2507      3035       2  974076680\n",
       "683230     4087      2840       4  965431652\n",
       "2434         19       457       3  978146863\n",
       "688533     4118      2804       4  965804599\n",
       "472584     2907       805       4  971838472"
      ]
     },
     "execution_count": 8,
     "metadata": {},
     "output_type": "execute_result"
    }
   ],
   "source": [
    "train_df.head(5)"
   ]
  },
  {
   "cell_type": "code",
   "execution_count": 9,
   "id": "678e14cd",
   "metadata": {},
   "outputs": [
    {
     "data": {
      "text/html": [
       "<div>\n",
       "<style scoped>\n",
       "    .dataframe tbody tr th:only-of-type {\n",
       "        vertical-align: middle;\n",
       "    }\n",
       "\n",
       "    .dataframe tbody tr th {\n",
       "        vertical-align: top;\n",
       "    }\n",
       "\n",
       "    .dataframe thead th {\n",
       "        text-align: right;\n",
       "    }\n",
       "</style>\n",
       "<table border=\"1\" class=\"dataframe\">\n",
       "  <thead>\n",
       "    <tr style=\"text-align: right;\">\n",
       "      <th></th>\n",
       "      <th>user_id</th>\n",
       "      <th>movie_id</th>\n",
       "      <th>rating</th>\n",
       "      <th>time</th>\n",
       "    </tr>\n",
       "  </thead>\n",
       "  <tbody>\n",
       "    <tr>\n",
       "      <th>895536</th>\n",
       "      <td>5412</td>\n",
       "      <td>2683</td>\n",
       "      <td>2</td>\n",
       "      <td>960243649</td>\n",
       "    </tr>\n",
       "    <tr>\n",
       "      <th>899739</th>\n",
       "      <td>5440</td>\n",
       "      <td>904</td>\n",
       "      <td>5</td>\n",
       "      <td>959995181</td>\n",
       "    </tr>\n",
       "    <tr>\n",
       "      <th>55687</th>\n",
       "      <td>368</td>\n",
       "      <td>3717</td>\n",
       "      <td>4</td>\n",
       "      <td>976311423</td>\n",
       "    </tr>\n",
       "    <tr>\n",
       "      <th>63727</th>\n",
       "      <td>425</td>\n",
       "      <td>1721</td>\n",
       "      <td>4</td>\n",
       "      <td>976283587</td>\n",
       "    </tr>\n",
       "    <tr>\n",
       "      <th>822011</th>\n",
       "      <td>4942</td>\n",
       "      <td>3697</td>\n",
       "      <td>1</td>\n",
       "      <td>962642480</td>\n",
       "    </tr>\n",
       "  </tbody>\n",
       "</table>\n",
       "</div>"
      ],
      "text/plain": [
       "        user_id  movie_id  rating       time\n",
       "895536     5412      2683       2  960243649\n",
       "899739     5440       904       5  959995181\n",
       "55687       368      3717       4  976311423\n",
       "63727       425      1721       4  976283587\n",
       "822011     4942      3697       1  962642480"
      ]
     },
     "execution_count": 9,
     "metadata": {},
     "output_type": "execute_result"
    }
   ],
   "source": [
    "val_df.head(5)"
   ]
  },
  {
   "cell_type": "code",
   "execution_count": 10,
   "id": "99d4144f",
   "metadata": {},
   "outputs": [],
   "source": [
    "movie_ids = list(set(list(train_df.movie_id.unique())+ list(val_df.movie_id.unique())))\n",
    "user_ids = list(set(list(train_df.user_id.unique()) + list(val_df.user_id.unique())))"
   ]
  },
  {
   "cell_type": "code",
   "execution_count": 11,
   "id": "79853b46",
   "metadata": {},
   "outputs": [],
   "source": [
    "dict_movies = {}\n",
    "index = 0\n",
    "for ids in sorted(movie_ids):\n",
    "    dict_movies[ids] = index\n",
    "    index += 1"
   ]
  },
  {
   "cell_type": "code",
   "execution_count": 12,
   "id": "99c48a0c",
   "metadata": {},
   "outputs": [],
   "source": [
    "dict_users = {}\n",
    "index = 0\n",
    "for ids in sorted(user_ids):\n",
    "    dict_users[ids] = index\n",
    "    index += 1"
   ]
  },
  {
   "cell_type": "code",
   "execution_count": 13,
   "id": "f16f173b",
   "metadata": {},
   "outputs": [],
   "source": [
    "train_df[\"movie_id\"] = train_df[\"movie_id\"].map(dict_movies)\n",
    "train_df[\"user_id\"] = train_df[\"user_id\"].map(dict_users)"
   ]
  },
  {
   "cell_type": "code",
   "execution_count": 14,
   "id": "079f38c4",
   "metadata": {},
   "outputs": [],
   "source": [
    "val_df[\"movie_id\"] = val_df[\"movie_id\"].map(dict_movies)\n",
    "val_df[\"user_id\"] = val_df[\"user_id\"].map(dict_users)"
   ]
  },
  {
   "cell_type": "code",
   "execution_count": 15,
   "id": "1c742331",
   "metadata": {},
   "outputs": [],
   "source": [
    "for col in [\"user_id\", \"movie_id\", \"rating\"]:\n",
    "    train_df[col] = train_df[col].astype(np.float32)\n",
    "    val_df[col] = val_df[col].astype(np.float32)"
   ]
  },
  {
   "cell_type": "code",
   "execution_count": 16,
   "id": "2ec78d65",
   "metadata": {},
   "outputs": [],
   "source": [
    "num_unique_users=len(set(list(train_df.user_id.unique()) + list(val_df.user_id.unique())))\n",
    "num_unique_movies=len(set(list(train_df.movie_id.unique()) + list(val_df.movie_id.unique())))"
   ]
  },
  {
   "cell_type": "markdown",
   "id": "815040b2",
   "metadata": {},
   "source": [
    "### Colaborative filtering "
   ]
  },
  {
   "cell_type": "code",
   "execution_count": 17,
   "id": "18acf960",
   "metadata": {},
   "outputs": [],
   "source": [
    "import tensorflow as tf\n",
    "from tensorflow.keras import Model\n",
    "from tensorflow.keras import optimizers as opt\n",
    "from tensorflow.keras import regularizers as rgl\n",
    "from tensorflow.keras.layers import Embedding, multiply, concatenate, Flatten, Input, Dense, Dropout"
   ]
  },
  {
   "cell_type": "code",
   "execution_count": 18,
   "id": "7ffb97a5",
   "metadata": {},
   "outputs": [],
   "source": [
    "dropout_rate=0.05\n",
    "dense_1=256\n",
    "dense_2=128\n",
    "dense_3=64\n",
    "\n",
    "activation_func=\"sigmoid\"\n",
    "regularizer=rgl.l2(0.00001)#l2 regularization\n",
    "max_rating=5\n",
    "min_rating=0"
   ]
  },
  {
   "cell_type": "code",
   "execution_count": 19,
   "id": "e7d0515e",
   "metadata": {},
   "outputs": [],
   "source": [
    "EMBEDDING_SIZE=64\n",
    "users_input = Input(shape=(1,), name=\"user_input\")\n",
    "users_embedding = Embedding(num_unique_users + 1, EMBEDDING_SIZE, embeddings_regularizer=regularizer, name=\"user_embeddings\")(users_input)\n",
    "users_bias = Embedding(num_unique_users + 1, 1, embeddings_regularizer=regularizer, name=\"user_bias\")(users_input)\n",
    "\n",
    "movies_input = Input(shape=(1,), name=\"movie_input\")\n",
    "movies_embedding = Embedding(num_unique_movies + 1, EMBEDDING_SIZE, embeddings_regularizer=regularizer, name=\"movie_embedding\")(movies_input)\n",
    "movies_bias = Embedding(num_unique_movies + 1, 1, embeddings_regularizer=regularizer, name=\"movie_bias\")(movies_input)\n",
    "\n",
    "dot_product_users_movies = multiply([users_embedding, movies_embedding])\n",
    "\n",
    "input_terms = concatenate([dot_product_users_movies, users_bias, movies_bias])\n",
    "\n",
    "input_terms = Flatten(name=\"fl_inputs\")(input_terms)\n",
    "\n",
    "output = Dense(dense_1, activation=activation_func, name=\"dense_0\")(input_terms)\n",
    "\n",
    "output = Dropout(dropout_rate)(output)\n",
    "\n",
    "output = Dense(dense_2, activation=activation_func, name=\"dense_1\")(output)\n",
    "\n",
    "output = Dropout(dropout_rate)(output)\n",
    "\n",
    "output = Dense(dense_3, activation=activation_func, name=\"dense_2\")(output)\n",
    "\n",
    "output = Dropout(dropout_rate)(output)\n",
    "\n",
    "output = Dense(1, activation=\"sigmoid\", name=\"output\")(output) * (max_rating - min_rating) + min_rating"
   ]
  },
  {
   "cell_type": "code",
   "execution_count": 20,
   "id": "968ea6d6",
   "metadata": {},
   "outputs": [],
   "source": [
    "model = Model(inputs=[users_input, movies_input], outputs=output)"
   ]
  },
  {
   "cell_type": "code",
   "execution_count": 21,
   "id": "02949c4a",
   "metadata": {},
   "outputs": [],
   "source": [
    "opt_adam = opt.Adam(lr = 0.001)\n",
    "model.compile(optimizer=opt_adam, loss= ['mse'], metrics=['mean_absolute_error'])"
   ]
  },
  {
   "cell_type": "code",
   "execution_count": 22,
   "id": "87ba897d",
   "metadata": {
    "scrolled": true
   },
   "outputs": [
    {
     "name": "stdout",
     "output_type": "stream",
     "text": [
      "Epoch 1/3\n",
      "1563/1563 [==============================] - 18s 11ms/step - loss: 0.9608 - mean_absolute_error: 0.7840 - val_loss: 0.8439 - val_mean_absolute_error: 0.7327\n",
      "Epoch 2/3\n",
      "1563/1563 [==============================] - 17s 11ms/step - loss: 0.8310 - mean_absolute_error: 0.7218 - val_loss: 0.8307 - val_mean_absolute_error: 0.7220\n",
      "Epoch 3/3\n",
      "1563/1563 [==============================] - 17s 11ms/step - loss: 0.8217 - mean_absolute_error: 0.7176 - val_loss: 0.8296 - val_mean_absolute_error: 0.7220\n"
     ]
    },
    {
     "data": {
      "text/plain": [
       "<keras.callbacks.History at 0x280432cf6d8>"
      ]
     },
     "execution_count": 22,
     "metadata": {},
     "output_type": "execute_result"
    }
   ],
   "source": [
    "model.fit(x=[train_df.user_id, train_df.movie_id], y=train_df.rating,validation_data=([val_df.user_id, val_df.movie_id], val_df.rating), batch_size=512, epochs=3, verbose=1 )"
   ]
  },
  {
   "cell_type": "code",
   "execution_count": 23,
   "id": "03791a88",
   "metadata": {},
   "outputs": [
    {
     "data": {
      "text/plain": [
       "array([[3.5914702],\n",
       "       [4.665625 ],\n",
       "       [3.4766152],\n",
       "       ...,\n",
       "       [3.7966003],\n",
       "       [3.7859251],\n",
       "       [4.403532 ]], dtype=float32)"
      ]
     },
     "execution_count": 23,
     "metadata": {},
     "output_type": "execute_result"
    }
   ],
   "source": [
    "model.predict([val_df.user_id, val_df.movie_id])"
   ]
  },
  {
   "cell_type": "code",
   "execution_count": 24,
   "id": "02729316",
   "metadata": {},
   "outputs": [
    {
     "name": "stdout",
     "output_type": "stream",
     "text": [
      "6252/6252 [==============================] - 10s 2ms/step - loss: 0.8296 - mean_absolute_error: 0.7220\n"
     ]
    },
    {
     "data": {
      "text/plain": [
       "[0.8295639157295227, 0.7220215201377869]"
      ]
     },
     "execution_count": 24,
     "metadata": {},
     "output_type": "execute_result"
    }
   ],
   "source": [
    "model.evaluate([val_df.user_id, val_df.movie_id], val_df.rating)"
   ]
  },
  {
   "cell_type": "code",
   "execution_count": 40,
   "id": "4a9074e3",
   "metadata": {},
   "outputs": [
    {
     "data": {
      "text/plain": [
       "array([[3.5914702],\n",
       "       [4.665625 ],\n",
       "       [3.4766152],\n",
       "       [3.3732233],\n",
       "       [2.8491461],\n",
       "       [3.7023697],\n",
       "       [2.4310231],\n",
       "       [2.7757912],\n",
       "       [3.2255325],\n",
       "       [2.7391794]], dtype=float32)"
      ]
     },
     "execution_count": 40,
     "metadata": {},
     "output_type": "execute_result"
    }
   ],
   "source": [
    "model.predict([val_df.user_id[:10], val_df.movie_id[:10]])"
   ]
  },
  {
   "cell_type": "code",
   "execution_count": 42,
   "id": "1eae591b",
   "metadata": {},
   "outputs": [
    {
     "data": {
      "text/plain": [
       "pandas.core.series.Series"
      ]
     },
     "execution_count": 42,
     "metadata": {},
     "output_type": "execute_result"
    }
   ],
   "source": [
    "type(val_df.user_id[:10])"
   ]
  },
  {
   "cell_type": "code",
   "execution_count": 47,
   "id": "e2c34bfd",
   "metadata": {},
   "outputs": [
    {
     "data": {
      "text/plain": [
       "array([[3.8083613]], dtype=float32)"
      ]
     },
     "execution_count": 47,
     "metadata": {},
     "output_type": "execute_result"
    }
   ],
   "source": [
    "model.predict([pd.Series([9.0]), pd.Series([1.0])])"
   ]
  },
  {
   "cell_type": "code",
   "execution_count": 29,
   "id": "27852c1a",
   "metadata": {},
   "outputs": [
    {
     "data": {
      "text/html": [
       "<div>\n",
       "<style scoped>\n",
       "    .dataframe tbody tr th:only-of-type {\n",
       "        vertical-align: middle;\n",
       "    }\n",
       "\n",
       "    .dataframe tbody tr th {\n",
       "        vertical-align: top;\n",
       "    }\n",
       "\n",
       "    .dataframe thead th {\n",
       "        text-align: right;\n",
       "    }\n",
       "</style>\n",
       "<table border=\"1\" class=\"dataframe\">\n",
       "  <thead>\n",
       "    <tr style=\"text-align: right;\">\n",
       "      <th></th>\n",
       "      <th>user_id</th>\n",
       "      <th>movie_id</th>\n",
       "      <th>rating</th>\n",
       "      <th>time</th>\n",
       "    </tr>\n",
       "  </thead>\n",
       "  <tbody>\n",
       "    <tr>\n",
       "      <th>895536</th>\n",
       "      <td>5411.0</td>\n",
       "      <td>2480.0</td>\n",
       "      <td>2.0</td>\n",
       "      <td>960243649</td>\n",
       "    </tr>\n",
       "    <tr>\n",
       "      <th>899739</th>\n",
       "      <td>5439.0</td>\n",
       "      <td>843.0</td>\n",
       "      <td>5.0</td>\n",
       "      <td>959995181</td>\n",
       "    </tr>\n",
       "    <tr>\n",
       "      <th>55687</th>\n",
       "      <td>367.0</td>\n",
       "      <td>3475.0</td>\n",
       "      <td>4.0</td>\n",
       "      <td>976311423</td>\n",
       "    </tr>\n",
       "    <tr>\n",
       "      <th>63727</th>\n",
       "      <td>424.0</td>\n",
       "      <td>1574.0</td>\n",
       "      <td>4.0</td>\n",
       "      <td>976283587</td>\n",
       "    </tr>\n",
       "    <tr>\n",
       "      <th>822011</th>\n",
       "      <td>4941.0</td>\n",
       "      <td>3455.0</td>\n",
       "      <td>1.0</td>\n",
       "      <td>962642480</td>\n",
       "    </tr>\n",
       "    <tr>\n",
       "      <th>...</th>\n",
       "      <td>...</td>\n",
       "      <td>...</td>\n",
       "      <td>...</td>\n",
       "      <td>...</td>\n",
       "    </tr>\n",
       "    <tr>\n",
       "      <th>756007</th>\n",
       "      <td>4504.0</td>\n",
       "      <td>1297.0</td>\n",
       "      <td>4.0</td>\n",
       "      <td>964985875</td>\n",
       "    </tr>\n",
       "    <tr>\n",
       "      <th>477775</th>\n",
       "      <td>2933.0</td>\n",
       "      <td>691.0</td>\n",
       "      <td>1.0</td>\n",
       "      <td>971493127</td>\n",
       "    </tr>\n",
       "    <tr>\n",
       "      <th>424188</th>\n",
       "      <td>2571.0</td>\n",
       "      <td>907.0</td>\n",
       "      <td>5.0</td>\n",
       "      <td>973913032</td>\n",
       "    </tr>\n",
       "    <tr>\n",
       "      <th>293600</th>\n",
       "      <td>1747.0</td>\n",
       "      <td>1492.0</td>\n",
       "      <td>3.0</td>\n",
       "      <td>974711260</td>\n",
       "    </tr>\n",
       "    <tr>\n",
       "      <th>149989</th>\n",
       "      <td>964.0</td>\n",
       "      <td>1142.0</td>\n",
       "      <td>4.0</td>\n",
       "      <td>975118403</td>\n",
       "    </tr>\n",
       "  </tbody>\n",
       "</table>\n",
       "<p>200042 rows × 4 columns</p>\n",
       "</div>"
      ],
      "text/plain": [
       "        user_id  movie_id  rating       time\n",
       "895536   5411.0    2480.0     2.0  960243649\n",
       "899739   5439.0     843.0     5.0  959995181\n",
       "55687     367.0    3475.0     4.0  976311423\n",
       "63727     424.0    1574.0     4.0  976283587\n",
       "822011   4941.0    3455.0     1.0  962642480\n",
       "...         ...       ...     ...        ...\n",
       "756007   4504.0    1297.0     4.0  964985875\n",
       "477775   2933.0     691.0     1.0  971493127\n",
       "424188   2571.0     907.0     5.0  973913032\n",
       "293600   1747.0    1492.0     3.0  974711260\n",
       "149989    964.0    1142.0     4.0  975118403\n",
       "\n",
       "[200042 rows x 4 columns]"
      ]
     },
     "execution_count": 29,
     "metadata": {},
     "output_type": "execute_result"
    }
   ],
   "source": [
    "val_df"
   ]
  },
  {
   "cell_type": "code",
   "execution_count": null,
   "id": "64292b49",
   "metadata": {},
   "outputs": [],
   "source": []
  }
 ],
 "metadata": {
  "colab": {
   "collapsed_sections": [
    "4CKd-BTBerZe",
    "bcc719a6",
    "vPDbJdqwe3Dt",
    "xweL0HVsfIkl",
    "65dcc7bb",
    "e5d31b40",
    "DdOlLk9JfbIN",
    "71540fd1",
    "b2a1f7ba",
    "d0a2f416",
    "19636400"
   ],
   "name": "tmdb-movie-metadata.ipynb",
   "provenance": []
  },
  "kernelspec": {
   "display_name": "Python 3",
   "language": "python",
   "name": "python3"
  },
  "language_info": {
   "codemirror_mode": {
    "name": "ipython",
    "version": 3
   },
   "file_extension": ".py",
   "mimetype": "text/x-python",
   "name": "python",
   "nbconvert_exporter": "python",
   "pygments_lexer": "ipython3",
   "version": "3.6.5"
  }
 },
 "nbformat": 4,
 "nbformat_minor": 5
}

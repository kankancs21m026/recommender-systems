{
 "cells": [
  {
   "cell_type": "code",
   "execution_count": 417,
   "id": "b0661b93",
   "metadata": {},
   "outputs": [],
   "source": [
    "from datetime import datetime\n",
    "import os\n",
    "import matplotlib\n",
    "import pandas as pd\n",
    "import numpy as np\n",
    "import matplotlib.pyplot as plt\n",
    "import seaborn as sns\n",
    "sns.set_style('whitegrid')\n",
    "\n",
    "from scipy import sparse\n",
    "from scipy.sparse import csc_matrix\n",
    "from sklearn.decomposition import TruncatedSVD\n"
   ]
  },
  {
   "cell_type": "markdown",
   "id": "f83d6673",
   "metadata": {},
   "source": [
    "## Load Dataset\n",
    "### Spotify   Dataset\n",
    "\n",
    "Description of dataset https://www.kaggle.com/datasets/zaheenhamidani/ultimate-spotify-tracks-db"
   ]
  },
  {
   "cell_type": "code",
   "execution_count": 418,
   "id": "3324f849",
   "metadata": {},
   "outputs": [],
   "source": [
    "df = pd.read_csv(\"SpotifyFeatures.csv\")\n"
   ]
  },
  {
   "cell_type": "code",
   "execution_count": 419,
   "id": "c4651679",
   "metadata": {},
   "outputs": [
    {
     "data": {
      "text/html": [
       "<div>\n",
       "<style scoped>\n",
       "    .dataframe tbody tr th:only-of-type {\n",
       "        vertical-align: middle;\n",
       "    }\n",
       "\n",
       "    .dataframe tbody tr th {\n",
       "        vertical-align: top;\n",
       "    }\n",
       "\n",
       "    .dataframe thead th {\n",
       "        text-align: right;\n",
       "    }\n",
       "</style>\n",
       "<table border=\"1\" class=\"dataframe\">\n",
       "  <thead>\n",
       "    <tr style=\"text-align: right;\">\n",
       "      <th></th>\n",
       "      <th>genre</th>\n",
       "      <th>artist_name</th>\n",
       "      <th>track_name</th>\n",
       "      <th>track_id</th>\n",
       "      <th>popularity</th>\n",
       "      <th>acousticness</th>\n",
       "      <th>danceability</th>\n",
       "      <th>duration_ms</th>\n",
       "      <th>energy</th>\n",
       "      <th>instrumentalness</th>\n",
       "      <th>key</th>\n",
       "      <th>liveness</th>\n",
       "      <th>loudness</th>\n",
       "      <th>mode</th>\n",
       "      <th>speechiness</th>\n",
       "      <th>tempo</th>\n",
       "      <th>time_signature</th>\n",
       "      <th>valence</th>\n",
       "    </tr>\n",
       "  </thead>\n",
       "  <tbody>\n",
       "    <tr>\n",
       "      <th>0</th>\n",
       "      <td>Movie</td>\n",
       "      <td>Henri Salvador</td>\n",
       "      <td>C'est beau de faire un Show</td>\n",
       "      <td>0BRjO6ga9RKCKjfDqeFgWV</td>\n",
       "      <td>0</td>\n",
       "      <td>0.611</td>\n",
       "      <td>0.389</td>\n",
       "      <td>99373</td>\n",
       "      <td>0.91</td>\n",
       "      <td>0.0</td>\n",
       "      <td>C#</td>\n",
       "      <td>0.346</td>\n",
       "      <td>-1.828</td>\n",
       "      <td>Major</td>\n",
       "      <td>0.0525</td>\n",
       "      <td>166.969</td>\n",
       "      <td>4/4</td>\n",
       "      <td>0.814</td>\n",
       "    </tr>\n",
       "  </tbody>\n",
       "</table>\n",
       "</div>"
      ],
      "text/plain": [
       "   genre     artist_name                   track_name                track_id  \\\n",
       "0  Movie  Henri Salvador  C'est beau de faire un Show  0BRjO6ga9RKCKjfDqeFgWV   \n",
       "\n",
       "   popularity  acousticness  danceability  duration_ms  energy  \\\n",
       "0           0         0.611         0.389        99373    0.91   \n",
       "\n",
       "   instrumentalness key  liveness  loudness   mode  speechiness    tempo  \\\n",
       "0               0.0  C#     0.346    -1.828  Major       0.0525  166.969   \n",
       "\n",
       "  time_signature  valence  \n",
       "0            4/4    0.814  "
      ]
     },
     "execution_count": 419,
     "metadata": {},
     "output_type": "execute_result"
    }
   ],
   "source": [
    "df.head(1)"
   ]
  },
  {
   "cell_type": "markdown",
   "id": "28338f55",
   "metadata": {},
   "source": [
    "## We are going to check for all the analysis with the target as 'popularity'"
   ]
  },
  {
   "cell_type": "code",
   "execution_count": 420,
   "id": "7936a371",
   "metadata": {},
   "outputs": [
    {
     "data": {
      "image/png": "[encoded data removed]",
      "text/plain": [
       "<Figure size 360x360 with 1 Axes>"
      ]
     },
     "metadata": {},
     "output_type": "display_data"
    },
    {
     "data": {
      "text/plain": [
       "<AxesSubplot:title={'center':'Features correlation with dependent variable'}, xlabel='Pearson Correlation'>"
      ]
     },
     "execution_count": 420,
     "metadata": {},
     "output_type": "execute_result"
    }
   ],
   "source": [
    "from yellowbrick.target import FeatureCorrelation\n",
    "\n",
    "feature_names = ['acousticness', 'danceability', 'energy', 'instrumentalness',\n",
    "       'liveness', 'loudness', 'speechiness', 'tempo', 'valence','duration_ms']\n",
    "\n",
    "X, y = df[feature_names], df['popularity']\n",
    "\n",
    "# Create a list of the feature names\n",
    "features = np.array(feature_names)\n",
    "\n",
    "# Instantiate the visualizer\n",
    "visualizer = FeatureCorrelation(labels=features)\n",
    "\n",
    "plt.rcParams['figure.figsize']=(5,5)\n",
    "visualizer.fit(X, y)     # Fit the data to the visualizer\n",
    "visualizer.show()"
   ]
  },
  {
   "cell_type": "code",
   "execution_count": 421,
   "id": "fc8d39e6",
   "metadata": {},
   "outputs": [
    {
     "name": "stdout",
     "output_type": "stream",
     "text": [
      "<class 'pandas.core.frame.DataFrame'>\n",
      "RangeIndex: 232725 entries, 0 to 232724\n",
      "Data columns (total 18 columns):\n",
      " #   Column            Non-Null Count   Dtype  \n",
      "---  ------            --------------   -----  \n",
      " 0   genre             232725 non-null  object \n",
      " 1   artist_name       232725 non-null  object \n",
      " 2   track_name        232725 non-null  object \n",
      " 3   track_id          232725 non-null  object \n",
      " 4   popularity        232725 non-null  int64  \n",
      " 5   acousticness      232725 non-null  float64\n",
      " 6   danceability      232725 non-null  float64\n",
      " 7   duration_ms       232725 non-null  int64  \n",
      " 8   energy            232725 non-null  float64\n",
      " 9   instrumentalness  232725 non-null  float64\n",
      " 10  key               232725 non-null  object \n",
      " 11  liveness          232725 non-null  float64\n",
      " 12  loudness          232725 non-null  float64\n",
      " 13  mode              232725 non-null  object \n",
      " 14  speechiness       232725 non-null  float64\n",
      " 15  tempo             232725 non-null  float64\n",
      " 16  time_signature    232725 non-null  object \n",
      " 17  valence           232725 non-null  float64\n",
      "dtypes: float64(9), int64(2), object(7)\n",
      "memory usage: 32.0+ MB\n"
     ]
    }
   ],
   "source": [
    "df.info()"
   ]
  },
  {
   "cell_type": "markdown",
   "id": "7d351627",
   "metadata": {},
   "source": [
    "### Observations:\n",
    "- Popularity column could be used to filter out few data. \n",
    "- Genre columns seems to one important column for giving recommendation\n",
    "- atrist_name could be useful as many user choose to listen songs of there favourite artists.\n",
    "- we have multiple columns which contain continuous values "
   ]
  },
  {
   "cell_type": "markdown",
   "id": "f30dfb86",
   "metadata": {},
   "source": [
    "### First remove rows based on popularity information"
   ]
  },
  {
   "cell_type": "code",
   "execution_count": null,
   "id": "2bcf926a",
   "metadata": {},
   "outputs": [],
   "source": [
    "\n",
    "import scipy.stats as st\n",
    "\n",
    "data = df.loc[:, 'popularity'].values\n",
    "\n",
    "sns.displot(data=data)\n",
    "\n",
    "\n",
    "fig = plt.figure()\n",
    "ax = fig.add_axes([0,0,1,1])\n",
    "\n",
    "\n",
    "ax.hist(\n",
    "    data,\n",
    "    alpha=0.1,\n",
    "    bins=100,\n",
    "    density=True\n",
    ")\n",
    "\n",
    "ax.axvline(x=50)\n",
    "plt.xlabel('popularity')\n",
    "plt.title('popularity distribution')\n",
    "plt.show()\n",
    "\n",
    "fig = plt.figure()\n",
    "ax = fig.add_axes([0,0,1,1])\n",
    "\n",
    "ax.hist(\n",
    "    data,\n",
    "    alpha=0.1,\n",
    "    bins=100,\n",
    "    density=True,\n",
    "    cumulative=True\n",
    ")\n",
    "ax.axvline(x=50)\n",
    "\n",
    "plt.xlabel('popularity')\n",
    "plt.title('cumulative popularity distribution')\n",
    "plt.show()"
   ]
  },
  {
   "cell_type": "code",
   "execution_count": null,
   "id": "091ead89",
   "metadata": {},
   "outputs": [],
   "source": [
    "df= df.query('popularity >= 50')\n",
    "song_df=df\n",
    "df.head(1)"
   ]
  },
  {
   "cell_type": "markdown",
   "id": "6a653e17",
   "metadata": {},
   "source": [
    "### Analysing all columns with continuous values"
   ]
  },
  {
   "cell_type": "code",
   "execution_count": null,
   "id": "a8770c26",
   "metadata": {},
   "outputs": [],
   "source": [
    "grouped_df = df.sort_values('popularity', ascending=[False]).groupby(\"genre\").head(100)\n",
    "grouped_df=grouped_df.groupby(\"genre\")\n",
    "grouped_df = grouped_df[['acousticness','danceability','duration_ms','energy',\\\n",
    "    'instrumentalness','liveness','loudness','speechiness','tempo','valence']] .median()\n",
    "grouped_df.head(1)"
   ]
  },
  {
   "cell_type": "markdown",
   "id": "d497b472",
   "metadata": {},
   "source": [
    "### For all information we have from avove we can start applying machine learning algorithms for following:\n",
    "- Try to find similar songs using continuous features.We can apply K-Means ,cosine similarities for this\n",
    "- Find similar artists.This is helpful to recommend users.\n",
    "- best songs from particulr genre."
   ]
  },
  {
   "cell_type": "code",
   "execution_count": null,
   "id": "ae446753",
   "metadata": {},
   "outputs": [],
   "source": [
    "from sklearn.preprocessing import StandardScaler\n",
    "scaler = StandardScaler()\n"
   ]
  },
  {
   "cell_type": "code",
   "execution_count": null,
   "id": "8a963454",
   "metadata": {},
   "outputs": [],
   "source": [
    "df[['acousticness','danceability','duration_ms','energy',\\\n",
    "    'instrumentalness','liveness','loudness','speechiness','tempo','valence']] =\\\n",
    "scaler.fit_transform(df[['acousticness','danceability','duration_ms','energy',\\\n",
    "    'instrumentalness','liveness','loudness','speechiness','tempo','valence']])\n",
    "\n"
   ]
  },
  {
   "cell_type": "code",
   "execution_count": null,
   "id": "c5b1f536",
   "metadata": {},
   "outputs": [],
   "source": [
    "songs_df=df\n",
    "songs_df.head(1)"
   ]
  },
  {
   "cell_type": "code",
   "execution_count": null,
   "id": "3d217748",
   "metadata": {},
   "outputs": [],
   "source": [
    "df_tmp=df[['acousticness','danceability','duration_ms','energy',\\\n",
    "    'instrumentalness','liveness','loudness','speechiness','tempo','valence']]\n",
    "df_tmp.head()"
   ]
  },
  {
   "cell_type": "markdown",
   "id": "36c0ccc6",
   "metadata": {},
   "source": [
    "### Find similar songs using continuous features."
   ]
  },
  {
   "cell_type": "markdown",
   "id": "e32d8894",
   "metadata": {},
   "source": [
    "#### Apply K-means\n",
    "- We will use Elbow method to find value of hyperparameter K."
   ]
  },
  {
   "cell_type": "code",
   "execution_count": null,
   "id": "70a77887",
   "metadata": {},
   "outputs": [],
   "source": [
    "\n",
    "from sklearn.cluster import KMeans\n",
    "\n",
    "num_clust = 30\n",
    "\n",
    "wcss = []\n",
    "\n",
    "for i in range(1, num_clust+1):\n",
    "    print(f'processing for k={i}')\n",
    "    kmeans = KMeans(n_clusters = i, init = 'k-means++', random_state = 42)\n",
    "    kmeans.fit(df_tmp)\n",
    "    # inertia method returns wcss for that model\n",
    "    wcss.append(kmeans.inertia_)\n",
    "\n",
    "plt.figure(figsize=(10,5))\n",
    "\n",
    "sns.lineplot(range(1, num_clust+1), wcss,marker='o',color='red')\n",
    "\n",
    "plt.title('The Elbow Method')\n",
    "plt.xlabel('Number of clusters')\n",
    "plt.ylabel('WCSS')\n",
    "plt.show()"
   ]
  },
  {
   "cell_type": "markdown",
   "id": "f17bcd36",
   "metadata": {},
   "source": [
    "#### Select k value as 12"
   ]
  },
  {
   "cell_type": "code",
   "execution_count": null,
   "id": "061dfdf4",
   "metadata": {},
   "outputs": [],
   "source": [
    "num_clust = 20\n",
    "\n",
    "kmeans = KMeans(n_clusters = num_clust, init = 'k-means++', random_state = 42)\n",
    "y_kmeans = kmeans.fit_predict(df_tmp)\n",
    "\n",
    "df_tmp.loc[:, 'cluster'] = y_kmeans\n",
    "\n",
    "fig = plt.figure()\n",
    "ax = fig.add_axes([0,0,1,1])\n",
    "\n",
    "ax.hist(\n",
    "    y_kmeans,\n",
    "    bins=num_clust,\n",
    "    density=True,\n",
    "    alpha=0.8\n",
    ")\n",
    "\n",
    "plt.title('Distribution by cluster')\n",
    "plt.show()"
   ]
  },
  {
   "cell_type": "code",
   "execution_count": null,
   "id": "2eb5d808",
   "metadata": {},
   "outputs": [],
   "source": [
    "df_tmp.head(1)"
   ]
  },
  {
   "cell_type": "code",
   "execution_count": null,
   "id": "af1f41d0",
   "metadata": {},
   "outputs": [],
   "source": [
    "df['cluster']=df_tmp['cluster']"
   ]
  },
  {
   "cell_type": "markdown",
   "id": "f0c317f8",
   "metadata": {},
   "source": [
    "#### Now lets find similarity of a song"
   ]
  },
  {
   "cell_type": "code",
   "execution_count": null,
   "id": "cf8510de",
   "metadata": {},
   "outputs": [],
   "source": [
    "songs_df=df[(df['artist_name']=='Ed Sheeran' )& (df['track_name']=='Perfect')]\n",
    "songs_df=songs_df.head(1)\n",
    "songs_df"
   ]
  },
  {
   "cell_type": "code",
   "execution_count": null,
   "id": "8d1c7e17",
   "metadata": {},
   "outputs": [],
   "source": [
    "cluster_df=df[(df['cluster']==3) & (df['genre']=='Pop')].sort_values('popularity', ascending=[False])"
   ]
  },
  {
   "cell_type": "code",
   "execution_count": null,
   "id": "b1cc84a7",
   "metadata": {},
   "outputs": [],
   "source": [
    "cluster_df.head(1)"
   ]
  },
  {
   "cell_type": "code",
   "execution_count": null,
   "id": "e0dad212",
   "metadata": {},
   "outputs": [],
   "source": [
    "cluster_df[cluster_df['artist_name']=='Ed Sheeran']"
   ]
  },
  {
   "cell_type": "code",
   "execution_count": null,
   "id": "94f51a4d",
   "metadata": {},
   "outputs": [],
   "source": [
    "features_df=cluster_df[['acousticness','danceability','duration_ms','energy','instrumentalness','liveness','loudness','speechiness','tempo','valence']]"
   ]
  },
  {
   "cell_type": "code",
   "execution_count": null,
   "id": "d79c40e0",
   "metadata": {},
   "outputs": [],
   "source": [
    "\n",
    "from sklearn.metrics.pairwise import cosine_similarity\n",
    "\n",
    "similarity = cosine_similarity(features_df)\n"
   ]
  },
  {
   "cell_type": "code",
   "execution_count": null,
   "id": "44ce9750",
   "metadata": {},
   "outputs": [],
   "source": [
    "def recommend(artist,song):\n",
    "    genre=df[(df['artist_name']==artist )& (df['track_name']==song)]['genre']\n",
    "    cluster=df[(df['artist_name']==artist )& (df['track_name']==song)]['cluster']\n",
    "    cluster=cluster.values[0]\n",
    "    genre=genre.values[0]\n",
    "    cluster_df=df[(df['cluster']==cluster) & (df['genre']==genre)].sort_values('popularity', ascending=[False])\n",
    "    cluster_df.reset_index(inplace=True)\n",
    "    cluster_df['index']=np.arange(len(cluster_df))\n",
    "    index  =cluster_df[(cluster_df['artist_name']==artist )& (cluster_df['track_name']==song)]['index']\n",
    "    index=index.values[0]\n",
    "    #index\n",
    "    features_df=cluster_df[['acousticness','danceability','duration_ms','energy','instrumentalness','liveness','loudness','speechiness','tempo','valence']]\n",
    "    similarity = cosine_similarity(features_df)\n",
    "    distance = sorted(list(enumerate(similarity[index])),reverse=True,key = lambda x: x[1])\n",
    "    result=[]\n",
    "    for i in distance[0:10]:\n",
    "        result.append(i[0])\n",
    "    return cluster_df[cluster_df['index'] .isin(result)]\n",
    "    "
   ]
  },
  {
   "cell_type": "code",
   "execution_count": null,
   "id": "2ecef0d7",
   "metadata": {},
   "outputs": [],
   "source": [
    "recommend('Ed Sheeran','Perfect')"
   ]
  },
  {
   "cell_type": "code",
   "execution_count": null,
   "id": "9625c5ae",
   "metadata": {},
   "outputs": [],
   "source": []
  }
 ],
 "metadata": {
  "kernelspec": {
   "display_name": "Python 3",
   "language": "python",
   "name": "python3"
  },
  "language_info": {
   "codemirror_mode": {
    "name": "ipython",
    "version": 3
   },
   "file_extension": ".py",
   "mimetype": "text/x-python",
   "name": "python",
   "nbconvert_exporter": "python",
   "pygments_lexer": "ipython3",
   "version": "3.6.5"
  }
 },
 "nbformat": 4,
 "nbformat_minor": 5
}

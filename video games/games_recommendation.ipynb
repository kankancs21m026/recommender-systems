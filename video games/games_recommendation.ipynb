{
 "cells": [
  {
   "cell_type": "code",
   "execution_count": 1,
   "id": "d73badc2",
   "metadata": {
    "id": "553b4ab0"
   },
   "outputs": [],
   "source": [
    "from datetime import datetime\n",
    "import os\n",
    "import matplotlib\n",
    "import pandas as pd\n",
    "import numpy as np\n",
    "import matplotlib.pyplot as plt\n",
    "import seaborn as sns\n",
    "sns.set_style('whitegrid')\n",
    "\n",
    "from scipy import sparse\n",
    "from scipy.sparse import csc_matrix\n",
    "from sklearn.decomposition import TruncatedSVD\n"
   ]
  },
  {
   "cell_type": "markdown",
   "id": "bf1c0e19",
   "metadata": {},
   "source": [
    "## Analyse Dataset"
   ]
  },
  {
   "cell_type": "markdown",
   "id": "3dcd63cd",
   "metadata": {
    "id": "bcc719a6"
   },
   "source": [
    "\n",
    "### Steam Video Games\n",
    "https://www.kaggle.com/datasets/trolukovich/steam-games-complete-dataset"
   ]
  },
  {
   "cell_type": "code",
   "execution_count": 2,
   "id": "49da29f8",
   "metadata": {
    "id": "2a5baa08",
    "outputId": "6f864487-9593-4736-93fe-d53ac9c8c6aa"
   },
   "outputs": [],
   "source": [
    "import csv\n",
    "\n",
    "file = open('steam_games.csv',encoding=\"utf8\")\n",
    "csvreader = csv.reader(file)"
   ]
  },
  {
   "cell_type": "code",
   "execution_count": 3,
   "id": "e87b2622",
   "metadata": {},
   "outputs": [
    {
     "data": {
      "text/plain": [
       "['url',\n",
       " 'types',\n",
       " 'name',\n",
       " 'desc_snippet',\n",
       " 'recent_reviews',\n",
       " 'all_reviews',\n",
       " 'release_date',\n",
       " 'developer',\n",
       " 'publisher',\n",
       " 'popular_tags',\n",
       " 'game_details',\n",
       " 'languages',\n",
       " 'achievements',\n",
       " 'genre',\n",
       " 'game_description',\n",
       " 'mature_content',\n",
       " 'minimum_requirements',\n",
       " 'recommended_requirements',\n",
       " 'original_price',\n",
       " 'discount_price']"
      ]
     },
     "execution_count": 3,
     "metadata": {},
     "output_type": "execute_result"
    }
   ],
   "source": [
    "header = []\n",
    "header = next(csvreader)\n",
    "header"
   ]
  },
  {
   "cell_type": "code",
   "execution_count": 4,
   "id": "a104c637",
   "metadata": {},
   "outputs": [
    {
     "data": {
      "text/plain": [
       "20"
      ]
     },
     "execution_count": 4,
     "metadata": {},
     "output_type": "execute_result"
    }
   ],
   "source": [
    "len(header)"
   ]
  },
  {
   "cell_type": "code",
   "execution_count": 5,
   "id": "6b902bfd",
   "metadata": {},
   "outputs": [],
   "source": [
    "rows = []\n",
    "for row in csvreader:\n",
    "        rows.append(row)\n"
   ]
  },
  {
   "cell_type": "code",
   "execution_count": 6,
   "id": "d868a009",
   "metadata": {},
   "outputs": [],
   "source": [
    "file.close()"
   ]
  },
  {
   "cell_type": "code",
   "execution_count": 7,
   "id": "c5e50069",
   "metadata": {},
   "outputs": [
    {
     "data": {
      "text/plain": [
       "40833"
      ]
     },
     "execution_count": 7,
     "metadata": {},
     "output_type": "execute_result"
    }
   ],
   "source": [
    "len(rows)\n"
   ]
  },
  {
   "cell_type": "code",
   "execution_count": 8,
   "id": "fddb2b8a",
   "metadata": {},
   "outputs": [],
   "source": [
    "types=[]\n",
    "for i in range(len(rows)):\n",
    "    types.append(rows[i][1])\n",
    "name=[]\n",
    "for i in range(len(rows)):\n",
    "    name.append(rows[i][2])\n",
    "    \n",
    "    \n",
    "developer=[]\n",
    "for i in range(len(rows)):\n",
    "    developer.append(rows[i][7]) \n",
    "    \n",
    "publisher=[]\n",
    "for i in range(len(rows)):\n",
    "    publisher.append(rows[i][8])   \n",
    "    \n",
    "    \n",
    "popular_tags=[]\n",
    "for i in range(len(rows)):\n",
    "    popular_tags.append(rows[i][9])   \n",
    "    \n",
    "game_details=[]\n",
    "for i in range(len(rows)):\n",
    "    game_details.append(rows[i][10])        \n",
    "\n",
    "\n",
    "minimum_requirements=[]\n",
    "for i in range(len(rows)):\n",
    "    minimum_requirements.append(rows[i][16])  \n",
    "    \n",
    "\n",
    "    \n",
    "game_description=[]\n",
    "for i in range(len(rows)):\n",
    "    game_description.append(rows[i][14])  \n",
    "    \n",
    "genre=[]\n",
    "for i in range(len(rows)):\n",
    "    genre.append(rows[i][13])   \n"
   ]
  },
  {
   "cell_type": "code",
   "execution_count": 9,
   "id": "dd180493",
   "metadata": {},
   "outputs": [],
   "source": [
    "df  = pd.DataFrame()"
   ]
  },
  {
   "cell_type": "code",
   "execution_count": 10,
   "id": "7e60c518",
   "metadata": {},
   "outputs": [],
   "source": [
    "df['name']=name\n",
    "df['genre']=genre\n",
    "df['game_description']=game_description\n",
    "df['game_details']=game_details\n",
    "df['minimum_requirements']=minimum_requirements\n",
    "\n",
    "df['popular_tags']=popular_tags\n",
    "df['publisher']=publisher\n",
    "df['developer']=developer\n",
    "df['types']=types"
   ]
  },
  {
   "cell_type": "markdown",
   "id": "19519554",
   "metadata": {},
   "source": [
    "### Create New column to store important tags\n",
    "- Will use this column to find similarity among games"
   ]
  },
  {
   "cell_type": "code",
   "execution_count": 11,
   "id": "2467b025",
   "metadata": {},
   "outputs": [
    {
     "data": {
      "text/plain": [
       "(40833, 9)"
      ]
     },
     "execution_count": 11,
     "metadata": {},
     "output_type": "execute_result"
    }
   ],
   "source": [
    "df.shape"
   ]
  },
  {
   "cell_type": "code",
   "execution_count": 12,
   "id": "39d8c589",
   "metadata": {},
   "outputs": [],
   "source": [
    "#First get all tokens from overview columns\n",
    "df['genre'] = df['genre'].apply(lambda x:x.split())"
   ]
  },
  {
   "cell_type": "code",
   "execution_count": 13,
   "id": "e184c91a",
   "metadata": {},
   "outputs": [],
   "source": [
    "df['game_details'] = df['game_details'].apply(lambda x:x.split())"
   ]
  },
  {
   "cell_type": "code",
   "execution_count": 14,
   "id": "b78c5ba6",
   "metadata": {},
   "outputs": [],
   "source": [
    "df['popular_tags'] = df['popular_tags'].apply(lambda x:x.split())"
   ]
  },
  {
   "cell_type": "code",
   "execution_count": 15,
   "id": "b3d6c94e",
   "metadata": {},
   "outputs": [],
   "source": [
    "df['developer']=df['developer'].replace(' ', '_', regex=True)"
   ]
  },
  {
   "cell_type": "code",
   "execution_count": 16,
   "id": "3bbbd7f4",
   "metadata": {},
   "outputs": [],
   "source": [
    "df['developer']=df['developer'].apply(lambda x:x.split())"
   ]
  },
  {
   "cell_type": "code",
   "execution_count": 17,
   "id": "d6e1980a",
   "metadata": {},
   "outputs": [],
   "source": [
    "\n",
    "df['tag'] = df['game_details'] + df['popular_tags']+df['developer']\n"
   ]
  },
  {
   "cell_type": "code",
   "execution_count": 18,
   "id": "40a8deac",
   "metadata": {},
   "outputs": [],
   "source": [
    "df['tag'] =df['tag'] .apply(lambda x: \" \".join(x))"
   ]
  },
  {
   "cell_type": "markdown",
   "id": "0f39517c",
   "metadata": {},
   "source": [
    "## Final dataset"
   ]
  },
  {
   "cell_type": "code",
   "execution_count": 19,
   "id": "0fc70c29",
   "metadata": {},
   "outputs": [
    {
     "data": {
      "text/html": [
       "<div>\n",
       "<style scoped>\n",
       "    .dataframe tbody tr th:only-of-type {\n",
       "        vertical-align: middle;\n",
       "    }\n",
       "\n",
       "    .dataframe tbody tr th {\n",
       "        vertical-align: top;\n",
       "    }\n",
       "\n",
       "    .dataframe thead th {\n",
       "        text-align: right;\n",
       "    }\n",
       "</style>\n",
       "<table border=\"1\" class=\"dataframe\">\n",
       "  <thead>\n",
       "    <tr style=\"text-align: right;\">\n",
       "      <th></th>\n",
       "      <th>name</th>\n",
       "      <th>genre</th>\n",
       "      <th>game_description</th>\n",
       "      <th>game_details</th>\n",
       "      <th>minimum_requirements</th>\n",
       "      <th>popular_tags</th>\n",
       "      <th>publisher</th>\n",
       "      <th>developer</th>\n",
       "      <th>types</th>\n",
       "      <th>tag</th>\n",
       "    </tr>\n",
       "  </thead>\n",
       "  <tbody>\n",
       "    <tr>\n",
       "      <th>0</th>\n",
       "      <td>DOOM</td>\n",
       "      <td>[Action]</td>\n",
       "      <td>About This Game Developed by id software, the...</td>\n",
       "      <td>[Single-player,Multi-player,Co-op,Steam, Achie...</td>\n",
       "      <td>Minimum:,OS:,Windows 7/8.1/10 (64-bit versions...</td>\n",
       "      <td>[FPS,Gore,Action,Demons,Shooter,First-Person,G...</td>\n",
       "      <td>Bethesda Softworks,Bethesda Softworks</td>\n",
       "      <td>[id_Software]</td>\n",
       "      <td>app</td>\n",
       "      <td>Single-player,Multi-player,Co-op,Steam Achieve...</td>\n",
       "    </tr>\n",
       "    <tr>\n",
       "      <th>1</th>\n",
       "      <td>PLAYERUNKNOWN'S BATTLEGROUNDS</td>\n",
       "      <td>[Action,Adventure,Massively, Multiplayer]</td>\n",
       "      <td>About This Game  PLAYERUNKNOWN'S BATTLEGROUND...</td>\n",
       "      <td>[Multi-player,Online, Multi-Player,Stats]</td>\n",
       "      <td>Minimum:,Requires a 64-bit processor and opera...</td>\n",
       "      <td>[Survival,Shooter,Multiplayer,Battle, Royale,P...</td>\n",
       "      <td>PUBG Corporation,PUBG Corporation</td>\n",
       "      <td>[PUBG_Corporation]</td>\n",
       "      <td>app</td>\n",
       "      <td>Multi-player,Online Multi-Player,Stats Surviva...</td>\n",
       "    </tr>\n",
       "  </tbody>\n",
       "</table>\n",
       "</div>"
      ],
      "text/plain": [
       "                            name                                      genre  \\\n",
       "0                           DOOM                                   [Action]   \n",
       "1  PLAYERUNKNOWN'S BATTLEGROUNDS  [Action,Adventure,Massively, Multiplayer]   \n",
       "\n",
       "                                    game_description  \\\n",
       "0   About This Game Developed by id software, the...   \n",
       "1   About This Game  PLAYERUNKNOWN'S BATTLEGROUND...   \n",
       "\n",
       "                                        game_details  \\\n",
       "0  [Single-player,Multi-player,Co-op,Steam, Achie...   \n",
       "1          [Multi-player,Online, Multi-Player,Stats]   \n",
       "\n",
       "                                minimum_requirements  \\\n",
       "0  Minimum:,OS:,Windows 7/8.1/10 (64-bit versions...   \n",
       "1  Minimum:,Requires a 64-bit processor and opera...   \n",
       "\n",
       "                                        popular_tags  \\\n",
       "0  [FPS,Gore,Action,Demons,Shooter,First-Person,G...   \n",
       "1  [Survival,Shooter,Multiplayer,Battle, Royale,P...   \n",
       "\n",
       "                               publisher           developer types  \\\n",
       "0  Bethesda Softworks,Bethesda Softworks       [id_Software]   app   \n",
       "1      PUBG Corporation,PUBG Corporation  [PUBG_Corporation]   app   \n",
       "\n",
       "                                                 tag  \n",
       "0  Single-player,Multi-player,Co-op,Steam Achieve...  \n",
       "1  Multi-player,Online Multi-Player,Stats Surviva...  "
      ]
     },
     "execution_count": 19,
     "metadata": {},
     "output_type": "execute_result"
    }
   ],
   "source": [
    "df.head(2)"
   ]
  },
  {
   "cell_type": "markdown",
   "id": "a769ac14",
   "metadata": {},
   "source": [
    "### Contant based Filtering"
   ]
  },
  {
   "cell_type": "code",
   "execution_count": 20,
   "id": "b529150b",
   "metadata": {},
   "outputs": [],
   "source": [
    "from sklearn.feature_extraction.text import CountVectorizer\n",
    "cv = CountVectorizer(max_features=5000,stop_words='english')\n",
    "vector = cv.fit_transform(df['tag']).toarray()\n"
   ]
  },
  {
   "cell_type": "code",
   "execution_count": 21,
   "id": "4735b63d",
   "metadata": {},
   "outputs": [],
   "source": [
    "from sklearn.metrics.pairwise import cosine_similarity\n",
    "cosine_similarity = cosine_similarity(vector)"
   ]
  },
  {
   "cell_type": "markdown",
   "id": "57e6c77e",
   "metadata": {},
   "source": [
    "### Recommendations"
   ]
  },
  {
   "cell_type": "code",
   "execution_count": 22,
   "id": "a68c5979",
   "metadata": {},
   "outputs": [
    {
     "data": {
      "text/plain": [
       "0"
      ]
     },
     "execution_count": 22,
     "metadata": {},
     "output_type": "execute_result"
    }
   ],
   "source": [
    "df[df['name'] == 'DOOM'].index[0]"
   ]
  },
  {
   "cell_type": "code",
   "execution_count": 51,
   "id": "d0e5b4bd",
   "metadata": {},
   "outputs": [],
   "source": [
    "def Recommendgames(game,df,similarity):\n",
    "    index  = df[df['name'] == game].index [0]\n",
    "    distance = sorted(list(enumerate(similarity[index])),reverse=True,key = lambda x: x[1])\n",
    "    result=[]\n",
    "    for i in distance[1:10]:\n",
    "        result.append(df.iloc[i[0]][0])\n",
    "    return result    "
   ]
  },
  {
   "cell_type": "code",
   "execution_count": 52,
   "id": "bbbb79b5",
   "metadata": {},
   "outputs": [],
   "source": [
    "resuls=Recommendgames('DOOM',df,cosine_similarity)"
   ]
  },
  {
   "cell_type": "code",
   "execution_count": 53,
   "id": "70e63f58",
   "metadata": {},
   "outputs": [
    {
     "data": {
      "text/html": [
       "<div>\n",
       "<style scoped>\n",
       "    .dataframe tbody tr th:only-of-type {\n",
       "        vertical-align: middle;\n",
       "    }\n",
       "\n",
       "    .dataframe tbody tr th {\n",
       "        vertical-align: top;\n",
       "    }\n",
       "\n",
       "    .dataframe thead th {\n",
       "        text-align: right;\n",
       "    }\n",
       "</style>\n",
       "<table border=\"1\" class=\"dataframe\">\n",
       "  <thead>\n",
       "    <tr style=\"text-align: right;\">\n",
       "      <th></th>\n",
       "      <th>name</th>\n",
       "      <th>genre</th>\n",
       "      <th>game_description</th>\n",
       "      <th>game_details</th>\n",
       "      <th>minimum_requirements</th>\n",
       "      <th>popular_tags</th>\n",
       "      <th>publisher</th>\n",
       "      <th>developer</th>\n",
       "      <th>types</th>\n",
       "      <th>tag</th>\n",
       "    </tr>\n",
       "  </thead>\n",
       "  <tbody>\n",
       "    <tr>\n",
       "      <th>139</th>\n",
       "      <td>DUSK</td>\n",
       "      <td>[Action,Indie]</td>\n",
       "      <td>About This Game  DUSK reintroduces you to a w...</td>\n",
       "      <td>[Single-player,Online, Multi-Player,Steam, Ach...</td>\n",
       "      <td>Minimum:,OS:,Windows 7 Or Later,Processor:,2.4...</td>\n",
       "      <td>[FPS,Retro,Action,Fast-Paced,Great, Soundtrack...</td>\n",
       "      <td>New Blood Interactive,New Blood Interactive</td>\n",
       "      <td>[David_Szymanski]</td>\n",
       "      <td>app</td>\n",
       "      <td>Single-player,Online Multi-Player,Steam Achiev...</td>\n",
       "    </tr>\n",
       "    <tr>\n",
       "      <th>183</th>\n",
       "      <td>Call of Duty®: Black Ops II</td>\n",
       "      <td>[Action]</td>\n",
       "      <td>About This Game Pushing the boundaries of wha...</td>\n",
       "      <td>[Single-player,Multi-player,Co-op,Steam, Achie...</td>\n",
       "      <td></td>\n",
       "      <td>[Action,Multiplayer,FPS,Shooter,First-Person,S...</td>\n",
       "      <td>Activision,Activision</td>\n",
       "      <td>[Treyarch]</td>\n",
       "      <td>app</td>\n",
       "      <td>Single-player,Multi-player,Co-op,Steam Achieve...</td>\n",
       "    </tr>\n",
       "    <tr>\n",
       "      <th>1294</th>\n",
       "      <td>Painkiller Hell &amp; Damnation</td>\n",
       "      <td>[Action]</td>\n",
       "      <td>About This Game  Heaven's Hitman is Back... W...</td>\n",
       "      <td>[Single-player,Multi-player,Co-op,Shared/Split...</td>\n",
       "      <td>Minimum:,OS:,Windows XP SP3, Windows Vista/7,P...</td>\n",
       "      <td>[Action,FPS,Gore,Co-op,Horror,Singleplayer,Sho...</td>\n",
       "      <td>THQ Nordic,THQ Nordic</td>\n",
       "      <td>[The_Farm_51]</td>\n",
       "      <td>app</td>\n",
       "      <td>Single-player,Multi-player,Co-op,Shared/Split ...</td>\n",
       "    </tr>\n",
       "    <tr>\n",
       "      <th>1458</th>\n",
       "      <td>The Typing of The Dead: Overkill</td>\n",
       "      <td>[Action]</td>\n",
       "      <td>About This Game Typing of the dead: Overkill ...</td>\n",
       "      <td>[Single-player,Multi-player,Steam, Achievement...</td>\n",
       "      <td>Minimum:,OS:,Windows 7 / Windows 8,Processor:,...</td>\n",
       "      <td>[Typing,On-Rails, Shooter,Zombies,Comedy,Actio...</td>\n",
       "      <td>SEGA,SEGA</td>\n",
       "      <td>[Modern_Dream]</td>\n",
       "      <td>app</td>\n",
       "      <td>Single-player,Multi-player,Steam Achievements,...</td>\n",
       "    </tr>\n",
       "    <tr>\n",
       "      <th>2283</th>\n",
       "      <td>F.E.A.R. 3</td>\n",
       "      <td>[Action]</td>\n",
       "      <td>About This Game Alma is expecting and a new l...</td>\n",
       "      <td>[Single-player,Multi-player,Co-op,Steam, Achie...</td>\n",
       "      <td>Minimum:,OS:,Windows XP,Processor:,Intel Core ...</td>\n",
       "      <td>[FPS,Horror,Co-op,Action,Multiplayer,Shooter,S...</td>\n",
       "      <td>Warner Bros. Interactive Entertainment,Warner ...</td>\n",
       "      <td>[Day_1_Studios]</td>\n",
       "      <td>app</td>\n",
       "      <td>Single-player,Multi-player,Co-op,Steam Achieve...</td>\n",
       "    </tr>\n",
       "    <tr>\n",
       "      <th>2348</th>\n",
       "      <td>Serious Sam HD: The First Encounter</td>\n",
       "      <td>[Action,Indie]</td>\n",
       "      <td>About This Game The classic arcade FPS Seriou...</td>\n",
       "      <td>[Single-player,Multi-player,Co-op,Steam, Achie...</td>\n",
       "      <td></td>\n",
       "      <td>[FPS,Action,Co-op,Shooter,Comedy,Multiplayer,G...</td>\n",
       "      <td>Devolver Digital,Devolver Digital</td>\n",
       "      <td>[Croteam]</td>\n",
       "      <td>app</td>\n",
       "      <td>Single-player,Multi-player,Co-op,Steam Achieve...</td>\n",
       "    </tr>\n",
       "    <tr>\n",
       "      <th>2432</th>\n",
       "      <td>Serious Sam HD: The Second Encounter</td>\n",
       "      <td>[Action,Indie]</td>\n",
       "      <td>About This Game The glorious high-definition ...</td>\n",
       "      <td>[Single-player,Multi-player,Co-op,Steam, Achie...</td>\n",
       "      <td></td>\n",
       "      <td>[FPS,Action,Co-op,Shooter,Comedy,Multiplayer,I...</td>\n",
       "      <td>Devolver Digital,Devolver Digital</td>\n",
       "      <td>[Croteam]</td>\n",
       "      <td>app</td>\n",
       "      <td>Single-player,Multi-player,Co-op,Steam Achieve...</td>\n",
       "    </tr>\n",
       "    <tr>\n",
       "      <th>21123</th>\n",
       "      <td>UNLOVED</td>\n",
       "      <td>[Action]</td>\n",
       "      <td>About This Game UNLOVED is based on the commu...</td>\n",
       "      <td>[Single-player,Multi-player,Co-op,Steam, Achie...</td>\n",
       "      <td>Minimum:,OS:,Windows 10, Windows 8, Windows 7 ...</td>\n",
       "      <td>[Action,Horror,FPS,Gore,Co-op,Multiplayer,Dark...</td>\n",
       "      <td>Paul Schneider,Paul Schneider</td>\n",
       "      <td>[BlueEagle_Productions]</td>\n",
       "      <td>app</td>\n",
       "      <td>Single-player,Multi-player,Co-op,Steam Achieve...</td>\n",
       "    </tr>\n",
       "    <tr>\n",
       "      <th>27648</th>\n",
       "      <td>Rise of the Triad</td>\n",
       "      <td>[Action]</td>\n",
       "      <td>About This Game Apogee Software and Intercept...</td>\n",
       "      <td>[Single-player,Multi-player,Online, Multi-Play...</td>\n",
       "      <td>Minimum:,OS:,Windows XP or Vista 32-bit,Proces...</td>\n",
       "      <td>[FPS,Action,Old, School,Fast-Paced,Remake,Gore...</td>\n",
       "      <td>Apogee Software,Apogee Software</td>\n",
       "      <td>[Slipgate_Ironworks™]</td>\n",
       "      <td>app</td>\n",
       "      <td>Single-player,Multi-player,Online Multi-Player...</td>\n",
       "    </tr>\n",
       "  </tbody>\n",
       "</table>\n",
       "</div>"
      ],
      "text/plain": [
       "                                       name           genre  \\\n",
       "139                                    DUSK  [Action,Indie]   \n",
       "183             Call of Duty®: Black Ops II        [Action]   \n",
       "1294            Painkiller Hell & Damnation        [Action]   \n",
       "1458       The Typing of The Dead: Overkill        [Action]   \n",
       "2283                             F.E.A.R. 3        [Action]   \n",
       "2348    Serious Sam HD: The First Encounter  [Action,Indie]   \n",
       "2432   Serious Sam HD: The Second Encounter  [Action,Indie]   \n",
       "21123                               UNLOVED        [Action]   \n",
       "27648                     Rise of the Triad        [Action]   \n",
       "\n",
       "                                        game_description  \\\n",
       "139     About This Game  DUSK reintroduces you to a w...   \n",
       "183     About This Game Pushing the boundaries of wha...   \n",
       "1294    About This Game  Heaven's Hitman is Back... W...   \n",
       "1458    About This Game Typing of the dead: Overkill ...   \n",
       "2283    About This Game Alma is expecting and a new l...   \n",
       "2348    About This Game The classic arcade FPS Seriou...   \n",
       "2432    About This Game The glorious high-definition ...   \n",
       "21123   About This Game UNLOVED is based on the commu...   \n",
       "27648   About This Game Apogee Software and Intercept...   \n",
       "\n",
       "                                            game_details  \\\n",
       "139    [Single-player,Online, Multi-Player,Steam, Ach...   \n",
       "183    [Single-player,Multi-player,Co-op,Steam, Achie...   \n",
       "1294   [Single-player,Multi-player,Co-op,Shared/Split...   \n",
       "1458   [Single-player,Multi-player,Steam, Achievement...   \n",
       "2283   [Single-player,Multi-player,Co-op,Steam, Achie...   \n",
       "2348   [Single-player,Multi-player,Co-op,Steam, Achie...   \n",
       "2432   [Single-player,Multi-player,Co-op,Steam, Achie...   \n",
       "21123  [Single-player,Multi-player,Co-op,Steam, Achie...   \n",
       "27648  [Single-player,Multi-player,Online, Multi-Play...   \n",
       "\n",
       "                                    minimum_requirements  \\\n",
       "139    Minimum:,OS:,Windows 7 Or Later,Processor:,2.4...   \n",
       "183                                                        \n",
       "1294   Minimum:,OS:,Windows XP SP3, Windows Vista/7,P...   \n",
       "1458   Minimum:,OS:,Windows 7 / Windows 8,Processor:,...   \n",
       "2283   Minimum:,OS:,Windows XP,Processor:,Intel Core ...   \n",
       "2348                                                       \n",
       "2432                                                       \n",
       "21123  Minimum:,OS:,Windows 10, Windows 8, Windows 7 ...   \n",
       "27648  Minimum:,OS:,Windows XP or Vista 32-bit,Proces...   \n",
       "\n",
       "                                            popular_tags  \\\n",
       "139    [FPS,Retro,Action,Fast-Paced,Great, Soundtrack...   \n",
       "183    [Action,Multiplayer,FPS,Shooter,First-Person,S...   \n",
       "1294   [Action,FPS,Gore,Co-op,Horror,Singleplayer,Sho...   \n",
       "1458   [Typing,On-Rails, Shooter,Zombies,Comedy,Actio...   \n",
       "2283   [FPS,Horror,Co-op,Action,Multiplayer,Shooter,S...   \n",
       "2348   [FPS,Action,Co-op,Shooter,Comedy,Multiplayer,G...   \n",
       "2432   [FPS,Action,Co-op,Shooter,Comedy,Multiplayer,I...   \n",
       "21123  [Action,Horror,FPS,Gore,Co-op,Multiplayer,Dark...   \n",
       "27648  [FPS,Action,Old, School,Fast-Paced,Remake,Gore...   \n",
       "\n",
       "                                               publisher  \\\n",
       "139          New Blood Interactive,New Blood Interactive   \n",
       "183                                Activision,Activision   \n",
       "1294                               THQ Nordic,THQ Nordic   \n",
       "1458                                           SEGA,SEGA   \n",
       "2283   Warner Bros. Interactive Entertainment,Warner ...   \n",
       "2348                   Devolver Digital,Devolver Digital   \n",
       "2432                   Devolver Digital,Devolver Digital   \n",
       "21123                      Paul Schneider,Paul Schneider   \n",
       "27648                    Apogee Software,Apogee Software   \n",
       "\n",
       "                     developer types  \\\n",
       "139          [David_Szymanski]   app   \n",
       "183                 [Treyarch]   app   \n",
       "1294             [The_Farm_51]   app   \n",
       "1458            [Modern_Dream]   app   \n",
       "2283           [Day_1_Studios]   app   \n",
       "2348                 [Croteam]   app   \n",
       "2432                 [Croteam]   app   \n",
       "21123  [BlueEagle_Productions]   app   \n",
       "27648    [Slipgate_Ironworks™]   app   \n",
       "\n",
       "                                                     tag  \n",
       "139    Single-player,Online Multi-Player,Steam Achiev...  \n",
       "183    Single-player,Multi-player,Co-op,Steam Achieve...  \n",
       "1294   Single-player,Multi-player,Co-op,Shared/Split ...  \n",
       "1458   Single-player,Multi-player,Steam Achievements,...  \n",
       "2283   Single-player,Multi-player,Co-op,Steam Achieve...  \n",
       "2348   Single-player,Multi-player,Co-op,Steam Achieve...  \n",
       "2432   Single-player,Multi-player,Co-op,Steam Achieve...  \n",
       "21123  Single-player,Multi-player,Co-op,Steam Achieve...  \n",
       "27648  Single-player,Multi-player,Online Multi-Player...  "
      ]
     },
     "execution_count": 53,
     "metadata": {},
     "output_type": "execute_result"
    }
   ],
   "source": [
    "result_df=df[df[\"name\"].isin(resuls)]\n",
    "result_df"
   ]
  },
  {
   "cell_type": "code",
   "execution_count": null,
   "id": "5394c275",
   "metadata": {},
   "outputs": [],
   "source": []
  }
 ],
 "metadata": {
  "colab": {
   "collapsed_sections": [
    "4CKd-BTBerZe",
    "bcc719a6",
    "vPDbJdqwe3Dt",
    "xweL0HVsfIkl",
    "65dcc7bb",
    "e5d31b40",
    "DdOlLk9JfbIN",
    "71540fd1",
    "b2a1f7ba",
    "d0a2f416",
    "19636400"
   ],
   "name": "tmdb-movie-metadata.ipynb",
   "provenance": []
  },
  "kernelspec": {
   "display_name": "Python 3",
   "language": "python",
   "name": "python3"
  },
  "language_info": {
   "codemirror_mode": {
    "name": "ipython",
    "version": 3
   },
   "file_extension": ".py",
   "mimetype": "text/x-python",
   "name": "python",
   "nbconvert_exporter": "python",
   "pygments_lexer": "ipython3",
   "version": "3.6.5"
  }
 },
 "nbformat": 4,
 "nbformat_minor": 5
}
